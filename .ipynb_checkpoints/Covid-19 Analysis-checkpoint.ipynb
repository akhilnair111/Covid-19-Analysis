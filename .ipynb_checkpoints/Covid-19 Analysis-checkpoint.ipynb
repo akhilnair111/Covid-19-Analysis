{
 "cells": [
  {
   "cell_type": "code",
   "execution_count": 85,
   "metadata": {},
   "outputs": [],
   "source": [
    "%matplotlib inline\n",
    "from IPython.display import display, HTML\n",
    "import numpy as np\n",
    "import pandas as pd\n",
    "import json\n",
    "import random\n",
    "from urllib.request import urlopen\n",
    "\n",
    "# Visualization\n",
    "import matplotlib.pyplot as plt\n",
    "import seaborn as sns\n",
    "import plotly.express as px\n",
    "import plotly.graph_objs as go\n",
    "import plotly.figure_factory as ff\n",
    "import calmap\n",
    "import folium"
   ]
  },
  {
   "cell_type": "code",
   "execution_count": 86,
   "metadata": {},
   "outputs": [
    {
     "data": {
      "text/html": [
       "<div>\n",
       "<style scoped>\n",
       "    .dataframe tbody tr th:only-of-type {\n",
       "        vertical-align: middle;\n",
       "    }\n",
       "\n",
       "    .dataframe tbody tr th {\n",
       "        vertical-align: top;\n",
       "    }\n",
       "\n",
       "    .dataframe thead th {\n",
       "        text-align: right;\n",
       "    }\n",
       "</style>\n",
       "<table border=\"1\" class=\"dataframe\">\n",
       "  <thead>\n",
       "    <tr style=\"text-align: right;\">\n",
       "      <th></th>\n",
       "      <th>Province/State</th>\n",
       "      <th>Country/Region</th>\n",
       "      <th>Lat</th>\n",
       "      <th>Long</th>\n",
       "      <th>Date</th>\n",
       "      <th>Confirmed</th>\n",
       "      <th>Deaths</th>\n",
       "      <th>Recovered</th>\n",
       "    </tr>\n",
       "  </thead>\n",
       "  <tbody>\n",
       "    <tr>\n",
       "      <td>0</td>\n",
       "      <td>NaN</td>\n",
       "      <td>Thailand</td>\n",
       "      <td>15.0000</td>\n",
       "      <td>101.0000</td>\n",
       "      <td>2020-01-22</td>\n",
       "      <td>2.0</td>\n",
       "      <td>0.0</td>\n",
       "      <td>0.0</td>\n",
       "    </tr>\n",
       "    <tr>\n",
       "      <td>1</td>\n",
       "      <td>NaN</td>\n",
       "      <td>Japan</td>\n",
       "      <td>36.0000</td>\n",
       "      <td>138.0000</td>\n",
       "      <td>2020-01-22</td>\n",
       "      <td>2.0</td>\n",
       "      <td>0.0</td>\n",
       "      <td>0.0</td>\n",
       "    </tr>\n",
       "    <tr>\n",
       "      <td>2</td>\n",
       "      <td>NaN</td>\n",
       "      <td>Singapore</td>\n",
       "      <td>1.2833</td>\n",
       "      <td>103.8333</td>\n",
       "      <td>2020-01-22</td>\n",
       "      <td>0.0</td>\n",
       "      <td>0.0</td>\n",
       "      <td>0.0</td>\n",
       "    </tr>\n",
       "    <tr>\n",
       "      <td>3</td>\n",
       "      <td>NaN</td>\n",
       "      <td>Nepal</td>\n",
       "      <td>28.1667</td>\n",
       "      <td>84.2500</td>\n",
       "      <td>2020-01-22</td>\n",
       "      <td>0.0</td>\n",
       "      <td>0.0</td>\n",
       "      <td>0.0</td>\n",
       "    </tr>\n",
       "    <tr>\n",
       "      <td>4</td>\n",
       "      <td>NaN</td>\n",
       "      <td>Malaysia</td>\n",
       "      <td>2.5000</td>\n",
       "      <td>112.5000</td>\n",
       "      <td>2020-01-22</td>\n",
       "      <td>0.0</td>\n",
       "      <td>0.0</td>\n",
       "      <td>0.0</td>\n",
       "    </tr>\n",
       "  </tbody>\n",
       "</table>\n",
       "</div>"
      ],
      "text/plain": [
       "  Province/State Country/Region      Lat      Long       Date  Confirmed  \\\n",
       "0            NaN       Thailand  15.0000  101.0000 2020-01-22        2.0   \n",
       "1            NaN          Japan  36.0000  138.0000 2020-01-22        2.0   \n",
       "2            NaN      Singapore   1.2833  103.8333 2020-01-22        0.0   \n",
       "3            NaN          Nepal  28.1667   84.2500 2020-01-22        0.0   \n",
       "4            NaN       Malaysia   2.5000  112.5000 2020-01-22        0.0   \n",
       "\n",
       "   Deaths  Recovered  \n",
       "0     0.0        0.0  \n",
       "1     0.0        0.0  \n",
       "2     0.0        0.0  \n",
       "3     0.0        0.0  \n",
       "4     0.0        0.0  "
      ]
     },
     "execution_count": 86,
     "metadata": {},
     "output_type": "execute_result"
    }
   ],
   "source": [
    "full_table = pd.read_csv('covid_19_clean_complete.csv', parse_dates=['Date'])\n",
    "full_table.head()"
   ]
  },
  {
   "cell_type": "markdown",
   "metadata": {},
   "source": [
    "##### Creating new feature \"Active_case\"\n",
    "Active_case = Confirmed - Deaths - Recovered"
   ]
  },
  {
   "cell_type": "code",
   "execution_count": 87,
   "metadata": {},
   "outputs": [],
   "source": [
    "full_table['Active'] = full_table['Confirmed'] - full_table['Deaths'] - full_table['Recovered']"
   ]
  },
  {
   "cell_type": "code",
   "execution_count": 88,
   "metadata": {},
   "outputs": [
    {
     "name": "stdout",
     "output_type": "stream",
     "text": [
      "<class 'pandas.core.frame.DataFrame'>\n",
      "RangeIndex: 19220 entries, 0 to 19219\n",
      "Data columns (total 9 columns):\n",
      "Province/State    8432 non-null object\n",
      "Country/Region    19220 non-null object\n",
      "Lat               19220 non-null float64\n",
      "Long              19220 non-null float64\n",
      "Date              19220 non-null datetime64[ns]\n",
      "Confirmed         19219 non-null float64\n",
      "Deaths            19219 non-null float64\n",
      "Recovered         19219 non-null float64\n",
      "Active            19219 non-null float64\n",
      "dtypes: datetime64[ns](1), float64(6), object(2)\n",
      "memory usage: 1.3+ MB\n"
     ]
    }
   ],
   "source": [
    "full_table.info()"
   ]
  },
  {
   "cell_type": "code",
   "execution_count": 89,
   "metadata": {},
   "outputs": [
    {
     "data": {
      "text/plain": [
       "Province/State    10788\n",
       "Country/Region        0\n",
       "Lat                   0\n",
       "Long                  0\n",
       "Date                  0\n",
       "Confirmed             1\n",
       "Deaths                1\n",
       "Recovered             1\n",
       "Active                1\n",
       "dtype: int64"
      ]
     },
     "execution_count": 89,
     "metadata": {},
     "output_type": "execute_result"
    }
   ],
   "source": [
    "full_table.isna().sum()"
   ]
  },
  {
   "cell_type": "code",
   "execution_count": 90,
   "metadata": {},
   "outputs": [
    {
     "data": {
      "text/plain": [
       "array(['Thailand', 'Japan', 'Singapore', 'Nepal', 'Malaysia', 'Canada',\n",
       "       'Australia', 'Cambodia', 'Sri Lanka', 'Germany', 'Finland',\n",
       "       'United Arab Emirates', 'Philippines', 'India', 'Italy', 'Sweden',\n",
       "       'Spain', 'Belgium', 'Egypt', 'Lebanon', 'Iraq', 'Oman',\n",
       "       'Afghanistan', 'Bahrain', 'Kuwait', 'Algeria', 'Croatia',\n",
       "       'Switzerland', 'Austria', 'Israel', 'Pakistan', 'Brazil',\n",
       "       'Georgia', 'Greece', 'North Macedonia', 'Norway', 'Romania',\n",
       "       'Estonia', 'San Marino', 'Belarus', 'Iceland', 'Lithuania',\n",
       "       'Mexico', 'New Zealand', 'Nigeria', 'Ireland', 'Luxembourg',\n",
       "       'Monaco', 'Qatar', 'Ecuador', 'Azerbaijan', 'Armenia',\n",
       "       'Dominican Republic', 'Indonesia', 'Portugal', 'Andorra', 'Latvia',\n",
       "       'Morocco', 'Saudi Arabia', 'Senegal', 'Argentina', 'Chile',\n",
       "       'Jordan', 'Ukraine', 'Hungary', 'Liechtenstein', 'Poland',\n",
       "       'Tunisia', 'Bosnia and Herzegovina', 'Slovenia', 'South Africa',\n",
       "       'Bhutan', 'Cameroon', 'Colombia', 'Costa Rica', 'Peru', 'Serbia',\n",
       "       'Slovakia', 'Togo', 'Malta', 'Martinique', 'Bulgaria', 'Maldives',\n",
       "       'Bangladesh', 'Paraguay', 'Albania', 'Cyprus', 'Brunei', 'US',\n",
       "       'Burkina Faso', 'Holy See', 'Mongolia', 'Panama', 'China', 'Iran',\n",
       "       'South Korea', 'France', 'Cruise Ship', 'Denmark', 'Czechia',\n",
       "       'Taiwan', 'Vietnam', 'Russia', 'Moldova', 'Bolivia', 'Honduras',\n",
       "       'United Kingdom', 'Congo (Kinshasa)', \"Cote d'Ivoire\", 'Jamaica',\n",
       "       'Turkey', 'Cuba', 'Guyana', 'Kazakhstan', 'Ethiopia', 'Sudan',\n",
       "       'Guinea', 'Kenya', 'Antigua and Barbuda', 'Uruguay', 'Ghana',\n",
       "       'Namibia', 'Seychelles', 'Trinidad and Tobago', 'Venezuela',\n",
       "       'Eswatini', 'Gabon', 'Guatemala', 'Mauritania', 'Rwanda',\n",
       "       'Saint Lucia', 'Saint Vincent and the Grenadines', 'Suriname',\n",
       "       'Kosovo', 'Central African Republic', 'Congo (Brazzaville)',\n",
       "       'Equatorial Guinea', 'Uzbekistan', 'Netherlands', 'Benin',\n",
       "       'Liberia', 'Somalia', 'Tanzania', 'Barbados', 'Montenegro',\n",
       "       'Kyrgyzstan', 'Mauritius', 'Zambia', 'Djibouti', 'Gambia, The',\n",
       "       'Bahamas, The', 'Chad', 'El Salvador', 'Fiji', 'Nicaragua',\n",
       "       'Madagascar', 'Haiti', 'Angola', 'Cabo Verde', 'Niger',\n",
       "       'Papua New Guinea', 'Zimbabwe', 'Cape Verde', 'East Timor',\n",
       "       'Eritrea', 'Uganda', 'Dominica', 'Grenada', 'Mozambique', 'Syria',\n",
       "       'Timor-Leste', 'Guadeloupe', 'Reunion', 'French Guiana', 'Mayotte',\n",
       "       'Greenland', 'Guam', 'Guernsey', 'Jersey', 'Puerto Rico',\n",
       "       'Republic of the Congo', 'The Bahamas', 'The Gambia'], dtype=object)"
      ]
     },
     "execution_count": 90,
     "metadata": {},
     "output_type": "execute_result"
    }
   ],
   "source": [
    "full_table['Country/Region'].unique()"
   ]
  },
  {
   "cell_type": "code",
   "execution_count": 91,
   "metadata": {},
   "outputs": [],
   "source": [
    "full_table['Country/Region'] = full_table['Country/Region'].replace('Mainland China', 'China')"
   ]
  },
  {
   "cell_type": "code",
   "execution_count": 92,
   "metadata": {},
   "outputs": [
    {
     "data": {
      "text/html": [
       "<div>\n",
       "<style scoped>\n",
       "    .dataframe tbody tr th:only-of-type {\n",
       "        vertical-align: middle;\n",
       "    }\n",
       "\n",
       "    .dataframe tbody tr th {\n",
       "        vertical-align: top;\n",
       "    }\n",
       "\n",
       "    .dataframe thead th {\n",
       "        text-align: right;\n",
       "    }\n",
       "</style>\n",
       "<table border=\"1\" class=\"dataframe\">\n",
       "  <thead>\n",
       "    <tr style=\"text-align: right;\">\n",
       "      <th></th>\n",
       "      <th>Province/State</th>\n",
       "      <th>Country/Region</th>\n",
       "      <th>Lat</th>\n",
       "      <th>Long</th>\n",
       "      <th>Date</th>\n",
       "      <th>Confirmed</th>\n",
       "      <th>Deaths</th>\n",
       "      <th>Recovered</th>\n",
       "      <th>Active</th>\n",
       "    </tr>\n",
       "  </thead>\n",
       "  <tbody>\n",
       "    <tr>\n",
       "      <td>154</td>\n",
       "      <td>Hubei</td>\n",
       "      <td>China</td>\n",
       "      <td>30.9756</td>\n",
       "      <td>112.2707</td>\n",
       "      <td>2020-01-22</td>\n",
       "      <td>444.0</td>\n",
       "      <td>17.0</td>\n",
       "      <td>28.0</td>\n",
       "      <td>399.0</td>\n",
       "    </tr>\n",
       "    <tr>\n",
       "      <td>158</td>\n",
       "      <td>Guangdong</td>\n",
       "      <td>China</td>\n",
       "      <td>23.3417</td>\n",
       "      <td>113.4244</td>\n",
       "      <td>2020-01-22</td>\n",
       "      <td>26.0</td>\n",
       "      <td>0.0</td>\n",
       "      <td>0.0</td>\n",
       "      <td>26.0</td>\n",
       "    </tr>\n",
       "    <tr>\n",
       "      <td>159</td>\n",
       "      <td>Henan</td>\n",
       "      <td>China</td>\n",
       "      <td>33.8820</td>\n",
       "      <td>113.6140</td>\n",
       "      <td>2020-01-22</td>\n",
       "      <td>5.0</td>\n",
       "      <td>0.0</td>\n",
       "      <td>0.0</td>\n",
       "      <td>5.0</td>\n",
       "    </tr>\n",
       "    <tr>\n",
       "      <td>160</td>\n",
       "      <td>Zhejiang</td>\n",
       "      <td>China</td>\n",
       "      <td>29.1832</td>\n",
       "      <td>120.0934</td>\n",
       "      <td>2020-01-22</td>\n",
       "      <td>10.0</td>\n",
       "      <td>0.0</td>\n",
       "      <td>0.0</td>\n",
       "      <td>10.0</td>\n",
       "    </tr>\n",
       "    <tr>\n",
       "      <td>161</td>\n",
       "      <td>Hunan</td>\n",
       "      <td>China</td>\n",
       "      <td>27.6104</td>\n",
       "      <td>111.7088</td>\n",
       "      <td>2020-01-22</td>\n",
       "      <td>4.0</td>\n",
       "      <td>0.0</td>\n",
       "      <td>0.0</td>\n",
       "      <td>4.0</td>\n",
       "    </tr>\n",
       "    <tr>\n",
       "      <td>...</td>\n",
       "      <td>...</td>\n",
       "      <td>...</td>\n",
       "      <td>...</td>\n",
       "      <td>...</td>\n",
       "      <td>...</td>\n",
       "      <td>...</td>\n",
       "      <td>...</td>\n",
       "      <td>...</td>\n",
       "      <td>...</td>\n",
       "    </tr>\n",
       "    <tr>\n",
       "      <td>19098</td>\n",
       "      <td>Inner Mongolia</td>\n",
       "      <td>China</td>\n",
       "      <td>44.0935</td>\n",
       "      <td>113.9448</td>\n",
       "      <td>2020-03-23</td>\n",
       "      <td>75.0</td>\n",
       "      <td>1.0</td>\n",
       "      <td>74.0</td>\n",
       "      <td>0.0</td>\n",
       "    </tr>\n",
       "    <tr>\n",
       "      <td>19099</td>\n",
       "      <td>Ningxia</td>\n",
       "      <td>China</td>\n",
       "      <td>37.2692</td>\n",
       "      <td>106.1655</td>\n",
       "      <td>2020-03-23</td>\n",
       "      <td>75.0</td>\n",
       "      <td>0.0</td>\n",
       "      <td>75.0</td>\n",
       "      <td>0.0</td>\n",
       "    </tr>\n",
       "    <tr>\n",
       "      <td>19103</td>\n",
       "      <td>Qinghai</td>\n",
       "      <td>China</td>\n",
       "      <td>35.7452</td>\n",
       "      <td>95.9956</td>\n",
       "      <td>2020-03-23</td>\n",
       "      <td>18.0</td>\n",
       "      <td>0.0</td>\n",
       "      <td>18.0</td>\n",
       "      <td>0.0</td>\n",
       "    </tr>\n",
       "    <tr>\n",
       "      <td>19104</td>\n",
       "      <td>Macau</td>\n",
       "      <td>China</td>\n",
       "      <td>22.1667</td>\n",
       "      <td>113.5500</td>\n",
       "      <td>2020-03-23</td>\n",
       "      <td>24.0</td>\n",
       "      <td>0.0</td>\n",
       "      <td>10.0</td>\n",
       "      <td>14.0</td>\n",
       "    </tr>\n",
       "    <tr>\n",
       "      <td>19112</td>\n",
       "      <td>Tibet</td>\n",
       "      <td>China</td>\n",
       "      <td>31.6927</td>\n",
       "      <td>88.0924</td>\n",
       "      <td>2020-03-23</td>\n",
       "      <td>1.0</td>\n",
       "      <td>0.0</td>\n",
       "      <td>1.0</td>\n",
       "      <td>0.0</td>\n",
       "    </tr>\n",
       "  </tbody>\n",
       "</table>\n",
       "<p>2046 rows × 9 columns</p>\n",
       "</div>"
      ],
      "text/plain": [
       "       Province/State Country/Region      Lat      Long       Date  Confirmed  \\\n",
       "154             Hubei          China  30.9756  112.2707 2020-01-22      444.0   \n",
       "158         Guangdong          China  23.3417  113.4244 2020-01-22       26.0   \n",
       "159             Henan          China  33.8820  113.6140 2020-01-22        5.0   \n",
       "160          Zhejiang          China  29.1832  120.0934 2020-01-22       10.0   \n",
       "161             Hunan          China  27.6104  111.7088 2020-01-22        4.0   \n",
       "...               ...            ...      ...       ...        ...        ...   \n",
       "19098  Inner Mongolia          China  44.0935  113.9448 2020-03-23       75.0   \n",
       "19099         Ningxia          China  37.2692  106.1655 2020-03-23       75.0   \n",
       "19103         Qinghai          China  35.7452   95.9956 2020-03-23       18.0   \n",
       "19104           Macau          China  22.1667  113.5500 2020-03-23       24.0   \n",
       "19112           Tibet          China  31.6927   88.0924 2020-03-23        1.0   \n",
       "\n",
       "       Deaths  Recovered  Active  \n",
       "154      17.0       28.0   399.0  \n",
       "158       0.0        0.0    26.0  \n",
       "159       0.0        0.0     5.0  \n",
       "160       0.0        0.0    10.0  \n",
       "161       0.0        0.0     4.0  \n",
       "...       ...        ...     ...  \n",
       "19098     1.0       74.0     0.0  \n",
       "19099     0.0       75.0     0.0  \n",
       "19103     0.0       18.0     0.0  \n",
       "19104     0.0       10.0    14.0  \n",
       "19112     0.0        1.0     0.0  \n",
       "\n",
       "[2046 rows x 9 columns]"
      ]
     },
     "execution_count": 92,
     "metadata": {},
     "output_type": "execute_result"
    }
   ],
   "source": [
    "full_table[full_table['Country/Region'] == 'China']"
   ]
  },
  {
   "cell_type": "code",
   "execution_count": 93,
   "metadata": {},
   "outputs": [
    {
     "data": {
      "text/html": [
       "<div>\n",
       "<style scoped>\n",
       "    .dataframe tbody tr th:only-of-type {\n",
       "        vertical-align: middle;\n",
       "    }\n",
       "\n",
       "    .dataframe tbody tr th {\n",
       "        vertical-align: top;\n",
       "    }\n",
       "\n",
       "    .dataframe thead th {\n",
       "        text-align: right;\n",
       "    }\n",
       "</style>\n",
       "<table border=\"1\" class=\"dataframe\">\n",
       "  <thead>\n",
       "    <tr style=\"text-align: right;\">\n",
       "      <th></th>\n",
       "      <th>Province/State</th>\n",
       "      <th>Country/Region</th>\n",
       "      <th>Lat</th>\n",
       "      <th>Long</th>\n",
       "      <th>Date</th>\n",
       "      <th>Confirmed</th>\n",
       "      <th>Deaths</th>\n",
       "      <th>Recovered</th>\n",
       "      <th>Active</th>\n",
       "    </tr>\n",
       "  </thead>\n",
       "  <tbody>\n",
       "    <tr>\n",
       "      <td>0</td>\n",
       "      <td>NaN</td>\n",
       "      <td>Thailand</td>\n",
       "      <td>15.0000</td>\n",
       "      <td>101.0000</td>\n",
       "      <td>2020-01-22</td>\n",
       "      <td>2.0</td>\n",
       "      <td>0.0</td>\n",
       "      <td>0.0</td>\n",
       "      <td>2.0</td>\n",
       "    </tr>\n",
       "    <tr>\n",
       "      <td>1</td>\n",
       "      <td>NaN</td>\n",
       "      <td>Japan</td>\n",
       "      <td>36.0000</td>\n",
       "      <td>138.0000</td>\n",
       "      <td>2020-01-22</td>\n",
       "      <td>2.0</td>\n",
       "      <td>0.0</td>\n",
       "      <td>0.0</td>\n",
       "      <td>2.0</td>\n",
       "    </tr>\n",
       "    <tr>\n",
       "      <td>2</td>\n",
       "      <td>NaN</td>\n",
       "      <td>Singapore</td>\n",
       "      <td>1.2833</td>\n",
       "      <td>103.8333</td>\n",
       "      <td>2020-01-22</td>\n",
       "      <td>0.0</td>\n",
       "      <td>0.0</td>\n",
       "      <td>0.0</td>\n",
       "      <td>0.0</td>\n",
       "    </tr>\n",
       "    <tr>\n",
       "      <td>3</td>\n",
       "      <td>NaN</td>\n",
       "      <td>Nepal</td>\n",
       "      <td>28.1667</td>\n",
       "      <td>84.2500</td>\n",
       "      <td>2020-01-22</td>\n",
       "      <td>0.0</td>\n",
       "      <td>0.0</td>\n",
       "      <td>0.0</td>\n",
       "      <td>0.0</td>\n",
       "    </tr>\n",
       "    <tr>\n",
       "      <td>4</td>\n",
       "      <td>NaN</td>\n",
       "      <td>Malaysia</td>\n",
       "      <td>2.5000</td>\n",
       "      <td>112.5000</td>\n",
       "      <td>2020-01-22</td>\n",
       "      <td>0.0</td>\n",
       "      <td>0.0</td>\n",
       "      <td>0.0</td>\n",
       "      <td>0.0</td>\n",
       "    </tr>\n",
       "  </tbody>\n",
       "</table>\n",
       "</div>"
      ],
      "text/plain": [
       "  Province/State Country/Region      Lat      Long       Date  Confirmed  \\\n",
       "0            NaN       Thailand  15.0000  101.0000 2020-01-22        2.0   \n",
       "1            NaN          Japan  36.0000  138.0000 2020-01-22        2.0   \n",
       "2            NaN      Singapore   1.2833  103.8333 2020-01-22        0.0   \n",
       "3            NaN          Nepal  28.1667   84.2500 2020-01-22        0.0   \n",
       "4            NaN       Malaysia   2.5000  112.5000 2020-01-22        0.0   \n",
       "\n",
       "   Deaths  Recovered  Active  \n",
       "0     0.0        0.0     2.0  \n",
       "1     0.0        0.0     2.0  \n",
       "2     0.0        0.0     0.0  \n",
       "3     0.0        0.0     0.0  \n",
       "4     0.0        0.0     0.0  "
      ]
     },
     "execution_count": 93,
     "metadata": {},
     "output_type": "execute_result"
    }
   ],
   "source": [
    "full_table.head()"
   ]
  },
  {
   "cell_type": "code",
   "execution_count": 94,
   "metadata": {},
   "outputs": [],
   "source": [
    "full_table[['Province/State']] = full_table[['Province/State']].fillna('')"
   ]
  },
  {
   "cell_type": "code",
   "execution_count": 95,
   "metadata": {},
   "outputs": [],
   "source": [
    "# India, china and the rest\n",
    "India = full_table[full_table['Country/Region']=='India']\n",
    "China = full_table[full_table['Country/Region']=='China']\n",
    "Rest = full_table[full_table['Country/Region']!=('China', 'India')]"
   ]
  },
  {
   "cell_type": "markdown",
   "metadata": {},
   "source": [
    "## Latest Data"
   ]
  },
  {
   "cell_type": "code",
   "execution_count": 96,
   "metadata": {},
   "outputs": [
    {
     "data": {
      "text/html": [
       "<style  type=\"text/css\" >\n",
       "    #T_e9290f26_6e93_11ea_9b5d_705a0f1a5828row0_col1 {\n",
       "            background-color:  #fbb4ae;\n",
       "            color:  #000000;\n",
       "        }    #T_e9290f26_6e93_11ea_9b5d_705a0f1a5828row0_col2 {\n",
       "            background-color:  #fbb4ae;\n",
       "            color:  #000000;\n",
       "        }    #T_e9290f26_6e93_11ea_9b5d_705a0f1a5828row0_col3 {\n",
       "            background-color:  #fbb4ae;\n",
       "            color:  #000000;\n",
       "        }    #T_e9290f26_6e93_11ea_9b5d_705a0f1a5828row0_col4 {\n",
       "            background-color:  #fbb4ae;\n",
       "            color:  #000000;\n",
       "        }</style><table id=\"T_e9290f26_6e93_11ea_9b5d_705a0f1a5828\" ><thead>    <tr>        <th class=\"blank level0\" ></th>        <th class=\"col_heading level0 col0\" >Date</th>        <th class=\"col_heading level0 col1\" >Confirmed</th>        <th class=\"col_heading level0 col2\" >Deaths</th>        <th class=\"col_heading level0 col3\" >Recovered</th>        <th class=\"col_heading level0 col4\" >Active</th>    </tr></thead><tbody>\n",
       "                <tr>\n",
       "                        <th id=\"T_e9290f26_6e93_11ea_9b5d_705a0f1a5828level0_row0\" class=\"row_heading level0 row0\" >0</th>\n",
       "                        <td id=\"T_e9290f26_6e93_11ea_9b5d_705a0f1a5828row0_col0\" class=\"data row0 col0\" >2020-03-23 00:00:00</td>\n",
       "                        <td id=\"T_e9290f26_6e93_11ea_9b5d_705a0f1a5828row0_col1\" class=\"data row0 col1\" >336004</td>\n",
       "                        <td id=\"T_e9290f26_6e93_11ea_9b5d_705a0f1a5828row0_col2\" class=\"data row0 col2\" >14643</td>\n",
       "                        <td id=\"T_e9290f26_6e93_11ea_9b5d_705a0f1a5828row0_col3\" class=\"data row0 col3\" >98334</td>\n",
       "                        <td id=\"T_e9290f26_6e93_11ea_9b5d_705a0f1a5828row0_col4\" class=\"data row0 col4\" >223027</td>\n",
       "            </tr>\n",
       "    </tbody></table>"
      ],
      "text/plain": [
       "<pandas.io.formats.style.Styler at 0x2b172a7ea08>"
      ]
     },
     "execution_count": 96,
     "metadata": {},
     "output_type": "execute_result"
    }
   ],
   "source": [
    "temp = full_table.groupby('Date')['Confirmed', 'Deaths', 'Recovered', 'Active'].sum().reset_index()\n",
    "temp = temp[temp['Date']==max(temp['Date'])].reset_index(drop=True)\n",
    "temp.style.background_gradient(cmap='Pastel1')"
   ]
  },
  {
   "cell_type": "code",
   "execution_count": 97,
   "metadata": {},
   "outputs": [],
   "source": [
    "# color pallette\n",
    "cnf = '#393e46' # confirmed - grey\n",
    "dth = '#ff2e63' # death - red\n",
    "rec = '#21bf73' # recovered - cyan\n",
    "act = '#fe9801' # active case - yellow"
   ]
  },
  {
   "cell_type": "code",
   "execution_count": 98,
   "metadata": {},
   "outputs": [
    {
     "data": {
      "application/vnd.plotly.v1+json": {
       "config": {
        "plotlyServerURL": "https://plot.ly"
       },
       "data": [
        {
         "branchvalues": "total",
         "domain": {
          "x": [
           0,
           1
          ],
          "y": [
           0,
           1
          ]
         },
         "hoverlabel": {
          "namelength": 0
         },
         "hovertemplate": "labels=%{label}<br>value=%{value}<br>parent=%{parent}<br>id=%{id}",
         "ids": [
          "Active",
          "Deaths",
          "Recovered"
         ],
         "labels": [
          "Active",
          "Deaths",
          "Recovered"
         ],
         "name": "",
         "parents": [
          "",
          "",
          ""
         ],
         "type": "treemap",
         "values": [
          223027,
          14643,
          98334
         ]
        }
       ],
       "layout": {
        "height": 400,
        "legend": {
         "tracegroupgap": 0
        },
        "margin": {
         "t": 60
        },
        "template": {
         "data": {
          "bar": [
           {
            "error_x": {
             "color": "#2a3f5f"
            },
            "error_y": {
             "color": "#2a3f5f"
            },
            "marker": {
             "line": {
              "color": "#E5ECF6",
              "width": 0.5
             }
            },
            "type": "bar"
           }
          ],
          "barpolar": [
           {
            "marker": {
             "line": {
              "color": "#E5ECF6",
              "width": 0.5
             }
            },
            "type": "barpolar"
           }
          ],
          "carpet": [
           {
            "aaxis": {
             "endlinecolor": "#2a3f5f",
             "gridcolor": "white",
             "linecolor": "white",
             "minorgridcolor": "white",
             "startlinecolor": "#2a3f5f"
            },
            "baxis": {
             "endlinecolor": "#2a3f5f",
             "gridcolor": "white",
             "linecolor": "white",
             "minorgridcolor": "white",
             "startlinecolor": "#2a3f5f"
            },
            "type": "carpet"
           }
          ],
          "choropleth": [
           {
            "colorbar": {
             "outlinewidth": 0,
             "ticks": ""
            },
            "type": "choropleth"
           }
          ],
          "contour": [
           {
            "colorbar": {
             "outlinewidth": 0,
             "ticks": ""
            },
            "colorscale": [
             [
              0,
              "#0d0887"
             ],
             [
              0.1111111111111111,
              "#46039f"
             ],
             [
              0.2222222222222222,
              "#7201a8"
             ],
             [
              0.3333333333333333,
              "#9c179e"
             ],
             [
              0.4444444444444444,
              "#bd3786"
             ],
             [
              0.5555555555555556,
              "#d8576b"
             ],
             [
              0.6666666666666666,
              "#ed7953"
             ],
             [
              0.7777777777777778,
              "#fb9f3a"
             ],
             [
              0.8888888888888888,
              "#fdca26"
             ],
             [
              1,
              "#f0f921"
             ]
            ],
            "type": "contour"
           }
          ],
          "contourcarpet": [
           {
            "colorbar": {
             "outlinewidth": 0,
             "ticks": ""
            },
            "type": "contourcarpet"
           }
          ],
          "heatmap": [
           {
            "colorbar": {
             "outlinewidth": 0,
             "ticks": ""
            },
            "colorscale": [
             [
              0,
              "#0d0887"
             ],
             [
              0.1111111111111111,
              "#46039f"
             ],
             [
              0.2222222222222222,
              "#7201a8"
             ],
             [
              0.3333333333333333,
              "#9c179e"
             ],
             [
              0.4444444444444444,
              "#bd3786"
             ],
             [
              0.5555555555555556,
              "#d8576b"
             ],
             [
              0.6666666666666666,
              "#ed7953"
             ],
             [
              0.7777777777777778,
              "#fb9f3a"
             ],
             [
              0.8888888888888888,
              "#fdca26"
             ],
             [
              1,
              "#f0f921"
             ]
            ],
            "type": "heatmap"
           }
          ],
          "heatmapgl": [
           {
            "colorbar": {
             "outlinewidth": 0,
             "ticks": ""
            },
            "colorscale": [
             [
              0,
              "#0d0887"
             ],
             [
              0.1111111111111111,
              "#46039f"
             ],
             [
              0.2222222222222222,
              "#7201a8"
             ],
             [
              0.3333333333333333,
              "#9c179e"
             ],
             [
              0.4444444444444444,
              "#bd3786"
             ],
             [
              0.5555555555555556,
              "#d8576b"
             ],
             [
              0.6666666666666666,
              "#ed7953"
             ],
             [
              0.7777777777777778,
              "#fb9f3a"
             ],
             [
              0.8888888888888888,
              "#fdca26"
             ],
             [
              1,
              "#f0f921"
             ]
            ],
            "type": "heatmapgl"
           }
          ],
          "histogram": [
           {
            "marker": {
             "colorbar": {
              "outlinewidth": 0,
              "ticks": ""
             }
            },
            "type": "histogram"
           }
          ],
          "histogram2d": [
           {
            "colorbar": {
             "outlinewidth": 0,
             "ticks": ""
            },
            "colorscale": [
             [
              0,
              "#0d0887"
             ],
             [
              0.1111111111111111,
              "#46039f"
             ],
             [
              0.2222222222222222,
              "#7201a8"
             ],
             [
              0.3333333333333333,
              "#9c179e"
             ],
             [
              0.4444444444444444,
              "#bd3786"
             ],
             [
              0.5555555555555556,
              "#d8576b"
             ],
             [
              0.6666666666666666,
              "#ed7953"
             ],
             [
              0.7777777777777778,
              "#fb9f3a"
             ],
             [
              0.8888888888888888,
              "#fdca26"
             ],
             [
              1,
              "#f0f921"
             ]
            ],
            "type": "histogram2d"
           }
          ],
          "histogram2dcontour": [
           {
            "colorbar": {
             "outlinewidth": 0,
             "ticks": ""
            },
            "colorscale": [
             [
              0,
              "#0d0887"
             ],
             [
              0.1111111111111111,
              "#46039f"
             ],
             [
              0.2222222222222222,
              "#7201a8"
             ],
             [
              0.3333333333333333,
              "#9c179e"
             ],
             [
              0.4444444444444444,
              "#bd3786"
             ],
             [
              0.5555555555555556,
              "#d8576b"
             ],
             [
              0.6666666666666666,
              "#ed7953"
             ],
             [
              0.7777777777777778,
              "#fb9f3a"
             ],
             [
              0.8888888888888888,
              "#fdca26"
             ],
             [
              1,
              "#f0f921"
             ]
            ],
            "type": "histogram2dcontour"
           }
          ],
          "mesh3d": [
           {
            "colorbar": {
             "outlinewidth": 0,
             "ticks": ""
            },
            "type": "mesh3d"
           }
          ],
          "parcoords": [
           {
            "line": {
             "colorbar": {
              "outlinewidth": 0,
              "ticks": ""
             }
            },
            "type": "parcoords"
           }
          ],
          "pie": [
           {
            "automargin": true,
            "type": "pie"
           }
          ],
          "scatter": [
           {
            "marker": {
             "colorbar": {
              "outlinewidth": 0,
              "ticks": ""
             }
            },
            "type": "scatter"
           }
          ],
          "scatter3d": [
           {
            "line": {
             "colorbar": {
              "outlinewidth": 0,
              "ticks": ""
             }
            },
            "marker": {
             "colorbar": {
              "outlinewidth": 0,
              "ticks": ""
             }
            },
            "type": "scatter3d"
           }
          ],
          "scattercarpet": [
           {
            "marker": {
             "colorbar": {
              "outlinewidth": 0,
              "ticks": ""
             }
            },
            "type": "scattercarpet"
           }
          ],
          "scattergeo": [
           {
            "marker": {
             "colorbar": {
              "outlinewidth": 0,
              "ticks": ""
             }
            },
            "type": "scattergeo"
           }
          ],
          "scattergl": [
           {
            "marker": {
             "colorbar": {
              "outlinewidth": 0,
              "ticks": ""
             }
            },
            "type": "scattergl"
           }
          ],
          "scattermapbox": [
           {
            "marker": {
             "colorbar": {
              "outlinewidth": 0,
              "ticks": ""
             }
            },
            "type": "scattermapbox"
           }
          ],
          "scatterpolar": [
           {
            "marker": {
             "colorbar": {
              "outlinewidth": 0,
              "ticks": ""
             }
            },
            "type": "scatterpolar"
           }
          ],
          "scatterpolargl": [
           {
            "marker": {
             "colorbar": {
              "outlinewidth": 0,
              "ticks": ""
             }
            },
            "type": "scatterpolargl"
           }
          ],
          "scatterternary": [
           {
            "marker": {
             "colorbar": {
              "outlinewidth": 0,
              "ticks": ""
             }
            },
            "type": "scatterternary"
           }
          ],
          "surface": [
           {
            "colorbar": {
             "outlinewidth": 0,
             "ticks": ""
            },
            "colorscale": [
             [
              0,
              "#0d0887"
             ],
             [
              0.1111111111111111,
              "#46039f"
             ],
             [
              0.2222222222222222,
              "#7201a8"
             ],
             [
              0.3333333333333333,
              "#9c179e"
             ],
             [
              0.4444444444444444,
              "#bd3786"
             ],
             [
              0.5555555555555556,
              "#d8576b"
             ],
             [
              0.6666666666666666,
              "#ed7953"
             ],
             [
              0.7777777777777778,
              "#fb9f3a"
             ],
             [
              0.8888888888888888,
              "#fdca26"
             ],
             [
              1,
              "#f0f921"
             ]
            ],
            "type": "surface"
           }
          ],
          "table": [
           {
            "cells": {
             "fill": {
              "color": "#EBF0F8"
             },
             "line": {
              "color": "white"
             }
            },
            "header": {
             "fill": {
              "color": "#C8D4E3"
             },
             "line": {
              "color": "white"
             }
            },
            "type": "table"
           }
          ]
         },
         "layout": {
          "annotationdefaults": {
           "arrowcolor": "#2a3f5f",
           "arrowhead": 0,
           "arrowwidth": 1
          },
          "coloraxis": {
           "colorbar": {
            "outlinewidth": 0,
            "ticks": ""
           }
          },
          "colorscale": {
           "diverging": [
            [
             0,
             "#8e0152"
            ],
            [
             0.1,
             "#c51b7d"
            ],
            [
             0.2,
             "#de77ae"
            ],
            [
             0.3,
             "#f1b6da"
            ],
            [
             0.4,
             "#fde0ef"
            ],
            [
             0.5,
             "#f7f7f7"
            ],
            [
             0.6,
             "#e6f5d0"
            ],
            [
             0.7,
             "#b8e186"
            ],
            [
             0.8,
             "#7fbc41"
            ],
            [
             0.9,
             "#4d9221"
            ],
            [
             1,
             "#276419"
            ]
           ],
           "sequential": [
            [
             0,
             "#0d0887"
            ],
            [
             0.1111111111111111,
             "#46039f"
            ],
            [
             0.2222222222222222,
             "#7201a8"
            ],
            [
             0.3333333333333333,
             "#9c179e"
            ],
            [
             0.4444444444444444,
             "#bd3786"
            ],
            [
             0.5555555555555556,
             "#d8576b"
            ],
            [
             0.6666666666666666,
             "#ed7953"
            ],
            [
             0.7777777777777778,
             "#fb9f3a"
            ],
            [
             0.8888888888888888,
             "#fdca26"
            ],
            [
             1,
             "#f0f921"
            ]
           ],
           "sequentialminus": [
            [
             0,
             "#0d0887"
            ],
            [
             0.1111111111111111,
             "#46039f"
            ],
            [
             0.2222222222222222,
             "#7201a8"
            ],
            [
             0.3333333333333333,
             "#9c179e"
            ],
            [
             0.4444444444444444,
             "#bd3786"
            ],
            [
             0.5555555555555556,
             "#d8576b"
            ],
            [
             0.6666666666666666,
             "#ed7953"
            ],
            [
             0.7777777777777778,
             "#fb9f3a"
            ],
            [
             0.8888888888888888,
             "#fdca26"
            ],
            [
             1,
             "#f0f921"
            ]
           ]
          },
          "colorway": [
           "#636efa",
           "#EF553B",
           "#00cc96",
           "#ab63fa",
           "#FFA15A",
           "#19d3f3",
           "#FF6692",
           "#B6E880",
           "#FF97FF",
           "#FECB52"
          ],
          "font": {
           "color": "#2a3f5f"
          },
          "geo": {
           "bgcolor": "white",
           "lakecolor": "white",
           "landcolor": "#E5ECF6",
           "showlakes": true,
           "showland": true,
           "subunitcolor": "white"
          },
          "hoverlabel": {
           "align": "left"
          },
          "hovermode": "closest",
          "mapbox": {
           "style": "light"
          },
          "paper_bgcolor": "white",
          "plot_bgcolor": "#E5ECF6",
          "polar": {
           "angularaxis": {
            "gridcolor": "white",
            "linecolor": "white",
            "ticks": ""
           },
           "bgcolor": "#E5ECF6",
           "radialaxis": {
            "gridcolor": "white",
            "linecolor": "white",
            "ticks": ""
           }
          },
          "scene": {
           "xaxis": {
            "backgroundcolor": "#E5ECF6",
            "gridcolor": "white",
            "gridwidth": 2,
            "linecolor": "white",
            "showbackground": true,
            "ticks": "",
            "zerolinecolor": "white"
           },
           "yaxis": {
            "backgroundcolor": "#E5ECF6",
            "gridcolor": "white",
            "gridwidth": 2,
            "linecolor": "white",
            "showbackground": true,
            "ticks": "",
            "zerolinecolor": "white"
           },
           "zaxis": {
            "backgroundcolor": "#E5ECF6",
            "gridcolor": "white",
            "gridwidth": 2,
            "linecolor": "white",
            "showbackground": true,
            "ticks": "",
            "zerolinecolor": "white"
           }
          },
          "shapedefaults": {
           "line": {
            "color": "#2a3f5f"
           }
          },
          "ternary": {
           "aaxis": {
            "gridcolor": "white",
            "linecolor": "white",
            "ticks": ""
           },
           "baxis": {
            "gridcolor": "white",
            "linecolor": "white",
            "ticks": ""
           },
           "bgcolor": "#E5ECF6",
           "caxis": {
            "gridcolor": "white",
            "linecolor": "white",
            "ticks": ""
           }
          },
          "title": {
           "x": 0.05
          },
          "xaxis": {
           "automargin": true,
           "gridcolor": "white",
           "linecolor": "white",
           "ticks": "",
           "title": {
            "standoff": 15
           },
           "zerolinecolor": "white",
           "zerolinewidth": 2
          },
          "yaxis": {
           "automargin": true,
           "gridcolor": "white",
           "linecolor": "white",
           "ticks": "",
           "title": {
            "standoff": 15
           },
           "zerolinecolor": "white",
           "zerolinewidth": 2
          }
         }
        },
        "treemapcolorway": [
         "#21bf73",
         "#fe9801",
         "#ff2e63"
        ],
        "width": 600
       }
      },
      "text/html": [
       "<div>\n",
       "        \n",
       "        \n",
       "            <div id=\"98be6197-57b6-4431-92b7-bc325a29a745\" class=\"plotly-graph-div\" style=\"height:400px; width:600px;\"></div>\n",
       "            <script type=\"text/javascript\">\n",
       "                require([\"plotly\"], function(Plotly) {\n",
       "                    window.PLOTLYENV=window.PLOTLYENV || {};\n",
       "                    \n",
       "                if (document.getElementById(\"98be6197-57b6-4431-92b7-bc325a29a745\")) {\n",
       "                    Plotly.newPlot(\n",
       "                        '98be6197-57b6-4431-92b7-bc325a29a745',\n",
       "                        [{\"branchvalues\": \"total\", \"domain\": {\"x\": [0.0, 1.0], \"y\": [0.0, 1.0]}, \"hoverlabel\": {\"namelength\": 0}, \"hovertemplate\": \"labels=%{label}<br>value=%{value}<br>parent=%{parent}<br>id=%{id}\", \"ids\": [\"Active\", \"Deaths\", \"Recovered\"], \"labels\": [\"Active\", \"Deaths\", \"Recovered\"], \"name\": \"\", \"parents\": [\"\", \"\", \"\"], \"type\": \"treemap\", \"values\": [223027.0, 14643.0, 98334.0]}],\n",
       "                        {\"height\": 400, \"legend\": {\"tracegroupgap\": 0}, \"margin\": {\"t\": 60}, \"template\": {\"data\": {\"bar\": [{\"error_x\": {\"color\": \"#2a3f5f\"}, \"error_y\": {\"color\": \"#2a3f5f\"}, \"marker\": {\"line\": {\"color\": \"#E5ECF6\", \"width\": 0.5}}, \"type\": \"bar\"}], \"barpolar\": [{\"marker\": {\"line\": {\"color\": \"#E5ECF6\", \"width\": 0.5}}, \"type\": \"barpolar\"}], \"carpet\": [{\"aaxis\": {\"endlinecolor\": \"#2a3f5f\", \"gridcolor\": \"white\", \"linecolor\": \"white\", \"minorgridcolor\": \"white\", \"startlinecolor\": \"#2a3f5f\"}, \"baxis\": {\"endlinecolor\": \"#2a3f5f\", \"gridcolor\": \"white\", \"linecolor\": \"white\", \"minorgridcolor\": \"white\", \"startlinecolor\": \"#2a3f5f\"}, \"type\": \"carpet\"}], \"choropleth\": [{\"colorbar\": {\"outlinewidth\": 0, \"ticks\": \"\"}, \"type\": \"choropleth\"}], \"contour\": [{\"colorbar\": {\"outlinewidth\": 0, \"ticks\": \"\"}, \"colorscale\": [[0.0, \"#0d0887\"], [0.1111111111111111, \"#46039f\"], [0.2222222222222222, \"#7201a8\"], [0.3333333333333333, \"#9c179e\"], [0.4444444444444444, \"#bd3786\"], [0.5555555555555556, \"#d8576b\"], [0.6666666666666666, \"#ed7953\"], [0.7777777777777778, \"#fb9f3a\"], [0.8888888888888888, \"#fdca26\"], [1.0, \"#f0f921\"]], \"type\": \"contour\"}], \"contourcarpet\": [{\"colorbar\": {\"outlinewidth\": 0, \"ticks\": \"\"}, \"type\": \"contourcarpet\"}], \"heatmap\": [{\"colorbar\": {\"outlinewidth\": 0, \"ticks\": \"\"}, \"colorscale\": [[0.0, \"#0d0887\"], [0.1111111111111111, \"#46039f\"], [0.2222222222222222, \"#7201a8\"], [0.3333333333333333, \"#9c179e\"], [0.4444444444444444, \"#bd3786\"], [0.5555555555555556, \"#d8576b\"], [0.6666666666666666, \"#ed7953\"], [0.7777777777777778, \"#fb9f3a\"], [0.8888888888888888, \"#fdca26\"], [1.0, \"#f0f921\"]], \"type\": \"heatmap\"}], \"heatmapgl\": [{\"colorbar\": {\"outlinewidth\": 0, \"ticks\": \"\"}, \"colorscale\": [[0.0, \"#0d0887\"], [0.1111111111111111, \"#46039f\"], [0.2222222222222222, \"#7201a8\"], [0.3333333333333333, \"#9c179e\"], [0.4444444444444444, \"#bd3786\"], [0.5555555555555556, \"#d8576b\"], [0.6666666666666666, \"#ed7953\"], [0.7777777777777778, \"#fb9f3a\"], [0.8888888888888888, \"#fdca26\"], [1.0, \"#f0f921\"]], \"type\": \"heatmapgl\"}], \"histogram\": [{\"marker\": {\"colorbar\": {\"outlinewidth\": 0, \"ticks\": \"\"}}, \"type\": \"histogram\"}], \"histogram2d\": [{\"colorbar\": {\"outlinewidth\": 0, \"ticks\": \"\"}, \"colorscale\": [[0.0, \"#0d0887\"], [0.1111111111111111, \"#46039f\"], [0.2222222222222222, \"#7201a8\"], [0.3333333333333333, \"#9c179e\"], [0.4444444444444444, \"#bd3786\"], [0.5555555555555556, \"#d8576b\"], [0.6666666666666666, \"#ed7953\"], [0.7777777777777778, \"#fb9f3a\"], [0.8888888888888888, \"#fdca26\"], [1.0, \"#f0f921\"]], \"type\": \"histogram2d\"}], \"histogram2dcontour\": [{\"colorbar\": {\"outlinewidth\": 0, \"ticks\": \"\"}, \"colorscale\": [[0.0, \"#0d0887\"], [0.1111111111111111, \"#46039f\"], [0.2222222222222222, \"#7201a8\"], [0.3333333333333333, \"#9c179e\"], [0.4444444444444444, \"#bd3786\"], [0.5555555555555556, \"#d8576b\"], [0.6666666666666666, \"#ed7953\"], [0.7777777777777778, \"#fb9f3a\"], [0.8888888888888888, \"#fdca26\"], [1.0, \"#f0f921\"]], \"type\": \"histogram2dcontour\"}], \"mesh3d\": [{\"colorbar\": {\"outlinewidth\": 0, \"ticks\": \"\"}, \"type\": \"mesh3d\"}], \"parcoords\": [{\"line\": {\"colorbar\": {\"outlinewidth\": 0, \"ticks\": \"\"}}, \"type\": \"parcoords\"}], \"pie\": [{\"automargin\": true, \"type\": \"pie\"}], \"scatter\": [{\"marker\": {\"colorbar\": {\"outlinewidth\": 0, \"ticks\": \"\"}}, \"type\": \"scatter\"}], \"scatter3d\": [{\"line\": {\"colorbar\": {\"outlinewidth\": 0, \"ticks\": \"\"}}, \"marker\": {\"colorbar\": {\"outlinewidth\": 0, \"ticks\": \"\"}}, \"type\": \"scatter3d\"}], \"scattercarpet\": [{\"marker\": {\"colorbar\": {\"outlinewidth\": 0, \"ticks\": \"\"}}, \"type\": \"scattercarpet\"}], \"scattergeo\": [{\"marker\": {\"colorbar\": {\"outlinewidth\": 0, \"ticks\": \"\"}}, \"type\": \"scattergeo\"}], \"scattergl\": [{\"marker\": {\"colorbar\": {\"outlinewidth\": 0, \"ticks\": \"\"}}, \"type\": \"scattergl\"}], \"scattermapbox\": [{\"marker\": {\"colorbar\": {\"outlinewidth\": 0, \"ticks\": \"\"}}, \"type\": \"scattermapbox\"}], \"scatterpolar\": [{\"marker\": {\"colorbar\": {\"outlinewidth\": 0, \"ticks\": \"\"}}, \"type\": \"scatterpolar\"}], \"scatterpolargl\": [{\"marker\": {\"colorbar\": {\"outlinewidth\": 0, \"ticks\": \"\"}}, \"type\": \"scatterpolargl\"}], \"scatterternary\": [{\"marker\": {\"colorbar\": {\"outlinewidth\": 0, \"ticks\": \"\"}}, \"type\": \"scatterternary\"}], \"surface\": [{\"colorbar\": {\"outlinewidth\": 0, \"ticks\": \"\"}, \"colorscale\": [[0.0, \"#0d0887\"], [0.1111111111111111, \"#46039f\"], [0.2222222222222222, \"#7201a8\"], [0.3333333333333333, \"#9c179e\"], [0.4444444444444444, \"#bd3786\"], [0.5555555555555556, \"#d8576b\"], [0.6666666666666666, \"#ed7953\"], [0.7777777777777778, \"#fb9f3a\"], [0.8888888888888888, \"#fdca26\"], [1.0, \"#f0f921\"]], \"type\": \"surface\"}], \"table\": [{\"cells\": {\"fill\": {\"color\": \"#EBF0F8\"}, \"line\": {\"color\": \"white\"}}, \"header\": {\"fill\": {\"color\": \"#C8D4E3\"}, \"line\": {\"color\": \"white\"}}, \"type\": \"table\"}]}, \"layout\": {\"annotationdefaults\": {\"arrowcolor\": \"#2a3f5f\", \"arrowhead\": 0, \"arrowwidth\": 1}, \"coloraxis\": {\"colorbar\": {\"outlinewidth\": 0, \"ticks\": \"\"}}, \"colorscale\": {\"diverging\": [[0, \"#8e0152\"], [0.1, \"#c51b7d\"], [0.2, \"#de77ae\"], [0.3, \"#f1b6da\"], [0.4, \"#fde0ef\"], [0.5, \"#f7f7f7\"], [0.6, \"#e6f5d0\"], [0.7, \"#b8e186\"], [0.8, \"#7fbc41\"], [0.9, \"#4d9221\"], [1, \"#276419\"]], \"sequential\": [[0.0, \"#0d0887\"], [0.1111111111111111, \"#46039f\"], [0.2222222222222222, \"#7201a8\"], [0.3333333333333333, \"#9c179e\"], [0.4444444444444444, \"#bd3786\"], [0.5555555555555556, \"#d8576b\"], [0.6666666666666666, \"#ed7953\"], [0.7777777777777778, \"#fb9f3a\"], [0.8888888888888888, \"#fdca26\"], [1.0, \"#f0f921\"]], \"sequentialminus\": [[0.0, \"#0d0887\"], [0.1111111111111111, \"#46039f\"], [0.2222222222222222, \"#7201a8\"], [0.3333333333333333, \"#9c179e\"], [0.4444444444444444, \"#bd3786\"], [0.5555555555555556, \"#d8576b\"], [0.6666666666666666, \"#ed7953\"], [0.7777777777777778, \"#fb9f3a\"], [0.8888888888888888, \"#fdca26\"], [1.0, \"#f0f921\"]]}, \"colorway\": [\"#636efa\", \"#EF553B\", \"#00cc96\", \"#ab63fa\", \"#FFA15A\", \"#19d3f3\", \"#FF6692\", \"#B6E880\", \"#FF97FF\", \"#FECB52\"], \"font\": {\"color\": \"#2a3f5f\"}, \"geo\": {\"bgcolor\": \"white\", \"lakecolor\": \"white\", \"landcolor\": \"#E5ECF6\", \"showlakes\": true, \"showland\": true, \"subunitcolor\": \"white\"}, \"hoverlabel\": {\"align\": \"left\"}, \"hovermode\": \"closest\", \"mapbox\": {\"style\": \"light\"}, \"paper_bgcolor\": \"white\", \"plot_bgcolor\": \"#E5ECF6\", \"polar\": {\"angularaxis\": {\"gridcolor\": \"white\", \"linecolor\": \"white\", \"ticks\": \"\"}, \"bgcolor\": \"#E5ECF6\", \"radialaxis\": {\"gridcolor\": \"white\", \"linecolor\": \"white\", \"ticks\": \"\"}}, \"scene\": {\"xaxis\": {\"backgroundcolor\": \"#E5ECF6\", \"gridcolor\": \"white\", \"gridwidth\": 2, \"linecolor\": \"white\", \"showbackground\": true, \"ticks\": \"\", \"zerolinecolor\": \"white\"}, \"yaxis\": {\"backgroundcolor\": \"#E5ECF6\", \"gridcolor\": \"white\", \"gridwidth\": 2, \"linecolor\": \"white\", \"showbackground\": true, \"ticks\": \"\", \"zerolinecolor\": \"white\"}, \"zaxis\": {\"backgroundcolor\": \"#E5ECF6\", \"gridcolor\": \"white\", \"gridwidth\": 2, \"linecolor\": \"white\", \"showbackground\": true, \"ticks\": \"\", \"zerolinecolor\": \"white\"}}, \"shapedefaults\": {\"line\": {\"color\": \"#2a3f5f\"}}, \"ternary\": {\"aaxis\": {\"gridcolor\": \"white\", \"linecolor\": \"white\", \"ticks\": \"\"}, \"baxis\": {\"gridcolor\": \"white\", \"linecolor\": \"white\", \"ticks\": \"\"}, \"bgcolor\": \"#E5ECF6\", \"caxis\": {\"gridcolor\": \"white\", \"linecolor\": \"white\", \"ticks\": \"\"}}, \"title\": {\"x\": 0.05}, \"xaxis\": {\"automargin\": true, \"gridcolor\": \"white\", \"linecolor\": \"white\", \"ticks\": \"\", \"title\": {\"standoff\": 15}, \"zerolinecolor\": \"white\", \"zerolinewidth\": 2}, \"yaxis\": {\"automargin\": true, \"gridcolor\": \"white\", \"linecolor\": \"white\", \"ticks\": \"\", \"title\": {\"standoff\": 15}, \"zerolinecolor\": \"white\", \"zerolinewidth\": 2}}}, \"treemapcolorway\": [\"#21bf73\", \"#fe9801\", \"#ff2e63\"], \"width\": 600},\n",
       "                        {\"responsive\": true}\n",
       "                    ).then(function(){\n",
       "                            \n",
       "var gd = document.getElementById('98be6197-57b6-4431-92b7-bc325a29a745');\n",
       "var x = new MutationObserver(function (mutations, observer) {{\n",
       "        var display = window.getComputedStyle(gd).display;\n",
       "        if (!display || display === 'none') {{\n",
       "            console.log([gd, 'removed!']);\n",
       "            Plotly.purge(gd);\n",
       "            observer.disconnect();\n",
       "        }}\n",
       "}});\n",
       "\n",
       "// Listen for the removal of the full notebook cells\n",
       "var notebookContainer = gd.closest('#notebook-container');\n",
       "if (notebookContainer) {{\n",
       "    x.observe(notebookContainer, {childList: true});\n",
       "}}\n",
       "\n",
       "// Listen for the clearing of the current output cell\n",
       "var outputEl = gd.closest('.output');\n",
       "if (outputEl) {{\n",
       "    x.observe(outputEl, {childList: true});\n",
       "}}\n",
       "\n",
       "                        })\n",
       "                };\n",
       "                });\n",
       "            </script>\n",
       "        </div>"
      ]
     },
     "metadata": {},
     "output_type": "display_data"
    }
   ],
   "source": [
    "tm = temp.melt(id_vars=\"Date\", value_vars=['Active', 'Deaths', 'Recovered'])\n",
    "fig = px.treemap(tm, path=[\"variable\"], values=\"value\", height=400, width=600,\n",
    "                 color_discrete_sequence=[rec, act, dth])\n",
    "fig.show()"
   ]
  },
  {
   "cell_type": "markdown",
   "metadata": {},
   "source": [
    "## Country Wise Data"
   ]
  },
  {
   "cell_type": "code",
   "execution_count": 99,
   "metadata": {},
   "outputs": [],
   "source": [
    "full_latest = full_table[full_table['Date'] == max(full_table['Date'])].reset_index()\n",
    "full_latest_grouped = full_latest.groupby('Country/Region')['Confirmed', 'Deaths', 'Recovered', 'Active'].sum().reset_index()\n",
    "#full_latest_grouped"
   ]
  },
  {
   "cell_type": "code",
   "execution_count": 100,
   "metadata": {},
   "outputs": [
    {
     "data": {
      "text/html": [
       "<style  type=\"text/css\" >\n",
       "    #T_e9da4e26_6e93_11ea_9e40_705a0f1a5828row0_col1 {\n",
       "            background-color:  #67000d;\n",
       "            color:  #f1f1f1;\n",
       "        }    #T_e9da4e26_6e93_11ea_9e40_705a0f1a5828row0_col2 {\n",
       "            background-color:  #f14432;\n",
       "            color:  #f1f1f1;\n",
       "        }    #T_e9da4e26_6e93_11ea_9e40_705a0f1a5828row0_col3 {\n",
       "            background-color:  #67000d;\n",
       "            color:  #f1f1f1;\n",
       "        }    #T_e9da4e26_6e93_11ea_9e40_705a0f1a5828row0_col4 {\n",
       "            background-color:  #fee2d5;\n",
       "            color:  #000000;\n",
       "        }    #T_e9da4e26_6e93_11ea_9e40_705a0f1a5828row1_col1 {\n",
       "            background-color:  #d21f20;\n",
       "            color:  #f1f1f1;\n",
       "        }    #T_e9da4e26_6e93_11ea_9e40_705a0f1a5828row1_col2 {\n",
       "            background-color:  #67000d;\n",
       "            color:  #f1f1f1;\n",
       "        }    #T_e9da4e26_6e93_11ea_9e40_705a0f1a5828row1_col3 {\n",
       "            background-color:  #fee5d9;\n",
       "            color:  #000000;\n",
       "        }    #T_e9da4e26_6e93_11ea_9e40_705a0f1a5828row1_col4 {\n",
       "            background-color:  #67000d;\n",
       "            color:  #f1f1f1;\n",
       "        }    #T_e9da4e26_6e93_11ea_9e40_705a0f1a5828row2_col1 {\n",
       "            background-color:  #fc8767;\n",
       "            color:  #000000;\n",
       "        }    #T_e9da4e26_6e93_11ea_9e40_705a0f1a5828row2_col2 {\n",
       "            background-color:  #fee8de;\n",
       "            color:  #000000;\n",
       "        }    #T_e9da4e26_6e93_11ea_9e40_705a0f1a5828row2_col3 {\n",
       "            background-color:  #fff5f0;\n",
       "            color:  #000000;\n",
       "        }    #T_e9da4e26_6e93_11ea_9e40_705a0f1a5828row2_col4 {\n",
       "            background-color:  #d92523;\n",
       "            color:  #f1f1f1;\n",
       "        }    #T_e9da4e26_6e93_11ea_9e40_705a0f1a5828row3_col1 {\n",
       "            background-color:  #fc997a;\n",
       "            color:  #000000;\n",
       "        }    #T_e9da4e26_6e93_11ea_9e40_705a0f1a5828row3_col2 {\n",
       "            background-color:  #fca486;\n",
       "            color:  #000000;\n",
       "        }    #T_e9da4e26_6e93_11ea_9e40_705a0f1a5828row3_col3 {\n",
       "            background-color:  #ffefe8;\n",
       "            color:  #000000;\n",
       "        }    #T_e9da4e26_6e93_11ea_9e40_705a0f1a5828row3_col4 {\n",
       "            background-color:  #f96044;\n",
       "            color:  #000000;\n",
       "        }    #T_e9da4e26_6e93_11ea_9e40_705a0f1a5828row4_col1 {\n",
       "            background-color:  #fca98c;\n",
       "            color:  #000000;\n",
       "        }    #T_e9da4e26_6e93_11ea_9e40_705a0f1a5828row4_col2 {\n",
       "            background-color:  #fff2ec;\n",
       "            color:  #000000;\n",
       "        }    #T_e9da4e26_6e93_11ea_9e40_705a0f1a5828row4_col3 {\n",
       "            background-color:  #fff5f0;\n",
       "            color:  #000000;\n",
       "        }    #T_e9da4e26_6e93_11ea_9e40_705a0f1a5828row4_col4 {\n",
       "            background-color:  #f96044;\n",
       "            color:  #000000;\n",
       "        }    #T_e9da4e26_6e93_11ea_9e40_705a0f1a5828row5_col1 {\n",
       "            background-color:  #fcb69b;\n",
       "            color:  #000000;\n",
       "        }    #T_e9da4e26_6e93_11ea_9e40_705a0f1a5828row5_col2 {\n",
       "            background-color:  #fca98c;\n",
       "            color:  #000000;\n",
       "        }    #T_e9da4e26_6e93_11ea_9e40_705a0f1a5828row5_col3 {\n",
       "            background-color:  #fee3d7;\n",
       "            color:  #000000;\n",
       "        }    #T_e9da4e26_6e93_11ea_9e40_705a0f1a5828row5_col4 {\n",
       "            background-color:  #fcb99f;\n",
       "            color:  #000000;\n",
       "        }    #T_e9da4e26_6e93_11ea_9e40_705a0f1a5828row6_col1 {\n",
       "            background-color:  #fdcbb6;\n",
       "            color:  #000000;\n",
       "        }    #T_e9da4e26_6e93_11ea_9e40_705a0f1a5828row6_col2 {\n",
       "            background-color:  #fee1d3;\n",
       "            color:  #000000;\n",
       "        }    #T_e9da4e26_6e93_11ea_9e40_705a0f1a5828row6_col3 {\n",
       "            background-color:  #fff0e9;\n",
       "            color:  #000000;\n",
       "        }    #T_e9da4e26_6e93_11ea_9e40_705a0f1a5828row6_col4 {\n",
       "            background-color:  #fcb095;\n",
       "            color:  #000000;\n",
       "        }    #T_e9da4e26_6e93_11ea_9e40_705a0f1a5828row7_col1 {\n",
       "            background-color:  #fee3d7;\n",
       "            color:  #000000;\n",
       "        }    #T_e9da4e26_6e93_11ea_9e40_705a0f1a5828row7_col2 {\n",
       "            background-color:  #fff2ec;\n",
       "            color:  #000000;\n",
       "        }    #T_e9da4e26_6e93_11ea_9e40_705a0f1a5828row7_col3 {\n",
       "            background-color:  #ffeee7;\n",
       "            color:  #000000;\n",
       "        }    #T_e9da4e26_6e93_11ea_9e40_705a0f1a5828row7_col4 {\n",
       "            background-color:  #fee0d2;\n",
       "            color:  #000000;\n",
       "        }    #T_e9da4e26_6e93_11ea_9e40_705a0f1a5828row8_col1 {\n",
       "            background-color:  #fee7db;\n",
       "            color:  #000000;\n",
       "        }    #T_e9da4e26_6e93_11ea_9e40_705a0f1a5828row8_col2 {\n",
       "            background-color:  #fff2ec;\n",
       "            color:  #000000;\n",
       "        }    #T_e9da4e26_6e93_11ea_9e40_705a0f1a5828row8_col3 {\n",
       "            background-color:  #fff5f0;\n",
       "            color:  #000000;\n",
       "        }    #T_e9da4e26_6e93_11ea_9e40_705a0f1a5828row8_col4 {\n",
       "            background-color:  #fed9c9;\n",
       "            color:  #000000;\n",
       "        }    #T_e9da4e26_6e93_11ea_9e40_705a0f1a5828row9_col1 {\n",
       "            background-color:  #fee9df;\n",
       "            color:  #000000;\n",
       "        }    #T_e9da4e26_6e93_11ea_9e40_705a0f1a5828row9_col2 {\n",
       "            background-color:  #ffece4;\n",
       "            color:  #000000;\n",
       "        }    #T_e9da4e26_6e93_11ea_9e40_705a0f1a5828row9_col3 {\n",
       "            background-color:  #fff5f0;\n",
       "            color:  #000000;\n",
       "        }    #T_e9da4e26_6e93_11ea_9e40_705a0f1a5828row9_col4 {\n",
       "            background-color:  #fee2d5;\n",
       "            color:  #000000;\n",
       "        }    #T_e9da4e26_6e93_11ea_9e40_705a0f1a5828row10_col1 {\n",
       "            background-color:  #ffece4;\n",
       "            color:  #000000;\n",
       "        }    #T_e9da4e26_6e93_11ea_9e40_705a0f1a5828row10_col2 {\n",
       "            background-color:  #fff0e8;\n",
       "            color:  #000000;\n",
       "        }    #T_e9da4e26_6e93_11ea_9e40_705a0f1a5828row10_col3 {\n",
       "            background-color:  #fff5f0;\n",
       "            color:  #000000;\n",
       "        }    #T_e9da4e26_6e93_11ea_9e40_705a0f1a5828row10_col4 {\n",
       "            background-color:  #fee7db;\n",
       "            color:  #000000;\n",
       "        }    #T_e9da4e26_6e93_11ea_9e40_705a0f1a5828row11_col1 {\n",
       "            background-color:  #ffeee7;\n",
       "            color:  #000000;\n",
       "        }    #T_e9da4e26_6e93_11ea_9e40_705a0f1a5828row11_col2 {\n",
       "            background-color:  #fff3ed;\n",
       "            color:  #000000;\n",
       "        }    #T_e9da4e26_6e93_11ea_9e40_705a0f1a5828row11_col3 {\n",
       "            background-color:  #fff5f0;\n",
       "            color:  #000000;\n",
       "        }    #T_e9da4e26_6e93_11ea_9e40_705a0f1a5828row11_col4 {\n",
       "            background-color:  #feeae1;\n",
       "            color:  #000000;\n",
       "        }    #T_e9da4e26_6e93_11ea_9e40_705a0f1a5828row12_col1 {\n",
       "            background-color:  #ffeee7;\n",
       "            color:  #000000;\n",
       "        }    #T_e9da4e26_6e93_11ea_9e40_705a0f1a5828row12_col2 {\n",
       "            background-color:  #fff5f0;\n",
       "            color:  #000000;\n",
       "        }    #T_e9da4e26_6e93_11ea_9e40_705a0f1a5828row12_col3 {\n",
       "            background-color:  #fff5f0;\n",
       "            color:  #000000;\n",
       "        }    #T_e9da4e26_6e93_11ea_9e40_705a0f1a5828row12_col4 {\n",
       "            background-color:  #feeae0;\n",
       "            color:  #000000;\n",
       "        }    #T_e9da4e26_6e93_11ea_9e40_705a0f1a5828row13_col1 {\n",
       "            background-color:  #fff0e9;\n",
       "            color:  #000000;\n",
       "        }    #T_e9da4e26_6e93_11ea_9e40_705a0f1a5828row13_col2 {\n",
       "            background-color:  #fff5f0;\n",
       "            color:  #000000;\n",
       "        }    #T_e9da4e26_6e93_11ea_9e40_705a0f1a5828row13_col3 {\n",
       "            background-color:  #fff5f0;\n",
       "            color:  #000000;\n",
       "        }    #T_e9da4e26_6e93_11ea_9e40_705a0f1a5828row13_col4 {\n",
       "            background-color:  #ffece4;\n",
       "            color:  #000000;\n",
       "        }    #T_e9da4e26_6e93_11ea_9e40_705a0f1a5828row14_col1 {\n",
       "            background-color:  #fff1ea;\n",
       "            color:  #000000;\n",
       "        }    #T_e9da4e26_6e93_11ea_9e40_705a0f1a5828row14_col2 {\n",
       "            background-color:  #fff5f0;\n",
       "            color:  #000000;\n",
       "        }    #T_e9da4e26_6e93_11ea_9e40_705a0f1a5828row14_col3 {\n",
       "            background-color:  #fff5f0;\n",
       "            color:  #000000;\n",
       "        }    #T_e9da4e26_6e93_11ea_9e40_705a0f1a5828row14_col4 {\n",
       "            background-color:  #ffeee7;\n",
       "            color:  #000000;\n",
       "        }    #T_e9da4e26_6e93_11ea_9e40_705a0f1a5828row15_col1 {\n",
       "            background-color:  #fff2eb;\n",
       "            color:  #000000;\n",
       "        }    #T_e9da4e26_6e93_11ea_9e40_705a0f1a5828row15_col2 {\n",
       "            background-color:  #fff5f0;\n",
       "            color:  #000000;\n",
       "        }    #T_e9da4e26_6e93_11ea_9e40_705a0f1a5828row15_col3 {\n",
       "            background-color:  #fff5f0;\n",
       "            color:  #000000;\n",
       "        }    #T_e9da4e26_6e93_11ea_9e40_705a0f1a5828row15_col4 {\n",
       "            background-color:  #fff0e8;\n",
       "            color:  #000000;\n",
       "        }    #T_e9da4e26_6e93_11ea_9e40_705a0f1a5828row16_col1 {\n",
       "            background-color:  #fff2eb;\n",
       "            color:  #000000;\n",
       "        }    #T_e9da4e26_6e93_11ea_9e40_705a0f1a5828row16_col2 {\n",
       "            background-color:  #fff4ef;\n",
       "            color:  #000000;\n",
       "        }    #T_e9da4e26_6e93_11ea_9e40_705a0f1a5828row16_col3 {\n",
       "            background-color:  #fff5f0;\n",
       "            color:  #000000;\n",
       "        }    #T_e9da4e26_6e93_11ea_9e40_705a0f1a5828row16_col4 {\n",
       "            background-color:  #fff0e8;\n",
       "            color:  #000000;\n",
       "        }    #T_e9da4e26_6e93_11ea_9e40_705a0f1a5828row17_col1 {\n",
       "            background-color:  #fff2ec;\n",
       "            color:  #000000;\n",
       "        }    #T_e9da4e26_6e93_11ea_9e40_705a0f1a5828row17_col2 {\n",
       "            background-color:  #fff5f0;\n",
       "            color:  #000000;\n",
       "        }    #T_e9da4e26_6e93_11ea_9e40_705a0f1a5828row17_col3 {\n",
       "            background-color:  #fff5f0;\n",
       "            color:  #000000;\n",
       "        }    #T_e9da4e26_6e93_11ea_9e40_705a0f1a5828row17_col4 {\n",
       "            background-color:  #fff0e8;\n",
       "            color:  #000000;\n",
       "        }    #T_e9da4e26_6e93_11ea_9e40_705a0f1a5828row18_col1 {\n",
       "            background-color:  #fff2ec;\n",
       "            color:  #000000;\n",
       "        }    #T_e9da4e26_6e93_11ea_9e40_705a0f1a5828row18_col2 {\n",
       "            background-color:  #fff5f0;\n",
       "            color:  #000000;\n",
       "        }    #T_e9da4e26_6e93_11ea_9e40_705a0f1a5828row18_col3 {\n",
       "            background-color:  #fff5f0;\n",
       "            color:  #000000;\n",
       "        }    #T_e9da4e26_6e93_11ea_9e40_705a0f1a5828row18_col4 {\n",
       "            background-color:  #fff0e9;\n",
       "            color:  #000000;\n",
       "        }    #T_e9da4e26_6e93_11ea_9e40_705a0f1a5828row19_col1 {\n",
       "            background-color:  #fff2ec;\n",
       "            color:  #000000;\n",
       "        }    #T_e9da4e26_6e93_11ea_9e40_705a0f1a5828row19_col2 {\n",
       "            background-color:  #fff5f0;\n",
       "            color:  #000000;\n",
       "        }    #T_e9da4e26_6e93_11ea_9e40_705a0f1a5828row19_col3 {\n",
       "            background-color:  #fff5f0;\n",
       "            color:  #000000;\n",
       "        }    #T_e9da4e26_6e93_11ea_9e40_705a0f1a5828row19_col4 {\n",
       "            background-color:  #fff1ea;\n",
       "            color:  #000000;\n",
       "        }    #T_e9da4e26_6e93_11ea_9e40_705a0f1a5828row20_col1 {\n",
       "            background-color:  #fff2ec;\n",
       "            color:  #000000;\n",
       "        }    #T_e9da4e26_6e93_11ea_9e40_705a0f1a5828row20_col2 {\n",
       "            background-color:  #fff5f0;\n",
       "            color:  #000000;\n",
       "        }    #T_e9da4e26_6e93_11ea_9e40_705a0f1a5828row20_col3 {\n",
       "            background-color:  #fff5f0;\n",
       "            color:  #000000;\n",
       "        }    #T_e9da4e26_6e93_11ea_9e40_705a0f1a5828row20_col4 {\n",
       "            background-color:  #fff1ea;\n",
       "            color:  #000000;\n",
       "        }    #T_e9da4e26_6e93_11ea_9e40_705a0f1a5828row21_col1 {\n",
       "            background-color:  #fff3ed;\n",
       "            color:  #000000;\n",
       "        }    #T_e9da4e26_6e93_11ea_9e40_705a0f1a5828row21_col2 {\n",
       "            background-color:  #fff4ef;\n",
       "            color:  #000000;\n",
       "        }    #T_e9da4e26_6e93_11ea_9e40_705a0f1a5828row21_col3 {\n",
       "            background-color:  #fff5f0;\n",
       "            color:  #000000;\n",
       "        }    #T_e9da4e26_6e93_11ea_9e40_705a0f1a5828row21_col4 {\n",
       "            background-color:  #fff1ea;\n",
       "            color:  #000000;\n",
       "        }    #T_e9da4e26_6e93_11ea_9e40_705a0f1a5828row22_col1 {\n",
       "            background-color:  #fff3ed;\n",
       "            color:  #000000;\n",
       "        }    #T_e9da4e26_6e93_11ea_9e40_705a0f1a5828row22_col2 {\n",
       "            background-color:  #fff5f0;\n",
       "            color:  #000000;\n",
       "        }    #T_e9da4e26_6e93_11ea_9e40_705a0f1a5828row22_col3 {\n",
       "            background-color:  #fff5f0;\n",
       "            color:  #000000;\n",
       "        }    #T_e9da4e26_6e93_11ea_9e40_705a0f1a5828row22_col4 {\n",
       "            background-color:  #fff1ea;\n",
       "            color:  #000000;\n",
       "        }    #T_e9da4e26_6e93_11ea_9e40_705a0f1a5828row23_col1 {\n",
       "            background-color:  #fff3ed;\n",
       "            color:  #000000;\n",
       "        }    #T_e9da4e26_6e93_11ea_9e40_705a0f1a5828row23_col2 {\n",
       "            background-color:  #fff4ef;\n",
       "            color:  #000000;\n",
       "        }    #T_e9da4e26_6e93_11ea_9e40_705a0f1a5828row23_col3 {\n",
       "            background-color:  #fff5f0;\n",
       "            color:  #000000;\n",
       "        }    #T_e9da4e26_6e93_11ea_9e40_705a0f1a5828row23_col4 {\n",
       "            background-color:  #fff2ec;\n",
       "            color:  #000000;\n",
       "        }    #T_e9da4e26_6e93_11ea_9e40_705a0f1a5828row24_col1 {\n",
       "            background-color:  #fff3ed;\n",
       "            color:  #000000;\n",
       "        }    #T_e9da4e26_6e93_11ea_9e40_705a0f1a5828row24_col2 {\n",
       "            background-color:  #fff5f0;\n",
       "            color:  #000000;\n",
       "        }    #T_e9da4e26_6e93_11ea_9e40_705a0f1a5828row24_col3 {\n",
       "            background-color:  #fff5f0;\n",
       "            color:  #000000;\n",
       "        }    #T_e9da4e26_6e93_11ea_9e40_705a0f1a5828row24_col4 {\n",
       "            background-color:  #fff2eb;\n",
       "            color:  #000000;\n",
       "        }    #T_e9da4e26_6e93_11ea_9e40_705a0f1a5828row25_col1 {\n",
       "            background-color:  #fff4ee;\n",
       "            color:  #000000;\n",
       "        }    #T_e9da4e26_6e93_11ea_9e40_705a0f1a5828row25_col2 {\n",
       "            background-color:  #fff5f0;\n",
       "            color:  #000000;\n",
       "        }    #T_e9da4e26_6e93_11ea_9e40_705a0f1a5828row25_col3 {\n",
       "            background-color:  #fff5f0;\n",
       "            color:  #000000;\n",
       "        }    #T_e9da4e26_6e93_11ea_9e40_705a0f1a5828row25_col4 {\n",
       "            background-color:  #fff2ec;\n",
       "            color:  #000000;\n",
       "        }    #T_e9da4e26_6e93_11ea_9e40_705a0f1a5828row26_col1 {\n",
       "            background-color:  #fff4ee;\n",
       "            color:  #000000;\n",
       "        }    #T_e9da4e26_6e93_11ea_9e40_705a0f1a5828row26_col2 {\n",
       "            background-color:  #fff5f0;\n",
       "            color:  #000000;\n",
       "        }    #T_e9da4e26_6e93_11ea_9e40_705a0f1a5828row26_col3 {\n",
       "            background-color:  #fff5f0;\n",
       "            color:  #000000;\n",
       "        }    #T_e9da4e26_6e93_11ea_9e40_705a0f1a5828row26_col4 {\n",
       "            background-color:  #fff2ec;\n",
       "            color:  #000000;\n",
       "        }    #T_e9da4e26_6e93_11ea_9e40_705a0f1a5828row27_col1 {\n",
       "            background-color:  #fff4ee;\n",
       "            color:  #000000;\n",
       "        }    #T_e9da4e26_6e93_11ea_9e40_705a0f1a5828row27_col2 {\n",
       "            background-color:  #fff5f0;\n",
       "            color:  #000000;\n",
       "        }    #T_e9da4e26_6e93_11ea_9e40_705a0f1a5828row27_col3 {\n",
       "            background-color:  #fff5f0;\n",
       "            color:  #000000;\n",
       "        }    #T_e9da4e26_6e93_11ea_9e40_705a0f1a5828row27_col4 {\n",
       "            background-color:  #fff2ec;\n",
       "            color:  #000000;\n",
       "        }    #T_e9da4e26_6e93_11ea_9e40_705a0f1a5828row28_col1 {\n",
       "            background-color:  #fff4ee;\n",
       "            color:  #000000;\n",
       "        }    #T_e9da4e26_6e93_11ea_9e40_705a0f1a5828row28_col2 {\n",
       "            background-color:  #fff5f0;\n",
       "            color:  #000000;\n",
       "        }    #T_e9da4e26_6e93_11ea_9e40_705a0f1a5828row28_col3 {\n",
       "            background-color:  #fff5f0;\n",
       "            color:  #000000;\n",
       "        }    #T_e9da4e26_6e93_11ea_9e40_705a0f1a5828row28_col4 {\n",
       "            background-color:  #fff2ec;\n",
       "            color:  #000000;\n",
       "        }    #T_e9da4e26_6e93_11ea_9e40_705a0f1a5828row29_col1 {\n",
       "            background-color:  #fff4ee;\n",
       "            color:  #000000;\n",
       "        }    #T_e9da4e26_6e93_11ea_9e40_705a0f1a5828row29_col2 {\n",
       "            background-color:  #fff5f0;\n",
       "            color:  #000000;\n",
       "        }    #T_e9da4e26_6e93_11ea_9e40_705a0f1a5828row29_col3 {\n",
       "            background-color:  #fff4ef;\n",
       "            color:  #000000;\n",
       "        }    #T_e9da4e26_6e93_11ea_9e40_705a0f1a5828row29_col4 {\n",
       "            background-color:  #fff4ee;\n",
       "            color:  #000000;\n",
       "        }    #T_e9da4e26_6e93_11ea_9e40_705a0f1a5828row30_col1 {\n",
       "            background-color:  #fff4ef;\n",
       "            color:  #000000;\n",
       "        }    #T_e9da4e26_6e93_11ea_9e40_705a0f1a5828row30_col2 {\n",
       "            background-color:  #fff5f0;\n",
       "            color:  #000000;\n",
       "        }    #T_e9da4e26_6e93_11ea_9e40_705a0f1a5828row30_col3 {\n",
       "            background-color:  #fff5f0;\n",
       "            color:  #000000;\n",
       "        }    #T_e9da4e26_6e93_11ea_9e40_705a0f1a5828row30_col4 {\n",
       "            background-color:  #fff3ed;\n",
       "            color:  #000000;\n",
       "        }    #T_e9da4e26_6e93_11ea_9e40_705a0f1a5828row31_col1 {\n",
       "            background-color:  #fff4ef;\n",
       "            color:  #000000;\n",
       "        }    #T_e9da4e26_6e93_11ea_9e40_705a0f1a5828row31_col2 {\n",
       "            background-color:  #fff5f0;\n",
       "            color:  #000000;\n",
       "        }    #T_e9da4e26_6e93_11ea_9e40_705a0f1a5828row31_col3 {\n",
       "            background-color:  #fff5f0;\n",
       "            color:  #000000;\n",
       "        }    #T_e9da4e26_6e93_11ea_9e40_705a0f1a5828row31_col4 {\n",
       "            background-color:  #fff3ed;\n",
       "            color:  #000000;\n",
       "        }    #T_e9da4e26_6e93_11ea_9e40_705a0f1a5828row32_col1 {\n",
       "            background-color:  #fff4ef;\n",
       "            color:  #000000;\n",
       "        }    #T_e9da4e26_6e93_11ea_9e40_705a0f1a5828row32_col2 {\n",
       "            background-color:  #fff5f0;\n",
       "            color:  #000000;\n",
       "        }    #T_e9da4e26_6e93_11ea_9e40_705a0f1a5828row32_col3 {\n",
       "            background-color:  #fff5f0;\n",
       "            color:  #000000;\n",
       "        }    #T_e9da4e26_6e93_11ea_9e40_705a0f1a5828row32_col4 {\n",
       "            background-color:  #fff3ed;\n",
       "            color:  #000000;\n",
       "        }    #T_e9da4e26_6e93_11ea_9e40_705a0f1a5828row33_col1 {\n",
       "            background-color:  #fff4ef;\n",
       "            color:  #000000;\n",
       "        }    #T_e9da4e26_6e93_11ea_9e40_705a0f1a5828row33_col2 {\n",
       "            background-color:  #fff5f0;\n",
       "            color:  #000000;\n",
       "        }    #T_e9da4e26_6e93_11ea_9e40_705a0f1a5828row33_col3 {\n",
       "            background-color:  #fff5f0;\n",
       "            color:  #000000;\n",
       "        }    #T_e9da4e26_6e93_11ea_9e40_705a0f1a5828row33_col4 {\n",
       "            background-color:  #fff3ed;\n",
       "            color:  #000000;\n",
       "        }    #T_e9da4e26_6e93_11ea_9e40_705a0f1a5828row34_col1 {\n",
       "            background-color:  #fff4ef;\n",
       "            color:  #000000;\n",
       "        }    #T_e9da4e26_6e93_11ea_9e40_705a0f1a5828row34_col2 {\n",
       "            background-color:  #fff5f0;\n",
       "            color:  #000000;\n",
       "        }    #T_e9da4e26_6e93_11ea_9e40_705a0f1a5828row34_col3 {\n",
       "            background-color:  #fff5f0;\n",
       "            color:  #000000;\n",
       "        }    #T_e9da4e26_6e93_11ea_9e40_705a0f1a5828row34_col4 {\n",
       "            background-color:  #fff3ed;\n",
       "            color:  #000000;\n",
       "        }    #T_e9da4e26_6e93_11ea_9e40_705a0f1a5828row35_col1 {\n",
       "            background-color:  #fff4ef;\n",
       "            color:  #000000;\n",
       "        }    #T_e9da4e26_6e93_11ea_9e40_705a0f1a5828row35_col2 {\n",
       "            background-color:  #fff5f0;\n",
       "            color:  #000000;\n",
       "        }    #T_e9da4e26_6e93_11ea_9e40_705a0f1a5828row35_col3 {\n",
       "            background-color:  #fff5f0;\n",
       "            color:  #000000;\n",
       "        }    #T_e9da4e26_6e93_11ea_9e40_705a0f1a5828row35_col4 {\n",
       "            background-color:  #fff4ee;\n",
       "            color:  #000000;\n",
       "        }    #T_e9da4e26_6e93_11ea_9e40_705a0f1a5828row36_col1 {\n",
       "            background-color:  #fff4ef;\n",
       "            color:  #000000;\n",
       "        }    #T_e9da4e26_6e93_11ea_9e40_705a0f1a5828row36_col2 {\n",
       "            background-color:  #fff4ee;\n",
       "            color:  #000000;\n",
       "        }    #T_e9da4e26_6e93_11ea_9e40_705a0f1a5828row36_col3 {\n",
       "            background-color:  #fff5f0;\n",
       "            color:  #000000;\n",
       "        }    #T_e9da4e26_6e93_11ea_9e40_705a0f1a5828row36_col4 {\n",
       "            background-color:  #fff4ee;\n",
       "            color:  #000000;\n",
       "        }    #T_e9da4e26_6e93_11ea_9e40_705a0f1a5828row37_col1 {\n",
       "            background-color:  #fff4ef;\n",
       "            color:  #000000;\n",
       "        }    #T_e9da4e26_6e93_11ea_9e40_705a0f1a5828row37_col2 {\n",
       "            background-color:  #fff5f0;\n",
       "            color:  #000000;\n",
       "        }    #T_e9da4e26_6e93_11ea_9e40_705a0f1a5828row37_col3 {\n",
       "            background-color:  #fff5f0;\n",
       "            color:  #000000;\n",
       "        }    #T_e9da4e26_6e93_11ea_9e40_705a0f1a5828row37_col4 {\n",
       "            background-color:  #fff4ee;\n",
       "            color:  #000000;\n",
       "        }    #T_e9da4e26_6e93_11ea_9e40_705a0f1a5828row38_col1 {\n",
       "            background-color:  #fff4ef;\n",
       "            color:  #000000;\n",
       "        }    #T_e9da4e26_6e93_11ea_9e40_705a0f1a5828row38_col2 {\n",
       "            background-color:  #fff5f0;\n",
       "            color:  #000000;\n",
       "        }    #T_e9da4e26_6e93_11ea_9e40_705a0f1a5828row38_col3 {\n",
       "            background-color:  #fff5f0;\n",
       "            color:  #000000;\n",
       "        }    #T_e9da4e26_6e93_11ea_9e40_705a0f1a5828row38_col4 {\n",
       "            background-color:  #fff4ee;\n",
       "            color:  #000000;\n",
       "        }    #T_e9da4e26_6e93_11ea_9e40_705a0f1a5828row39_col1 {\n",
       "            background-color:  #fff4ef;\n",
       "            color:  #000000;\n",
       "        }    #T_e9da4e26_6e93_11ea_9e40_705a0f1a5828row39_col2 {\n",
       "            background-color:  #fff5f0;\n",
       "            color:  #000000;\n",
       "        }    #T_e9da4e26_6e93_11ea_9e40_705a0f1a5828row39_col3 {\n",
       "            background-color:  #fff5f0;\n",
       "            color:  #000000;\n",
       "        }    #T_e9da4e26_6e93_11ea_9e40_705a0f1a5828row39_col4 {\n",
       "            background-color:  #fff4ef;\n",
       "            color:  #000000;\n",
       "        }    #T_e9da4e26_6e93_11ea_9e40_705a0f1a5828row40_col1 {\n",
       "            background-color:  #fff4ef;\n",
       "            color:  #000000;\n",
       "        }    #T_e9da4e26_6e93_11ea_9e40_705a0f1a5828row40_col2 {\n",
       "            background-color:  #fff5f0;\n",
       "            color:  #000000;\n",
       "        }    #T_e9da4e26_6e93_11ea_9e40_705a0f1a5828row40_col3 {\n",
       "            background-color:  #fff5f0;\n",
       "            color:  #000000;\n",
       "        }    #T_e9da4e26_6e93_11ea_9e40_705a0f1a5828row40_col4 {\n",
       "            background-color:  #fff4ee;\n",
       "            color:  #000000;\n",
       "        }    #T_e9da4e26_6e93_11ea_9e40_705a0f1a5828row41_col1 {\n",
       "            background-color:  #fff4ef;\n",
       "            color:  #000000;\n",
       "        }    #T_e9da4e26_6e93_11ea_9e40_705a0f1a5828row41_col2 {\n",
       "            background-color:  #fff5f0;\n",
       "            color:  #000000;\n",
       "        }    #T_e9da4e26_6e93_11ea_9e40_705a0f1a5828row41_col3 {\n",
       "            background-color:  #fff5f0;\n",
       "            color:  #000000;\n",
       "        }    #T_e9da4e26_6e93_11ea_9e40_705a0f1a5828row41_col4 {\n",
       "            background-color:  #fff4ee;\n",
       "            color:  #000000;\n",
       "        }    #T_e9da4e26_6e93_11ea_9e40_705a0f1a5828row42_col1 {\n",
       "            background-color:  #fff4ef;\n",
       "            color:  #000000;\n",
       "        }    #T_e9da4e26_6e93_11ea_9e40_705a0f1a5828row42_col2 {\n",
       "            background-color:  #fff5f0;\n",
       "            color:  #000000;\n",
       "        }    #T_e9da4e26_6e93_11ea_9e40_705a0f1a5828row42_col3 {\n",
       "            background-color:  #fff5f0;\n",
       "            color:  #000000;\n",
       "        }    #T_e9da4e26_6e93_11ea_9e40_705a0f1a5828row42_col4 {\n",
       "            background-color:  #fff4ef;\n",
       "            color:  #000000;\n",
       "        }    #T_e9da4e26_6e93_11ea_9e40_705a0f1a5828row43_col1 {\n",
       "            background-color:  #fff4ef;\n",
       "            color:  #000000;\n",
       "        }    #T_e9da4e26_6e93_11ea_9e40_705a0f1a5828row43_col2 {\n",
       "            background-color:  #fff4ef;\n",
       "            color:  #000000;\n",
       "        }    #T_e9da4e26_6e93_11ea_9e40_705a0f1a5828row43_col3 {\n",
       "            background-color:  #fff5f0;\n",
       "            color:  #000000;\n",
       "        }    #T_e9da4e26_6e93_11ea_9e40_705a0f1a5828row43_col4 {\n",
       "            background-color:  #fff4ef;\n",
       "            color:  #000000;\n",
       "        }    #T_e9da4e26_6e93_11ea_9e40_705a0f1a5828row44_col1 {\n",
       "            background-color:  #fff4ef;\n",
       "            color:  #000000;\n",
       "        }    #T_e9da4e26_6e93_11ea_9e40_705a0f1a5828row44_col2 {\n",
       "            background-color:  #fff5f0;\n",
       "            color:  #000000;\n",
       "        }    #T_e9da4e26_6e93_11ea_9e40_705a0f1a5828row44_col3 {\n",
       "            background-color:  #fff5f0;\n",
       "            color:  #000000;\n",
       "        }    #T_e9da4e26_6e93_11ea_9e40_705a0f1a5828row44_col4 {\n",
       "            background-color:  #fff4ef;\n",
       "            color:  #000000;\n",
       "        }    #T_e9da4e26_6e93_11ea_9e40_705a0f1a5828row45_col1 {\n",
       "            background-color:  #fff4ef;\n",
       "            color:  #000000;\n",
       "        }    #T_e9da4e26_6e93_11ea_9e40_705a0f1a5828row45_col2 {\n",
       "            background-color:  #fff5f0;\n",
       "            color:  #000000;\n",
       "        }    #T_e9da4e26_6e93_11ea_9e40_705a0f1a5828row45_col3 {\n",
       "            background-color:  #fff5f0;\n",
       "            color:  #000000;\n",
       "        }    #T_e9da4e26_6e93_11ea_9e40_705a0f1a5828row45_col4 {\n",
       "            background-color:  #fff4ef;\n",
       "            color:  #000000;\n",
       "        }    #T_e9da4e26_6e93_11ea_9e40_705a0f1a5828row46_col1 {\n",
       "            background-color:  #fff4ef;\n",
       "            color:  #000000;\n",
       "        }    #T_e9da4e26_6e93_11ea_9e40_705a0f1a5828row46_col2 {\n",
       "            background-color:  #fff5f0;\n",
       "            color:  #000000;\n",
       "        }    #T_e9da4e26_6e93_11ea_9e40_705a0f1a5828row46_col3 {\n",
       "            background-color:  #fff5f0;\n",
       "            color:  #000000;\n",
       "        }    #T_e9da4e26_6e93_11ea_9e40_705a0f1a5828row46_col4 {\n",
       "            background-color:  #fff5f0;\n",
       "            color:  #000000;\n",
       "        }    #T_e9da4e26_6e93_11ea_9e40_705a0f1a5828row47_col1 {\n",
       "            background-color:  #fff4ef;\n",
       "            color:  #000000;\n",
       "        }    #T_e9da4e26_6e93_11ea_9e40_705a0f1a5828row47_col2 {\n",
       "            background-color:  #fff5f0;\n",
       "            color:  #000000;\n",
       "        }    #T_e9da4e26_6e93_11ea_9e40_705a0f1a5828row47_col3 {\n",
       "            background-color:  #fff5f0;\n",
       "            color:  #000000;\n",
       "        }    #T_e9da4e26_6e93_11ea_9e40_705a0f1a5828row47_col4 {\n",
       "            background-color:  #fff4ef;\n",
       "            color:  #000000;\n",
       "        }    #T_e9da4e26_6e93_11ea_9e40_705a0f1a5828row48_col1 {\n",
       "            background-color:  #fff4ef;\n",
       "            color:  #000000;\n",
       "        }    #T_e9da4e26_6e93_11ea_9e40_705a0f1a5828row48_col2 {\n",
       "            background-color:  #fff5f0;\n",
       "            color:  #000000;\n",
       "        }    #T_e9da4e26_6e93_11ea_9e40_705a0f1a5828row48_col3 {\n",
       "            background-color:  #fff5f0;\n",
       "            color:  #000000;\n",
       "        }    #T_e9da4e26_6e93_11ea_9e40_705a0f1a5828row48_col4 {\n",
       "            background-color:  #fff4ef;\n",
       "            color:  #000000;\n",
       "        }    #T_e9da4e26_6e93_11ea_9e40_705a0f1a5828row49_col1 {\n",
       "            background-color:  #fff5f0;\n",
       "            color:  #000000;\n",
       "        }    #T_e9da4e26_6e93_11ea_9e40_705a0f1a5828row49_col2 {\n",
       "            background-color:  #fff5f0;\n",
       "            color:  #000000;\n",
       "        }    #T_e9da4e26_6e93_11ea_9e40_705a0f1a5828row49_col3 {\n",
       "            background-color:  #fff5f0;\n",
       "            color:  #000000;\n",
       "        }    #T_e9da4e26_6e93_11ea_9e40_705a0f1a5828row49_col4 {\n",
       "            background-color:  #fff4ef;\n",
       "            color:  #000000;\n",
       "        }    #T_e9da4e26_6e93_11ea_9e40_705a0f1a5828row50_col1 {\n",
       "            background-color:  #fff5f0;\n",
       "            color:  #000000;\n",
       "        }    #T_e9da4e26_6e93_11ea_9e40_705a0f1a5828row50_col2 {\n",
       "            background-color:  #fff5f0;\n",
       "            color:  #000000;\n",
       "        }    #T_e9da4e26_6e93_11ea_9e40_705a0f1a5828row50_col3 {\n",
       "            background-color:  #fff5f0;\n",
       "            color:  #000000;\n",
       "        }    #T_e9da4e26_6e93_11ea_9e40_705a0f1a5828row50_col4 {\n",
       "            background-color:  #fff4ef;\n",
       "            color:  #000000;\n",
       "        }    #T_e9da4e26_6e93_11ea_9e40_705a0f1a5828row51_col1 {\n",
       "            background-color:  #fff5f0;\n",
       "            color:  #000000;\n",
       "        }    #T_e9da4e26_6e93_11ea_9e40_705a0f1a5828row51_col2 {\n",
       "            background-color:  #fff5f0;\n",
       "            color:  #000000;\n",
       "        }    #T_e9da4e26_6e93_11ea_9e40_705a0f1a5828row51_col3 {\n",
       "            background-color:  #fff5f0;\n",
       "            color:  #000000;\n",
       "        }    #T_e9da4e26_6e93_11ea_9e40_705a0f1a5828row51_col4 {\n",
       "            background-color:  #fff4ef;\n",
       "            color:  #000000;\n",
       "        }    #T_e9da4e26_6e93_11ea_9e40_705a0f1a5828row52_col1 {\n",
       "            background-color:  #fff5f0;\n",
       "            color:  #000000;\n",
       "        }    #T_e9da4e26_6e93_11ea_9e40_705a0f1a5828row52_col2 {\n",
       "            background-color:  #fff5f0;\n",
       "            color:  #000000;\n",
       "        }    #T_e9da4e26_6e93_11ea_9e40_705a0f1a5828row52_col3 {\n",
       "            background-color:  #fff5f0;\n",
       "            color:  #000000;\n",
       "        }    #T_e9da4e26_6e93_11ea_9e40_705a0f1a5828row52_col4 {\n",
       "            background-color:  #fff4ef;\n",
       "            color:  #000000;\n",
       "        }    #T_e9da4e26_6e93_11ea_9e40_705a0f1a5828row53_col1 {\n",
       "            background-color:  #fff5f0;\n",
       "            color:  #000000;\n",
       "        }    #T_e9da4e26_6e93_11ea_9e40_705a0f1a5828row53_col2 {\n",
       "            background-color:  #fff5f0;\n",
       "            color:  #000000;\n",
       "        }    #T_e9da4e26_6e93_11ea_9e40_705a0f1a5828row53_col3 {\n",
       "            background-color:  #fff5f0;\n",
       "            color:  #000000;\n",
       "        }    #T_e9da4e26_6e93_11ea_9e40_705a0f1a5828row53_col4 {\n",
       "            background-color:  #fff4ef;\n",
       "            color:  #000000;\n",
       "        }    #T_e9da4e26_6e93_11ea_9e40_705a0f1a5828row54_col1 {\n",
       "            background-color:  #fff5f0;\n",
       "            color:  #000000;\n",
       "        }    #T_e9da4e26_6e93_11ea_9e40_705a0f1a5828row54_col2 {\n",
       "            background-color:  #fff5f0;\n",
       "            color:  #000000;\n",
       "        }    #T_e9da4e26_6e93_11ea_9e40_705a0f1a5828row54_col3 {\n",
       "            background-color:  #fff5f0;\n",
       "            color:  #000000;\n",
       "        }    #T_e9da4e26_6e93_11ea_9e40_705a0f1a5828row54_col4 {\n",
       "            background-color:  #fff5f0;\n",
       "            color:  #000000;\n",
       "        }    #T_e9da4e26_6e93_11ea_9e40_705a0f1a5828row55_col1 {\n",
       "            background-color:  #fff5f0;\n",
       "            color:  #000000;\n",
       "        }    #T_e9da4e26_6e93_11ea_9e40_705a0f1a5828row55_col2 {\n",
       "            background-color:  #fff5f0;\n",
       "            color:  #000000;\n",
       "        }    #T_e9da4e26_6e93_11ea_9e40_705a0f1a5828row55_col3 {\n",
       "            background-color:  #fff5f0;\n",
       "            color:  #000000;\n",
       "        }    #T_e9da4e26_6e93_11ea_9e40_705a0f1a5828row55_col4 {\n",
       "            background-color:  #fff4ef;\n",
       "            color:  #000000;\n",
       "        }    #T_e9da4e26_6e93_11ea_9e40_705a0f1a5828row56_col1 {\n",
       "            background-color:  #fff5f0;\n",
       "            color:  #000000;\n",
       "        }    #T_e9da4e26_6e93_11ea_9e40_705a0f1a5828row56_col2 {\n",
       "            background-color:  #fff5f0;\n",
       "            color:  #000000;\n",
       "        }    #T_e9da4e26_6e93_11ea_9e40_705a0f1a5828row56_col3 {\n",
       "            background-color:  #fff5f0;\n",
       "            color:  #000000;\n",
       "        }    #T_e9da4e26_6e93_11ea_9e40_705a0f1a5828row56_col4 {\n",
       "            background-color:  #fff4ef;\n",
       "            color:  #000000;\n",
       "        }    #T_e9da4e26_6e93_11ea_9e40_705a0f1a5828row57_col1 {\n",
       "            background-color:  #fff5f0;\n",
       "            color:  #000000;\n",
       "        }    #T_e9da4e26_6e93_11ea_9e40_705a0f1a5828row57_col2 {\n",
       "            background-color:  #fff5f0;\n",
       "            color:  #000000;\n",
       "        }    #T_e9da4e26_6e93_11ea_9e40_705a0f1a5828row57_col3 {\n",
       "            background-color:  #fff5f0;\n",
       "            color:  #000000;\n",
       "        }    #T_e9da4e26_6e93_11ea_9e40_705a0f1a5828row57_col4 {\n",
       "            background-color:  #fff4ef;\n",
       "            color:  #000000;\n",
       "        }    #T_e9da4e26_6e93_11ea_9e40_705a0f1a5828row58_col1 {\n",
       "            background-color:  #fff5f0;\n",
       "            color:  #000000;\n",
       "        }    #T_e9da4e26_6e93_11ea_9e40_705a0f1a5828row58_col2 {\n",
       "            background-color:  #fff5f0;\n",
       "            color:  #000000;\n",
       "        }    #T_e9da4e26_6e93_11ea_9e40_705a0f1a5828row58_col3 {\n",
       "            background-color:  #fff5f0;\n",
       "            color:  #000000;\n",
       "        }    #T_e9da4e26_6e93_11ea_9e40_705a0f1a5828row58_col4 {\n",
       "            background-color:  #fff4ef;\n",
       "            color:  #000000;\n",
       "        }    #T_e9da4e26_6e93_11ea_9e40_705a0f1a5828row59_col1 {\n",
       "            background-color:  #fff5f0;\n",
       "            color:  #000000;\n",
       "        }    #T_e9da4e26_6e93_11ea_9e40_705a0f1a5828row59_col2 {\n",
       "            background-color:  #fff5f0;\n",
       "            color:  #000000;\n",
       "        }    #T_e9da4e26_6e93_11ea_9e40_705a0f1a5828row59_col3 {\n",
       "            background-color:  #fff5f0;\n",
       "            color:  #000000;\n",
       "        }    #T_e9da4e26_6e93_11ea_9e40_705a0f1a5828row59_col4 {\n",
       "            background-color:  #fff5f0;\n",
       "            color:  #000000;\n",
       "        }    #T_e9da4e26_6e93_11ea_9e40_705a0f1a5828row60_col1 {\n",
       "            background-color:  #fff5f0;\n",
       "            color:  #000000;\n",
       "        }    #T_e9da4e26_6e93_11ea_9e40_705a0f1a5828row60_col2 {\n",
       "            background-color:  #fff5f0;\n",
       "            color:  #000000;\n",
       "        }    #T_e9da4e26_6e93_11ea_9e40_705a0f1a5828row60_col3 {\n",
       "            background-color:  #fff5f0;\n",
       "            color:  #000000;\n",
       "        }    #T_e9da4e26_6e93_11ea_9e40_705a0f1a5828row60_col4 {\n",
       "            background-color:  #fff4ef;\n",
       "            color:  #000000;\n",
       "        }    #T_e9da4e26_6e93_11ea_9e40_705a0f1a5828row61_col1 {\n",
       "            background-color:  #fff5f0;\n",
       "            color:  #000000;\n",
       "        }    #T_e9da4e26_6e93_11ea_9e40_705a0f1a5828row61_col2 {\n",
       "            background-color:  #fff5f0;\n",
       "            color:  #000000;\n",
       "        }    #T_e9da4e26_6e93_11ea_9e40_705a0f1a5828row61_col3 {\n",
       "            background-color:  #fff5f0;\n",
       "            color:  #000000;\n",
       "        }    #T_e9da4e26_6e93_11ea_9e40_705a0f1a5828row61_col4 {\n",
       "            background-color:  #fff5f0;\n",
       "            color:  #000000;\n",
       "        }    #T_e9da4e26_6e93_11ea_9e40_705a0f1a5828row62_col1 {\n",
       "            background-color:  #fff5f0;\n",
       "            color:  #000000;\n",
       "        }    #T_e9da4e26_6e93_11ea_9e40_705a0f1a5828row62_col2 {\n",
       "            background-color:  #fff5f0;\n",
       "            color:  #000000;\n",
       "        }    #T_e9da4e26_6e93_11ea_9e40_705a0f1a5828row62_col3 {\n",
       "            background-color:  #fff5f0;\n",
       "            color:  #000000;\n",
       "        }    #T_e9da4e26_6e93_11ea_9e40_705a0f1a5828row62_col4 {\n",
       "            background-color:  #fff5f0;\n",
       "            color:  #000000;\n",
       "        }    #T_e9da4e26_6e93_11ea_9e40_705a0f1a5828row63_col1 {\n",
       "            background-color:  #fff5f0;\n",
       "            color:  #000000;\n",
       "        }    #T_e9da4e26_6e93_11ea_9e40_705a0f1a5828row63_col2 {\n",
       "            background-color:  #fff5f0;\n",
       "            color:  #000000;\n",
       "        }    #T_e9da4e26_6e93_11ea_9e40_705a0f1a5828row63_col3 {\n",
       "            background-color:  #fff5f0;\n",
       "            color:  #000000;\n",
       "        }    #T_e9da4e26_6e93_11ea_9e40_705a0f1a5828row63_col4 {\n",
       "            background-color:  #fff5f0;\n",
       "            color:  #000000;\n",
       "        }    #T_e9da4e26_6e93_11ea_9e40_705a0f1a5828row64_col1 {\n",
       "            background-color:  #fff5f0;\n",
       "            color:  #000000;\n",
       "        }    #T_e9da4e26_6e93_11ea_9e40_705a0f1a5828row64_col2 {\n",
       "            background-color:  #fff5f0;\n",
       "            color:  #000000;\n",
       "        }    #T_e9da4e26_6e93_11ea_9e40_705a0f1a5828row64_col3 {\n",
       "            background-color:  #fff5f0;\n",
       "            color:  #000000;\n",
       "        }    #T_e9da4e26_6e93_11ea_9e40_705a0f1a5828row64_col4 {\n",
       "            background-color:  #fff5f0;\n",
       "            color:  #000000;\n",
       "        }    #T_e9da4e26_6e93_11ea_9e40_705a0f1a5828row65_col1 {\n",
       "            background-color:  #fff5f0;\n",
       "            color:  #000000;\n",
       "        }    #T_e9da4e26_6e93_11ea_9e40_705a0f1a5828row65_col2 {\n",
       "            background-color:  #fff5f0;\n",
       "            color:  #000000;\n",
       "        }    #T_e9da4e26_6e93_11ea_9e40_705a0f1a5828row65_col3 {\n",
       "            background-color:  #fff5f0;\n",
       "            color:  #000000;\n",
       "        }    #T_e9da4e26_6e93_11ea_9e40_705a0f1a5828row65_col4 {\n",
       "            background-color:  #fff5f0;\n",
       "            color:  #000000;\n",
       "        }    #T_e9da4e26_6e93_11ea_9e40_705a0f1a5828row66_col1 {\n",
       "            background-color:  #fff5f0;\n",
       "            color:  #000000;\n",
       "        }    #T_e9da4e26_6e93_11ea_9e40_705a0f1a5828row66_col2 {\n",
       "            background-color:  #fff5f0;\n",
       "            color:  #000000;\n",
       "        }    #T_e9da4e26_6e93_11ea_9e40_705a0f1a5828row66_col3 {\n",
       "            background-color:  #fff5f0;\n",
       "            color:  #000000;\n",
       "        }    #T_e9da4e26_6e93_11ea_9e40_705a0f1a5828row66_col4 {\n",
       "            background-color:  #fff5f0;\n",
       "            color:  #000000;\n",
       "        }    #T_e9da4e26_6e93_11ea_9e40_705a0f1a5828row67_col1 {\n",
       "            background-color:  #fff5f0;\n",
       "            color:  #000000;\n",
       "        }    #T_e9da4e26_6e93_11ea_9e40_705a0f1a5828row67_col2 {\n",
       "            background-color:  #fff5f0;\n",
       "            color:  #000000;\n",
       "        }    #T_e9da4e26_6e93_11ea_9e40_705a0f1a5828row67_col3 {\n",
       "            background-color:  #fff5f0;\n",
       "            color:  #000000;\n",
       "        }    #T_e9da4e26_6e93_11ea_9e40_705a0f1a5828row67_col4 {\n",
       "            background-color:  #fff5f0;\n",
       "            color:  #000000;\n",
       "        }    #T_e9da4e26_6e93_11ea_9e40_705a0f1a5828row68_col1 {\n",
       "            background-color:  #fff5f0;\n",
       "            color:  #000000;\n",
       "        }    #T_e9da4e26_6e93_11ea_9e40_705a0f1a5828row68_col2 {\n",
       "            background-color:  #fff5f0;\n",
       "            color:  #000000;\n",
       "        }    #T_e9da4e26_6e93_11ea_9e40_705a0f1a5828row68_col3 {\n",
       "            background-color:  #fff5f0;\n",
       "            color:  #000000;\n",
       "        }    #T_e9da4e26_6e93_11ea_9e40_705a0f1a5828row68_col4 {\n",
       "            background-color:  #fff5f0;\n",
       "            color:  #000000;\n",
       "        }    #T_e9da4e26_6e93_11ea_9e40_705a0f1a5828row69_col1 {\n",
       "            background-color:  #fff5f0;\n",
       "            color:  #000000;\n",
       "        }    #T_e9da4e26_6e93_11ea_9e40_705a0f1a5828row69_col2 {\n",
       "            background-color:  #fff5f0;\n",
       "            color:  #000000;\n",
       "        }    #T_e9da4e26_6e93_11ea_9e40_705a0f1a5828row69_col3 {\n",
       "            background-color:  #fff5f0;\n",
       "            color:  #000000;\n",
       "        }    #T_e9da4e26_6e93_11ea_9e40_705a0f1a5828row69_col4 {\n",
       "            background-color:  #fff5f0;\n",
       "            color:  #000000;\n",
       "        }    #T_e9da4e26_6e93_11ea_9e40_705a0f1a5828row70_col1 {\n",
       "            background-color:  #fff5f0;\n",
       "            color:  #000000;\n",
       "        }    #T_e9da4e26_6e93_11ea_9e40_705a0f1a5828row70_col2 {\n",
       "            background-color:  #fff5f0;\n",
       "            color:  #000000;\n",
       "        }    #T_e9da4e26_6e93_11ea_9e40_705a0f1a5828row70_col3 {\n",
       "            background-color:  #fff5f0;\n",
       "            color:  #000000;\n",
       "        }    #T_e9da4e26_6e93_11ea_9e40_705a0f1a5828row70_col4 {\n",
       "            background-color:  #fff5f0;\n",
       "            color:  #000000;\n",
       "        }    #T_e9da4e26_6e93_11ea_9e40_705a0f1a5828row71_col1 {\n",
       "            background-color:  #fff5f0;\n",
       "            color:  #000000;\n",
       "        }    #T_e9da4e26_6e93_11ea_9e40_705a0f1a5828row71_col2 {\n",
       "            background-color:  #fff5f0;\n",
       "            color:  #000000;\n",
       "        }    #T_e9da4e26_6e93_11ea_9e40_705a0f1a5828row71_col3 {\n",
       "            background-color:  #fff5f0;\n",
       "            color:  #000000;\n",
       "        }    #T_e9da4e26_6e93_11ea_9e40_705a0f1a5828row71_col4 {\n",
       "            background-color:  #fff5f0;\n",
       "            color:  #000000;\n",
       "        }    #T_e9da4e26_6e93_11ea_9e40_705a0f1a5828row72_col1 {\n",
       "            background-color:  #fff5f0;\n",
       "            color:  #000000;\n",
       "        }    #T_e9da4e26_6e93_11ea_9e40_705a0f1a5828row72_col2 {\n",
       "            background-color:  #fff5f0;\n",
       "            color:  #000000;\n",
       "        }    #T_e9da4e26_6e93_11ea_9e40_705a0f1a5828row72_col3 {\n",
       "            background-color:  #fff5f0;\n",
       "            color:  #000000;\n",
       "        }    #T_e9da4e26_6e93_11ea_9e40_705a0f1a5828row72_col4 {\n",
       "            background-color:  #fff5f0;\n",
       "            color:  #000000;\n",
       "        }    #T_e9da4e26_6e93_11ea_9e40_705a0f1a5828row73_col1 {\n",
       "            background-color:  #fff5f0;\n",
       "            color:  #000000;\n",
       "        }    #T_e9da4e26_6e93_11ea_9e40_705a0f1a5828row73_col2 {\n",
       "            background-color:  #fff5f0;\n",
       "            color:  #000000;\n",
       "        }    #T_e9da4e26_6e93_11ea_9e40_705a0f1a5828row73_col3 {\n",
       "            background-color:  #fff5f0;\n",
       "            color:  #000000;\n",
       "        }    #T_e9da4e26_6e93_11ea_9e40_705a0f1a5828row73_col4 {\n",
       "            background-color:  #fff5f0;\n",
       "            color:  #000000;\n",
       "        }    #T_e9da4e26_6e93_11ea_9e40_705a0f1a5828row74_col1 {\n",
       "            background-color:  #fff5f0;\n",
       "            color:  #000000;\n",
       "        }    #T_e9da4e26_6e93_11ea_9e40_705a0f1a5828row74_col2 {\n",
       "            background-color:  #fff5f0;\n",
       "            color:  #000000;\n",
       "        }    #T_e9da4e26_6e93_11ea_9e40_705a0f1a5828row74_col3 {\n",
       "            background-color:  #fff5f0;\n",
       "            color:  #000000;\n",
       "        }    #T_e9da4e26_6e93_11ea_9e40_705a0f1a5828row74_col4 {\n",
       "            background-color:  #fff5f0;\n",
       "            color:  #000000;\n",
       "        }    #T_e9da4e26_6e93_11ea_9e40_705a0f1a5828row75_col1 {\n",
       "            background-color:  #fff5f0;\n",
       "            color:  #000000;\n",
       "        }    #T_e9da4e26_6e93_11ea_9e40_705a0f1a5828row75_col2 {\n",
       "            background-color:  #fff5f0;\n",
       "            color:  #000000;\n",
       "        }    #T_e9da4e26_6e93_11ea_9e40_705a0f1a5828row75_col3 {\n",
       "            background-color:  #fff5f0;\n",
       "            color:  #000000;\n",
       "        }    #T_e9da4e26_6e93_11ea_9e40_705a0f1a5828row75_col4 {\n",
       "            background-color:  #fff5f0;\n",
       "            color:  #000000;\n",
       "        }    #T_e9da4e26_6e93_11ea_9e40_705a0f1a5828row76_col1 {\n",
       "            background-color:  #fff5f0;\n",
       "            color:  #000000;\n",
       "        }    #T_e9da4e26_6e93_11ea_9e40_705a0f1a5828row76_col2 {\n",
       "            background-color:  #fff5f0;\n",
       "            color:  #000000;\n",
       "        }    #T_e9da4e26_6e93_11ea_9e40_705a0f1a5828row76_col3 {\n",
       "            background-color:  #fff5f0;\n",
       "            color:  #000000;\n",
       "        }    #T_e9da4e26_6e93_11ea_9e40_705a0f1a5828row76_col4 {\n",
       "            background-color:  #fff5f0;\n",
       "            color:  #000000;\n",
       "        }    #T_e9da4e26_6e93_11ea_9e40_705a0f1a5828row77_col1 {\n",
       "            background-color:  #fff5f0;\n",
       "            color:  #000000;\n",
       "        }    #T_e9da4e26_6e93_11ea_9e40_705a0f1a5828row77_col2 {\n",
       "            background-color:  #fff5f0;\n",
       "            color:  #000000;\n",
       "        }    #T_e9da4e26_6e93_11ea_9e40_705a0f1a5828row77_col3 {\n",
       "            background-color:  #fff5f0;\n",
       "            color:  #000000;\n",
       "        }    #T_e9da4e26_6e93_11ea_9e40_705a0f1a5828row77_col4 {\n",
       "            background-color:  #fff5f0;\n",
       "            color:  #000000;\n",
       "        }    #T_e9da4e26_6e93_11ea_9e40_705a0f1a5828row78_col1 {\n",
       "            background-color:  #fff5f0;\n",
       "            color:  #000000;\n",
       "        }    #T_e9da4e26_6e93_11ea_9e40_705a0f1a5828row78_col2 {\n",
       "            background-color:  #fff5f0;\n",
       "            color:  #000000;\n",
       "        }    #T_e9da4e26_6e93_11ea_9e40_705a0f1a5828row78_col3 {\n",
       "            background-color:  #fff5f0;\n",
       "            color:  #000000;\n",
       "        }    #T_e9da4e26_6e93_11ea_9e40_705a0f1a5828row78_col4 {\n",
       "            background-color:  #fff5f0;\n",
       "            color:  #000000;\n",
       "        }    #T_e9da4e26_6e93_11ea_9e40_705a0f1a5828row79_col1 {\n",
       "            background-color:  #fff5f0;\n",
       "            color:  #000000;\n",
       "        }    #T_e9da4e26_6e93_11ea_9e40_705a0f1a5828row79_col2 {\n",
       "            background-color:  #fff5f0;\n",
       "            color:  #000000;\n",
       "        }    #T_e9da4e26_6e93_11ea_9e40_705a0f1a5828row79_col3 {\n",
       "            background-color:  #fff5f0;\n",
       "            color:  #000000;\n",
       "        }    #T_e9da4e26_6e93_11ea_9e40_705a0f1a5828row79_col4 {\n",
       "            background-color:  #fff5f0;\n",
       "            color:  #000000;\n",
       "        }    #T_e9da4e26_6e93_11ea_9e40_705a0f1a5828row80_col1 {\n",
       "            background-color:  #fff5f0;\n",
       "            color:  #000000;\n",
       "        }    #T_e9da4e26_6e93_11ea_9e40_705a0f1a5828row80_col2 {\n",
       "            background-color:  #fff5f0;\n",
       "            color:  #000000;\n",
       "        }    #T_e9da4e26_6e93_11ea_9e40_705a0f1a5828row80_col3 {\n",
       "            background-color:  #fff5f0;\n",
       "            color:  #000000;\n",
       "        }    #T_e9da4e26_6e93_11ea_9e40_705a0f1a5828row80_col4 {\n",
       "            background-color:  #fff5f0;\n",
       "            color:  #000000;\n",
       "        }    #T_e9da4e26_6e93_11ea_9e40_705a0f1a5828row81_col1 {\n",
       "            background-color:  #fff5f0;\n",
       "            color:  #000000;\n",
       "        }    #T_e9da4e26_6e93_11ea_9e40_705a0f1a5828row81_col2 {\n",
       "            background-color:  #fff5f0;\n",
       "            color:  #000000;\n",
       "        }    #T_e9da4e26_6e93_11ea_9e40_705a0f1a5828row81_col3 {\n",
       "            background-color:  #fff5f0;\n",
       "            color:  #000000;\n",
       "        }    #T_e9da4e26_6e93_11ea_9e40_705a0f1a5828row81_col4 {\n",
       "            background-color:  #fff5f0;\n",
       "            color:  #000000;\n",
       "        }    #T_e9da4e26_6e93_11ea_9e40_705a0f1a5828row82_col1 {\n",
       "            background-color:  #fff5f0;\n",
       "            color:  #000000;\n",
       "        }    #T_e9da4e26_6e93_11ea_9e40_705a0f1a5828row82_col2 {\n",
       "            background-color:  #fff5f0;\n",
       "            color:  #000000;\n",
       "        }    #T_e9da4e26_6e93_11ea_9e40_705a0f1a5828row82_col3 {\n",
       "            background-color:  #fff5f0;\n",
       "            color:  #000000;\n",
       "        }    #T_e9da4e26_6e93_11ea_9e40_705a0f1a5828row82_col4 {\n",
       "            background-color:  #fff5f0;\n",
       "            color:  #000000;\n",
       "        }    #T_e9da4e26_6e93_11ea_9e40_705a0f1a5828row83_col1 {\n",
       "            background-color:  #fff5f0;\n",
       "            color:  #000000;\n",
       "        }    #T_e9da4e26_6e93_11ea_9e40_705a0f1a5828row83_col2 {\n",
       "            background-color:  #fff5f0;\n",
       "            color:  #000000;\n",
       "        }    #T_e9da4e26_6e93_11ea_9e40_705a0f1a5828row83_col3 {\n",
       "            background-color:  #fff5f0;\n",
       "            color:  #000000;\n",
       "        }    #T_e9da4e26_6e93_11ea_9e40_705a0f1a5828row83_col4 {\n",
       "            background-color:  #fff5f0;\n",
       "            color:  #000000;\n",
       "        }    #T_e9da4e26_6e93_11ea_9e40_705a0f1a5828row84_col1 {\n",
       "            background-color:  #fff5f0;\n",
       "            color:  #000000;\n",
       "        }    #T_e9da4e26_6e93_11ea_9e40_705a0f1a5828row84_col2 {\n",
       "            background-color:  #fff5f0;\n",
       "            color:  #000000;\n",
       "        }    #T_e9da4e26_6e93_11ea_9e40_705a0f1a5828row84_col3 {\n",
       "            background-color:  #fff5f0;\n",
       "            color:  #000000;\n",
       "        }    #T_e9da4e26_6e93_11ea_9e40_705a0f1a5828row84_col4 {\n",
       "            background-color:  #fff5f0;\n",
       "            color:  #000000;\n",
       "        }    #T_e9da4e26_6e93_11ea_9e40_705a0f1a5828row85_col1 {\n",
       "            background-color:  #fff5f0;\n",
       "            color:  #000000;\n",
       "        }    #T_e9da4e26_6e93_11ea_9e40_705a0f1a5828row85_col2 {\n",
       "            background-color:  #fff5f0;\n",
       "            color:  #000000;\n",
       "        }    #T_e9da4e26_6e93_11ea_9e40_705a0f1a5828row85_col3 {\n",
       "            background-color:  #fff5f0;\n",
       "            color:  #000000;\n",
       "        }    #T_e9da4e26_6e93_11ea_9e40_705a0f1a5828row85_col4 {\n",
       "            background-color:  #fff5f0;\n",
       "            color:  #000000;\n",
       "        }    #T_e9da4e26_6e93_11ea_9e40_705a0f1a5828row86_col1 {\n",
       "            background-color:  #fff5f0;\n",
       "            color:  #000000;\n",
       "        }    #T_e9da4e26_6e93_11ea_9e40_705a0f1a5828row86_col2 {\n",
       "            background-color:  #fff5f0;\n",
       "            color:  #000000;\n",
       "        }    #T_e9da4e26_6e93_11ea_9e40_705a0f1a5828row86_col3 {\n",
       "            background-color:  #fff5f0;\n",
       "            color:  #000000;\n",
       "        }    #T_e9da4e26_6e93_11ea_9e40_705a0f1a5828row86_col4 {\n",
       "            background-color:  #fff5f0;\n",
       "            color:  #000000;\n",
       "        }    #T_e9da4e26_6e93_11ea_9e40_705a0f1a5828row87_col1 {\n",
       "            background-color:  #fff5f0;\n",
       "            color:  #000000;\n",
       "        }    #T_e9da4e26_6e93_11ea_9e40_705a0f1a5828row87_col2 {\n",
       "            background-color:  #fff5f0;\n",
       "            color:  #000000;\n",
       "        }    #T_e9da4e26_6e93_11ea_9e40_705a0f1a5828row87_col3 {\n",
       "            background-color:  #fff5f0;\n",
       "            color:  #000000;\n",
       "        }    #T_e9da4e26_6e93_11ea_9e40_705a0f1a5828row87_col4 {\n",
       "            background-color:  #fff5f0;\n",
       "            color:  #000000;\n",
       "        }    #T_e9da4e26_6e93_11ea_9e40_705a0f1a5828row88_col1 {\n",
       "            background-color:  #fff5f0;\n",
       "            color:  #000000;\n",
       "        }    #T_e9da4e26_6e93_11ea_9e40_705a0f1a5828row88_col2 {\n",
       "            background-color:  #fff5f0;\n",
       "            color:  #000000;\n",
       "        }    #T_e9da4e26_6e93_11ea_9e40_705a0f1a5828row88_col3 {\n",
       "            background-color:  #fff5f0;\n",
       "            color:  #000000;\n",
       "        }    #T_e9da4e26_6e93_11ea_9e40_705a0f1a5828row88_col4 {\n",
       "            background-color:  #fff5f0;\n",
       "            color:  #000000;\n",
       "        }    #T_e9da4e26_6e93_11ea_9e40_705a0f1a5828row89_col1 {\n",
       "            background-color:  #fff5f0;\n",
       "            color:  #000000;\n",
       "        }    #T_e9da4e26_6e93_11ea_9e40_705a0f1a5828row89_col2 {\n",
       "            background-color:  #fff5f0;\n",
       "            color:  #000000;\n",
       "        }    #T_e9da4e26_6e93_11ea_9e40_705a0f1a5828row89_col3 {\n",
       "            background-color:  #fff5f0;\n",
       "            color:  #000000;\n",
       "        }    #T_e9da4e26_6e93_11ea_9e40_705a0f1a5828row89_col4 {\n",
       "            background-color:  #fff5f0;\n",
       "            color:  #000000;\n",
       "        }    #T_e9da4e26_6e93_11ea_9e40_705a0f1a5828row90_col1 {\n",
       "            background-color:  #fff5f0;\n",
       "            color:  #000000;\n",
       "        }    #T_e9da4e26_6e93_11ea_9e40_705a0f1a5828row90_col2 {\n",
       "            background-color:  #fff5f0;\n",
       "            color:  #000000;\n",
       "        }    #T_e9da4e26_6e93_11ea_9e40_705a0f1a5828row90_col3 {\n",
       "            background-color:  #fff5f0;\n",
       "            color:  #000000;\n",
       "        }    #T_e9da4e26_6e93_11ea_9e40_705a0f1a5828row90_col4 {\n",
       "            background-color:  #fff5f0;\n",
       "            color:  #000000;\n",
       "        }    #T_e9da4e26_6e93_11ea_9e40_705a0f1a5828row91_col1 {\n",
       "            background-color:  #fff5f0;\n",
       "            color:  #000000;\n",
       "        }    #T_e9da4e26_6e93_11ea_9e40_705a0f1a5828row91_col2 {\n",
       "            background-color:  #fff5f0;\n",
       "            color:  #000000;\n",
       "        }    #T_e9da4e26_6e93_11ea_9e40_705a0f1a5828row91_col3 {\n",
       "            background-color:  #fff5f0;\n",
       "            color:  #000000;\n",
       "        }    #T_e9da4e26_6e93_11ea_9e40_705a0f1a5828row91_col4 {\n",
       "            background-color:  #fff5f0;\n",
       "            color:  #000000;\n",
       "        }    #T_e9da4e26_6e93_11ea_9e40_705a0f1a5828row92_col1 {\n",
       "            background-color:  #fff5f0;\n",
       "            color:  #000000;\n",
       "        }    #T_e9da4e26_6e93_11ea_9e40_705a0f1a5828row92_col2 {\n",
       "            background-color:  #fff5f0;\n",
       "            color:  #000000;\n",
       "        }    #T_e9da4e26_6e93_11ea_9e40_705a0f1a5828row92_col3 {\n",
       "            background-color:  #fff5f0;\n",
       "            color:  #000000;\n",
       "        }    #T_e9da4e26_6e93_11ea_9e40_705a0f1a5828row92_col4 {\n",
       "            background-color:  #fff5f0;\n",
       "            color:  #000000;\n",
       "        }    #T_e9da4e26_6e93_11ea_9e40_705a0f1a5828row93_col1 {\n",
       "            background-color:  #fff5f0;\n",
       "            color:  #000000;\n",
       "        }    #T_e9da4e26_6e93_11ea_9e40_705a0f1a5828row93_col2 {\n",
       "            background-color:  #fff5f0;\n",
       "            color:  #000000;\n",
       "        }    #T_e9da4e26_6e93_11ea_9e40_705a0f1a5828row93_col3 {\n",
       "            background-color:  #fff5f0;\n",
       "            color:  #000000;\n",
       "        }    #T_e9da4e26_6e93_11ea_9e40_705a0f1a5828row93_col4 {\n",
       "            background-color:  #fff5f0;\n",
       "            color:  #000000;\n",
       "        }    #T_e9da4e26_6e93_11ea_9e40_705a0f1a5828row94_col1 {\n",
       "            background-color:  #fff5f0;\n",
       "            color:  #000000;\n",
       "        }    #T_e9da4e26_6e93_11ea_9e40_705a0f1a5828row94_col2 {\n",
       "            background-color:  #fff5f0;\n",
       "            color:  #000000;\n",
       "        }    #T_e9da4e26_6e93_11ea_9e40_705a0f1a5828row94_col3 {\n",
       "            background-color:  #fff5f0;\n",
       "            color:  #000000;\n",
       "        }    #T_e9da4e26_6e93_11ea_9e40_705a0f1a5828row94_col4 {\n",
       "            background-color:  #fff5f0;\n",
       "            color:  #000000;\n",
       "        }    #T_e9da4e26_6e93_11ea_9e40_705a0f1a5828row95_col1 {\n",
       "            background-color:  #fff5f0;\n",
       "            color:  #000000;\n",
       "        }    #T_e9da4e26_6e93_11ea_9e40_705a0f1a5828row95_col2 {\n",
       "            background-color:  #fff5f0;\n",
       "            color:  #000000;\n",
       "        }    #T_e9da4e26_6e93_11ea_9e40_705a0f1a5828row95_col3 {\n",
       "            background-color:  #fff5f0;\n",
       "            color:  #000000;\n",
       "        }    #T_e9da4e26_6e93_11ea_9e40_705a0f1a5828row95_col4 {\n",
       "            background-color:  #fff5f0;\n",
       "            color:  #000000;\n",
       "        }    #T_e9da4e26_6e93_11ea_9e40_705a0f1a5828row96_col1 {\n",
       "            background-color:  #fff5f0;\n",
       "            color:  #000000;\n",
       "        }    #T_e9da4e26_6e93_11ea_9e40_705a0f1a5828row96_col2 {\n",
       "            background-color:  #fff5f0;\n",
       "            color:  #000000;\n",
       "        }    #T_e9da4e26_6e93_11ea_9e40_705a0f1a5828row96_col3 {\n",
       "            background-color:  #fff5f0;\n",
       "            color:  #000000;\n",
       "        }    #T_e9da4e26_6e93_11ea_9e40_705a0f1a5828row96_col4 {\n",
       "            background-color:  #fff5f0;\n",
       "            color:  #000000;\n",
       "        }    #T_e9da4e26_6e93_11ea_9e40_705a0f1a5828row97_col1 {\n",
       "            background-color:  #fff5f0;\n",
       "            color:  #000000;\n",
       "        }    #T_e9da4e26_6e93_11ea_9e40_705a0f1a5828row97_col2 {\n",
       "            background-color:  #fff5f0;\n",
       "            color:  #000000;\n",
       "        }    #T_e9da4e26_6e93_11ea_9e40_705a0f1a5828row97_col3 {\n",
       "            background-color:  #fff5f0;\n",
       "            color:  #000000;\n",
       "        }    #T_e9da4e26_6e93_11ea_9e40_705a0f1a5828row97_col4 {\n",
       "            background-color:  #fff5f0;\n",
       "            color:  #000000;\n",
       "        }    #T_e9da4e26_6e93_11ea_9e40_705a0f1a5828row98_col1 {\n",
       "            background-color:  #fff5f0;\n",
       "            color:  #000000;\n",
       "        }    #T_e9da4e26_6e93_11ea_9e40_705a0f1a5828row98_col2 {\n",
       "            background-color:  #fff5f0;\n",
       "            color:  #000000;\n",
       "        }    #T_e9da4e26_6e93_11ea_9e40_705a0f1a5828row98_col3 {\n",
       "            background-color:  #fff5f0;\n",
       "            color:  #000000;\n",
       "        }    #T_e9da4e26_6e93_11ea_9e40_705a0f1a5828row98_col4 {\n",
       "            background-color:  #fff5f0;\n",
       "            color:  #000000;\n",
       "        }    #T_e9da4e26_6e93_11ea_9e40_705a0f1a5828row99_col1 {\n",
       "            background-color:  #fff5f0;\n",
       "            color:  #000000;\n",
       "        }    #T_e9da4e26_6e93_11ea_9e40_705a0f1a5828row99_col2 {\n",
       "            background-color:  #fff5f0;\n",
       "            color:  #000000;\n",
       "        }    #T_e9da4e26_6e93_11ea_9e40_705a0f1a5828row99_col3 {\n",
       "            background-color:  #fff5f0;\n",
       "            color:  #000000;\n",
       "        }    #T_e9da4e26_6e93_11ea_9e40_705a0f1a5828row99_col4 {\n",
       "            background-color:  #fff5f0;\n",
       "            color:  #000000;\n",
       "        }    #T_e9da4e26_6e93_11ea_9e40_705a0f1a5828row100_col1 {\n",
       "            background-color:  #fff5f0;\n",
       "            color:  #000000;\n",
       "        }    #T_e9da4e26_6e93_11ea_9e40_705a0f1a5828row100_col2 {\n",
       "            background-color:  #fff5f0;\n",
       "            color:  #000000;\n",
       "        }    #T_e9da4e26_6e93_11ea_9e40_705a0f1a5828row100_col3 {\n",
       "            background-color:  #fff5f0;\n",
       "            color:  #000000;\n",
       "        }    #T_e9da4e26_6e93_11ea_9e40_705a0f1a5828row100_col4 {\n",
       "            background-color:  #fff5f0;\n",
       "            color:  #000000;\n",
       "        }    #T_e9da4e26_6e93_11ea_9e40_705a0f1a5828row101_col1 {\n",
       "            background-color:  #fff5f0;\n",
       "            color:  #000000;\n",
       "        }    #T_e9da4e26_6e93_11ea_9e40_705a0f1a5828row101_col2 {\n",
       "            background-color:  #fff5f0;\n",
       "            color:  #000000;\n",
       "        }    #T_e9da4e26_6e93_11ea_9e40_705a0f1a5828row101_col3 {\n",
       "            background-color:  #fff5f0;\n",
       "            color:  #000000;\n",
       "        }    #T_e9da4e26_6e93_11ea_9e40_705a0f1a5828row101_col4 {\n",
       "            background-color:  #fff5f0;\n",
       "            color:  #000000;\n",
       "        }    #T_e9da4e26_6e93_11ea_9e40_705a0f1a5828row102_col1 {\n",
       "            background-color:  #fff5f0;\n",
       "            color:  #000000;\n",
       "        }    #T_e9da4e26_6e93_11ea_9e40_705a0f1a5828row102_col2 {\n",
       "            background-color:  #fff5f0;\n",
       "            color:  #000000;\n",
       "        }    #T_e9da4e26_6e93_11ea_9e40_705a0f1a5828row102_col3 {\n",
       "            background-color:  #fff5f0;\n",
       "            color:  #000000;\n",
       "        }    #T_e9da4e26_6e93_11ea_9e40_705a0f1a5828row102_col4 {\n",
       "            background-color:  #fff5f0;\n",
       "            color:  #000000;\n",
       "        }    #T_e9da4e26_6e93_11ea_9e40_705a0f1a5828row103_col1 {\n",
       "            background-color:  #fff5f0;\n",
       "            color:  #000000;\n",
       "        }    #T_e9da4e26_6e93_11ea_9e40_705a0f1a5828row103_col2 {\n",
       "            background-color:  #fff5f0;\n",
       "            color:  #000000;\n",
       "        }    #T_e9da4e26_6e93_11ea_9e40_705a0f1a5828row103_col3 {\n",
       "            background-color:  #fff5f0;\n",
       "            color:  #000000;\n",
       "        }    #T_e9da4e26_6e93_11ea_9e40_705a0f1a5828row103_col4 {\n",
       "            background-color:  #fff5f0;\n",
       "            color:  #000000;\n",
       "        }    #T_e9da4e26_6e93_11ea_9e40_705a0f1a5828row104_col1 {\n",
       "            background-color:  #fff5f0;\n",
       "            color:  #000000;\n",
       "        }    #T_e9da4e26_6e93_11ea_9e40_705a0f1a5828row104_col2 {\n",
       "            background-color:  #fff5f0;\n",
       "            color:  #000000;\n",
       "        }    #T_e9da4e26_6e93_11ea_9e40_705a0f1a5828row104_col3 {\n",
       "            background-color:  #fff5f0;\n",
       "            color:  #000000;\n",
       "        }    #T_e9da4e26_6e93_11ea_9e40_705a0f1a5828row104_col4 {\n",
       "            background-color:  #fff5f0;\n",
       "            color:  #000000;\n",
       "        }    #T_e9da4e26_6e93_11ea_9e40_705a0f1a5828row105_col1 {\n",
       "            background-color:  #fff5f0;\n",
       "            color:  #000000;\n",
       "        }    #T_e9da4e26_6e93_11ea_9e40_705a0f1a5828row105_col2 {\n",
       "            background-color:  #fff5f0;\n",
       "            color:  #000000;\n",
       "        }    #T_e9da4e26_6e93_11ea_9e40_705a0f1a5828row105_col3 {\n",
       "            background-color:  #fff5f0;\n",
       "            color:  #000000;\n",
       "        }    #T_e9da4e26_6e93_11ea_9e40_705a0f1a5828row105_col4 {\n",
       "            background-color:  #fff5f0;\n",
       "            color:  #000000;\n",
       "        }    #T_e9da4e26_6e93_11ea_9e40_705a0f1a5828row106_col1 {\n",
       "            background-color:  #fff5f0;\n",
       "            color:  #000000;\n",
       "        }    #T_e9da4e26_6e93_11ea_9e40_705a0f1a5828row106_col2 {\n",
       "            background-color:  #fff5f0;\n",
       "            color:  #000000;\n",
       "        }    #T_e9da4e26_6e93_11ea_9e40_705a0f1a5828row106_col3 {\n",
       "            background-color:  #fff5f0;\n",
       "            color:  #000000;\n",
       "        }    #T_e9da4e26_6e93_11ea_9e40_705a0f1a5828row106_col4 {\n",
       "            background-color:  #fff5f0;\n",
       "            color:  #000000;\n",
       "        }    #T_e9da4e26_6e93_11ea_9e40_705a0f1a5828row107_col1 {\n",
       "            background-color:  #fff5f0;\n",
       "            color:  #000000;\n",
       "        }    #T_e9da4e26_6e93_11ea_9e40_705a0f1a5828row107_col2 {\n",
       "            background-color:  #fff5f0;\n",
       "            color:  #000000;\n",
       "        }    #T_e9da4e26_6e93_11ea_9e40_705a0f1a5828row107_col3 {\n",
       "            background-color:  #fff5f0;\n",
       "            color:  #000000;\n",
       "        }    #T_e9da4e26_6e93_11ea_9e40_705a0f1a5828row107_col4 {\n",
       "            background-color:  #fff5f0;\n",
       "            color:  #000000;\n",
       "        }    #T_e9da4e26_6e93_11ea_9e40_705a0f1a5828row108_col1 {\n",
       "            background-color:  #fff5f0;\n",
       "            color:  #000000;\n",
       "        }    #T_e9da4e26_6e93_11ea_9e40_705a0f1a5828row108_col2 {\n",
       "            background-color:  #fff5f0;\n",
       "            color:  #000000;\n",
       "        }    #T_e9da4e26_6e93_11ea_9e40_705a0f1a5828row108_col3 {\n",
       "            background-color:  #fff5f0;\n",
       "            color:  #000000;\n",
       "        }    #T_e9da4e26_6e93_11ea_9e40_705a0f1a5828row108_col4 {\n",
       "            background-color:  #fff5f0;\n",
       "            color:  #000000;\n",
       "        }    #T_e9da4e26_6e93_11ea_9e40_705a0f1a5828row109_col1 {\n",
       "            background-color:  #fff5f0;\n",
       "            color:  #000000;\n",
       "        }    #T_e9da4e26_6e93_11ea_9e40_705a0f1a5828row109_col2 {\n",
       "            background-color:  #fff5f0;\n",
       "            color:  #000000;\n",
       "        }    #T_e9da4e26_6e93_11ea_9e40_705a0f1a5828row109_col3 {\n",
       "            background-color:  #fff5f0;\n",
       "            color:  #000000;\n",
       "        }    #T_e9da4e26_6e93_11ea_9e40_705a0f1a5828row109_col4 {\n",
       "            background-color:  #fff5f0;\n",
       "            color:  #000000;\n",
       "        }    #T_e9da4e26_6e93_11ea_9e40_705a0f1a5828row110_col1 {\n",
       "            background-color:  #fff5f0;\n",
       "            color:  #000000;\n",
       "        }    #T_e9da4e26_6e93_11ea_9e40_705a0f1a5828row110_col2 {\n",
       "            background-color:  #fff5f0;\n",
       "            color:  #000000;\n",
       "        }    #T_e9da4e26_6e93_11ea_9e40_705a0f1a5828row110_col3 {\n",
       "            background-color:  #fff5f0;\n",
       "            color:  #000000;\n",
       "        }    #T_e9da4e26_6e93_11ea_9e40_705a0f1a5828row110_col4 {\n",
       "            background-color:  #fff5f0;\n",
       "            color:  #000000;\n",
       "        }    #T_e9da4e26_6e93_11ea_9e40_705a0f1a5828row111_col1 {\n",
       "            background-color:  #fff5f0;\n",
       "            color:  #000000;\n",
       "        }    #T_e9da4e26_6e93_11ea_9e40_705a0f1a5828row111_col2 {\n",
       "            background-color:  #fff5f0;\n",
       "            color:  #000000;\n",
       "        }    #T_e9da4e26_6e93_11ea_9e40_705a0f1a5828row111_col3 {\n",
       "            background-color:  #fff5f0;\n",
       "            color:  #000000;\n",
       "        }    #T_e9da4e26_6e93_11ea_9e40_705a0f1a5828row111_col4 {\n",
       "            background-color:  #fff5f0;\n",
       "            color:  #000000;\n",
       "        }    #T_e9da4e26_6e93_11ea_9e40_705a0f1a5828row112_col1 {\n",
       "            background-color:  #fff5f0;\n",
       "            color:  #000000;\n",
       "        }    #T_e9da4e26_6e93_11ea_9e40_705a0f1a5828row112_col2 {\n",
       "            background-color:  #fff5f0;\n",
       "            color:  #000000;\n",
       "        }    #T_e9da4e26_6e93_11ea_9e40_705a0f1a5828row112_col3 {\n",
       "            background-color:  #fff5f0;\n",
       "            color:  #000000;\n",
       "        }    #T_e9da4e26_6e93_11ea_9e40_705a0f1a5828row112_col4 {\n",
       "            background-color:  #fff5f0;\n",
       "            color:  #000000;\n",
       "        }    #T_e9da4e26_6e93_11ea_9e40_705a0f1a5828row113_col1 {\n",
       "            background-color:  #fff5f0;\n",
       "            color:  #000000;\n",
       "        }    #T_e9da4e26_6e93_11ea_9e40_705a0f1a5828row113_col2 {\n",
       "            background-color:  #fff5f0;\n",
       "            color:  #000000;\n",
       "        }    #T_e9da4e26_6e93_11ea_9e40_705a0f1a5828row113_col3 {\n",
       "            background-color:  #fff5f0;\n",
       "            color:  #000000;\n",
       "        }    #T_e9da4e26_6e93_11ea_9e40_705a0f1a5828row113_col4 {\n",
       "            background-color:  #fff5f0;\n",
       "            color:  #000000;\n",
       "        }    #T_e9da4e26_6e93_11ea_9e40_705a0f1a5828row114_col1 {\n",
       "            background-color:  #fff5f0;\n",
       "            color:  #000000;\n",
       "        }    #T_e9da4e26_6e93_11ea_9e40_705a0f1a5828row114_col2 {\n",
       "            background-color:  #fff5f0;\n",
       "            color:  #000000;\n",
       "        }    #T_e9da4e26_6e93_11ea_9e40_705a0f1a5828row114_col3 {\n",
       "            background-color:  #fff5f0;\n",
       "            color:  #000000;\n",
       "        }    #T_e9da4e26_6e93_11ea_9e40_705a0f1a5828row114_col4 {\n",
       "            background-color:  #fff5f0;\n",
       "            color:  #000000;\n",
       "        }    #T_e9da4e26_6e93_11ea_9e40_705a0f1a5828row115_col1 {\n",
       "            background-color:  #fff5f0;\n",
       "            color:  #000000;\n",
       "        }    #T_e9da4e26_6e93_11ea_9e40_705a0f1a5828row115_col2 {\n",
       "            background-color:  #fff5f0;\n",
       "            color:  #000000;\n",
       "        }    #T_e9da4e26_6e93_11ea_9e40_705a0f1a5828row115_col3 {\n",
       "            background-color:  #fff5f0;\n",
       "            color:  #000000;\n",
       "        }    #T_e9da4e26_6e93_11ea_9e40_705a0f1a5828row115_col4 {\n",
       "            background-color:  #fff5f0;\n",
       "            color:  #000000;\n",
       "        }    #T_e9da4e26_6e93_11ea_9e40_705a0f1a5828row116_col1 {\n",
       "            background-color:  #fff5f0;\n",
       "            color:  #000000;\n",
       "        }    #T_e9da4e26_6e93_11ea_9e40_705a0f1a5828row116_col2 {\n",
       "            background-color:  #fff5f0;\n",
       "            color:  #000000;\n",
       "        }    #T_e9da4e26_6e93_11ea_9e40_705a0f1a5828row116_col3 {\n",
       "            background-color:  #fff5f0;\n",
       "            color:  #000000;\n",
       "        }    #T_e9da4e26_6e93_11ea_9e40_705a0f1a5828row116_col4 {\n",
       "            background-color:  #fff5f0;\n",
       "            color:  #000000;\n",
       "        }    #T_e9da4e26_6e93_11ea_9e40_705a0f1a5828row117_col1 {\n",
       "            background-color:  #fff5f0;\n",
       "            color:  #000000;\n",
       "        }    #T_e9da4e26_6e93_11ea_9e40_705a0f1a5828row117_col2 {\n",
       "            background-color:  #fff5f0;\n",
       "            color:  #000000;\n",
       "        }    #T_e9da4e26_6e93_11ea_9e40_705a0f1a5828row117_col3 {\n",
       "            background-color:  #fff5f0;\n",
       "            color:  #000000;\n",
       "        }    #T_e9da4e26_6e93_11ea_9e40_705a0f1a5828row117_col4 {\n",
       "            background-color:  #fff5f0;\n",
       "            color:  #000000;\n",
       "        }    #T_e9da4e26_6e93_11ea_9e40_705a0f1a5828row118_col1 {\n",
       "            background-color:  #fff5f0;\n",
       "            color:  #000000;\n",
       "        }    #T_e9da4e26_6e93_11ea_9e40_705a0f1a5828row118_col2 {\n",
       "            background-color:  #fff5f0;\n",
       "            color:  #000000;\n",
       "        }    #T_e9da4e26_6e93_11ea_9e40_705a0f1a5828row118_col3 {\n",
       "            background-color:  #fff5f0;\n",
       "            color:  #000000;\n",
       "        }    #T_e9da4e26_6e93_11ea_9e40_705a0f1a5828row118_col4 {\n",
       "            background-color:  #fff5f0;\n",
       "            color:  #000000;\n",
       "        }    #T_e9da4e26_6e93_11ea_9e40_705a0f1a5828row119_col1 {\n",
       "            background-color:  #fff5f0;\n",
       "            color:  #000000;\n",
       "        }    #T_e9da4e26_6e93_11ea_9e40_705a0f1a5828row119_col2 {\n",
       "            background-color:  #fff5f0;\n",
       "            color:  #000000;\n",
       "        }    #T_e9da4e26_6e93_11ea_9e40_705a0f1a5828row119_col3 {\n",
       "            background-color:  #fff5f0;\n",
       "            color:  #000000;\n",
       "        }    #T_e9da4e26_6e93_11ea_9e40_705a0f1a5828row119_col4 {\n",
       "            background-color:  #fff5f0;\n",
       "            color:  #000000;\n",
       "        }    #T_e9da4e26_6e93_11ea_9e40_705a0f1a5828row120_col1 {\n",
       "            background-color:  #fff5f0;\n",
       "            color:  #000000;\n",
       "        }    #T_e9da4e26_6e93_11ea_9e40_705a0f1a5828row120_col2 {\n",
       "            background-color:  #fff5f0;\n",
       "            color:  #000000;\n",
       "        }    #T_e9da4e26_6e93_11ea_9e40_705a0f1a5828row120_col3 {\n",
       "            background-color:  #fff5f0;\n",
       "            color:  #000000;\n",
       "        }    #T_e9da4e26_6e93_11ea_9e40_705a0f1a5828row120_col4 {\n",
       "            background-color:  #fff5f0;\n",
       "            color:  #000000;\n",
       "        }    #T_e9da4e26_6e93_11ea_9e40_705a0f1a5828row121_col1 {\n",
       "            background-color:  #fff5f0;\n",
       "            color:  #000000;\n",
       "        }    #T_e9da4e26_6e93_11ea_9e40_705a0f1a5828row121_col2 {\n",
       "            background-color:  #fff5f0;\n",
       "            color:  #000000;\n",
       "        }    #T_e9da4e26_6e93_11ea_9e40_705a0f1a5828row121_col3 {\n",
       "            background-color:  #fff5f0;\n",
       "            color:  #000000;\n",
       "        }    #T_e9da4e26_6e93_11ea_9e40_705a0f1a5828row121_col4 {\n",
       "            background-color:  #fff5f0;\n",
       "            color:  #000000;\n",
       "        }    #T_e9da4e26_6e93_11ea_9e40_705a0f1a5828row122_col1 {\n",
       "            background-color:  #fff5f0;\n",
       "            color:  #000000;\n",
       "        }    #T_e9da4e26_6e93_11ea_9e40_705a0f1a5828row122_col2 {\n",
       "            background-color:  #fff5f0;\n",
       "            color:  #000000;\n",
       "        }    #T_e9da4e26_6e93_11ea_9e40_705a0f1a5828row122_col3 {\n",
       "            background-color:  #fff5f0;\n",
       "            color:  #000000;\n",
       "        }    #T_e9da4e26_6e93_11ea_9e40_705a0f1a5828row122_col4 {\n",
       "            background-color:  #fff5f0;\n",
       "            color:  #000000;\n",
       "        }    #T_e9da4e26_6e93_11ea_9e40_705a0f1a5828row123_col1 {\n",
       "            background-color:  #fff5f0;\n",
       "            color:  #000000;\n",
       "        }    #T_e9da4e26_6e93_11ea_9e40_705a0f1a5828row123_col2 {\n",
       "            background-color:  #fff5f0;\n",
       "            color:  #000000;\n",
       "        }    #T_e9da4e26_6e93_11ea_9e40_705a0f1a5828row123_col3 {\n",
       "            background-color:  #fff5f0;\n",
       "            color:  #000000;\n",
       "        }    #T_e9da4e26_6e93_11ea_9e40_705a0f1a5828row123_col4 {\n",
       "            background-color:  #fff5f0;\n",
       "            color:  #000000;\n",
       "        }    #T_e9da4e26_6e93_11ea_9e40_705a0f1a5828row124_col1 {\n",
       "            background-color:  #fff5f0;\n",
       "            color:  #000000;\n",
       "        }    #T_e9da4e26_6e93_11ea_9e40_705a0f1a5828row124_col2 {\n",
       "            background-color:  #fff5f0;\n",
       "            color:  #000000;\n",
       "        }    #T_e9da4e26_6e93_11ea_9e40_705a0f1a5828row124_col3 {\n",
       "            background-color:  #fff5f0;\n",
       "            color:  #000000;\n",
       "        }    #T_e9da4e26_6e93_11ea_9e40_705a0f1a5828row124_col4 {\n",
       "            background-color:  #fff5f0;\n",
       "            color:  #000000;\n",
       "        }    #T_e9da4e26_6e93_11ea_9e40_705a0f1a5828row125_col1 {\n",
       "            background-color:  #fff5f0;\n",
       "            color:  #000000;\n",
       "        }    #T_e9da4e26_6e93_11ea_9e40_705a0f1a5828row125_col2 {\n",
       "            background-color:  #fff5f0;\n",
       "            color:  #000000;\n",
       "        }    #T_e9da4e26_6e93_11ea_9e40_705a0f1a5828row125_col3 {\n",
       "            background-color:  #fff5f0;\n",
       "            color:  #000000;\n",
       "        }    #T_e9da4e26_6e93_11ea_9e40_705a0f1a5828row125_col4 {\n",
       "            background-color:  #fff5f0;\n",
       "            color:  #000000;\n",
       "        }    #T_e9da4e26_6e93_11ea_9e40_705a0f1a5828row126_col1 {\n",
       "            background-color:  #fff5f0;\n",
       "            color:  #000000;\n",
       "        }    #T_e9da4e26_6e93_11ea_9e40_705a0f1a5828row126_col2 {\n",
       "            background-color:  #fff5f0;\n",
       "            color:  #000000;\n",
       "        }    #T_e9da4e26_6e93_11ea_9e40_705a0f1a5828row126_col3 {\n",
       "            background-color:  #fff5f0;\n",
       "            color:  #000000;\n",
       "        }    #T_e9da4e26_6e93_11ea_9e40_705a0f1a5828row126_col4 {\n",
       "            background-color:  #fff5f0;\n",
       "            color:  #000000;\n",
       "        }    #T_e9da4e26_6e93_11ea_9e40_705a0f1a5828row127_col1 {\n",
       "            background-color:  #fff5f0;\n",
       "            color:  #000000;\n",
       "        }    #T_e9da4e26_6e93_11ea_9e40_705a0f1a5828row127_col2 {\n",
       "            background-color:  #fff5f0;\n",
       "            color:  #000000;\n",
       "        }    #T_e9da4e26_6e93_11ea_9e40_705a0f1a5828row127_col3 {\n",
       "            background-color:  #fff5f0;\n",
       "            color:  #000000;\n",
       "        }    #T_e9da4e26_6e93_11ea_9e40_705a0f1a5828row127_col4 {\n",
       "            background-color:  #fff5f0;\n",
       "            color:  #000000;\n",
       "        }    #T_e9da4e26_6e93_11ea_9e40_705a0f1a5828row128_col1 {\n",
       "            background-color:  #fff5f0;\n",
       "            color:  #000000;\n",
       "        }    #T_e9da4e26_6e93_11ea_9e40_705a0f1a5828row128_col2 {\n",
       "            background-color:  #fff5f0;\n",
       "            color:  #000000;\n",
       "        }    #T_e9da4e26_6e93_11ea_9e40_705a0f1a5828row128_col3 {\n",
       "            background-color:  #fff5f0;\n",
       "            color:  #000000;\n",
       "        }    #T_e9da4e26_6e93_11ea_9e40_705a0f1a5828row128_col4 {\n",
       "            background-color:  #fff5f0;\n",
       "            color:  #000000;\n",
       "        }    #T_e9da4e26_6e93_11ea_9e40_705a0f1a5828row129_col1 {\n",
       "            background-color:  #fff5f0;\n",
       "            color:  #000000;\n",
       "        }    #T_e9da4e26_6e93_11ea_9e40_705a0f1a5828row129_col2 {\n",
       "            background-color:  #fff5f0;\n",
       "            color:  #000000;\n",
       "        }    #T_e9da4e26_6e93_11ea_9e40_705a0f1a5828row129_col3 {\n",
       "            background-color:  #fff5f0;\n",
       "            color:  #000000;\n",
       "        }    #T_e9da4e26_6e93_11ea_9e40_705a0f1a5828row129_col4 {\n",
       "            background-color:  #fff5f0;\n",
       "            color:  #000000;\n",
       "        }    #T_e9da4e26_6e93_11ea_9e40_705a0f1a5828row130_col1 {\n",
       "            background-color:  #fff5f0;\n",
       "            color:  #000000;\n",
       "        }    #T_e9da4e26_6e93_11ea_9e40_705a0f1a5828row130_col2 {\n",
       "            background-color:  #fff5f0;\n",
       "            color:  #000000;\n",
       "        }    #T_e9da4e26_6e93_11ea_9e40_705a0f1a5828row130_col3 {\n",
       "            background-color:  #fff5f0;\n",
       "            color:  #000000;\n",
       "        }    #T_e9da4e26_6e93_11ea_9e40_705a0f1a5828row130_col4 {\n",
       "            background-color:  #fff5f0;\n",
       "            color:  #000000;\n",
       "        }    #T_e9da4e26_6e93_11ea_9e40_705a0f1a5828row131_col1 {\n",
       "            background-color:  #fff5f0;\n",
       "            color:  #000000;\n",
       "        }    #T_e9da4e26_6e93_11ea_9e40_705a0f1a5828row131_col2 {\n",
       "            background-color:  #fff5f0;\n",
       "            color:  #000000;\n",
       "        }    #T_e9da4e26_6e93_11ea_9e40_705a0f1a5828row131_col3 {\n",
       "            background-color:  #fff5f0;\n",
       "            color:  #000000;\n",
       "        }    #T_e9da4e26_6e93_11ea_9e40_705a0f1a5828row131_col4 {\n",
       "            background-color:  #fff5f0;\n",
       "            color:  #000000;\n",
       "        }    #T_e9da4e26_6e93_11ea_9e40_705a0f1a5828row132_col1 {\n",
       "            background-color:  #fff5f0;\n",
       "            color:  #000000;\n",
       "        }    #T_e9da4e26_6e93_11ea_9e40_705a0f1a5828row132_col2 {\n",
       "            background-color:  #fff5f0;\n",
       "            color:  #000000;\n",
       "        }    #T_e9da4e26_6e93_11ea_9e40_705a0f1a5828row132_col3 {\n",
       "            background-color:  #fff5f0;\n",
       "            color:  #000000;\n",
       "        }    #T_e9da4e26_6e93_11ea_9e40_705a0f1a5828row132_col4 {\n",
       "            background-color:  #fff5f0;\n",
       "            color:  #000000;\n",
       "        }    #T_e9da4e26_6e93_11ea_9e40_705a0f1a5828row133_col1 {\n",
       "            background-color:  #fff5f0;\n",
       "            color:  #000000;\n",
       "        }    #T_e9da4e26_6e93_11ea_9e40_705a0f1a5828row133_col2 {\n",
       "            background-color:  #fff5f0;\n",
       "            color:  #000000;\n",
       "        }    #T_e9da4e26_6e93_11ea_9e40_705a0f1a5828row133_col3 {\n",
       "            background-color:  #fff5f0;\n",
       "            color:  #000000;\n",
       "        }    #T_e9da4e26_6e93_11ea_9e40_705a0f1a5828row133_col4 {\n",
       "            background-color:  #fff5f0;\n",
       "            color:  #000000;\n",
       "        }    #T_e9da4e26_6e93_11ea_9e40_705a0f1a5828row134_col1 {\n",
       "            background-color:  #fff5f0;\n",
       "            color:  #000000;\n",
       "        }    #T_e9da4e26_6e93_11ea_9e40_705a0f1a5828row134_col2 {\n",
       "            background-color:  #fff5f0;\n",
       "            color:  #000000;\n",
       "        }    #T_e9da4e26_6e93_11ea_9e40_705a0f1a5828row134_col3 {\n",
       "            background-color:  #fff5f0;\n",
       "            color:  #000000;\n",
       "        }    #T_e9da4e26_6e93_11ea_9e40_705a0f1a5828row134_col4 {\n",
       "            background-color:  #fff5f0;\n",
       "            color:  #000000;\n",
       "        }    #T_e9da4e26_6e93_11ea_9e40_705a0f1a5828row135_col1 {\n",
       "            background-color:  #fff5f0;\n",
       "            color:  #000000;\n",
       "        }    #T_e9da4e26_6e93_11ea_9e40_705a0f1a5828row135_col2 {\n",
       "            background-color:  #fff5f0;\n",
       "            color:  #000000;\n",
       "        }    #T_e9da4e26_6e93_11ea_9e40_705a0f1a5828row135_col3 {\n",
       "            background-color:  #fff5f0;\n",
       "            color:  #000000;\n",
       "        }    #T_e9da4e26_6e93_11ea_9e40_705a0f1a5828row135_col4 {\n",
       "            background-color:  #fff5f0;\n",
       "            color:  #000000;\n",
       "        }    #T_e9da4e26_6e93_11ea_9e40_705a0f1a5828row136_col1 {\n",
       "            background-color:  #fff5f0;\n",
       "            color:  #000000;\n",
       "        }    #T_e9da4e26_6e93_11ea_9e40_705a0f1a5828row136_col2 {\n",
       "            background-color:  #fff5f0;\n",
       "            color:  #000000;\n",
       "        }    #T_e9da4e26_6e93_11ea_9e40_705a0f1a5828row136_col3 {\n",
       "            background-color:  #fff5f0;\n",
       "            color:  #000000;\n",
       "        }    #T_e9da4e26_6e93_11ea_9e40_705a0f1a5828row136_col4 {\n",
       "            background-color:  #fff5f0;\n",
       "            color:  #000000;\n",
       "        }    #T_e9da4e26_6e93_11ea_9e40_705a0f1a5828row137_col1 {\n",
       "            background-color:  #fff5f0;\n",
       "            color:  #000000;\n",
       "        }    #T_e9da4e26_6e93_11ea_9e40_705a0f1a5828row137_col2 {\n",
       "            background-color:  #fff5f0;\n",
       "            color:  #000000;\n",
       "        }    #T_e9da4e26_6e93_11ea_9e40_705a0f1a5828row137_col3 {\n",
       "            background-color:  #fff5f0;\n",
       "            color:  #000000;\n",
       "        }    #T_e9da4e26_6e93_11ea_9e40_705a0f1a5828row137_col4 {\n",
       "            background-color:  #fff5f0;\n",
       "            color:  #000000;\n",
       "        }    #T_e9da4e26_6e93_11ea_9e40_705a0f1a5828row138_col1 {\n",
       "            background-color:  #fff5f0;\n",
       "            color:  #000000;\n",
       "        }    #T_e9da4e26_6e93_11ea_9e40_705a0f1a5828row138_col2 {\n",
       "            background-color:  #fff5f0;\n",
       "            color:  #000000;\n",
       "        }    #T_e9da4e26_6e93_11ea_9e40_705a0f1a5828row138_col3 {\n",
       "            background-color:  #fff5f0;\n",
       "            color:  #000000;\n",
       "        }    #T_e9da4e26_6e93_11ea_9e40_705a0f1a5828row138_col4 {\n",
       "            background-color:  #fff5f0;\n",
       "            color:  #000000;\n",
       "        }    #T_e9da4e26_6e93_11ea_9e40_705a0f1a5828row139_col1 {\n",
       "            background-color:  #fff5f0;\n",
       "            color:  #000000;\n",
       "        }    #T_e9da4e26_6e93_11ea_9e40_705a0f1a5828row139_col2 {\n",
       "            background-color:  #fff5f0;\n",
       "            color:  #000000;\n",
       "        }    #T_e9da4e26_6e93_11ea_9e40_705a0f1a5828row139_col3 {\n",
       "            background-color:  #fff5f0;\n",
       "            color:  #000000;\n",
       "        }    #T_e9da4e26_6e93_11ea_9e40_705a0f1a5828row139_col4 {\n",
       "            background-color:  #fff5f0;\n",
       "            color:  #000000;\n",
       "        }    #T_e9da4e26_6e93_11ea_9e40_705a0f1a5828row140_col1 {\n",
       "            background-color:  #fff5f0;\n",
       "            color:  #000000;\n",
       "        }    #T_e9da4e26_6e93_11ea_9e40_705a0f1a5828row140_col2 {\n",
       "            background-color:  #fff5f0;\n",
       "            color:  #000000;\n",
       "        }    #T_e9da4e26_6e93_11ea_9e40_705a0f1a5828row140_col3 {\n",
       "            background-color:  #fff5f0;\n",
       "            color:  #000000;\n",
       "        }    #T_e9da4e26_6e93_11ea_9e40_705a0f1a5828row140_col4 {\n",
       "            background-color:  #fff5f0;\n",
       "            color:  #000000;\n",
       "        }    #T_e9da4e26_6e93_11ea_9e40_705a0f1a5828row141_col1 {\n",
       "            background-color:  #fff5f0;\n",
       "            color:  #000000;\n",
       "        }    #T_e9da4e26_6e93_11ea_9e40_705a0f1a5828row141_col2 {\n",
       "            background-color:  #fff5f0;\n",
       "            color:  #000000;\n",
       "        }    #T_e9da4e26_6e93_11ea_9e40_705a0f1a5828row141_col3 {\n",
       "            background-color:  #fff5f0;\n",
       "            color:  #000000;\n",
       "        }    #T_e9da4e26_6e93_11ea_9e40_705a0f1a5828row141_col4 {\n",
       "            background-color:  #fff5f0;\n",
       "            color:  #000000;\n",
       "        }    #T_e9da4e26_6e93_11ea_9e40_705a0f1a5828row142_col1 {\n",
       "            background-color:  #fff5f0;\n",
       "            color:  #000000;\n",
       "        }    #T_e9da4e26_6e93_11ea_9e40_705a0f1a5828row142_col2 {\n",
       "            background-color:  #fff5f0;\n",
       "            color:  #000000;\n",
       "        }    #T_e9da4e26_6e93_11ea_9e40_705a0f1a5828row142_col3 {\n",
       "            background-color:  #fff5f0;\n",
       "            color:  #000000;\n",
       "        }    #T_e9da4e26_6e93_11ea_9e40_705a0f1a5828row142_col4 {\n",
       "            background-color:  #fff5f0;\n",
       "            color:  #000000;\n",
       "        }    #T_e9da4e26_6e93_11ea_9e40_705a0f1a5828row143_col1 {\n",
       "            background-color:  #fff5f0;\n",
       "            color:  #000000;\n",
       "        }    #T_e9da4e26_6e93_11ea_9e40_705a0f1a5828row143_col2 {\n",
       "            background-color:  #fff5f0;\n",
       "            color:  #000000;\n",
       "        }    #T_e9da4e26_6e93_11ea_9e40_705a0f1a5828row143_col3 {\n",
       "            background-color:  #fff5f0;\n",
       "            color:  #000000;\n",
       "        }    #T_e9da4e26_6e93_11ea_9e40_705a0f1a5828row143_col4 {\n",
       "            background-color:  #fff5f0;\n",
       "            color:  #000000;\n",
       "        }    #T_e9da4e26_6e93_11ea_9e40_705a0f1a5828row144_col1 {\n",
       "            background-color:  #fff5f0;\n",
       "            color:  #000000;\n",
       "        }    #T_e9da4e26_6e93_11ea_9e40_705a0f1a5828row144_col2 {\n",
       "            background-color:  #fff5f0;\n",
       "            color:  #000000;\n",
       "        }    #T_e9da4e26_6e93_11ea_9e40_705a0f1a5828row144_col3 {\n",
       "            background-color:  #fff5f0;\n",
       "            color:  #000000;\n",
       "        }    #T_e9da4e26_6e93_11ea_9e40_705a0f1a5828row144_col4 {\n",
       "            background-color:  #fff5f0;\n",
       "            color:  #000000;\n",
       "        }    #T_e9da4e26_6e93_11ea_9e40_705a0f1a5828row145_col1 {\n",
       "            background-color:  #fff5f0;\n",
       "            color:  #000000;\n",
       "        }    #T_e9da4e26_6e93_11ea_9e40_705a0f1a5828row145_col2 {\n",
       "            background-color:  #fff5f0;\n",
       "            color:  #000000;\n",
       "        }    #T_e9da4e26_6e93_11ea_9e40_705a0f1a5828row145_col3 {\n",
       "            background-color:  #fff5f0;\n",
       "            color:  #000000;\n",
       "        }    #T_e9da4e26_6e93_11ea_9e40_705a0f1a5828row145_col4 {\n",
       "            background-color:  #fff5f0;\n",
       "            color:  #000000;\n",
       "        }    #T_e9da4e26_6e93_11ea_9e40_705a0f1a5828row146_col1 {\n",
       "            background-color:  #fff5f0;\n",
       "            color:  #000000;\n",
       "        }    #T_e9da4e26_6e93_11ea_9e40_705a0f1a5828row146_col2 {\n",
       "            background-color:  #fff5f0;\n",
       "            color:  #000000;\n",
       "        }    #T_e9da4e26_6e93_11ea_9e40_705a0f1a5828row146_col3 {\n",
       "            background-color:  #fff5f0;\n",
       "            color:  #000000;\n",
       "        }    #T_e9da4e26_6e93_11ea_9e40_705a0f1a5828row146_col4 {\n",
       "            background-color:  #fff5f0;\n",
       "            color:  #000000;\n",
       "        }    #T_e9da4e26_6e93_11ea_9e40_705a0f1a5828row147_col1 {\n",
       "            background-color:  #fff5f0;\n",
       "            color:  #000000;\n",
       "        }    #T_e9da4e26_6e93_11ea_9e40_705a0f1a5828row147_col2 {\n",
       "            background-color:  #fff5f0;\n",
       "            color:  #000000;\n",
       "        }    #T_e9da4e26_6e93_11ea_9e40_705a0f1a5828row147_col3 {\n",
       "            background-color:  #fff5f0;\n",
       "            color:  #000000;\n",
       "        }    #T_e9da4e26_6e93_11ea_9e40_705a0f1a5828row147_col4 {\n",
       "            background-color:  #fff5f0;\n",
       "            color:  #000000;\n",
       "        }    #T_e9da4e26_6e93_11ea_9e40_705a0f1a5828row148_col1 {\n",
       "            background-color:  #fff5f0;\n",
       "            color:  #000000;\n",
       "        }    #T_e9da4e26_6e93_11ea_9e40_705a0f1a5828row148_col2 {\n",
       "            background-color:  #fff5f0;\n",
       "            color:  #000000;\n",
       "        }    #T_e9da4e26_6e93_11ea_9e40_705a0f1a5828row148_col3 {\n",
       "            background-color:  #fff5f0;\n",
       "            color:  #000000;\n",
       "        }    #T_e9da4e26_6e93_11ea_9e40_705a0f1a5828row148_col4 {\n",
       "            background-color:  #fff5f0;\n",
       "            color:  #000000;\n",
       "        }    #T_e9da4e26_6e93_11ea_9e40_705a0f1a5828row149_col1 {\n",
       "            background-color:  #fff5f0;\n",
       "            color:  #000000;\n",
       "        }    #T_e9da4e26_6e93_11ea_9e40_705a0f1a5828row149_col2 {\n",
       "            background-color:  #fff5f0;\n",
       "            color:  #000000;\n",
       "        }    #T_e9da4e26_6e93_11ea_9e40_705a0f1a5828row149_col3 {\n",
       "            background-color:  #fff5f0;\n",
       "            color:  #000000;\n",
       "        }    #T_e9da4e26_6e93_11ea_9e40_705a0f1a5828row149_col4 {\n",
       "            background-color:  #fff5f0;\n",
       "            color:  #000000;\n",
       "        }    #T_e9da4e26_6e93_11ea_9e40_705a0f1a5828row150_col1 {\n",
       "            background-color:  #fff5f0;\n",
       "            color:  #000000;\n",
       "        }    #T_e9da4e26_6e93_11ea_9e40_705a0f1a5828row150_col2 {\n",
       "            background-color:  #fff5f0;\n",
       "            color:  #000000;\n",
       "        }    #T_e9da4e26_6e93_11ea_9e40_705a0f1a5828row150_col3 {\n",
       "            background-color:  #fff5f0;\n",
       "            color:  #000000;\n",
       "        }    #T_e9da4e26_6e93_11ea_9e40_705a0f1a5828row150_col4 {\n",
       "            background-color:  #fff5f0;\n",
       "            color:  #000000;\n",
       "        }    #T_e9da4e26_6e93_11ea_9e40_705a0f1a5828row151_col1 {\n",
       "            background-color:  #fff5f0;\n",
       "            color:  #000000;\n",
       "        }    #T_e9da4e26_6e93_11ea_9e40_705a0f1a5828row151_col2 {\n",
       "            background-color:  #fff5f0;\n",
       "            color:  #000000;\n",
       "        }    #T_e9da4e26_6e93_11ea_9e40_705a0f1a5828row151_col3 {\n",
       "            background-color:  #fff5f0;\n",
       "            color:  #000000;\n",
       "        }    #T_e9da4e26_6e93_11ea_9e40_705a0f1a5828row151_col4 {\n",
       "            background-color:  #fff5f0;\n",
       "            color:  #000000;\n",
       "        }    #T_e9da4e26_6e93_11ea_9e40_705a0f1a5828row152_col1 {\n",
       "            background-color:  #fff5f0;\n",
       "            color:  #000000;\n",
       "        }    #T_e9da4e26_6e93_11ea_9e40_705a0f1a5828row152_col2 {\n",
       "            background-color:  #fff5f0;\n",
       "            color:  #000000;\n",
       "        }    #T_e9da4e26_6e93_11ea_9e40_705a0f1a5828row152_col3 {\n",
       "            background-color:  #fff5f0;\n",
       "            color:  #000000;\n",
       "        }    #T_e9da4e26_6e93_11ea_9e40_705a0f1a5828row152_col4 {\n",
       "            background-color:  #fff5f0;\n",
       "            color:  #000000;\n",
       "        }    #T_e9da4e26_6e93_11ea_9e40_705a0f1a5828row153_col1 {\n",
       "            background-color:  #fff5f0;\n",
       "            color:  #000000;\n",
       "        }    #T_e9da4e26_6e93_11ea_9e40_705a0f1a5828row153_col2 {\n",
       "            background-color:  #fff5f0;\n",
       "            color:  #000000;\n",
       "        }    #T_e9da4e26_6e93_11ea_9e40_705a0f1a5828row153_col3 {\n",
       "            background-color:  #fff5f0;\n",
       "            color:  #000000;\n",
       "        }    #T_e9da4e26_6e93_11ea_9e40_705a0f1a5828row153_col4 {\n",
       "            background-color:  #fff5f0;\n",
       "            color:  #000000;\n",
       "        }    #T_e9da4e26_6e93_11ea_9e40_705a0f1a5828row154_col1 {\n",
       "            background-color:  #fff5f0;\n",
       "            color:  #000000;\n",
       "        }    #T_e9da4e26_6e93_11ea_9e40_705a0f1a5828row154_col2 {\n",
       "            background-color:  #fff5f0;\n",
       "            color:  #000000;\n",
       "        }    #T_e9da4e26_6e93_11ea_9e40_705a0f1a5828row154_col3 {\n",
       "            background-color:  #fff5f0;\n",
       "            color:  #000000;\n",
       "        }    #T_e9da4e26_6e93_11ea_9e40_705a0f1a5828row154_col4 {\n",
       "            background-color:  #fff5f0;\n",
       "            color:  #000000;\n",
       "        }    #T_e9da4e26_6e93_11ea_9e40_705a0f1a5828row155_col1 {\n",
       "            background-color:  #fff5f0;\n",
       "            color:  #000000;\n",
       "        }    #T_e9da4e26_6e93_11ea_9e40_705a0f1a5828row155_col2 {\n",
       "            background-color:  #fff5f0;\n",
       "            color:  #000000;\n",
       "        }    #T_e9da4e26_6e93_11ea_9e40_705a0f1a5828row155_col3 {\n",
       "            background-color:  #fff5f0;\n",
       "            color:  #000000;\n",
       "        }    #T_e9da4e26_6e93_11ea_9e40_705a0f1a5828row155_col4 {\n",
       "            background-color:  #fff5f0;\n",
       "            color:  #000000;\n",
       "        }    #T_e9da4e26_6e93_11ea_9e40_705a0f1a5828row156_col1 {\n",
       "            background-color:  #fff5f0;\n",
       "            color:  #000000;\n",
       "        }    #T_e9da4e26_6e93_11ea_9e40_705a0f1a5828row156_col2 {\n",
       "            background-color:  #fff5f0;\n",
       "            color:  #000000;\n",
       "        }    #T_e9da4e26_6e93_11ea_9e40_705a0f1a5828row156_col3 {\n",
       "            background-color:  #fff5f0;\n",
       "            color:  #000000;\n",
       "        }    #T_e9da4e26_6e93_11ea_9e40_705a0f1a5828row156_col4 {\n",
       "            background-color:  #fff5f0;\n",
       "            color:  #000000;\n",
       "        }    #T_e9da4e26_6e93_11ea_9e40_705a0f1a5828row157_col1 {\n",
       "            background-color:  #fff5f0;\n",
       "            color:  #000000;\n",
       "        }    #T_e9da4e26_6e93_11ea_9e40_705a0f1a5828row157_col2 {\n",
       "            background-color:  #fff5f0;\n",
       "            color:  #000000;\n",
       "        }    #T_e9da4e26_6e93_11ea_9e40_705a0f1a5828row157_col3 {\n",
       "            background-color:  #fff5f0;\n",
       "            color:  #000000;\n",
       "        }    #T_e9da4e26_6e93_11ea_9e40_705a0f1a5828row157_col4 {\n",
       "            background-color:  #fff5f0;\n",
       "            color:  #000000;\n",
       "        }    #T_e9da4e26_6e93_11ea_9e40_705a0f1a5828row158_col1 {\n",
       "            background-color:  #fff5f0;\n",
       "            color:  #000000;\n",
       "        }    #T_e9da4e26_6e93_11ea_9e40_705a0f1a5828row158_col2 {\n",
       "            background-color:  #fff5f0;\n",
       "            color:  #000000;\n",
       "        }    #T_e9da4e26_6e93_11ea_9e40_705a0f1a5828row158_col3 {\n",
       "            background-color:  #fff5f0;\n",
       "            color:  #000000;\n",
       "        }    #T_e9da4e26_6e93_11ea_9e40_705a0f1a5828row158_col4 {\n",
       "            background-color:  #fff5f0;\n",
       "            color:  #000000;\n",
       "        }    #T_e9da4e26_6e93_11ea_9e40_705a0f1a5828row159_col1 {\n",
       "            background-color:  #fff5f0;\n",
       "            color:  #000000;\n",
       "        }    #T_e9da4e26_6e93_11ea_9e40_705a0f1a5828row159_col2 {\n",
       "            background-color:  #fff5f0;\n",
       "            color:  #000000;\n",
       "        }    #T_e9da4e26_6e93_11ea_9e40_705a0f1a5828row159_col3 {\n",
       "            background-color:  #fff5f0;\n",
       "            color:  #000000;\n",
       "        }    #T_e9da4e26_6e93_11ea_9e40_705a0f1a5828row159_col4 {\n",
       "            background-color:  #fff5f0;\n",
       "            color:  #000000;\n",
       "        }    #T_e9da4e26_6e93_11ea_9e40_705a0f1a5828row160_col1 {\n",
       "            background-color:  #fff5f0;\n",
       "            color:  #000000;\n",
       "        }    #T_e9da4e26_6e93_11ea_9e40_705a0f1a5828row160_col2 {\n",
       "            background-color:  #fff5f0;\n",
       "            color:  #000000;\n",
       "        }    #T_e9da4e26_6e93_11ea_9e40_705a0f1a5828row160_col3 {\n",
       "            background-color:  #fff5f0;\n",
       "            color:  #000000;\n",
       "        }    #T_e9da4e26_6e93_11ea_9e40_705a0f1a5828row160_col4 {\n",
       "            background-color:  #fff5f0;\n",
       "            color:  #000000;\n",
       "        }    #T_e9da4e26_6e93_11ea_9e40_705a0f1a5828row161_col1 {\n",
       "            background-color:  #fff5f0;\n",
       "            color:  #000000;\n",
       "        }    #T_e9da4e26_6e93_11ea_9e40_705a0f1a5828row161_col2 {\n",
       "            background-color:  #fff5f0;\n",
       "            color:  #000000;\n",
       "        }    #T_e9da4e26_6e93_11ea_9e40_705a0f1a5828row161_col3 {\n",
       "            background-color:  #fff5f0;\n",
       "            color:  #000000;\n",
       "        }    #T_e9da4e26_6e93_11ea_9e40_705a0f1a5828row161_col4 {\n",
       "            background-color:  #fff5f0;\n",
       "            color:  #000000;\n",
       "        }    #T_e9da4e26_6e93_11ea_9e40_705a0f1a5828row162_col1 {\n",
       "            background-color:  #fff5f0;\n",
       "            color:  #000000;\n",
       "        }    #T_e9da4e26_6e93_11ea_9e40_705a0f1a5828row162_col2 {\n",
       "            background-color:  #fff5f0;\n",
       "            color:  #000000;\n",
       "        }    #T_e9da4e26_6e93_11ea_9e40_705a0f1a5828row162_col3 {\n",
       "            background-color:  #fff5f0;\n",
       "            color:  #000000;\n",
       "        }    #T_e9da4e26_6e93_11ea_9e40_705a0f1a5828row162_col4 {\n",
       "            background-color:  #fff5f0;\n",
       "            color:  #000000;\n",
       "        }    #T_e9da4e26_6e93_11ea_9e40_705a0f1a5828row163_col1 {\n",
       "            background-color:  #fff5f0;\n",
       "            color:  #000000;\n",
       "        }    #T_e9da4e26_6e93_11ea_9e40_705a0f1a5828row163_col2 {\n",
       "            background-color:  #fff5f0;\n",
       "            color:  #000000;\n",
       "        }    #T_e9da4e26_6e93_11ea_9e40_705a0f1a5828row163_col3 {\n",
       "            background-color:  #fff5f0;\n",
       "            color:  #000000;\n",
       "        }    #T_e9da4e26_6e93_11ea_9e40_705a0f1a5828row163_col4 {\n",
       "            background-color:  #fff5f0;\n",
       "            color:  #000000;\n",
       "        }    #T_e9da4e26_6e93_11ea_9e40_705a0f1a5828row164_col1 {\n",
       "            background-color:  #fff5f0;\n",
       "            color:  #000000;\n",
       "        }    #T_e9da4e26_6e93_11ea_9e40_705a0f1a5828row164_col2 {\n",
       "            background-color:  #fff5f0;\n",
       "            color:  #000000;\n",
       "        }    #T_e9da4e26_6e93_11ea_9e40_705a0f1a5828row164_col3 {\n",
       "            background-color:  #fff5f0;\n",
       "            color:  #000000;\n",
       "        }    #T_e9da4e26_6e93_11ea_9e40_705a0f1a5828row164_col4 {\n",
       "            background-color:  #fff5f0;\n",
       "            color:  #000000;\n",
       "        }    #T_e9da4e26_6e93_11ea_9e40_705a0f1a5828row165_col1 {\n",
       "            background-color:  #fff5f0;\n",
       "            color:  #000000;\n",
       "        }    #T_e9da4e26_6e93_11ea_9e40_705a0f1a5828row165_col2 {\n",
       "            background-color:  #fff5f0;\n",
       "            color:  #000000;\n",
       "        }    #T_e9da4e26_6e93_11ea_9e40_705a0f1a5828row165_col3 {\n",
       "            background-color:  #fff5f0;\n",
       "            color:  #000000;\n",
       "        }    #T_e9da4e26_6e93_11ea_9e40_705a0f1a5828row165_col4 {\n",
       "            background-color:  #fff5f0;\n",
       "            color:  #000000;\n",
       "        }    #T_e9da4e26_6e93_11ea_9e40_705a0f1a5828row166_col1 {\n",
       "            background-color:  #fff5f0;\n",
       "            color:  #000000;\n",
       "        }    #T_e9da4e26_6e93_11ea_9e40_705a0f1a5828row166_col2 {\n",
       "            background-color:  #fff5f0;\n",
       "            color:  #000000;\n",
       "        }    #T_e9da4e26_6e93_11ea_9e40_705a0f1a5828row166_col3 {\n",
       "            background-color:  #fff5f0;\n",
       "            color:  #000000;\n",
       "        }    #T_e9da4e26_6e93_11ea_9e40_705a0f1a5828row166_col4 {\n",
       "            background-color:  #fff5f0;\n",
       "            color:  #000000;\n",
       "        }    #T_e9da4e26_6e93_11ea_9e40_705a0f1a5828row167_col1 {\n",
       "            background-color:  #fff5f0;\n",
       "            color:  #000000;\n",
       "        }    #T_e9da4e26_6e93_11ea_9e40_705a0f1a5828row167_col2 {\n",
       "            background-color:  #fff5f0;\n",
       "            color:  #000000;\n",
       "        }    #T_e9da4e26_6e93_11ea_9e40_705a0f1a5828row167_col3 {\n",
       "            background-color:  #fff5f0;\n",
       "            color:  #000000;\n",
       "        }    #T_e9da4e26_6e93_11ea_9e40_705a0f1a5828row167_col4 {\n",
       "            background-color:  #fff5f0;\n",
       "            color:  #000000;\n",
       "        }    #T_e9da4e26_6e93_11ea_9e40_705a0f1a5828row168_col1 {\n",
       "            background-color:  #fff5f0;\n",
       "            color:  #000000;\n",
       "        }    #T_e9da4e26_6e93_11ea_9e40_705a0f1a5828row168_col2 {\n",
       "            background-color:  #fff5f0;\n",
       "            color:  #000000;\n",
       "        }    #T_e9da4e26_6e93_11ea_9e40_705a0f1a5828row168_col3 {\n",
       "            background-color:  #fff5f0;\n",
       "            color:  #000000;\n",
       "        }    #T_e9da4e26_6e93_11ea_9e40_705a0f1a5828row168_col4 {\n",
       "            background-color:  #fff5f0;\n",
       "            color:  #000000;\n",
       "        }    #T_e9da4e26_6e93_11ea_9e40_705a0f1a5828row169_col1 {\n",
       "            background-color:  #fff5f0;\n",
       "            color:  #000000;\n",
       "        }    #T_e9da4e26_6e93_11ea_9e40_705a0f1a5828row169_col2 {\n",
       "            background-color:  #fff5f0;\n",
       "            color:  #000000;\n",
       "        }    #T_e9da4e26_6e93_11ea_9e40_705a0f1a5828row169_col3 {\n",
       "            background-color:  #fff5f0;\n",
       "            color:  #000000;\n",
       "        }    #T_e9da4e26_6e93_11ea_9e40_705a0f1a5828row169_col4 {\n",
       "            background-color:  #fff5f0;\n",
       "            color:  #000000;\n",
       "        }    #T_e9da4e26_6e93_11ea_9e40_705a0f1a5828row170_col1 {\n",
       "            background-color:  #fff5f0;\n",
       "            color:  #000000;\n",
       "        }    #T_e9da4e26_6e93_11ea_9e40_705a0f1a5828row170_col2 {\n",
       "            background-color:  #fff5f0;\n",
       "            color:  #000000;\n",
       "        }    #T_e9da4e26_6e93_11ea_9e40_705a0f1a5828row170_col3 {\n",
       "            background-color:  #fff5f0;\n",
       "            color:  #000000;\n",
       "        }    #T_e9da4e26_6e93_11ea_9e40_705a0f1a5828row170_col4 {\n",
       "            background-color:  #fff5f0;\n",
       "            color:  #000000;\n",
       "        }    #T_e9da4e26_6e93_11ea_9e40_705a0f1a5828row171_col1 {\n",
       "            background-color:  #fff5f0;\n",
       "            color:  #000000;\n",
       "        }    #T_e9da4e26_6e93_11ea_9e40_705a0f1a5828row171_col2 {\n",
       "            background-color:  #fff5f0;\n",
       "            color:  #000000;\n",
       "        }    #T_e9da4e26_6e93_11ea_9e40_705a0f1a5828row171_col3 {\n",
       "            background-color:  #fff5f0;\n",
       "            color:  #000000;\n",
       "        }    #T_e9da4e26_6e93_11ea_9e40_705a0f1a5828row171_col4 {\n",
       "            background-color:  #fff5f0;\n",
       "            color:  #000000;\n",
       "        }    #T_e9da4e26_6e93_11ea_9e40_705a0f1a5828row172_col1 {\n",
       "            background-color:  #fff5f0;\n",
       "            color:  #000000;\n",
       "        }    #T_e9da4e26_6e93_11ea_9e40_705a0f1a5828row172_col2 {\n",
       "            background-color:  #fff5f0;\n",
       "            color:  #000000;\n",
       "        }    #T_e9da4e26_6e93_11ea_9e40_705a0f1a5828row172_col3 {\n",
       "            background-color:  #fff5f0;\n",
       "            color:  #000000;\n",
       "        }    #T_e9da4e26_6e93_11ea_9e40_705a0f1a5828row172_col4 {\n",
       "            background-color:  #fff5f0;\n",
       "            color:  #000000;\n",
       "        }    #T_e9da4e26_6e93_11ea_9e40_705a0f1a5828row173_col1 {\n",
       "            background-color:  #fff5f0;\n",
       "            color:  #000000;\n",
       "        }    #T_e9da4e26_6e93_11ea_9e40_705a0f1a5828row173_col2 {\n",
       "            background-color:  #fff5f0;\n",
       "            color:  #000000;\n",
       "        }    #T_e9da4e26_6e93_11ea_9e40_705a0f1a5828row173_col3 {\n",
       "            background-color:  #fff5f0;\n",
       "            color:  #000000;\n",
       "        }    #T_e9da4e26_6e93_11ea_9e40_705a0f1a5828row173_col4 {\n",
       "            background-color:  #fff5f0;\n",
       "            color:  #000000;\n",
       "        }    #T_e9da4e26_6e93_11ea_9e40_705a0f1a5828row174_col1 {\n",
       "            background-color:  #fff5f0;\n",
       "            color:  #000000;\n",
       "        }    #T_e9da4e26_6e93_11ea_9e40_705a0f1a5828row174_col2 {\n",
       "            background-color:  #fff5f0;\n",
       "            color:  #000000;\n",
       "        }    #T_e9da4e26_6e93_11ea_9e40_705a0f1a5828row174_col3 {\n",
       "            background-color:  #fff5f0;\n",
       "            color:  #000000;\n",
       "        }    #T_e9da4e26_6e93_11ea_9e40_705a0f1a5828row174_col4 {\n",
       "            background-color:  #fff5f0;\n",
       "            color:  #000000;\n",
       "        }    #T_e9da4e26_6e93_11ea_9e40_705a0f1a5828row175_col1 {\n",
       "            background-color:  #fff5f0;\n",
       "            color:  #000000;\n",
       "        }    #T_e9da4e26_6e93_11ea_9e40_705a0f1a5828row175_col2 {\n",
       "            background-color:  #fff5f0;\n",
       "            color:  #000000;\n",
       "        }    #T_e9da4e26_6e93_11ea_9e40_705a0f1a5828row175_col3 {\n",
       "            background-color:  #fff5f0;\n",
       "            color:  #000000;\n",
       "        }    #T_e9da4e26_6e93_11ea_9e40_705a0f1a5828row175_col4 {\n",
       "            background-color:  #fff5f0;\n",
       "            color:  #000000;\n",
       "        }    #T_e9da4e26_6e93_11ea_9e40_705a0f1a5828row176_col1 {\n",
       "            background-color:  #fff5f0;\n",
       "            color:  #000000;\n",
       "        }    #T_e9da4e26_6e93_11ea_9e40_705a0f1a5828row176_col2 {\n",
       "            background-color:  #fff5f0;\n",
       "            color:  #000000;\n",
       "        }    #T_e9da4e26_6e93_11ea_9e40_705a0f1a5828row176_col3 {\n",
       "            background-color:  #fff5f0;\n",
       "            color:  #000000;\n",
       "        }    #T_e9da4e26_6e93_11ea_9e40_705a0f1a5828row176_col4 {\n",
       "            background-color:  #fff5f0;\n",
       "            color:  #000000;\n",
       "        }    #T_e9da4e26_6e93_11ea_9e40_705a0f1a5828row177_col1 {\n",
       "            background-color:  #fff5f0;\n",
       "            color:  #000000;\n",
       "        }    #T_e9da4e26_6e93_11ea_9e40_705a0f1a5828row177_col2 {\n",
       "            background-color:  #fff5f0;\n",
       "            color:  #000000;\n",
       "        }    #T_e9da4e26_6e93_11ea_9e40_705a0f1a5828row177_col3 {\n",
       "            background-color:  #fff5f0;\n",
       "            color:  #000000;\n",
       "        }    #T_e9da4e26_6e93_11ea_9e40_705a0f1a5828row177_col4 {\n",
       "            background-color:  #fff5f0;\n",
       "            color:  #000000;\n",
       "        }    #T_e9da4e26_6e93_11ea_9e40_705a0f1a5828row178_col1 {\n",
       "            background-color:  #fff5f0;\n",
       "            color:  #000000;\n",
       "        }    #T_e9da4e26_6e93_11ea_9e40_705a0f1a5828row178_col2 {\n",
       "            background-color:  #fff5f0;\n",
       "            color:  #000000;\n",
       "        }    #T_e9da4e26_6e93_11ea_9e40_705a0f1a5828row178_col3 {\n",
       "            background-color:  #fff5f0;\n",
       "            color:  #000000;\n",
       "        }    #T_e9da4e26_6e93_11ea_9e40_705a0f1a5828row178_col4 {\n",
       "            background-color:  #fff5f0;\n",
       "            color:  #000000;\n",
       "        }    #T_e9da4e26_6e93_11ea_9e40_705a0f1a5828row179_col1 {\n",
       "            background-color:  #fff5f0;\n",
       "            color:  #000000;\n",
       "        }    #T_e9da4e26_6e93_11ea_9e40_705a0f1a5828row179_col2 {\n",
       "            background-color:  #fff5f0;\n",
       "            color:  #000000;\n",
       "        }    #T_e9da4e26_6e93_11ea_9e40_705a0f1a5828row179_col3 {\n",
       "            background-color:  #fff5f0;\n",
       "            color:  #000000;\n",
       "        }    #T_e9da4e26_6e93_11ea_9e40_705a0f1a5828row179_col4 {\n",
       "            background-color:  #fff5f0;\n",
       "            color:  #000000;\n",
       "        }    #T_e9da4e26_6e93_11ea_9e40_705a0f1a5828row180_col1 {\n",
       "            background-color:  #fff5f0;\n",
       "            color:  #000000;\n",
       "        }    #T_e9da4e26_6e93_11ea_9e40_705a0f1a5828row180_col2 {\n",
       "            background-color:  #fff5f0;\n",
       "            color:  #000000;\n",
       "        }    #T_e9da4e26_6e93_11ea_9e40_705a0f1a5828row180_col3 {\n",
       "            background-color:  #fff5f0;\n",
       "            color:  #000000;\n",
       "        }    #T_e9da4e26_6e93_11ea_9e40_705a0f1a5828row180_col4 {\n",
       "            background-color:  #fff5f0;\n",
       "            color:  #000000;\n",
       "        }    #T_e9da4e26_6e93_11ea_9e40_705a0f1a5828row181_col1 {\n",
       "            background-color:  #fff5f0;\n",
       "            color:  #000000;\n",
       "        }    #T_e9da4e26_6e93_11ea_9e40_705a0f1a5828row181_col2 {\n",
       "            background-color:  #fff5f0;\n",
       "            color:  #000000;\n",
       "        }    #T_e9da4e26_6e93_11ea_9e40_705a0f1a5828row181_col3 {\n",
       "            background-color:  #fff5f0;\n",
       "            color:  #000000;\n",
       "        }    #T_e9da4e26_6e93_11ea_9e40_705a0f1a5828row181_col4 {\n",
       "            background-color:  #fff5f0;\n",
       "            color:  #000000;\n",
       "        }    #T_e9da4e26_6e93_11ea_9e40_705a0f1a5828row182_col1 {\n",
       "            background-color:  #fff5f0;\n",
       "            color:  #000000;\n",
       "        }    #T_e9da4e26_6e93_11ea_9e40_705a0f1a5828row182_col2 {\n",
       "            background-color:  #fff5f0;\n",
       "            color:  #000000;\n",
       "        }    #T_e9da4e26_6e93_11ea_9e40_705a0f1a5828row182_col3 {\n",
       "            background-color:  #fff5f0;\n",
       "            color:  #000000;\n",
       "        }    #T_e9da4e26_6e93_11ea_9e40_705a0f1a5828row182_col4 {\n",
       "            background-color:  #fff5f0;\n",
       "            color:  #000000;\n",
       "        }</style><table id=\"T_e9da4e26_6e93_11ea_9e40_705a0f1a5828\" ><thead>    <tr>        <th class=\"blank level0\" ></th>        <th class=\"col_heading level0 col0\" >Country/Region</th>        <th class=\"col_heading level0 col1\" >Confirmed</th>        <th class=\"col_heading level0 col2\" >Deaths</th>        <th class=\"col_heading level0 col3\" >Recovered</th>        <th class=\"col_heading level0 col4\" >Active</th>    </tr></thead><tbody>\n",
       "                <tr>\n",
       "                        <th id=\"T_e9da4e26_6e93_11ea_9e40_705a0f1a5828level0_row0\" class=\"row_heading level0 row0\" >0</th>\n",
       "                        <td id=\"T_e9da4e26_6e93_11ea_9e40_705a0f1a5828row0_col0\" class=\"data row0 col0\" >China</td>\n",
       "                        <td id=\"T_e9da4e26_6e93_11ea_9e40_705a0f1a5828row0_col1\" class=\"data row0 col1\" >81439</td>\n",
       "                        <td id=\"T_e9da4e26_6e93_11ea_9e40_705a0f1a5828row0_col2\" class=\"data row0 col2\" >3274</td>\n",
       "                        <td id=\"T_e9da4e26_6e93_11ea_9e40_705a0f1a5828row0_col3\" class=\"data row0 col3\" >72814</td>\n",
       "                        <td id=\"T_e9da4e26_6e93_11ea_9e40_705a0f1a5828row0_col4\" class=\"data row0 col4\" >5351</td>\n",
       "            </tr>\n",
       "            <tr>\n",
       "                        <th id=\"T_e9da4e26_6e93_11ea_9e40_705a0f1a5828level0_row1\" class=\"row_heading level0 row1\" >1</th>\n",
       "                        <td id=\"T_e9da4e26_6e93_11ea_9e40_705a0f1a5828row1_col0\" class=\"data row1 col0\" >Italy</td>\n",
       "                        <td id=\"T_e9da4e26_6e93_11ea_9e40_705a0f1a5828row1_col1\" class=\"data row1 col1\" >59138</td>\n",
       "                        <td id=\"T_e9da4e26_6e93_11ea_9e40_705a0f1a5828row1_col2\" class=\"data row1 col2\" >5476</td>\n",
       "                        <td id=\"T_e9da4e26_6e93_11ea_9e40_705a0f1a5828row1_col3\" class=\"data row1 col3\" >7024</td>\n",
       "                        <td id=\"T_e9da4e26_6e93_11ea_9e40_705a0f1a5828row1_col4\" class=\"data row1 col4\" >46638</td>\n",
       "            </tr>\n",
       "            <tr>\n",
       "                        <th id=\"T_e9da4e26_6e93_11ea_9e40_705a0f1a5828level0_row2\" class=\"row_heading level0 row2\" >2</th>\n",
       "                        <td id=\"T_e9da4e26_6e93_11ea_9e40_705a0f1a5828row2_col0\" class=\"data row2 col0\" >US</td>\n",
       "                        <td id=\"T_e9da4e26_6e93_11ea_9e40_705a0f1a5828row2_col1\" class=\"data row2 col1\" >33276</td>\n",
       "                        <td id=\"T_e9da4e26_6e93_11ea_9e40_705a0f1a5828row2_col2\" class=\"data row2 col2\" >417</td>\n",
       "                        <td id=\"T_e9da4e26_6e93_11ea_9e40_705a0f1a5828row2_col3\" class=\"data row2 col3\" >178</td>\n",
       "                        <td id=\"T_e9da4e26_6e93_11ea_9e40_705a0f1a5828row2_col4\" class=\"data row2 col4\" >32681</td>\n",
       "            </tr>\n",
       "            <tr>\n",
       "                        <th id=\"T_e9da4e26_6e93_11ea_9e40_705a0f1a5828level0_row3\" class=\"row_heading level0 row3\" >3</th>\n",
       "                        <td id=\"T_e9da4e26_6e93_11ea_9e40_705a0f1a5828row3_col0\" class=\"data row3 col0\" >Spain</td>\n",
       "                        <td id=\"T_e9da4e26_6e93_11ea_9e40_705a0f1a5828row3_col1\" class=\"data row3 col1\" >28768</td>\n",
       "                        <td id=\"T_e9da4e26_6e93_11ea_9e40_705a0f1a5828row3_col2\" class=\"data row3 col2\" >1772</td>\n",
       "                        <td id=\"T_e9da4e26_6e93_11ea_9e40_705a0f1a5828row3_col3\" class=\"data row3 col3\" >2575</td>\n",
       "                        <td id=\"T_e9da4e26_6e93_11ea_9e40_705a0f1a5828row3_col4\" class=\"data row3 col4\" >24421</td>\n",
       "            </tr>\n",
       "            <tr>\n",
       "                        <th id=\"T_e9da4e26_6e93_11ea_9e40_705a0f1a5828level0_row4\" class=\"row_heading level0 row4\" >4</th>\n",
       "                        <td id=\"T_e9da4e26_6e93_11ea_9e40_705a0f1a5828row4_col0\" class=\"data row4 col0\" >Germany</td>\n",
       "                        <td id=\"T_e9da4e26_6e93_11ea_9e40_705a0f1a5828row4_col1\" class=\"data row4 col1\" >24873</td>\n",
       "                        <td id=\"T_e9da4e26_6e93_11ea_9e40_705a0f1a5828row4_col2\" class=\"data row4 col2\" >94</td>\n",
       "                        <td id=\"T_e9da4e26_6e93_11ea_9e40_705a0f1a5828row4_col3\" class=\"data row4 col3\" >266</td>\n",
       "                        <td id=\"T_e9da4e26_6e93_11ea_9e40_705a0f1a5828row4_col4\" class=\"data row4 col4\" >24513</td>\n",
       "            </tr>\n",
       "            <tr>\n",
       "                        <th id=\"T_e9da4e26_6e93_11ea_9e40_705a0f1a5828level0_row5\" class=\"row_heading level0 row5\" >5</th>\n",
       "                        <td id=\"T_e9da4e26_6e93_11ea_9e40_705a0f1a5828row5_col0\" class=\"data row5 col0\" >Iran</td>\n",
       "                        <td id=\"T_e9da4e26_6e93_11ea_9e40_705a0f1a5828row5_col1\" class=\"data row5 col1\" >21638</td>\n",
       "                        <td id=\"T_e9da4e26_6e93_11ea_9e40_705a0f1a5828row5_col2\" class=\"data row5 col2\" >1685</td>\n",
       "                        <td id=\"T_e9da4e26_6e93_11ea_9e40_705a0f1a5828row5_col3\" class=\"data row5 col3\" >7931</td>\n",
       "                        <td id=\"T_e9da4e26_6e93_11ea_9e40_705a0f1a5828row5_col4\" class=\"data row5 col4\" >12022</td>\n",
       "            </tr>\n",
       "            <tr>\n",
       "                        <th id=\"T_e9da4e26_6e93_11ea_9e40_705a0f1a5828level0_row6\" class=\"row_heading level0 row6\" >6</th>\n",
       "                        <td id=\"T_e9da4e26_6e93_11ea_9e40_705a0f1a5828row6_col0\" class=\"data row6 col0\" >France</td>\n",
       "                        <td id=\"T_e9da4e26_6e93_11ea_9e40_705a0f1a5828row6_col1\" class=\"data row6 col1\" >16044</td>\n",
       "                        <td id=\"T_e9da4e26_6e93_11ea_9e40_705a0f1a5828row6_col2\" class=\"data row6 col2\" >674</td>\n",
       "                        <td id=\"T_e9da4e26_6e93_11ea_9e40_705a0f1a5828row6_col3\" class=\"data row6 col3\" >2200</td>\n",
       "                        <td id=\"T_e9da4e26_6e93_11ea_9e40_705a0f1a5828row6_col4\" class=\"data row6 col4\" >13170</td>\n",
       "            </tr>\n",
       "            <tr>\n",
       "                        <th id=\"T_e9da4e26_6e93_11ea_9e40_705a0f1a5828level0_row7\" class=\"row_heading level0 row7\" >7</th>\n",
       "                        <td id=\"T_e9da4e26_6e93_11ea_9e40_705a0f1a5828row7_col0\" class=\"data row7 col0\" >South Korea</td>\n",
       "                        <td id=\"T_e9da4e26_6e93_11ea_9e40_705a0f1a5828row7_col1\" class=\"data row7 col1\" >8897</td>\n",
       "                        <td id=\"T_e9da4e26_6e93_11ea_9e40_705a0f1a5828row7_col2\" class=\"data row7 col2\" >104</td>\n",
       "                        <td id=\"T_e9da4e26_6e93_11ea_9e40_705a0f1a5828row7_col3\" class=\"data row7 col3\" >2909</td>\n",
       "                        <td id=\"T_e9da4e26_6e93_11ea_9e40_705a0f1a5828row7_col4\" class=\"data row7 col4\" >5884</td>\n",
       "            </tr>\n",
       "            <tr>\n",
       "                        <th id=\"T_e9da4e26_6e93_11ea_9e40_705a0f1a5828level0_row8\" class=\"row_heading level0 row8\" >8</th>\n",
       "                        <td id=\"T_e9da4e26_6e93_11ea_9e40_705a0f1a5828row8_col0\" class=\"data row8 col0\" >Switzerland</td>\n",
       "                        <td id=\"T_e9da4e26_6e93_11ea_9e40_705a0f1a5828row8_col1\" class=\"data row8 col1\" >7245</td>\n",
       "                        <td id=\"T_e9da4e26_6e93_11ea_9e40_705a0f1a5828row8_col2\" class=\"data row8 col2\" >98</td>\n",
       "                        <td id=\"T_e9da4e26_6e93_11ea_9e40_705a0f1a5828row8_col3\" class=\"data row8 col3\" >131</td>\n",
       "                        <td id=\"T_e9da4e26_6e93_11ea_9e40_705a0f1a5828row8_col4\" class=\"data row8 col4\" >7016</td>\n",
       "            </tr>\n",
       "            <tr>\n",
       "                        <th id=\"T_e9da4e26_6e93_11ea_9e40_705a0f1a5828level0_row9\" class=\"row_heading level0 row9\" >9</th>\n",
       "                        <td id=\"T_e9da4e26_6e93_11ea_9e40_705a0f1a5828row9_col0\" class=\"data row9 col0\" >United Kingdom</td>\n",
       "                        <td id=\"T_e9da4e26_6e93_11ea_9e40_705a0f1a5828row9_col1\" class=\"data row9 col1\" >5741</td>\n",
       "                        <td id=\"T_e9da4e26_6e93_11ea_9e40_705a0f1a5828row9_col2\" class=\"data row9 col2\" >282</td>\n",
       "                        <td id=\"T_e9da4e26_6e93_11ea_9e40_705a0f1a5828row9_col3\" class=\"data row9 col3\" >67</td>\n",
       "                        <td id=\"T_e9da4e26_6e93_11ea_9e40_705a0f1a5828row9_col4\" class=\"data row9 col4\" >5392</td>\n",
       "            </tr>\n",
       "            <tr>\n",
       "                        <th id=\"T_e9da4e26_6e93_11ea_9e40_705a0f1a5828level0_row10\" class=\"row_heading level0 row10\" >10</th>\n",
       "                        <td id=\"T_e9da4e26_6e93_11ea_9e40_705a0f1a5828row10_col0\" class=\"data row10 col0\" >Netherlands</td>\n",
       "                        <td id=\"T_e9da4e26_6e93_11ea_9e40_705a0f1a5828row10_col1\" class=\"data row10 col1\" >4216</td>\n",
       "                        <td id=\"T_e9da4e26_6e93_11ea_9e40_705a0f1a5828row10_col2\" class=\"data row10 col2\" >180</td>\n",
       "                        <td id=\"T_e9da4e26_6e93_11ea_9e40_705a0f1a5828row10_col3\" class=\"data row10 col3\" >2</td>\n",
       "                        <td id=\"T_e9da4e26_6e93_11ea_9e40_705a0f1a5828row10_col4\" class=\"data row10 col4\" >4034</td>\n",
       "            </tr>\n",
       "            <tr>\n",
       "                        <th id=\"T_e9da4e26_6e93_11ea_9e40_705a0f1a5828level0_row11\" class=\"row_heading level0 row11\" >11</th>\n",
       "                        <td id=\"T_e9da4e26_6e93_11ea_9e40_705a0f1a5828row11_col0\" class=\"data row11 col0\" >Belgium</td>\n",
       "                        <td id=\"T_e9da4e26_6e93_11ea_9e40_705a0f1a5828row11_col1\" class=\"data row11 col1\" >3401</td>\n",
       "                        <td id=\"T_e9da4e26_6e93_11ea_9e40_705a0f1a5828row11_col2\" class=\"data row11 col2\" >75</td>\n",
       "                        <td id=\"T_e9da4e26_6e93_11ea_9e40_705a0f1a5828row11_col3\" class=\"data row11 col3\" >263</td>\n",
       "                        <td id=\"T_e9da4e26_6e93_11ea_9e40_705a0f1a5828row11_col4\" class=\"data row11 col4\" >3063</td>\n",
       "            </tr>\n",
       "            <tr>\n",
       "                        <th id=\"T_e9da4e26_6e93_11ea_9e40_705a0f1a5828level0_row12\" class=\"row_heading level0 row12\" >12</th>\n",
       "                        <td id=\"T_e9da4e26_6e93_11ea_9e40_705a0f1a5828row12_col0\" class=\"data row12 col0\" >Austria</td>\n",
       "                        <td id=\"T_e9da4e26_6e93_11ea_9e40_705a0f1a5828row12_col1\" class=\"data row12 col1\" >3244</td>\n",
       "                        <td id=\"T_e9da4e26_6e93_11ea_9e40_705a0f1a5828row12_col2\" class=\"data row12 col2\" >16</td>\n",
       "                        <td id=\"T_e9da4e26_6e93_11ea_9e40_705a0f1a5828row12_col3\" class=\"data row12 col3\" >9</td>\n",
       "                        <td id=\"T_e9da4e26_6e93_11ea_9e40_705a0f1a5828row12_col4\" class=\"data row12 col4\" >3219</td>\n",
       "            </tr>\n",
       "            <tr>\n",
       "                        <th id=\"T_e9da4e26_6e93_11ea_9e40_705a0f1a5828level0_row13\" class=\"row_heading level0 row13\" >13</th>\n",
       "                        <td id=\"T_e9da4e26_6e93_11ea_9e40_705a0f1a5828row13_col0\" class=\"data row13 col0\" >Norway</td>\n",
       "                        <td id=\"T_e9da4e26_6e93_11ea_9e40_705a0f1a5828row13_col1\" class=\"data row13 col1\" >2383</td>\n",
       "                        <td id=\"T_e9da4e26_6e93_11ea_9e40_705a0f1a5828row13_col2\" class=\"data row13 col2\" >7</td>\n",
       "                        <td id=\"T_e9da4e26_6e93_11ea_9e40_705a0f1a5828row13_col3\" class=\"data row13 col3\" >1</td>\n",
       "                        <td id=\"T_e9da4e26_6e93_11ea_9e40_705a0f1a5828row13_col4\" class=\"data row13 col4\" >2375</td>\n",
       "            </tr>\n",
       "            <tr>\n",
       "                        <th id=\"T_e9da4e26_6e93_11ea_9e40_705a0f1a5828level0_row14\" class=\"row_heading level0 row14\" >14</th>\n",
       "                        <td id=\"T_e9da4e26_6e93_11ea_9e40_705a0f1a5828row14_col0\" class=\"data row14 col0\" >Sweden</td>\n",
       "                        <td id=\"T_e9da4e26_6e93_11ea_9e40_705a0f1a5828row14_col1\" class=\"data row14 col1\" >1934</td>\n",
       "                        <td id=\"T_e9da4e26_6e93_11ea_9e40_705a0f1a5828row14_col2\" class=\"data row14 col2\" >21</td>\n",
       "                        <td id=\"T_e9da4e26_6e93_11ea_9e40_705a0f1a5828row14_col3\" class=\"data row14 col3\" >16</td>\n",
       "                        <td id=\"T_e9da4e26_6e93_11ea_9e40_705a0f1a5828row14_col4\" class=\"data row14 col4\" >1897</td>\n",
       "            </tr>\n",
       "            <tr>\n",
       "                        <th id=\"T_e9da4e26_6e93_11ea_9e40_705a0f1a5828level0_row15\" class=\"row_heading level0 row15\" >15</th>\n",
       "                        <td id=\"T_e9da4e26_6e93_11ea_9e40_705a0f1a5828row15_col0\" class=\"data row15 col0\" >Portugal</td>\n",
       "                        <td id=\"T_e9da4e26_6e93_11ea_9e40_705a0f1a5828row15_col1\" class=\"data row15 col1\" >1600</td>\n",
       "                        <td id=\"T_e9da4e26_6e93_11ea_9e40_705a0f1a5828row15_col2\" class=\"data row15 col2\" >14</td>\n",
       "                        <td id=\"T_e9da4e26_6e93_11ea_9e40_705a0f1a5828row15_col3\" class=\"data row15 col3\" >5</td>\n",
       "                        <td id=\"T_e9da4e26_6e93_11ea_9e40_705a0f1a5828row15_col4\" class=\"data row15 col4\" >1581</td>\n",
       "            </tr>\n",
       "            <tr>\n",
       "                        <th id=\"T_e9da4e26_6e93_11ea_9e40_705a0f1a5828level0_row16\" class=\"row_heading level0 row16\" >16</th>\n",
       "                        <td id=\"T_e9da4e26_6e93_11ea_9e40_705a0f1a5828row16_col0\" class=\"data row16 col0\" >Brazil</td>\n",
       "                        <td id=\"T_e9da4e26_6e93_11ea_9e40_705a0f1a5828row16_col1\" class=\"data row16 col1\" >1593</td>\n",
       "                        <td id=\"T_e9da4e26_6e93_11ea_9e40_705a0f1a5828row16_col2\" class=\"data row16 col2\" >25</td>\n",
       "                        <td id=\"T_e9da4e26_6e93_11ea_9e40_705a0f1a5828row16_col3\" class=\"data row16 col3\" >2</td>\n",
       "                        <td id=\"T_e9da4e26_6e93_11ea_9e40_705a0f1a5828row16_col4\" class=\"data row16 col4\" >1566</td>\n",
       "            </tr>\n",
       "            <tr>\n",
       "                        <th id=\"T_e9da4e26_6e93_11ea_9e40_705a0f1a5828level0_row17\" class=\"row_heading level0 row17\" >17</th>\n",
       "                        <td id=\"T_e9da4e26_6e93_11ea_9e40_705a0f1a5828row17_col0\" class=\"data row17 col0\" >Denmark</td>\n",
       "                        <td id=\"T_e9da4e26_6e93_11ea_9e40_705a0f1a5828row17_col1\" class=\"data row17 col1\" >1514</td>\n",
       "                        <td id=\"T_e9da4e26_6e93_11ea_9e40_705a0f1a5828row17_col2\" class=\"data row17 col2\" >13</td>\n",
       "                        <td id=\"T_e9da4e26_6e93_11ea_9e40_705a0f1a5828row17_col3\" class=\"data row17 col3\" >1</td>\n",
       "                        <td id=\"T_e9da4e26_6e93_11ea_9e40_705a0f1a5828row17_col4\" class=\"data row17 col4\" >1500</td>\n",
       "            </tr>\n",
       "            <tr>\n",
       "                        <th id=\"T_e9da4e26_6e93_11ea_9e40_705a0f1a5828level0_row18\" class=\"row_heading level0 row18\" >18</th>\n",
       "                        <td id=\"T_e9da4e26_6e93_11ea_9e40_705a0f1a5828row18_col0\" class=\"data row18 col0\" >Canada</td>\n",
       "                        <td id=\"T_e9da4e26_6e93_11ea_9e40_705a0f1a5828row18_col1\" class=\"data row18 col1\" >1470</td>\n",
       "                        <td id=\"T_e9da4e26_6e93_11ea_9e40_705a0f1a5828row18_col2\" class=\"data row18 col2\" >21</td>\n",
       "                        <td id=\"T_e9da4e26_6e93_11ea_9e40_705a0f1a5828row18_col3\" class=\"data row18 col3\" >10</td>\n",
       "                        <td id=\"T_e9da4e26_6e93_11ea_9e40_705a0f1a5828row18_col4\" class=\"data row18 col4\" >1439</td>\n",
       "            </tr>\n",
       "            <tr>\n",
       "                        <th id=\"T_e9da4e26_6e93_11ea_9e40_705a0f1a5828level0_row19\" class=\"row_heading level0 row19\" >19</th>\n",
       "                        <td id=\"T_e9da4e26_6e93_11ea_9e40_705a0f1a5828row19_col0\" class=\"data row19 col0\" >Australia</td>\n",
       "                        <td id=\"T_e9da4e26_6e93_11ea_9e40_705a0f1a5828row19_col1\" class=\"data row19 col1\" >1314</td>\n",
       "                        <td id=\"T_e9da4e26_6e93_11ea_9e40_705a0f1a5828row19_col2\" class=\"data row19 col2\" >7</td>\n",
       "                        <td id=\"T_e9da4e26_6e93_11ea_9e40_705a0f1a5828row19_col3\" class=\"data row19 col3\" >88</td>\n",
       "                        <td id=\"T_e9da4e26_6e93_11ea_9e40_705a0f1a5828row19_col4\" class=\"data row19 col4\" >1219</td>\n",
       "            </tr>\n",
       "            <tr>\n",
       "                        <th id=\"T_e9da4e26_6e93_11ea_9e40_705a0f1a5828level0_row20\" class=\"row_heading level0 row20\" >20</th>\n",
       "                        <td id=\"T_e9da4e26_6e93_11ea_9e40_705a0f1a5828row20_col0\" class=\"data row20 col0\" >Malaysia</td>\n",
       "                        <td id=\"T_e9da4e26_6e93_11ea_9e40_705a0f1a5828row20_col1\" class=\"data row20 col1\" >1306</td>\n",
       "                        <td id=\"T_e9da4e26_6e93_11ea_9e40_705a0f1a5828row20_col2\" class=\"data row20 col2\" >10</td>\n",
       "                        <td id=\"T_e9da4e26_6e93_11ea_9e40_705a0f1a5828row20_col3\" class=\"data row20 col3\" >139</td>\n",
       "                        <td id=\"T_e9da4e26_6e93_11ea_9e40_705a0f1a5828row20_col4\" class=\"data row20 col4\" >1157</td>\n",
       "            </tr>\n",
       "            <tr>\n",
       "                        <th id=\"T_e9da4e26_6e93_11ea_9e40_705a0f1a5828level0_row21\" class=\"row_heading level0 row21\" >21</th>\n",
       "                        <td id=\"T_e9da4e26_6e93_11ea_9e40_705a0f1a5828row21_col0\" class=\"data row21 col0\" >Turkey</td>\n",
       "                        <td id=\"T_e9da4e26_6e93_11ea_9e40_705a0f1a5828row21_col1\" class=\"data row21 col1\" >1236</td>\n",
       "                        <td id=\"T_e9da4e26_6e93_11ea_9e40_705a0f1a5828row21_col2\" class=\"data row21 col2\" >30</td>\n",
       "                        <td id=\"T_e9da4e26_6e93_11ea_9e40_705a0f1a5828row21_col3\" class=\"data row21 col3\" >0</td>\n",
       "                        <td id=\"T_e9da4e26_6e93_11ea_9e40_705a0f1a5828row21_col4\" class=\"data row21 col4\" >1206</td>\n",
       "            </tr>\n",
       "            <tr>\n",
       "                        <th id=\"T_e9da4e26_6e93_11ea_9e40_705a0f1a5828level0_row22\" class=\"row_heading level0 row22\" >22</th>\n",
       "                        <td id=\"T_e9da4e26_6e93_11ea_9e40_705a0f1a5828row22_col0\" class=\"data row22 col0\" >Czechia</td>\n",
       "                        <td id=\"T_e9da4e26_6e93_11ea_9e40_705a0f1a5828row22_col1\" class=\"data row22 col1\" >1120</td>\n",
       "                        <td id=\"T_e9da4e26_6e93_11ea_9e40_705a0f1a5828row22_col2\" class=\"data row22 col2\" >1</td>\n",
       "                        <td id=\"T_e9da4e26_6e93_11ea_9e40_705a0f1a5828row22_col3\" class=\"data row22 col3\" >6</td>\n",
       "                        <td id=\"T_e9da4e26_6e93_11ea_9e40_705a0f1a5828row22_col4\" class=\"data row22 col4\" >1113</td>\n",
       "            </tr>\n",
       "            <tr>\n",
       "                        <th id=\"T_e9da4e26_6e93_11ea_9e40_705a0f1a5828level0_row23\" class=\"row_heading level0 row23\" >23</th>\n",
       "                        <td id=\"T_e9da4e26_6e93_11ea_9e40_705a0f1a5828row23_col0\" class=\"data row23 col0\" >Japan</td>\n",
       "                        <td id=\"T_e9da4e26_6e93_11ea_9e40_705a0f1a5828row23_col1\" class=\"data row23 col1\" >1086</td>\n",
       "                        <td id=\"T_e9da4e26_6e93_11ea_9e40_705a0f1a5828row23_col2\" class=\"data row23 col2\" >40</td>\n",
       "                        <td id=\"T_e9da4e26_6e93_11ea_9e40_705a0f1a5828row23_col3\" class=\"data row23 col3\" >235</td>\n",
       "                        <td id=\"T_e9da4e26_6e93_11ea_9e40_705a0f1a5828row23_col4\" class=\"data row23 col4\" >811</td>\n",
       "            </tr>\n",
       "            <tr>\n",
       "                        <th id=\"T_e9da4e26_6e93_11ea_9e40_705a0f1a5828level0_row24\" class=\"row_heading level0 row24\" >24</th>\n",
       "                        <td id=\"T_e9da4e26_6e93_11ea_9e40_705a0f1a5828row24_col0\" class=\"data row24 col0\" >Israel</td>\n",
       "                        <td id=\"T_e9da4e26_6e93_11ea_9e40_705a0f1a5828row24_col1\" class=\"data row24 col1\" >1071</td>\n",
       "                        <td id=\"T_e9da4e26_6e93_11ea_9e40_705a0f1a5828row24_col2\" class=\"data row24 col2\" >1</td>\n",
       "                        <td id=\"T_e9da4e26_6e93_11ea_9e40_705a0f1a5828row24_col3\" class=\"data row24 col3\" >37</td>\n",
       "                        <td id=\"T_e9da4e26_6e93_11ea_9e40_705a0f1a5828row24_col4\" class=\"data row24 col4\" >1033</td>\n",
       "            </tr>\n",
       "            <tr>\n",
       "                        <th id=\"T_e9da4e26_6e93_11ea_9e40_705a0f1a5828level0_row25\" class=\"row_heading level0 row25\" >25</th>\n",
       "                        <td id=\"T_e9da4e26_6e93_11ea_9e40_705a0f1a5828row25_col0\" class=\"data row25 col0\" >Ireland</td>\n",
       "                        <td id=\"T_e9da4e26_6e93_11ea_9e40_705a0f1a5828row25_col1\" class=\"data row25 col1\" >906</td>\n",
       "                        <td id=\"T_e9da4e26_6e93_11ea_9e40_705a0f1a5828row25_col2\" class=\"data row25 col2\" >4</td>\n",
       "                        <td id=\"T_e9da4e26_6e93_11ea_9e40_705a0f1a5828row25_col3\" class=\"data row25 col3\" >5</td>\n",
       "                        <td id=\"T_e9da4e26_6e93_11ea_9e40_705a0f1a5828row25_col4\" class=\"data row25 col4\" >897</td>\n",
       "            </tr>\n",
       "            <tr>\n",
       "                        <th id=\"T_e9da4e26_6e93_11ea_9e40_705a0f1a5828level0_row26\" class=\"row_heading level0 row26\" >26</th>\n",
       "                        <td id=\"T_e9da4e26_6e93_11ea_9e40_705a0f1a5828row26_col0\" class=\"data row26 col0\" >Luxembourg</td>\n",
       "                        <td id=\"T_e9da4e26_6e93_11ea_9e40_705a0f1a5828row26_col1\" class=\"data row26 col1\" >798</td>\n",
       "                        <td id=\"T_e9da4e26_6e93_11ea_9e40_705a0f1a5828row26_col2\" class=\"data row26 col2\" >8</td>\n",
       "                        <td id=\"T_e9da4e26_6e93_11ea_9e40_705a0f1a5828row26_col3\" class=\"data row26 col3\" >6</td>\n",
       "                        <td id=\"T_e9da4e26_6e93_11ea_9e40_705a0f1a5828row26_col4\" class=\"data row26 col4\" >784</td>\n",
       "            </tr>\n",
       "            <tr>\n",
       "                        <th id=\"T_e9da4e26_6e93_11ea_9e40_705a0f1a5828level0_row27\" class=\"row_heading level0 row27\" >27</th>\n",
       "                        <td id=\"T_e9da4e26_6e93_11ea_9e40_705a0f1a5828row27_col0\" class=\"data row27 col0\" >Ecuador</td>\n",
       "                        <td id=\"T_e9da4e26_6e93_11ea_9e40_705a0f1a5828row27_col1\" class=\"data row27 col1\" >789</td>\n",
       "                        <td id=\"T_e9da4e26_6e93_11ea_9e40_705a0f1a5828row27_col2\" class=\"data row27 col2\" >14</td>\n",
       "                        <td id=\"T_e9da4e26_6e93_11ea_9e40_705a0f1a5828row27_col3\" class=\"data row27 col3\" >3</td>\n",
       "                        <td id=\"T_e9da4e26_6e93_11ea_9e40_705a0f1a5828row27_col4\" class=\"data row27 col4\" >772</td>\n",
       "            </tr>\n",
       "            <tr>\n",
       "                        <th id=\"T_e9da4e26_6e93_11ea_9e40_705a0f1a5828level0_row28\" class=\"row_heading level0 row28\" >28</th>\n",
       "                        <td id=\"T_e9da4e26_6e93_11ea_9e40_705a0f1a5828row28_col0\" class=\"data row28 col0\" >Pakistan</td>\n",
       "                        <td id=\"T_e9da4e26_6e93_11ea_9e40_705a0f1a5828row28_col1\" class=\"data row28 col1\" >776</td>\n",
       "                        <td id=\"T_e9da4e26_6e93_11ea_9e40_705a0f1a5828row28_col2\" class=\"data row28 col2\" >5</td>\n",
       "                        <td id=\"T_e9da4e26_6e93_11ea_9e40_705a0f1a5828row28_col3\" class=\"data row28 col3\" >5</td>\n",
       "                        <td id=\"T_e9da4e26_6e93_11ea_9e40_705a0f1a5828row28_col4\" class=\"data row28 col4\" >766</td>\n",
       "            </tr>\n",
       "            <tr>\n",
       "                        <th id=\"T_e9da4e26_6e93_11ea_9e40_705a0f1a5828level0_row29\" class=\"row_heading level0 row29\" >29</th>\n",
       "                        <td id=\"T_e9da4e26_6e93_11ea_9e40_705a0f1a5828row29_col0\" class=\"data row29 col0\" >Cruise Ship</td>\n",
       "                        <td id=\"T_e9da4e26_6e93_11ea_9e40_705a0f1a5828row29_col1\" class=\"data row29 col1\" >712</td>\n",
       "                        <td id=\"T_e9da4e26_6e93_11ea_9e40_705a0f1a5828row29_col2\" class=\"data row29 col2\" >8</td>\n",
       "                        <td id=\"T_e9da4e26_6e93_11ea_9e40_705a0f1a5828row29_col3\" class=\"data row29 col3\" >325</td>\n",
       "                        <td id=\"T_e9da4e26_6e93_11ea_9e40_705a0f1a5828row29_col4\" class=\"data row29 col4\" >379</td>\n",
       "            </tr>\n",
       "            <tr>\n",
       "                        <th id=\"T_e9da4e26_6e93_11ea_9e40_705a0f1a5828level0_row30\" class=\"row_heading level0 row30\" >30</th>\n",
       "                        <td id=\"T_e9da4e26_6e93_11ea_9e40_705a0f1a5828row30_col0\" class=\"data row30 col0\" >Poland</td>\n",
       "                        <td id=\"T_e9da4e26_6e93_11ea_9e40_705a0f1a5828row30_col1\" class=\"data row30 col1\" >634</td>\n",
       "                        <td id=\"T_e9da4e26_6e93_11ea_9e40_705a0f1a5828row30_col2\" class=\"data row30 col2\" >7</td>\n",
       "                        <td id=\"T_e9da4e26_6e93_11ea_9e40_705a0f1a5828row30_col3\" class=\"data row30 col3\" >1</td>\n",
       "                        <td id=\"T_e9da4e26_6e93_11ea_9e40_705a0f1a5828row30_col4\" class=\"data row30 col4\" >626</td>\n",
       "            </tr>\n",
       "            <tr>\n",
       "                        <th id=\"T_e9da4e26_6e93_11ea_9e40_705a0f1a5828level0_row31\" class=\"row_heading level0 row31\" >31</th>\n",
       "                        <td id=\"T_e9da4e26_6e93_11ea_9e40_705a0f1a5828row31_col0\" class=\"data row31 col0\" >Chile</td>\n",
       "                        <td id=\"T_e9da4e26_6e93_11ea_9e40_705a0f1a5828row31_col1\" class=\"data row31 col1\" >632</td>\n",
       "                        <td id=\"T_e9da4e26_6e93_11ea_9e40_705a0f1a5828row31_col2\" class=\"data row31 col2\" >1</td>\n",
       "                        <td id=\"T_e9da4e26_6e93_11ea_9e40_705a0f1a5828row31_col3\" class=\"data row31 col3\" >8</td>\n",
       "                        <td id=\"T_e9da4e26_6e93_11ea_9e40_705a0f1a5828row31_col4\" class=\"data row31 col4\" >623</td>\n",
       "            </tr>\n",
       "            <tr>\n",
       "                        <th id=\"T_e9da4e26_6e93_11ea_9e40_705a0f1a5828level0_row32\" class=\"row_heading level0 row32\" >32</th>\n",
       "                        <td id=\"T_e9da4e26_6e93_11ea_9e40_705a0f1a5828row32_col0\" class=\"data row32 col0\" >Finland</td>\n",
       "                        <td id=\"T_e9da4e26_6e93_11ea_9e40_705a0f1a5828row32_col1\" class=\"data row32 col1\" >626</td>\n",
       "                        <td id=\"T_e9da4e26_6e93_11ea_9e40_705a0f1a5828row32_col2\" class=\"data row32 col2\" >1</td>\n",
       "                        <td id=\"T_e9da4e26_6e93_11ea_9e40_705a0f1a5828row32_col3\" class=\"data row32 col3\" >10</td>\n",
       "                        <td id=\"T_e9da4e26_6e93_11ea_9e40_705a0f1a5828row32_col4\" class=\"data row32 col4\" >615</td>\n",
       "            </tr>\n",
       "            <tr>\n",
       "                        <th id=\"T_e9da4e26_6e93_11ea_9e40_705a0f1a5828level0_row33\" class=\"row_heading level0 row33\" >33</th>\n",
       "                        <td id=\"T_e9da4e26_6e93_11ea_9e40_705a0f1a5828row33_col0\" class=\"data row33 col0\" >Greece</td>\n",
       "                        <td id=\"T_e9da4e26_6e93_11ea_9e40_705a0f1a5828row33_col1\" class=\"data row33 col1\" >624</td>\n",
       "                        <td id=\"T_e9da4e26_6e93_11ea_9e40_705a0f1a5828row33_col2\" class=\"data row33 col2\" >15</td>\n",
       "                        <td id=\"T_e9da4e26_6e93_11ea_9e40_705a0f1a5828row33_col3\" class=\"data row33 col3\" >19</td>\n",
       "                        <td id=\"T_e9da4e26_6e93_11ea_9e40_705a0f1a5828row33_col4\" class=\"data row33 col4\" >590</td>\n",
       "            </tr>\n",
       "            <tr>\n",
       "                        <th id=\"T_e9da4e26_6e93_11ea_9e40_705a0f1a5828level0_row34\" class=\"row_heading level0 row34\" >34</th>\n",
       "                        <td id=\"T_e9da4e26_6e93_11ea_9e40_705a0f1a5828row34_col0\" class=\"data row34 col0\" >Thailand</td>\n",
       "                        <td id=\"T_e9da4e26_6e93_11ea_9e40_705a0f1a5828row34_col1\" class=\"data row34 col1\" >599</td>\n",
       "                        <td id=\"T_e9da4e26_6e93_11ea_9e40_705a0f1a5828row34_col2\" class=\"data row34 col2\" >1</td>\n",
       "                        <td id=\"T_e9da4e26_6e93_11ea_9e40_705a0f1a5828row34_col3\" class=\"data row34 col3\" >44</td>\n",
       "                        <td id=\"T_e9da4e26_6e93_11ea_9e40_705a0f1a5828row34_col4\" class=\"data row34 col4\" >554</td>\n",
       "            </tr>\n",
       "            <tr>\n",
       "                        <th id=\"T_e9da4e26_6e93_11ea_9e40_705a0f1a5828level0_row35\" class=\"row_heading level0 row35\" >35</th>\n",
       "                        <td id=\"T_e9da4e26_6e93_11ea_9e40_705a0f1a5828row35_col0\" class=\"data row35 col0\" >Iceland</td>\n",
       "                        <td id=\"T_e9da4e26_6e93_11ea_9e40_705a0f1a5828row35_col1\" class=\"data row35 col1\" >568</td>\n",
       "                        <td id=\"T_e9da4e26_6e93_11ea_9e40_705a0f1a5828row35_col2\" class=\"data row35 col2\" >1</td>\n",
       "                        <td id=\"T_e9da4e26_6e93_11ea_9e40_705a0f1a5828row35_col3\" class=\"data row35 col3\" >36</td>\n",
       "                        <td id=\"T_e9da4e26_6e93_11ea_9e40_705a0f1a5828row35_col4\" class=\"data row35 col4\" >531</td>\n",
       "            </tr>\n",
       "            <tr>\n",
       "                        <th id=\"T_e9da4e26_6e93_11ea_9e40_705a0f1a5828level0_row36\" class=\"row_heading level0 row36\" >36</th>\n",
       "                        <td id=\"T_e9da4e26_6e93_11ea_9e40_705a0f1a5828row36_col0\" class=\"data row36 col0\" >Indonesia</td>\n",
       "                        <td id=\"T_e9da4e26_6e93_11ea_9e40_705a0f1a5828row36_col1\" class=\"data row36 col1\" >514</td>\n",
       "                        <td id=\"T_e9da4e26_6e93_11ea_9e40_705a0f1a5828row36_col2\" class=\"data row36 col2\" >48</td>\n",
       "                        <td id=\"T_e9da4e26_6e93_11ea_9e40_705a0f1a5828row36_col3\" class=\"data row36 col3\" >29</td>\n",
       "                        <td id=\"T_e9da4e26_6e93_11ea_9e40_705a0f1a5828row36_col4\" class=\"data row36 col4\" >437</td>\n",
       "            </tr>\n",
       "            <tr>\n",
       "                        <th id=\"T_e9da4e26_6e93_11ea_9e40_705a0f1a5828level0_row37\" class=\"row_heading level0 row37\" >37</th>\n",
       "                        <td id=\"T_e9da4e26_6e93_11ea_9e40_705a0f1a5828row37_col0\" class=\"data row37 col0\" >Saudi Arabia</td>\n",
       "                        <td id=\"T_e9da4e26_6e93_11ea_9e40_705a0f1a5828row37_col1\" class=\"data row37 col1\" >511</td>\n",
       "                        <td id=\"T_e9da4e26_6e93_11ea_9e40_705a0f1a5828row37_col2\" class=\"data row37 col2\" >0</td>\n",
       "                        <td id=\"T_e9da4e26_6e93_11ea_9e40_705a0f1a5828row37_col3\" class=\"data row37 col3\" >16</td>\n",
       "                        <td id=\"T_e9da4e26_6e93_11ea_9e40_705a0f1a5828row37_col4\" class=\"data row37 col4\" >495</td>\n",
       "            </tr>\n",
       "            <tr>\n",
       "                        <th id=\"T_e9da4e26_6e93_11ea_9e40_705a0f1a5828level0_row38\" class=\"row_heading level0 row38\" >38</th>\n",
       "                        <td id=\"T_e9da4e26_6e93_11ea_9e40_705a0f1a5828row38_col0\" class=\"data row38 col0\" >Qatar</td>\n",
       "                        <td id=\"T_e9da4e26_6e93_11ea_9e40_705a0f1a5828row38_col1\" class=\"data row38 col1\" >494</td>\n",
       "                        <td id=\"T_e9da4e26_6e93_11ea_9e40_705a0f1a5828row38_col2\" class=\"data row38 col2\" >0</td>\n",
       "                        <td id=\"T_e9da4e26_6e93_11ea_9e40_705a0f1a5828row38_col3\" class=\"data row38 col3\" >33</td>\n",
       "                        <td id=\"T_e9da4e26_6e93_11ea_9e40_705a0f1a5828row38_col4\" class=\"data row38 col4\" >461</td>\n",
       "            </tr>\n",
       "            <tr>\n",
       "                        <th id=\"T_e9da4e26_6e93_11ea_9e40_705a0f1a5828level0_row39\" class=\"row_heading level0 row39\" >39</th>\n",
       "                        <td id=\"T_e9da4e26_6e93_11ea_9e40_705a0f1a5828row39_col0\" class=\"data row39 col0\" >Singapore</td>\n",
       "                        <td id=\"T_e9da4e26_6e93_11ea_9e40_705a0f1a5828row39_col1\" class=\"data row39 col1\" >455</td>\n",
       "                        <td id=\"T_e9da4e26_6e93_11ea_9e40_705a0f1a5828row39_col2\" class=\"data row39 col2\" >2</td>\n",
       "                        <td id=\"T_e9da4e26_6e93_11ea_9e40_705a0f1a5828row39_col3\" class=\"data row39 col3\" >144</td>\n",
       "                        <td id=\"T_e9da4e26_6e93_11ea_9e40_705a0f1a5828row39_col4\" class=\"data row39 col4\" >309</td>\n",
       "            </tr>\n",
       "            <tr>\n",
       "                        <th id=\"T_e9da4e26_6e93_11ea_9e40_705a0f1a5828level0_row40\" class=\"row_heading level0 row40\" >40</th>\n",
       "                        <td id=\"T_e9da4e26_6e93_11ea_9e40_705a0f1a5828row40_col0\" class=\"data row40 col0\" >Romania</td>\n",
       "                        <td id=\"T_e9da4e26_6e93_11ea_9e40_705a0f1a5828row40_col1\" class=\"data row40 col1\" >433</td>\n",
       "                        <td id=\"T_e9da4e26_6e93_11ea_9e40_705a0f1a5828row40_col2\" class=\"data row40 col2\" >3</td>\n",
       "                        <td id=\"T_e9da4e26_6e93_11ea_9e40_705a0f1a5828row40_col3\" class=\"data row40 col3\" >64</td>\n",
       "                        <td id=\"T_e9da4e26_6e93_11ea_9e40_705a0f1a5828row40_col4\" class=\"data row40 col4\" >366</td>\n",
       "            </tr>\n",
       "            <tr>\n",
       "                        <th id=\"T_e9da4e26_6e93_11ea_9e40_705a0f1a5828level0_row41\" class=\"row_heading level0 row41\" >41</th>\n",
       "                        <td id=\"T_e9da4e26_6e93_11ea_9e40_705a0f1a5828row41_col0\" class=\"data row41 col0\" >Slovenia</td>\n",
       "                        <td id=\"T_e9da4e26_6e93_11ea_9e40_705a0f1a5828row41_col1\" class=\"data row41 col1\" >414</td>\n",
       "                        <td id=\"T_e9da4e26_6e93_11ea_9e40_705a0f1a5828row41_col2\" class=\"data row41 col2\" >2</td>\n",
       "                        <td id=\"T_e9da4e26_6e93_11ea_9e40_705a0f1a5828row41_col3\" class=\"data row41 col3\" >0</td>\n",
       "                        <td id=\"T_e9da4e26_6e93_11ea_9e40_705a0f1a5828row41_col4\" class=\"data row41 col4\" >412</td>\n",
       "            </tr>\n",
       "            <tr>\n",
       "                        <th id=\"T_e9da4e26_6e93_11ea_9e40_705a0f1a5828level0_row42\" class=\"row_heading level0 row42\" >42</th>\n",
       "                        <td id=\"T_e9da4e26_6e93_11ea_9e40_705a0f1a5828row42_col0\" class=\"data row42 col0\" >India</td>\n",
       "                        <td id=\"T_e9da4e26_6e93_11ea_9e40_705a0f1a5828row42_col1\" class=\"data row42 col1\" >396</td>\n",
       "                        <td id=\"T_e9da4e26_6e93_11ea_9e40_705a0f1a5828row42_col2\" class=\"data row42 col2\" >7</td>\n",
       "                        <td id=\"T_e9da4e26_6e93_11ea_9e40_705a0f1a5828row42_col3\" class=\"data row42 col3\" >27</td>\n",
       "                        <td id=\"T_e9da4e26_6e93_11ea_9e40_705a0f1a5828row42_col4\" class=\"data row42 col4\" >362</td>\n",
       "            </tr>\n",
       "            <tr>\n",
       "                        <th id=\"T_e9da4e26_6e93_11ea_9e40_705a0f1a5828level0_row43\" class=\"row_heading level0 row43\" >43</th>\n",
       "                        <td id=\"T_e9da4e26_6e93_11ea_9e40_705a0f1a5828row43_col0\" class=\"data row43 col0\" >Philippines</td>\n",
       "                        <td id=\"T_e9da4e26_6e93_11ea_9e40_705a0f1a5828row43_col1\" class=\"data row43 col1\" >380</td>\n",
       "                        <td id=\"T_e9da4e26_6e93_11ea_9e40_705a0f1a5828row43_col2\" class=\"data row43 col2\" >25</td>\n",
       "                        <td id=\"T_e9da4e26_6e93_11ea_9e40_705a0f1a5828row43_col3\" class=\"data row43 col3\" >17</td>\n",
       "                        <td id=\"T_e9da4e26_6e93_11ea_9e40_705a0f1a5828row43_col4\" class=\"data row43 col4\" >338</td>\n",
       "            </tr>\n",
       "            <tr>\n",
       "                        <th id=\"T_e9da4e26_6e93_11ea_9e40_705a0f1a5828level0_row44\" class=\"row_heading level0 row44\" >44</th>\n",
       "                        <td id=\"T_e9da4e26_6e93_11ea_9e40_705a0f1a5828row44_col0\" class=\"data row44 col0\" >Russia</td>\n",
       "                        <td id=\"T_e9da4e26_6e93_11ea_9e40_705a0f1a5828row44_col1\" class=\"data row44 col1\" >367</td>\n",
       "                        <td id=\"T_e9da4e26_6e93_11ea_9e40_705a0f1a5828row44_col2\" class=\"data row44 col2\" >0</td>\n",
       "                        <td id=\"T_e9da4e26_6e93_11ea_9e40_705a0f1a5828row44_col3\" class=\"data row44 col3\" >16</td>\n",
       "                        <td id=\"T_e9da4e26_6e93_11ea_9e40_705a0f1a5828row44_col4\" class=\"data row44 col4\" >351</td>\n",
       "            </tr>\n",
       "            <tr>\n",
       "                        <th id=\"T_e9da4e26_6e93_11ea_9e40_705a0f1a5828level0_row45\" class=\"row_heading level0 row45\" >45</th>\n",
       "                        <td id=\"T_e9da4e26_6e93_11ea_9e40_705a0f1a5828row45_col0\" class=\"data row45 col0\" >Peru</td>\n",
       "                        <td id=\"T_e9da4e26_6e93_11ea_9e40_705a0f1a5828row45_col1\" class=\"data row45 col1\" >363</td>\n",
       "                        <td id=\"T_e9da4e26_6e93_11ea_9e40_705a0f1a5828row45_col2\" class=\"data row45 col2\" >5</td>\n",
       "                        <td id=\"T_e9da4e26_6e93_11ea_9e40_705a0f1a5828row45_col3\" class=\"data row45 col3\" >1</td>\n",
       "                        <td id=\"T_e9da4e26_6e93_11ea_9e40_705a0f1a5828row45_col4\" class=\"data row45 col4\" >357</td>\n",
       "            </tr>\n",
       "            <tr>\n",
       "                        <th id=\"T_e9da4e26_6e93_11ea_9e40_705a0f1a5828level0_row46\" class=\"row_heading level0 row46\" >46</th>\n",
       "                        <td id=\"T_e9da4e26_6e93_11ea_9e40_705a0f1a5828row46_col0\" class=\"data row46 col0\" >Bahrain</td>\n",
       "                        <td id=\"T_e9da4e26_6e93_11ea_9e40_705a0f1a5828row46_col1\" class=\"data row46 col1\" >332</td>\n",
       "                        <td id=\"T_e9da4e26_6e93_11ea_9e40_705a0f1a5828row46_col2\" class=\"data row46 col2\" >2</td>\n",
       "                        <td id=\"T_e9da4e26_6e93_11ea_9e40_705a0f1a5828row46_col3\" class=\"data row46 col3\" >149</td>\n",
       "                        <td id=\"T_e9da4e26_6e93_11ea_9e40_705a0f1a5828row46_col4\" class=\"data row46 col4\" >181</td>\n",
       "            </tr>\n",
       "            <tr>\n",
       "                        <th id=\"T_e9da4e26_6e93_11ea_9e40_705a0f1a5828level0_row47\" class=\"row_heading level0 row47\" >47</th>\n",
       "                        <td id=\"T_e9da4e26_6e93_11ea_9e40_705a0f1a5828row47_col0\" class=\"data row47 col0\" >Egypt</td>\n",
       "                        <td id=\"T_e9da4e26_6e93_11ea_9e40_705a0f1a5828row47_col1\" class=\"data row47 col1\" >327</td>\n",
       "                        <td id=\"T_e9da4e26_6e93_11ea_9e40_705a0f1a5828row47_col2\" class=\"data row47 col2\" >14</td>\n",
       "                        <td id=\"T_e9da4e26_6e93_11ea_9e40_705a0f1a5828row47_col3\" class=\"data row47 col3\" >56</td>\n",
       "                        <td id=\"T_e9da4e26_6e93_11ea_9e40_705a0f1a5828row47_col4\" class=\"data row47 col4\" >257</td>\n",
       "            </tr>\n",
       "            <tr>\n",
       "                        <th id=\"T_e9da4e26_6e93_11ea_9e40_705a0f1a5828level0_row48\" class=\"row_heading level0 row48\" >48</th>\n",
       "                        <td id=\"T_e9da4e26_6e93_11ea_9e40_705a0f1a5828row48_col0\" class=\"data row48 col0\" >Estonia</td>\n",
       "                        <td id=\"T_e9da4e26_6e93_11ea_9e40_705a0f1a5828row48_col1\" class=\"data row48 col1\" >326</td>\n",
       "                        <td id=\"T_e9da4e26_6e93_11ea_9e40_705a0f1a5828row48_col2\" class=\"data row48 col2\" >0</td>\n",
       "                        <td id=\"T_e9da4e26_6e93_11ea_9e40_705a0f1a5828row48_col3\" class=\"data row48 col3\" >2</td>\n",
       "                        <td id=\"T_e9da4e26_6e93_11ea_9e40_705a0f1a5828row48_col4\" class=\"data row48 col4\" >324</td>\n",
       "            </tr>\n",
       "            <tr>\n",
       "                        <th id=\"T_e9da4e26_6e93_11ea_9e40_705a0f1a5828level0_row49\" class=\"row_heading level0 row49\" >49</th>\n",
       "                        <td id=\"T_e9da4e26_6e93_11ea_9e40_705a0f1a5828row49_col0\" class=\"data row49 col0\" >South Africa</td>\n",
       "                        <td id=\"T_e9da4e26_6e93_11ea_9e40_705a0f1a5828row49_col1\" class=\"data row49 col1\" >274</td>\n",
       "                        <td id=\"T_e9da4e26_6e93_11ea_9e40_705a0f1a5828row49_col2\" class=\"data row49 col2\" >0</td>\n",
       "                        <td id=\"T_e9da4e26_6e93_11ea_9e40_705a0f1a5828row49_col3\" class=\"data row49 col3\" >0</td>\n",
       "                        <td id=\"T_e9da4e26_6e93_11ea_9e40_705a0f1a5828row49_col4\" class=\"data row49 col4\" >274</td>\n",
       "            </tr>\n",
       "            <tr>\n",
       "                        <th id=\"T_e9da4e26_6e93_11ea_9e40_705a0f1a5828level0_row50\" class=\"row_heading level0 row50\" >50</th>\n",
       "                        <td id=\"T_e9da4e26_6e93_11ea_9e40_705a0f1a5828row50_col0\" class=\"data row50 col0\" >Croatia</td>\n",
       "                        <td id=\"T_e9da4e26_6e93_11ea_9e40_705a0f1a5828row50_col1\" class=\"data row50 col1\" >254</td>\n",
       "                        <td id=\"T_e9da4e26_6e93_11ea_9e40_705a0f1a5828row50_col2\" class=\"data row50 col2\" >1</td>\n",
       "                        <td id=\"T_e9da4e26_6e93_11ea_9e40_705a0f1a5828row50_col3\" class=\"data row50 col3\" >5</td>\n",
       "                        <td id=\"T_e9da4e26_6e93_11ea_9e40_705a0f1a5828row50_col4\" class=\"data row50 col4\" >248</td>\n",
       "            </tr>\n",
       "            <tr>\n",
       "                        <th id=\"T_e9da4e26_6e93_11ea_9e40_705a0f1a5828level0_row51\" class=\"row_heading level0 row51\" >51</th>\n",
       "                        <td id=\"T_e9da4e26_6e93_11ea_9e40_705a0f1a5828row51_col0\" class=\"data row51 col0\" >Mexico</td>\n",
       "                        <td id=\"T_e9da4e26_6e93_11ea_9e40_705a0f1a5828row51_col1\" class=\"data row51 col1\" >251</td>\n",
       "                        <td id=\"T_e9da4e26_6e93_11ea_9e40_705a0f1a5828row51_col2\" class=\"data row51 col2\" >2</td>\n",
       "                        <td id=\"T_e9da4e26_6e93_11ea_9e40_705a0f1a5828row51_col3\" class=\"data row51 col3\" >4</td>\n",
       "                        <td id=\"T_e9da4e26_6e93_11ea_9e40_705a0f1a5828row51_col4\" class=\"data row51 col4\" >245</td>\n",
       "            </tr>\n",
       "            <tr>\n",
       "                        <th id=\"T_e9da4e26_6e93_11ea_9e40_705a0f1a5828level0_row52\" class=\"row_heading level0 row52\" >52</th>\n",
       "                        <td id=\"T_e9da4e26_6e93_11ea_9e40_705a0f1a5828row52_col0\" class=\"data row52 col0\" >Lebanon</td>\n",
       "                        <td id=\"T_e9da4e26_6e93_11ea_9e40_705a0f1a5828row52_col1\" class=\"data row52 col1\" >248</td>\n",
       "                        <td id=\"T_e9da4e26_6e93_11ea_9e40_705a0f1a5828row52_col2\" class=\"data row52 col2\" >4</td>\n",
       "                        <td id=\"T_e9da4e26_6e93_11ea_9e40_705a0f1a5828row52_col3\" class=\"data row52 col3\" >8</td>\n",
       "                        <td id=\"T_e9da4e26_6e93_11ea_9e40_705a0f1a5828row52_col4\" class=\"data row52 col4\" >236</td>\n",
       "            </tr>\n",
       "            <tr>\n",
       "                        <th id=\"T_e9da4e26_6e93_11ea_9e40_705a0f1a5828level0_row53\" class=\"row_heading level0 row53\" >53</th>\n",
       "                        <td id=\"T_e9da4e26_6e93_11ea_9e40_705a0f1a5828row53_col0\" class=\"data row53 col0\" >Panama</td>\n",
       "                        <td id=\"T_e9da4e26_6e93_11ea_9e40_705a0f1a5828row53_col1\" class=\"data row53 col1\" >245</td>\n",
       "                        <td id=\"T_e9da4e26_6e93_11ea_9e40_705a0f1a5828row53_col2\" class=\"data row53 col2\" >3</td>\n",
       "                        <td id=\"T_e9da4e26_6e93_11ea_9e40_705a0f1a5828row53_col3\" class=\"data row53 col3\" >0</td>\n",
       "                        <td id=\"T_e9da4e26_6e93_11ea_9e40_705a0f1a5828row53_col4\" class=\"data row53 col4\" >242</td>\n",
       "            </tr>\n",
       "            <tr>\n",
       "                        <th id=\"T_e9da4e26_6e93_11ea_9e40_705a0f1a5828level0_row54\" class=\"row_heading level0 row54\" >54</th>\n",
       "                        <td id=\"T_e9da4e26_6e93_11ea_9e40_705a0f1a5828row54_col0\" class=\"data row54 col0\" >Iraq</td>\n",
       "                        <td id=\"T_e9da4e26_6e93_11ea_9e40_705a0f1a5828row54_col1\" class=\"data row54 col1\" >233</td>\n",
       "                        <td id=\"T_e9da4e26_6e93_11ea_9e40_705a0f1a5828row54_col2\" class=\"data row54 col2\" >20</td>\n",
       "                        <td id=\"T_e9da4e26_6e93_11ea_9e40_705a0f1a5828row54_col3\" class=\"data row54 col3\" >57</td>\n",
       "                        <td id=\"T_e9da4e26_6e93_11ea_9e40_705a0f1a5828row54_col4\" class=\"data row54 col4\" >156</td>\n",
       "            </tr>\n",
       "            <tr>\n",
       "                        <th id=\"T_e9da4e26_6e93_11ea_9e40_705a0f1a5828level0_row55\" class=\"row_heading level0 row55\" >55</th>\n",
       "                        <td id=\"T_e9da4e26_6e93_11ea_9e40_705a0f1a5828row55_col0\" class=\"data row55 col0\" >Colombia</td>\n",
       "                        <td id=\"T_e9da4e26_6e93_11ea_9e40_705a0f1a5828row55_col1\" class=\"data row55 col1\" >231</td>\n",
       "                        <td id=\"T_e9da4e26_6e93_11ea_9e40_705a0f1a5828row55_col2\" class=\"data row55 col2\" >2</td>\n",
       "                        <td id=\"T_e9da4e26_6e93_11ea_9e40_705a0f1a5828row55_col3\" class=\"data row55 col3\" >3</td>\n",
       "                        <td id=\"T_e9da4e26_6e93_11ea_9e40_705a0f1a5828row55_col4\" class=\"data row55 col4\" >226</td>\n",
       "            </tr>\n",
       "            <tr>\n",
       "                        <th id=\"T_e9da4e26_6e93_11ea_9e40_705a0f1a5828level0_row56\" class=\"row_heading level0 row56\" >56</th>\n",
       "                        <td id=\"T_e9da4e26_6e93_11ea_9e40_705a0f1a5828row56_col0\" class=\"data row56 col0\" >Argentina</td>\n",
       "                        <td id=\"T_e9da4e26_6e93_11ea_9e40_705a0f1a5828row56_col1\" class=\"data row56 col1\" >225</td>\n",
       "                        <td id=\"T_e9da4e26_6e93_11ea_9e40_705a0f1a5828row56_col2\" class=\"data row56 col2\" >4</td>\n",
       "                        <td id=\"T_e9da4e26_6e93_11ea_9e40_705a0f1a5828row56_col3\" class=\"data row56 col3\" >3</td>\n",
       "                        <td id=\"T_e9da4e26_6e93_11ea_9e40_705a0f1a5828row56_col4\" class=\"data row56 col4\" >218</td>\n",
       "            </tr>\n",
       "            <tr>\n",
       "                        <th id=\"T_e9da4e26_6e93_11ea_9e40_705a0f1a5828level0_row57\" class=\"row_heading level0 row57\" >57</th>\n",
       "                        <td id=\"T_e9da4e26_6e93_11ea_9e40_705a0f1a5828row57_col0\" class=\"data row57 col0\" >Serbia</td>\n",
       "                        <td id=\"T_e9da4e26_6e93_11ea_9e40_705a0f1a5828row57_col1\" class=\"data row57 col1\" >222</td>\n",
       "                        <td id=\"T_e9da4e26_6e93_11ea_9e40_705a0f1a5828row57_col2\" class=\"data row57 col2\" >2</td>\n",
       "                        <td id=\"T_e9da4e26_6e93_11ea_9e40_705a0f1a5828row57_col3\" class=\"data row57 col3\" >1</td>\n",
       "                        <td id=\"T_e9da4e26_6e93_11ea_9e40_705a0f1a5828row57_col4\" class=\"data row57 col4\" >219</td>\n",
       "            </tr>\n",
       "            <tr>\n",
       "                        <th id=\"T_e9da4e26_6e93_11ea_9e40_705a0f1a5828level0_row58\" class=\"row_heading level0 row58\" >58</th>\n",
       "                        <td id=\"T_e9da4e26_6e93_11ea_9e40_705a0f1a5828row58_col0\" class=\"data row58 col0\" >Dominican Republic</td>\n",
       "                        <td id=\"T_e9da4e26_6e93_11ea_9e40_705a0f1a5828row58_col1\" class=\"data row58 col1\" >202</td>\n",
       "                        <td id=\"T_e9da4e26_6e93_11ea_9e40_705a0f1a5828row58_col2\" class=\"data row58 col2\" >3</td>\n",
       "                        <td id=\"T_e9da4e26_6e93_11ea_9e40_705a0f1a5828row58_col3\" class=\"data row58 col3\" >0</td>\n",
       "                        <td id=\"T_e9da4e26_6e93_11ea_9e40_705a0f1a5828row58_col4\" class=\"data row58 col4\" >199</td>\n",
       "            </tr>\n",
       "            <tr>\n",
       "                        <th id=\"T_e9da4e26_6e93_11ea_9e40_705a0f1a5828level0_row59\" class=\"row_heading level0 row59\" >59</th>\n",
       "                        <td id=\"T_e9da4e26_6e93_11ea_9e40_705a0f1a5828row59_col0\" class=\"data row59 col0\" >Algeria</td>\n",
       "                        <td id=\"T_e9da4e26_6e93_11ea_9e40_705a0f1a5828row59_col1\" class=\"data row59 col1\" >201</td>\n",
       "                        <td id=\"T_e9da4e26_6e93_11ea_9e40_705a0f1a5828row59_col2\" class=\"data row59 col2\" >17</td>\n",
       "                        <td id=\"T_e9da4e26_6e93_11ea_9e40_705a0f1a5828row59_col3\" class=\"data row59 col3\" >65</td>\n",
       "                        <td id=\"T_e9da4e26_6e93_11ea_9e40_705a0f1a5828row59_col4\" class=\"data row59 col4\" >119</td>\n",
       "            </tr>\n",
       "            <tr>\n",
       "                        <th id=\"T_e9da4e26_6e93_11ea_9e40_705a0f1a5828level0_row60\" class=\"row_heading level0 row60\" >60</th>\n",
       "                        <td id=\"T_e9da4e26_6e93_11ea_9e40_705a0f1a5828row60_col0\" class=\"data row60 col0\" >Armenia</td>\n",
       "                        <td id=\"T_e9da4e26_6e93_11ea_9e40_705a0f1a5828row60_col1\" class=\"data row60 col1\" >194</td>\n",
       "                        <td id=\"T_e9da4e26_6e93_11ea_9e40_705a0f1a5828row60_col2\" class=\"data row60 col2\" >0</td>\n",
       "                        <td id=\"T_e9da4e26_6e93_11ea_9e40_705a0f1a5828row60_col3\" class=\"data row60 col3\" >2</td>\n",
       "                        <td id=\"T_e9da4e26_6e93_11ea_9e40_705a0f1a5828row60_col4\" class=\"data row60 col4\" >192</td>\n",
       "            </tr>\n",
       "            <tr>\n",
       "                        <th id=\"T_e9da4e26_6e93_11ea_9e40_705a0f1a5828level0_row61\" class=\"row_heading level0 row61\" >61</th>\n",
       "                        <td id=\"T_e9da4e26_6e93_11ea_9e40_705a0f1a5828row61_col0\" class=\"data row61 col0\" >Kuwait</td>\n",
       "                        <td id=\"T_e9da4e26_6e93_11ea_9e40_705a0f1a5828row61_col1\" class=\"data row61 col1\" >188</td>\n",
       "                        <td id=\"T_e9da4e26_6e93_11ea_9e40_705a0f1a5828row61_col2\" class=\"data row61 col2\" >0</td>\n",
       "                        <td id=\"T_e9da4e26_6e93_11ea_9e40_705a0f1a5828row61_col3\" class=\"data row61 col3\" >27</td>\n",
       "                        <td id=\"T_e9da4e26_6e93_11ea_9e40_705a0f1a5828row61_col4\" class=\"data row61 col4\" >161</td>\n",
       "            </tr>\n",
       "            <tr>\n",
       "                        <th id=\"T_e9da4e26_6e93_11ea_9e40_705a0f1a5828level0_row62\" class=\"row_heading level0 row62\" >62</th>\n",
       "                        <td id=\"T_e9da4e26_6e93_11ea_9e40_705a0f1a5828row62_col0\" class=\"data row62 col0\" >Bulgaria</td>\n",
       "                        <td id=\"T_e9da4e26_6e93_11ea_9e40_705a0f1a5828row62_col1\" class=\"data row62 col1\" >187</td>\n",
       "                        <td id=\"T_e9da4e26_6e93_11ea_9e40_705a0f1a5828row62_col2\" class=\"data row62 col2\" >3</td>\n",
       "                        <td id=\"T_e9da4e26_6e93_11ea_9e40_705a0f1a5828row62_col3\" class=\"data row62 col3\" >3</td>\n",
       "                        <td id=\"T_e9da4e26_6e93_11ea_9e40_705a0f1a5828row62_col4\" class=\"data row62 col4\" >181</td>\n",
       "            </tr>\n",
       "            <tr>\n",
       "                        <th id=\"T_e9da4e26_6e93_11ea_9e40_705a0f1a5828level0_row63\" class=\"row_heading level0 row63\" >63</th>\n",
       "                        <td id=\"T_e9da4e26_6e93_11ea_9e40_705a0f1a5828row63_col0\" class=\"data row63 col0\" >Slovakia</td>\n",
       "                        <td id=\"T_e9da4e26_6e93_11ea_9e40_705a0f1a5828row63_col1\" class=\"data row63 col1\" >185</td>\n",
       "                        <td id=\"T_e9da4e26_6e93_11ea_9e40_705a0f1a5828row63_col2\" class=\"data row63 col2\" >1</td>\n",
       "                        <td id=\"T_e9da4e26_6e93_11ea_9e40_705a0f1a5828row63_col3\" class=\"data row63 col3\" >7</td>\n",
       "                        <td id=\"T_e9da4e26_6e93_11ea_9e40_705a0f1a5828row63_col4\" class=\"data row63 col4\" >177</td>\n",
       "            </tr>\n",
       "            <tr>\n",
       "                        <th id=\"T_e9da4e26_6e93_11ea_9e40_705a0f1a5828level0_row64\" class=\"row_heading level0 row64\" >64</th>\n",
       "                        <td id=\"T_e9da4e26_6e93_11ea_9e40_705a0f1a5828row64_col0\" class=\"data row64 col0\" >Taiwan</td>\n",
       "                        <td id=\"T_e9da4e26_6e93_11ea_9e40_705a0f1a5828row64_col1\" class=\"data row64 col1\" >169</td>\n",
       "                        <td id=\"T_e9da4e26_6e93_11ea_9e40_705a0f1a5828row64_col2\" class=\"data row64 col2\" >2</td>\n",
       "                        <td id=\"T_e9da4e26_6e93_11ea_9e40_705a0f1a5828row64_col3\" class=\"data row64 col3\" >28</td>\n",
       "                        <td id=\"T_e9da4e26_6e93_11ea_9e40_705a0f1a5828row64_col4\" class=\"data row64 col4\" >139</td>\n",
       "            </tr>\n",
       "            <tr>\n",
       "                        <th id=\"T_e9da4e26_6e93_11ea_9e40_705a0f1a5828level0_row65\" class=\"row_heading level0 row65\" >65</th>\n",
       "                        <td id=\"T_e9da4e26_6e93_11ea_9e40_705a0f1a5828row65_col0\" class=\"data row65 col0\" >San Marino</td>\n",
       "                        <td id=\"T_e9da4e26_6e93_11ea_9e40_705a0f1a5828row65_col1\" class=\"data row65 col1\" >160</td>\n",
       "                        <td id=\"T_e9da4e26_6e93_11ea_9e40_705a0f1a5828row65_col2\" class=\"data row65 col2\" >20</td>\n",
       "                        <td id=\"T_e9da4e26_6e93_11ea_9e40_705a0f1a5828row65_col3\" class=\"data row65 col3\" >4</td>\n",
       "                        <td id=\"T_e9da4e26_6e93_11ea_9e40_705a0f1a5828row65_col4\" class=\"data row65 col4\" >136</td>\n",
       "            </tr>\n",
       "            <tr>\n",
       "                        <th id=\"T_e9da4e26_6e93_11ea_9e40_705a0f1a5828level0_row66\" class=\"row_heading level0 row66\" >66</th>\n",
       "                        <td id=\"T_e9da4e26_6e93_11ea_9e40_705a0f1a5828row66_col0\" class=\"data row66 col0\" >United Arab Emirates</td>\n",
       "                        <td id=\"T_e9da4e26_6e93_11ea_9e40_705a0f1a5828row66_col1\" class=\"data row66 col1\" >153</td>\n",
       "                        <td id=\"T_e9da4e26_6e93_11ea_9e40_705a0f1a5828row66_col2\" class=\"data row66 col2\" >2</td>\n",
       "                        <td id=\"T_e9da4e26_6e93_11ea_9e40_705a0f1a5828row66_col3\" class=\"data row66 col3\" >38</td>\n",
       "                        <td id=\"T_e9da4e26_6e93_11ea_9e40_705a0f1a5828row66_col4\" class=\"data row66 col4\" >113</td>\n",
       "            </tr>\n",
       "            <tr>\n",
       "                        <th id=\"T_e9da4e26_6e93_11ea_9e40_705a0f1a5828level0_row67\" class=\"row_heading level0 row67\" >67</th>\n",
       "                        <td id=\"T_e9da4e26_6e93_11ea_9e40_705a0f1a5828row67_col0\" class=\"data row67 col0\" >Latvia</td>\n",
       "                        <td id=\"T_e9da4e26_6e93_11ea_9e40_705a0f1a5828row67_col1\" class=\"data row67 col1\" >139</td>\n",
       "                        <td id=\"T_e9da4e26_6e93_11ea_9e40_705a0f1a5828row67_col2\" class=\"data row67 col2\" >0</td>\n",
       "                        <td id=\"T_e9da4e26_6e93_11ea_9e40_705a0f1a5828row67_col3\" class=\"data row67 col3\" >1</td>\n",
       "                        <td id=\"T_e9da4e26_6e93_11ea_9e40_705a0f1a5828row67_col4\" class=\"data row67 col4\" >138</td>\n",
       "            </tr>\n",
       "            <tr>\n",
       "                        <th id=\"T_e9da4e26_6e93_11ea_9e40_705a0f1a5828level0_row68\" class=\"row_heading level0 row68\" >68</th>\n",
       "                        <td id=\"T_e9da4e26_6e93_11ea_9e40_705a0f1a5828row68_col0\" class=\"data row68 col0\" >Uruguay</td>\n",
       "                        <td id=\"T_e9da4e26_6e93_11ea_9e40_705a0f1a5828row68_col1\" class=\"data row68 col1\" >135</td>\n",
       "                        <td id=\"T_e9da4e26_6e93_11ea_9e40_705a0f1a5828row68_col2\" class=\"data row68 col2\" >0</td>\n",
       "                        <td id=\"T_e9da4e26_6e93_11ea_9e40_705a0f1a5828row68_col3\" class=\"data row68 col3\" >0</td>\n",
       "                        <td id=\"T_e9da4e26_6e93_11ea_9e40_705a0f1a5828row68_col4\" class=\"data row68 col4\" >135</td>\n",
       "            </tr>\n",
       "            <tr>\n",
       "                        <th id=\"T_e9da4e26_6e93_11ea_9e40_705a0f1a5828level0_row69\" class=\"row_heading level0 row69\" >69</th>\n",
       "                        <td id=\"T_e9da4e26_6e93_11ea_9e40_705a0f1a5828row69_col0\" class=\"data row69 col0\" >Costa Rica</td>\n",
       "                        <td id=\"T_e9da4e26_6e93_11ea_9e40_705a0f1a5828row69_col1\" class=\"data row69 col1\" >134</td>\n",
       "                        <td id=\"T_e9da4e26_6e93_11ea_9e40_705a0f1a5828row69_col2\" class=\"data row69 col2\" >2</td>\n",
       "                        <td id=\"T_e9da4e26_6e93_11ea_9e40_705a0f1a5828row69_col3\" class=\"data row69 col3\" >2</td>\n",
       "                        <td id=\"T_e9da4e26_6e93_11ea_9e40_705a0f1a5828row69_col4\" class=\"data row69 col4\" >130</td>\n",
       "            </tr>\n",
       "            <tr>\n",
       "                        <th id=\"T_e9da4e26_6e93_11ea_9e40_705a0f1a5828level0_row70\" class=\"row_heading level0 row70\" >70</th>\n",
       "                        <td id=\"T_e9da4e26_6e93_11ea_9e40_705a0f1a5828row70_col0\" class=\"data row70 col0\" >Lithuania</td>\n",
       "                        <td id=\"T_e9da4e26_6e93_11ea_9e40_705a0f1a5828row70_col1\" class=\"data row70 col1\" >131</td>\n",
       "                        <td id=\"T_e9da4e26_6e93_11ea_9e40_705a0f1a5828row70_col2\" class=\"data row70 col2\" >1</td>\n",
       "                        <td id=\"T_e9da4e26_6e93_11ea_9e40_705a0f1a5828row70_col3\" class=\"data row70 col3\" >1</td>\n",
       "                        <td id=\"T_e9da4e26_6e93_11ea_9e40_705a0f1a5828row70_col4\" class=\"data row70 col4\" >129</td>\n",
       "            </tr>\n",
       "            <tr>\n",
       "                        <th id=\"T_e9da4e26_6e93_11ea_9e40_705a0f1a5828level0_row71\" class=\"row_heading level0 row71\" >71</th>\n",
       "                        <td id=\"T_e9da4e26_6e93_11ea_9e40_705a0f1a5828row71_col0\" class=\"data row71 col0\" >Hungary</td>\n",
       "                        <td id=\"T_e9da4e26_6e93_11ea_9e40_705a0f1a5828row71_col1\" class=\"data row71 col1\" >131</td>\n",
       "                        <td id=\"T_e9da4e26_6e93_11ea_9e40_705a0f1a5828row71_col2\" class=\"data row71 col2\" >6</td>\n",
       "                        <td id=\"T_e9da4e26_6e93_11ea_9e40_705a0f1a5828row71_col3\" class=\"data row71 col3\" >16</td>\n",
       "                        <td id=\"T_e9da4e26_6e93_11ea_9e40_705a0f1a5828row71_col4\" class=\"data row71 col4\" >109</td>\n",
       "            </tr>\n",
       "            <tr>\n",
       "                        <th id=\"T_e9da4e26_6e93_11ea_9e40_705a0f1a5828level0_row72\" class=\"row_heading level0 row72\" >72</th>\n",
       "                        <td id=\"T_e9da4e26_6e93_11ea_9e40_705a0f1a5828row72_col0\" class=\"data row72 col0\" >Bosnia and Herzegovina</td>\n",
       "                        <td id=\"T_e9da4e26_6e93_11ea_9e40_705a0f1a5828row72_col1\" class=\"data row72 col1\" >126</td>\n",
       "                        <td id=\"T_e9da4e26_6e93_11ea_9e40_705a0f1a5828row72_col2\" class=\"data row72 col2\" >1</td>\n",
       "                        <td id=\"T_e9da4e26_6e93_11ea_9e40_705a0f1a5828row72_col3\" class=\"data row72 col3\" >2</td>\n",
       "                        <td id=\"T_e9da4e26_6e93_11ea_9e40_705a0f1a5828row72_col4\" class=\"data row72 col4\" >123</td>\n",
       "            </tr>\n",
       "            <tr>\n",
       "                        <th id=\"T_e9da4e26_6e93_11ea_9e40_705a0f1a5828level0_row73\" class=\"row_heading level0 row73\" >73</th>\n",
       "                        <td id=\"T_e9da4e26_6e93_11ea_9e40_705a0f1a5828row73_col0\" class=\"data row73 col0\" >Morocco</td>\n",
       "                        <td id=\"T_e9da4e26_6e93_11ea_9e40_705a0f1a5828row73_col1\" class=\"data row73 col1\" >115</td>\n",
       "                        <td id=\"T_e9da4e26_6e93_11ea_9e40_705a0f1a5828row73_col2\" class=\"data row73 col2\" >4</td>\n",
       "                        <td id=\"T_e9da4e26_6e93_11ea_9e40_705a0f1a5828row73_col3\" class=\"data row73 col3\" >3</td>\n",
       "                        <td id=\"T_e9da4e26_6e93_11ea_9e40_705a0f1a5828row73_col4\" class=\"data row73 col4\" >108</td>\n",
       "            </tr>\n",
       "            <tr>\n",
       "                        <th id=\"T_e9da4e26_6e93_11ea_9e40_705a0f1a5828level0_row74\" class=\"row_heading level0 row74\" >74</th>\n",
       "                        <td id=\"T_e9da4e26_6e93_11ea_9e40_705a0f1a5828row74_col0\" class=\"data row74 col0\" >North Macedonia</td>\n",
       "                        <td id=\"T_e9da4e26_6e93_11ea_9e40_705a0f1a5828row74_col1\" class=\"data row74 col1\" >114</td>\n",
       "                        <td id=\"T_e9da4e26_6e93_11ea_9e40_705a0f1a5828row74_col2\" class=\"data row74 col2\" >1</td>\n",
       "                        <td id=\"T_e9da4e26_6e93_11ea_9e40_705a0f1a5828row74_col3\" class=\"data row74 col3\" >1</td>\n",
       "                        <td id=\"T_e9da4e26_6e93_11ea_9e40_705a0f1a5828row74_col4\" class=\"data row74 col4\" >112</td>\n",
       "            </tr>\n",
       "            <tr>\n",
       "                        <th id=\"T_e9da4e26_6e93_11ea_9e40_705a0f1a5828level0_row75\" class=\"row_heading level0 row75\" >75</th>\n",
       "                        <td id=\"T_e9da4e26_6e93_11ea_9e40_705a0f1a5828row75_col0\" class=\"data row75 col0\" >Vietnam</td>\n",
       "                        <td id=\"T_e9da4e26_6e93_11ea_9e40_705a0f1a5828row75_col1\" class=\"data row75 col1\" >113</td>\n",
       "                        <td id=\"T_e9da4e26_6e93_11ea_9e40_705a0f1a5828row75_col2\" class=\"data row75 col2\" >0</td>\n",
       "                        <td id=\"T_e9da4e26_6e93_11ea_9e40_705a0f1a5828row75_col3\" class=\"data row75 col3\" >17</td>\n",
       "                        <td id=\"T_e9da4e26_6e93_11ea_9e40_705a0f1a5828row75_col4\" class=\"data row75 col4\" >96</td>\n",
       "            </tr>\n",
       "            <tr>\n",
       "                        <th id=\"T_e9da4e26_6e93_11ea_9e40_705a0f1a5828level0_row76\" class=\"row_heading level0 row76\" >76</th>\n",
       "                        <td id=\"T_e9da4e26_6e93_11ea_9e40_705a0f1a5828row76_col0\" class=\"data row76 col0\" >Andorra</td>\n",
       "                        <td id=\"T_e9da4e26_6e93_11ea_9e40_705a0f1a5828row76_col1\" class=\"data row76 col1\" >113</td>\n",
       "                        <td id=\"T_e9da4e26_6e93_11ea_9e40_705a0f1a5828row76_col2\" class=\"data row76 col2\" >1</td>\n",
       "                        <td id=\"T_e9da4e26_6e93_11ea_9e40_705a0f1a5828row76_col3\" class=\"data row76 col3\" >1</td>\n",
       "                        <td id=\"T_e9da4e26_6e93_11ea_9e40_705a0f1a5828row76_col4\" class=\"data row76 col4\" >111</td>\n",
       "            </tr>\n",
       "            <tr>\n",
       "                        <th id=\"T_e9da4e26_6e93_11ea_9e40_705a0f1a5828level0_row77\" class=\"row_heading level0 row77\" >77</th>\n",
       "                        <td id=\"T_e9da4e26_6e93_11ea_9e40_705a0f1a5828row77_col0\" class=\"data row77 col0\" >Jordan</td>\n",
       "                        <td id=\"T_e9da4e26_6e93_11ea_9e40_705a0f1a5828row77_col1\" class=\"data row77 col1\" >112</td>\n",
       "                        <td id=\"T_e9da4e26_6e93_11ea_9e40_705a0f1a5828row77_col2\" class=\"data row77 col2\" >0</td>\n",
       "                        <td id=\"T_e9da4e26_6e93_11ea_9e40_705a0f1a5828row77_col3\" class=\"data row77 col3\" >1</td>\n",
       "                        <td id=\"T_e9da4e26_6e93_11ea_9e40_705a0f1a5828row77_col4\" class=\"data row77 col4\" >111</td>\n",
       "            </tr>\n",
       "            <tr>\n",
       "                        <th id=\"T_e9da4e26_6e93_11ea_9e40_705a0f1a5828level0_row78\" class=\"row_heading level0 row78\" >78</th>\n",
       "                        <td id=\"T_e9da4e26_6e93_11ea_9e40_705a0f1a5828row78_col0\" class=\"data row78 col0\" >Cyprus</td>\n",
       "                        <td id=\"T_e9da4e26_6e93_11ea_9e40_705a0f1a5828row78_col1\" class=\"data row78 col1\" >95</td>\n",
       "                        <td id=\"T_e9da4e26_6e93_11ea_9e40_705a0f1a5828row78_col2\" class=\"data row78 col2\" >1</td>\n",
       "                        <td id=\"T_e9da4e26_6e93_11ea_9e40_705a0f1a5828row78_col3\" class=\"data row78 col3\" >3</td>\n",
       "                        <td id=\"T_e9da4e26_6e93_11ea_9e40_705a0f1a5828row78_col4\" class=\"data row78 col4\" >91</td>\n",
       "            </tr>\n",
       "            <tr>\n",
       "                        <th id=\"T_e9da4e26_6e93_11ea_9e40_705a0f1a5828level0_row79\" class=\"row_heading level0 row79\" >79</th>\n",
       "                        <td id=\"T_e9da4e26_6e93_11ea_9e40_705a0f1a5828row79_col0\" class=\"data row79 col0\" >Moldova</td>\n",
       "                        <td id=\"T_e9da4e26_6e93_11ea_9e40_705a0f1a5828row79_col1\" class=\"data row79 col1\" >94</td>\n",
       "                        <td id=\"T_e9da4e26_6e93_11ea_9e40_705a0f1a5828row79_col2\" class=\"data row79 col2\" >1</td>\n",
       "                        <td id=\"T_e9da4e26_6e93_11ea_9e40_705a0f1a5828row79_col3\" class=\"data row79 col3\" >1</td>\n",
       "                        <td id=\"T_e9da4e26_6e93_11ea_9e40_705a0f1a5828row79_col4\" class=\"data row79 col4\" >92</td>\n",
       "            </tr>\n",
       "            <tr>\n",
       "                        <th id=\"T_e9da4e26_6e93_11ea_9e40_705a0f1a5828level0_row80\" class=\"row_heading level0 row80\" >80</th>\n",
       "                        <td id=\"T_e9da4e26_6e93_11ea_9e40_705a0f1a5828row80_col0\" class=\"data row80 col0\" >Malta</td>\n",
       "                        <td id=\"T_e9da4e26_6e93_11ea_9e40_705a0f1a5828row80_col1\" class=\"data row80 col1\" >90</td>\n",
       "                        <td id=\"T_e9da4e26_6e93_11ea_9e40_705a0f1a5828row80_col2\" class=\"data row80 col2\" >0</td>\n",
       "                        <td id=\"T_e9da4e26_6e93_11ea_9e40_705a0f1a5828row80_col3\" class=\"data row80 col3\" >2</td>\n",
       "                        <td id=\"T_e9da4e26_6e93_11ea_9e40_705a0f1a5828row80_col4\" class=\"data row80 col4\" >88</td>\n",
       "            </tr>\n",
       "            <tr>\n",
       "                        <th id=\"T_e9da4e26_6e93_11ea_9e40_705a0f1a5828level0_row81\" class=\"row_heading level0 row81\" >81</th>\n",
       "                        <td id=\"T_e9da4e26_6e93_11ea_9e40_705a0f1a5828row81_col0\" class=\"data row81 col0\" >Albania</td>\n",
       "                        <td id=\"T_e9da4e26_6e93_11ea_9e40_705a0f1a5828row81_col1\" class=\"data row81 col1\" >89</td>\n",
       "                        <td id=\"T_e9da4e26_6e93_11ea_9e40_705a0f1a5828row81_col2\" class=\"data row81 col2\" >2</td>\n",
       "                        <td id=\"T_e9da4e26_6e93_11ea_9e40_705a0f1a5828row81_col3\" class=\"data row81 col3\" >2</td>\n",
       "                        <td id=\"T_e9da4e26_6e93_11ea_9e40_705a0f1a5828row81_col4\" class=\"data row81 col4\" >85</td>\n",
       "            </tr>\n",
       "            <tr>\n",
       "                        <th id=\"T_e9da4e26_6e93_11ea_9e40_705a0f1a5828level0_row82\" class=\"row_heading level0 row82\" >82</th>\n",
       "                        <td id=\"T_e9da4e26_6e93_11ea_9e40_705a0f1a5828row82_col0\" class=\"data row82 col0\" >Brunei</td>\n",
       "                        <td id=\"T_e9da4e26_6e93_11ea_9e40_705a0f1a5828row82_col1\" class=\"data row82 col1\" >88</td>\n",
       "                        <td id=\"T_e9da4e26_6e93_11ea_9e40_705a0f1a5828row82_col2\" class=\"data row82 col2\" >0</td>\n",
       "                        <td id=\"T_e9da4e26_6e93_11ea_9e40_705a0f1a5828row82_col3\" class=\"data row82 col3\" >2</td>\n",
       "                        <td id=\"T_e9da4e26_6e93_11ea_9e40_705a0f1a5828row82_col4\" class=\"data row82 col4\" >86</td>\n",
       "            </tr>\n",
       "            <tr>\n",
       "                        <th id=\"T_e9da4e26_6e93_11ea_9e40_705a0f1a5828level0_row83\" class=\"row_heading level0 row83\" >83</th>\n",
       "                        <td id=\"T_e9da4e26_6e93_11ea_9e40_705a0f1a5828row83_col0\" class=\"data row83 col0\" >Cambodia</td>\n",
       "                        <td id=\"T_e9da4e26_6e93_11ea_9e40_705a0f1a5828row83_col1\" class=\"data row83 col1\" >84</td>\n",
       "                        <td id=\"T_e9da4e26_6e93_11ea_9e40_705a0f1a5828row83_col2\" class=\"data row83 col2\" >0</td>\n",
       "                        <td id=\"T_e9da4e26_6e93_11ea_9e40_705a0f1a5828row83_col3\" class=\"data row83 col3\" >1</td>\n",
       "                        <td id=\"T_e9da4e26_6e93_11ea_9e40_705a0f1a5828row83_col4\" class=\"data row83 col4\" >83</td>\n",
       "            </tr>\n",
       "            <tr>\n",
       "                        <th id=\"T_e9da4e26_6e93_11ea_9e40_705a0f1a5828level0_row84\" class=\"row_heading level0 row84\" >84</th>\n",
       "                        <td id=\"T_e9da4e26_6e93_11ea_9e40_705a0f1a5828row84_col0\" class=\"data row84 col0\" >Sri Lanka</td>\n",
       "                        <td id=\"T_e9da4e26_6e93_11ea_9e40_705a0f1a5828row84_col1\" class=\"data row84 col1\" >82</td>\n",
       "                        <td id=\"T_e9da4e26_6e93_11ea_9e40_705a0f1a5828row84_col2\" class=\"data row84 col2\" >0</td>\n",
       "                        <td id=\"T_e9da4e26_6e93_11ea_9e40_705a0f1a5828row84_col3\" class=\"data row84 col3\" >3</td>\n",
       "                        <td id=\"T_e9da4e26_6e93_11ea_9e40_705a0f1a5828row84_col4\" class=\"data row84 col4\" >79</td>\n",
       "            </tr>\n",
       "            <tr>\n",
       "                        <th id=\"T_e9da4e26_6e93_11ea_9e40_705a0f1a5828level0_row85\" class=\"row_heading level0 row85\" >85</th>\n",
       "                        <td id=\"T_e9da4e26_6e93_11ea_9e40_705a0f1a5828row85_col0\" class=\"data row85 col0\" >Belarus</td>\n",
       "                        <td id=\"T_e9da4e26_6e93_11ea_9e40_705a0f1a5828row85_col1\" class=\"data row85 col1\" >76</td>\n",
       "                        <td id=\"T_e9da4e26_6e93_11ea_9e40_705a0f1a5828row85_col2\" class=\"data row85 col2\" >0</td>\n",
       "                        <td id=\"T_e9da4e26_6e93_11ea_9e40_705a0f1a5828row85_col3\" class=\"data row85 col3\" >15</td>\n",
       "                        <td id=\"T_e9da4e26_6e93_11ea_9e40_705a0f1a5828row85_col4\" class=\"data row85 col4\" >61</td>\n",
       "            </tr>\n",
       "            <tr>\n",
       "                        <th id=\"T_e9da4e26_6e93_11ea_9e40_705a0f1a5828level0_row86\" class=\"row_heading level0 row86\" >86</th>\n",
       "                        <td id=\"T_e9da4e26_6e93_11ea_9e40_705a0f1a5828row86_col0\" class=\"data row86 col0\" >Burkina Faso</td>\n",
       "                        <td id=\"T_e9da4e26_6e93_11ea_9e40_705a0f1a5828row86_col1\" class=\"data row86 col1\" >75</td>\n",
       "                        <td id=\"T_e9da4e26_6e93_11ea_9e40_705a0f1a5828row86_col2\" class=\"data row86 col2\" >4</td>\n",
       "                        <td id=\"T_e9da4e26_6e93_11ea_9e40_705a0f1a5828row86_col3\" class=\"data row86 col3\" >5</td>\n",
       "                        <td id=\"T_e9da4e26_6e93_11ea_9e40_705a0f1a5828row86_col4\" class=\"data row86 col4\" >66</td>\n",
       "            </tr>\n",
       "            <tr>\n",
       "                        <th id=\"T_e9da4e26_6e93_11ea_9e40_705a0f1a5828level0_row87\" class=\"row_heading level0 row87\" >87</th>\n",
       "                        <td id=\"T_e9da4e26_6e93_11ea_9e40_705a0f1a5828row87_col0\" class=\"data row87 col0\" >Tunisia</td>\n",
       "                        <td id=\"T_e9da4e26_6e93_11ea_9e40_705a0f1a5828row87_col1\" class=\"data row87 col1\" >75</td>\n",
       "                        <td id=\"T_e9da4e26_6e93_11ea_9e40_705a0f1a5828row87_col2\" class=\"data row87 col2\" >3</td>\n",
       "                        <td id=\"T_e9da4e26_6e93_11ea_9e40_705a0f1a5828row87_col3\" class=\"data row87 col3\" >1</td>\n",
       "                        <td id=\"T_e9da4e26_6e93_11ea_9e40_705a0f1a5828row87_col4\" class=\"data row87 col4\" >71</td>\n",
       "            </tr>\n",
       "            <tr>\n",
       "                        <th id=\"T_e9da4e26_6e93_11ea_9e40_705a0f1a5828level0_row88\" class=\"row_heading level0 row88\" >88</th>\n",
       "                        <td id=\"T_e9da4e26_6e93_11ea_9e40_705a0f1a5828row88_col0\" class=\"data row88 col0\" >Ukraine</td>\n",
       "                        <td id=\"T_e9da4e26_6e93_11ea_9e40_705a0f1a5828row88_col1\" class=\"data row88 col1\" >73</td>\n",
       "                        <td id=\"T_e9da4e26_6e93_11ea_9e40_705a0f1a5828row88_col2\" class=\"data row88 col2\" >3</td>\n",
       "                        <td id=\"T_e9da4e26_6e93_11ea_9e40_705a0f1a5828row88_col3\" class=\"data row88 col3\" >1</td>\n",
       "                        <td id=\"T_e9da4e26_6e93_11ea_9e40_705a0f1a5828row88_col4\" class=\"data row88 col4\" >69</td>\n",
       "            </tr>\n",
       "            <tr>\n",
       "                        <th id=\"T_e9da4e26_6e93_11ea_9e40_705a0f1a5828level0_row89\" class=\"row_heading level0 row89\" >89</th>\n",
       "                        <td id=\"T_e9da4e26_6e93_11ea_9e40_705a0f1a5828row89_col0\" class=\"data row89 col0\" >Venezuela</td>\n",
       "                        <td id=\"T_e9da4e26_6e93_11ea_9e40_705a0f1a5828row89_col1\" class=\"data row89 col1\" >70</td>\n",
       "                        <td id=\"T_e9da4e26_6e93_11ea_9e40_705a0f1a5828row89_col2\" class=\"data row89 col2\" >0</td>\n",
       "                        <td id=\"T_e9da4e26_6e93_11ea_9e40_705a0f1a5828row89_col3\" class=\"data row89 col3\" >15</td>\n",
       "                        <td id=\"T_e9da4e26_6e93_11ea_9e40_705a0f1a5828row89_col4\" class=\"data row89 col4\" >55</td>\n",
       "            </tr>\n",
       "            <tr>\n",
       "                        <th id=\"T_e9da4e26_6e93_11ea_9e40_705a0f1a5828level0_row90\" class=\"row_heading level0 row90\" >90</th>\n",
       "                        <td id=\"T_e9da4e26_6e93_11ea_9e40_705a0f1a5828row90_col0\" class=\"data row90 col0\" >Senegal</td>\n",
       "                        <td id=\"T_e9da4e26_6e93_11ea_9e40_705a0f1a5828row90_col1\" class=\"data row90 col1\" >67</td>\n",
       "                        <td id=\"T_e9da4e26_6e93_11ea_9e40_705a0f1a5828row90_col2\" class=\"data row90 col2\" >0</td>\n",
       "                        <td id=\"T_e9da4e26_6e93_11ea_9e40_705a0f1a5828row90_col3\" class=\"data row90 col3\" >5</td>\n",
       "                        <td id=\"T_e9da4e26_6e93_11ea_9e40_705a0f1a5828row90_col4\" class=\"data row90 col4\" >62</td>\n",
       "            </tr>\n",
       "            <tr>\n",
       "                        <th id=\"T_e9da4e26_6e93_11ea_9e40_705a0f1a5828level0_row91\" class=\"row_heading level0 row91\" >91</th>\n",
       "                        <td id=\"T_e9da4e26_6e93_11ea_9e40_705a0f1a5828row91_col0\" class=\"data row91 col0\" >New Zealand</td>\n",
       "                        <td id=\"T_e9da4e26_6e93_11ea_9e40_705a0f1a5828row91_col1\" class=\"data row91 col1\" >66</td>\n",
       "                        <td id=\"T_e9da4e26_6e93_11ea_9e40_705a0f1a5828row91_col2\" class=\"data row91 col2\" >0</td>\n",
       "                        <td id=\"T_e9da4e26_6e93_11ea_9e40_705a0f1a5828row91_col3\" class=\"data row91 col3\" >0</td>\n",
       "                        <td id=\"T_e9da4e26_6e93_11ea_9e40_705a0f1a5828row91_col4\" class=\"data row91 col4\" >66</td>\n",
       "            </tr>\n",
       "            <tr>\n",
       "                        <th id=\"T_e9da4e26_6e93_11ea_9e40_705a0f1a5828level0_row92\" class=\"row_heading level0 row92\" >92</th>\n",
       "                        <td id=\"T_e9da4e26_6e93_11ea_9e40_705a0f1a5828row92_col0\" class=\"data row92 col0\" >Azerbaijan</td>\n",
       "                        <td id=\"T_e9da4e26_6e93_11ea_9e40_705a0f1a5828row92_col1\" class=\"data row92 col1\" >65</td>\n",
       "                        <td id=\"T_e9da4e26_6e93_11ea_9e40_705a0f1a5828row92_col2\" class=\"data row92 col2\" >1</td>\n",
       "                        <td id=\"T_e9da4e26_6e93_11ea_9e40_705a0f1a5828row92_col3\" class=\"data row92 col3\" >10</td>\n",
       "                        <td id=\"T_e9da4e26_6e93_11ea_9e40_705a0f1a5828row92_col4\" class=\"data row92 col4\" >54</td>\n",
       "            </tr>\n",
       "            <tr>\n",
       "                        <th id=\"T_e9da4e26_6e93_11ea_9e40_705a0f1a5828level0_row93\" class=\"row_heading level0 row93\" >93</th>\n",
       "                        <td id=\"T_e9da4e26_6e93_11ea_9e40_705a0f1a5828row93_col0\" class=\"data row93 col0\" >Kazakhstan</td>\n",
       "                        <td id=\"T_e9da4e26_6e93_11ea_9e40_705a0f1a5828row93_col1\" class=\"data row93 col1\" >60</td>\n",
       "                        <td id=\"T_e9da4e26_6e93_11ea_9e40_705a0f1a5828row93_col2\" class=\"data row93 col2\" >0</td>\n",
       "                        <td id=\"T_e9da4e26_6e93_11ea_9e40_705a0f1a5828row93_col3\" class=\"data row93 col3\" >0</td>\n",
       "                        <td id=\"T_e9da4e26_6e93_11ea_9e40_705a0f1a5828row93_col4\" class=\"data row93 col4\" >60</td>\n",
       "            </tr>\n",
       "            <tr>\n",
       "                        <th id=\"T_e9da4e26_6e93_11ea_9e40_705a0f1a5828level0_row94\" class=\"row_heading level0 row94\" >94</th>\n",
       "                        <td id=\"T_e9da4e26_6e93_11ea_9e40_705a0f1a5828row94_col0\" class=\"data row94 col0\" >Guadeloupe</td>\n",
       "                        <td id=\"T_e9da4e26_6e93_11ea_9e40_705a0f1a5828row94_col1\" class=\"data row94 col1\" >56</td>\n",
       "                        <td id=\"T_e9da4e26_6e93_11ea_9e40_705a0f1a5828row94_col2\" class=\"data row94 col2\" >0</td>\n",
       "                        <td id=\"T_e9da4e26_6e93_11ea_9e40_705a0f1a5828row94_col3\" class=\"data row94 col3\" >0</td>\n",
       "                        <td id=\"T_e9da4e26_6e93_11ea_9e40_705a0f1a5828row94_col4\" class=\"data row94 col4\" >56</td>\n",
       "            </tr>\n",
       "            <tr>\n",
       "                        <th id=\"T_e9da4e26_6e93_11ea_9e40_705a0f1a5828level0_row95\" class=\"row_heading level0 row95\" >95</th>\n",
       "                        <td id=\"T_e9da4e26_6e93_11ea_9e40_705a0f1a5828row95_col0\" class=\"data row95 col0\" >Oman</td>\n",
       "                        <td id=\"T_e9da4e26_6e93_11ea_9e40_705a0f1a5828row95_col1\" class=\"data row95 col1\" >55</td>\n",
       "                        <td id=\"T_e9da4e26_6e93_11ea_9e40_705a0f1a5828row95_col2\" class=\"data row95 col2\" >0</td>\n",
       "                        <td id=\"T_e9da4e26_6e93_11ea_9e40_705a0f1a5828row95_col3\" class=\"data row95 col3\" >17</td>\n",
       "                        <td id=\"T_e9da4e26_6e93_11ea_9e40_705a0f1a5828row95_col4\" class=\"data row95 col4\" >38</td>\n",
       "            </tr>\n",
       "            <tr>\n",
       "                        <th id=\"T_e9da4e26_6e93_11ea_9e40_705a0f1a5828level0_row96\" class=\"row_heading level0 row96\" >96</th>\n",
       "                        <td id=\"T_e9da4e26_6e93_11ea_9e40_705a0f1a5828row96_col0\" class=\"data row96 col0\" >Georgia</td>\n",
       "                        <td id=\"T_e9da4e26_6e93_11ea_9e40_705a0f1a5828row96_col1\" class=\"data row96 col1\" >54</td>\n",
       "                        <td id=\"T_e9da4e26_6e93_11ea_9e40_705a0f1a5828row96_col2\" class=\"data row96 col2\" >0</td>\n",
       "                        <td id=\"T_e9da4e26_6e93_11ea_9e40_705a0f1a5828row96_col3\" class=\"data row96 col3\" >3</td>\n",
       "                        <td id=\"T_e9da4e26_6e93_11ea_9e40_705a0f1a5828row96_col4\" class=\"data row96 col4\" >51</td>\n",
       "            </tr>\n",
       "            <tr>\n",
       "                        <th id=\"T_e9da4e26_6e93_11ea_9e40_705a0f1a5828level0_row97\" class=\"row_heading level0 row97\" >97</th>\n",
       "                        <td id=\"T_e9da4e26_6e93_11ea_9e40_705a0f1a5828row97_col0\" class=\"data row97 col0\" >Trinidad and Tobago</td>\n",
       "                        <td id=\"T_e9da4e26_6e93_11ea_9e40_705a0f1a5828row97_col1\" class=\"data row97 col1\" >50</td>\n",
       "                        <td id=\"T_e9da4e26_6e93_11ea_9e40_705a0f1a5828row97_col2\" class=\"data row97 col2\" >0</td>\n",
       "                        <td id=\"T_e9da4e26_6e93_11ea_9e40_705a0f1a5828row97_col3\" class=\"data row97 col3\" >1</td>\n",
       "                        <td id=\"T_e9da4e26_6e93_11ea_9e40_705a0f1a5828row97_col4\" class=\"data row97 col4\" >49</td>\n",
       "            </tr>\n",
       "            <tr>\n",
       "                        <th id=\"T_e9da4e26_6e93_11ea_9e40_705a0f1a5828level0_row98\" class=\"row_heading level0 row98\" >98</th>\n",
       "                        <td id=\"T_e9da4e26_6e93_11ea_9e40_705a0f1a5828row98_col0\" class=\"data row98 col0\" >Reunion</td>\n",
       "                        <td id=\"T_e9da4e26_6e93_11ea_9e40_705a0f1a5828row98_col1\" class=\"data row98 col1\" >47</td>\n",
       "                        <td id=\"T_e9da4e26_6e93_11ea_9e40_705a0f1a5828row98_col2\" class=\"data row98 col2\" >0</td>\n",
       "                        <td id=\"T_e9da4e26_6e93_11ea_9e40_705a0f1a5828row98_col3\" class=\"data row98 col3\" >0</td>\n",
       "                        <td id=\"T_e9da4e26_6e93_11ea_9e40_705a0f1a5828row98_col4\" class=\"data row98 col4\" >47</td>\n",
       "            </tr>\n",
       "            <tr>\n",
       "                        <th id=\"T_e9da4e26_6e93_11ea_9e40_705a0f1a5828level0_row99\" class=\"row_heading level0 row99\" >99</th>\n",
       "                        <td id=\"T_e9da4e26_6e93_11ea_9e40_705a0f1a5828row99_col0\" class=\"data row99 col0\" >Uzbekistan</td>\n",
       "                        <td id=\"T_e9da4e26_6e93_11ea_9e40_705a0f1a5828row99_col1\" class=\"data row99 col1\" >43</td>\n",
       "                        <td id=\"T_e9da4e26_6e93_11ea_9e40_705a0f1a5828row99_col2\" class=\"data row99 col2\" >0</td>\n",
       "                        <td id=\"T_e9da4e26_6e93_11ea_9e40_705a0f1a5828row99_col3\" class=\"data row99 col3\" >0</td>\n",
       "                        <td id=\"T_e9da4e26_6e93_11ea_9e40_705a0f1a5828row99_col4\" class=\"data row99 col4\" >43</td>\n",
       "            </tr>\n",
       "            <tr>\n",
       "                        <th id=\"T_e9da4e26_6e93_11ea_9e40_705a0f1a5828level0_row100\" class=\"row_heading level0 row100\" >100</th>\n",
       "                        <td id=\"T_e9da4e26_6e93_11ea_9e40_705a0f1a5828row100_col0\" class=\"data row100 col0\" >Afghanistan</td>\n",
       "                        <td id=\"T_e9da4e26_6e93_11ea_9e40_705a0f1a5828row100_col1\" class=\"data row100 col1\" >40</td>\n",
       "                        <td id=\"T_e9da4e26_6e93_11ea_9e40_705a0f1a5828row100_col2\" class=\"data row100 col2\" >1</td>\n",
       "                        <td id=\"T_e9da4e26_6e93_11ea_9e40_705a0f1a5828row100_col3\" class=\"data row100 col3\" >1</td>\n",
       "                        <td id=\"T_e9da4e26_6e93_11ea_9e40_705a0f1a5828row100_col4\" class=\"data row100 col4\" >38</td>\n",
       "            </tr>\n",
       "            <tr>\n",
       "                        <th id=\"T_e9da4e26_6e93_11ea_9e40_705a0f1a5828level0_row101\" class=\"row_heading level0 row101\" >101</th>\n",
       "                        <td id=\"T_e9da4e26_6e93_11ea_9e40_705a0f1a5828row101_col0\" class=\"data row101 col0\" >Cameroon</td>\n",
       "                        <td id=\"T_e9da4e26_6e93_11ea_9e40_705a0f1a5828row101_col1\" class=\"data row101 col1\" >40</td>\n",
       "                        <td id=\"T_e9da4e26_6e93_11ea_9e40_705a0f1a5828row101_col2\" class=\"data row101 col2\" >0</td>\n",
       "                        <td id=\"T_e9da4e26_6e93_11ea_9e40_705a0f1a5828row101_col3\" class=\"data row101 col3\" >0</td>\n",
       "                        <td id=\"T_e9da4e26_6e93_11ea_9e40_705a0f1a5828row101_col4\" class=\"data row101 col4\" >40</td>\n",
       "            </tr>\n",
       "            <tr>\n",
       "                        <th id=\"T_e9da4e26_6e93_11ea_9e40_705a0f1a5828level0_row102\" class=\"row_heading level0 row102\" >102</th>\n",
       "                        <td id=\"T_e9da4e26_6e93_11ea_9e40_705a0f1a5828row102_col0\" class=\"data row102 col0\" >Liechtenstein</td>\n",
       "                        <td id=\"T_e9da4e26_6e93_11ea_9e40_705a0f1a5828row102_col1\" class=\"data row102 col1\" >37</td>\n",
       "                        <td id=\"T_e9da4e26_6e93_11ea_9e40_705a0f1a5828row102_col2\" class=\"data row102 col2\" >0</td>\n",
       "                        <td id=\"T_e9da4e26_6e93_11ea_9e40_705a0f1a5828row102_col3\" class=\"data row102 col3\" >0</td>\n",
       "                        <td id=\"T_e9da4e26_6e93_11ea_9e40_705a0f1a5828row102_col4\" class=\"data row102 col4\" >37</td>\n",
       "            </tr>\n",
       "            <tr>\n",
       "                        <th id=\"T_e9da4e26_6e93_11ea_9e40_705a0f1a5828level0_row103\" class=\"row_heading level0 row103\" >103</th>\n",
       "                        <td id=\"T_e9da4e26_6e93_11ea_9e40_705a0f1a5828row103_col0\" class=\"data row103 col0\" >Martinique</td>\n",
       "                        <td id=\"T_e9da4e26_6e93_11ea_9e40_705a0f1a5828row103_col1\" class=\"data row103 col1\" >37</td>\n",
       "                        <td id=\"T_e9da4e26_6e93_11ea_9e40_705a0f1a5828row103_col2\" class=\"data row103 col2\" >1</td>\n",
       "                        <td id=\"T_e9da4e26_6e93_11ea_9e40_705a0f1a5828row103_col3\" class=\"data row103 col3\" >0</td>\n",
       "                        <td id=\"T_e9da4e26_6e93_11ea_9e40_705a0f1a5828row103_col4\" class=\"data row103 col4\" >36</td>\n",
       "            </tr>\n",
       "            <tr>\n",
       "                        <th id=\"T_e9da4e26_6e93_11ea_9e40_705a0f1a5828level0_row104\" class=\"row_heading level0 row104\" >104</th>\n",
       "                        <td id=\"T_e9da4e26_6e93_11ea_9e40_705a0f1a5828row104_col0\" class=\"data row104 col0\" >Cuba</td>\n",
       "                        <td id=\"T_e9da4e26_6e93_11ea_9e40_705a0f1a5828row104_col1\" class=\"data row104 col1\" >35</td>\n",
       "                        <td id=\"T_e9da4e26_6e93_11ea_9e40_705a0f1a5828row104_col2\" class=\"data row104 col2\" >1</td>\n",
       "                        <td id=\"T_e9da4e26_6e93_11ea_9e40_705a0f1a5828row104_col3\" class=\"data row104 col3\" >0</td>\n",
       "                        <td id=\"T_e9da4e26_6e93_11ea_9e40_705a0f1a5828row104_col4\" class=\"data row104 col4\" >34</td>\n",
       "            </tr>\n",
       "            <tr>\n",
       "                        <th id=\"T_e9da4e26_6e93_11ea_9e40_705a0f1a5828level0_row105\" class=\"row_heading level0 row105\" >105</th>\n",
       "                        <td id=\"T_e9da4e26_6e93_11ea_9e40_705a0f1a5828row105_col0\" class=\"data row105 col0\" >Congo (Kinshasa)</td>\n",
       "                        <td id=\"T_e9da4e26_6e93_11ea_9e40_705a0f1a5828row105_col1\" class=\"data row105 col1\" >30</td>\n",
       "                        <td id=\"T_e9da4e26_6e93_11ea_9e40_705a0f1a5828row105_col2\" class=\"data row105 col2\" >1</td>\n",
       "                        <td id=\"T_e9da4e26_6e93_11ea_9e40_705a0f1a5828row105_col3\" class=\"data row105 col3\" >0</td>\n",
       "                        <td id=\"T_e9da4e26_6e93_11ea_9e40_705a0f1a5828row105_col4\" class=\"data row105 col4\" >29</td>\n",
       "            </tr>\n",
       "            <tr>\n",
       "                        <th id=\"T_e9da4e26_6e93_11ea_9e40_705a0f1a5828level0_row106\" class=\"row_heading level0 row106\" >106</th>\n",
       "                        <td id=\"T_e9da4e26_6e93_11ea_9e40_705a0f1a5828row106_col0\" class=\"data row106 col0\" >Nigeria</td>\n",
       "                        <td id=\"T_e9da4e26_6e93_11ea_9e40_705a0f1a5828row106_col1\" class=\"data row106 col1\" >30</td>\n",
       "                        <td id=\"T_e9da4e26_6e93_11ea_9e40_705a0f1a5828row106_col2\" class=\"data row106 col2\" >0</td>\n",
       "                        <td id=\"T_e9da4e26_6e93_11ea_9e40_705a0f1a5828row106_col3\" class=\"data row106 col3\" >2</td>\n",
       "                        <td id=\"T_e9da4e26_6e93_11ea_9e40_705a0f1a5828row106_col4\" class=\"data row106 col4\" >28</td>\n",
       "            </tr>\n",
       "            <tr>\n",
       "                        <th id=\"T_e9da4e26_6e93_11ea_9e40_705a0f1a5828level0_row107\" class=\"row_heading level0 row107\" >107</th>\n",
       "                        <td id=\"T_e9da4e26_6e93_11ea_9e40_705a0f1a5828row107_col0\" class=\"data row107 col0\" >Bangladesh</td>\n",
       "                        <td id=\"T_e9da4e26_6e93_11ea_9e40_705a0f1a5828row107_col1\" class=\"data row107 col1\" >27</td>\n",
       "                        <td id=\"T_e9da4e26_6e93_11ea_9e40_705a0f1a5828row107_col2\" class=\"data row107 col2\" >2</td>\n",
       "                        <td id=\"T_e9da4e26_6e93_11ea_9e40_705a0f1a5828row107_col3\" class=\"data row107 col3\" >3</td>\n",
       "                        <td id=\"T_e9da4e26_6e93_11ea_9e40_705a0f1a5828row107_col4\" class=\"data row107 col4\" >22</td>\n",
       "            </tr>\n",
       "            <tr>\n",
       "                        <th id=\"T_e9da4e26_6e93_11ea_9e40_705a0f1a5828level0_row108\" class=\"row_heading level0 row108\" >108</th>\n",
       "                        <td id=\"T_e9da4e26_6e93_11ea_9e40_705a0f1a5828row108_col0\" class=\"data row108 col0\" >Honduras</td>\n",
       "                        <td id=\"T_e9da4e26_6e93_11ea_9e40_705a0f1a5828row108_col1\" class=\"data row108 col1\" >26</td>\n",
       "                        <td id=\"T_e9da4e26_6e93_11ea_9e40_705a0f1a5828row108_col2\" class=\"data row108 col2\" >0</td>\n",
       "                        <td id=\"T_e9da4e26_6e93_11ea_9e40_705a0f1a5828row108_col3\" class=\"data row108 col3\" >0</td>\n",
       "                        <td id=\"T_e9da4e26_6e93_11ea_9e40_705a0f1a5828row108_col4\" class=\"data row108 col4\" >26</td>\n",
       "            </tr>\n",
       "            <tr>\n",
       "                        <th id=\"T_e9da4e26_6e93_11ea_9e40_705a0f1a5828level0_row109\" class=\"row_heading level0 row109\" >109</th>\n",
       "                        <td id=\"T_e9da4e26_6e93_11ea_9e40_705a0f1a5828row109_col0\" class=\"data row109 col0\" >Bolivia</td>\n",
       "                        <td id=\"T_e9da4e26_6e93_11ea_9e40_705a0f1a5828row109_col1\" class=\"data row109 col1\" >24</td>\n",
       "                        <td id=\"T_e9da4e26_6e93_11ea_9e40_705a0f1a5828row109_col2\" class=\"data row109 col2\" >0</td>\n",
       "                        <td id=\"T_e9da4e26_6e93_11ea_9e40_705a0f1a5828row109_col3\" class=\"data row109 col3\" >0</td>\n",
       "                        <td id=\"T_e9da4e26_6e93_11ea_9e40_705a0f1a5828row109_col4\" class=\"data row109 col4\" >24</td>\n",
       "            </tr>\n",
       "            <tr>\n",
       "                        <th id=\"T_e9da4e26_6e93_11ea_9e40_705a0f1a5828level0_row110\" class=\"row_heading level0 row110\" >110</th>\n",
       "                        <td id=\"T_e9da4e26_6e93_11ea_9e40_705a0f1a5828row110_col0\" class=\"data row110 col0\" >Ghana</td>\n",
       "                        <td id=\"T_e9da4e26_6e93_11ea_9e40_705a0f1a5828row110_col1\" class=\"data row110 col1\" >24</td>\n",
       "                        <td id=\"T_e9da4e26_6e93_11ea_9e40_705a0f1a5828row110_col2\" class=\"data row110 col2\" >1</td>\n",
       "                        <td id=\"T_e9da4e26_6e93_11ea_9e40_705a0f1a5828row110_col3\" class=\"data row110 col3\" >0</td>\n",
       "                        <td id=\"T_e9da4e26_6e93_11ea_9e40_705a0f1a5828row110_col4\" class=\"data row110 col4\" >23</td>\n",
       "            </tr>\n",
       "            <tr>\n",
       "                        <th id=\"T_e9da4e26_6e93_11ea_9e40_705a0f1a5828level0_row111\" class=\"row_heading level0 row111\" >111</th>\n",
       "                        <td id=\"T_e9da4e26_6e93_11ea_9e40_705a0f1a5828row111_col0\" class=\"data row111 col0\" >Monaco</td>\n",
       "                        <td id=\"T_e9da4e26_6e93_11ea_9e40_705a0f1a5828row111_col1\" class=\"data row111 col1\" >23</td>\n",
       "                        <td id=\"T_e9da4e26_6e93_11ea_9e40_705a0f1a5828row111_col2\" class=\"data row111 col2\" >0</td>\n",
       "                        <td id=\"T_e9da4e26_6e93_11ea_9e40_705a0f1a5828row111_col3\" class=\"data row111 col3\" >1</td>\n",
       "                        <td id=\"T_e9da4e26_6e93_11ea_9e40_705a0f1a5828row111_col4\" class=\"data row111 col4\" >22</td>\n",
       "            </tr>\n",
       "            <tr>\n",
       "                        <th id=\"T_e9da4e26_6e93_11ea_9e40_705a0f1a5828level0_row112\" class=\"row_heading level0 row112\" >112</th>\n",
       "                        <td id=\"T_e9da4e26_6e93_11ea_9e40_705a0f1a5828row112_col0\" class=\"data row112 col0\" >Paraguay</td>\n",
       "                        <td id=\"T_e9da4e26_6e93_11ea_9e40_705a0f1a5828row112_col1\" class=\"data row112 col1\" >22</td>\n",
       "                        <td id=\"T_e9da4e26_6e93_11ea_9e40_705a0f1a5828row112_col2\" class=\"data row112 col2\" >1</td>\n",
       "                        <td id=\"T_e9da4e26_6e93_11ea_9e40_705a0f1a5828row112_col3\" class=\"data row112 col3\" >0</td>\n",
       "                        <td id=\"T_e9da4e26_6e93_11ea_9e40_705a0f1a5828row112_col4\" class=\"data row112 col4\" >21</td>\n",
       "            </tr>\n",
       "            <tr>\n",
       "                        <th id=\"T_e9da4e26_6e93_11ea_9e40_705a0f1a5828level0_row113\" class=\"row_heading level0 row113\" >113</th>\n",
       "                        <td id=\"T_e9da4e26_6e93_11ea_9e40_705a0f1a5828row113_col0\" class=\"data row113 col0\" >Montenegro</td>\n",
       "                        <td id=\"T_e9da4e26_6e93_11ea_9e40_705a0f1a5828row113_col1\" class=\"data row113 col1\" >21</td>\n",
       "                        <td id=\"T_e9da4e26_6e93_11ea_9e40_705a0f1a5828row113_col2\" class=\"data row113 col2\" >0</td>\n",
       "                        <td id=\"T_e9da4e26_6e93_11ea_9e40_705a0f1a5828row113_col3\" class=\"data row113 col3\" >0</td>\n",
       "                        <td id=\"T_e9da4e26_6e93_11ea_9e40_705a0f1a5828row113_col4\" class=\"data row113 col4\" >21</td>\n",
       "            </tr>\n",
       "            <tr>\n",
       "                        <th id=\"T_e9da4e26_6e93_11ea_9e40_705a0f1a5828level0_row114\" class=\"row_heading level0 row114\" >114</th>\n",
       "                        <td id=\"T_e9da4e26_6e93_11ea_9e40_705a0f1a5828row114_col0\" class=\"data row114 col0\" >Guatemala</td>\n",
       "                        <td id=\"T_e9da4e26_6e93_11ea_9e40_705a0f1a5828row114_col1\" class=\"data row114 col1\" >19</td>\n",
       "                        <td id=\"T_e9da4e26_6e93_11ea_9e40_705a0f1a5828row114_col2\" class=\"data row114 col2\" >1</td>\n",
       "                        <td id=\"T_e9da4e26_6e93_11ea_9e40_705a0f1a5828row114_col3\" class=\"data row114 col3\" >0</td>\n",
       "                        <td id=\"T_e9da4e26_6e93_11ea_9e40_705a0f1a5828row114_col4\" class=\"data row114 col4\" >18</td>\n",
       "            </tr>\n",
       "            <tr>\n",
       "                        <th id=\"T_e9da4e26_6e93_11ea_9e40_705a0f1a5828level0_row115\" class=\"row_heading level0 row115\" >115</th>\n",
       "                        <td id=\"T_e9da4e26_6e93_11ea_9e40_705a0f1a5828row115_col0\" class=\"data row115 col0\" >Rwanda</td>\n",
       "                        <td id=\"T_e9da4e26_6e93_11ea_9e40_705a0f1a5828row115_col1\" class=\"data row115 col1\" >19</td>\n",
       "                        <td id=\"T_e9da4e26_6e93_11ea_9e40_705a0f1a5828row115_col2\" class=\"data row115 col2\" >0</td>\n",
       "                        <td id=\"T_e9da4e26_6e93_11ea_9e40_705a0f1a5828row115_col3\" class=\"data row115 col3\" >0</td>\n",
       "                        <td id=\"T_e9da4e26_6e93_11ea_9e40_705a0f1a5828row115_col4\" class=\"data row115 col4\" >19</td>\n",
       "            </tr>\n",
       "            <tr>\n",
       "                        <th id=\"T_e9da4e26_6e93_11ea_9e40_705a0f1a5828level0_row116\" class=\"row_heading level0 row116\" >116</th>\n",
       "                        <td id=\"T_e9da4e26_6e93_11ea_9e40_705a0f1a5828row116_col0\" class=\"data row116 col0\" >Mauritius</td>\n",
       "                        <td id=\"T_e9da4e26_6e93_11ea_9e40_705a0f1a5828row116_col1\" class=\"data row116 col1\" >18</td>\n",
       "                        <td id=\"T_e9da4e26_6e93_11ea_9e40_705a0f1a5828row116_col2\" class=\"data row116 col2\" >1</td>\n",
       "                        <td id=\"T_e9da4e26_6e93_11ea_9e40_705a0f1a5828row116_col3\" class=\"data row116 col3\" >0</td>\n",
       "                        <td id=\"T_e9da4e26_6e93_11ea_9e40_705a0f1a5828row116_col4\" class=\"data row116 col4\" >17</td>\n",
       "            </tr>\n",
       "            <tr>\n",
       "                        <th id=\"T_e9da4e26_6e93_11ea_9e40_705a0f1a5828level0_row117\" class=\"row_heading level0 row117\" >117</th>\n",
       "                        <td id=\"T_e9da4e26_6e93_11ea_9e40_705a0f1a5828row117_col0\" class=\"data row117 col0\" >French Guiana</td>\n",
       "                        <td id=\"T_e9da4e26_6e93_11ea_9e40_705a0f1a5828row117_col1\" class=\"data row117 col1\" >18</td>\n",
       "                        <td id=\"T_e9da4e26_6e93_11ea_9e40_705a0f1a5828row117_col2\" class=\"data row117 col2\" >0</td>\n",
       "                        <td id=\"T_e9da4e26_6e93_11ea_9e40_705a0f1a5828row117_col3\" class=\"data row117 col3\" >6</td>\n",
       "                        <td id=\"T_e9da4e26_6e93_11ea_9e40_705a0f1a5828row117_col4\" class=\"data row117 col4\" >12</td>\n",
       "            </tr>\n",
       "            <tr>\n",
       "                        <th id=\"T_e9da4e26_6e93_11ea_9e40_705a0f1a5828level0_row118\" class=\"row_heading level0 row118\" >118</th>\n",
       "                        <td id=\"T_e9da4e26_6e93_11ea_9e40_705a0f1a5828row118_col0\" class=\"data row118 col0\" >Togo</td>\n",
       "                        <td id=\"T_e9da4e26_6e93_11ea_9e40_705a0f1a5828row118_col1\" class=\"data row118 col1\" >16</td>\n",
       "                        <td id=\"T_e9da4e26_6e93_11ea_9e40_705a0f1a5828row118_col2\" class=\"data row118 col2\" >0</td>\n",
       "                        <td id=\"T_e9da4e26_6e93_11ea_9e40_705a0f1a5828row118_col3\" class=\"data row118 col3\" >1</td>\n",
       "                        <td id=\"T_e9da4e26_6e93_11ea_9e40_705a0f1a5828row118_col4\" class=\"data row118 col4\" >15</td>\n",
       "            </tr>\n",
       "            <tr>\n",
       "                        <th id=\"T_e9da4e26_6e93_11ea_9e40_705a0f1a5828level0_row119\" class=\"row_heading level0 row119\" >119</th>\n",
       "                        <td id=\"T_e9da4e26_6e93_11ea_9e40_705a0f1a5828row119_col0\" class=\"data row119 col0\" >Jamaica</td>\n",
       "                        <td id=\"T_e9da4e26_6e93_11ea_9e40_705a0f1a5828row119_col1\" class=\"data row119 col1\" >16</td>\n",
       "                        <td id=\"T_e9da4e26_6e93_11ea_9e40_705a0f1a5828row119_col2\" class=\"data row119 col2\" >1</td>\n",
       "                        <td id=\"T_e9da4e26_6e93_11ea_9e40_705a0f1a5828row119_col3\" class=\"data row119 col3\" >2</td>\n",
       "                        <td id=\"T_e9da4e26_6e93_11ea_9e40_705a0f1a5828row119_col4\" class=\"data row119 col4\" >13</td>\n",
       "            </tr>\n",
       "            <tr>\n",
       "                        <th id=\"T_e9da4e26_6e93_11ea_9e40_705a0f1a5828level0_row120\" class=\"row_heading level0 row120\" >120</th>\n",
       "                        <td id=\"T_e9da4e26_6e93_11ea_9e40_705a0f1a5828row120_col0\" class=\"data row120 col0\" >Kenya</td>\n",
       "                        <td id=\"T_e9da4e26_6e93_11ea_9e40_705a0f1a5828row120_col1\" class=\"data row120 col1\" >15</td>\n",
       "                        <td id=\"T_e9da4e26_6e93_11ea_9e40_705a0f1a5828row120_col2\" class=\"data row120 col2\" >0</td>\n",
       "                        <td id=\"T_e9da4e26_6e93_11ea_9e40_705a0f1a5828row120_col3\" class=\"data row120 col3\" >0</td>\n",
       "                        <td id=\"T_e9da4e26_6e93_11ea_9e40_705a0f1a5828row120_col4\" class=\"data row120 col4\" >15</td>\n",
       "            </tr>\n",
       "            <tr>\n",
       "                        <th id=\"T_e9da4e26_6e93_11ea_9e40_705a0f1a5828level0_row121\" class=\"row_heading level0 row121\" >121</th>\n",
       "                        <td id=\"T_e9da4e26_6e93_11ea_9e40_705a0f1a5828row121_col0\" class=\"data row121 col0\" >Kyrgyzstan</td>\n",
       "                        <td id=\"T_e9da4e26_6e93_11ea_9e40_705a0f1a5828row121_col1\" class=\"data row121 col1\" >14</td>\n",
       "                        <td id=\"T_e9da4e26_6e93_11ea_9e40_705a0f1a5828row121_col2\" class=\"data row121 col2\" >0</td>\n",
       "                        <td id=\"T_e9da4e26_6e93_11ea_9e40_705a0f1a5828row121_col3\" class=\"data row121 col3\" >0</td>\n",
       "                        <td id=\"T_e9da4e26_6e93_11ea_9e40_705a0f1a5828row121_col4\" class=\"data row121 col4\" >14</td>\n",
       "            </tr>\n",
       "            <tr>\n",
       "                        <th id=\"T_e9da4e26_6e93_11ea_9e40_705a0f1a5828level0_row122\" class=\"row_heading level0 row122\" >122</th>\n",
       "                        <td id=\"T_e9da4e26_6e93_11ea_9e40_705a0f1a5828row122_col0\" class=\"data row122 col0\" >Barbados</td>\n",
       "                        <td id=\"T_e9da4e26_6e93_11ea_9e40_705a0f1a5828row122_col1\" class=\"data row122 col1\" >14</td>\n",
       "                        <td id=\"T_e9da4e26_6e93_11ea_9e40_705a0f1a5828row122_col2\" class=\"data row122 col2\" >0</td>\n",
       "                        <td id=\"T_e9da4e26_6e93_11ea_9e40_705a0f1a5828row122_col3\" class=\"data row122 col3\" >0</td>\n",
       "                        <td id=\"T_e9da4e26_6e93_11ea_9e40_705a0f1a5828row122_col4\" class=\"data row122 col4\" >14</td>\n",
       "            </tr>\n",
       "            <tr>\n",
       "                        <th id=\"T_e9da4e26_6e93_11ea_9e40_705a0f1a5828level0_row123\" class=\"row_heading level0 row123\" >123</th>\n",
       "                        <td id=\"T_e9da4e26_6e93_11ea_9e40_705a0f1a5828row123_col0\" class=\"data row123 col0\" >Cote d'Ivoire</td>\n",
       "                        <td id=\"T_e9da4e26_6e93_11ea_9e40_705a0f1a5828row123_col1\" class=\"data row123 col1\" >14</td>\n",
       "                        <td id=\"T_e9da4e26_6e93_11ea_9e40_705a0f1a5828row123_col2\" class=\"data row123 col2\" >0</td>\n",
       "                        <td id=\"T_e9da4e26_6e93_11ea_9e40_705a0f1a5828row123_col3\" class=\"data row123 col3\" >1</td>\n",
       "                        <td id=\"T_e9da4e26_6e93_11ea_9e40_705a0f1a5828row123_col4\" class=\"data row123 col4\" >13</td>\n",
       "            </tr>\n",
       "            <tr>\n",
       "                        <th id=\"T_e9da4e26_6e93_11ea_9e40_705a0f1a5828level0_row124\" class=\"row_heading level0 row124\" >124</th>\n",
       "                        <td id=\"T_e9da4e26_6e93_11ea_9e40_705a0f1a5828row124_col0\" class=\"data row124 col0\" >Maldives</td>\n",
       "                        <td id=\"T_e9da4e26_6e93_11ea_9e40_705a0f1a5828row124_col1\" class=\"data row124 col1\" >13</td>\n",
       "                        <td id=\"T_e9da4e26_6e93_11ea_9e40_705a0f1a5828row124_col2\" class=\"data row124 col2\" >0</td>\n",
       "                        <td id=\"T_e9da4e26_6e93_11ea_9e40_705a0f1a5828row124_col3\" class=\"data row124 col3\" >0</td>\n",
       "                        <td id=\"T_e9da4e26_6e93_11ea_9e40_705a0f1a5828row124_col4\" class=\"data row124 col4\" >13</td>\n",
       "            </tr>\n",
       "            <tr>\n",
       "                        <th id=\"T_e9da4e26_6e93_11ea_9e40_705a0f1a5828level0_row125\" class=\"row_heading level0 row125\" >125</th>\n",
       "                        <td id=\"T_e9da4e26_6e93_11ea_9e40_705a0f1a5828row125_col0\" class=\"data row125 col0\" >Tanzania</td>\n",
       "                        <td id=\"T_e9da4e26_6e93_11ea_9e40_705a0f1a5828row125_col1\" class=\"data row125 col1\" >12</td>\n",
       "                        <td id=\"T_e9da4e26_6e93_11ea_9e40_705a0f1a5828row125_col2\" class=\"data row125 col2\" >0</td>\n",
       "                        <td id=\"T_e9da4e26_6e93_11ea_9e40_705a0f1a5828row125_col3\" class=\"data row125 col3\" >0</td>\n",
       "                        <td id=\"T_e9da4e26_6e93_11ea_9e40_705a0f1a5828row125_col4\" class=\"data row125 col4\" >12</td>\n",
       "            </tr>\n",
       "            <tr>\n",
       "                        <th id=\"T_e9da4e26_6e93_11ea_9e40_705a0f1a5828level0_row126\" class=\"row_heading level0 row126\" >126</th>\n",
       "                        <td id=\"T_e9da4e26_6e93_11ea_9e40_705a0f1a5828row126_col0\" class=\"data row126 col0\" >Mayotte</td>\n",
       "                        <td id=\"T_e9da4e26_6e93_11ea_9e40_705a0f1a5828row126_col1\" class=\"data row126 col1\" >11</td>\n",
       "                        <td id=\"T_e9da4e26_6e93_11ea_9e40_705a0f1a5828row126_col2\" class=\"data row126 col2\" >0</td>\n",
       "                        <td id=\"T_e9da4e26_6e93_11ea_9e40_705a0f1a5828row126_col3\" class=\"data row126 col3\" >0</td>\n",
       "                        <td id=\"T_e9da4e26_6e93_11ea_9e40_705a0f1a5828row126_col4\" class=\"data row126 col4\" >11</td>\n",
       "            </tr>\n",
       "            <tr>\n",
       "                        <th id=\"T_e9da4e26_6e93_11ea_9e40_705a0f1a5828level0_row127\" class=\"row_heading level0 row127\" >127</th>\n",
       "                        <td id=\"T_e9da4e26_6e93_11ea_9e40_705a0f1a5828row127_col0\" class=\"data row127 col0\" >Ethiopia</td>\n",
       "                        <td id=\"T_e9da4e26_6e93_11ea_9e40_705a0f1a5828row127_col1\" class=\"data row127 col1\" >11</td>\n",
       "                        <td id=\"T_e9da4e26_6e93_11ea_9e40_705a0f1a5828row127_col2\" class=\"data row127 col2\" >0</td>\n",
       "                        <td id=\"T_e9da4e26_6e93_11ea_9e40_705a0f1a5828row127_col3\" class=\"data row127 col3\" >4</td>\n",
       "                        <td id=\"T_e9da4e26_6e93_11ea_9e40_705a0f1a5828row127_col4\" class=\"data row127 col4\" >7</td>\n",
       "            </tr>\n",
       "            <tr>\n",
       "                        <th id=\"T_e9da4e26_6e93_11ea_9e40_705a0f1a5828level0_row128\" class=\"row_heading level0 row128\" >128</th>\n",
       "                        <td id=\"T_e9da4e26_6e93_11ea_9e40_705a0f1a5828row128_col0\" class=\"data row128 col0\" >Mongolia</td>\n",
       "                        <td id=\"T_e9da4e26_6e93_11ea_9e40_705a0f1a5828row128_col1\" class=\"data row128 col1\" >10</td>\n",
       "                        <td id=\"T_e9da4e26_6e93_11ea_9e40_705a0f1a5828row128_col2\" class=\"data row128 col2\" >0</td>\n",
       "                        <td id=\"T_e9da4e26_6e93_11ea_9e40_705a0f1a5828row128_col3\" class=\"data row128 col3\" >0</td>\n",
       "                        <td id=\"T_e9da4e26_6e93_11ea_9e40_705a0f1a5828row128_col4\" class=\"data row128 col4\" >10</td>\n",
       "            </tr>\n",
       "            <tr>\n",
       "                        <th id=\"T_e9da4e26_6e93_11ea_9e40_705a0f1a5828level0_row129\" class=\"row_heading level0 row129\" >129</th>\n",
       "                        <td id=\"T_e9da4e26_6e93_11ea_9e40_705a0f1a5828row129_col0\" class=\"data row129 col0\" >Guyana</td>\n",
       "                        <td id=\"T_e9da4e26_6e93_11ea_9e40_705a0f1a5828row129_col1\" class=\"data row129 col1\" >7</td>\n",
       "                        <td id=\"T_e9da4e26_6e93_11ea_9e40_705a0f1a5828row129_col2\" class=\"data row129 col2\" >1</td>\n",
       "                        <td id=\"T_e9da4e26_6e93_11ea_9e40_705a0f1a5828row129_col3\" class=\"data row129 col3\" >0</td>\n",
       "                        <td id=\"T_e9da4e26_6e93_11ea_9e40_705a0f1a5828row129_col4\" class=\"data row129 col4\" >6</td>\n",
       "            </tr>\n",
       "            <tr>\n",
       "                        <th id=\"T_e9da4e26_6e93_11ea_9e40_705a0f1a5828level0_row130\" class=\"row_heading level0 row130\" >130</th>\n",
       "                        <td id=\"T_e9da4e26_6e93_11ea_9e40_705a0f1a5828row130_col0\" class=\"data row130 col0\" >Seychelles</td>\n",
       "                        <td id=\"T_e9da4e26_6e93_11ea_9e40_705a0f1a5828row130_col1\" class=\"data row130 col1\" >7</td>\n",
       "                        <td id=\"T_e9da4e26_6e93_11ea_9e40_705a0f1a5828row130_col2\" class=\"data row130 col2\" >0</td>\n",
       "                        <td id=\"T_e9da4e26_6e93_11ea_9e40_705a0f1a5828row130_col3\" class=\"data row130 col3\" >0</td>\n",
       "                        <td id=\"T_e9da4e26_6e93_11ea_9e40_705a0f1a5828row130_col4\" class=\"data row130 col4\" >7</td>\n",
       "            </tr>\n",
       "            <tr>\n",
       "                        <th id=\"T_e9da4e26_6e93_11ea_9e40_705a0f1a5828level0_row131\" class=\"row_heading level0 row131\" >131</th>\n",
       "                        <td id=\"T_e9da4e26_6e93_11ea_9e40_705a0f1a5828row131_col0\" class=\"data row131 col0\" >Equatorial Guinea</td>\n",
       "                        <td id=\"T_e9da4e26_6e93_11ea_9e40_705a0f1a5828row131_col1\" class=\"data row131 col1\" >6</td>\n",
       "                        <td id=\"T_e9da4e26_6e93_11ea_9e40_705a0f1a5828row131_col2\" class=\"data row131 col2\" >0</td>\n",
       "                        <td id=\"T_e9da4e26_6e93_11ea_9e40_705a0f1a5828row131_col3\" class=\"data row131 col3\" >0</td>\n",
       "                        <td id=\"T_e9da4e26_6e93_11ea_9e40_705a0f1a5828row131_col4\" class=\"data row131 col4\" >6</td>\n",
       "            </tr>\n",
       "            <tr>\n",
       "                        <th id=\"T_e9da4e26_6e93_11ea_9e40_705a0f1a5828level0_row132\" class=\"row_heading level0 row132\" >132</th>\n",
       "                        <td id=\"T_e9da4e26_6e93_11ea_9e40_705a0f1a5828row132_col0\" class=\"data row132 col0\" >Suriname</td>\n",
       "                        <td id=\"T_e9da4e26_6e93_11ea_9e40_705a0f1a5828row132_col1\" class=\"data row132 col1\" >5</td>\n",
       "                        <td id=\"T_e9da4e26_6e93_11ea_9e40_705a0f1a5828row132_col2\" class=\"data row132 col2\" >0</td>\n",
       "                        <td id=\"T_e9da4e26_6e93_11ea_9e40_705a0f1a5828row132_col3\" class=\"data row132 col3\" >0</td>\n",
       "                        <td id=\"T_e9da4e26_6e93_11ea_9e40_705a0f1a5828row132_col4\" class=\"data row132 col4\" >5</td>\n",
       "            </tr>\n",
       "            <tr>\n",
       "                        <th id=\"T_e9da4e26_6e93_11ea_9e40_705a0f1a5828level0_row133\" class=\"row_heading level0 row133\" >133</th>\n",
       "                        <td id=\"T_e9da4e26_6e93_11ea_9e40_705a0f1a5828row133_col0\" class=\"data row133 col0\" >Gabon</td>\n",
       "                        <td id=\"T_e9da4e26_6e93_11ea_9e40_705a0f1a5828row133_col1\" class=\"data row133 col1\" >5</td>\n",
       "                        <td id=\"T_e9da4e26_6e93_11ea_9e40_705a0f1a5828row133_col2\" class=\"data row133 col2\" >1</td>\n",
       "                        <td id=\"T_e9da4e26_6e93_11ea_9e40_705a0f1a5828row133_col3\" class=\"data row133 col3\" >0</td>\n",
       "                        <td id=\"T_e9da4e26_6e93_11ea_9e40_705a0f1a5828row133_col4\" class=\"data row133 col4\" >4</td>\n",
       "            </tr>\n",
       "            <tr>\n",
       "                        <th id=\"T_e9da4e26_6e93_11ea_9e40_705a0f1a5828level0_row134\" class=\"row_heading level0 row134\" >134</th>\n",
       "                        <td id=\"T_e9da4e26_6e93_11ea_9e40_705a0f1a5828row134_col0\" class=\"data row134 col0\" >Eswatini</td>\n",
       "                        <td id=\"T_e9da4e26_6e93_11ea_9e40_705a0f1a5828row134_col1\" class=\"data row134 col1\" >4</td>\n",
       "                        <td id=\"T_e9da4e26_6e93_11ea_9e40_705a0f1a5828row134_col2\" class=\"data row134 col2\" >0</td>\n",
       "                        <td id=\"T_e9da4e26_6e93_11ea_9e40_705a0f1a5828row134_col3\" class=\"data row134 col3\" >0</td>\n",
       "                        <td id=\"T_e9da4e26_6e93_11ea_9e40_705a0f1a5828row134_col4\" class=\"data row134 col4\" >4</td>\n",
       "            </tr>\n",
       "            <tr>\n",
       "                        <th id=\"T_e9da4e26_6e93_11ea_9e40_705a0f1a5828level0_row135\" class=\"row_heading level0 row135\" >135</th>\n",
       "                        <td id=\"T_e9da4e26_6e93_11ea_9e40_705a0f1a5828row135_col0\" class=\"data row135 col0\" >Bahamas, The</td>\n",
       "                        <td id=\"T_e9da4e26_6e93_11ea_9e40_705a0f1a5828row135_col1\" class=\"data row135 col1\" >4</td>\n",
       "                        <td id=\"T_e9da4e26_6e93_11ea_9e40_705a0f1a5828row135_col2\" class=\"data row135 col2\" >0</td>\n",
       "                        <td id=\"T_e9da4e26_6e93_11ea_9e40_705a0f1a5828row135_col3\" class=\"data row135 col3\" >0</td>\n",
       "                        <td id=\"T_e9da4e26_6e93_11ea_9e40_705a0f1a5828row135_col4\" class=\"data row135 col4\" >4</td>\n",
       "            </tr>\n",
       "            <tr>\n",
       "                        <th id=\"T_e9da4e26_6e93_11ea_9e40_705a0f1a5828level0_row136\" class=\"row_heading level0 row136\" >136</th>\n",
       "                        <td id=\"T_e9da4e26_6e93_11ea_9e40_705a0f1a5828row136_col0\" class=\"data row136 col0\" >Congo (Brazzaville)</td>\n",
       "                        <td id=\"T_e9da4e26_6e93_11ea_9e40_705a0f1a5828row136_col1\" class=\"data row136 col1\" >3</td>\n",
       "                        <td id=\"T_e9da4e26_6e93_11ea_9e40_705a0f1a5828row136_col2\" class=\"data row136 col2\" >0</td>\n",
       "                        <td id=\"T_e9da4e26_6e93_11ea_9e40_705a0f1a5828row136_col3\" class=\"data row136 col3\" >0</td>\n",
       "                        <td id=\"T_e9da4e26_6e93_11ea_9e40_705a0f1a5828row136_col4\" class=\"data row136 col4\" >3</td>\n",
       "            </tr>\n",
       "            <tr>\n",
       "                        <th id=\"T_e9da4e26_6e93_11ea_9e40_705a0f1a5828level0_row137\" class=\"row_heading level0 row137\" >137</th>\n",
       "                        <td id=\"T_e9da4e26_6e93_11ea_9e40_705a0f1a5828row137_col0\" class=\"data row137 col0\" >Zambia</td>\n",
       "                        <td id=\"T_e9da4e26_6e93_11ea_9e40_705a0f1a5828row137_col1\" class=\"data row137 col1\" >3</td>\n",
       "                        <td id=\"T_e9da4e26_6e93_11ea_9e40_705a0f1a5828row137_col2\" class=\"data row137 col2\" >0</td>\n",
       "                        <td id=\"T_e9da4e26_6e93_11ea_9e40_705a0f1a5828row137_col3\" class=\"data row137 col3\" >0</td>\n",
       "                        <td id=\"T_e9da4e26_6e93_11ea_9e40_705a0f1a5828row137_col4\" class=\"data row137 col4\" >3</td>\n",
       "            </tr>\n",
       "            <tr>\n",
       "                        <th id=\"T_e9da4e26_6e93_11ea_9e40_705a0f1a5828level0_row138\" class=\"row_heading level0 row138\" >138</th>\n",
       "                        <td id=\"T_e9da4e26_6e93_11ea_9e40_705a0f1a5828row138_col0\" class=\"data row138 col0\" >Madagascar</td>\n",
       "                        <td id=\"T_e9da4e26_6e93_11ea_9e40_705a0f1a5828row138_col1\" class=\"data row138 col1\" >3</td>\n",
       "                        <td id=\"T_e9da4e26_6e93_11ea_9e40_705a0f1a5828row138_col2\" class=\"data row138 col2\" >0</td>\n",
       "                        <td id=\"T_e9da4e26_6e93_11ea_9e40_705a0f1a5828row138_col3\" class=\"data row138 col3\" >0</td>\n",
       "                        <td id=\"T_e9da4e26_6e93_11ea_9e40_705a0f1a5828row138_col4\" class=\"data row138 col4\" >3</td>\n",
       "            </tr>\n",
       "            <tr>\n",
       "                        <th id=\"T_e9da4e26_6e93_11ea_9e40_705a0f1a5828level0_row139\" class=\"row_heading level0 row139\" >139</th>\n",
       "                        <td id=\"T_e9da4e26_6e93_11ea_9e40_705a0f1a5828row139_col0\" class=\"data row139 col0\" >Cabo Verde</td>\n",
       "                        <td id=\"T_e9da4e26_6e93_11ea_9e40_705a0f1a5828row139_col1\" class=\"data row139 col1\" >3</td>\n",
       "                        <td id=\"T_e9da4e26_6e93_11ea_9e40_705a0f1a5828row139_col2\" class=\"data row139 col2\" >0</td>\n",
       "                        <td id=\"T_e9da4e26_6e93_11ea_9e40_705a0f1a5828row139_col3\" class=\"data row139 col3\" >0</td>\n",
       "                        <td id=\"T_e9da4e26_6e93_11ea_9e40_705a0f1a5828row139_col4\" class=\"data row139 col4\" >3</td>\n",
       "            </tr>\n",
       "            <tr>\n",
       "                        <th id=\"T_e9da4e26_6e93_11ea_9e40_705a0f1a5828level0_row140\" class=\"row_heading level0 row140\" >140</th>\n",
       "                        <td id=\"T_e9da4e26_6e93_11ea_9e40_705a0f1a5828row140_col0\" class=\"data row140 col0\" >Central African Republic</td>\n",
       "                        <td id=\"T_e9da4e26_6e93_11ea_9e40_705a0f1a5828row140_col1\" class=\"data row140 col1\" >3</td>\n",
       "                        <td id=\"T_e9da4e26_6e93_11ea_9e40_705a0f1a5828row140_col2\" class=\"data row140 col2\" >0</td>\n",
       "                        <td id=\"T_e9da4e26_6e93_11ea_9e40_705a0f1a5828row140_col3\" class=\"data row140 col3\" >0</td>\n",
       "                        <td id=\"T_e9da4e26_6e93_11ea_9e40_705a0f1a5828row140_col4\" class=\"data row140 col4\" >3</td>\n",
       "            </tr>\n",
       "            <tr>\n",
       "                        <th id=\"T_e9da4e26_6e93_11ea_9e40_705a0f1a5828level0_row141\" class=\"row_heading level0 row141\" >141</th>\n",
       "                        <td id=\"T_e9da4e26_6e93_11ea_9e40_705a0f1a5828row141_col0\" class=\"data row141 col0\" >El Salvador</td>\n",
       "                        <td id=\"T_e9da4e26_6e93_11ea_9e40_705a0f1a5828row141_col1\" class=\"data row141 col1\" >3</td>\n",
       "                        <td id=\"T_e9da4e26_6e93_11ea_9e40_705a0f1a5828row141_col2\" class=\"data row141 col2\" >0</td>\n",
       "                        <td id=\"T_e9da4e26_6e93_11ea_9e40_705a0f1a5828row141_col3\" class=\"data row141 col3\" >0</td>\n",
       "                        <td id=\"T_e9da4e26_6e93_11ea_9e40_705a0f1a5828row141_col4\" class=\"data row141 col4\" >3</td>\n",
       "            </tr>\n",
       "            <tr>\n",
       "                        <th id=\"T_e9da4e26_6e93_11ea_9e40_705a0f1a5828level0_row142\" class=\"row_heading level0 row142\" >142</th>\n",
       "                        <td id=\"T_e9da4e26_6e93_11ea_9e40_705a0f1a5828row142_col0\" class=\"data row142 col0\" >Zimbabwe</td>\n",
       "                        <td id=\"T_e9da4e26_6e93_11ea_9e40_705a0f1a5828row142_col1\" class=\"data row142 col1\" >3</td>\n",
       "                        <td id=\"T_e9da4e26_6e93_11ea_9e40_705a0f1a5828row142_col2\" class=\"data row142 col2\" >0</td>\n",
       "                        <td id=\"T_e9da4e26_6e93_11ea_9e40_705a0f1a5828row142_col3\" class=\"data row142 col3\" >0</td>\n",
       "                        <td id=\"T_e9da4e26_6e93_11ea_9e40_705a0f1a5828row142_col4\" class=\"data row142 col4\" >3</td>\n",
       "            </tr>\n",
       "            <tr>\n",
       "                        <th id=\"T_e9da4e26_6e93_11ea_9e40_705a0f1a5828level0_row143\" class=\"row_heading level0 row143\" >143</th>\n",
       "                        <td id=\"T_e9da4e26_6e93_11ea_9e40_705a0f1a5828row143_col0\" class=\"data row143 col0\" >Liberia</td>\n",
       "                        <td id=\"T_e9da4e26_6e93_11ea_9e40_705a0f1a5828row143_col1\" class=\"data row143 col1\" >3</td>\n",
       "                        <td id=\"T_e9da4e26_6e93_11ea_9e40_705a0f1a5828row143_col2\" class=\"data row143 col2\" >0</td>\n",
       "                        <td id=\"T_e9da4e26_6e93_11ea_9e40_705a0f1a5828row143_col3\" class=\"data row143 col3\" >0</td>\n",
       "                        <td id=\"T_e9da4e26_6e93_11ea_9e40_705a0f1a5828row143_col4\" class=\"data row143 col4\" >3</td>\n",
       "            </tr>\n",
       "            <tr>\n",
       "                        <th id=\"T_e9da4e26_6e93_11ea_9e40_705a0f1a5828level0_row144\" class=\"row_heading level0 row144\" >144</th>\n",
       "                        <td id=\"T_e9da4e26_6e93_11ea_9e40_705a0f1a5828row144_col0\" class=\"data row144 col0\" >Namibia</td>\n",
       "                        <td id=\"T_e9da4e26_6e93_11ea_9e40_705a0f1a5828row144_col1\" class=\"data row144 col1\" >3</td>\n",
       "                        <td id=\"T_e9da4e26_6e93_11ea_9e40_705a0f1a5828row144_col2\" class=\"data row144 col2\" >0</td>\n",
       "                        <td id=\"T_e9da4e26_6e93_11ea_9e40_705a0f1a5828row144_col3\" class=\"data row144 col3\" >0</td>\n",
       "                        <td id=\"T_e9da4e26_6e93_11ea_9e40_705a0f1a5828row144_col4\" class=\"data row144 col4\" >3</td>\n",
       "            </tr>\n",
       "            <tr>\n",
       "                        <th id=\"T_e9da4e26_6e93_11ea_9e40_705a0f1a5828level0_row145\" class=\"row_heading level0 row145\" >145</th>\n",
       "                        <td id=\"T_e9da4e26_6e93_11ea_9e40_705a0f1a5828row145_col0\" class=\"data row145 col0\" >Saint Lucia</td>\n",
       "                        <td id=\"T_e9da4e26_6e93_11ea_9e40_705a0f1a5828row145_col1\" class=\"data row145 col1\" >2</td>\n",
       "                        <td id=\"T_e9da4e26_6e93_11ea_9e40_705a0f1a5828row145_col2\" class=\"data row145 col2\" >0</td>\n",
       "                        <td id=\"T_e9da4e26_6e93_11ea_9e40_705a0f1a5828row145_col3\" class=\"data row145 col3\" >0</td>\n",
       "                        <td id=\"T_e9da4e26_6e93_11ea_9e40_705a0f1a5828row145_col4\" class=\"data row145 col4\" >2</td>\n",
       "            </tr>\n",
       "            <tr>\n",
       "                        <th id=\"T_e9da4e26_6e93_11ea_9e40_705a0f1a5828level0_row146\" class=\"row_heading level0 row146\" >146</th>\n",
       "                        <td id=\"T_e9da4e26_6e93_11ea_9e40_705a0f1a5828row146_col0\" class=\"data row146 col0\" >Fiji</td>\n",
       "                        <td id=\"T_e9da4e26_6e93_11ea_9e40_705a0f1a5828row146_col1\" class=\"data row146 col1\" >2</td>\n",
       "                        <td id=\"T_e9da4e26_6e93_11ea_9e40_705a0f1a5828row146_col2\" class=\"data row146 col2\" >0</td>\n",
       "                        <td id=\"T_e9da4e26_6e93_11ea_9e40_705a0f1a5828row146_col3\" class=\"data row146 col3\" >0</td>\n",
       "                        <td id=\"T_e9da4e26_6e93_11ea_9e40_705a0f1a5828row146_col4\" class=\"data row146 col4\" >2</td>\n",
       "            </tr>\n",
       "            <tr>\n",
       "                        <th id=\"T_e9da4e26_6e93_11ea_9e40_705a0f1a5828level0_row147\" class=\"row_heading level0 row147\" >147</th>\n",
       "                        <td id=\"T_e9da4e26_6e93_11ea_9e40_705a0f1a5828row147_col0\" class=\"data row147 col0\" >Haiti</td>\n",
       "                        <td id=\"T_e9da4e26_6e93_11ea_9e40_705a0f1a5828row147_col1\" class=\"data row147 col1\" >2</td>\n",
       "                        <td id=\"T_e9da4e26_6e93_11ea_9e40_705a0f1a5828row147_col2\" class=\"data row147 col2\" >0</td>\n",
       "                        <td id=\"T_e9da4e26_6e93_11ea_9e40_705a0f1a5828row147_col3\" class=\"data row147 col3\" >0</td>\n",
       "                        <td id=\"T_e9da4e26_6e93_11ea_9e40_705a0f1a5828row147_col4\" class=\"data row147 col4\" >2</td>\n",
       "            </tr>\n",
       "            <tr>\n",
       "                        <th id=\"T_e9da4e26_6e93_11ea_9e40_705a0f1a5828level0_row148\" class=\"row_heading level0 row148\" >148</th>\n",
       "                        <td id=\"T_e9da4e26_6e93_11ea_9e40_705a0f1a5828row148_col0\" class=\"data row148 col0\" >Guinea</td>\n",
       "                        <td id=\"T_e9da4e26_6e93_11ea_9e40_705a0f1a5828row148_col1\" class=\"data row148 col1\" >2</td>\n",
       "                        <td id=\"T_e9da4e26_6e93_11ea_9e40_705a0f1a5828row148_col2\" class=\"data row148 col2\" >0</td>\n",
       "                        <td id=\"T_e9da4e26_6e93_11ea_9e40_705a0f1a5828row148_col3\" class=\"data row148 col3\" >0</td>\n",
       "                        <td id=\"T_e9da4e26_6e93_11ea_9e40_705a0f1a5828row148_col4\" class=\"data row148 col4\" >2</td>\n",
       "            </tr>\n",
       "            <tr>\n",
       "                        <th id=\"T_e9da4e26_6e93_11ea_9e40_705a0f1a5828level0_row149\" class=\"row_heading level0 row149\" >149</th>\n",
       "                        <td id=\"T_e9da4e26_6e93_11ea_9e40_705a0f1a5828row149_col0\" class=\"data row149 col0\" >Sudan</td>\n",
       "                        <td id=\"T_e9da4e26_6e93_11ea_9e40_705a0f1a5828row149_col1\" class=\"data row149 col1\" >2</td>\n",
       "                        <td id=\"T_e9da4e26_6e93_11ea_9e40_705a0f1a5828row149_col2\" class=\"data row149 col2\" >1</td>\n",
       "                        <td id=\"T_e9da4e26_6e93_11ea_9e40_705a0f1a5828row149_col3\" class=\"data row149 col3\" >0</td>\n",
       "                        <td id=\"T_e9da4e26_6e93_11ea_9e40_705a0f1a5828row149_col4\" class=\"data row149 col4\" >1</td>\n",
       "            </tr>\n",
       "            <tr>\n",
       "                        <th id=\"T_e9da4e26_6e93_11ea_9e40_705a0f1a5828level0_row150\" class=\"row_heading level0 row150\" >150</th>\n",
       "                        <td id=\"T_e9da4e26_6e93_11ea_9e40_705a0f1a5828row150_col0\" class=\"data row150 col0\" >Nicaragua</td>\n",
       "                        <td id=\"T_e9da4e26_6e93_11ea_9e40_705a0f1a5828row150_col1\" class=\"data row150 col1\" >2</td>\n",
       "                        <td id=\"T_e9da4e26_6e93_11ea_9e40_705a0f1a5828row150_col2\" class=\"data row150 col2\" >0</td>\n",
       "                        <td id=\"T_e9da4e26_6e93_11ea_9e40_705a0f1a5828row150_col3\" class=\"data row150 col3\" >0</td>\n",
       "                        <td id=\"T_e9da4e26_6e93_11ea_9e40_705a0f1a5828row150_col4\" class=\"data row150 col4\" >2</td>\n",
       "            </tr>\n",
       "            <tr>\n",
       "                        <th id=\"T_e9da4e26_6e93_11ea_9e40_705a0f1a5828level0_row151\" class=\"row_heading level0 row151\" >151</th>\n",
       "                        <td id=\"T_e9da4e26_6e93_11ea_9e40_705a0f1a5828row151_col0\" class=\"data row151 col0\" >Nepal</td>\n",
       "                        <td id=\"T_e9da4e26_6e93_11ea_9e40_705a0f1a5828row151_col1\" class=\"data row151 col1\" >2</td>\n",
       "                        <td id=\"T_e9da4e26_6e93_11ea_9e40_705a0f1a5828row151_col2\" class=\"data row151 col2\" >0</td>\n",
       "                        <td id=\"T_e9da4e26_6e93_11ea_9e40_705a0f1a5828row151_col3\" class=\"data row151 col3\" >1</td>\n",
       "                        <td id=\"T_e9da4e26_6e93_11ea_9e40_705a0f1a5828row151_col4\" class=\"data row151 col4\" >1</td>\n",
       "            </tr>\n",
       "            <tr>\n",
       "                        <th id=\"T_e9da4e26_6e93_11ea_9e40_705a0f1a5828level0_row152\" class=\"row_heading level0 row152\" >152</th>\n",
       "                        <td id=\"T_e9da4e26_6e93_11ea_9e40_705a0f1a5828row152_col0\" class=\"data row152 col0\" >Niger</td>\n",
       "                        <td id=\"T_e9da4e26_6e93_11ea_9e40_705a0f1a5828row152_col1\" class=\"data row152 col1\" >2</td>\n",
       "                        <td id=\"T_e9da4e26_6e93_11ea_9e40_705a0f1a5828row152_col2\" class=\"data row152 col2\" >0</td>\n",
       "                        <td id=\"T_e9da4e26_6e93_11ea_9e40_705a0f1a5828row152_col3\" class=\"data row152 col3\" >0</td>\n",
       "                        <td id=\"T_e9da4e26_6e93_11ea_9e40_705a0f1a5828row152_col4\" class=\"data row152 col4\" >2</td>\n",
       "            </tr>\n",
       "            <tr>\n",
       "                        <th id=\"T_e9da4e26_6e93_11ea_9e40_705a0f1a5828level0_row153\" class=\"row_heading level0 row153\" >153</th>\n",
       "                        <td id=\"T_e9da4e26_6e93_11ea_9e40_705a0f1a5828row153_col0\" class=\"data row153 col0\" >Bhutan</td>\n",
       "                        <td id=\"T_e9da4e26_6e93_11ea_9e40_705a0f1a5828row153_col1\" class=\"data row153 col1\" >2</td>\n",
       "                        <td id=\"T_e9da4e26_6e93_11ea_9e40_705a0f1a5828row153_col2\" class=\"data row153 col2\" >0</td>\n",
       "                        <td id=\"T_e9da4e26_6e93_11ea_9e40_705a0f1a5828row153_col3\" class=\"data row153 col3\" >0</td>\n",
       "                        <td id=\"T_e9da4e26_6e93_11ea_9e40_705a0f1a5828row153_col4\" class=\"data row153 col4\" >2</td>\n",
       "            </tr>\n",
       "            <tr>\n",
       "                        <th id=\"T_e9da4e26_6e93_11ea_9e40_705a0f1a5828level0_row154\" class=\"row_heading level0 row154\" >154</th>\n",
       "                        <td id=\"T_e9da4e26_6e93_11ea_9e40_705a0f1a5828row154_col0\" class=\"data row154 col0\" >Benin</td>\n",
       "                        <td id=\"T_e9da4e26_6e93_11ea_9e40_705a0f1a5828row154_col1\" class=\"data row154 col1\" >2</td>\n",
       "                        <td id=\"T_e9da4e26_6e93_11ea_9e40_705a0f1a5828row154_col2\" class=\"data row154 col2\" >0</td>\n",
       "                        <td id=\"T_e9da4e26_6e93_11ea_9e40_705a0f1a5828row154_col3\" class=\"data row154 col3\" >0</td>\n",
       "                        <td id=\"T_e9da4e26_6e93_11ea_9e40_705a0f1a5828row154_col4\" class=\"data row154 col4\" >2</td>\n",
       "            </tr>\n",
       "            <tr>\n",
       "                        <th id=\"T_e9da4e26_6e93_11ea_9e40_705a0f1a5828level0_row155\" class=\"row_heading level0 row155\" >155</th>\n",
       "                        <td id=\"T_e9da4e26_6e93_11ea_9e40_705a0f1a5828row155_col0\" class=\"data row155 col0\" >Kosovo</td>\n",
       "                        <td id=\"T_e9da4e26_6e93_11ea_9e40_705a0f1a5828row155_col1\" class=\"data row155 col1\" >2</td>\n",
       "                        <td id=\"T_e9da4e26_6e93_11ea_9e40_705a0f1a5828row155_col2\" class=\"data row155 col2\" >0</td>\n",
       "                        <td id=\"T_e9da4e26_6e93_11ea_9e40_705a0f1a5828row155_col3\" class=\"data row155 col3\" >0</td>\n",
       "                        <td id=\"T_e9da4e26_6e93_11ea_9e40_705a0f1a5828row155_col4\" class=\"data row155 col4\" >2</td>\n",
       "            </tr>\n",
       "            <tr>\n",
       "                        <th id=\"T_e9da4e26_6e93_11ea_9e40_705a0f1a5828level0_row156\" class=\"row_heading level0 row156\" >156</th>\n",
       "                        <td id=\"T_e9da4e26_6e93_11ea_9e40_705a0f1a5828row156_col0\" class=\"data row156 col0\" >Mauritania</td>\n",
       "                        <td id=\"T_e9da4e26_6e93_11ea_9e40_705a0f1a5828row156_col1\" class=\"data row156 col1\" >2</td>\n",
       "                        <td id=\"T_e9da4e26_6e93_11ea_9e40_705a0f1a5828row156_col2\" class=\"data row156 col2\" >0</td>\n",
       "                        <td id=\"T_e9da4e26_6e93_11ea_9e40_705a0f1a5828row156_col3\" class=\"data row156 col3\" >0</td>\n",
       "                        <td id=\"T_e9da4e26_6e93_11ea_9e40_705a0f1a5828row156_col4\" class=\"data row156 col4\" >2</td>\n",
       "            </tr>\n",
       "            <tr>\n",
       "                        <th id=\"T_e9da4e26_6e93_11ea_9e40_705a0f1a5828level0_row157\" class=\"row_heading level0 row157\" >157</th>\n",
       "                        <td id=\"T_e9da4e26_6e93_11ea_9e40_705a0f1a5828row157_col0\" class=\"data row157 col0\" >Angola</td>\n",
       "                        <td id=\"T_e9da4e26_6e93_11ea_9e40_705a0f1a5828row157_col1\" class=\"data row157 col1\" >2</td>\n",
       "                        <td id=\"T_e9da4e26_6e93_11ea_9e40_705a0f1a5828row157_col2\" class=\"data row157 col2\" >0</td>\n",
       "                        <td id=\"T_e9da4e26_6e93_11ea_9e40_705a0f1a5828row157_col3\" class=\"data row157 col3\" >0</td>\n",
       "                        <td id=\"T_e9da4e26_6e93_11ea_9e40_705a0f1a5828row157_col4\" class=\"data row157 col4\" >2</td>\n",
       "            </tr>\n",
       "            <tr>\n",
       "                        <th id=\"T_e9da4e26_6e93_11ea_9e40_705a0f1a5828level0_row158\" class=\"row_heading level0 row158\" >158</th>\n",
       "                        <td id=\"T_e9da4e26_6e93_11ea_9e40_705a0f1a5828row158_col0\" class=\"data row158 col0\" >Mozambique</td>\n",
       "                        <td id=\"T_e9da4e26_6e93_11ea_9e40_705a0f1a5828row158_col1\" class=\"data row158 col1\" >1</td>\n",
       "                        <td id=\"T_e9da4e26_6e93_11ea_9e40_705a0f1a5828row158_col2\" class=\"data row158 col2\" >0</td>\n",
       "                        <td id=\"T_e9da4e26_6e93_11ea_9e40_705a0f1a5828row158_col3\" class=\"data row158 col3\" >0</td>\n",
       "                        <td id=\"T_e9da4e26_6e93_11ea_9e40_705a0f1a5828row158_col4\" class=\"data row158 col4\" >1</td>\n",
       "            </tr>\n",
       "            <tr>\n",
       "                        <th id=\"T_e9da4e26_6e93_11ea_9e40_705a0f1a5828level0_row159\" class=\"row_heading level0 row159\" >159</th>\n",
       "                        <td id=\"T_e9da4e26_6e93_11ea_9e40_705a0f1a5828row159_col0\" class=\"data row159 col0\" >Timor-Leste</td>\n",
       "                        <td id=\"T_e9da4e26_6e93_11ea_9e40_705a0f1a5828row159_col1\" class=\"data row159 col1\" >1</td>\n",
       "                        <td id=\"T_e9da4e26_6e93_11ea_9e40_705a0f1a5828row159_col2\" class=\"data row159 col2\" >0</td>\n",
       "                        <td id=\"T_e9da4e26_6e93_11ea_9e40_705a0f1a5828row159_col3\" class=\"data row159 col3\" >0</td>\n",
       "                        <td id=\"T_e9da4e26_6e93_11ea_9e40_705a0f1a5828row159_col4\" class=\"data row159 col4\" >1</td>\n",
       "            </tr>\n",
       "            <tr>\n",
       "                        <th id=\"T_e9da4e26_6e93_11ea_9e40_705a0f1a5828level0_row160\" class=\"row_heading level0 row160\" >160</th>\n",
       "                        <td id=\"T_e9da4e26_6e93_11ea_9e40_705a0f1a5828row160_col0\" class=\"data row160 col0\" >Antigua and Barbuda</td>\n",
       "                        <td id=\"T_e9da4e26_6e93_11ea_9e40_705a0f1a5828row160_col1\" class=\"data row160 col1\" >1</td>\n",
       "                        <td id=\"T_e9da4e26_6e93_11ea_9e40_705a0f1a5828row160_col2\" class=\"data row160 col2\" >0</td>\n",
       "                        <td id=\"T_e9da4e26_6e93_11ea_9e40_705a0f1a5828row160_col3\" class=\"data row160 col3\" >0</td>\n",
       "                        <td id=\"T_e9da4e26_6e93_11ea_9e40_705a0f1a5828row160_col4\" class=\"data row160 col4\" >1</td>\n",
       "            </tr>\n",
       "            <tr>\n",
       "                        <th id=\"T_e9da4e26_6e93_11ea_9e40_705a0f1a5828level0_row161\" class=\"row_heading level0 row161\" >161</th>\n",
       "                        <td id=\"T_e9da4e26_6e93_11ea_9e40_705a0f1a5828row161_col0\" class=\"data row161 col0\" >Uganda</td>\n",
       "                        <td id=\"T_e9da4e26_6e93_11ea_9e40_705a0f1a5828row161_col1\" class=\"data row161 col1\" >1</td>\n",
       "                        <td id=\"T_e9da4e26_6e93_11ea_9e40_705a0f1a5828row161_col2\" class=\"data row161 col2\" >0</td>\n",
       "                        <td id=\"T_e9da4e26_6e93_11ea_9e40_705a0f1a5828row161_col3\" class=\"data row161 col3\" >0</td>\n",
       "                        <td id=\"T_e9da4e26_6e93_11ea_9e40_705a0f1a5828row161_col4\" class=\"data row161 col4\" >1</td>\n",
       "            </tr>\n",
       "            <tr>\n",
       "                        <th id=\"T_e9da4e26_6e93_11ea_9e40_705a0f1a5828level0_row162\" class=\"row_heading level0 row162\" >162</th>\n",
       "                        <td id=\"T_e9da4e26_6e93_11ea_9e40_705a0f1a5828row162_col0\" class=\"data row162 col0\" >Saint Vincent and the Grenadines</td>\n",
       "                        <td id=\"T_e9da4e26_6e93_11ea_9e40_705a0f1a5828row162_col1\" class=\"data row162 col1\" >1</td>\n",
       "                        <td id=\"T_e9da4e26_6e93_11ea_9e40_705a0f1a5828row162_col2\" class=\"data row162 col2\" >0</td>\n",
       "                        <td id=\"T_e9da4e26_6e93_11ea_9e40_705a0f1a5828row162_col3\" class=\"data row162 col3\" >0</td>\n",
       "                        <td id=\"T_e9da4e26_6e93_11ea_9e40_705a0f1a5828row162_col4\" class=\"data row162 col4\" >1</td>\n",
       "            </tr>\n",
       "            <tr>\n",
       "                        <th id=\"T_e9da4e26_6e93_11ea_9e40_705a0f1a5828level0_row163\" class=\"row_heading level0 row163\" >163</th>\n",
       "                        <td id=\"T_e9da4e26_6e93_11ea_9e40_705a0f1a5828row163_col0\" class=\"data row163 col0\" >Chad</td>\n",
       "                        <td id=\"T_e9da4e26_6e93_11ea_9e40_705a0f1a5828row163_col1\" class=\"data row163 col1\" >1</td>\n",
       "                        <td id=\"T_e9da4e26_6e93_11ea_9e40_705a0f1a5828row163_col2\" class=\"data row163 col2\" >0</td>\n",
       "                        <td id=\"T_e9da4e26_6e93_11ea_9e40_705a0f1a5828row163_col3\" class=\"data row163 col3\" >0</td>\n",
       "                        <td id=\"T_e9da4e26_6e93_11ea_9e40_705a0f1a5828row163_col4\" class=\"data row163 col4\" >1</td>\n",
       "            </tr>\n",
       "            <tr>\n",
       "                        <th id=\"T_e9da4e26_6e93_11ea_9e40_705a0f1a5828level0_row164\" class=\"row_heading level0 row164\" >164</th>\n",
       "                        <td id=\"T_e9da4e26_6e93_11ea_9e40_705a0f1a5828row164_col0\" class=\"data row164 col0\" >Djibouti</td>\n",
       "                        <td id=\"T_e9da4e26_6e93_11ea_9e40_705a0f1a5828row164_col1\" class=\"data row164 col1\" >1</td>\n",
       "                        <td id=\"T_e9da4e26_6e93_11ea_9e40_705a0f1a5828row164_col2\" class=\"data row164 col2\" >0</td>\n",
       "                        <td id=\"T_e9da4e26_6e93_11ea_9e40_705a0f1a5828row164_col3\" class=\"data row164 col3\" >0</td>\n",
       "                        <td id=\"T_e9da4e26_6e93_11ea_9e40_705a0f1a5828row164_col4\" class=\"data row164 col4\" >1</td>\n",
       "            </tr>\n",
       "            <tr>\n",
       "                        <th id=\"T_e9da4e26_6e93_11ea_9e40_705a0f1a5828level0_row165\" class=\"row_heading level0 row165\" >165</th>\n",
       "                        <td id=\"T_e9da4e26_6e93_11ea_9e40_705a0f1a5828row165_col0\" class=\"data row165 col0\" >Gambia, The</td>\n",
       "                        <td id=\"T_e9da4e26_6e93_11ea_9e40_705a0f1a5828row165_col1\" class=\"data row165 col1\" >1</td>\n",
       "                        <td id=\"T_e9da4e26_6e93_11ea_9e40_705a0f1a5828row165_col2\" class=\"data row165 col2\" >0</td>\n",
       "                        <td id=\"T_e9da4e26_6e93_11ea_9e40_705a0f1a5828row165_col3\" class=\"data row165 col3\" >0</td>\n",
       "                        <td id=\"T_e9da4e26_6e93_11ea_9e40_705a0f1a5828row165_col4\" class=\"data row165 col4\" >1</td>\n",
       "            </tr>\n",
       "            <tr>\n",
       "                        <th id=\"T_e9da4e26_6e93_11ea_9e40_705a0f1a5828level0_row166\" class=\"row_heading level0 row166\" >166</th>\n",
       "                        <td id=\"T_e9da4e26_6e93_11ea_9e40_705a0f1a5828row166_col0\" class=\"data row166 col0\" >Eritrea</td>\n",
       "                        <td id=\"T_e9da4e26_6e93_11ea_9e40_705a0f1a5828row166_col1\" class=\"data row166 col1\" >1</td>\n",
       "                        <td id=\"T_e9da4e26_6e93_11ea_9e40_705a0f1a5828row166_col2\" class=\"data row166 col2\" >0</td>\n",
       "                        <td id=\"T_e9da4e26_6e93_11ea_9e40_705a0f1a5828row166_col3\" class=\"data row166 col3\" >0</td>\n",
       "                        <td id=\"T_e9da4e26_6e93_11ea_9e40_705a0f1a5828row166_col4\" class=\"data row166 col4\" >1</td>\n",
       "            </tr>\n",
       "            <tr>\n",
       "                        <th id=\"T_e9da4e26_6e93_11ea_9e40_705a0f1a5828level0_row167\" class=\"row_heading level0 row167\" >167</th>\n",
       "                        <td id=\"T_e9da4e26_6e93_11ea_9e40_705a0f1a5828row167_col0\" class=\"data row167 col0\" >Grenada</td>\n",
       "                        <td id=\"T_e9da4e26_6e93_11ea_9e40_705a0f1a5828row167_col1\" class=\"data row167 col1\" >1</td>\n",
       "                        <td id=\"T_e9da4e26_6e93_11ea_9e40_705a0f1a5828row167_col2\" class=\"data row167 col2\" >0</td>\n",
       "                        <td id=\"T_e9da4e26_6e93_11ea_9e40_705a0f1a5828row167_col3\" class=\"data row167 col3\" >0</td>\n",
       "                        <td id=\"T_e9da4e26_6e93_11ea_9e40_705a0f1a5828row167_col4\" class=\"data row167 col4\" >1</td>\n",
       "            </tr>\n",
       "            <tr>\n",
       "                        <th id=\"T_e9da4e26_6e93_11ea_9e40_705a0f1a5828level0_row168\" class=\"row_heading level0 row168\" >168</th>\n",
       "                        <td id=\"T_e9da4e26_6e93_11ea_9e40_705a0f1a5828row168_col0\" class=\"data row168 col0\" >Syria</td>\n",
       "                        <td id=\"T_e9da4e26_6e93_11ea_9e40_705a0f1a5828row168_col1\" class=\"data row168 col1\" >1</td>\n",
       "                        <td id=\"T_e9da4e26_6e93_11ea_9e40_705a0f1a5828row168_col2\" class=\"data row168 col2\" >0</td>\n",
       "                        <td id=\"T_e9da4e26_6e93_11ea_9e40_705a0f1a5828row168_col3\" class=\"data row168 col3\" >0</td>\n",
       "                        <td id=\"T_e9da4e26_6e93_11ea_9e40_705a0f1a5828row168_col4\" class=\"data row168 col4\" >1</td>\n",
       "            </tr>\n",
       "            <tr>\n",
       "                        <th id=\"T_e9da4e26_6e93_11ea_9e40_705a0f1a5828level0_row169\" class=\"row_heading level0 row169\" >169</th>\n",
       "                        <td id=\"T_e9da4e26_6e93_11ea_9e40_705a0f1a5828row169_col0\" class=\"data row169 col0\" >Dominica</td>\n",
       "                        <td id=\"T_e9da4e26_6e93_11ea_9e40_705a0f1a5828row169_col1\" class=\"data row169 col1\" >1</td>\n",
       "                        <td id=\"T_e9da4e26_6e93_11ea_9e40_705a0f1a5828row169_col2\" class=\"data row169 col2\" >0</td>\n",
       "                        <td id=\"T_e9da4e26_6e93_11ea_9e40_705a0f1a5828row169_col3\" class=\"data row169 col3\" >0</td>\n",
       "                        <td id=\"T_e9da4e26_6e93_11ea_9e40_705a0f1a5828row169_col4\" class=\"data row169 col4\" >1</td>\n",
       "            </tr>\n",
       "            <tr>\n",
       "                        <th id=\"T_e9da4e26_6e93_11ea_9e40_705a0f1a5828level0_row170\" class=\"row_heading level0 row170\" >170</th>\n",
       "                        <td id=\"T_e9da4e26_6e93_11ea_9e40_705a0f1a5828row170_col0\" class=\"data row170 col0\" >Somalia</td>\n",
       "                        <td id=\"T_e9da4e26_6e93_11ea_9e40_705a0f1a5828row170_col1\" class=\"data row170 col1\" >1</td>\n",
       "                        <td id=\"T_e9da4e26_6e93_11ea_9e40_705a0f1a5828row170_col2\" class=\"data row170 col2\" >0</td>\n",
       "                        <td id=\"T_e9da4e26_6e93_11ea_9e40_705a0f1a5828row170_col3\" class=\"data row170 col3\" >0</td>\n",
       "                        <td id=\"T_e9da4e26_6e93_11ea_9e40_705a0f1a5828row170_col4\" class=\"data row170 col4\" >1</td>\n",
       "            </tr>\n",
       "            <tr>\n",
       "                        <th id=\"T_e9da4e26_6e93_11ea_9e40_705a0f1a5828level0_row171\" class=\"row_heading level0 row171\" >171</th>\n",
       "                        <td id=\"T_e9da4e26_6e93_11ea_9e40_705a0f1a5828row171_col0\" class=\"data row171 col0\" >Papua New Guinea</td>\n",
       "                        <td id=\"T_e9da4e26_6e93_11ea_9e40_705a0f1a5828row171_col1\" class=\"data row171 col1\" >1</td>\n",
       "                        <td id=\"T_e9da4e26_6e93_11ea_9e40_705a0f1a5828row171_col2\" class=\"data row171 col2\" >0</td>\n",
       "                        <td id=\"T_e9da4e26_6e93_11ea_9e40_705a0f1a5828row171_col3\" class=\"data row171 col3\" >0</td>\n",
       "                        <td id=\"T_e9da4e26_6e93_11ea_9e40_705a0f1a5828row171_col4\" class=\"data row171 col4\" >1</td>\n",
       "            </tr>\n",
       "            <tr>\n",
       "                        <th id=\"T_e9da4e26_6e93_11ea_9e40_705a0f1a5828level0_row172\" class=\"row_heading level0 row172\" >172</th>\n",
       "                        <td id=\"T_e9da4e26_6e93_11ea_9e40_705a0f1a5828row172_col0\" class=\"data row172 col0\" >Holy See</td>\n",
       "                        <td id=\"T_e9da4e26_6e93_11ea_9e40_705a0f1a5828row172_col1\" class=\"data row172 col1\" >1</td>\n",
       "                        <td id=\"T_e9da4e26_6e93_11ea_9e40_705a0f1a5828row172_col2\" class=\"data row172 col2\" >0</td>\n",
       "                        <td id=\"T_e9da4e26_6e93_11ea_9e40_705a0f1a5828row172_col3\" class=\"data row172 col3\" >0</td>\n",
       "                        <td id=\"T_e9da4e26_6e93_11ea_9e40_705a0f1a5828row172_col4\" class=\"data row172 col4\" >1</td>\n",
       "            </tr>\n",
       "            <tr>\n",
       "                        <th id=\"T_e9da4e26_6e93_11ea_9e40_705a0f1a5828level0_row173\" class=\"row_heading level0 row173\" >173</th>\n",
       "                        <td id=\"T_e9da4e26_6e93_11ea_9e40_705a0f1a5828row173_col0\" class=\"data row173 col0\" >Guam</td>\n",
       "                        <td id=\"T_e9da4e26_6e93_11ea_9e40_705a0f1a5828row173_col1\" class=\"data row173 col1\" >0</td>\n",
       "                        <td id=\"T_e9da4e26_6e93_11ea_9e40_705a0f1a5828row173_col2\" class=\"data row173 col2\" >1</td>\n",
       "                        <td id=\"T_e9da4e26_6e93_11ea_9e40_705a0f1a5828row173_col3\" class=\"data row173 col3\" >0</td>\n",
       "                        <td id=\"T_e9da4e26_6e93_11ea_9e40_705a0f1a5828row173_col4\" class=\"data row173 col4\" >-1</td>\n",
       "            </tr>\n",
       "            <tr>\n",
       "                        <th id=\"T_e9da4e26_6e93_11ea_9e40_705a0f1a5828level0_row174\" class=\"row_heading level0 row174\" >174</th>\n",
       "                        <td id=\"T_e9da4e26_6e93_11ea_9e40_705a0f1a5828row174_col0\" class=\"data row174 col0\" >Cape Verde</td>\n",
       "                        <td id=\"T_e9da4e26_6e93_11ea_9e40_705a0f1a5828row174_col1\" class=\"data row174 col1\" >0</td>\n",
       "                        <td id=\"T_e9da4e26_6e93_11ea_9e40_705a0f1a5828row174_col2\" class=\"data row174 col2\" >0</td>\n",
       "                        <td id=\"T_e9da4e26_6e93_11ea_9e40_705a0f1a5828row174_col3\" class=\"data row174 col3\" >0</td>\n",
       "                        <td id=\"T_e9da4e26_6e93_11ea_9e40_705a0f1a5828row174_col4\" class=\"data row174 col4\" >0</td>\n",
       "            </tr>\n",
       "            <tr>\n",
       "                        <th id=\"T_e9da4e26_6e93_11ea_9e40_705a0f1a5828level0_row175\" class=\"row_heading level0 row175\" >175</th>\n",
       "                        <td id=\"T_e9da4e26_6e93_11ea_9e40_705a0f1a5828row175_col0\" class=\"data row175 col0\" >East Timor</td>\n",
       "                        <td id=\"T_e9da4e26_6e93_11ea_9e40_705a0f1a5828row175_col1\" class=\"data row175 col1\" >0</td>\n",
       "                        <td id=\"T_e9da4e26_6e93_11ea_9e40_705a0f1a5828row175_col2\" class=\"data row175 col2\" >0</td>\n",
       "                        <td id=\"T_e9da4e26_6e93_11ea_9e40_705a0f1a5828row175_col3\" class=\"data row175 col3\" >0</td>\n",
       "                        <td id=\"T_e9da4e26_6e93_11ea_9e40_705a0f1a5828row175_col4\" class=\"data row175 col4\" >0</td>\n",
       "            </tr>\n",
       "            <tr>\n",
       "                        <th id=\"T_e9da4e26_6e93_11ea_9e40_705a0f1a5828level0_row176\" class=\"row_heading level0 row176\" >176</th>\n",
       "                        <td id=\"T_e9da4e26_6e93_11ea_9e40_705a0f1a5828row176_col0\" class=\"data row176 col0\" >Guernsey</td>\n",
       "                        <td id=\"T_e9da4e26_6e93_11ea_9e40_705a0f1a5828row176_col1\" class=\"data row176 col1\" >0</td>\n",
       "                        <td id=\"T_e9da4e26_6e93_11ea_9e40_705a0f1a5828row176_col2\" class=\"data row176 col2\" >0</td>\n",
       "                        <td id=\"T_e9da4e26_6e93_11ea_9e40_705a0f1a5828row176_col3\" class=\"data row176 col3\" >0</td>\n",
       "                        <td id=\"T_e9da4e26_6e93_11ea_9e40_705a0f1a5828row176_col4\" class=\"data row176 col4\" >0</td>\n",
       "            </tr>\n",
       "            <tr>\n",
       "                        <th id=\"T_e9da4e26_6e93_11ea_9e40_705a0f1a5828level0_row177\" class=\"row_heading level0 row177\" >177</th>\n",
       "                        <td id=\"T_e9da4e26_6e93_11ea_9e40_705a0f1a5828row177_col0\" class=\"data row177 col0\" >Jersey</td>\n",
       "                        <td id=\"T_e9da4e26_6e93_11ea_9e40_705a0f1a5828row177_col1\" class=\"data row177 col1\" >0</td>\n",
       "                        <td id=\"T_e9da4e26_6e93_11ea_9e40_705a0f1a5828row177_col2\" class=\"data row177 col2\" >0</td>\n",
       "                        <td id=\"T_e9da4e26_6e93_11ea_9e40_705a0f1a5828row177_col3\" class=\"data row177 col3\" >0</td>\n",
       "                        <td id=\"T_e9da4e26_6e93_11ea_9e40_705a0f1a5828row177_col4\" class=\"data row177 col4\" >0</td>\n",
       "            </tr>\n",
       "            <tr>\n",
       "                        <th id=\"T_e9da4e26_6e93_11ea_9e40_705a0f1a5828level0_row178\" class=\"row_heading level0 row178\" >178</th>\n",
       "                        <td id=\"T_e9da4e26_6e93_11ea_9e40_705a0f1a5828row178_col0\" class=\"data row178 col0\" >Greenland</td>\n",
       "                        <td id=\"T_e9da4e26_6e93_11ea_9e40_705a0f1a5828row178_col1\" class=\"data row178 col1\" >0</td>\n",
       "                        <td id=\"T_e9da4e26_6e93_11ea_9e40_705a0f1a5828row178_col2\" class=\"data row178 col2\" >0</td>\n",
       "                        <td id=\"T_e9da4e26_6e93_11ea_9e40_705a0f1a5828row178_col3\" class=\"data row178 col3\" >0</td>\n",
       "                        <td id=\"T_e9da4e26_6e93_11ea_9e40_705a0f1a5828row178_col4\" class=\"data row178 col4\" >0</td>\n",
       "            </tr>\n",
       "            <tr>\n",
       "                        <th id=\"T_e9da4e26_6e93_11ea_9e40_705a0f1a5828level0_row179\" class=\"row_heading level0 row179\" >179</th>\n",
       "                        <td id=\"T_e9da4e26_6e93_11ea_9e40_705a0f1a5828row179_col0\" class=\"data row179 col0\" >Puerto Rico</td>\n",
       "                        <td id=\"T_e9da4e26_6e93_11ea_9e40_705a0f1a5828row179_col1\" class=\"data row179 col1\" >0</td>\n",
       "                        <td id=\"T_e9da4e26_6e93_11ea_9e40_705a0f1a5828row179_col2\" class=\"data row179 col2\" >1</td>\n",
       "                        <td id=\"T_e9da4e26_6e93_11ea_9e40_705a0f1a5828row179_col3\" class=\"data row179 col3\" >0</td>\n",
       "                        <td id=\"T_e9da4e26_6e93_11ea_9e40_705a0f1a5828row179_col4\" class=\"data row179 col4\" >-1</td>\n",
       "            </tr>\n",
       "            <tr>\n",
       "                        <th id=\"T_e9da4e26_6e93_11ea_9e40_705a0f1a5828level0_row180\" class=\"row_heading level0 row180\" >180</th>\n",
       "                        <td id=\"T_e9da4e26_6e93_11ea_9e40_705a0f1a5828row180_col0\" class=\"data row180 col0\" >The Gambia</td>\n",
       "                        <td id=\"T_e9da4e26_6e93_11ea_9e40_705a0f1a5828row180_col1\" class=\"data row180 col1\" >0</td>\n",
       "                        <td id=\"T_e9da4e26_6e93_11ea_9e40_705a0f1a5828row180_col2\" class=\"data row180 col2\" >0</td>\n",
       "                        <td id=\"T_e9da4e26_6e93_11ea_9e40_705a0f1a5828row180_col3\" class=\"data row180 col3\" >0</td>\n",
       "                        <td id=\"T_e9da4e26_6e93_11ea_9e40_705a0f1a5828row180_col4\" class=\"data row180 col4\" >0</td>\n",
       "            </tr>\n",
       "            <tr>\n",
       "                        <th id=\"T_e9da4e26_6e93_11ea_9e40_705a0f1a5828level0_row181\" class=\"row_heading level0 row181\" >181</th>\n",
       "                        <td id=\"T_e9da4e26_6e93_11ea_9e40_705a0f1a5828row181_col0\" class=\"data row181 col0\" >Republic of the Congo</td>\n",
       "                        <td id=\"T_e9da4e26_6e93_11ea_9e40_705a0f1a5828row181_col1\" class=\"data row181 col1\" >0</td>\n",
       "                        <td id=\"T_e9da4e26_6e93_11ea_9e40_705a0f1a5828row181_col2\" class=\"data row181 col2\" >0</td>\n",
       "                        <td id=\"T_e9da4e26_6e93_11ea_9e40_705a0f1a5828row181_col3\" class=\"data row181 col3\" >0</td>\n",
       "                        <td id=\"T_e9da4e26_6e93_11ea_9e40_705a0f1a5828row181_col4\" class=\"data row181 col4\" >0</td>\n",
       "            </tr>\n",
       "            <tr>\n",
       "                        <th id=\"T_e9da4e26_6e93_11ea_9e40_705a0f1a5828level0_row182\" class=\"row_heading level0 row182\" >182</th>\n",
       "                        <td id=\"T_e9da4e26_6e93_11ea_9e40_705a0f1a5828row182_col0\" class=\"data row182 col0\" >The Bahamas</td>\n",
       "                        <td id=\"T_e9da4e26_6e93_11ea_9e40_705a0f1a5828row182_col1\" class=\"data row182 col1\" >0</td>\n",
       "                        <td id=\"T_e9da4e26_6e93_11ea_9e40_705a0f1a5828row182_col2\" class=\"data row182 col2\" >0</td>\n",
       "                        <td id=\"T_e9da4e26_6e93_11ea_9e40_705a0f1a5828row182_col3\" class=\"data row182 col3\" >0</td>\n",
       "                        <td id=\"T_e9da4e26_6e93_11ea_9e40_705a0f1a5828row182_col4\" class=\"data row182 col4\" >0</td>\n",
       "            </tr>\n",
       "    </tbody></table>"
      ],
      "text/plain": [
       "<pandas.io.formats.style.Styler at 0x2b175fb9348>"
      ]
     },
     "execution_count": 100,
     "metadata": {},
     "output_type": "execute_result"
    }
   ],
   "source": [
    "temp1 = full_latest_grouped.sort_values(by='Confirmed', ascending=False).reset_index(drop=True)\n",
    "temp1.style.background_gradient(cmap='Reds')"
   ]
  },
  {
   "cell_type": "markdown",
   "metadata": {},
   "source": [
    "### Maps"
   ]
  },
  {
   "cell_type": "code",
   "execution_count": 101,
   "metadata": {},
   "outputs": [
    {
     "data": {
      "application/vnd.plotly.v1+json": {
       "config": {
        "plotlyServerURL": "https://plot.ly"
       },
       "data": [
        {
         "coloraxis": "coloraxis",
         "geo": "geo",
         "hoverlabel": {
          "namelength": 0
         },
         "hovertemplate": "<b>%{hovertext}</b><br><br>Country/Region=%{location}<br>Confirmed=%{z}",
         "hovertext": [
          "Afghanistan",
          "Albania",
          "Algeria",
          "Andorra",
          "Angola",
          "Antigua and Barbuda",
          "Argentina",
          "Armenia",
          "Australia",
          "Austria",
          "Azerbaijan",
          "Bahamas, The",
          "Bahrain",
          "Bangladesh",
          "Barbados",
          "Belarus",
          "Belgium",
          "Benin",
          "Bhutan",
          "Bolivia",
          "Bosnia and Herzegovina",
          "Brazil",
          "Brunei",
          "Bulgaria",
          "Burkina Faso",
          "Cabo Verde",
          "Cambodia",
          "Cameroon",
          "Canada",
          "Cape Verde",
          "Central African Republic",
          "Chad",
          "Chile",
          "China",
          "Colombia",
          "Congo (Brazzaville)",
          "Congo (Kinshasa)",
          "Costa Rica",
          "Cote d'Ivoire",
          "Croatia",
          "Cruise Ship",
          "Cuba",
          "Cyprus",
          "Czechia",
          "Denmark",
          "Djibouti",
          "Dominica",
          "Dominican Republic",
          "East Timor",
          "Ecuador",
          "Egypt",
          "El Salvador",
          "Equatorial Guinea",
          "Eritrea",
          "Estonia",
          "Eswatini",
          "Ethiopia",
          "Fiji",
          "Finland",
          "France",
          "French Guiana",
          "Gabon",
          "Gambia, The",
          "Georgia",
          "Germany",
          "Ghana",
          "Greece",
          "Greenland",
          "Grenada",
          "Guadeloupe",
          "Guam",
          "Guatemala",
          "Guernsey",
          "Guinea",
          "Guyana",
          "Haiti",
          "Holy See",
          "Honduras",
          "Hungary",
          "Iceland",
          "India",
          "Indonesia",
          "Iran",
          "Iraq",
          "Ireland",
          "Israel",
          "Italy",
          "Jamaica",
          "Japan",
          "Jersey",
          "Jordan",
          "Kazakhstan",
          "Kenya",
          "Kosovo",
          "Kuwait",
          "Kyrgyzstan",
          "Latvia",
          "Lebanon",
          "Liberia",
          "Liechtenstein",
          "Lithuania",
          "Luxembourg",
          "Madagascar",
          "Malaysia",
          "Maldives",
          "Malta",
          "Martinique",
          "Mauritania",
          "Mauritius",
          "Mayotte",
          "Mexico",
          "Moldova",
          "Monaco",
          "Mongolia",
          "Montenegro",
          "Morocco",
          "Mozambique",
          "Namibia",
          "Nepal",
          "Netherlands",
          "New Zealand",
          "Nicaragua",
          "Niger",
          "Nigeria",
          "North Macedonia",
          "Norway",
          "Oman",
          "Pakistan",
          "Panama",
          "Papua New Guinea",
          "Paraguay",
          "Peru",
          "Philippines",
          "Poland",
          "Portugal",
          "Puerto Rico",
          "Qatar",
          "Republic of the Congo",
          "Reunion",
          "Romania",
          "Russia",
          "Rwanda",
          "Saint Lucia",
          "Saint Vincent and the Grenadines",
          "San Marino",
          "Saudi Arabia",
          "Senegal",
          "Serbia",
          "Seychelles",
          "Singapore",
          "Slovakia",
          "Slovenia",
          "Somalia",
          "South Africa",
          "South Korea",
          "Spain",
          "Sri Lanka",
          "Sudan",
          "Suriname",
          "Sweden",
          "Switzerland",
          "Syria",
          "Taiwan",
          "Tanzania",
          "Thailand",
          "The Bahamas",
          "The Gambia",
          "Timor-Leste",
          "Togo",
          "Trinidad and Tobago",
          "Tunisia",
          "Turkey",
          "US",
          "Uganda",
          "Ukraine",
          "United Arab Emirates",
          "United Kingdom",
          "Uruguay",
          "Uzbekistan",
          "Venezuela",
          "Vietnam",
          "Zambia",
          "Zimbabwe"
         ],
         "locationmode": "country names",
         "locations": [
          "Afghanistan",
          "Albania",
          "Algeria",
          "Andorra",
          "Angola",
          "Antigua and Barbuda",
          "Argentina",
          "Armenia",
          "Australia",
          "Austria",
          "Azerbaijan",
          "Bahamas, The",
          "Bahrain",
          "Bangladesh",
          "Barbados",
          "Belarus",
          "Belgium",
          "Benin",
          "Bhutan",
          "Bolivia",
          "Bosnia and Herzegovina",
          "Brazil",
          "Brunei",
          "Bulgaria",
          "Burkina Faso",
          "Cabo Verde",
          "Cambodia",
          "Cameroon",
          "Canada",
          "Cape Verde",
          "Central African Republic",
          "Chad",
          "Chile",
          "China",
          "Colombia",
          "Congo (Brazzaville)",
          "Congo (Kinshasa)",
          "Costa Rica",
          "Cote d'Ivoire",
          "Croatia",
          "Cruise Ship",
          "Cuba",
          "Cyprus",
          "Czechia",
          "Denmark",
          "Djibouti",
          "Dominica",
          "Dominican Republic",
          "East Timor",
          "Ecuador",
          "Egypt",
          "El Salvador",
          "Equatorial Guinea",
          "Eritrea",
          "Estonia",
          "Eswatini",
          "Ethiopia",
          "Fiji",
          "Finland",
          "France",
          "French Guiana",
          "Gabon",
          "Gambia, The",
          "Georgia",
          "Germany",
          "Ghana",
          "Greece",
          "Greenland",
          "Grenada",
          "Guadeloupe",
          "Guam",
          "Guatemala",
          "Guernsey",
          "Guinea",
          "Guyana",
          "Haiti",
          "Holy See",
          "Honduras",
          "Hungary",
          "Iceland",
          "India",
          "Indonesia",
          "Iran",
          "Iraq",
          "Ireland",
          "Israel",
          "Italy",
          "Jamaica",
          "Japan",
          "Jersey",
          "Jordan",
          "Kazakhstan",
          "Kenya",
          "Kosovo",
          "Kuwait",
          "Kyrgyzstan",
          "Latvia",
          "Lebanon",
          "Liberia",
          "Liechtenstein",
          "Lithuania",
          "Luxembourg",
          "Madagascar",
          "Malaysia",
          "Maldives",
          "Malta",
          "Martinique",
          "Mauritania",
          "Mauritius",
          "Mayotte",
          "Mexico",
          "Moldova",
          "Monaco",
          "Mongolia",
          "Montenegro",
          "Morocco",
          "Mozambique",
          "Namibia",
          "Nepal",
          "Netherlands",
          "New Zealand",
          "Nicaragua",
          "Niger",
          "Nigeria",
          "North Macedonia",
          "Norway",
          "Oman",
          "Pakistan",
          "Panama",
          "Papua New Guinea",
          "Paraguay",
          "Peru",
          "Philippines",
          "Poland",
          "Portugal",
          "Puerto Rico",
          "Qatar",
          "Republic of the Congo",
          "Reunion",
          "Romania",
          "Russia",
          "Rwanda",
          "Saint Lucia",
          "Saint Vincent and the Grenadines",
          "San Marino",
          "Saudi Arabia",
          "Senegal",
          "Serbia",
          "Seychelles",
          "Singapore",
          "Slovakia",
          "Slovenia",
          "Somalia",
          "South Africa",
          "South Korea",
          "Spain",
          "Sri Lanka",
          "Sudan",
          "Suriname",
          "Sweden",
          "Switzerland",
          "Syria",
          "Taiwan",
          "Tanzania",
          "Thailand",
          "The Bahamas",
          "The Gambia",
          "Timor-Leste",
          "Togo",
          "Trinidad and Tobago",
          "Tunisia",
          "Turkey",
          "US",
          "Uganda",
          "Ukraine",
          "United Arab Emirates",
          "United Kingdom",
          "Uruguay",
          "Uzbekistan",
          "Venezuela",
          "Vietnam",
          "Zambia",
          "Zimbabwe"
         ],
         "name": "",
         "type": "choropleth",
         "z": [
          40,
          89,
          201,
          113,
          2,
          1,
          225,
          194,
          1314,
          3244,
          65,
          4,
          332,
          27,
          14,
          76,
          3401,
          2,
          2,
          24,
          126,
          1593,
          88,
          187,
          75,
          3,
          84,
          40,
          1470,
          0,
          3,
          1,
          632,
          81439,
          231,
          3,
          30,
          134,
          14,
          254,
          712,
          35,
          95,
          1120,
          1514,
          1,
          1,
          202,
          0,
          789,
          327,
          3,
          6,
          1,
          326,
          4,
          11,
          2,
          626,
          16044,
          18,
          5,
          1,
          54,
          24873,
          24,
          624,
          0,
          1,
          56,
          0,
          19,
          0,
          2,
          7,
          2,
          1,
          26,
          131,
          568,
          396,
          514,
          21638,
          233,
          906,
          1071,
          59138,
          16,
          1086,
          0,
          112,
          60,
          15,
          2,
          188,
          14,
          139,
          248,
          3,
          37,
          131,
          798,
          3,
          1306,
          13,
          90,
          37,
          2,
          18,
          11,
          251,
          94,
          23,
          10,
          21,
          115,
          1,
          3,
          2,
          4216,
          66,
          2,
          2,
          30,
          114,
          2383,
          55,
          776,
          245,
          1,
          22,
          363,
          380,
          634,
          1600,
          0,
          494,
          0,
          47,
          433,
          367,
          19,
          2,
          1,
          160,
          511,
          67,
          222,
          7,
          455,
          185,
          414,
          1,
          274,
          8897,
          28768,
          82,
          2,
          5,
          1934,
          7245,
          1,
          169,
          12,
          599,
          0,
          0,
          1,
          16,
          50,
          75,
          1236,
          33276,
          1,
          73,
          153,
          5741,
          135,
          43,
          70,
          113,
          3,
          3
         ]
        }
       ],
       "layout": {
        "coloraxis": {
         "colorbar": {
          "title": {
           "text": "Confirmed"
          }
         },
         "colorscale": [
          [
           0,
           "rgb(253, 253, 204)"
          ],
          [
           0.09090909090909091,
           "rgb(206, 236, 179)"
          ],
          [
           0.18181818181818182,
           "rgb(156, 219, 165)"
          ],
          [
           0.2727272727272727,
           "rgb(111, 201, 163)"
          ],
          [
           0.36363636363636365,
           "rgb(86, 177, 163)"
          ],
          [
           0.45454545454545453,
           "rgb(76, 153, 160)"
          ],
          [
           0.5454545454545454,
           "rgb(68, 130, 155)"
          ],
          [
           0.6363636363636364,
           "rgb(62, 108, 150)"
          ],
          [
           0.7272727272727273,
           "rgb(62, 82, 143)"
          ],
          [
           0.8181818181818182,
           "rgb(64, 60, 115)"
          ],
          [
           0.9090909090909091,
           "rgb(54, 43, 77)"
          ],
          [
           1,
           "rgb(39, 26, 44)"
          ]
         ]
        },
        "geo": {
         "center": {},
         "domain": {
          "x": [
           0,
           1
          ],
          "y": [
           0,
           1
          ]
         }
        },
        "legend": {
         "tracegroupgap": 0
        },
        "margin": {
         "t": 60
        },
        "template": {
         "data": {
          "bar": [
           {
            "error_x": {
             "color": "#2a3f5f"
            },
            "error_y": {
             "color": "#2a3f5f"
            },
            "marker": {
             "line": {
              "color": "#E5ECF6",
              "width": 0.5
             }
            },
            "type": "bar"
           }
          ],
          "barpolar": [
           {
            "marker": {
             "line": {
              "color": "#E5ECF6",
              "width": 0.5
             }
            },
            "type": "barpolar"
           }
          ],
          "carpet": [
           {
            "aaxis": {
             "endlinecolor": "#2a3f5f",
             "gridcolor": "white",
             "linecolor": "white",
             "minorgridcolor": "white",
             "startlinecolor": "#2a3f5f"
            },
            "baxis": {
             "endlinecolor": "#2a3f5f",
             "gridcolor": "white",
             "linecolor": "white",
             "minorgridcolor": "white",
             "startlinecolor": "#2a3f5f"
            },
            "type": "carpet"
           }
          ],
          "choropleth": [
           {
            "colorbar": {
             "outlinewidth": 0,
             "ticks": ""
            },
            "type": "choropleth"
           }
          ],
          "contour": [
           {
            "colorbar": {
             "outlinewidth": 0,
             "ticks": ""
            },
            "colorscale": [
             [
              0,
              "#0d0887"
             ],
             [
              0.1111111111111111,
              "#46039f"
             ],
             [
              0.2222222222222222,
              "#7201a8"
             ],
             [
              0.3333333333333333,
              "#9c179e"
             ],
             [
              0.4444444444444444,
              "#bd3786"
             ],
             [
              0.5555555555555556,
              "#d8576b"
             ],
             [
              0.6666666666666666,
              "#ed7953"
             ],
             [
              0.7777777777777778,
              "#fb9f3a"
             ],
             [
              0.8888888888888888,
              "#fdca26"
             ],
             [
              1,
              "#f0f921"
             ]
            ],
            "type": "contour"
           }
          ],
          "contourcarpet": [
           {
            "colorbar": {
             "outlinewidth": 0,
             "ticks": ""
            },
            "type": "contourcarpet"
           }
          ],
          "heatmap": [
           {
            "colorbar": {
             "outlinewidth": 0,
             "ticks": ""
            },
            "colorscale": [
             [
              0,
              "#0d0887"
             ],
             [
              0.1111111111111111,
              "#46039f"
             ],
             [
              0.2222222222222222,
              "#7201a8"
             ],
             [
              0.3333333333333333,
              "#9c179e"
             ],
             [
              0.4444444444444444,
              "#bd3786"
             ],
             [
              0.5555555555555556,
              "#d8576b"
             ],
             [
              0.6666666666666666,
              "#ed7953"
             ],
             [
              0.7777777777777778,
              "#fb9f3a"
             ],
             [
              0.8888888888888888,
              "#fdca26"
             ],
             [
              1,
              "#f0f921"
             ]
            ],
            "type": "heatmap"
           }
          ],
          "heatmapgl": [
           {
            "colorbar": {
             "outlinewidth": 0,
             "ticks": ""
            },
            "colorscale": [
             [
              0,
              "#0d0887"
             ],
             [
              0.1111111111111111,
              "#46039f"
             ],
             [
              0.2222222222222222,
              "#7201a8"
             ],
             [
              0.3333333333333333,
              "#9c179e"
             ],
             [
              0.4444444444444444,
              "#bd3786"
             ],
             [
              0.5555555555555556,
              "#d8576b"
             ],
             [
              0.6666666666666666,
              "#ed7953"
             ],
             [
              0.7777777777777778,
              "#fb9f3a"
             ],
             [
              0.8888888888888888,
              "#fdca26"
             ],
             [
              1,
              "#f0f921"
             ]
            ],
            "type": "heatmapgl"
           }
          ],
          "histogram": [
           {
            "marker": {
             "colorbar": {
              "outlinewidth": 0,
              "ticks": ""
             }
            },
            "type": "histogram"
           }
          ],
          "histogram2d": [
           {
            "colorbar": {
             "outlinewidth": 0,
             "ticks": ""
            },
            "colorscale": [
             [
              0,
              "#0d0887"
             ],
             [
              0.1111111111111111,
              "#46039f"
             ],
             [
              0.2222222222222222,
              "#7201a8"
             ],
             [
              0.3333333333333333,
              "#9c179e"
             ],
             [
              0.4444444444444444,
              "#bd3786"
             ],
             [
              0.5555555555555556,
              "#d8576b"
             ],
             [
              0.6666666666666666,
              "#ed7953"
             ],
             [
              0.7777777777777778,
              "#fb9f3a"
             ],
             [
              0.8888888888888888,
              "#fdca26"
             ],
             [
              1,
              "#f0f921"
             ]
            ],
            "type": "histogram2d"
           }
          ],
          "histogram2dcontour": [
           {
            "colorbar": {
             "outlinewidth": 0,
             "ticks": ""
            },
            "colorscale": [
             [
              0,
              "#0d0887"
             ],
             [
              0.1111111111111111,
              "#46039f"
             ],
             [
              0.2222222222222222,
              "#7201a8"
             ],
             [
              0.3333333333333333,
              "#9c179e"
             ],
             [
              0.4444444444444444,
              "#bd3786"
             ],
             [
              0.5555555555555556,
              "#d8576b"
             ],
             [
              0.6666666666666666,
              "#ed7953"
             ],
             [
              0.7777777777777778,
              "#fb9f3a"
             ],
             [
              0.8888888888888888,
              "#fdca26"
             ],
             [
              1,
              "#f0f921"
             ]
            ],
            "type": "histogram2dcontour"
           }
          ],
          "mesh3d": [
           {
            "colorbar": {
             "outlinewidth": 0,
             "ticks": ""
            },
            "type": "mesh3d"
           }
          ],
          "parcoords": [
           {
            "line": {
             "colorbar": {
              "outlinewidth": 0,
              "ticks": ""
             }
            },
            "type": "parcoords"
           }
          ],
          "pie": [
           {
            "automargin": true,
            "type": "pie"
           }
          ],
          "scatter": [
           {
            "marker": {
             "colorbar": {
              "outlinewidth": 0,
              "ticks": ""
             }
            },
            "type": "scatter"
           }
          ],
          "scatter3d": [
           {
            "line": {
             "colorbar": {
              "outlinewidth": 0,
              "ticks": ""
             }
            },
            "marker": {
             "colorbar": {
              "outlinewidth": 0,
              "ticks": ""
             }
            },
            "type": "scatter3d"
           }
          ],
          "scattercarpet": [
           {
            "marker": {
             "colorbar": {
              "outlinewidth": 0,
              "ticks": ""
             }
            },
            "type": "scattercarpet"
           }
          ],
          "scattergeo": [
           {
            "marker": {
             "colorbar": {
              "outlinewidth": 0,
              "ticks": ""
             }
            },
            "type": "scattergeo"
           }
          ],
          "scattergl": [
           {
            "marker": {
             "colorbar": {
              "outlinewidth": 0,
              "ticks": ""
             }
            },
            "type": "scattergl"
           }
          ],
          "scattermapbox": [
           {
            "marker": {
             "colorbar": {
              "outlinewidth": 0,
              "ticks": ""
             }
            },
            "type": "scattermapbox"
           }
          ],
          "scatterpolar": [
           {
            "marker": {
             "colorbar": {
              "outlinewidth": 0,
              "ticks": ""
             }
            },
            "type": "scatterpolar"
           }
          ],
          "scatterpolargl": [
           {
            "marker": {
             "colorbar": {
              "outlinewidth": 0,
              "ticks": ""
             }
            },
            "type": "scatterpolargl"
           }
          ],
          "scatterternary": [
           {
            "marker": {
             "colorbar": {
              "outlinewidth": 0,
              "ticks": ""
             }
            },
            "type": "scatterternary"
           }
          ],
          "surface": [
           {
            "colorbar": {
             "outlinewidth": 0,
             "ticks": ""
            },
            "colorscale": [
             [
              0,
              "#0d0887"
             ],
             [
              0.1111111111111111,
              "#46039f"
             ],
             [
              0.2222222222222222,
              "#7201a8"
             ],
             [
              0.3333333333333333,
              "#9c179e"
             ],
             [
              0.4444444444444444,
              "#bd3786"
             ],
             [
              0.5555555555555556,
              "#d8576b"
             ],
             [
              0.6666666666666666,
              "#ed7953"
             ],
             [
              0.7777777777777778,
              "#fb9f3a"
             ],
             [
              0.8888888888888888,
              "#fdca26"
             ],
             [
              1,
              "#f0f921"
             ]
            ],
            "type": "surface"
           }
          ],
          "table": [
           {
            "cells": {
             "fill": {
              "color": "#EBF0F8"
             },
             "line": {
              "color": "white"
             }
            },
            "header": {
             "fill": {
              "color": "#C8D4E3"
             },
             "line": {
              "color": "white"
             }
            },
            "type": "table"
           }
          ]
         },
         "layout": {
          "annotationdefaults": {
           "arrowcolor": "#2a3f5f",
           "arrowhead": 0,
           "arrowwidth": 1
          },
          "coloraxis": {
           "colorbar": {
            "outlinewidth": 0,
            "ticks": ""
           }
          },
          "colorscale": {
           "diverging": [
            [
             0,
             "#8e0152"
            ],
            [
             0.1,
             "#c51b7d"
            ],
            [
             0.2,
             "#de77ae"
            ],
            [
             0.3,
             "#f1b6da"
            ],
            [
             0.4,
             "#fde0ef"
            ],
            [
             0.5,
             "#f7f7f7"
            ],
            [
             0.6,
             "#e6f5d0"
            ],
            [
             0.7,
             "#b8e186"
            ],
            [
             0.8,
             "#7fbc41"
            ],
            [
             0.9,
             "#4d9221"
            ],
            [
             1,
             "#276419"
            ]
           ],
           "sequential": [
            [
             0,
             "#0d0887"
            ],
            [
             0.1111111111111111,
             "#46039f"
            ],
            [
             0.2222222222222222,
             "#7201a8"
            ],
            [
             0.3333333333333333,
             "#9c179e"
            ],
            [
             0.4444444444444444,
             "#bd3786"
            ],
            [
             0.5555555555555556,
             "#d8576b"
            ],
            [
             0.6666666666666666,
             "#ed7953"
            ],
            [
             0.7777777777777778,
             "#fb9f3a"
            ],
            [
             0.8888888888888888,
             "#fdca26"
            ],
            [
             1,
             "#f0f921"
            ]
           ],
           "sequentialminus": [
            [
             0,
             "#0d0887"
            ],
            [
             0.1111111111111111,
             "#46039f"
            ],
            [
             0.2222222222222222,
             "#7201a8"
            ],
            [
             0.3333333333333333,
             "#9c179e"
            ],
            [
             0.4444444444444444,
             "#bd3786"
            ],
            [
             0.5555555555555556,
             "#d8576b"
            ],
            [
             0.6666666666666666,
             "#ed7953"
            ],
            [
             0.7777777777777778,
             "#fb9f3a"
            ],
            [
             0.8888888888888888,
             "#fdca26"
            ],
            [
             1,
             "#f0f921"
            ]
           ]
          },
          "colorway": [
           "#636efa",
           "#EF553B",
           "#00cc96",
           "#ab63fa",
           "#FFA15A",
           "#19d3f3",
           "#FF6692",
           "#B6E880",
           "#FF97FF",
           "#FECB52"
          ],
          "font": {
           "color": "#2a3f5f"
          },
          "geo": {
           "bgcolor": "white",
           "lakecolor": "white",
           "landcolor": "#E5ECF6",
           "showlakes": true,
           "showland": true,
           "subunitcolor": "white"
          },
          "hoverlabel": {
           "align": "left"
          },
          "hovermode": "closest",
          "mapbox": {
           "style": "light"
          },
          "paper_bgcolor": "white",
          "plot_bgcolor": "#E5ECF6",
          "polar": {
           "angularaxis": {
            "gridcolor": "white",
            "linecolor": "white",
            "ticks": ""
           },
           "bgcolor": "#E5ECF6",
           "radialaxis": {
            "gridcolor": "white",
            "linecolor": "white",
            "ticks": ""
           }
          },
          "scene": {
           "xaxis": {
            "backgroundcolor": "#E5ECF6",
            "gridcolor": "white",
            "gridwidth": 2,
            "linecolor": "white",
            "showbackground": true,
            "ticks": "",
            "zerolinecolor": "white"
           },
           "yaxis": {
            "backgroundcolor": "#E5ECF6",
            "gridcolor": "white",
            "gridwidth": 2,
            "linecolor": "white",
            "showbackground": true,
            "ticks": "",
            "zerolinecolor": "white"
           },
           "zaxis": {
            "backgroundcolor": "#E5ECF6",
            "gridcolor": "white",
            "gridwidth": 2,
            "linecolor": "white",
            "showbackground": true,
            "ticks": "",
            "zerolinecolor": "white"
           }
          },
          "shapedefaults": {
           "line": {
            "color": "#2a3f5f"
           }
          },
          "ternary": {
           "aaxis": {
            "gridcolor": "white",
            "linecolor": "white",
            "ticks": ""
           },
           "baxis": {
            "gridcolor": "white",
            "linecolor": "white",
            "ticks": ""
           },
           "bgcolor": "#E5ECF6",
           "caxis": {
            "gridcolor": "white",
            "linecolor": "white",
            "ticks": ""
           }
          },
          "title": {
           "x": 0.05
          },
          "xaxis": {
           "automargin": true,
           "gridcolor": "white",
           "linecolor": "white",
           "ticks": "",
           "title": {
            "standoff": 15
           },
           "zerolinecolor": "white",
           "zerolinewidth": 2
          },
          "yaxis": {
           "automargin": true,
           "gridcolor": "white",
           "linecolor": "white",
           "ticks": "",
           "title": {
            "standoff": 15
           },
           "zerolinecolor": "white",
           "zerolinewidth": 2
          }
         }
        },
        "title": {
         "text": "Confirmed Cases In The World"
        }
       }
      },
      "text/html": [
       "<div>\n",
       "        \n",
       "        \n",
       "            <div id=\"911538af-11c5-4dc2-9688-9d9bb855a737\" class=\"plotly-graph-div\" style=\"height:525px; width:100%;\"></div>\n",
       "            <script type=\"text/javascript\">\n",
       "                require([\"plotly\"], function(Plotly) {\n",
       "                    window.PLOTLYENV=window.PLOTLYENV || {};\n",
       "                    \n",
       "                if (document.getElementById(\"911538af-11c5-4dc2-9688-9d9bb855a737\")) {\n",
       "                    Plotly.newPlot(\n",
       "                        '911538af-11c5-4dc2-9688-9d9bb855a737',\n",
       "                        [{\"coloraxis\": \"coloraxis\", \"geo\": \"geo\", \"hoverlabel\": {\"namelength\": 0}, \"hovertemplate\": \"<b>%{hovertext}</b><br><br>Country/Region=%{location}<br>Confirmed=%{z}\", \"hovertext\": [\"Afghanistan\", \"Albania\", \"Algeria\", \"Andorra\", \"Angola\", \"Antigua and Barbuda\", \"Argentina\", \"Armenia\", \"Australia\", \"Austria\", \"Azerbaijan\", \"Bahamas, The\", \"Bahrain\", \"Bangladesh\", \"Barbados\", \"Belarus\", \"Belgium\", \"Benin\", \"Bhutan\", \"Bolivia\", \"Bosnia and Herzegovina\", \"Brazil\", \"Brunei\", \"Bulgaria\", \"Burkina Faso\", \"Cabo Verde\", \"Cambodia\", \"Cameroon\", \"Canada\", \"Cape Verde\", \"Central African Republic\", \"Chad\", \"Chile\", \"China\", \"Colombia\", \"Congo (Brazzaville)\", \"Congo (Kinshasa)\", \"Costa Rica\", \"Cote d'Ivoire\", \"Croatia\", \"Cruise Ship\", \"Cuba\", \"Cyprus\", \"Czechia\", \"Denmark\", \"Djibouti\", \"Dominica\", \"Dominican Republic\", \"East Timor\", \"Ecuador\", \"Egypt\", \"El Salvador\", \"Equatorial Guinea\", \"Eritrea\", \"Estonia\", \"Eswatini\", \"Ethiopia\", \"Fiji\", \"Finland\", \"France\", \"French Guiana\", \"Gabon\", \"Gambia, The\", \"Georgia\", \"Germany\", \"Ghana\", \"Greece\", \"Greenland\", \"Grenada\", \"Guadeloupe\", \"Guam\", \"Guatemala\", \"Guernsey\", \"Guinea\", \"Guyana\", \"Haiti\", \"Holy See\", \"Honduras\", \"Hungary\", \"Iceland\", \"India\", \"Indonesia\", \"Iran\", \"Iraq\", \"Ireland\", \"Israel\", \"Italy\", \"Jamaica\", \"Japan\", \"Jersey\", \"Jordan\", \"Kazakhstan\", \"Kenya\", \"Kosovo\", \"Kuwait\", \"Kyrgyzstan\", \"Latvia\", \"Lebanon\", \"Liberia\", \"Liechtenstein\", \"Lithuania\", \"Luxembourg\", \"Madagascar\", \"Malaysia\", \"Maldives\", \"Malta\", \"Martinique\", \"Mauritania\", \"Mauritius\", \"Mayotte\", \"Mexico\", \"Moldova\", \"Monaco\", \"Mongolia\", \"Montenegro\", \"Morocco\", \"Mozambique\", \"Namibia\", \"Nepal\", \"Netherlands\", \"New Zealand\", \"Nicaragua\", \"Niger\", \"Nigeria\", \"North Macedonia\", \"Norway\", \"Oman\", \"Pakistan\", \"Panama\", \"Papua New Guinea\", \"Paraguay\", \"Peru\", \"Philippines\", \"Poland\", \"Portugal\", \"Puerto Rico\", \"Qatar\", \"Republic of the Congo\", \"Reunion\", \"Romania\", \"Russia\", \"Rwanda\", \"Saint Lucia\", \"Saint Vincent and the Grenadines\", \"San Marino\", \"Saudi Arabia\", \"Senegal\", \"Serbia\", \"Seychelles\", \"Singapore\", \"Slovakia\", \"Slovenia\", \"Somalia\", \"South Africa\", \"South Korea\", \"Spain\", \"Sri Lanka\", \"Sudan\", \"Suriname\", \"Sweden\", \"Switzerland\", \"Syria\", \"Taiwan\", \"Tanzania\", \"Thailand\", \"The Bahamas\", \"The Gambia\", \"Timor-Leste\", \"Togo\", \"Trinidad and Tobago\", \"Tunisia\", \"Turkey\", \"US\", \"Uganda\", \"Ukraine\", \"United Arab Emirates\", \"United Kingdom\", \"Uruguay\", \"Uzbekistan\", \"Venezuela\", \"Vietnam\", \"Zambia\", \"Zimbabwe\"], \"locationmode\": \"country names\", \"locations\": [\"Afghanistan\", \"Albania\", \"Algeria\", \"Andorra\", \"Angola\", \"Antigua and Barbuda\", \"Argentina\", \"Armenia\", \"Australia\", \"Austria\", \"Azerbaijan\", \"Bahamas, The\", \"Bahrain\", \"Bangladesh\", \"Barbados\", \"Belarus\", \"Belgium\", \"Benin\", \"Bhutan\", \"Bolivia\", \"Bosnia and Herzegovina\", \"Brazil\", \"Brunei\", \"Bulgaria\", \"Burkina Faso\", \"Cabo Verde\", \"Cambodia\", \"Cameroon\", \"Canada\", \"Cape Verde\", \"Central African Republic\", \"Chad\", \"Chile\", \"China\", \"Colombia\", \"Congo (Brazzaville)\", \"Congo (Kinshasa)\", \"Costa Rica\", \"Cote d'Ivoire\", \"Croatia\", \"Cruise Ship\", \"Cuba\", \"Cyprus\", \"Czechia\", \"Denmark\", \"Djibouti\", \"Dominica\", \"Dominican Republic\", \"East Timor\", \"Ecuador\", \"Egypt\", \"El Salvador\", \"Equatorial Guinea\", \"Eritrea\", \"Estonia\", \"Eswatini\", \"Ethiopia\", \"Fiji\", \"Finland\", \"France\", \"French Guiana\", \"Gabon\", \"Gambia, The\", \"Georgia\", \"Germany\", \"Ghana\", \"Greece\", \"Greenland\", \"Grenada\", \"Guadeloupe\", \"Guam\", \"Guatemala\", \"Guernsey\", \"Guinea\", \"Guyana\", \"Haiti\", \"Holy See\", \"Honduras\", \"Hungary\", \"Iceland\", \"India\", \"Indonesia\", \"Iran\", \"Iraq\", \"Ireland\", \"Israel\", \"Italy\", \"Jamaica\", \"Japan\", \"Jersey\", \"Jordan\", \"Kazakhstan\", \"Kenya\", \"Kosovo\", \"Kuwait\", \"Kyrgyzstan\", \"Latvia\", \"Lebanon\", \"Liberia\", \"Liechtenstein\", \"Lithuania\", \"Luxembourg\", \"Madagascar\", \"Malaysia\", \"Maldives\", \"Malta\", \"Martinique\", \"Mauritania\", \"Mauritius\", \"Mayotte\", \"Mexico\", \"Moldova\", \"Monaco\", \"Mongolia\", \"Montenegro\", \"Morocco\", \"Mozambique\", \"Namibia\", \"Nepal\", \"Netherlands\", \"New Zealand\", \"Nicaragua\", \"Niger\", \"Nigeria\", \"North Macedonia\", \"Norway\", \"Oman\", \"Pakistan\", \"Panama\", \"Papua New Guinea\", \"Paraguay\", \"Peru\", \"Philippines\", \"Poland\", \"Portugal\", \"Puerto Rico\", \"Qatar\", \"Republic of the Congo\", \"Reunion\", \"Romania\", \"Russia\", \"Rwanda\", \"Saint Lucia\", \"Saint Vincent and the Grenadines\", \"San Marino\", \"Saudi Arabia\", \"Senegal\", \"Serbia\", \"Seychelles\", \"Singapore\", \"Slovakia\", \"Slovenia\", \"Somalia\", \"South Africa\", \"South Korea\", \"Spain\", \"Sri Lanka\", \"Sudan\", \"Suriname\", \"Sweden\", \"Switzerland\", \"Syria\", \"Taiwan\", \"Tanzania\", \"Thailand\", \"The Bahamas\", \"The Gambia\", \"Timor-Leste\", \"Togo\", \"Trinidad and Tobago\", \"Tunisia\", \"Turkey\", \"US\", \"Uganda\", \"Ukraine\", \"United Arab Emirates\", \"United Kingdom\", \"Uruguay\", \"Uzbekistan\", \"Venezuela\", \"Vietnam\", \"Zambia\", \"Zimbabwe\"], \"name\": \"\", \"type\": \"choropleth\", \"z\": [40.0, 89.0, 201.0, 113.0, 2.0, 1.0, 225.0, 194.0, 1314.0, 3244.0, 65.0, 4.0, 332.0, 27.0, 14.0, 76.0, 3401.0, 2.0, 2.0, 24.0, 126.0, 1593.0, 88.0, 187.0, 75.0, 3.0, 84.0, 40.0, 1470.0, 0.0, 3.0, 1.0, 632.0, 81439.0, 231.0, 3.0, 30.0, 134.0, 14.0, 254.0, 712.0, 35.0, 95.0, 1120.0, 1514.0, 1.0, 1.0, 202.0, 0.0, 789.0, 327.0, 3.0, 6.0, 1.0, 326.0, 4.0, 11.0, 2.0, 626.0, 16044.0, 18.0, 5.0, 1.0, 54.0, 24873.0, 24.0, 624.0, 0.0, 1.0, 56.0, 0.0, 19.0, 0.0, 2.0, 7.0, 2.0, 1.0, 26.0, 131.0, 568.0, 396.0, 514.0, 21638.0, 233.0, 906.0, 1071.0, 59138.0, 16.0, 1086.0, 0.0, 112.0, 60.0, 15.0, 2.0, 188.0, 14.0, 139.0, 248.0, 3.0, 37.0, 131.0, 798.0, 3.0, 1306.0, 13.0, 90.0, 37.0, 2.0, 18.0, 11.0, 251.0, 94.0, 23.0, 10.0, 21.0, 115.0, 1.0, 3.0, 2.0, 4216.0, 66.0, 2.0, 2.0, 30.0, 114.0, 2383.0, 55.0, 776.0, 245.0, 1.0, 22.0, 363.0, 380.0, 634.0, 1600.0, 0.0, 494.0, 0.0, 47.0, 433.0, 367.0, 19.0, 2.0, 1.0, 160.0, 511.0, 67.0, 222.0, 7.0, 455.0, 185.0, 414.0, 1.0, 274.0, 8897.0, 28768.0, 82.0, 2.0, 5.0, 1934.0, 7245.0, 1.0, 169.0, 12.0, 599.0, 0.0, 0.0, 1.0, 16.0, 50.0, 75.0, 1236.0, 33276.0, 1.0, 73.0, 153.0, 5741.0, 135.0, 43.0, 70.0, 113.0, 3.0, 3.0]}],\n",
       "                        {\"coloraxis\": {\"colorbar\": {\"title\": {\"text\": \"Confirmed\"}}, \"colorscale\": [[0.0, \"rgb(253, 253, 204)\"], [0.09090909090909091, \"rgb(206, 236, 179)\"], [0.18181818181818182, \"rgb(156, 219, 165)\"], [0.2727272727272727, \"rgb(111, 201, 163)\"], [0.36363636363636365, \"rgb(86, 177, 163)\"], [0.45454545454545453, \"rgb(76, 153, 160)\"], [0.5454545454545454, \"rgb(68, 130, 155)\"], [0.6363636363636364, \"rgb(62, 108, 150)\"], [0.7272727272727273, \"rgb(62, 82, 143)\"], [0.8181818181818182, \"rgb(64, 60, 115)\"], [0.9090909090909091, \"rgb(54, 43, 77)\"], [1.0, \"rgb(39, 26, 44)\"]]}, \"geo\": {\"center\": {}, \"domain\": {\"x\": [0.0, 1.0], \"y\": [0.0, 1.0]}}, \"legend\": {\"tracegroupgap\": 0}, \"margin\": {\"t\": 60}, \"template\": {\"data\": {\"bar\": [{\"error_x\": {\"color\": \"#2a3f5f\"}, \"error_y\": {\"color\": \"#2a3f5f\"}, \"marker\": {\"line\": {\"color\": \"#E5ECF6\", \"width\": 0.5}}, \"type\": \"bar\"}], \"barpolar\": [{\"marker\": {\"line\": {\"color\": \"#E5ECF6\", \"width\": 0.5}}, \"type\": \"barpolar\"}], \"carpet\": [{\"aaxis\": {\"endlinecolor\": \"#2a3f5f\", \"gridcolor\": \"white\", \"linecolor\": \"white\", \"minorgridcolor\": \"white\", \"startlinecolor\": \"#2a3f5f\"}, \"baxis\": {\"endlinecolor\": \"#2a3f5f\", \"gridcolor\": \"white\", \"linecolor\": \"white\", \"minorgridcolor\": \"white\", \"startlinecolor\": \"#2a3f5f\"}, \"type\": \"carpet\"}], \"choropleth\": [{\"colorbar\": {\"outlinewidth\": 0, \"ticks\": \"\"}, \"type\": \"choropleth\"}], \"contour\": [{\"colorbar\": {\"outlinewidth\": 0, \"ticks\": \"\"}, \"colorscale\": [[0.0, \"#0d0887\"], [0.1111111111111111, \"#46039f\"], [0.2222222222222222, \"#7201a8\"], [0.3333333333333333, \"#9c179e\"], [0.4444444444444444, \"#bd3786\"], [0.5555555555555556, \"#d8576b\"], [0.6666666666666666, \"#ed7953\"], [0.7777777777777778, \"#fb9f3a\"], [0.8888888888888888, \"#fdca26\"], [1.0, \"#f0f921\"]], \"type\": \"contour\"}], \"contourcarpet\": [{\"colorbar\": {\"outlinewidth\": 0, \"ticks\": \"\"}, \"type\": \"contourcarpet\"}], \"heatmap\": [{\"colorbar\": {\"outlinewidth\": 0, \"ticks\": \"\"}, \"colorscale\": [[0.0, \"#0d0887\"], [0.1111111111111111, \"#46039f\"], [0.2222222222222222, \"#7201a8\"], [0.3333333333333333, \"#9c179e\"], [0.4444444444444444, \"#bd3786\"], [0.5555555555555556, \"#d8576b\"], [0.6666666666666666, \"#ed7953\"], [0.7777777777777778, \"#fb9f3a\"], [0.8888888888888888, \"#fdca26\"], [1.0, \"#f0f921\"]], \"type\": \"heatmap\"}], \"heatmapgl\": [{\"colorbar\": {\"outlinewidth\": 0, \"ticks\": \"\"}, \"colorscale\": [[0.0, \"#0d0887\"], [0.1111111111111111, \"#46039f\"], [0.2222222222222222, \"#7201a8\"], [0.3333333333333333, \"#9c179e\"], [0.4444444444444444, \"#bd3786\"], [0.5555555555555556, \"#d8576b\"], [0.6666666666666666, \"#ed7953\"], [0.7777777777777778, \"#fb9f3a\"], [0.8888888888888888, \"#fdca26\"], [1.0, \"#f0f921\"]], \"type\": \"heatmapgl\"}], \"histogram\": [{\"marker\": {\"colorbar\": {\"outlinewidth\": 0, \"ticks\": \"\"}}, \"type\": \"histogram\"}], \"histogram2d\": [{\"colorbar\": {\"outlinewidth\": 0, \"ticks\": \"\"}, \"colorscale\": [[0.0, \"#0d0887\"], [0.1111111111111111, \"#46039f\"], [0.2222222222222222, \"#7201a8\"], [0.3333333333333333, \"#9c179e\"], [0.4444444444444444, \"#bd3786\"], [0.5555555555555556, \"#d8576b\"], [0.6666666666666666, \"#ed7953\"], [0.7777777777777778, \"#fb9f3a\"], [0.8888888888888888, \"#fdca26\"], [1.0, \"#f0f921\"]], \"type\": \"histogram2d\"}], \"histogram2dcontour\": [{\"colorbar\": {\"outlinewidth\": 0, \"ticks\": \"\"}, \"colorscale\": [[0.0, \"#0d0887\"], [0.1111111111111111, \"#46039f\"], [0.2222222222222222, \"#7201a8\"], [0.3333333333333333, \"#9c179e\"], [0.4444444444444444, \"#bd3786\"], [0.5555555555555556, \"#d8576b\"], [0.6666666666666666, \"#ed7953\"], [0.7777777777777778, \"#fb9f3a\"], [0.8888888888888888, \"#fdca26\"], [1.0, \"#f0f921\"]], \"type\": \"histogram2dcontour\"}], \"mesh3d\": [{\"colorbar\": {\"outlinewidth\": 0, \"ticks\": \"\"}, \"type\": \"mesh3d\"}], \"parcoords\": [{\"line\": {\"colorbar\": {\"outlinewidth\": 0, \"ticks\": \"\"}}, \"type\": \"parcoords\"}], \"pie\": [{\"automargin\": true, \"type\": \"pie\"}], \"scatter\": [{\"marker\": {\"colorbar\": {\"outlinewidth\": 0, \"ticks\": \"\"}}, \"type\": \"scatter\"}], \"scatter3d\": [{\"line\": {\"colorbar\": {\"outlinewidth\": 0, \"ticks\": \"\"}}, \"marker\": {\"colorbar\": {\"outlinewidth\": 0, \"ticks\": \"\"}}, \"type\": \"scatter3d\"}], \"scattercarpet\": [{\"marker\": {\"colorbar\": {\"outlinewidth\": 0, \"ticks\": \"\"}}, \"type\": \"scattercarpet\"}], \"scattergeo\": [{\"marker\": {\"colorbar\": {\"outlinewidth\": 0, \"ticks\": \"\"}}, \"type\": \"scattergeo\"}], \"scattergl\": [{\"marker\": {\"colorbar\": {\"outlinewidth\": 0, \"ticks\": \"\"}}, \"type\": \"scattergl\"}], \"scattermapbox\": [{\"marker\": {\"colorbar\": {\"outlinewidth\": 0, \"ticks\": \"\"}}, \"type\": \"scattermapbox\"}], \"scatterpolar\": [{\"marker\": {\"colorbar\": {\"outlinewidth\": 0, \"ticks\": \"\"}}, \"type\": \"scatterpolar\"}], \"scatterpolargl\": [{\"marker\": {\"colorbar\": {\"outlinewidth\": 0, \"ticks\": \"\"}}, \"type\": \"scatterpolargl\"}], \"scatterternary\": [{\"marker\": {\"colorbar\": {\"outlinewidth\": 0, \"ticks\": \"\"}}, \"type\": \"scatterternary\"}], \"surface\": [{\"colorbar\": {\"outlinewidth\": 0, \"ticks\": \"\"}, \"colorscale\": [[0.0, \"#0d0887\"], [0.1111111111111111, \"#46039f\"], [0.2222222222222222, \"#7201a8\"], [0.3333333333333333, \"#9c179e\"], [0.4444444444444444, \"#bd3786\"], [0.5555555555555556, \"#d8576b\"], [0.6666666666666666, \"#ed7953\"], [0.7777777777777778, \"#fb9f3a\"], [0.8888888888888888, \"#fdca26\"], [1.0, \"#f0f921\"]], \"type\": \"surface\"}], \"table\": [{\"cells\": {\"fill\": {\"color\": \"#EBF0F8\"}, \"line\": {\"color\": \"white\"}}, \"header\": {\"fill\": {\"color\": \"#C8D4E3\"}, \"line\": {\"color\": \"white\"}}, \"type\": \"table\"}]}, \"layout\": {\"annotationdefaults\": {\"arrowcolor\": \"#2a3f5f\", \"arrowhead\": 0, \"arrowwidth\": 1}, \"coloraxis\": {\"colorbar\": {\"outlinewidth\": 0, \"ticks\": \"\"}}, \"colorscale\": {\"diverging\": [[0, \"#8e0152\"], [0.1, \"#c51b7d\"], [0.2, \"#de77ae\"], [0.3, \"#f1b6da\"], [0.4, \"#fde0ef\"], [0.5, \"#f7f7f7\"], [0.6, \"#e6f5d0\"], [0.7, \"#b8e186\"], [0.8, \"#7fbc41\"], [0.9, \"#4d9221\"], [1, \"#276419\"]], \"sequential\": [[0.0, \"#0d0887\"], [0.1111111111111111, \"#46039f\"], [0.2222222222222222, \"#7201a8\"], [0.3333333333333333, \"#9c179e\"], [0.4444444444444444, \"#bd3786\"], [0.5555555555555556, \"#d8576b\"], [0.6666666666666666, \"#ed7953\"], [0.7777777777777778, \"#fb9f3a\"], [0.8888888888888888, \"#fdca26\"], [1.0, \"#f0f921\"]], \"sequentialminus\": [[0.0, \"#0d0887\"], [0.1111111111111111, \"#46039f\"], [0.2222222222222222, \"#7201a8\"], [0.3333333333333333, \"#9c179e\"], [0.4444444444444444, \"#bd3786\"], [0.5555555555555556, \"#d8576b\"], [0.6666666666666666, \"#ed7953\"], [0.7777777777777778, \"#fb9f3a\"], [0.8888888888888888, \"#fdca26\"], [1.0, \"#f0f921\"]]}, \"colorway\": [\"#636efa\", \"#EF553B\", \"#00cc96\", \"#ab63fa\", \"#FFA15A\", \"#19d3f3\", \"#FF6692\", \"#B6E880\", \"#FF97FF\", \"#FECB52\"], \"font\": {\"color\": \"#2a3f5f\"}, \"geo\": {\"bgcolor\": \"white\", \"lakecolor\": \"white\", \"landcolor\": \"#E5ECF6\", \"showlakes\": true, \"showland\": true, \"subunitcolor\": \"white\"}, \"hoverlabel\": {\"align\": \"left\"}, \"hovermode\": \"closest\", \"mapbox\": {\"style\": \"light\"}, \"paper_bgcolor\": \"white\", \"plot_bgcolor\": \"#E5ECF6\", \"polar\": {\"angularaxis\": {\"gridcolor\": \"white\", \"linecolor\": \"white\", \"ticks\": \"\"}, \"bgcolor\": \"#E5ECF6\", \"radialaxis\": {\"gridcolor\": \"white\", \"linecolor\": \"white\", \"ticks\": \"\"}}, \"scene\": {\"xaxis\": {\"backgroundcolor\": \"#E5ECF6\", \"gridcolor\": \"white\", \"gridwidth\": 2, \"linecolor\": \"white\", \"showbackground\": true, \"ticks\": \"\", \"zerolinecolor\": \"white\"}, \"yaxis\": {\"backgroundcolor\": \"#E5ECF6\", \"gridcolor\": \"white\", \"gridwidth\": 2, \"linecolor\": \"white\", \"showbackground\": true, \"ticks\": \"\", \"zerolinecolor\": \"white\"}, \"zaxis\": {\"backgroundcolor\": \"#E5ECF6\", \"gridcolor\": \"white\", \"gridwidth\": 2, \"linecolor\": \"white\", \"showbackground\": true, \"ticks\": \"\", \"zerolinecolor\": \"white\"}}, \"shapedefaults\": {\"line\": {\"color\": \"#2a3f5f\"}}, \"ternary\": {\"aaxis\": {\"gridcolor\": \"white\", \"linecolor\": \"white\", \"ticks\": \"\"}, \"baxis\": {\"gridcolor\": \"white\", \"linecolor\": \"white\", \"ticks\": \"\"}, \"bgcolor\": \"#E5ECF6\", \"caxis\": {\"gridcolor\": \"white\", \"linecolor\": \"white\", \"ticks\": \"\"}}, \"title\": {\"x\": 0.05}, \"xaxis\": {\"automargin\": true, \"gridcolor\": \"white\", \"linecolor\": \"white\", \"ticks\": \"\", \"title\": {\"standoff\": 15}, \"zerolinecolor\": \"white\", \"zerolinewidth\": 2}, \"yaxis\": {\"automargin\": true, \"gridcolor\": \"white\", \"linecolor\": \"white\", \"ticks\": \"\", \"title\": {\"standoff\": 15}, \"zerolinecolor\": \"white\", \"zerolinewidth\": 2}}}, \"title\": {\"text\": \"Confirmed Cases In The World\"}},\n",
       "                        {\"responsive\": true}\n",
       "                    ).then(function(){\n",
       "                            \n",
       "var gd = document.getElementById('911538af-11c5-4dc2-9688-9d9bb855a737');\n",
       "var x = new MutationObserver(function (mutations, observer) {{\n",
       "        var display = window.getComputedStyle(gd).display;\n",
       "        if (!display || display === 'none') {{\n",
       "            console.log([gd, 'removed!']);\n",
       "            Plotly.purge(gd);\n",
       "            observer.disconnect();\n",
       "        }}\n",
       "}});\n",
       "\n",
       "// Listen for the removal of the full notebook cells\n",
       "var notebookContainer = gd.closest('#notebook-container');\n",
       "if (notebookContainer) {{\n",
       "    x.observe(notebookContainer, {childList: true});\n",
       "}}\n",
       "\n",
       "// Listen for the clearing of the current output cell\n",
       "var outputEl = gd.closest('.output');\n",
       "if (outputEl) {{\n",
       "    x.observe(outputEl, {childList: true});\n",
       "}}\n",
       "\n",
       "                        })\n",
       "                };\n",
       "                });\n",
       "            </script>\n",
       "        </div>"
      ]
     },
     "metadata": {},
     "output_type": "display_data"
    }
   ],
   "source": [
    "fig = px.choropleth(full_latest_grouped, locations=full_latest_grouped['Country/Region'],\n",
    "                    color=full_latest_grouped['Confirmed'],locationmode='country names', \n",
    "                    hover_name=full_latest_grouped['Country/Region'], \n",
    "                    color_continuous_scale=px.colors.sequential.deep)\n",
    "fig.update_layout(\n",
    "    title='Confirmed Cases In The World',\n",
    ")\n",
    "fig.show();"
   ]
  },
  {
   "cell_type": "code",
   "execution_count": null,
   "metadata": {},
   "outputs": [],
   "source": [
    "formated_gdf = full_table.groupby(['Date', 'Country/Region'])['Confirmed', 'Deaths', 'Recovered'].max()\n",
    "formated_gdf = formated_gdf.reset_index()\n",
    "formated_gdf['Date'] = pd.to_datetime(formated_gdf['Date'])\n",
    "formated_gdf['Date'] = formated_gdf['Date'].dt.strftime('%m/%d/%Y')\n",
    "formated_gdf['size'] = formated_gdf['Confirmed'].pow(0.3)\n",
    "\n",
    "fig = px.scatter_geo(formated_gdf, locations=\"Country/Region\", locationmode='country names', \n",
    "                     color=\"Confirmed\", size='size', hover_name=\"Country/Region\", \n",
    "                     range_color= [0, max(formated_gdf['Confirmed'])+2], \n",
    "                     projection=\"natural earth\", animation_frame=\"Date\", \n",
    "                     title='Spread over time')\n",
    "fig.update(layout_coloraxis_showscale=False)\n",
    "fig.show();"
   ]
  },
  {
   "cell_type": "markdown",
   "metadata": {},
   "source": [
    "### Countries With Death Reports"
   ]
  },
  {
   "cell_type": "code",
   "execution_count": 54,
   "metadata": {},
   "outputs": [
    {
     "data": {
      "text/html": [
       "<style  type=\"text/css\" >\n",
       "    #T_228b07b0_6e93_11ea_a183_705a0f1a5828row0_col1 {\n",
       "            background-color:  #67000d;\n",
       "            color:  #f1f1f1;\n",
       "        }    #T_228b07b0_6e93_11ea_a183_705a0f1a5828row1_col1 {\n",
       "            background-color:  #f14432;\n",
       "            color:  #f1f1f1;\n",
       "        }    #T_228b07b0_6e93_11ea_a183_705a0f1a5828row2_col1 {\n",
       "            background-color:  #fca486;\n",
       "            color:  #000000;\n",
       "        }    #T_228b07b0_6e93_11ea_a183_705a0f1a5828row3_col1 {\n",
       "            background-color:  #fca98c;\n",
       "            color:  #000000;\n",
       "        }    #T_228b07b0_6e93_11ea_a183_705a0f1a5828row4_col1 {\n",
       "            background-color:  #fee1d3;\n",
       "            color:  #000000;\n",
       "        }    #T_228b07b0_6e93_11ea_a183_705a0f1a5828row5_col1 {\n",
       "            background-color:  #fee8de;\n",
       "            color:  #000000;\n",
       "        }    #T_228b07b0_6e93_11ea_a183_705a0f1a5828row6_col1 {\n",
       "            background-color:  #ffece4;\n",
       "            color:  #000000;\n",
       "        }    #T_228b07b0_6e93_11ea_a183_705a0f1a5828row7_col1 {\n",
       "            background-color:  #fff0e8;\n",
       "            color:  #000000;\n",
       "        }    #T_228b07b0_6e93_11ea_a183_705a0f1a5828row8_col1 {\n",
       "            background-color:  #fff2ec;\n",
       "            color:  #000000;\n",
       "        }    #T_228b07b0_6e93_11ea_a183_705a0f1a5828row9_col1 {\n",
       "            background-color:  #fff2ec;\n",
       "            color:  #000000;\n",
       "        }    #T_228b07b0_6e93_11ea_a183_705a0f1a5828row10_col1 {\n",
       "            background-color:  #fff2ec;\n",
       "            color:  #000000;\n",
       "        }    #T_228b07b0_6e93_11ea_a183_705a0f1a5828row11_col1 {\n",
       "            background-color:  #fff3ed;\n",
       "            color:  #000000;\n",
       "        }    #T_228b07b0_6e93_11ea_a183_705a0f1a5828row12_col1 {\n",
       "            background-color:  #fff4ee;\n",
       "            color:  #000000;\n",
       "        }    #T_228b07b0_6e93_11ea_a183_705a0f1a5828row13_col1 {\n",
       "            background-color:  #fff4ef;\n",
       "            color:  #000000;\n",
       "        }    #T_228b07b0_6e93_11ea_a183_705a0f1a5828row14_col1 {\n",
       "            background-color:  #fff4ef;\n",
       "            color:  #000000;\n",
       "        }    #T_228b07b0_6e93_11ea_a183_705a0f1a5828row15_col1 {\n",
       "            background-color:  #fff4ef;\n",
       "            color:  #000000;\n",
       "        }    #T_228b07b0_6e93_11ea_a183_705a0f1a5828row16_col1 {\n",
       "            background-color:  #fff4ef;\n",
       "            color:  #000000;\n",
       "        }    #T_228b07b0_6e93_11ea_a183_705a0f1a5828row17_col1 {\n",
       "            background-color:  #fff5f0;\n",
       "            color:  #000000;\n",
       "        }    #T_228b07b0_6e93_11ea_a183_705a0f1a5828row18_col1 {\n",
       "            background-color:  #fff5f0;\n",
       "            color:  #000000;\n",
       "        }    #T_228b07b0_6e93_11ea_a183_705a0f1a5828row19_col1 {\n",
       "            background-color:  #fff5f0;\n",
       "            color:  #000000;\n",
       "        }    #T_228b07b0_6e93_11ea_a183_705a0f1a5828row20_col1 {\n",
       "            background-color:  #fff5f0;\n",
       "            color:  #000000;\n",
       "        }    #T_228b07b0_6e93_11ea_a183_705a0f1a5828row21_col1 {\n",
       "            background-color:  #fff5f0;\n",
       "            color:  #000000;\n",
       "        }    #T_228b07b0_6e93_11ea_a183_705a0f1a5828row22_col1 {\n",
       "            background-color:  #fff5f0;\n",
       "            color:  #000000;\n",
       "        }    #T_228b07b0_6e93_11ea_a183_705a0f1a5828row23_col1 {\n",
       "            background-color:  #fff5f0;\n",
       "            color:  #000000;\n",
       "        }    #T_228b07b0_6e93_11ea_a183_705a0f1a5828row24_col1 {\n",
       "            background-color:  #fff5f0;\n",
       "            color:  #000000;\n",
       "        }    #T_228b07b0_6e93_11ea_a183_705a0f1a5828row25_col1 {\n",
       "            background-color:  #fff5f0;\n",
       "            color:  #000000;\n",
       "        }    #T_228b07b0_6e93_11ea_a183_705a0f1a5828row26_col1 {\n",
       "            background-color:  #fff5f0;\n",
       "            color:  #000000;\n",
       "        }    #T_228b07b0_6e93_11ea_a183_705a0f1a5828row27_col1 {\n",
       "            background-color:  #fff5f0;\n",
       "            color:  #000000;\n",
       "        }    #T_228b07b0_6e93_11ea_a183_705a0f1a5828row28_col1 {\n",
       "            background-color:  #fff5f0;\n",
       "            color:  #000000;\n",
       "        }    #T_228b07b0_6e93_11ea_a183_705a0f1a5828row29_col1 {\n",
       "            background-color:  #fff5f0;\n",
       "            color:  #000000;\n",
       "        }    #T_228b07b0_6e93_11ea_a183_705a0f1a5828row30_col1 {\n",
       "            background-color:  #fff5f0;\n",
       "            color:  #000000;\n",
       "        }    #T_228b07b0_6e93_11ea_a183_705a0f1a5828row31_col1 {\n",
       "            background-color:  #fff5f0;\n",
       "            color:  #000000;\n",
       "        }    #T_228b07b0_6e93_11ea_a183_705a0f1a5828row32_col1 {\n",
       "            background-color:  #fff5f0;\n",
       "            color:  #000000;\n",
       "        }    #T_228b07b0_6e93_11ea_a183_705a0f1a5828row33_col1 {\n",
       "            background-color:  #fff5f0;\n",
       "            color:  #000000;\n",
       "        }    #T_228b07b0_6e93_11ea_a183_705a0f1a5828row34_col1 {\n",
       "            background-color:  #fff5f0;\n",
       "            color:  #000000;\n",
       "        }    #T_228b07b0_6e93_11ea_a183_705a0f1a5828row35_col1 {\n",
       "            background-color:  #fff5f0;\n",
       "            color:  #000000;\n",
       "        }    #T_228b07b0_6e93_11ea_a183_705a0f1a5828row36_col1 {\n",
       "            background-color:  #fff5f0;\n",
       "            color:  #000000;\n",
       "        }    #T_228b07b0_6e93_11ea_a183_705a0f1a5828row37_col1 {\n",
       "            background-color:  #fff5f0;\n",
       "            color:  #000000;\n",
       "        }    #T_228b07b0_6e93_11ea_a183_705a0f1a5828row38_col1 {\n",
       "            background-color:  #fff5f0;\n",
       "            color:  #000000;\n",
       "        }    #T_228b07b0_6e93_11ea_a183_705a0f1a5828row39_col1 {\n",
       "            background-color:  #fff5f0;\n",
       "            color:  #000000;\n",
       "        }    #T_228b07b0_6e93_11ea_a183_705a0f1a5828row40_col1 {\n",
       "            background-color:  #fff5f0;\n",
       "            color:  #000000;\n",
       "        }    #T_228b07b0_6e93_11ea_a183_705a0f1a5828row41_col1 {\n",
       "            background-color:  #fff5f0;\n",
       "            color:  #000000;\n",
       "        }    #T_228b07b0_6e93_11ea_a183_705a0f1a5828row42_col1 {\n",
       "            background-color:  #fff5f0;\n",
       "            color:  #000000;\n",
       "        }    #T_228b07b0_6e93_11ea_a183_705a0f1a5828row43_col1 {\n",
       "            background-color:  #fff5f0;\n",
       "            color:  #000000;\n",
       "        }    #T_228b07b0_6e93_11ea_a183_705a0f1a5828row44_col1 {\n",
       "            background-color:  #fff5f0;\n",
       "            color:  #000000;\n",
       "        }    #T_228b07b0_6e93_11ea_a183_705a0f1a5828row45_col1 {\n",
       "            background-color:  #fff5f0;\n",
       "            color:  #000000;\n",
       "        }    #T_228b07b0_6e93_11ea_a183_705a0f1a5828row46_col1 {\n",
       "            background-color:  #fff5f0;\n",
       "            color:  #000000;\n",
       "        }    #T_228b07b0_6e93_11ea_a183_705a0f1a5828row47_col1 {\n",
       "            background-color:  #fff5f0;\n",
       "            color:  #000000;\n",
       "        }    #T_228b07b0_6e93_11ea_a183_705a0f1a5828row48_col1 {\n",
       "            background-color:  #fff5f0;\n",
       "            color:  #000000;\n",
       "        }    #T_228b07b0_6e93_11ea_a183_705a0f1a5828row49_col1 {\n",
       "            background-color:  #fff5f0;\n",
       "            color:  #000000;\n",
       "        }    #T_228b07b0_6e93_11ea_a183_705a0f1a5828row50_col1 {\n",
       "            background-color:  #fff5f0;\n",
       "            color:  #000000;\n",
       "        }    #T_228b07b0_6e93_11ea_a183_705a0f1a5828row51_col1 {\n",
       "            background-color:  #fff5f0;\n",
       "            color:  #000000;\n",
       "        }    #T_228b07b0_6e93_11ea_a183_705a0f1a5828row52_col1 {\n",
       "            background-color:  #fff5f0;\n",
       "            color:  #000000;\n",
       "        }    #T_228b07b0_6e93_11ea_a183_705a0f1a5828row53_col1 {\n",
       "            background-color:  #fff5f0;\n",
       "            color:  #000000;\n",
       "        }    #T_228b07b0_6e93_11ea_a183_705a0f1a5828row54_col1 {\n",
       "            background-color:  #fff5f0;\n",
       "            color:  #000000;\n",
       "        }    #T_228b07b0_6e93_11ea_a183_705a0f1a5828row55_col1 {\n",
       "            background-color:  #fff5f0;\n",
       "            color:  #000000;\n",
       "        }    #T_228b07b0_6e93_11ea_a183_705a0f1a5828row56_col1 {\n",
       "            background-color:  #fff5f0;\n",
       "            color:  #000000;\n",
       "        }    #T_228b07b0_6e93_11ea_a183_705a0f1a5828row57_col1 {\n",
       "            background-color:  #fff5f0;\n",
       "            color:  #000000;\n",
       "        }    #T_228b07b0_6e93_11ea_a183_705a0f1a5828row58_col1 {\n",
       "            background-color:  #fff5f0;\n",
       "            color:  #000000;\n",
       "        }    #T_228b07b0_6e93_11ea_a183_705a0f1a5828row59_col1 {\n",
       "            background-color:  #fff5f0;\n",
       "            color:  #000000;\n",
       "        }    #T_228b07b0_6e93_11ea_a183_705a0f1a5828row60_col1 {\n",
       "            background-color:  #fff5f0;\n",
       "            color:  #000000;\n",
       "        }    #T_228b07b0_6e93_11ea_a183_705a0f1a5828row61_col1 {\n",
       "            background-color:  #fff5f0;\n",
       "            color:  #000000;\n",
       "        }    #T_228b07b0_6e93_11ea_a183_705a0f1a5828row62_col1 {\n",
       "            background-color:  #fff5f0;\n",
       "            color:  #000000;\n",
       "        }    #T_228b07b0_6e93_11ea_a183_705a0f1a5828row63_col1 {\n",
       "            background-color:  #fff5f0;\n",
       "            color:  #000000;\n",
       "        }    #T_228b07b0_6e93_11ea_a183_705a0f1a5828row64_col1 {\n",
       "            background-color:  #fff5f0;\n",
       "            color:  #000000;\n",
       "        }    #T_228b07b0_6e93_11ea_a183_705a0f1a5828row65_col1 {\n",
       "            background-color:  #fff5f0;\n",
       "            color:  #000000;\n",
       "        }    #T_228b07b0_6e93_11ea_a183_705a0f1a5828row66_col1 {\n",
       "            background-color:  #fff5f0;\n",
       "            color:  #000000;\n",
       "        }    #T_228b07b0_6e93_11ea_a183_705a0f1a5828row67_col1 {\n",
       "            background-color:  #fff5f0;\n",
       "            color:  #000000;\n",
       "        }    #T_228b07b0_6e93_11ea_a183_705a0f1a5828row68_col1 {\n",
       "            background-color:  #fff5f0;\n",
       "            color:  #000000;\n",
       "        }    #T_228b07b0_6e93_11ea_a183_705a0f1a5828row69_col1 {\n",
       "            background-color:  #fff5f0;\n",
       "            color:  #000000;\n",
       "        }    #T_228b07b0_6e93_11ea_a183_705a0f1a5828row70_col1 {\n",
       "            background-color:  #fff5f0;\n",
       "            color:  #000000;\n",
       "        }    #T_228b07b0_6e93_11ea_a183_705a0f1a5828row71_col1 {\n",
       "            background-color:  #fff5f0;\n",
       "            color:  #000000;\n",
       "        }    #T_228b07b0_6e93_11ea_a183_705a0f1a5828row72_col1 {\n",
       "            background-color:  #fff5f0;\n",
       "            color:  #000000;\n",
       "        }    #T_228b07b0_6e93_11ea_a183_705a0f1a5828row73_col1 {\n",
       "            background-color:  #fff5f0;\n",
       "            color:  #000000;\n",
       "        }    #T_228b07b0_6e93_11ea_a183_705a0f1a5828row74_col1 {\n",
       "            background-color:  #fff5f0;\n",
       "            color:  #000000;\n",
       "        }    #T_228b07b0_6e93_11ea_a183_705a0f1a5828row75_col1 {\n",
       "            background-color:  #fff5f0;\n",
       "            color:  #000000;\n",
       "        }    #T_228b07b0_6e93_11ea_a183_705a0f1a5828row76_col1 {\n",
       "            background-color:  #fff5f0;\n",
       "            color:  #000000;\n",
       "        }    #T_228b07b0_6e93_11ea_a183_705a0f1a5828row77_col1 {\n",
       "            background-color:  #fff5f0;\n",
       "            color:  #000000;\n",
       "        }    #T_228b07b0_6e93_11ea_a183_705a0f1a5828row78_col1 {\n",
       "            background-color:  #fff5f0;\n",
       "            color:  #000000;\n",
       "        }    #T_228b07b0_6e93_11ea_a183_705a0f1a5828row79_col1 {\n",
       "            background-color:  #fff5f0;\n",
       "            color:  #000000;\n",
       "        }    #T_228b07b0_6e93_11ea_a183_705a0f1a5828row80_col1 {\n",
       "            background-color:  #fff5f0;\n",
       "            color:  #000000;\n",
       "        }    #T_228b07b0_6e93_11ea_a183_705a0f1a5828row81_col1 {\n",
       "            background-color:  #fff5f0;\n",
       "            color:  #000000;\n",
       "        }    #T_228b07b0_6e93_11ea_a183_705a0f1a5828row82_col1 {\n",
       "            background-color:  #fff5f0;\n",
       "            color:  #000000;\n",
       "        }    #T_228b07b0_6e93_11ea_a183_705a0f1a5828row83_col1 {\n",
       "            background-color:  #fff5f0;\n",
       "            color:  #000000;\n",
       "        }    #T_228b07b0_6e93_11ea_a183_705a0f1a5828row84_col1 {\n",
       "            background-color:  #fff5f0;\n",
       "            color:  #000000;\n",
       "        }    #T_228b07b0_6e93_11ea_a183_705a0f1a5828row85_col1 {\n",
       "            background-color:  #fff5f0;\n",
       "            color:  #000000;\n",
       "        }    #T_228b07b0_6e93_11ea_a183_705a0f1a5828row86_col1 {\n",
       "            background-color:  #fff5f0;\n",
       "            color:  #000000;\n",
       "        }    #T_228b07b0_6e93_11ea_a183_705a0f1a5828row87_col1 {\n",
       "            background-color:  #fff5f0;\n",
       "            color:  #000000;\n",
       "        }    #T_228b07b0_6e93_11ea_a183_705a0f1a5828row88_col1 {\n",
       "            background-color:  #fff5f0;\n",
       "            color:  #000000;\n",
       "        }</style><table id=\"T_228b07b0_6e93_11ea_a183_705a0f1a5828\" ><thead>    <tr>        <th class=\"blank level0\" ></th>        <th class=\"col_heading level0 col0\" >Country/Region</th>        <th class=\"col_heading level0 col1\" >Deaths</th>    </tr></thead><tbody>\n",
       "                <tr>\n",
       "                        <th id=\"T_228b07b0_6e93_11ea_a183_705a0f1a5828level0_row0\" class=\"row_heading level0 row0\" >0</th>\n",
       "                        <td id=\"T_228b07b0_6e93_11ea_a183_705a0f1a5828row0_col0\" class=\"data row0 col0\" >Italy</td>\n",
       "                        <td id=\"T_228b07b0_6e93_11ea_a183_705a0f1a5828row0_col1\" class=\"data row0 col1\" >5476</td>\n",
       "            </tr>\n",
       "            <tr>\n",
       "                        <th id=\"T_228b07b0_6e93_11ea_a183_705a0f1a5828level0_row1\" class=\"row_heading level0 row1\" >1</th>\n",
       "                        <td id=\"T_228b07b0_6e93_11ea_a183_705a0f1a5828row1_col0\" class=\"data row1 col0\" >China</td>\n",
       "                        <td id=\"T_228b07b0_6e93_11ea_a183_705a0f1a5828row1_col1\" class=\"data row1 col1\" >3274</td>\n",
       "            </tr>\n",
       "            <tr>\n",
       "                        <th id=\"T_228b07b0_6e93_11ea_a183_705a0f1a5828level0_row2\" class=\"row_heading level0 row2\" >2</th>\n",
       "                        <td id=\"T_228b07b0_6e93_11ea_a183_705a0f1a5828row2_col0\" class=\"data row2 col0\" >Spain</td>\n",
       "                        <td id=\"T_228b07b0_6e93_11ea_a183_705a0f1a5828row2_col1\" class=\"data row2 col1\" >1772</td>\n",
       "            </tr>\n",
       "            <tr>\n",
       "                        <th id=\"T_228b07b0_6e93_11ea_a183_705a0f1a5828level0_row3\" class=\"row_heading level0 row3\" >3</th>\n",
       "                        <td id=\"T_228b07b0_6e93_11ea_a183_705a0f1a5828row3_col0\" class=\"data row3 col0\" >Iran</td>\n",
       "                        <td id=\"T_228b07b0_6e93_11ea_a183_705a0f1a5828row3_col1\" class=\"data row3 col1\" >1685</td>\n",
       "            </tr>\n",
       "            <tr>\n",
       "                        <th id=\"T_228b07b0_6e93_11ea_a183_705a0f1a5828level0_row4\" class=\"row_heading level0 row4\" >4</th>\n",
       "                        <td id=\"T_228b07b0_6e93_11ea_a183_705a0f1a5828row4_col0\" class=\"data row4 col0\" >France</td>\n",
       "                        <td id=\"T_228b07b0_6e93_11ea_a183_705a0f1a5828row4_col1\" class=\"data row4 col1\" >674</td>\n",
       "            </tr>\n",
       "            <tr>\n",
       "                        <th id=\"T_228b07b0_6e93_11ea_a183_705a0f1a5828level0_row5\" class=\"row_heading level0 row5\" >5</th>\n",
       "                        <td id=\"T_228b07b0_6e93_11ea_a183_705a0f1a5828row5_col0\" class=\"data row5 col0\" >US</td>\n",
       "                        <td id=\"T_228b07b0_6e93_11ea_a183_705a0f1a5828row5_col1\" class=\"data row5 col1\" >417</td>\n",
       "            </tr>\n",
       "            <tr>\n",
       "                        <th id=\"T_228b07b0_6e93_11ea_a183_705a0f1a5828level0_row6\" class=\"row_heading level0 row6\" >6</th>\n",
       "                        <td id=\"T_228b07b0_6e93_11ea_a183_705a0f1a5828row6_col0\" class=\"data row6 col0\" >United Kingdom</td>\n",
       "                        <td id=\"T_228b07b0_6e93_11ea_a183_705a0f1a5828row6_col1\" class=\"data row6 col1\" >282</td>\n",
       "            </tr>\n",
       "            <tr>\n",
       "                        <th id=\"T_228b07b0_6e93_11ea_a183_705a0f1a5828level0_row7\" class=\"row_heading level0 row7\" >7</th>\n",
       "                        <td id=\"T_228b07b0_6e93_11ea_a183_705a0f1a5828row7_col0\" class=\"data row7 col0\" >Netherlands</td>\n",
       "                        <td id=\"T_228b07b0_6e93_11ea_a183_705a0f1a5828row7_col1\" class=\"data row7 col1\" >180</td>\n",
       "            </tr>\n",
       "            <tr>\n",
       "                        <th id=\"T_228b07b0_6e93_11ea_a183_705a0f1a5828level0_row8\" class=\"row_heading level0 row8\" >8</th>\n",
       "                        <td id=\"T_228b07b0_6e93_11ea_a183_705a0f1a5828row8_col0\" class=\"data row8 col0\" >South Korea</td>\n",
       "                        <td id=\"T_228b07b0_6e93_11ea_a183_705a0f1a5828row8_col1\" class=\"data row8 col1\" >104</td>\n",
       "            </tr>\n",
       "            <tr>\n",
       "                        <th id=\"T_228b07b0_6e93_11ea_a183_705a0f1a5828level0_row9\" class=\"row_heading level0 row9\" >9</th>\n",
       "                        <td id=\"T_228b07b0_6e93_11ea_a183_705a0f1a5828row9_col0\" class=\"data row9 col0\" >Switzerland</td>\n",
       "                        <td id=\"T_228b07b0_6e93_11ea_a183_705a0f1a5828row9_col1\" class=\"data row9 col1\" >98</td>\n",
       "            </tr>\n",
       "            <tr>\n",
       "                        <th id=\"T_228b07b0_6e93_11ea_a183_705a0f1a5828level0_row10\" class=\"row_heading level0 row10\" >10</th>\n",
       "                        <td id=\"T_228b07b0_6e93_11ea_a183_705a0f1a5828row10_col0\" class=\"data row10 col0\" >Germany</td>\n",
       "                        <td id=\"T_228b07b0_6e93_11ea_a183_705a0f1a5828row10_col1\" class=\"data row10 col1\" >94</td>\n",
       "            </tr>\n",
       "            <tr>\n",
       "                        <th id=\"T_228b07b0_6e93_11ea_a183_705a0f1a5828level0_row11\" class=\"row_heading level0 row11\" >11</th>\n",
       "                        <td id=\"T_228b07b0_6e93_11ea_a183_705a0f1a5828row11_col0\" class=\"data row11 col0\" >Belgium</td>\n",
       "                        <td id=\"T_228b07b0_6e93_11ea_a183_705a0f1a5828row11_col1\" class=\"data row11 col1\" >75</td>\n",
       "            </tr>\n",
       "            <tr>\n",
       "                        <th id=\"T_228b07b0_6e93_11ea_a183_705a0f1a5828level0_row12\" class=\"row_heading level0 row12\" >12</th>\n",
       "                        <td id=\"T_228b07b0_6e93_11ea_a183_705a0f1a5828row12_col0\" class=\"data row12 col0\" >Indonesia</td>\n",
       "                        <td id=\"T_228b07b0_6e93_11ea_a183_705a0f1a5828row12_col1\" class=\"data row12 col1\" >48</td>\n",
       "            </tr>\n",
       "            <tr>\n",
       "                        <th id=\"T_228b07b0_6e93_11ea_a183_705a0f1a5828level0_row13\" class=\"row_heading level0 row13\" >13</th>\n",
       "                        <td id=\"T_228b07b0_6e93_11ea_a183_705a0f1a5828row13_col0\" class=\"data row13 col0\" >Japan</td>\n",
       "                        <td id=\"T_228b07b0_6e93_11ea_a183_705a0f1a5828row13_col1\" class=\"data row13 col1\" >40</td>\n",
       "            </tr>\n",
       "            <tr>\n",
       "                        <th id=\"T_228b07b0_6e93_11ea_a183_705a0f1a5828level0_row14\" class=\"row_heading level0 row14\" >14</th>\n",
       "                        <td id=\"T_228b07b0_6e93_11ea_a183_705a0f1a5828row14_col0\" class=\"data row14 col0\" >Turkey</td>\n",
       "                        <td id=\"T_228b07b0_6e93_11ea_a183_705a0f1a5828row14_col1\" class=\"data row14 col1\" >30</td>\n",
       "            </tr>\n",
       "            <tr>\n",
       "                        <th id=\"T_228b07b0_6e93_11ea_a183_705a0f1a5828level0_row15\" class=\"row_heading level0 row15\" >15</th>\n",
       "                        <td id=\"T_228b07b0_6e93_11ea_a183_705a0f1a5828row15_col0\" class=\"data row15 col0\" >Brazil</td>\n",
       "                        <td id=\"T_228b07b0_6e93_11ea_a183_705a0f1a5828row15_col1\" class=\"data row15 col1\" >25</td>\n",
       "            </tr>\n",
       "            <tr>\n",
       "                        <th id=\"T_228b07b0_6e93_11ea_a183_705a0f1a5828level0_row16\" class=\"row_heading level0 row16\" >16</th>\n",
       "                        <td id=\"T_228b07b0_6e93_11ea_a183_705a0f1a5828row16_col0\" class=\"data row16 col0\" >Philippines</td>\n",
       "                        <td id=\"T_228b07b0_6e93_11ea_a183_705a0f1a5828row16_col1\" class=\"data row16 col1\" >25</td>\n",
       "            </tr>\n",
       "            <tr>\n",
       "                        <th id=\"T_228b07b0_6e93_11ea_a183_705a0f1a5828level0_row17\" class=\"row_heading level0 row17\" >17</th>\n",
       "                        <td id=\"T_228b07b0_6e93_11ea_a183_705a0f1a5828row17_col0\" class=\"data row17 col0\" >Sweden</td>\n",
       "                        <td id=\"T_228b07b0_6e93_11ea_a183_705a0f1a5828row17_col1\" class=\"data row17 col1\" >21</td>\n",
       "            </tr>\n",
       "            <tr>\n",
       "                        <th id=\"T_228b07b0_6e93_11ea_a183_705a0f1a5828level0_row18\" class=\"row_heading level0 row18\" >18</th>\n",
       "                        <td id=\"T_228b07b0_6e93_11ea_a183_705a0f1a5828row18_col0\" class=\"data row18 col0\" >Canada</td>\n",
       "                        <td id=\"T_228b07b0_6e93_11ea_a183_705a0f1a5828row18_col1\" class=\"data row18 col1\" >21</td>\n",
       "            </tr>\n",
       "            <tr>\n",
       "                        <th id=\"T_228b07b0_6e93_11ea_a183_705a0f1a5828level0_row19\" class=\"row_heading level0 row19\" >19</th>\n",
       "                        <td id=\"T_228b07b0_6e93_11ea_a183_705a0f1a5828row19_col0\" class=\"data row19 col0\" >San Marino</td>\n",
       "                        <td id=\"T_228b07b0_6e93_11ea_a183_705a0f1a5828row19_col1\" class=\"data row19 col1\" >20</td>\n",
       "            </tr>\n",
       "            <tr>\n",
       "                        <th id=\"T_228b07b0_6e93_11ea_a183_705a0f1a5828level0_row20\" class=\"row_heading level0 row20\" >20</th>\n",
       "                        <td id=\"T_228b07b0_6e93_11ea_a183_705a0f1a5828row20_col0\" class=\"data row20 col0\" >Iraq</td>\n",
       "                        <td id=\"T_228b07b0_6e93_11ea_a183_705a0f1a5828row20_col1\" class=\"data row20 col1\" >20</td>\n",
       "            </tr>\n",
       "            <tr>\n",
       "                        <th id=\"T_228b07b0_6e93_11ea_a183_705a0f1a5828level0_row21\" class=\"row_heading level0 row21\" >21</th>\n",
       "                        <td id=\"T_228b07b0_6e93_11ea_a183_705a0f1a5828row21_col0\" class=\"data row21 col0\" >Algeria</td>\n",
       "                        <td id=\"T_228b07b0_6e93_11ea_a183_705a0f1a5828row21_col1\" class=\"data row21 col1\" >17</td>\n",
       "            </tr>\n",
       "            <tr>\n",
       "                        <th id=\"T_228b07b0_6e93_11ea_a183_705a0f1a5828level0_row22\" class=\"row_heading level0 row22\" >22</th>\n",
       "                        <td id=\"T_228b07b0_6e93_11ea_a183_705a0f1a5828row22_col0\" class=\"data row22 col0\" >Austria</td>\n",
       "                        <td id=\"T_228b07b0_6e93_11ea_a183_705a0f1a5828row22_col1\" class=\"data row22 col1\" >16</td>\n",
       "            </tr>\n",
       "            <tr>\n",
       "                        <th id=\"T_228b07b0_6e93_11ea_a183_705a0f1a5828level0_row23\" class=\"row_heading level0 row23\" >23</th>\n",
       "                        <td id=\"T_228b07b0_6e93_11ea_a183_705a0f1a5828row23_col0\" class=\"data row23 col0\" >Greece</td>\n",
       "                        <td id=\"T_228b07b0_6e93_11ea_a183_705a0f1a5828row23_col1\" class=\"data row23 col1\" >15</td>\n",
       "            </tr>\n",
       "            <tr>\n",
       "                        <th id=\"T_228b07b0_6e93_11ea_a183_705a0f1a5828level0_row24\" class=\"row_heading level0 row24\" >24</th>\n",
       "                        <td id=\"T_228b07b0_6e93_11ea_a183_705a0f1a5828row24_col0\" class=\"data row24 col0\" >Ecuador</td>\n",
       "                        <td id=\"T_228b07b0_6e93_11ea_a183_705a0f1a5828row24_col1\" class=\"data row24 col1\" >14</td>\n",
       "            </tr>\n",
       "            <tr>\n",
       "                        <th id=\"T_228b07b0_6e93_11ea_a183_705a0f1a5828level0_row25\" class=\"row_heading level0 row25\" >25</th>\n",
       "                        <td id=\"T_228b07b0_6e93_11ea_a183_705a0f1a5828row25_col0\" class=\"data row25 col0\" >Egypt</td>\n",
       "                        <td id=\"T_228b07b0_6e93_11ea_a183_705a0f1a5828row25_col1\" class=\"data row25 col1\" >14</td>\n",
       "            </tr>\n",
       "            <tr>\n",
       "                        <th id=\"T_228b07b0_6e93_11ea_a183_705a0f1a5828level0_row26\" class=\"row_heading level0 row26\" >26</th>\n",
       "                        <td id=\"T_228b07b0_6e93_11ea_a183_705a0f1a5828row26_col0\" class=\"data row26 col0\" >Portugal</td>\n",
       "                        <td id=\"T_228b07b0_6e93_11ea_a183_705a0f1a5828row26_col1\" class=\"data row26 col1\" >14</td>\n",
       "            </tr>\n",
       "            <tr>\n",
       "                        <th id=\"T_228b07b0_6e93_11ea_a183_705a0f1a5828level0_row27\" class=\"row_heading level0 row27\" >27</th>\n",
       "                        <td id=\"T_228b07b0_6e93_11ea_a183_705a0f1a5828row27_col0\" class=\"data row27 col0\" >Denmark</td>\n",
       "                        <td id=\"T_228b07b0_6e93_11ea_a183_705a0f1a5828row27_col1\" class=\"data row27 col1\" >13</td>\n",
       "            </tr>\n",
       "            <tr>\n",
       "                        <th id=\"T_228b07b0_6e93_11ea_a183_705a0f1a5828level0_row28\" class=\"row_heading level0 row28\" >28</th>\n",
       "                        <td id=\"T_228b07b0_6e93_11ea_a183_705a0f1a5828row28_col0\" class=\"data row28 col0\" >Malaysia</td>\n",
       "                        <td id=\"T_228b07b0_6e93_11ea_a183_705a0f1a5828row28_col1\" class=\"data row28 col1\" >10</td>\n",
       "            </tr>\n",
       "            <tr>\n",
       "                        <th id=\"T_228b07b0_6e93_11ea_a183_705a0f1a5828level0_row29\" class=\"row_heading level0 row29\" >29</th>\n",
       "                        <td id=\"T_228b07b0_6e93_11ea_a183_705a0f1a5828row29_col0\" class=\"data row29 col0\" >Luxembourg</td>\n",
       "                        <td id=\"T_228b07b0_6e93_11ea_a183_705a0f1a5828row29_col1\" class=\"data row29 col1\" >8</td>\n",
       "            </tr>\n",
       "            <tr>\n",
       "                        <th id=\"T_228b07b0_6e93_11ea_a183_705a0f1a5828level0_row30\" class=\"row_heading level0 row30\" >30</th>\n",
       "                        <td id=\"T_228b07b0_6e93_11ea_a183_705a0f1a5828row30_col0\" class=\"data row30 col0\" >Cruise Ship</td>\n",
       "                        <td id=\"T_228b07b0_6e93_11ea_a183_705a0f1a5828row30_col1\" class=\"data row30 col1\" >8</td>\n",
       "            </tr>\n",
       "            <tr>\n",
       "                        <th id=\"T_228b07b0_6e93_11ea_a183_705a0f1a5828level0_row31\" class=\"row_heading level0 row31\" >31</th>\n",
       "                        <td id=\"T_228b07b0_6e93_11ea_a183_705a0f1a5828row31_col0\" class=\"data row31 col0\" >India</td>\n",
       "                        <td id=\"T_228b07b0_6e93_11ea_a183_705a0f1a5828row31_col1\" class=\"data row31 col1\" >7</td>\n",
       "            </tr>\n",
       "            <tr>\n",
       "                        <th id=\"T_228b07b0_6e93_11ea_a183_705a0f1a5828level0_row32\" class=\"row_heading level0 row32\" >32</th>\n",
       "                        <td id=\"T_228b07b0_6e93_11ea_a183_705a0f1a5828row32_col0\" class=\"data row32 col0\" >Norway</td>\n",
       "                        <td id=\"T_228b07b0_6e93_11ea_a183_705a0f1a5828row32_col1\" class=\"data row32 col1\" >7</td>\n",
       "            </tr>\n",
       "            <tr>\n",
       "                        <th id=\"T_228b07b0_6e93_11ea_a183_705a0f1a5828level0_row33\" class=\"row_heading level0 row33\" >33</th>\n",
       "                        <td id=\"T_228b07b0_6e93_11ea_a183_705a0f1a5828row33_col0\" class=\"data row33 col0\" >Australia</td>\n",
       "                        <td id=\"T_228b07b0_6e93_11ea_a183_705a0f1a5828row33_col1\" class=\"data row33 col1\" >7</td>\n",
       "            </tr>\n",
       "            <tr>\n",
       "                        <th id=\"T_228b07b0_6e93_11ea_a183_705a0f1a5828level0_row34\" class=\"row_heading level0 row34\" >34</th>\n",
       "                        <td id=\"T_228b07b0_6e93_11ea_a183_705a0f1a5828row34_col0\" class=\"data row34 col0\" >Poland</td>\n",
       "                        <td id=\"T_228b07b0_6e93_11ea_a183_705a0f1a5828row34_col1\" class=\"data row34 col1\" >7</td>\n",
       "            </tr>\n",
       "            <tr>\n",
       "                        <th id=\"T_228b07b0_6e93_11ea_a183_705a0f1a5828level0_row35\" class=\"row_heading level0 row35\" >35</th>\n",
       "                        <td id=\"T_228b07b0_6e93_11ea_a183_705a0f1a5828row35_col0\" class=\"data row35 col0\" >Hungary</td>\n",
       "                        <td id=\"T_228b07b0_6e93_11ea_a183_705a0f1a5828row35_col1\" class=\"data row35 col1\" >6</td>\n",
       "            </tr>\n",
       "            <tr>\n",
       "                        <th id=\"T_228b07b0_6e93_11ea_a183_705a0f1a5828level0_row36\" class=\"row_heading level0 row36\" >36</th>\n",
       "                        <td id=\"T_228b07b0_6e93_11ea_a183_705a0f1a5828row36_col0\" class=\"data row36 col0\" >Pakistan</td>\n",
       "                        <td id=\"T_228b07b0_6e93_11ea_a183_705a0f1a5828row36_col1\" class=\"data row36 col1\" >5</td>\n",
       "            </tr>\n",
       "            <tr>\n",
       "                        <th id=\"T_228b07b0_6e93_11ea_a183_705a0f1a5828level0_row37\" class=\"row_heading level0 row37\" >37</th>\n",
       "                        <td id=\"T_228b07b0_6e93_11ea_a183_705a0f1a5828row37_col0\" class=\"data row37 col0\" >Peru</td>\n",
       "                        <td id=\"T_228b07b0_6e93_11ea_a183_705a0f1a5828row37_col1\" class=\"data row37 col1\" >5</td>\n",
       "            </tr>\n",
       "            <tr>\n",
       "                        <th id=\"T_228b07b0_6e93_11ea_a183_705a0f1a5828level0_row38\" class=\"row_heading level0 row38\" >38</th>\n",
       "                        <td id=\"T_228b07b0_6e93_11ea_a183_705a0f1a5828row38_col0\" class=\"data row38 col0\" >Burkina Faso</td>\n",
       "                        <td id=\"T_228b07b0_6e93_11ea_a183_705a0f1a5828row38_col1\" class=\"data row38 col1\" >4</td>\n",
       "            </tr>\n",
       "            <tr>\n",
       "                        <th id=\"T_228b07b0_6e93_11ea_a183_705a0f1a5828level0_row39\" class=\"row_heading level0 row39\" >39</th>\n",
       "                        <td id=\"T_228b07b0_6e93_11ea_a183_705a0f1a5828row39_col0\" class=\"data row39 col0\" >Argentina</td>\n",
       "                        <td id=\"T_228b07b0_6e93_11ea_a183_705a0f1a5828row39_col1\" class=\"data row39 col1\" >4</td>\n",
       "            </tr>\n",
       "            <tr>\n",
       "                        <th id=\"T_228b07b0_6e93_11ea_a183_705a0f1a5828level0_row40\" class=\"row_heading level0 row40\" >40</th>\n",
       "                        <td id=\"T_228b07b0_6e93_11ea_a183_705a0f1a5828row40_col0\" class=\"data row40 col0\" >Morocco</td>\n",
       "                        <td id=\"T_228b07b0_6e93_11ea_a183_705a0f1a5828row40_col1\" class=\"data row40 col1\" >4</td>\n",
       "            </tr>\n",
       "            <tr>\n",
       "                        <th id=\"T_228b07b0_6e93_11ea_a183_705a0f1a5828level0_row41\" class=\"row_heading level0 row41\" >41</th>\n",
       "                        <td id=\"T_228b07b0_6e93_11ea_a183_705a0f1a5828row41_col0\" class=\"data row41 col0\" >Ireland</td>\n",
       "                        <td id=\"T_228b07b0_6e93_11ea_a183_705a0f1a5828row41_col1\" class=\"data row41 col1\" >4</td>\n",
       "            </tr>\n",
       "            <tr>\n",
       "                        <th id=\"T_228b07b0_6e93_11ea_a183_705a0f1a5828level0_row42\" class=\"row_heading level0 row42\" >42</th>\n",
       "                        <td id=\"T_228b07b0_6e93_11ea_a183_705a0f1a5828row42_col0\" class=\"data row42 col0\" >Lebanon</td>\n",
       "                        <td id=\"T_228b07b0_6e93_11ea_a183_705a0f1a5828row42_col1\" class=\"data row42 col1\" >4</td>\n",
       "            </tr>\n",
       "            <tr>\n",
       "                        <th id=\"T_228b07b0_6e93_11ea_a183_705a0f1a5828level0_row43\" class=\"row_heading level0 row43\" >43</th>\n",
       "                        <td id=\"T_228b07b0_6e93_11ea_a183_705a0f1a5828row43_col0\" class=\"data row43 col0\" >Tunisia</td>\n",
       "                        <td id=\"T_228b07b0_6e93_11ea_a183_705a0f1a5828row43_col1\" class=\"data row43 col1\" >3</td>\n",
       "            </tr>\n",
       "            <tr>\n",
       "                        <th id=\"T_228b07b0_6e93_11ea_a183_705a0f1a5828level0_row44\" class=\"row_heading level0 row44\" >44</th>\n",
       "                        <td id=\"T_228b07b0_6e93_11ea_a183_705a0f1a5828row44_col0\" class=\"data row44 col0\" >Romania</td>\n",
       "                        <td id=\"T_228b07b0_6e93_11ea_a183_705a0f1a5828row44_col1\" class=\"data row44 col1\" >3</td>\n",
       "            </tr>\n",
       "            <tr>\n",
       "                        <th id=\"T_228b07b0_6e93_11ea_a183_705a0f1a5828level0_row45\" class=\"row_heading level0 row45\" >45</th>\n",
       "                        <td id=\"T_228b07b0_6e93_11ea_a183_705a0f1a5828row45_col0\" class=\"data row45 col0\" >Dominican Republic</td>\n",
       "                        <td id=\"T_228b07b0_6e93_11ea_a183_705a0f1a5828row45_col1\" class=\"data row45 col1\" >3</td>\n",
       "            </tr>\n",
       "            <tr>\n",
       "                        <th id=\"T_228b07b0_6e93_11ea_a183_705a0f1a5828level0_row46\" class=\"row_heading level0 row46\" >46</th>\n",
       "                        <td id=\"T_228b07b0_6e93_11ea_a183_705a0f1a5828row46_col0\" class=\"data row46 col0\" >Bulgaria</td>\n",
       "                        <td id=\"T_228b07b0_6e93_11ea_a183_705a0f1a5828row46_col1\" class=\"data row46 col1\" >3</td>\n",
       "            </tr>\n",
       "            <tr>\n",
       "                        <th id=\"T_228b07b0_6e93_11ea_a183_705a0f1a5828level0_row47\" class=\"row_heading level0 row47\" >47</th>\n",
       "                        <td id=\"T_228b07b0_6e93_11ea_a183_705a0f1a5828row47_col0\" class=\"data row47 col0\" >Ukraine</td>\n",
       "                        <td id=\"T_228b07b0_6e93_11ea_a183_705a0f1a5828row47_col1\" class=\"data row47 col1\" >3</td>\n",
       "            </tr>\n",
       "            <tr>\n",
       "                        <th id=\"T_228b07b0_6e93_11ea_a183_705a0f1a5828level0_row48\" class=\"row_heading level0 row48\" >48</th>\n",
       "                        <td id=\"T_228b07b0_6e93_11ea_a183_705a0f1a5828row48_col0\" class=\"data row48 col0\" >Panama</td>\n",
       "                        <td id=\"T_228b07b0_6e93_11ea_a183_705a0f1a5828row48_col1\" class=\"data row48 col1\" >3</td>\n",
       "            </tr>\n",
       "            <tr>\n",
       "                        <th id=\"T_228b07b0_6e93_11ea_a183_705a0f1a5828level0_row49\" class=\"row_heading level0 row49\" >49</th>\n",
       "                        <td id=\"T_228b07b0_6e93_11ea_a183_705a0f1a5828row49_col0\" class=\"data row49 col0\" >Albania</td>\n",
       "                        <td id=\"T_228b07b0_6e93_11ea_a183_705a0f1a5828row49_col1\" class=\"data row49 col1\" >2</td>\n",
       "            </tr>\n",
       "            <tr>\n",
       "                        <th id=\"T_228b07b0_6e93_11ea_a183_705a0f1a5828level0_row50\" class=\"row_heading level0 row50\" >50</th>\n",
       "                        <td id=\"T_228b07b0_6e93_11ea_a183_705a0f1a5828row50_col0\" class=\"data row50 col0\" >United Arab Emirates</td>\n",
       "                        <td id=\"T_228b07b0_6e93_11ea_a183_705a0f1a5828row50_col1\" class=\"data row50 col1\" >2</td>\n",
       "            </tr>\n",
       "            <tr>\n",
       "                        <th id=\"T_228b07b0_6e93_11ea_a183_705a0f1a5828level0_row51\" class=\"row_heading level0 row51\" >51</th>\n",
       "                        <td id=\"T_228b07b0_6e93_11ea_a183_705a0f1a5828row51_col0\" class=\"data row51 col0\" >Bangladesh</td>\n",
       "                        <td id=\"T_228b07b0_6e93_11ea_a183_705a0f1a5828row51_col1\" class=\"data row51 col1\" >2</td>\n",
       "            </tr>\n",
       "            <tr>\n",
       "                        <th id=\"T_228b07b0_6e93_11ea_a183_705a0f1a5828level0_row52\" class=\"row_heading level0 row52\" >52</th>\n",
       "                        <td id=\"T_228b07b0_6e93_11ea_a183_705a0f1a5828row52_col0\" class=\"data row52 col0\" >Costa Rica</td>\n",
       "                        <td id=\"T_228b07b0_6e93_11ea_a183_705a0f1a5828row52_col1\" class=\"data row52 col1\" >2</td>\n",
       "            </tr>\n",
       "            <tr>\n",
       "                        <th id=\"T_228b07b0_6e93_11ea_a183_705a0f1a5828level0_row53\" class=\"row_heading level0 row53\" >53</th>\n",
       "                        <td id=\"T_228b07b0_6e93_11ea_a183_705a0f1a5828row53_col0\" class=\"data row53 col0\" >Taiwan</td>\n",
       "                        <td id=\"T_228b07b0_6e93_11ea_a183_705a0f1a5828row53_col1\" class=\"data row53 col1\" >2</td>\n",
       "            </tr>\n",
       "            <tr>\n",
       "                        <th id=\"T_228b07b0_6e93_11ea_a183_705a0f1a5828level0_row54\" class=\"row_heading level0 row54\" >54</th>\n",
       "                        <td id=\"T_228b07b0_6e93_11ea_a183_705a0f1a5828row54_col0\" class=\"data row54 col0\" >Serbia</td>\n",
       "                        <td id=\"T_228b07b0_6e93_11ea_a183_705a0f1a5828row54_col1\" class=\"data row54 col1\" >2</td>\n",
       "            </tr>\n",
       "            <tr>\n",
       "                        <th id=\"T_228b07b0_6e93_11ea_a183_705a0f1a5828level0_row55\" class=\"row_heading level0 row55\" >55</th>\n",
       "                        <td id=\"T_228b07b0_6e93_11ea_a183_705a0f1a5828row55_col0\" class=\"data row55 col0\" >Mexico</td>\n",
       "                        <td id=\"T_228b07b0_6e93_11ea_a183_705a0f1a5828row55_col1\" class=\"data row55 col1\" >2</td>\n",
       "            </tr>\n",
       "            <tr>\n",
       "                        <th id=\"T_228b07b0_6e93_11ea_a183_705a0f1a5828level0_row56\" class=\"row_heading level0 row56\" >56</th>\n",
       "                        <td id=\"T_228b07b0_6e93_11ea_a183_705a0f1a5828row56_col0\" class=\"data row56 col0\" >Colombia</td>\n",
       "                        <td id=\"T_228b07b0_6e93_11ea_a183_705a0f1a5828row56_col1\" class=\"data row56 col1\" >2</td>\n",
       "            </tr>\n",
       "            <tr>\n",
       "                        <th id=\"T_228b07b0_6e93_11ea_a183_705a0f1a5828level0_row57\" class=\"row_heading level0 row57\" >57</th>\n",
       "                        <td id=\"T_228b07b0_6e93_11ea_a183_705a0f1a5828row57_col0\" class=\"data row57 col0\" >Bahrain</td>\n",
       "                        <td id=\"T_228b07b0_6e93_11ea_a183_705a0f1a5828row57_col1\" class=\"data row57 col1\" >2</td>\n",
       "            </tr>\n",
       "            <tr>\n",
       "                        <th id=\"T_228b07b0_6e93_11ea_a183_705a0f1a5828level0_row58\" class=\"row_heading level0 row58\" >58</th>\n",
       "                        <td id=\"T_228b07b0_6e93_11ea_a183_705a0f1a5828row58_col0\" class=\"data row58 col0\" >Slovenia</td>\n",
       "                        <td id=\"T_228b07b0_6e93_11ea_a183_705a0f1a5828row58_col1\" class=\"data row58 col1\" >2</td>\n",
       "            </tr>\n",
       "            <tr>\n",
       "                        <th id=\"T_228b07b0_6e93_11ea_a183_705a0f1a5828level0_row59\" class=\"row_heading level0 row59\" >59</th>\n",
       "                        <td id=\"T_228b07b0_6e93_11ea_a183_705a0f1a5828row59_col0\" class=\"data row59 col0\" >Singapore</td>\n",
       "                        <td id=\"T_228b07b0_6e93_11ea_a183_705a0f1a5828row59_col1\" class=\"data row59 col1\" >2</td>\n",
       "            </tr>\n",
       "            <tr>\n",
       "                        <th id=\"T_228b07b0_6e93_11ea_a183_705a0f1a5828level0_row60\" class=\"row_heading level0 row60\" >60</th>\n",
       "                        <td id=\"T_228b07b0_6e93_11ea_a183_705a0f1a5828row60_col0\" class=\"data row60 col0\" >Guatemala</td>\n",
       "                        <td id=\"T_228b07b0_6e93_11ea_a183_705a0f1a5828row60_col1\" class=\"data row60 col1\" >1</td>\n",
       "            </tr>\n",
       "            <tr>\n",
       "                        <th id=\"T_228b07b0_6e93_11ea_a183_705a0f1a5828level0_row61\" class=\"row_heading level0 row61\" >61</th>\n",
       "                        <td id=\"T_228b07b0_6e93_11ea_a183_705a0f1a5828row61_col0\" class=\"data row61 col0\" >Cuba</td>\n",
       "                        <td id=\"T_228b07b0_6e93_11ea_a183_705a0f1a5828row61_col1\" class=\"data row61 col1\" >1</td>\n",
       "            </tr>\n",
       "            <tr>\n",
       "                        <th id=\"T_228b07b0_6e93_11ea_a183_705a0f1a5828level0_row62\" class=\"row_heading level0 row62\" >62</th>\n",
       "                        <td id=\"T_228b07b0_6e93_11ea_a183_705a0f1a5828row62_col0\" class=\"data row62 col0\" >Congo (Kinshasa)</td>\n",
       "                        <td id=\"T_228b07b0_6e93_11ea_a183_705a0f1a5828row62_col1\" class=\"data row62 col1\" >1</td>\n",
       "            </tr>\n",
       "            <tr>\n",
       "                        <th id=\"T_228b07b0_6e93_11ea_a183_705a0f1a5828level0_row63\" class=\"row_heading level0 row63\" >63</th>\n",
       "                        <td id=\"T_228b07b0_6e93_11ea_a183_705a0f1a5828row63_col0\" class=\"data row63 col0\" >Chile</td>\n",
       "                        <td id=\"T_228b07b0_6e93_11ea_a183_705a0f1a5828row63_col1\" class=\"data row63 col1\" >1</td>\n",
       "            </tr>\n",
       "            <tr>\n",
       "                        <th id=\"T_228b07b0_6e93_11ea_a183_705a0f1a5828level0_row64\" class=\"row_heading level0 row64\" >64</th>\n",
       "                        <td id=\"T_228b07b0_6e93_11ea_a183_705a0f1a5828row64_col0\" class=\"data row64 col0\" >Ghana</td>\n",
       "                        <td id=\"T_228b07b0_6e93_11ea_a183_705a0f1a5828row64_col1\" class=\"data row64 col1\" >1</td>\n",
       "            </tr>\n",
       "            <tr>\n",
       "                        <th id=\"T_228b07b0_6e93_11ea_a183_705a0f1a5828level0_row65\" class=\"row_heading level0 row65\" >65</th>\n",
       "                        <td id=\"T_228b07b0_6e93_11ea_a183_705a0f1a5828row65_col0\" class=\"data row65 col0\" >Paraguay</td>\n",
       "                        <td id=\"T_228b07b0_6e93_11ea_a183_705a0f1a5828row65_col1\" class=\"data row65 col1\" >1</td>\n",
       "            </tr>\n",
       "            <tr>\n",
       "                        <th id=\"T_228b07b0_6e93_11ea_a183_705a0f1a5828level0_row66\" class=\"row_heading level0 row66\" >66</th>\n",
       "                        <td id=\"T_228b07b0_6e93_11ea_a183_705a0f1a5828row66_col0\" class=\"data row66 col0\" >Jamaica</td>\n",
       "                        <td id=\"T_228b07b0_6e93_11ea_a183_705a0f1a5828row66_col1\" class=\"data row66 col1\" >1</td>\n",
       "            </tr>\n",
       "            <tr>\n",
       "                        <th id=\"T_228b07b0_6e93_11ea_a183_705a0f1a5828level0_row67\" class=\"row_heading level0 row67\" >67</th>\n",
       "                        <td id=\"T_228b07b0_6e93_11ea_a183_705a0f1a5828row67_col0\" class=\"data row67 col0\" >Mauritius</td>\n",
       "                        <td id=\"T_228b07b0_6e93_11ea_a183_705a0f1a5828row67_col1\" class=\"data row67 col1\" >1</td>\n",
       "            </tr>\n",
       "            <tr>\n",
       "                        <th id=\"T_228b07b0_6e93_11ea_a183_705a0f1a5828level0_row68\" class=\"row_heading level0 row68\" >68</th>\n",
       "                        <td id=\"T_228b07b0_6e93_11ea_a183_705a0f1a5828row68_col0\" class=\"data row68 col0\" >Afghanistan</td>\n",
       "                        <td id=\"T_228b07b0_6e93_11ea_a183_705a0f1a5828row68_col1\" class=\"data row68 col1\" >1</td>\n",
       "            </tr>\n",
       "            <tr>\n",
       "                        <th id=\"T_228b07b0_6e93_11ea_a183_705a0f1a5828level0_row69\" class=\"row_heading level0 row69\" >69</th>\n",
       "                        <td id=\"T_228b07b0_6e93_11ea_a183_705a0f1a5828row69_col0\" class=\"data row69 col0\" >Guyana</td>\n",
       "                        <td id=\"T_228b07b0_6e93_11ea_a183_705a0f1a5828row69_col1\" class=\"data row69 col1\" >1</td>\n",
       "            </tr>\n",
       "            <tr>\n",
       "                        <th id=\"T_228b07b0_6e93_11ea_a183_705a0f1a5828level0_row70\" class=\"row_heading level0 row70\" >70</th>\n",
       "                        <td id=\"T_228b07b0_6e93_11ea_a183_705a0f1a5828row70_col0\" class=\"data row70 col0\" >Gabon</td>\n",
       "                        <td id=\"T_228b07b0_6e93_11ea_a183_705a0f1a5828row70_col1\" class=\"data row70 col1\" >1</td>\n",
       "            </tr>\n",
       "            <tr>\n",
       "                        <th id=\"T_228b07b0_6e93_11ea_a183_705a0f1a5828level0_row71\" class=\"row_heading level0 row71\" >71</th>\n",
       "                        <td id=\"T_228b07b0_6e93_11ea_a183_705a0f1a5828row71_col0\" class=\"data row71 col0\" >Sudan</td>\n",
       "                        <td id=\"T_228b07b0_6e93_11ea_a183_705a0f1a5828row71_col1\" class=\"data row71 col1\" >1</td>\n",
       "            </tr>\n",
       "            <tr>\n",
       "                        <th id=\"T_228b07b0_6e93_11ea_a183_705a0f1a5828level0_row72\" class=\"row_heading level0 row72\" >72</th>\n",
       "                        <td id=\"T_228b07b0_6e93_11ea_a183_705a0f1a5828row72_col0\" class=\"data row72 col0\" >Guam</td>\n",
       "                        <td id=\"T_228b07b0_6e93_11ea_a183_705a0f1a5828row72_col1\" class=\"data row72 col1\" >1</td>\n",
       "            </tr>\n",
       "            <tr>\n",
       "                        <th id=\"T_228b07b0_6e93_11ea_a183_705a0f1a5828level0_row73\" class=\"row_heading level0 row73\" >73</th>\n",
       "                        <td id=\"T_228b07b0_6e93_11ea_a183_705a0f1a5828row73_col0\" class=\"data row73 col0\" >Martinique</td>\n",
       "                        <td id=\"T_228b07b0_6e93_11ea_a183_705a0f1a5828row73_col1\" class=\"data row73 col1\" >1</td>\n",
       "            </tr>\n",
       "            <tr>\n",
       "                        <th id=\"T_228b07b0_6e93_11ea_a183_705a0f1a5828level0_row74\" class=\"row_heading level0 row74\" >74</th>\n",
       "                        <td id=\"T_228b07b0_6e93_11ea_a183_705a0f1a5828row74_col0\" class=\"data row74 col0\" >Israel</td>\n",
       "                        <td id=\"T_228b07b0_6e93_11ea_a183_705a0f1a5828row74_col1\" class=\"data row74 col1\" >1</td>\n",
       "            </tr>\n",
       "            <tr>\n",
       "                        <th id=\"T_228b07b0_6e93_11ea_a183_705a0f1a5828level0_row75\" class=\"row_heading level0 row75\" >75</th>\n",
       "                        <td id=\"T_228b07b0_6e93_11ea_a183_705a0f1a5828row75_col0\" class=\"data row75 col0\" >Azerbaijan</td>\n",
       "                        <td id=\"T_228b07b0_6e93_11ea_a183_705a0f1a5828row75_col1\" class=\"data row75 col1\" >1</td>\n",
       "            </tr>\n",
       "            <tr>\n",
       "                        <th id=\"T_228b07b0_6e93_11ea_a183_705a0f1a5828level0_row76\" class=\"row_heading level0 row76\" >76</th>\n",
       "                        <td id=\"T_228b07b0_6e93_11ea_a183_705a0f1a5828row76_col0\" class=\"data row76 col0\" >Finland</td>\n",
       "                        <td id=\"T_228b07b0_6e93_11ea_a183_705a0f1a5828row76_col1\" class=\"data row76 col1\" >1</td>\n",
       "            </tr>\n",
       "            <tr>\n",
       "                        <th id=\"T_228b07b0_6e93_11ea_a183_705a0f1a5828level0_row77\" class=\"row_heading level0 row77\" >77</th>\n",
       "                        <td id=\"T_228b07b0_6e93_11ea_a183_705a0f1a5828row77_col0\" class=\"data row77 col0\" >Thailand</td>\n",
       "                        <td id=\"T_228b07b0_6e93_11ea_a183_705a0f1a5828row77_col1\" class=\"data row77 col1\" >1</td>\n",
       "            </tr>\n",
       "            <tr>\n",
       "                        <th id=\"T_228b07b0_6e93_11ea_a183_705a0f1a5828level0_row78\" class=\"row_heading level0 row78\" >78</th>\n",
       "                        <td id=\"T_228b07b0_6e93_11ea_a183_705a0f1a5828row78_col0\" class=\"data row78 col0\" >Iceland</td>\n",
       "                        <td id=\"T_228b07b0_6e93_11ea_a183_705a0f1a5828row78_col1\" class=\"data row78 col1\" >1</td>\n",
       "            </tr>\n",
       "            <tr>\n",
       "                        <th id=\"T_228b07b0_6e93_11ea_a183_705a0f1a5828level0_row79\" class=\"row_heading level0 row79\" >79</th>\n",
       "                        <td id=\"T_228b07b0_6e93_11ea_a183_705a0f1a5828row79_col0\" class=\"data row79 col0\" >Moldova</td>\n",
       "                        <td id=\"T_228b07b0_6e93_11ea_a183_705a0f1a5828row79_col1\" class=\"data row79 col1\" >1</td>\n",
       "            </tr>\n",
       "            <tr>\n",
       "                        <th id=\"T_228b07b0_6e93_11ea_a183_705a0f1a5828level0_row80\" class=\"row_heading level0 row80\" >80</th>\n",
       "                        <td id=\"T_228b07b0_6e93_11ea_a183_705a0f1a5828row80_col0\" class=\"data row80 col0\" >Cyprus</td>\n",
       "                        <td id=\"T_228b07b0_6e93_11ea_a183_705a0f1a5828row80_col1\" class=\"data row80 col1\" >1</td>\n",
       "            </tr>\n",
       "            <tr>\n",
       "                        <th id=\"T_228b07b0_6e93_11ea_a183_705a0f1a5828level0_row81\" class=\"row_heading level0 row81\" >81</th>\n",
       "                        <td id=\"T_228b07b0_6e93_11ea_a183_705a0f1a5828row81_col0\" class=\"data row81 col0\" >Andorra</td>\n",
       "                        <td id=\"T_228b07b0_6e93_11ea_a183_705a0f1a5828row81_col1\" class=\"data row81 col1\" >1</td>\n",
       "            </tr>\n",
       "            <tr>\n",
       "                        <th id=\"T_228b07b0_6e93_11ea_a183_705a0f1a5828level0_row82\" class=\"row_heading level0 row82\" >82</th>\n",
       "                        <td id=\"T_228b07b0_6e93_11ea_a183_705a0f1a5828row82_col0\" class=\"data row82 col0\" >North Macedonia</td>\n",
       "                        <td id=\"T_228b07b0_6e93_11ea_a183_705a0f1a5828row82_col1\" class=\"data row82 col1\" >1</td>\n",
       "            </tr>\n",
       "            <tr>\n",
       "                        <th id=\"T_228b07b0_6e93_11ea_a183_705a0f1a5828level0_row83\" class=\"row_heading level0 row83\" >83</th>\n",
       "                        <td id=\"T_228b07b0_6e93_11ea_a183_705a0f1a5828row83_col0\" class=\"data row83 col0\" >Czechia</td>\n",
       "                        <td id=\"T_228b07b0_6e93_11ea_a183_705a0f1a5828row83_col1\" class=\"data row83 col1\" >1</td>\n",
       "            </tr>\n",
       "            <tr>\n",
       "                        <th id=\"T_228b07b0_6e93_11ea_a183_705a0f1a5828level0_row84\" class=\"row_heading level0 row84\" >84</th>\n",
       "                        <td id=\"T_228b07b0_6e93_11ea_a183_705a0f1a5828row84_col0\" class=\"data row84 col0\" >Bosnia and Herzegovina</td>\n",
       "                        <td id=\"T_228b07b0_6e93_11ea_a183_705a0f1a5828row84_col1\" class=\"data row84 col1\" >1</td>\n",
       "            </tr>\n",
       "            <tr>\n",
       "                        <th id=\"T_228b07b0_6e93_11ea_a183_705a0f1a5828level0_row85\" class=\"row_heading level0 row85\" >85</th>\n",
       "                        <td id=\"T_228b07b0_6e93_11ea_a183_705a0f1a5828row85_col0\" class=\"data row85 col0\" >Lithuania</td>\n",
       "                        <td id=\"T_228b07b0_6e93_11ea_a183_705a0f1a5828row85_col1\" class=\"data row85 col1\" >1</td>\n",
       "            </tr>\n",
       "            <tr>\n",
       "                        <th id=\"T_228b07b0_6e93_11ea_a183_705a0f1a5828level0_row86\" class=\"row_heading level0 row86\" >86</th>\n",
       "                        <td id=\"T_228b07b0_6e93_11ea_a183_705a0f1a5828row86_col0\" class=\"data row86 col0\" >Croatia</td>\n",
       "                        <td id=\"T_228b07b0_6e93_11ea_a183_705a0f1a5828row86_col1\" class=\"data row86 col1\" >1</td>\n",
       "            </tr>\n",
       "            <tr>\n",
       "                        <th id=\"T_228b07b0_6e93_11ea_a183_705a0f1a5828level0_row87\" class=\"row_heading level0 row87\" >87</th>\n",
       "                        <td id=\"T_228b07b0_6e93_11ea_a183_705a0f1a5828row87_col0\" class=\"data row87 col0\" >Slovakia</td>\n",
       "                        <td id=\"T_228b07b0_6e93_11ea_a183_705a0f1a5828row87_col1\" class=\"data row87 col1\" >1</td>\n",
       "            </tr>\n",
       "            <tr>\n",
       "                        <th id=\"T_228b07b0_6e93_11ea_a183_705a0f1a5828level0_row88\" class=\"row_heading level0 row88\" >88</th>\n",
       "                        <td id=\"T_228b07b0_6e93_11ea_a183_705a0f1a5828row88_col0\" class=\"data row88 col0\" >Puerto Rico</td>\n",
       "                        <td id=\"T_228b07b0_6e93_11ea_a183_705a0f1a5828row88_col1\" class=\"data row88 col1\" >1</td>\n",
       "            </tr>\n",
       "    </tbody></table>"
      ],
      "text/plain": [
       "<pandas.io.formats.style.Styler at 0x2b164942188>"
      ]
     },
     "execution_count": 54,
     "metadata": {},
     "output_type": "execute_result"
    }
   ],
   "source": [
    "temp_flg = temp1[temp1['Deaths']>0][['Country/Region', 'Deaths']]\n",
    "temp_flg.sort_values('Deaths', ascending=False).reset_index(drop=True).style.background_gradient(cmap='Reds')"
   ]
  },
  {
   "cell_type": "markdown",
   "metadata": {},
   "source": [
    "### Countries with no cases recovered"
   ]
  },
  {
   "cell_type": "code",
   "execution_count": 55,
   "metadata": {},
   "outputs": [
    {
     "data": {
      "text/html": [
       "<style  type=\"text/css\" >\n",
       "    #T_22a4c55a_6e93_11ea_b7a5_705a0f1a5828row0_col1 {\n",
       "            background-color:  #67000d;\n",
       "            color:  #f1f1f1;\n",
       "        }    #T_22a4c55a_6e93_11ea_b7a5_705a0f1a5828row0_col2 {\n",
       "            background-color:  #67000d;\n",
       "            color:  #f1f1f1;\n",
       "        }    #T_22a4c55a_6e93_11ea_b7a5_705a0f1a5828row0_col3 {\n",
       "            background-color:  #fff5f0;\n",
       "            color:  #000000;\n",
       "        }    #T_22a4c55a_6e93_11ea_b7a5_705a0f1a5828row1_col1 {\n",
       "            background-color:  #fca082;\n",
       "            color:  #000000;\n",
       "        }    #T_22a4c55a_6e93_11ea_b7a5_705a0f1a5828row1_col2 {\n",
       "            background-color:  #feeae0;\n",
       "            color:  #000000;\n",
       "        }    #T_22a4c55a_6e93_11ea_b7a5_705a0f1a5828row1_col3 {\n",
       "            background-color:  #fff5f0;\n",
       "            color:  #000000;\n",
       "        }    #T_22a4c55a_6e93_11ea_b7a5_705a0f1a5828row2_col1 {\n",
       "            background-color:  #fcc4ad;\n",
       "            color:  #000000;\n",
       "        }    #T_22a4c55a_6e93_11ea_b7a5_705a0f1a5828row2_col2 {\n",
       "            background-color:  #fff5f0;\n",
       "            color:  #000000;\n",
       "        }    #T_22a4c55a_6e93_11ea_b7a5_705a0f1a5828row2_col3 {\n",
       "            background-color:  #fff5f0;\n",
       "            color:  #000000;\n",
       "        }    #T_22a4c55a_6e93_11ea_b7a5_705a0f1a5828row3_col1 {\n",
       "            background-color:  #fdcbb6;\n",
       "            color:  #000000;\n",
       "        }    #T_22a4c55a_6e93_11ea_b7a5_705a0f1a5828row3_col2 {\n",
       "            background-color:  #fee5d8;\n",
       "            color:  #000000;\n",
       "        }    #T_22a4c55a_6e93_11ea_b7a5_705a0f1a5828row3_col3 {\n",
       "            background-color:  #fff5f0;\n",
       "            color:  #000000;\n",
       "        }    #T_22a4c55a_6e93_11ea_b7a5_705a0f1a5828row4_col1 {\n",
       "            background-color:  #fdd5c4;\n",
       "            color:  #000000;\n",
       "        }    #T_22a4c55a_6e93_11ea_b7a5_705a0f1a5828row4_col2 {\n",
       "            background-color:  #fee5d8;\n",
       "            color:  #000000;\n",
       "        }    #T_22a4c55a_6e93_11ea_b7a5_705a0f1a5828row4_col3 {\n",
       "            background-color:  #fff5f0;\n",
       "            color:  #000000;\n",
       "        }    #T_22a4c55a_6e93_11ea_b7a5_705a0f1a5828row5_col1 {\n",
       "            background-color:  #fee3d7;\n",
       "            color:  #000000;\n",
       "        }    #T_22a4c55a_6e93_11ea_b7a5_705a0f1a5828row5_col2 {\n",
       "            background-color:  #fff5f0;\n",
       "            color:  #000000;\n",
       "        }    #T_22a4c55a_6e93_11ea_b7a5_705a0f1a5828row5_col3 {\n",
       "            background-color:  #fff5f0;\n",
       "            color:  #000000;\n",
       "        }    #T_22a4c55a_6e93_11ea_b7a5_705a0f1a5828row6_col1 {\n",
       "            background-color:  #ffece4;\n",
       "            color:  #000000;\n",
       "        }    #T_22a4c55a_6e93_11ea_b7a5_705a0f1a5828row6_col2 {\n",
       "            background-color:  #fff5f0;\n",
       "            color:  #000000;\n",
       "        }    #T_22a4c55a_6e93_11ea_b7a5_705a0f1a5828row6_col3 {\n",
       "            background-color:  #fff5f0;\n",
       "            color:  #000000;\n",
       "        }    #T_22a4c55a_6e93_11ea_b7a5_705a0f1a5828row7_col1 {\n",
       "            background-color:  #ffede5;\n",
       "            color:  #000000;\n",
       "        }    #T_22a4c55a_6e93_11ea_b7a5_705a0f1a5828row7_col2 {\n",
       "            background-color:  #fff5f0;\n",
       "            color:  #000000;\n",
       "        }    #T_22a4c55a_6e93_11ea_b7a5_705a0f1a5828row7_col3 {\n",
       "            background-color:  #fff5f0;\n",
       "            color:  #000000;\n",
       "        }    #T_22a4c55a_6e93_11ea_b7a5_705a0f1a5828row8_col1 {\n",
       "            background-color:  #ffeee6;\n",
       "            color:  #000000;\n",
       "        }    #T_22a4c55a_6e93_11ea_b7a5_705a0f1a5828row8_col2 {\n",
       "            background-color:  #fff5f0;\n",
       "            color:  #000000;\n",
       "        }    #T_22a4c55a_6e93_11ea_b7a5_705a0f1a5828row8_col3 {\n",
       "            background-color:  #fff5f0;\n",
       "            color:  #000000;\n",
       "        }    #T_22a4c55a_6e93_11ea_b7a5_705a0f1a5828row9_col1 {\n",
       "            background-color:  #ffefe8;\n",
       "            color:  #000000;\n",
       "        }    #T_22a4c55a_6e93_11ea_b7a5_705a0f1a5828row9_col2 {\n",
       "            background-color:  #fff5f0;\n",
       "            color:  #000000;\n",
       "        }    #T_22a4c55a_6e93_11ea_b7a5_705a0f1a5828row9_col3 {\n",
       "            background-color:  #fff5f0;\n",
       "            color:  #000000;\n",
       "        }    #T_22a4c55a_6e93_11ea_b7a5_705a0f1a5828row10_col1 {\n",
       "            background-color:  #fff0e8;\n",
       "            color:  #000000;\n",
       "        }    #T_22a4c55a_6e93_11ea_b7a5_705a0f1a5828row10_col2 {\n",
       "            background-color:  #fff5f0;\n",
       "            color:  #000000;\n",
       "        }    #T_22a4c55a_6e93_11ea_b7a5_705a0f1a5828row10_col3 {\n",
       "            background-color:  #fff5f0;\n",
       "            color:  #000000;\n",
       "        }    #T_22a4c55a_6e93_11ea_b7a5_705a0f1a5828row11_col1 {\n",
       "            background-color:  #fff0e8;\n",
       "            color:  #000000;\n",
       "        }    #T_22a4c55a_6e93_11ea_b7a5_705a0f1a5828row11_col2 {\n",
       "            background-color:  #fff5f0;\n",
       "            color:  #000000;\n",
       "        }    #T_22a4c55a_6e93_11ea_b7a5_705a0f1a5828row11_col3 {\n",
       "            background-color:  #fff5f0;\n",
       "            color:  #000000;\n",
       "        }    #T_22a4c55a_6e93_11ea_b7a5_705a0f1a5828row12_col1 {\n",
       "            background-color:  #fff0e9;\n",
       "            color:  #000000;\n",
       "        }    #T_22a4c55a_6e93_11ea_b7a5_705a0f1a5828row12_col2 {\n",
       "            background-color:  #fff5f0;\n",
       "            color:  #000000;\n",
       "        }    #T_22a4c55a_6e93_11ea_b7a5_705a0f1a5828row12_col3 {\n",
       "            background-color:  #fff5f0;\n",
       "            color:  #000000;\n",
       "        }    #T_22a4c55a_6e93_11ea_b7a5_705a0f1a5828row13_col1 {\n",
       "            background-color:  #fff0e9;\n",
       "            color:  #000000;\n",
       "        }    #T_22a4c55a_6e93_11ea_b7a5_705a0f1a5828row13_col2 {\n",
       "            background-color:  #fff0e8;\n",
       "            color:  #000000;\n",
       "        }    #T_22a4c55a_6e93_11ea_b7a5_705a0f1a5828row13_col3 {\n",
       "            background-color:  #fff5f0;\n",
       "            color:  #000000;\n",
       "        }    #T_22a4c55a_6e93_11ea_b7a5_705a0f1a5828row14_col1 {\n",
       "            background-color:  #fff0e9;\n",
       "            color:  #000000;\n",
       "        }    #T_22a4c55a_6e93_11ea_b7a5_705a0f1a5828row14_col2 {\n",
       "            background-color:  #fff0e8;\n",
       "            color:  #000000;\n",
       "        }    #T_22a4c55a_6e93_11ea_b7a5_705a0f1a5828row14_col3 {\n",
       "            background-color:  #fff5f0;\n",
       "            color:  #000000;\n",
       "        }    #T_22a4c55a_6e93_11ea_b7a5_705a0f1a5828row15_col1 {\n",
       "            background-color:  #fff1ea;\n",
       "            color:  #000000;\n",
       "        }    #T_22a4c55a_6e93_11ea_b7a5_705a0f1a5828row15_col2 {\n",
       "            background-color:  #fff0e8;\n",
       "            color:  #000000;\n",
       "        }    #T_22a4c55a_6e93_11ea_b7a5_705a0f1a5828row15_col3 {\n",
       "            background-color:  #fff5f0;\n",
       "            color:  #000000;\n",
       "        }    #T_22a4c55a_6e93_11ea_b7a5_705a0f1a5828row16_col1 {\n",
       "            background-color:  #fff2eb;\n",
       "            color:  #000000;\n",
       "        }    #T_22a4c55a_6e93_11ea_b7a5_705a0f1a5828row16_col2 {\n",
       "            background-color:  #fff5f0;\n",
       "            color:  #000000;\n",
       "        }    #T_22a4c55a_6e93_11ea_b7a5_705a0f1a5828row16_col3 {\n",
       "            background-color:  #fff5f0;\n",
       "            color:  #000000;\n",
       "        }    #T_22a4c55a_6e93_11ea_b7a5_705a0f1a5828row17_col1 {\n",
       "            background-color:  #fff2ec;\n",
       "            color:  #000000;\n",
       "        }    #T_22a4c55a_6e93_11ea_b7a5_705a0f1a5828row17_col2 {\n",
       "            background-color:  #fff5f0;\n",
       "            color:  #000000;\n",
       "        }    #T_22a4c55a_6e93_11ea_b7a5_705a0f1a5828row17_col3 {\n",
       "            background-color:  #fff5f0;\n",
       "            color:  #000000;\n",
       "        }    #T_22a4c55a_6e93_11ea_b7a5_705a0f1a5828row18_col1 {\n",
       "            background-color:  #fff2ec;\n",
       "            color:  #000000;\n",
       "        }    #T_22a4c55a_6e93_11ea_b7a5_705a0f1a5828row18_col2 {\n",
       "            background-color:  #fff0e8;\n",
       "            color:  #000000;\n",
       "        }    #T_22a4c55a_6e93_11ea_b7a5_705a0f1a5828row18_col3 {\n",
       "            background-color:  #fff5f0;\n",
       "            color:  #000000;\n",
       "        }    #T_22a4c55a_6e93_11ea_b7a5_705a0f1a5828row19_col1 {\n",
       "            background-color:  #fff2ec;\n",
       "            color:  #000000;\n",
       "        }    #T_22a4c55a_6e93_11ea_b7a5_705a0f1a5828row19_col2 {\n",
       "            background-color:  #fff0e8;\n",
       "            color:  #000000;\n",
       "        }    #T_22a4c55a_6e93_11ea_b7a5_705a0f1a5828row19_col3 {\n",
       "            background-color:  #fff5f0;\n",
       "            color:  #000000;\n",
       "        }    #T_22a4c55a_6e93_11ea_b7a5_705a0f1a5828row20_col1 {\n",
       "            background-color:  #fff2ec;\n",
       "            color:  #000000;\n",
       "        }    #T_22a4c55a_6e93_11ea_b7a5_705a0f1a5828row20_col2 {\n",
       "            background-color:  #fff5f0;\n",
       "            color:  #000000;\n",
       "        }    #T_22a4c55a_6e93_11ea_b7a5_705a0f1a5828row20_col3 {\n",
       "            background-color:  #fff5f0;\n",
       "            color:  #000000;\n",
       "        }    #T_22a4c55a_6e93_11ea_b7a5_705a0f1a5828row21_col1 {\n",
       "            background-color:  #fff3ed;\n",
       "            color:  #000000;\n",
       "        }    #T_22a4c55a_6e93_11ea_b7a5_705a0f1a5828row21_col2 {\n",
       "            background-color:  #fff0e8;\n",
       "            color:  #000000;\n",
       "        }    #T_22a4c55a_6e93_11ea_b7a5_705a0f1a5828row21_col3 {\n",
       "            background-color:  #fff5f0;\n",
       "            color:  #000000;\n",
       "        }    #T_22a4c55a_6e93_11ea_b7a5_705a0f1a5828row22_col1 {\n",
       "            background-color:  #fff3ed;\n",
       "            color:  #000000;\n",
       "        }    #T_22a4c55a_6e93_11ea_b7a5_705a0f1a5828row22_col2 {\n",
       "            background-color:  #fff5f0;\n",
       "            color:  #000000;\n",
       "        }    #T_22a4c55a_6e93_11ea_b7a5_705a0f1a5828row22_col3 {\n",
       "            background-color:  #fff5f0;\n",
       "            color:  #000000;\n",
       "        }    #T_22a4c55a_6e93_11ea_b7a5_705a0f1a5828row23_col1 {\n",
       "            background-color:  #fff3ed;\n",
       "            color:  #000000;\n",
       "        }    #T_22a4c55a_6e93_11ea_b7a5_705a0f1a5828row23_col2 {\n",
       "            background-color:  #fff0e8;\n",
       "            color:  #000000;\n",
       "        }    #T_22a4c55a_6e93_11ea_b7a5_705a0f1a5828row23_col3 {\n",
       "            background-color:  #fff5f0;\n",
       "            color:  #000000;\n",
       "        }    #T_22a4c55a_6e93_11ea_b7a5_705a0f1a5828row24_col1 {\n",
       "            background-color:  #fff3ed;\n",
       "            color:  #000000;\n",
       "        }    #T_22a4c55a_6e93_11ea_b7a5_705a0f1a5828row24_col2 {\n",
       "            background-color:  #fff5f0;\n",
       "            color:  #000000;\n",
       "        }    #T_22a4c55a_6e93_11ea_b7a5_705a0f1a5828row24_col3 {\n",
       "            background-color:  #fff5f0;\n",
       "            color:  #000000;\n",
       "        }    #T_22a4c55a_6e93_11ea_b7a5_705a0f1a5828row25_col1 {\n",
       "            background-color:  #fff4ee;\n",
       "            color:  #000000;\n",
       "        }    #T_22a4c55a_6e93_11ea_b7a5_705a0f1a5828row25_col2 {\n",
       "            background-color:  #fff5f0;\n",
       "            color:  #000000;\n",
       "        }    #T_22a4c55a_6e93_11ea_b7a5_705a0f1a5828row25_col3 {\n",
       "            background-color:  #fff5f0;\n",
       "            color:  #000000;\n",
       "        }    #T_22a4c55a_6e93_11ea_b7a5_705a0f1a5828row26_col1 {\n",
       "            background-color:  #fff4ee;\n",
       "            color:  #000000;\n",
       "        }    #T_22a4c55a_6e93_11ea_b7a5_705a0f1a5828row26_col2 {\n",
       "            background-color:  #fff5f0;\n",
       "            color:  #000000;\n",
       "        }    #T_22a4c55a_6e93_11ea_b7a5_705a0f1a5828row26_col3 {\n",
       "            background-color:  #fff5f0;\n",
       "            color:  #000000;\n",
       "        }    #T_22a4c55a_6e93_11ea_b7a5_705a0f1a5828row27_col1 {\n",
       "            background-color:  #fff4ee;\n",
       "            color:  #000000;\n",
       "        }    #T_22a4c55a_6e93_11ea_b7a5_705a0f1a5828row27_col2 {\n",
       "            background-color:  #fff5f0;\n",
       "            color:  #000000;\n",
       "        }    #T_22a4c55a_6e93_11ea_b7a5_705a0f1a5828row27_col3 {\n",
       "            background-color:  #fff5f0;\n",
       "            color:  #000000;\n",
       "        }    #T_22a4c55a_6e93_11ea_b7a5_705a0f1a5828row28_col1 {\n",
       "            background-color:  #fff4ee;\n",
       "            color:  #000000;\n",
       "        }    #T_22a4c55a_6e93_11ea_b7a5_705a0f1a5828row28_col2 {\n",
       "            background-color:  #fff5f0;\n",
       "            color:  #000000;\n",
       "        }    #T_22a4c55a_6e93_11ea_b7a5_705a0f1a5828row28_col3 {\n",
       "            background-color:  #fff5f0;\n",
       "            color:  #000000;\n",
       "        }    #T_22a4c55a_6e93_11ea_b7a5_705a0f1a5828row29_col1 {\n",
       "            background-color:  #fff4ee;\n",
       "            color:  #000000;\n",
       "        }    #T_22a4c55a_6e93_11ea_b7a5_705a0f1a5828row29_col2 {\n",
       "            background-color:  #fff5f0;\n",
       "            color:  #000000;\n",
       "        }    #T_22a4c55a_6e93_11ea_b7a5_705a0f1a5828row29_col3 {\n",
       "            background-color:  #fff5f0;\n",
       "            color:  #000000;\n",
       "        }    #T_22a4c55a_6e93_11ea_b7a5_705a0f1a5828row30_col1 {\n",
       "            background-color:  #fff4ee;\n",
       "            color:  #000000;\n",
       "        }    #T_22a4c55a_6e93_11ea_b7a5_705a0f1a5828row30_col2 {\n",
       "            background-color:  #fff5f0;\n",
       "            color:  #000000;\n",
       "        }    #T_22a4c55a_6e93_11ea_b7a5_705a0f1a5828row30_col3 {\n",
       "            background-color:  #fff5f0;\n",
       "            color:  #000000;\n",
       "        }    #T_22a4c55a_6e93_11ea_b7a5_705a0f1a5828row31_col1 {\n",
       "            background-color:  #fff4ef;\n",
       "            color:  #000000;\n",
       "        }    #T_22a4c55a_6e93_11ea_b7a5_705a0f1a5828row31_col2 {\n",
       "            background-color:  #fff0e8;\n",
       "            color:  #000000;\n",
       "        }    #T_22a4c55a_6e93_11ea_b7a5_705a0f1a5828row31_col3 {\n",
       "            background-color:  #fff5f0;\n",
       "            color:  #000000;\n",
       "        }    #T_22a4c55a_6e93_11ea_b7a5_705a0f1a5828row32_col1 {\n",
       "            background-color:  #fff4ef;\n",
       "            color:  #000000;\n",
       "        }    #T_22a4c55a_6e93_11ea_b7a5_705a0f1a5828row32_col2 {\n",
       "            background-color:  #fff5f0;\n",
       "            color:  #000000;\n",
       "        }    #T_22a4c55a_6e93_11ea_b7a5_705a0f1a5828row32_col3 {\n",
       "            background-color:  #fff5f0;\n",
       "            color:  #000000;\n",
       "        }    #T_22a4c55a_6e93_11ea_b7a5_705a0f1a5828row33_col1 {\n",
       "            background-color:  #fff4ef;\n",
       "            color:  #000000;\n",
       "        }    #T_22a4c55a_6e93_11ea_b7a5_705a0f1a5828row33_col2 {\n",
       "            background-color:  #fff5f0;\n",
       "            color:  #000000;\n",
       "        }    #T_22a4c55a_6e93_11ea_b7a5_705a0f1a5828row33_col3 {\n",
       "            background-color:  #fff5f0;\n",
       "            color:  #000000;\n",
       "        }    #T_22a4c55a_6e93_11ea_b7a5_705a0f1a5828row34_col1 {\n",
       "            background-color:  #fff4ef;\n",
       "            color:  #000000;\n",
       "        }    #T_22a4c55a_6e93_11ea_b7a5_705a0f1a5828row34_col2 {\n",
       "            background-color:  #fff5f0;\n",
       "            color:  #000000;\n",
       "        }    #T_22a4c55a_6e93_11ea_b7a5_705a0f1a5828row34_col3 {\n",
       "            background-color:  #fff5f0;\n",
       "            color:  #000000;\n",
       "        }    #T_22a4c55a_6e93_11ea_b7a5_705a0f1a5828row35_col1 {\n",
       "            background-color:  #fff4ef;\n",
       "            color:  #000000;\n",
       "        }    #T_22a4c55a_6e93_11ea_b7a5_705a0f1a5828row35_col2 {\n",
       "            background-color:  #fff0e8;\n",
       "            color:  #000000;\n",
       "        }    #T_22a4c55a_6e93_11ea_b7a5_705a0f1a5828row35_col3 {\n",
       "            background-color:  #fff5f0;\n",
       "            color:  #000000;\n",
       "        }    #T_22a4c55a_6e93_11ea_b7a5_705a0f1a5828row36_col1 {\n",
       "            background-color:  #fff5f0;\n",
       "            color:  #000000;\n",
       "        }    #T_22a4c55a_6e93_11ea_b7a5_705a0f1a5828row36_col2 {\n",
       "            background-color:  #fff5f0;\n",
       "            color:  #000000;\n",
       "        }    #T_22a4c55a_6e93_11ea_b7a5_705a0f1a5828row36_col3 {\n",
       "            background-color:  #fff5f0;\n",
       "            color:  #000000;\n",
       "        }    #T_22a4c55a_6e93_11ea_b7a5_705a0f1a5828row37_col1 {\n",
       "            background-color:  #fff5f0;\n",
       "            color:  #000000;\n",
       "        }    #T_22a4c55a_6e93_11ea_b7a5_705a0f1a5828row37_col2 {\n",
       "            background-color:  #fff5f0;\n",
       "            color:  #000000;\n",
       "        }    #T_22a4c55a_6e93_11ea_b7a5_705a0f1a5828row37_col3 {\n",
       "            background-color:  #fff5f0;\n",
       "            color:  #000000;\n",
       "        }    #T_22a4c55a_6e93_11ea_b7a5_705a0f1a5828row38_col1 {\n",
       "            background-color:  #fff5f0;\n",
       "            color:  #000000;\n",
       "        }    #T_22a4c55a_6e93_11ea_b7a5_705a0f1a5828row38_col2 {\n",
       "            background-color:  #fff5f0;\n",
       "            color:  #000000;\n",
       "        }    #T_22a4c55a_6e93_11ea_b7a5_705a0f1a5828row38_col3 {\n",
       "            background-color:  #fff5f0;\n",
       "            color:  #000000;\n",
       "        }    #T_22a4c55a_6e93_11ea_b7a5_705a0f1a5828row39_col1 {\n",
       "            background-color:  #fff5f0;\n",
       "            color:  #000000;\n",
       "        }    #T_22a4c55a_6e93_11ea_b7a5_705a0f1a5828row39_col2 {\n",
       "            background-color:  #fff5f0;\n",
       "            color:  #000000;\n",
       "        }    #T_22a4c55a_6e93_11ea_b7a5_705a0f1a5828row39_col3 {\n",
       "            background-color:  #fff5f0;\n",
       "            color:  #000000;\n",
       "        }    #T_22a4c55a_6e93_11ea_b7a5_705a0f1a5828row40_col1 {\n",
       "            background-color:  #fff5f0;\n",
       "            color:  #000000;\n",
       "        }    #T_22a4c55a_6e93_11ea_b7a5_705a0f1a5828row40_col2 {\n",
       "            background-color:  #fff5f0;\n",
       "            color:  #000000;\n",
       "        }    #T_22a4c55a_6e93_11ea_b7a5_705a0f1a5828row40_col3 {\n",
       "            background-color:  #fff5f0;\n",
       "            color:  #000000;\n",
       "        }    #T_22a4c55a_6e93_11ea_b7a5_705a0f1a5828row41_col1 {\n",
       "            background-color:  #fff5f0;\n",
       "            color:  #000000;\n",
       "        }    #T_22a4c55a_6e93_11ea_b7a5_705a0f1a5828row41_col2 {\n",
       "            background-color:  #fff5f0;\n",
       "            color:  #000000;\n",
       "        }    #T_22a4c55a_6e93_11ea_b7a5_705a0f1a5828row41_col3 {\n",
       "            background-color:  #fff5f0;\n",
       "            color:  #000000;\n",
       "        }    #T_22a4c55a_6e93_11ea_b7a5_705a0f1a5828row42_col1 {\n",
       "            background-color:  #fff5f0;\n",
       "            color:  #000000;\n",
       "        }    #T_22a4c55a_6e93_11ea_b7a5_705a0f1a5828row42_col2 {\n",
       "            background-color:  #fff5f0;\n",
       "            color:  #000000;\n",
       "        }    #T_22a4c55a_6e93_11ea_b7a5_705a0f1a5828row42_col3 {\n",
       "            background-color:  #fff5f0;\n",
       "            color:  #000000;\n",
       "        }    #T_22a4c55a_6e93_11ea_b7a5_705a0f1a5828row43_col1 {\n",
       "            background-color:  #fff5f0;\n",
       "            color:  #000000;\n",
       "        }    #T_22a4c55a_6e93_11ea_b7a5_705a0f1a5828row43_col2 {\n",
       "            background-color:  #fff5f0;\n",
       "            color:  #000000;\n",
       "        }    #T_22a4c55a_6e93_11ea_b7a5_705a0f1a5828row43_col3 {\n",
       "            background-color:  #fff5f0;\n",
       "            color:  #000000;\n",
       "        }    #T_22a4c55a_6e93_11ea_b7a5_705a0f1a5828row44_col1 {\n",
       "            background-color:  #fff5f0;\n",
       "            color:  #000000;\n",
       "        }    #T_22a4c55a_6e93_11ea_b7a5_705a0f1a5828row44_col2 {\n",
       "            background-color:  #fff5f0;\n",
       "            color:  #000000;\n",
       "        }    #T_22a4c55a_6e93_11ea_b7a5_705a0f1a5828row44_col3 {\n",
       "            background-color:  #fff5f0;\n",
       "            color:  #000000;\n",
       "        }    #T_22a4c55a_6e93_11ea_b7a5_705a0f1a5828row45_col1 {\n",
       "            background-color:  #fff5f0;\n",
       "            color:  #000000;\n",
       "        }    #T_22a4c55a_6e93_11ea_b7a5_705a0f1a5828row45_col2 {\n",
       "            background-color:  #fff5f0;\n",
       "            color:  #000000;\n",
       "        }    #T_22a4c55a_6e93_11ea_b7a5_705a0f1a5828row45_col3 {\n",
       "            background-color:  #fff5f0;\n",
       "            color:  #000000;\n",
       "        }    #T_22a4c55a_6e93_11ea_b7a5_705a0f1a5828row46_col1 {\n",
       "            background-color:  #fff5f0;\n",
       "            color:  #000000;\n",
       "        }    #T_22a4c55a_6e93_11ea_b7a5_705a0f1a5828row46_col2 {\n",
       "            background-color:  #fff5f0;\n",
       "            color:  #000000;\n",
       "        }    #T_22a4c55a_6e93_11ea_b7a5_705a0f1a5828row46_col3 {\n",
       "            background-color:  #fff5f0;\n",
       "            color:  #000000;\n",
       "        }    #T_22a4c55a_6e93_11ea_b7a5_705a0f1a5828row47_col1 {\n",
       "            background-color:  #fff5f0;\n",
       "            color:  #000000;\n",
       "        }    #T_22a4c55a_6e93_11ea_b7a5_705a0f1a5828row47_col2 {\n",
       "            background-color:  #fff5f0;\n",
       "            color:  #000000;\n",
       "        }    #T_22a4c55a_6e93_11ea_b7a5_705a0f1a5828row47_col3 {\n",
       "            background-color:  #fff5f0;\n",
       "            color:  #000000;\n",
       "        }    #T_22a4c55a_6e93_11ea_b7a5_705a0f1a5828row48_col1 {\n",
       "            background-color:  #fff5f0;\n",
       "            color:  #000000;\n",
       "        }    #T_22a4c55a_6e93_11ea_b7a5_705a0f1a5828row48_col2 {\n",
       "            background-color:  #fff5f0;\n",
       "            color:  #000000;\n",
       "        }    #T_22a4c55a_6e93_11ea_b7a5_705a0f1a5828row48_col3 {\n",
       "            background-color:  #fff5f0;\n",
       "            color:  #000000;\n",
       "        }    #T_22a4c55a_6e93_11ea_b7a5_705a0f1a5828row49_col1 {\n",
       "            background-color:  #fff5f0;\n",
       "            color:  #000000;\n",
       "        }    #T_22a4c55a_6e93_11ea_b7a5_705a0f1a5828row49_col2 {\n",
       "            background-color:  #fff5f0;\n",
       "            color:  #000000;\n",
       "        }    #T_22a4c55a_6e93_11ea_b7a5_705a0f1a5828row49_col3 {\n",
       "            background-color:  #fff5f0;\n",
       "            color:  #000000;\n",
       "        }    #T_22a4c55a_6e93_11ea_b7a5_705a0f1a5828row50_col1 {\n",
       "            background-color:  #fff5f0;\n",
       "            color:  #000000;\n",
       "        }    #T_22a4c55a_6e93_11ea_b7a5_705a0f1a5828row50_col2 {\n",
       "            background-color:  #fff5f0;\n",
       "            color:  #000000;\n",
       "        }    #T_22a4c55a_6e93_11ea_b7a5_705a0f1a5828row50_col3 {\n",
       "            background-color:  #fff5f0;\n",
       "            color:  #000000;\n",
       "        }    #T_22a4c55a_6e93_11ea_b7a5_705a0f1a5828row51_col1 {\n",
       "            background-color:  #fff5f0;\n",
       "            color:  #000000;\n",
       "        }    #T_22a4c55a_6e93_11ea_b7a5_705a0f1a5828row51_col2 {\n",
       "            background-color:  #fff0e8;\n",
       "            color:  #000000;\n",
       "        }    #T_22a4c55a_6e93_11ea_b7a5_705a0f1a5828row51_col3 {\n",
       "            background-color:  #fff5f0;\n",
       "            color:  #000000;\n",
       "        }    #T_22a4c55a_6e93_11ea_b7a5_705a0f1a5828row52_col1 {\n",
       "            background-color:  #fff5f0;\n",
       "            color:  #000000;\n",
       "        }    #T_22a4c55a_6e93_11ea_b7a5_705a0f1a5828row52_col2 {\n",
       "            background-color:  #fff5f0;\n",
       "            color:  #000000;\n",
       "        }    #T_22a4c55a_6e93_11ea_b7a5_705a0f1a5828row52_col3 {\n",
       "            background-color:  #fff5f0;\n",
       "            color:  #000000;\n",
       "        }    #T_22a4c55a_6e93_11ea_b7a5_705a0f1a5828row53_col1 {\n",
       "            background-color:  #fff5f0;\n",
       "            color:  #000000;\n",
       "        }    #T_22a4c55a_6e93_11ea_b7a5_705a0f1a5828row53_col2 {\n",
       "            background-color:  #fff5f0;\n",
       "            color:  #000000;\n",
       "        }    #T_22a4c55a_6e93_11ea_b7a5_705a0f1a5828row53_col3 {\n",
       "            background-color:  #fff5f0;\n",
       "            color:  #000000;\n",
       "        }    #T_22a4c55a_6e93_11ea_b7a5_705a0f1a5828row54_col1 {\n",
       "            background-color:  #fff5f0;\n",
       "            color:  #000000;\n",
       "        }    #T_22a4c55a_6e93_11ea_b7a5_705a0f1a5828row54_col2 {\n",
       "            background-color:  #fff5f0;\n",
       "            color:  #000000;\n",
       "        }    #T_22a4c55a_6e93_11ea_b7a5_705a0f1a5828row54_col3 {\n",
       "            background-color:  #fff5f0;\n",
       "            color:  #000000;\n",
       "        }    #T_22a4c55a_6e93_11ea_b7a5_705a0f1a5828row55_col1 {\n",
       "            background-color:  #fff5f0;\n",
       "            color:  #000000;\n",
       "        }    #T_22a4c55a_6e93_11ea_b7a5_705a0f1a5828row55_col2 {\n",
       "            background-color:  #fff5f0;\n",
       "            color:  #000000;\n",
       "        }    #T_22a4c55a_6e93_11ea_b7a5_705a0f1a5828row55_col3 {\n",
       "            background-color:  #fff5f0;\n",
       "            color:  #000000;\n",
       "        }    #T_22a4c55a_6e93_11ea_b7a5_705a0f1a5828row56_col1 {\n",
       "            background-color:  #fff5f0;\n",
       "            color:  #000000;\n",
       "        }    #T_22a4c55a_6e93_11ea_b7a5_705a0f1a5828row56_col2 {\n",
       "            background-color:  #fff5f0;\n",
       "            color:  #000000;\n",
       "        }    #T_22a4c55a_6e93_11ea_b7a5_705a0f1a5828row56_col3 {\n",
       "            background-color:  #fff5f0;\n",
       "            color:  #000000;\n",
       "        }    #T_22a4c55a_6e93_11ea_b7a5_705a0f1a5828row57_col1 {\n",
       "            background-color:  #fff5f0;\n",
       "            color:  #000000;\n",
       "        }    #T_22a4c55a_6e93_11ea_b7a5_705a0f1a5828row57_col2 {\n",
       "            background-color:  #fff5f0;\n",
       "            color:  #000000;\n",
       "        }    #T_22a4c55a_6e93_11ea_b7a5_705a0f1a5828row57_col3 {\n",
       "            background-color:  #fff5f0;\n",
       "            color:  #000000;\n",
       "        }    #T_22a4c55a_6e93_11ea_b7a5_705a0f1a5828row58_col1 {\n",
       "            background-color:  #fff5f0;\n",
       "            color:  #000000;\n",
       "        }    #T_22a4c55a_6e93_11ea_b7a5_705a0f1a5828row58_col2 {\n",
       "            background-color:  #fff5f0;\n",
       "            color:  #000000;\n",
       "        }    #T_22a4c55a_6e93_11ea_b7a5_705a0f1a5828row58_col3 {\n",
       "            background-color:  #fff5f0;\n",
       "            color:  #000000;\n",
       "        }    #T_22a4c55a_6e93_11ea_b7a5_705a0f1a5828row59_col1 {\n",
       "            background-color:  #fff5f0;\n",
       "            color:  #000000;\n",
       "        }    #T_22a4c55a_6e93_11ea_b7a5_705a0f1a5828row59_col2 {\n",
       "            background-color:  #fff5f0;\n",
       "            color:  #000000;\n",
       "        }    #T_22a4c55a_6e93_11ea_b7a5_705a0f1a5828row59_col3 {\n",
       "            background-color:  #fff5f0;\n",
       "            color:  #000000;\n",
       "        }    #T_22a4c55a_6e93_11ea_b7a5_705a0f1a5828row60_col1 {\n",
       "            background-color:  #fff5f0;\n",
       "            color:  #000000;\n",
       "        }    #T_22a4c55a_6e93_11ea_b7a5_705a0f1a5828row60_col2 {\n",
       "            background-color:  #fff5f0;\n",
       "            color:  #000000;\n",
       "        }    #T_22a4c55a_6e93_11ea_b7a5_705a0f1a5828row60_col3 {\n",
       "            background-color:  #fff5f0;\n",
       "            color:  #000000;\n",
       "        }    #T_22a4c55a_6e93_11ea_b7a5_705a0f1a5828row61_col1 {\n",
       "            background-color:  #fff5f0;\n",
       "            color:  #000000;\n",
       "        }    #T_22a4c55a_6e93_11ea_b7a5_705a0f1a5828row61_col2 {\n",
       "            background-color:  #fff5f0;\n",
       "            color:  #000000;\n",
       "        }    #T_22a4c55a_6e93_11ea_b7a5_705a0f1a5828row61_col3 {\n",
       "            background-color:  #fff5f0;\n",
       "            color:  #000000;\n",
       "        }    #T_22a4c55a_6e93_11ea_b7a5_705a0f1a5828row62_col1 {\n",
       "            background-color:  #fff5f0;\n",
       "            color:  #000000;\n",
       "        }    #T_22a4c55a_6e93_11ea_b7a5_705a0f1a5828row62_col2 {\n",
       "            background-color:  #fff5f0;\n",
       "            color:  #000000;\n",
       "        }    #T_22a4c55a_6e93_11ea_b7a5_705a0f1a5828row62_col3 {\n",
       "            background-color:  #fff5f0;\n",
       "            color:  #000000;\n",
       "        }    #T_22a4c55a_6e93_11ea_b7a5_705a0f1a5828row63_col1 {\n",
       "            background-color:  #fff5f0;\n",
       "            color:  #000000;\n",
       "        }    #T_22a4c55a_6e93_11ea_b7a5_705a0f1a5828row63_col2 {\n",
       "            background-color:  #fff5f0;\n",
       "            color:  #000000;\n",
       "        }    #T_22a4c55a_6e93_11ea_b7a5_705a0f1a5828row63_col3 {\n",
       "            background-color:  #fff5f0;\n",
       "            color:  #000000;\n",
       "        }    #T_22a4c55a_6e93_11ea_b7a5_705a0f1a5828row64_col1 {\n",
       "            background-color:  #fff5f0;\n",
       "            color:  #000000;\n",
       "        }    #T_22a4c55a_6e93_11ea_b7a5_705a0f1a5828row64_col2 {\n",
       "            background-color:  #fff5f0;\n",
       "            color:  #000000;\n",
       "        }    #T_22a4c55a_6e93_11ea_b7a5_705a0f1a5828row64_col3 {\n",
       "            background-color:  #fff5f0;\n",
       "            color:  #000000;\n",
       "        }    #T_22a4c55a_6e93_11ea_b7a5_705a0f1a5828row65_col1 {\n",
       "            background-color:  #fff5f0;\n",
       "            color:  #000000;\n",
       "        }    #T_22a4c55a_6e93_11ea_b7a5_705a0f1a5828row65_col2 {\n",
       "            background-color:  #fff5f0;\n",
       "            color:  #000000;\n",
       "        }    #T_22a4c55a_6e93_11ea_b7a5_705a0f1a5828row65_col3 {\n",
       "            background-color:  #fff5f0;\n",
       "            color:  #000000;\n",
       "        }    #T_22a4c55a_6e93_11ea_b7a5_705a0f1a5828row66_col1 {\n",
       "            background-color:  #fff5f0;\n",
       "            color:  #000000;\n",
       "        }    #T_22a4c55a_6e93_11ea_b7a5_705a0f1a5828row66_col2 {\n",
       "            background-color:  #fff5f0;\n",
       "            color:  #000000;\n",
       "        }    #T_22a4c55a_6e93_11ea_b7a5_705a0f1a5828row66_col3 {\n",
       "            background-color:  #fff5f0;\n",
       "            color:  #000000;\n",
       "        }    #T_22a4c55a_6e93_11ea_b7a5_705a0f1a5828row67_col1 {\n",
       "            background-color:  #fff5f0;\n",
       "            color:  #000000;\n",
       "        }    #T_22a4c55a_6e93_11ea_b7a5_705a0f1a5828row67_col2 {\n",
       "            background-color:  #fff5f0;\n",
       "            color:  #000000;\n",
       "        }    #T_22a4c55a_6e93_11ea_b7a5_705a0f1a5828row67_col3 {\n",
       "            background-color:  #fff5f0;\n",
       "            color:  #000000;\n",
       "        }    #T_22a4c55a_6e93_11ea_b7a5_705a0f1a5828row68_col1 {\n",
       "            background-color:  #fff5f0;\n",
       "            color:  #000000;\n",
       "        }    #T_22a4c55a_6e93_11ea_b7a5_705a0f1a5828row68_col2 {\n",
       "            background-color:  #fff5f0;\n",
       "            color:  #000000;\n",
       "        }    #T_22a4c55a_6e93_11ea_b7a5_705a0f1a5828row68_col3 {\n",
       "            background-color:  #fff5f0;\n",
       "            color:  #000000;\n",
       "        }    #T_22a4c55a_6e93_11ea_b7a5_705a0f1a5828row69_col1 {\n",
       "            background-color:  #fff5f0;\n",
       "            color:  #000000;\n",
       "        }    #T_22a4c55a_6e93_11ea_b7a5_705a0f1a5828row69_col2 {\n",
       "            background-color:  #fff5f0;\n",
       "            color:  #000000;\n",
       "        }    #T_22a4c55a_6e93_11ea_b7a5_705a0f1a5828row69_col3 {\n",
       "            background-color:  #fff5f0;\n",
       "            color:  #000000;\n",
       "        }    #T_22a4c55a_6e93_11ea_b7a5_705a0f1a5828row70_col1 {\n",
       "            background-color:  #fff5f0;\n",
       "            color:  #000000;\n",
       "        }    #T_22a4c55a_6e93_11ea_b7a5_705a0f1a5828row70_col2 {\n",
       "            background-color:  #fff5f0;\n",
       "            color:  #000000;\n",
       "        }    #T_22a4c55a_6e93_11ea_b7a5_705a0f1a5828row70_col3 {\n",
       "            background-color:  #fff5f0;\n",
       "            color:  #000000;\n",
       "        }    #T_22a4c55a_6e93_11ea_b7a5_705a0f1a5828row71_col1 {\n",
       "            background-color:  #fff5f0;\n",
       "            color:  #000000;\n",
       "        }    #T_22a4c55a_6e93_11ea_b7a5_705a0f1a5828row71_col2 {\n",
       "            background-color:  #fff5f0;\n",
       "            color:  #000000;\n",
       "        }    #T_22a4c55a_6e93_11ea_b7a5_705a0f1a5828row71_col3 {\n",
       "            background-color:  #fff5f0;\n",
       "            color:  #000000;\n",
       "        }    #T_22a4c55a_6e93_11ea_b7a5_705a0f1a5828row72_col1 {\n",
       "            background-color:  #fff5f0;\n",
       "            color:  #000000;\n",
       "        }    #T_22a4c55a_6e93_11ea_b7a5_705a0f1a5828row72_col2 {\n",
       "            background-color:  #fff5f0;\n",
       "            color:  #000000;\n",
       "        }    #T_22a4c55a_6e93_11ea_b7a5_705a0f1a5828row72_col3 {\n",
       "            background-color:  #fff5f0;\n",
       "            color:  #000000;\n",
       "        }    #T_22a4c55a_6e93_11ea_b7a5_705a0f1a5828row73_col1 {\n",
       "            background-color:  #fff5f0;\n",
       "            color:  #000000;\n",
       "        }    #T_22a4c55a_6e93_11ea_b7a5_705a0f1a5828row73_col2 {\n",
       "            background-color:  #fff5f0;\n",
       "            color:  #000000;\n",
       "        }    #T_22a4c55a_6e93_11ea_b7a5_705a0f1a5828row73_col3 {\n",
       "            background-color:  #fff5f0;\n",
       "            color:  #000000;\n",
       "        }    #T_22a4c55a_6e93_11ea_b7a5_705a0f1a5828row74_col1 {\n",
       "            background-color:  #fff5f0;\n",
       "            color:  #000000;\n",
       "        }    #T_22a4c55a_6e93_11ea_b7a5_705a0f1a5828row74_col2 {\n",
       "            background-color:  #fff0e8;\n",
       "            color:  #000000;\n",
       "        }    #T_22a4c55a_6e93_11ea_b7a5_705a0f1a5828row74_col3 {\n",
       "            background-color:  #fff5f0;\n",
       "            color:  #000000;\n",
       "        }    #T_22a4c55a_6e93_11ea_b7a5_705a0f1a5828row75_col1 {\n",
       "            background-color:  #fff5f0;\n",
       "            color:  #000000;\n",
       "        }    #T_22a4c55a_6e93_11ea_b7a5_705a0f1a5828row75_col2 {\n",
       "            background-color:  #fff5f0;\n",
       "            color:  #000000;\n",
       "        }    #T_22a4c55a_6e93_11ea_b7a5_705a0f1a5828row75_col3 {\n",
       "            background-color:  #fff5f0;\n",
       "            color:  #000000;\n",
       "        }    #T_22a4c55a_6e93_11ea_b7a5_705a0f1a5828row76_col1 {\n",
       "            background-color:  #fff5f0;\n",
       "            color:  #000000;\n",
       "        }    #T_22a4c55a_6e93_11ea_b7a5_705a0f1a5828row76_col2 {\n",
       "            background-color:  #fff5f0;\n",
       "            color:  #000000;\n",
       "        }    #T_22a4c55a_6e93_11ea_b7a5_705a0f1a5828row76_col3 {\n",
       "            background-color:  #fff5f0;\n",
       "            color:  #000000;\n",
       "        }    #T_22a4c55a_6e93_11ea_b7a5_705a0f1a5828row77_col1 {\n",
       "            background-color:  #fff5f0;\n",
       "            color:  #000000;\n",
       "        }    #T_22a4c55a_6e93_11ea_b7a5_705a0f1a5828row77_col2 {\n",
       "            background-color:  #fff5f0;\n",
       "            color:  #000000;\n",
       "        }    #T_22a4c55a_6e93_11ea_b7a5_705a0f1a5828row77_col3 {\n",
       "            background-color:  #fff5f0;\n",
       "            color:  #000000;\n",
       "        }    #T_22a4c55a_6e93_11ea_b7a5_705a0f1a5828row78_col1 {\n",
       "            background-color:  #fff5f0;\n",
       "            color:  #000000;\n",
       "        }    #T_22a4c55a_6e93_11ea_b7a5_705a0f1a5828row78_col2 {\n",
       "            background-color:  #fff5f0;\n",
       "            color:  #000000;\n",
       "        }    #T_22a4c55a_6e93_11ea_b7a5_705a0f1a5828row78_col3 {\n",
       "            background-color:  #fff5f0;\n",
       "            color:  #000000;\n",
       "        }    #T_22a4c55a_6e93_11ea_b7a5_705a0f1a5828row79_col1 {\n",
       "            background-color:  #fff5f0;\n",
       "            color:  #000000;\n",
       "        }    #T_22a4c55a_6e93_11ea_b7a5_705a0f1a5828row79_col2 {\n",
       "            background-color:  #fff5f0;\n",
       "            color:  #000000;\n",
       "        }    #T_22a4c55a_6e93_11ea_b7a5_705a0f1a5828row79_col3 {\n",
       "            background-color:  #fff5f0;\n",
       "            color:  #000000;\n",
       "        }    #T_22a4c55a_6e93_11ea_b7a5_705a0f1a5828row80_col1 {\n",
       "            background-color:  #fff5f0;\n",
       "            color:  #000000;\n",
       "        }    #T_22a4c55a_6e93_11ea_b7a5_705a0f1a5828row80_col2 {\n",
       "            background-color:  #fff0e8;\n",
       "            color:  #000000;\n",
       "        }    #T_22a4c55a_6e93_11ea_b7a5_705a0f1a5828row80_col3 {\n",
       "            background-color:  #fff5f0;\n",
       "            color:  #000000;\n",
       "        }    #T_22a4c55a_6e93_11ea_b7a5_705a0f1a5828row81_col1 {\n",
       "            background-color:  #fff5f0;\n",
       "            color:  #000000;\n",
       "        }    #T_22a4c55a_6e93_11ea_b7a5_705a0f1a5828row81_col2 {\n",
       "            background-color:  #fff5f0;\n",
       "            color:  #000000;\n",
       "        }    #T_22a4c55a_6e93_11ea_b7a5_705a0f1a5828row81_col3 {\n",
       "            background-color:  #fff5f0;\n",
       "            color:  #000000;\n",
       "        }    #T_22a4c55a_6e93_11ea_b7a5_705a0f1a5828row82_col1 {\n",
       "            background-color:  #fff5f0;\n",
       "            color:  #000000;\n",
       "        }    #T_22a4c55a_6e93_11ea_b7a5_705a0f1a5828row82_col2 {\n",
       "            background-color:  #fff5f0;\n",
       "            color:  #000000;\n",
       "        }    #T_22a4c55a_6e93_11ea_b7a5_705a0f1a5828row82_col3 {\n",
       "            background-color:  #fff5f0;\n",
       "            color:  #000000;\n",
       "        }    #T_22a4c55a_6e93_11ea_b7a5_705a0f1a5828row83_col1 {\n",
       "            background-color:  #fff5f0;\n",
       "            color:  #000000;\n",
       "        }    #T_22a4c55a_6e93_11ea_b7a5_705a0f1a5828row83_col2 {\n",
       "            background-color:  #fff5f0;\n",
       "            color:  #000000;\n",
       "        }    #T_22a4c55a_6e93_11ea_b7a5_705a0f1a5828row83_col3 {\n",
       "            background-color:  #fff5f0;\n",
       "            color:  #000000;\n",
       "        }</style><table id=\"T_22a4c55a_6e93_11ea_b7a5_705a0f1a5828\" ><thead>    <tr>        <th class=\"blank level0\" ></th>        <th class=\"col_heading level0 col0\" >Country/Region</th>        <th class=\"col_heading level0 col1\" >Confirmed</th>        <th class=\"col_heading level0 col2\" >Deaths</th>        <th class=\"col_heading level0 col3\" >Recovered</th>    </tr></thead><tbody>\n",
       "                <tr>\n",
       "                        <th id=\"T_22a4c55a_6e93_11ea_b7a5_705a0f1a5828level0_row0\" class=\"row_heading level0 row0\" >0</th>\n",
       "                        <td id=\"T_22a4c55a_6e93_11ea_b7a5_705a0f1a5828row0_col0\" class=\"data row0 col0\" >Turkey</td>\n",
       "                        <td id=\"T_22a4c55a_6e93_11ea_b7a5_705a0f1a5828row0_col1\" class=\"data row0 col1\" >1236</td>\n",
       "                        <td id=\"T_22a4c55a_6e93_11ea_b7a5_705a0f1a5828row0_col2\" class=\"data row0 col2\" >30</td>\n",
       "                        <td id=\"T_22a4c55a_6e93_11ea_b7a5_705a0f1a5828row0_col3\" class=\"data row0 col3\" >0</td>\n",
       "            </tr>\n",
       "            <tr>\n",
       "                        <th id=\"T_22a4c55a_6e93_11ea_b7a5_705a0f1a5828level0_row1\" class=\"row_heading level0 row1\" >1</th>\n",
       "                        <td id=\"T_22a4c55a_6e93_11ea_b7a5_705a0f1a5828row1_col0\" class=\"data row1 col0\" >Slovenia</td>\n",
       "                        <td id=\"T_22a4c55a_6e93_11ea_b7a5_705a0f1a5828row1_col1\" class=\"data row1 col1\" >414</td>\n",
       "                        <td id=\"T_22a4c55a_6e93_11ea_b7a5_705a0f1a5828row1_col2\" class=\"data row1 col2\" >2</td>\n",
       "                        <td id=\"T_22a4c55a_6e93_11ea_b7a5_705a0f1a5828row1_col3\" class=\"data row1 col3\" >0</td>\n",
       "            </tr>\n",
       "            <tr>\n",
       "                        <th id=\"T_22a4c55a_6e93_11ea_b7a5_705a0f1a5828level0_row2\" class=\"row_heading level0 row2\" >2</th>\n",
       "                        <td id=\"T_22a4c55a_6e93_11ea_b7a5_705a0f1a5828row2_col0\" class=\"data row2 col0\" >South Africa</td>\n",
       "                        <td id=\"T_22a4c55a_6e93_11ea_b7a5_705a0f1a5828row2_col1\" class=\"data row2 col1\" >274</td>\n",
       "                        <td id=\"T_22a4c55a_6e93_11ea_b7a5_705a0f1a5828row2_col2\" class=\"data row2 col2\" >0</td>\n",
       "                        <td id=\"T_22a4c55a_6e93_11ea_b7a5_705a0f1a5828row2_col3\" class=\"data row2 col3\" >0</td>\n",
       "            </tr>\n",
       "            <tr>\n",
       "                        <th id=\"T_22a4c55a_6e93_11ea_b7a5_705a0f1a5828level0_row3\" class=\"row_heading level0 row3\" >3</th>\n",
       "                        <td id=\"T_22a4c55a_6e93_11ea_b7a5_705a0f1a5828row3_col0\" class=\"data row3 col0\" >Panama</td>\n",
       "                        <td id=\"T_22a4c55a_6e93_11ea_b7a5_705a0f1a5828row3_col1\" class=\"data row3 col1\" >245</td>\n",
       "                        <td id=\"T_22a4c55a_6e93_11ea_b7a5_705a0f1a5828row3_col2\" class=\"data row3 col2\" >3</td>\n",
       "                        <td id=\"T_22a4c55a_6e93_11ea_b7a5_705a0f1a5828row3_col3\" class=\"data row3 col3\" >0</td>\n",
       "            </tr>\n",
       "            <tr>\n",
       "                        <th id=\"T_22a4c55a_6e93_11ea_b7a5_705a0f1a5828level0_row4\" class=\"row_heading level0 row4\" >4</th>\n",
       "                        <td id=\"T_22a4c55a_6e93_11ea_b7a5_705a0f1a5828row4_col0\" class=\"data row4 col0\" >Dominican Republic</td>\n",
       "                        <td id=\"T_22a4c55a_6e93_11ea_b7a5_705a0f1a5828row4_col1\" class=\"data row4 col1\" >202</td>\n",
       "                        <td id=\"T_22a4c55a_6e93_11ea_b7a5_705a0f1a5828row4_col2\" class=\"data row4 col2\" >3</td>\n",
       "                        <td id=\"T_22a4c55a_6e93_11ea_b7a5_705a0f1a5828row4_col3\" class=\"data row4 col3\" >0</td>\n",
       "            </tr>\n",
       "            <tr>\n",
       "                        <th id=\"T_22a4c55a_6e93_11ea_b7a5_705a0f1a5828level0_row5\" class=\"row_heading level0 row5\" >5</th>\n",
       "                        <td id=\"T_22a4c55a_6e93_11ea_b7a5_705a0f1a5828row5_col0\" class=\"data row5 col0\" >Uruguay</td>\n",
       "                        <td id=\"T_22a4c55a_6e93_11ea_b7a5_705a0f1a5828row5_col1\" class=\"data row5 col1\" >135</td>\n",
       "                        <td id=\"T_22a4c55a_6e93_11ea_b7a5_705a0f1a5828row5_col2\" class=\"data row5 col2\" >0</td>\n",
       "                        <td id=\"T_22a4c55a_6e93_11ea_b7a5_705a0f1a5828row5_col3\" class=\"data row5 col3\" >0</td>\n",
       "            </tr>\n",
       "            <tr>\n",
       "                        <th id=\"T_22a4c55a_6e93_11ea_b7a5_705a0f1a5828level0_row6\" class=\"row_heading level0 row6\" >6</th>\n",
       "                        <td id=\"T_22a4c55a_6e93_11ea_b7a5_705a0f1a5828row6_col0\" class=\"data row6 col0\" >New Zealand</td>\n",
       "                        <td id=\"T_22a4c55a_6e93_11ea_b7a5_705a0f1a5828row6_col1\" class=\"data row6 col1\" >66</td>\n",
       "                        <td id=\"T_22a4c55a_6e93_11ea_b7a5_705a0f1a5828row6_col2\" class=\"data row6 col2\" >0</td>\n",
       "                        <td id=\"T_22a4c55a_6e93_11ea_b7a5_705a0f1a5828row6_col3\" class=\"data row6 col3\" >0</td>\n",
       "            </tr>\n",
       "            <tr>\n",
       "                        <th id=\"T_22a4c55a_6e93_11ea_b7a5_705a0f1a5828level0_row7\" class=\"row_heading level0 row7\" >7</th>\n",
       "                        <td id=\"T_22a4c55a_6e93_11ea_b7a5_705a0f1a5828row7_col0\" class=\"data row7 col0\" >Kazakhstan</td>\n",
       "                        <td id=\"T_22a4c55a_6e93_11ea_b7a5_705a0f1a5828row7_col1\" class=\"data row7 col1\" >60</td>\n",
       "                        <td id=\"T_22a4c55a_6e93_11ea_b7a5_705a0f1a5828row7_col2\" class=\"data row7 col2\" >0</td>\n",
       "                        <td id=\"T_22a4c55a_6e93_11ea_b7a5_705a0f1a5828row7_col3\" class=\"data row7 col3\" >0</td>\n",
       "            </tr>\n",
       "            <tr>\n",
       "                        <th id=\"T_22a4c55a_6e93_11ea_b7a5_705a0f1a5828level0_row8\" class=\"row_heading level0 row8\" >8</th>\n",
       "                        <td id=\"T_22a4c55a_6e93_11ea_b7a5_705a0f1a5828row8_col0\" class=\"data row8 col0\" >Guadeloupe</td>\n",
       "                        <td id=\"T_22a4c55a_6e93_11ea_b7a5_705a0f1a5828row8_col1\" class=\"data row8 col1\" >56</td>\n",
       "                        <td id=\"T_22a4c55a_6e93_11ea_b7a5_705a0f1a5828row8_col2\" class=\"data row8 col2\" >0</td>\n",
       "                        <td id=\"T_22a4c55a_6e93_11ea_b7a5_705a0f1a5828row8_col3\" class=\"data row8 col3\" >0</td>\n",
       "            </tr>\n",
       "            <tr>\n",
       "                        <th id=\"T_22a4c55a_6e93_11ea_b7a5_705a0f1a5828level0_row9\" class=\"row_heading level0 row9\" >9</th>\n",
       "                        <td id=\"T_22a4c55a_6e93_11ea_b7a5_705a0f1a5828row9_col0\" class=\"data row9 col0\" >Reunion</td>\n",
       "                        <td id=\"T_22a4c55a_6e93_11ea_b7a5_705a0f1a5828row9_col1\" class=\"data row9 col1\" >47</td>\n",
       "                        <td id=\"T_22a4c55a_6e93_11ea_b7a5_705a0f1a5828row9_col2\" class=\"data row9 col2\" >0</td>\n",
       "                        <td id=\"T_22a4c55a_6e93_11ea_b7a5_705a0f1a5828row9_col3\" class=\"data row9 col3\" >0</td>\n",
       "            </tr>\n",
       "            <tr>\n",
       "                        <th id=\"T_22a4c55a_6e93_11ea_b7a5_705a0f1a5828level0_row10\" class=\"row_heading level0 row10\" >10</th>\n",
       "                        <td id=\"T_22a4c55a_6e93_11ea_b7a5_705a0f1a5828row10_col0\" class=\"data row10 col0\" >Uzbekistan</td>\n",
       "                        <td id=\"T_22a4c55a_6e93_11ea_b7a5_705a0f1a5828row10_col1\" class=\"data row10 col1\" >43</td>\n",
       "                        <td id=\"T_22a4c55a_6e93_11ea_b7a5_705a0f1a5828row10_col2\" class=\"data row10 col2\" >0</td>\n",
       "                        <td id=\"T_22a4c55a_6e93_11ea_b7a5_705a0f1a5828row10_col3\" class=\"data row10 col3\" >0</td>\n",
       "            </tr>\n",
       "            <tr>\n",
       "                        <th id=\"T_22a4c55a_6e93_11ea_b7a5_705a0f1a5828level0_row11\" class=\"row_heading level0 row11\" >11</th>\n",
       "                        <td id=\"T_22a4c55a_6e93_11ea_b7a5_705a0f1a5828row11_col0\" class=\"data row11 col0\" >Cameroon</td>\n",
       "                        <td id=\"T_22a4c55a_6e93_11ea_b7a5_705a0f1a5828row11_col1\" class=\"data row11 col1\" >40</td>\n",
       "                        <td id=\"T_22a4c55a_6e93_11ea_b7a5_705a0f1a5828row11_col2\" class=\"data row11 col2\" >0</td>\n",
       "                        <td id=\"T_22a4c55a_6e93_11ea_b7a5_705a0f1a5828row11_col3\" class=\"data row11 col3\" >0</td>\n",
       "            </tr>\n",
       "            <tr>\n",
       "                        <th id=\"T_22a4c55a_6e93_11ea_b7a5_705a0f1a5828level0_row12\" class=\"row_heading level0 row12\" >12</th>\n",
       "                        <td id=\"T_22a4c55a_6e93_11ea_b7a5_705a0f1a5828row12_col0\" class=\"data row12 col0\" >Liechtenstein</td>\n",
       "                        <td id=\"T_22a4c55a_6e93_11ea_b7a5_705a0f1a5828row12_col1\" class=\"data row12 col1\" >37</td>\n",
       "                        <td id=\"T_22a4c55a_6e93_11ea_b7a5_705a0f1a5828row12_col2\" class=\"data row12 col2\" >0</td>\n",
       "                        <td id=\"T_22a4c55a_6e93_11ea_b7a5_705a0f1a5828row12_col3\" class=\"data row12 col3\" >0</td>\n",
       "            </tr>\n",
       "            <tr>\n",
       "                        <th id=\"T_22a4c55a_6e93_11ea_b7a5_705a0f1a5828level0_row13\" class=\"row_heading level0 row13\" >13</th>\n",
       "                        <td id=\"T_22a4c55a_6e93_11ea_b7a5_705a0f1a5828row13_col0\" class=\"data row13 col0\" >Martinique</td>\n",
       "                        <td id=\"T_22a4c55a_6e93_11ea_b7a5_705a0f1a5828row13_col1\" class=\"data row13 col1\" >37</td>\n",
       "                        <td id=\"T_22a4c55a_6e93_11ea_b7a5_705a0f1a5828row13_col2\" class=\"data row13 col2\" >1</td>\n",
       "                        <td id=\"T_22a4c55a_6e93_11ea_b7a5_705a0f1a5828row13_col3\" class=\"data row13 col3\" >0</td>\n",
       "            </tr>\n",
       "            <tr>\n",
       "                        <th id=\"T_22a4c55a_6e93_11ea_b7a5_705a0f1a5828level0_row14\" class=\"row_heading level0 row14\" >14</th>\n",
       "                        <td id=\"T_22a4c55a_6e93_11ea_b7a5_705a0f1a5828row14_col0\" class=\"data row14 col0\" >Cuba</td>\n",
       "                        <td id=\"T_22a4c55a_6e93_11ea_b7a5_705a0f1a5828row14_col1\" class=\"data row14 col1\" >35</td>\n",
       "                        <td id=\"T_22a4c55a_6e93_11ea_b7a5_705a0f1a5828row14_col2\" class=\"data row14 col2\" >1</td>\n",
       "                        <td id=\"T_22a4c55a_6e93_11ea_b7a5_705a0f1a5828row14_col3\" class=\"data row14 col3\" >0</td>\n",
       "            </tr>\n",
       "            <tr>\n",
       "                        <th id=\"T_22a4c55a_6e93_11ea_b7a5_705a0f1a5828level0_row15\" class=\"row_heading level0 row15\" >15</th>\n",
       "                        <td id=\"T_22a4c55a_6e93_11ea_b7a5_705a0f1a5828row15_col0\" class=\"data row15 col0\" >Congo (Kinshasa)</td>\n",
       "                        <td id=\"T_22a4c55a_6e93_11ea_b7a5_705a0f1a5828row15_col1\" class=\"data row15 col1\" >30</td>\n",
       "                        <td id=\"T_22a4c55a_6e93_11ea_b7a5_705a0f1a5828row15_col2\" class=\"data row15 col2\" >1</td>\n",
       "                        <td id=\"T_22a4c55a_6e93_11ea_b7a5_705a0f1a5828row15_col3\" class=\"data row15 col3\" >0</td>\n",
       "            </tr>\n",
       "            <tr>\n",
       "                        <th id=\"T_22a4c55a_6e93_11ea_b7a5_705a0f1a5828level0_row16\" class=\"row_heading level0 row16\" >16</th>\n",
       "                        <td id=\"T_22a4c55a_6e93_11ea_b7a5_705a0f1a5828row16_col0\" class=\"data row16 col0\" >Honduras</td>\n",
       "                        <td id=\"T_22a4c55a_6e93_11ea_b7a5_705a0f1a5828row16_col1\" class=\"data row16 col1\" >26</td>\n",
       "                        <td id=\"T_22a4c55a_6e93_11ea_b7a5_705a0f1a5828row16_col2\" class=\"data row16 col2\" >0</td>\n",
       "                        <td id=\"T_22a4c55a_6e93_11ea_b7a5_705a0f1a5828row16_col3\" class=\"data row16 col3\" >0</td>\n",
       "            </tr>\n",
       "            <tr>\n",
       "                        <th id=\"T_22a4c55a_6e93_11ea_b7a5_705a0f1a5828level0_row17\" class=\"row_heading level0 row17\" >17</th>\n",
       "                        <td id=\"T_22a4c55a_6e93_11ea_b7a5_705a0f1a5828row17_col0\" class=\"data row17 col0\" >Bolivia</td>\n",
       "                        <td id=\"T_22a4c55a_6e93_11ea_b7a5_705a0f1a5828row17_col1\" class=\"data row17 col1\" >24</td>\n",
       "                        <td id=\"T_22a4c55a_6e93_11ea_b7a5_705a0f1a5828row17_col2\" class=\"data row17 col2\" >0</td>\n",
       "                        <td id=\"T_22a4c55a_6e93_11ea_b7a5_705a0f1a5828row17_col3\" class=\"data row17 col3\" >0</td>\n",
       "            </tr>\n",
       "            <tr>\n",
       "                        <th id=\"T_22a4c55a_6e93_11ea_b7a5_705a0f1a5828level0_row18\" class=\"row_heading level0 row18\" >18</th>\n",
       "                        <td id=\"T_22a4c55a_6e93_11ea_b7a5_705a0f1a5828row18_col0\" class=\"data row18 col0\" >Ghana</td>\n",
       "                        <td id=\"T_22a4c55a_6e93_11ea_b7a5_705a0f1a5828row18_col1\" class=\"data row18 col1\" >24</td>\n",
       "                        <td id=\"T_22a4c55a_6e93_11ea_b7a5_705a0f1a5828row18_col2\" class=\"data row18 col2\" >1</td>\n",
       "                        <td id=\"T_22a4c55a_6e93_11ea_b7a5_705a0f1a5828row18_col3\" class=\"data row18 col3\" >0</td>\n",
       "            </tr>\n",
       "            <tr>\n",
       "                        <th id=\"T_22a4c55a_6e93_11ea_b7a5_705a0f1a5828level0_row19\" class=\"row_heading level0 row19\" >19</th>\n",
       "                        <td id=\"T_22a4c55a_6e93_11ea_b7a5_705a0f1a5828row19_col0\" class=\"data row19 col0\" >Paraguay</td>\n",
       "                        <td id=\"T_22a4c55a_6e93_11ea_b7a5_705a0f1a5828row19_col1\" class=\"data row19 col1\" >22</td>\n",
       "                        <td id=\"T_22a4c55a_6e93_11ea_b7a5_705a0f1a5828row19_col2\" class=\"data row19 col2\" >1</td>\n",
       "                        <td id=\"T_22a4c55a_6e93_11ea_b7a5_705a0f1a5828row19_col3\" class=\"data row19 col3\" >0</td>\n",
       "            </tr>\n",
       "            <tr>\n",
       "                        <th id=\"T_22a4c55a_6e93_11ea_b7a5_705a0f1a5828level0_row20\" class=\"row_heading level0 row20\" >20</th>\n",
       "                        <td id=\"T_22a4c55a_6e93_11ea_b7a5_705a0f1a5828row20_col0\" class=\"data row20 col0\" >Montenegro</td>\n",
       "                        <td id=\"T_22a4c55a_6e93_11ea_b7a5_705a0f1a5828row20_col1\" class=\"data row20 col1\" >21</td>\n",
       "                        <td id=\"T_22a4c55a_6e93_11ea_b7a5_705a0f1a5828row20_col2\" class=\"data row20 col2\" >0</td>\n",
       "                        <td id=\"T_22a4c55a_6e93_11ea_b7a5_705a0f1a5828row20_col3\" class=\"data row20 col3\" >0</td>\n",
       "            </tr>\n",
       "            <tr>\n",
       "                        <th id=\"T_22a4c55a_6e93_11ea_b7a5_705a0f1a5828level0_row21\" class=\"row_heading level0 row21\" >21</th>\n",
       "                        <td id=\"T_22a4c55a_6e93_11ea_b7a5_705a0f1a5828row21_col0\" class=\"data row21 col0\" >Guatemala</td>\n",
       "                        <td id=\"T_22a4c55a_6e93_11ea_b7a5_705a0f1a5828row21_col1\" class=\"data row21 col1\" >19</td>\n",
       "                        <td id=\"T_22a4c55a_6e93_11ea_b7a5_705a0f1a5828row21_col2\" class=\"data row21 col2\" >1</td>\n",
       "                        <td id=\"T_22a4c55a_6e93_11ea_b7a5_705a0f1a5828row21_col3\" class=\"data row21 col3\" >0</td>\n",
       "            </tr>\n",
       "            <tr>\n",
       "                        <th id=\"T_22a4c55a_6e93_11ea_b7a5_705a0f1a5828level0_row22\" class=\"row_heading level0 row22\" >22</th>\n",
       "                        <td id=\"T_22a4c55a_6e93_11ea_b7a5_705a0f1a5828row22_col0\" class=\"data row22 col0\" >Rwanda</td>\n",
       "                        <td id=\"T_22a4c55a_6e93_11ea_b7a5_705a0f1a5828row22_col1\" class=\"data row22 col1\" >19</td>\n",
       "                        <td id=\"T_22a4c55a_6e93_11ea_b7a5_705a0f1a5828row22_col2\" class=\"data row22 col2\" >0</td>\n",
       "                        <td id=\"T_22a4c55a_6e93_11ea_b7a5_705a0f1a5828row22_col3\" class=\"data row22 col3\" >0</td>\n",
       "            </tr>\n",
       "            <tr>\n",
       "                        <th id=\"T_22a4c55a_6e93_11ea_b7a5_705a0f1a5828level0_row23\" class=\"row_heading level0 row23\" >23</th>\n",
       "                        <td id=\"T_22a4c55a_6e93_11ea_b7a5_705a0f1a5828row23_col0\" class=\"data row23 col0\" >Mauritius</td>\n",
       "                        <td id=\"T_22a4c55a_6e93_11ea_b7a5_705a0f1a5828row23_col1\" class=\"data row23 col1\" >18</td>\n",
       "                        <td id=\"T_22a4c55a_6e93_11ea_b7a5_705a0f1a5828row23_col2\" class=\"data row23 col2\" >1</td>\n",
       "                        <td id=\"T_22a4c55a_6e93_11ea_b7a5_705a0f1a5828row23_col3\" class=\"data row23 col3\" >0</td>\n",
       "            </tr>\n",
       "            <tr>\n",
       "                        <th id=\"T_22a4c55a_6e93_11ea_b7a5_705a0f1a5828level0_row24\" class=\"row_heading level0 row24\" >24</th>\n",
       "                        <td id=\"T_22a4c55a_6e93_11ea_b7a5_705a0f1a5828row24_col0\" class=\"data row24 col0\" >Kenya</td>\n",
       "                        <td id=\"T_22a4c55a_6e93_11ea_b7a5_705a0f1a5828row24_col1\" class=\"data row24 col1\" >15</td>\n",
       "                        <td id=\"T_22a4c55a_6e93_11ea_b7a5_705a0f1a5828row24_col2\" class=\"data row24 col2\" >0</td>\n",
       "                        <td id=\"T_22a4c55a_6e93_11ea_b7a5_705a0f1a5828row24_col3\" class=\"data row24 col3\" >0</td>\n",
       "            </tr>\n",
       "            <tr>\n",
       "                        <th id=\"T_22a4c55a_6e93_11ea_b7a5_705a0f1a5828level0_row25\" class=\"row_heading level0 row25\" >25</th>\n",
       "                        <td id=\"T_22a4c55a_6e93_11ea_b7a5_705a0f1a5828row25_col0\" class=\"data row25 col0\" >Kyrgyzstan</td>\n",
       "                        <td id=\"T_22a4c55a_6e93_11ea_b7a5_705a0f1a5828row25_col1\" class=\"data row25 col1\" >14</td>\n",
       "                        <td id=\"T_22a4c55a_6e93_11ea_b7a5_705a0f1a5828row25_col2\" class=\"data row25 col2\" >0</td>\n",
       "                        <td id=\"T_22a4c55a_6e93_11ea_b7a5_705a0f1a5828row25_col3\" class=\"data row25 col3\" >0</td>\n",
       "            </tr>\n",
       "            <tr>\n",
       "                        <th id=\"T_22a4c55a_6e93_11ea_b7a5_705a0f1a5828level0_row26\" class=\"row_heading level0 row26\" >26</th>\n",
       "                        <td id=\"T_22a4c55a_6e93_11ea_b7a5_705a0f1a5828row26_col0\" class=\"data row26 col0\" >Barbados</td>\n",
       "                        <td id=\"T_22a4c55a_6e93_11ea_b7a5_705a0f1a5828row26_col1\" class=\"data row26 col1\" >14</td>\n",
       "                        <td id=\"T_22a4c55a_6e93_11ea_b7a5_705a0f1a5828row26_col2\" class=\"data row26 col2\" >0</td>\n",
       "                        <td id=\"T_22a4c55a_6e93_11ea_b7a5_705a0f1a5828row26_col3\" class=\"data row26 col3\" >0</td>\n",
       "            </tr>\n",
       "            <tr>\n",
       "                        <th id=\"T_22a4c55a_6e93_11ea_b7a5_705a0f1a5828level0_row27\" class=\"row_heading level0 row27\" >27</th>\n",
       "                        <td id=\"T_22a4c55a_6e93_11ea_b7a5_705a0f1a5828row27_col0\" class=\"data row27 col0\" >Maldives</td>\n",
       "                        <td id=\"T_22a4c55a_6e93_11ea_b7a5_705a0f1a5828row27_col1\" class=\"data row27 col1\" >13</td>\n",
       "                        <td id=\"T_22a4c55a_6e93_11ea_b7a5_705a0f1a5828row27_col2\" class=\"data row27 col2\" >0</td>\n",
       "                        <td id=\"T_22a4c55a_6e93_11ea_b7a5_705a0f1a5828row27_col3\" class=\"data row27 col3\" >0</td>\n",
       "            </tr>\n",
       "            <tr>\n",
       "                        <th id=\"T_22a4c55a_6e93_11ea_b7a5_705a0f1a5828level0_row28\" class=\"row_heading level0 row28\" >28</th>\n",
       "                        <td id=\"T_22a4c55a_6e93_11ea_b7a5_705a0f1a5828row28_col0\" class=\"data row28 col0\" >Tanzania</td>\n",
       "                        <td id=\"T_22a4c55a_6e93_11ea_b7a5_705a0f1a5828row28_col1\" class=\"data row28 col1\" >12</td>\n",
       "                        <td id=\"T_22a4c55a_6e93_11ea_b7a5_705a0f1a5828row28_col2\" class=\"data row28 col2\" >0</td>\n",
       "                        <td id=\"T_22a4c55a_6e93_11ea_b7a5_705a0f1a5828row28_col3\" class=\"data row28 col3\" >0</td>\n",
       "            </tr>\n",
       "            <tr>\n",
       "                        <th id=\"T_22a4c55a_6e93_11ea_b7a5_705a0f1a5828level0_row29\" class=\"row_heading level0 row29\" >29</th>\n",
       "                        <td id=\"T_22a4c55a_6e93_11ea_b7a5_705a0f1a5828row29_col0\" class=\"data row29 col0\" >Mayotte</td>\n",
       "                        <td id=\"T_22a4c55a_6e93_11ea_b7a5_705a0f1a5828row29_col1\" class=\"data row29 col1\" >11</td>\n",
       "                        <td id=\"T_22a4c55a_6e93_11ea_b7a5_705a0f1a5828row29_col2\" class=\"data row29 col2\" >0</td>\n",
       "                        <td id=\"T_22a4c55a_6e93_11ea_b7a5_705a0f1a5828row29_col3\" class=\"data row29 col3\" >0</td>\n",
       "            </tr>\n",
       "            <tr>\n",
       "                        <th id=\"T_22a4c55a_6e93_11ea_b7a5_705a0f1a5828level0_row30\" class=\"row_heading level0 row30\" >30</th>\n",
       "                        <td id=\"T_22a4c55a_6e93_11ea_b7a5_705a0f1a5828row30_col0\" class=\"data row30 col0\" >Mongolia</td>\n",
       "                        <td id=\"T_22a4c55a_6e93_11ea_b7a5_705a0f1a5828row30_col1\" class=\"data row30 col1\" >10</td>\n",
       "                        <td id=\"T_22a4c55a_6e93_11ea_b7a5_705a0f1a5828row30_col2\" class=\"data row30 col2\" >0</td>\n",
       "                        <td id=\"T_22a4c55a_6e93_11ea_b7a5_705a0f1a5828row30_col3\" class=\"data row30 col3\" >0</td>\n",
       "            </tr>\n",
       "            <tr>\n",
       "                        <th id=\"T_22a4c55a_6e93_11ea_b7a5_705a0f1a5828level0_row31\" class=\"row_heading level0 row31\" >31</th>\n",
       "                        <td id=\"T_22a4c55a_6e93_11ea_b7a5_705a0f1a5828row31_col0\" class=\"data row31 col0\" >Guyana</td>\n",
       "                        <td id=\"T_22a4c55a_6e93_11ea_b7a5_705a0f1a5828row31_col1\" class=\"data row31 col1\" >7</td>\n",
       "                        <td id=\"T_22a4c55a_6e93_11ea_b7a5_705a0f1a5828row31_col2\" class=\"data row31 col2\" >1</td>\n",
       "                        <td id=\"T_22a4c55a_6e93_11ea_b7a5_705a0f1a5828row31_col3\" class=\"data row31 col3\" >0</td>\n",
       "            </tr>\n",
       "            <tr>\n",
       "                        <th id=\"T_22a4c55a_6e93_11ea_b7a5_705a0f1a5828level0_row32\" class=\"row_heading level0 row32\" >32</th>\n",
       "                        <td id=\"T_22a4c55a_6e93_11ea_b7a5_705a0f1a5828row32_col0\" class=\"data row32 col0\" >Seychelles</td>\n",
       "                        <td id=\"T_22a4c55a_6e93_11ea_b7a5_705a0f1a5828row32_col1\" class=\"data row32 col1\" >7</td>\n",
       "                        <td id=\"T_22a4c55a_6e93_11ea_b7a5_705a0f1a5828row32_col2\" class=\"data row32 col2\" >0</td>\n",
       "                        <td id=\"T_22a4c55a_6e93_11ea_b7a5_705a0f1a5828row32_col3\" class=\"data row32 col3\" >0</td>\n",
       "            </tr>\n",
       "            <tr>\n",
       "                        <th id=\"T_22a4c55a_6e93_11ea_b7a5_705a0f1a5828level0_row33\" class=\"row_heading level0 row33\" >33</th>\n",
       "                        <td id=\"T_22a4c55a_6e93_11ea_b7a5_705a0f1a5828row33_col0\" class=\"data row33 col0\" >Equatorial Guinea</td>\n",
       "                        <td id=\"T_22a4c55a_6e93_11ea_b7a5_705a0f1a5828row33_col1\" class=\"data row33 col1\" >6</td>\n",
       "                        <td id=\"T_22a4c55a_6e93_11ea_b7a5_705a0f1a5828row33_col2\" class=\"data row33 col2\" >0</td>\n",
       "                        <td id=\"T_22a4c55a_6e93_11ea_b7a5_705a0f1a5828row33_col3\" class=\"data row33 col3\" >0</td>\n",
       "            </tr>\n",
       "            <tr>\n",
       "                        <th id=\"T_22a4c55a_6e93_11ea_b7a5_705a0f1a5828level0_row34\" class=\"row_heading level0 row34\" >34</th>\n",
       "                        <td id=\"T_22a4c55a_6e93_11ea_b7a5_705a0f1a5828row34_col0\" class=\"data row34 col0\" >Suriname</td>\n",
       "                        <td id=\"T_22a4c55a_6e93_11ea_b7a5_705a0f1a5828row34_col1\" class=\"data row34 col1\" >5</td>\n",
       "                        <td id=\"T_22a4c55a_6e93_11ea_b7a5_705a0f1a5828row34_col2\" class=\"data row34 col2\" >0</td>\n",
       "                        <td id=\"T_22a4c55a_6e93_11ea_b7a5_705a0f1a5828row34_col3\" class=\"data row34 col3\" >0</td>\n",
       "            </tr>\n",
       "            <tr>\n",
       "                        <th id=\"T_22a4c55a_6e93_11ea_b7a5_705a0f1a5828level0_row35\" class=\"row_heading level0 row35\" >35</th>\n",
       "                        <td id=\"T_22a4c55a_6e93_11ea_b7a5_705a0f1a5828row35_col0\" class=\"data row35 col0\" >Gabon</td>\n",
       "                        <td id=\"T_22a4c55a_6e93_11ea_b7a5_705a0f1a5828row35_col1\" class=\"data row35 col1\" >5</td>\n",
       "                        <td id=\"T_22a4c55a_6e93_11ea_b7a5_705a0f1a5828row35_col2\" class=\"data row35 col2\" >1</td>\n",
       "                        <td id=\"T_22a4c55a_6e93_11ea_b7a5_705a0f1a5828row35_col3\" class=\"data row35 col3\" >0</td>\n",
       "            </tr>\n",
       "            <tr>\n",
       "                        <th id=\"T_22a4c55a_6e93_11ea_b7a5_705a0f1a5828level0_row36\" class=\"row_heading level0 row36\" >36</th>\n",
       "                        <td id=\"T_22a4c55a_6e93_11ea_b7a5_705a0f1a5828row36_col0\" class=\"data row36 col0\" >Eswatini</td>\n",
       "                        <td id=\"T_22a4c55a_6e93_11ea_b7a5_705a0f1a5828row36_col1\" class=\"data row36 col1\" >4</td>\n",
       "                        <td id=\"T_22a4c55a_6e93_11ea_b7a5_705a0f1a5828row36_col2\" class=\"data row36 col2\" >0</td>\n",
       "                        <td id=\"T_22a4c55a_6e93_11ea_b7a5_705a0f1a5828row36_col3\" class=\"data row36 col3\" >0</td>\n",
       "            </tr>\n",
       "            <tr>\n",
       "                        <th id=\"T_22a4c55a_6e93_11ea_b7a5_705a0f1a5828level0_row37\" class=\"row_heading level0 row37\" >37</th>\n",
       "                        <td id=\"T_22a4c55a_6e93_11ea_b7a5_705a0f1a5828row37_col0\" class=\"data row37 col0\" >Bahamas, The</td>\n",
       "                        <td id=\"T_22a4c55a_6e93_11ea_b7a5_705a0f1a5828row37_col1\" class=\"data row37 col1\" >4</td>\n",
       "                        <td id=\"T_22a4c55a_6e93_11ea_b7a5_705a0f1a5828row37_col2\" class=\"data row37 col2\" >0</td>\n",
       "                        <td id=\"T_22a4c55a_6e93_11ea_b7a5_705a0f1a5828row37_col3\" class=\"data row37 col3\" >0</td>\n",
       "            </tr>\n",
       "            <tr>\n",
       "                        <th id=\"T_22a4c55a_6e93_11ea_b7a5_705a0f1a5828level0_row38\" class=\"row_heading level0 row38\" >38</th>\n",
       "                        <td id=\"T_22a4c55a_6e93_11ea_b7a5_705a0f1a5828row38_col0\" class=\"data row38 col0\" >Congo (Brazzaville)</td>\n",
       "                        <td id=\"T_22a4c55a_6e93_11ea_b7a5_705a0f1a5828row38_col1\" class=\"data row38 col1\" >3</td>\n",
       "                        <td id=\"T_22a4c55a_6e93_11ea_b7a5_705a0f1a5828row38_col2\" class=\"data row38 col2\" >0</td>\n",
       "                        <td id=\"T_22a4c55a_6e93_11ea_b7a5_705a0f1a5828row38_col3\" class=\"data row38 col3\" >0</td>\n",
       "            </tr>\n",
       "            <tr>\n",
       "                        <th id=\"T_22a4c55a_6e93_11ea_b7a5_705a0f1a5828level0_row39\" class=\"row_heading level0 row39\" >39</th>\n",
       "                        <td id=\"T_22a4c55a_6e93_11ea_b7a5_705a0f1a5828row39_col0\" class=\"data row39 col0\" >Zambia</td>\n",
       "                        <td id=\"T_22a4c55a_6e93_11ea_b7a5_705a0f1a5828row39_col1\" class=\"data row39 col1\" >3</td>\n",
       "                        <td id=\"T_22a4c55a_6e93_11ea_b7a5_705a0f1a5828row39_col2\" class=\"data row39 col2\" >0</td>\n",
       "                        <td id=\"T_22a4c55a_6e93_11ea_b7a5_705a0f1a5828row39_col3\" class=\"data row39 col3\" >0</td>\n",
       "            </tr>\n",
       "            <tr>\n",
       "                        <th id=\"T_22a4c55a_6e93_11ea_b7a5_705a0f1a5828level0_row40\" class=\"row_heading level0 row40\" >40</th>\n",
       "                        <td id=\"T_22a4c55a_6e93_11ea_b7a5_705a0f1a5828row40_col0\" class=\"data row40 col0\" >Madagascar</td>\n",
       "                        <td id=\"T_22a4c55a_6e93_11ea_b7a5_705a0f1a5828row40_col1\" class=\"data row40 col1\" >3</td>\n",
       "                        <td id=\"T_22a4c55a_6e93_11ea_b7a5_705a0f1a5828row40_col2\" class=\"data row40 col2\" >0</td>\n",
       "                        <td id=\"T_22a4c55a_6e93_11ea_b7a5_705a0f1a5828row40_col3\" class=\"data row40 col3\" >0</td>\n",
       "            </tr>\n",
       "            <tr>\n",
       "                        <th id=\"T_22a4c55a_6e93_11ea_b7a5_705a0f1a5828level0_row41\" class=\"row_heading level0 row41\" >41</th>\n",
       "                        <td id=\"T_22a4c55a_6e93_11ea_b7a5_705a0f1a5828row41_col0\" class=\"data row41 col0\" >Cabo Verde</td>\n",
       "                        <td id=\"T_22a4c55a_6e93_11ea_b7a5_705a0f1a5828row41_col1\" class=\"data row41 col1\" >3</td>\n",
       "                        <td id=\"T_22a4c55a_6e93_11ea_b7a5_705a0f1a5828row41_col2\" class=\"data row41 col2\" >0</td>\n",
       "                        <td id=\"T_22a4c55a_6e93_11ea_b7a5_705a0f1a5828row41_col3\" class=\"data row41 col3\" >0</td>\n",
       "            </tr>\n",
       "            <tr>\n",
       "                        <th id=\"T_22a4c55a_6e93_11ea_b7a5_705a0f1a5828level0_row42\" class=\"row_heading level0 row42\" >42</th>\n",
       "                        <td id=\"T_22a4c55a_6e93_11ea_b7a5_705a0f1a5828row42_col0\" class=\"data row42 col0\" >Central African Republic</td>\n",
       "                        <td id=\"T_22a4c55a_6e93_11ea_b7a5_705a0f1a5828row42_col1\" class=\"data row42 col1\" >3</td>\n",
       "                        <td id=\"T_22a4c55a_6e93_11ea_b7a5_705a0f1a5828row42_col2\" class=\"data row42 col2\" >0</td>\n",
       "                        <td id=\"T_22a4c55a_6e93_11ea_b7a5_705a0f1a5828row42_col3\" class=\"data row42 col3\" >0</td>\n",
       "            </tr>\n",
       "            <tr>\n",
       "                        <th id=\"T_22a4c55a_6e93_11ea_b7a5_705a0f1a5828level0_row43\" class=\"row_heading level0 row43\" >43</th>\n",
       "                        <td id=\"T_22a4c55a_6e93_11ea_b7a5_705a0f1a5828row43_col0\" class=\"data row43 col0\" >El Salvador</td>\n",
       "                        <td id=\"T_22a4c55a_6e93_11ea_b7a5_705a0f1a5828row43_col1\" class=\"data row43 col1\" >3</td>\n",
       "                        <td id=\"T_22a4c55a_6e93_11ea_b7a5_705a0f1a5828row43_col2\" class=\"data row43 col2\" >0</td>\n",
       "                        <td id=\"T_22a4c55a_6e93_11ea_b7a5_705a0f1a5828row43_col3\" class=\"data row43 col3\" >0</td>\n",
       "            </tr>\n",
       "            <tr>\n",
       "                        <th id=\"T_22a4c55a_6e93_11ea_b7a5_705a0f1a5828level0_row44\" class=\"row_heading level0 row44\" >44</th>\n",
       "                        <td id=\"T_22a4c55a_6e93_11ea_b7a5_705a0f1a5828row44_col0\" class=\"data row44 col0\" >Zimbabwe</td>\n",
       "                        <td id=\"T_22a4c55a_6e93_11ea_b7a5_705a0f1a5828row44_col1\" class=\"data row44 col1\" >3</td>\n",
       "                        <td id=\"T_22a4c55a_6e93_11ea_b7a5_705a0f1a5828row44_col2\" class=\"data row44 col2\" >0</td>\n",
       "                        <td id=\"T_22a4c55a_6e93_11ea_b7a5_705a0f1a5828row44_col3\" class=\"data row44 col3\" >0</td>\n",
       "            </tr>\n",
       "            <tr>\n",
       "                        <th id=\"T_22a4c55a_6e93_11ea_b7a5_705a0f1a5828level0_row45\" class=\"row_heading level0 row45\" >45</th>\n",
       "                        <td id=\"T_22a4c55a_6e93_11ea_b7a5_705a0f1a5828row45_col0\" class=\"data row45 col0\" >Liberia</td>\n",
       "                        <td id=\"T_22a4c55a_6e93_11ea_b7a5_705a0f1a5828row45_col1\" class=\"data row45 col1\" >3</td>\n",
       "                        <td id=\"T_22a4c55a_6e93_11ea_b7a5_705a0f1a5828row45_col2\" class=\"data row45 col2\" >0</td>\n",
       "                        <td id=\"T_22a4c55a_6e93_11ea_b7a5_705a0f1a5828row45_col3\" class=\"data row45 col3\" >0</td>\n",
       "            </tr>\n",
       "            <tr>\n",
       "                        <th id=\"T_22a4c55a_6e93_11ea_b7a5_705a0f1a5828level0_row46\" class=\"row_heading level0 row46\" >46</th>\n",
       "                        <td id=\"T_22a4c55a_6e93_11ea_b7a5_705a0f1a5828row46_col0\" class=\"data row46 col0\" >Namibia</td>\n",
       "                        <td id=\"T_22a4c55a_6e93_11ea_b7a5_705a0f1a5828row46_col1\" class=\"data row46 col1\" >3</td>\n",
       "                        <td id=\"T_22a4c55a_6e93_11ea_b7a5_705a0f1a5828row46_col2\" class=\"data row46 col2\" >0</td>\n",
       "                        <td id=\"T_22a4c55a_6e93_11ea_b7a5_705a0f1a5828row46_col3\" class=\"data row46 col3\" >0</td>\n",
       "            </tr>\n",
       "            <tr>\n",
       "                        <th id=\"T_22a4c55a_6e93_11ea_b7a5_705a0f1a5828level0_row47\" class=\"row_heading level0 row47\" >47</th>\n",
       "                        <td id=\"T_22a4c55a_6e93_11ea_b7a5_705a0f1a5828row47_col0\" class=\"data row47 col0\" >Saint Lucia</td>\n",
       "                        <td id=\"T_22a4c55a_6e93_11ea_b7a5_705a0f1a5828row47_col1\" class=\"data row47 col1\" >2</td>\n",
       "                        <td id=\"T_22a4c55a_6e93_11ea_b7a5_705a0f1a5828row47_col2\" class=\"data row47 col2\" >0</td>\n",
       "                        <td id=\"T_22a4c55a_6e93_11ea_b7a5_705a0f1a5828row47_col3\" class=\"data row47 col3\" >0</td>\n",
       "            </tr>\n",
       "            <tr>\n",
       "                        <th id=\"T_22a4c55a_6e93_11ea_b7a5_705a0f1a5828level0_row48\" class=\"row_heading level0 row48\" >48</th>\n",
       "                        <td id=\"T_22a4c55a_6e93_11ea_b7a5_705a0f1a5828row48_col0\" class=\"data row48 col0\" >Fiji</td>\n",
       "                        <td id=\"T_22a4c55a_6e93_11ea_b7a5_705a0f1a5828row48_col1\" class=\"data row48 col1\" >2</td>\n",
       "                        <td id=\"T_22a4c55a_6e93_11ea_b7a5_705a0f1a5828row48_col2\" class=\"data row48 col2\" >0</td>\n",
       "                        <td id=\"T_22a4c55a_6e93_11ea_b7a5_705a0f1a5828row48_col3\" class=\"data row48 col3\" >0</td>\n",
       "            </tr>\n",
       "            <tr>\n",
       "                        <th id=\"T_22a4c55a_6e93_11ea_b7a5_705a0f1a5828level0_row49\" class=\"row_heading level0 row49\" >49</th>\n",
       "                        <td id=\"T_22a4c55a_6e93_11ea_b7a5_705a0f1a5828row49_col0\" class=\"data row49 col0\" >Haiti</td>\n",
       "                        <td id=\"T_22a4c55a_6e93_11ea_b7a5_705a0f1a5828row49_col1\" class=\"data row49 col1\" >2</td>\n",
       "                        <td id=\"T_22a4c55a_6e93_11ea_b7a5_705a0f1a5828row49_col2\" class=\"data row49 col2\" >0</td>\n",
       "                        <td id=\"T_22a4c55a_6e93_11ea_b7a5_705a0f1a5828row49_col3\" class=\"data row49 col3\" >0</td>\n",
       "            </tr>\n",
       "            <tr>\n",
       "                        <th id=\"T_22a4c55a_6e93_11ea_b7a5_705a0f1a5828level0_row50\" class=\"row_heading level0 row50\" >50</th>\n",
       "                        <td id=\"T_22a4c55a_6e93_11ea_b7a5_705a0f1a5828row50_col0\" class=\"data row50 col0\" >Guinea</td>\n",
       "                        <td id=\"T_22a4c55a_6e93_11ea_b7a5_705a0f1a5828row50_col1\" class=\"data row50 col1\" >2</td>\n",
       "                        <td id=\"T_22a4c55a_6e93_11ea_b7a5_705a0f1a5828row50_col2\" class=\"data row50 col2\" >0</td>\n",
       "                        <td id=\"T_22a4c55a_6e93_11ea_b7a5_705a0f1a5828row50_col3\" class=\"data row50 col3\" >0</td>\n",
       "            </tr>\n",
       "            <tr>\n",
       "                        <th id=\"T_22a4c55a_6e93_11ea_b7a5_705a0f1a5828level0_row51\" class=\"row_heading level0 row51\" >51</th>\n",
       "                        <td id=\"T_22a4c55a_6e93_11ea_b7a5_705a0f1a5828row51_col0\" class=\"data row51 col0\" >Sudan</td>\n",
       "                        <td id=\"T_22a4c55a_6e93_11ea_b7a5_705a0f1a5828row51_col1\" class=\"data row51 col1\" >2</td>\n",
       "                        <td id=\"T_22a4c55a_6e93_11ea_b7a5_705a0f1a5828row51_col2\" class=\"data row51 col2\" >1</td>\n",
       "                        <td id=\"T_22a4c55a_6e93_11ea_b7a5_705a0f1a5828row51_col3\" class=\"data row51 col3\" >0</td>\n",
       "            </tr>\n",
       "            <tr>\n",
       "                        <th id=\"T_22a4c55a_6e93_11ea_b7a5_705a0f1a5828level0_row52\" class=\"row_heading level0 row52\" >52</th>\n",
       "                        <td id=\"T_22a4c55a_6e93_11ea_b7a5_705a0f1a5828row52_col0\" class=\"data row52 col0\" >Nicaragua</td>\n",
       "                        <td id=\"T_22a4c55a_6e93_11ea_b7a5_705a0f1a5828row52_col1\" class=\"data row52 col1\" >2</td>\n",
       "                        <td id=\"T_22a4c55a_6e93_11ea_b7a5_705a0f1a5828row52_col2\" class=\"data row52 col2\" >0</td>\n",
       "                        <td id=\"T_22a4c55a_6e93_11ea_b7a5_705a0f1a5828row52_col3\" class=\"data row52 col3\" >0</td>\n",
       "            </tr>\n",
       "            <tr>\n",
       "                        <th id=\"T_22a4c55a_6e93_11ea_b7a5_705a0f1a5828level0_row53\" class=\"row_heading level0 row53\" >53</th>\n",
       "                        <td id=\"T_22a4c55a_6e93_11ea_b7a5_705a0f1a5828row53_col0\" class=\"data row53 col0\" >Niger</td>\n",
       "                        <td id=\"T_22a4c55a_6e93_11ea_b7a5_705a0f1a5828row53_col1\" class=\"data row53 col1\" >2</td>\n",
       "                        <td id=\"T_22a4c55a_6e93_11ea_b7a5_705a0f1a5828row53_col2\" class=\"data row53 col2\" >0</td>\n",
       "                        <td id=\"T_22a4c55a_6e93_11ea_b7a5_705a0f1a5828row53_col3\" class=\"data row53 col3\" >0</td>\n",
       "            </tr>\n",
       "            <tr>\n",
       "                        <th id=\"T_22a4c55a_6e93_11ea_b7a5_705a0f1a5828level0_row54\" class=\"row_heading level0 row54\" >54</th>\n",
       "                        <td id=\"T_22a4c55a_6e93_11ea_b7a5_705a0f1a5828row54_col0\" class=\"data row54 col0\" >Bhutan</td>\n",
       "                        <td id=\"T_22a4c55a_6e93_11ea_b7a5_705a0f1a5828row54_col1\" class=\"data row54 col1\" >2</td>\n",
       "                        <td id=\"T_22a4c55a_6e93_11ea_b7a5_705a0f1a5828row54_col2\" class=\"data row54 col2\" >0</td>\n",
       "                        <td id=\"T_22a4c55a_6e93_11ea_b7a5_705a0f1a5828row54_col3\" class=\"data row54 col3\" >0</td>\n",
       "            </tr>\n",
       "            <tr>\n",
       "                        <th id=\"T_22a4c55a_6e93_11ea_b7a5_705a0f1a5828level0_row55\" class=\"row_heading level0 row55\" >55</th>\n",
       "                        <td id=\"T_22a4c55a_6e93_11ea_b7a5_705a0f1a5828row55_col0\" class=\"data row55 col0\" >Benin</td>\n",
       "                        <td id=\"T_22a4c55a_6e93_11ea_b7a5_705a0f1a5828row55_col1\" class=\"data row55 col1\" >2</td>\n",
       "                        <td id=\"T_22a4c55a_6e93_11ea_b7a5_705a0f1a5828row55_col2\" class=\"data row55 col2\" >0</td>\n",
       "                        <td id=\"T_22a4c55a_6e93_11ea_b7a5_705a0f1a5828row55_col3\" class=\"data row55 col3\" >0</td>\n",
       "            </tr>\n",
       "            <tr>\n",
       "                        <th id=\"T_22a4c55a_6e93_11ea_b7a5_705a0f1a5828level0_row56\" class=\"row_heading level0 row56\" >56</th>\n",
       "                        <td id=\"T_22a4c55a_6e93_11ea_b7a5_705a0f1a5828row56_col0\" class=\"data row56 col0\" >Kosovo</td>\n",
       "                        <td id=\"T_22a4c55a_6e93_11ea_b7a5_705a0f1a5828row56_col1\" class=\"data row56 col1\" >2</td>\n",
       "                        <td id=\"T_22a4c55a_6e93_11ea_b7a5_705a0f1a5828row56_col2\" class=\"data row56 col2\" >0</td>\n",
       "                        <td id=\"T_22a4c55a_6e93_11ea_b7a5_705a0f1a5828row56_col3\" class=\"data row56 col3\" >0</td>\n",
       "            </tr>\n",
       "            <tr>\n",
       "                        <th id=\"T_22a4c55a_6e93_11ea_b7a5_705a0f1a5828level0_row57\" class=\"row_heading level0 row57\" >57</th>\n",
       "                        <td id=\"T_22a4c55a_6e93_11ea_b7a5_705a0f1a5828row57_col0\" class=\"data row57 col0\" >Mauritania</td>\n",
       "                        <td id=\"T_22a4c55a_6e93_11ea_b7a5_705a0f1a5828row57_col1\" class=\"data row57 col1\" >2</td>\n",
       "                        <td id=\"T_22a4c55a_6e93_11ea_b7a5_705a0f1a5828row57_col2\" class=\"data row57 col2\" >0</td>\n",
       "                        <td id=\"T_22a4c55a_6e93_11ea_b7a5_705a0f1a5828row57_col3\" class=\"data row57 col3\" >0</td>\n",
       "            </tr>\n",
       "            <tr>\n",
       "                        <th id=\"T_22a4c55a_6e93_11ea_b7a5_705a0f1a5828level0_row58\" class=\"row_heading level0 row58\" >58</th>\n",
       "                        <td id=\"T_22a4c55a_6e93_11ea_b7a5_705a0f1a5828row58_col0\" class=\"data row58 col0\" >Angola</td>\n",
       "                        <td id=\"T_22a4c55a_6e93_11ea_b7a5_705a0f1a5828row58_col1\" class=\"data row58 col1\" >2</td>\n",
       "                        <td id=\"T_22a4c55a_6e93_11ea_b7a5_705a0f1a5828row58_col2\" class=\"data row58 col2\" >0</td>\n",
       "                        <td id=\"T_22a4c55a_6e93_11ea_b7a5_705a0f1a5828row58_col3\" class=\"data row58 col3\" >0</td>\n",
       "            </tr>\n",
       "            <tr>\n",
       "                        <th id=\"T_22a4c55a_6e93_11ea_b7a5_705a0f1a5828level0_row59\" class=\"row_heading level0 row59\" >59</th>\n",
       "                        <td id=\"T_22a4c55a_6e93_11ea_b7a5_705a0f1a5828row59_col0\" class=\"data row59 col0\" >Mozambique</td>\n",
       "                        <td id=\"T_22a4c55a_6e93_11ea_b7a5_705a0f1a5828row59_col1\" class=\"data row59 col1\" >1</td>\n",
       "                        <td id=\"T_22a4c55a_6e93_11ea_b7a5_705a0f1a5828row59_col2\" class=\"data row59 col2\" >0</td>\n",
       "                        <td id=\"T_22a4c55a_6e93_11ea_b7a5_705a0f1a5828row59_col3\" class=\"data row59 col3\" >0</td>\n",
       "            </tr>\n",
       "            <tr>\n",
       "                        <th id=\"T_22a4c55a_6e93_11ea_b7a5_705a0f1a5828level0_row60\" class=\"row_heading level0 row60\" >60</th>\n",
       "                        <td id=\"T_22a4c55a_6e93_11ea_b7a5_705a0f1a5828row60_col0\" class=\"data row60 col0\" >Timor-Leste</td>\n",
       "                        <td id=\"T_22a4c55a_6e93_11ea_b7a5_705a0f1a5828row60_col1\" class=\"data row60 col1\" >1</td>\n",
       "                        <td id=\"T_22a4c55a_6e93_11ea_b7a5_705a0f1a5828row60_col2\" class=\"data row60 col2\" >0</td>\n",
       "                        <td id=\"T_22a4c55a_6e93_11ea_b7a5_705a0f1a5828row60_col3\" class=\"data row60 col3\" >0</td>\n",
       "            </tr>\n",
       "            <tr>\n",
       "                        <th id=\"T_22a4c55a_6e93_11ea_b7a5_705a0f1a5828level0_row61\" class=\"row_heading level0 row61\" >61</th>\n",
       "                        <td id=\"T_22a4c55a_6e93_11ea_b7a5_705a0f1a5828row61_col0\" class=\"data row61 col0\" >Antigua and Barbuda</td>\n",
       "                        <td id=\"T_22a4c55a_6e93_11ea_b7a5_705a0f1a5828row61_col1\" class=\"data row61 col1\" >1</td>\n",
       "                        <td id=\"T_22a4c55a_6e93_11ea_b7a5_705a0f1a5828row61_col2\" class=\"data row61 col2\" >0</td>\n",
       "                        <td id=\"T_22a4c55a_6e93_11ea_b7a5_705a0f1a5828row61_col3\" class=\"data row61 col3\" >0</td>\n",
       "            </tr>\n",
       "            <tr>\n",
       "                        <th id=\"T_22a4c55a_6e93_11ea_b7a5_705a0f1a5828level0_row62\" class=\"row_heading level0 row62\" >62</th>\n",
       "                        <td id=\"T_22a4c55a_6e93_11ea_b7a5_705a0f1a5828row62_col0\" class=\"data row62 col0\" >Uganda</td>\n",
       "                        <td id=\"T_22a4c55a_6e93_11ea_b7a5_705a0f1a5828row62_col1\" class=\"data row62 col1\" >1</td>\n",
       "                        <td id=\"T_22a4c55a_6e93_11ea_b7a5_705a0f1a5828row62_col2\" class=\"data row62 col2\" >0</td>\n",
       "                        <td id=\"T_22a4c55a_6e93_11ea_b7a5_705a0f1a5828row62_col3\" class=\"data row62 col3\" >0</td>\n",
       "            </tr>\n",
       "            <tr>\n",
       "                        <th id=\"T_22a4c55a_6e93_11ea_b7a5_705a0f1a5828level0_row63\" class=\"row_heading level0 row63\" >63</th>\n",
       "                        <td id=\"T_22a4c55a_6e93_11ea_b7a5_705a0f1a5828row63_col0\" class=\"data row63 col0\" >Saint Vincent and the Grenadines</td>\n",
       "                        <td id=\"T_22a4c55a_6e93_11ea_b7a5_705a0f1a5828row63_col1\" class=\"data row63 col1\" >1</td>\n",
       "                        <td id=\"T_22a4c55a_6e93_11ea_b7a5_705a0f1a5828row63_col2\" class=\"data row63 col2\" >0</td>\n",
       "                        <td id=\"T_22a4c55a_6e93_11ea_b7a5_705a0f1a5828row63_col3\" class=\"data row63 col3\" >0</td>\n",
       "            </tr>\n",
       "            <tr>\n",
       "                        <th id=\"T_22a4c55a_6e93_11ea_b7a5_705a0f1a5828level0_row64\" class=\"row_heading level0 row64\" >64</th>\n",
       "                        <td id=\"T_22a4c55a_6e93_11ea_b7a5_705a0f1a5828row64_col0\" class=\"data row64 col0\" >Chad</td>\n",
       "                        <td id=\"T_22a4c55a_6e93_11ea_b7a5_705a0f1a5828row64_col1\" class=\"data row64 col1\" >1</td>\n",
       "                        <td id=\"T_22a4c55a_6e93_11ea_b7a5_705a0f1a5828row64_col2\" class=\"data row64 col2\" >0</td>\n",
       "                        <td id=\"T_22a4c55a_6e93_11ea_b7a5_705a0f1a5828row64_col3\" class=\"data row64 col3\" >0</td>\n",
       "            </tr>\n",
       "            <tr>\n",
       "                        <th id=\"T_22a4c55a_6e93_11ea_b7a5_705a0f1a5828level0_row65\" class=\"row_heading level0 row65\" >65</th>\n",
       "                        <td id=\"T_22a4c55a_6e93_11ea_b7a5_705a0f1a5828row65_col0\" class=\"data row65 col0\" >Djibouti</td>\n",
       "                        <td id=\"T_22a4c55a_6e93_11ea_b7a5_705a0f1a5828row65_col1\" class=\"data row65 col1\" >1</td>\n",
       "                        <td id=\"T_22a4c55a_6e93_11ea_b7a5_705a0f1a5828row65_col2\" class=\"data row65 col2\" >0</td>\n",
       "                        <td id=\"T_22a4c55a_6e93_11ea_b7a5_705a0f1a5828row65_col3\" class=\"data row65 col3\" >0</td>\n",
       "            </tr>\n",
       "            <tr>\n",
       "                        <th id=\"T_22a4c55a_6e93_11ea_b7a5_705a0f1a5828level0_row66\" class=\"row_heading level0 row66\" >66</th>\n",
       "                        <td id=\"T_22a4c55a_6e93_11ea_b7a5_705a0f1a5828row66_col0\" class=\"data row66 col0\" >Gambia, The</td>\n",
       "                        <td id=\"T_22a4c55a_6e93_11ea_b7a5_705a0f1a5828row66_col1\" class=\"data row66 col1\" >1</td>\n",
       "                        <td id=\"T_22a4c55a_6e93_11ea_b7a5_705a0f1a5828row66_col2\" class=\"data row66 col2\" >0</td>\n",
       "                        <td id=\"T_22a4c55a_6e93_11ea_b7a5_705a0f1a5828row66_col3\" class=\"data row66 col3\" >0</td>\n",
       "            </tr>\n",
       "            <tr>\n",
       "                        <th id=\"T_22a4c55a_6e93_11ea_b7a5_705a0f1a5828level0_row67\" class=\"row_heading level0 row67\" >67</th>\n",
       "                        <td id=\"T_22a4c55a_6e93_11ea_b7a5_705a0f1a5828row67_col0\" class=\"data row67 col0\" >Eritrea</td>\n",
       "                        <td id=\"T_22a4c55a_6e93_11ea_b7a5_705a0f1a5828row67_col1\" class=\"data row67 col1\" >1</td>\n",
       "                        <td id=\"T_22a4c55a_6e93_11ea_b7a5_705a0f1a5828row67_col2\" class=\"data row67 col2\" >0</td>\n",
       "                        <td id=\"T_22a4c55a_6e93_11ea_b7a5_705a0f1a5828row67_col3\" class=\"data row67 col3\" >0</td>\n",
       "            </tr>\n",
       "            <tr>\n",
       "                        <th id=\"T_22a4c55a_6e93_11ea_b7a5_705a0f1a5828level0_row68\" class=\"row_heading level0 row68\" >68</th>\n",
       "                        <td id=\"T_22a4c55a_6e93_11ea_b7a5_705a0f1a5828row68_col0\" class=\"data row68 col0\" >Grenada</td>\n",
       "                        <td id=\"T_22a4c55a_6e93_11ea_b7a5_705a0f1a5828row68_col1\" class=\"data row68 col1\" >1</td>\n",
       "                        <td id=\"T_22a4c55a_6e93_11ea_b7a5_705a0f1a5828row68_col2\" class=\"data row68 col2\" >0</td>\n",
       "                        <td id=\"T_22a4c55a_6e93_11ea_b7a5_705a0f1a5828row68_col3\" class=\"data row68 col3\" >0</td>\n",
       "            </tr>\n",
       "            <tr>\n",
       "                        <th id=\"T_22a4c55a_6e93_11ea_b7a5_705a0f1a5828level0_row69\" class=\"row_heading level0 row69\" >69</th>\n",
       "                        <td id=\"T_22a4c55a_6e93_11ea_b7a5_705a0f1a5828row69_col0\" class=\"data row69 col0\" >Syria</td>\n",
       "                        <td id=\"T_22a4c55a_6e93_11ea_b7a5_705a0f1a5828row69_col1\" class=\"data row69 col1\" >1</td>\n",
       "                        <td id=\"T_22a4c55a_6e93_11ea_b7a5_705a0f1a5828row69_col2\" class=\"data row69 col2\" >0</td>\n",
       "                        <td id=\"T_22a4c55a_6e93_11ea_b7a5_705a0f1a5828row69_col3\" class=\"data row69 col3\" >0</td>\n",
       "            </tr>\n",
       "            <tr>\n",
       "                        <th id=\"T_22a4c55a_6e93_11ea_b7a5_705a0f1a5828level0_row70\" class=\"row_heading level0 row70\" >70</th>\n",
       "                        <td id=\"T_22a4c55a_6e93_11ea_b7a5_705a0f1a5828row70_col0\" class=\"data row70 col0\" >Dominica</td>\n",
       "                        <td id=\"T_22a4c55a_6e93_11ea_b7a5_705a0f1a5828row70_col1\" class=\"data row70 col1\" >1</td>\n",
       "                        <td id=\"T_22a4c55a_6e93_11ea_b7a5_705a0f1a5828row70_col2\" class=\"data row70 col2\" >0</td>\n",
       "                        <td id=\"T_22a4c55a_6e93_11ea_b7a5_705a0f1a5828row70_col3\" class=\"data row70 col3\" >0</td>\n",
       "            </tr>\n",
       "            <tr>\n",
       "                        <th id=\"T_22a4c55a_6e93_11ea_b7a5_705a0f1a5828level0_row71\" class=\"row_heading level0 row71\" >71</th>\n",
       "                        <td id=\"T_22a4c55a_6e93_11ea_b7a5_705a0f1a5828row71_col0\" class=\"data row71 col0\" >Somalia</td>\n",
       "                        <td id=\"T_22a4c55a_6e93_11ea_b7a5_705a0f1a5828row71_col1\" class=\"data row71 col1\" >1</td>\n",
       "                        <td id=\"T_22a4c55a_6e93_11ea_b7a5_705a0f1a5828row71_col2\" class=\"data row71 col2\" >0</td>\n",
       "                        <td id=\"T_22a4c55a_6e93_11ea_b7a5_705a0f1a5828row71_col3\" class=\"data row71 col3\" >0</td>\n",
       "            </tr>\n",
       "            <tr>\n",
       "                        <th id=\"T_22a4c55a_6e93_11ea_b7a5_705a0f1a5828level0_row72\" class=\"row_heading level0 row72\" >72</th>\n",
       "                        <td id=\"T_22a4c55a_6e93_11ea_b7a5_705a0f1a5828row72_col0\" class=\"data row72 col0\" >Papua New Guinea</td>\n",
       "                        <td id=\"T_22a4c55a_6e93_11ea_b7a5_705a0f1a5828row72_col1\" class=\"data row72 col1\" >1</td>\n",
       "                        <td id=\"T_22a4c55a_6e93_11ea_b7a5_705a0f1a5828row72_col2\" class=\"data row72 col2\" >0</td>\n",
       "                        <td id=\"T_22a4c55a_6e93_11ea_b7a5_705a0f1a5828row72_col3\" class=\"data row72 col3\" >0</td>\n",
       "            </tr>\n",
       "            <tr>\n",
       "                        <th id=\"T_22a4c55a_6e93_11ea_b7a5_705a0f1a5828level0_row73\" class=\"row_heading level0 row73\" >73</th>\n",
       "                        <td id=\"T_22a4c55a_6e93_11ea_b7a5_705a0f1a5828row73_col0\" class=\"data row73 col0\" >Holy See</td>\n",
       "                        <td id=\"T_22a4c55a_6e93_11ea_b7a5_705a0f1a5828row73_col1\" class=\"data row73 col1\" >1</td>\n",
       "                        <td id=\"T_22a4c55a_6e93_11ea_b7a5_705a0f1a5828row73_col2\" class=\"data row73 col2\" >0</td>\n",
       "                        <td id=\"T_22a4c55a_6e93_11ea_b7a5_705a0f1a5828row73_col3\" class=\"data row73 col3\" >0</td>\n",
       "            </tr>\n",
       "            <tr>\n",
       "                        <th id=\"T_22a4c55a_6e93_11ea_b7a5_705a0f1a5828level0_row74\" class=\"row_heading level0 row74\" >74</th>\n",
       "                        <td id=\"T_22a4c55a_6e93_11ea_b7a5_705a0f1a5828row74_col0\" class=\"data row74 col0\" >Guam</td>\n",
       "                        <td id=\"T_22a4c55a_6e93_11ea_b7a5_705a0f1a5828row74_col1\" class=\"data row74 col1\" >0</td>\n",
       "                        <td id=\"T_22a4c55a_6e93_11ea_b7a5_705a0f1a5828row74_col2\" class=\"data row74 col2\" >1</td>\n",
       "                        <td id=\"T_22a4c55a_6e93_11ea_b7a5_705a0f1a5828row74_col3\" class=\"data row74 col3\" >0</td>\n",
       "            </tr>\n",
       "            <tr>\n",
       "                        <th id=\"T_22a4c55a_6e93_11ea_b7a5_705a0f1a5828level0_row75\" class=\"row_heading level0 row75\" >75</th>\n",
       "                        <td id=\"T_22a4c55a_6e93_11ea_b7a5_705a0f1a5828row75_col0\" class=\"data row75 col0\" >Cape Verde</td>\n",
       "                        <td id=\"T_22a4c55a_6e93_11ea_b7a5_705a0f1a5828row75_col1\" class=\"data row75 col1\" >0</td>\n",
       "                        <td id=\"T_22a4c55a_6e93_11ea_b7a5_705a0f1a5828row75_col2\" class=\"data row75 col2\" >0</td>\n",
       "                        <td id=\"T_22a4c55a_6e93_11ea_b7a5_705a0f1a5828row75_col3\" class=\"data row75 col3\" >0</td>\n",
       "            </tr>\n",
       "            <tr>\n",
       "                        <th id=\"T_22a4c55a_6e93_11ea_b7a5_705a0f1a5828level0_row76\" class=\"row_heading level0 row76\" >76</th>\n",
       "                        <td id=\"T_22a4c55a_6e93_11ea_b7a5_705a0f1a5828row76_col0\" class=\"data row76 col0\" >East Timor</td>\n",
       "                        <td id=\"T_22a4c55a_6e93_11ea_b7a5_705a0f1a5828row76_col1\" class=\"data row76 col1\" >0</td>\n",
       "                        <td id=\"T_22a4c55a_6e93_11ea_b7a5_705a0f1a5828row76_col2\" class=\"data row76 col2\" >0</td>\n",
       "                        <td id=\"T_22a4c55a_6e93_11ea_b7a5_705a0f1a5828row76_col3\" class=\"data row76 col3\" >0</td>\n",
       "            </tr>\n",
       "            <tr>\n",
       "                        <th id=\"T_22a4c55a_6e93_11ea_b7a5_705a0f1a5828level0_row77\" class=\"row_heading level0 row77\" >77</th>\n",
       "                        <td id=\"T_22a4c55a_6e93_11ea_b7a5_705a0f1a5828row77_col0\" class=\"data row77 col0\" >Guernsey</td>\n",
       "                        <td id=\"T_22a4c55a_6e93_11ea_b7a5_705a0f1a5828row77_col1\" class=\"data row77 col1\" >0</td>\n",
       "                        <td id=\"T_22a4c55a_6e93_11ea_b7a5_705a0f1a5828row77_col2\" class=\"data row77 col2\" >0</td>\n",
       "                        <td id=\"T_22a4c55a_6e93_11ea_b7a5_705a0f1a5828row77_col3\" class=\"data row77 col3\" >0</td>\n",
       "            </tr>\n",
       "            <tr>\n",
       "                        <th id=\"T_22a4c55a_6e93_11ea_b7a5_705a0f1a5828level0_row78\" class=\"row_heading level0 row78\" >78</th>\n",
       "                        <td id=\"T_22a4c55a_6e93_11ea_b7a5_705a0f1a5828row78_col0\" class=\"data row78 col0\" >Jersey</td>\n",
       "                        <td id=\"T_22a4c55a_6e93_11ea_b7a5_705a0f1a5828row78_col1\" class=\"data row78 col1\" >0</td>\n",
       "                        <td id=\"T_22a4c55a_6e93_11ea_b7a5_705a0f1a5828row78_col2\" class=\"data row78 col2\" >0</td>\n",
       "                        <td id=\"T_22a4c55a_6e93_11ea_b7a5_705a0f1a5828row78_col3\" class=\"data row78 col3\" >0</td>\n",
       "            </tr>\n",
       "            <tr>\n",
       "                        <th id=\"T_22a4c55a_6e93_11ea_b7a5_705a0f1a5828level0_row79\" class=\"row_heading level0 row79\" >79</th>\n",
       "                        <td id=\"T_22a4c55a_6e93_11ea_b7a5_705a0f1a5828row79_col0\" class=\"data row79 col0\" >Greenland</td>\n",
       "                        <td id=\"T_22a4c55a_6e93_11ea_b7a5_705a0f1a5828row79_col1\" class=\"data row79 col1\" >0</td>\n",
       "                        <td id=\"T_22a4c55a_6e93_11ea_b7a5_705a0f1a5828row79_col2\" class=\"data row79 col2\" >0</td>\n",
       "                        <td id=\"T_22a4c55a_6e93_11ea_b7a5_705a0f1a5828row79_col3\" class=\"data row79 col3\" >0</td>\n",
       "            </tr>\n",
       "            <tr>\n",
       "                        <th id=\"T_22a4c55a_6e93_11ea_b7a5_705a0f1a5828level0_row80\" class=\"row_heading level0 row80\" >80</th>\n",
       "                        <td id=\"T_22a4c55a_6e93_11ea_b7a5_705a0f1a5828row80_col0\" class=\"data row80 col0\" >Puerto Rico</td>\n",
       "                        <td id=\"T_22a4c55a_6e93_11ea_b7a5_705a0f1a5828row80_col1\" class=\"data row80 col1\" >0</td>\n",
       "                        <td id=\"T_22a4c55a_6e93_11ea_b7a5_705a0f1a5828row80_col2\" class=\"data row80 col2\" >1</td>\n",
       "                        <td id=\"T_22a4c55a_6e93_11ea_b7a5_705a0f1a5828row80_col3\" class=\"data row80 col3\" >0</td>\n",
       "            </tr>\n",
       "            <tr>\n",
       "                        <th id=\"T_22a4c55a_6e93_11ea_b7a5_705a0f1a5828level0_row81\" class=\"row_heading level0 row81\" >81</th>\n",
       "                        <td id=\"T_22a4c55a_6e93_11ea_b7a5_705a0f1a5828row81_col0\" class=\"data row81 col0\" >The Gambia</td>\n",
       "                        <td id=\"T_22a4c55a_6e93_11ea_b7a5_705a0f1a5828row81_col1\" class=\"data row81 col1\" >0</td>\n",
       "                        <td id=\"T_22a4c55a_6e93_11ea_b7a5_705a0f1a5828row81_col2\" class=\"data row81 col2\" >0</td>\n",
       "                        <td id=\"T_22a4c55a_6e93_11ea_b7a5_705a0f1a5828row81_col3\" class=\"data row81 col3\" >0</td>\n",
       "            </tr>\n",
       "            <tr>\n",
       "                        <th id=\"T_22a4c55a_6e93_11ea_b7a5_705a0f1a5828level0_row82\" class=\"row_heading level0 row82\" >82</th>\n",
       "                        <td id=\"T_22a4c55a_6e93_11ea_b7a5_705a0f1a5828row82_col0\" class=\"data row82 col0\" >Republic of the Congo</td>\n",
       "                        <td id=\"T_22a4c55a_6e93_11ea_b7a5_705a0f1a5828row82_col1\" class=\"data row82 col1\" >0</td>\n",
       "                        <td id=\"T_22a4c55a_6e93_11ea_b7a5_705a0f1a5828row82_col2\" class=\"data row82 col2\" >0</td>\n",
       "                        <td id=\"T_22a4c55a_6e93_11ea_b7a5_705a0f1a5828row82_col3\" class=\"data row82 col3\" >0</td>\n",
       "            </tr>\n",
       "            <tr>\n",
       "                        <th id=\"T_22a4c55a_6e93_11ea_b7a5_705a0f1a5828level0_row83\" class=\"row_heading level0 row83\" >83</th>\n",
       "                        <td id=\"T_22a4c55a_6e93_11ea_b7a5_705a0f1a5828row83_col0\" class=\"data row83 col0\" >The Bahamas</td>\n",
       "                        <td id=\"T_22a4c55a_6e93_11ea_b7a5_705a0f1a5828row83_col1\" class=\"data row83 col1\" >0</td>\n",
       "                        <td id=\"T_22a4c55a_6e93_11ea_b7a5_705a0f1a5828row83_col2\" class=\"data row83 col2\" >0</td>\n",
       "                        <td id=\"T_22a4c55a_6e93_11ea_b7a5_705a0f1a5828row83_col3\" class=\"data row83 col3\" >0</td>\n",
       "            </tr>\n",
       "    </tbody></table>"
      ],
      "text/plain": [
       "<pandas.io.formats.style.Styler at 0x2b1707da288>"
      ]
     },
     "execution_count": 55,
     "metadata": {},
     "output_type": "execute_result"
    }
   ],
   "source": [
    "temp = temp1[temp1['Recovered']==0][['Country/Region', 'Confirmed', 'Deaths', 'Recovered']]\n",
    "temp.reset_index(drop=True).style.background_gradient(cmap='Reds')"
   ]
  },
  {
   "cell_type": "markdown",
   "metadata": {},
   "source": [
    "### Top 10 Countries"
   ]
  },
  {
   "cell_type": "code",
   "execution_count": 56,
   "metadata": {},
   "outputs": [
    {
     "data": {
      "application/vnd.plotly.v1+json": {
       "config": {
        "plotlyServerURL": "https://plot.ly"
       },
       "data": [
        {
         "marker": {
          "color": "yellow"
         },
         "text": [
          81439,
          59138,
          33276,
          28768,
          24873,
          21638,
          16044,
          8897,
          7245,
          5741
         ],
         "textposition": "auto",
         "type": "bar",
         "x": [
          "China",
          "Italy",
          "US",
          "Spain",
          "Germany",
          "Iran",
          "France",
          "South Korea",
          "Switzerland",
          "United Kingdom"
         ],
         "y": [
          81439,
          59138,
          33276,
          28768,
          24873,
          21638,
          16044,
          8897,
          7245,
          5741
         ]
        }
       ],
       "layout": {
        "template": {
         "data": {
          "bar": [
           {
            "error_x": {
             "color": "#2a3f5f"
            },
            "error_y": {
             "color": "#2a3f5f"
            },
            "marker": {
             "line": {
              "color": "#E5ECF6",
              "width": 0.5
             }
            },
            "type": "bar"
           }
          ],
          "barpolar": [
           {
            "marker": {
             "line": {
              "color": "#E5ECF6",
              "width": 0.5
             }
            },
            "type": "barpolar"
           }
          ],
          "carpet": [
           {
            "aaxis": {
             "endlinecolor": "#2a3f5f",
             "gridcolor": "white",
             "linecolor": "white",
             "minorgridcolor": "white",
             "startlinecolor": "#2a3f5f"
            },
            "baxis": {
             "endlinecolor": "#2a3f5f",
             "gridcolor": "white",
             "linecolor": "white",
             "minorgridcolor": "white",
             "startlinecolor": "#2a3f5f"
            },
            "type": "carpet"
           }
          ],
          "choropleth": [
           {
            "colorbar": {
             "outlinewidth": 0,
             "ticks": ""
            },
            "type": "choropleth"
           }
          ],
          "contour": [
           {
            "colorbar": {
             "outlinewidth": 0,
             "ticks": ""
            },
            "colorscale": [
             [
              0,
              "#0d0887"
             ],
             [
              0.1111111111111111,
              "#46039f"
             ],
             [
              0.2222222222222222,
              "#7201a8"
             ],
             [
              0.3333333333333333,
              "#9c179e"
             ],
             [
              0.4444444444444444,
              "#bd3786"
             ],
             [
              0.5555555555555556,
              "#d8576b"
             ],
             [
              0.6666666666666666,
              "#ed7953"
             ],
             [
              0.7777777777777778,
              "#fb9f3a"
             ],
             [
              0.8888888888888888,
              "#fdca26"
             ],
             [
              1,
              "#f0f921"
             ]
            ],
            "type": "contour"
           }
          ],
          "contourcarpet": [
           {
            "colorbar": {
             "outlinewidth": 0,
             "ticks": ""
            },
            "type": "contourcarpet"
           }
          ],
          "heatmap": [
           {
            "colorbar": {
             "outlinewidth": 0,
             "ticks": ""
            },
            "colorscale": [
             [
              0,
              "#0d0887"
             ],
             [
              0.1111111111111111,
              "#46039f"
             ],
             [
              0.2222222222222222,
              "#7201a8"
             ],
             [
              0.3333333333333333,
              "#9c179e"
             ],
             [
              0.4444444444444444,
              "#bd3786"
             ],
             [
              0.5555555555555556,
              "#d8576b"
             ],
             [
              0.6666666666666666,
              "#ed7953"
             ],
             [
              0.7777777777777778,
              "#fb9f3a"
             ],
             [
              0.8888888888888888,
              "#fdca26"
             ],
             [
              1,
              "#f0f921"
             ]
            ],
            "type": "heatmap"
           }
          ],
          "heatmapgl": [
           {
            "colorbar": {
             "outlinewidth": 0,
             "ticks": ""
            },
            "colorscale": [
             [
              0,
              "#0d0887"
             ],
             [
              0.1111111111111111,
              "#46039f"
             ],
             [
              0.2222222222222222,
              "#7201a8"
             ],
             [
              0.3333333333333333,
              "#9c179e"
             ],
             [
              0.4444444444444444,
              "#bd3786"
             ],
             [
              0.5555555555555556,
              "#d8576b"
             ],
             [
              0.6666666666666666,
              "#ed7953"
             ],
             [
              0.7777777777777778,
              "#fb9f3a"
             ],
             [
              0.8888888888888888,
              "#fdca26"
             ],
             [
              1,
              "#f0f921"
             ]
            ],
            "type": "heatmapgl"
           }
          ],
          "histogram": [
           {
            "marker": {
             "colorbar": {
              "outlinewidth": 0,
              "ticks": ""
             }
            },
            "type": "histogram"
           }
          ],
          "histogram2d": [
           {
            "colorbar": {
             "outlinewidth": 0,
             "ticks": ""
            },
            "colorscale": [
             [
              0,
              "#0d0887"
             ],
             [
              0.1111111111111111,
              "#46039f"
             ],
             [
              0.2222222222222222,
              "#7201a8"
             ],
             [
              0.3333333333333333,
              "#9c179e"
             ],
             [
              0.4444444444444444,
              "#bd3786"
             ],
             [
              0.5555555555555556,
              "#d8576b"
             ],
             [
              0.6666666666666666,
              "#ed7953"
             ],
             [
              0.7777777777777778,
              "#fb9f3a"
             ],
             [
              0.8888888888888888,
              "#fdca26"
             ],
             [
              1,
              "#f0f921"
             ]
            ],
            "type": "histogram2d"
           }
          ],
          "histogram2dcontour": [
           {
            "colorbar": {
             "outlinewidth": 0,
             "ticks": ""
            },
            "colorscale": [
             [
              0,
              "#0d0887"
             ],
             [
              0.1111111111111111,
              "#46039f"
             ],
             [
              0.2222222222222222,
              "#7201a8"
             ],
             [
              0.3333333333333333,
              "#9c179e"
             ],
             [
              0.4444444444444444,
              "#bd3786"
             ],
             [
              0.5555555555555556,
              "#d8576b"
             ],
             [
              0.6666666666666666,
              "#ed7953"
             ],
             [
              0.7777777777777778,
              "#fb9f3a"
             ],
             [
              0.8888888888888888,
              "#fdca26"
             ],
             [
              1,
              "#f0f921"
             ]
            ],
            "type": "histogram2dcontour"
           }
          ],
          "mesh3d": [
           {
            "colorbar": {
             "outlinewidth": 0,
             "ticks": ""
            },
            "type": "mesh3d"
           }
          ],
          "parcoords": [
           {
            "line": {
             "colorbar": {
              "outlinewidth": 0,
              "ticks": ""
             }
            },
            "type": "parcoords"
           }
          ],
          "pie": [
           {
            "automargin": true,
            "type": "pie"
           }
          ],
          "scatter": [
           {
            "marker": {
             "colorbar": {
              "outlinewidth": 0,
              "ticks": ""
             }
            },
            "type": "scatter"
           }
          ],
          "scatter3d": [
           {
            "line": {
             "colorbar": {
              "outlinewidth": 0,
              "ticks": ""
             }
            },
            "marker": {
             "colorbar": {
              "outlinewidth": 0,
              "ticks": ""
             }
            },
            "type": "scatter3d"
           }
          ],
          "scattercarpet": [
           {
            "marker": {
             "colorbar": {
              "outlinewidth": 0,
              "ticks": ""
             }
            },
            "type": "scattercarpet"
           }
          ],
          "scattergeo": [
           {
            "marker": {
             "colorbar": {
              "outlinewidth": 0,
              "ticks": ""
             }
            },
            "type": "scattergeo"
           }
          ],
          "scattergl": [
           {
            "marker": {
             "colorbar": {
              "outlinewidth": 0,
              "ticks": ""
             }
            },
            "type": "scattergl"
           }
          ],
          "scattermapbox": [
           {
            "marker": {
             "colorbar": {
              "outlinewidth": 0,
              "ticks": ""
             }
            },
            "type": "scattermapbox"
           }
          ],
          "scatterpolar": [
           {
            "marker": {
             "colorbar": {
              "outlinewidth": 0,
              "ticks": ""
             }
            },
            "type": "scatterpolar"
           }
          ],
          "scatterpolargl": [
           {
            "marker": {
             "colorbar": {
              "outlinewidth": 0,
              "ticks": ""
             }
            },
            "type": "scatterpolargl"
           }
          ],
          "scatterternary": [
           {
            "marker": {
             "colorbar": {
              "outlinewidth": 0,
              "ticks": ""
             }
            },
            "type": "scatterternary"
           }
          ],
          "surface": [
           {
            "colorbar": {
             "outlinewidth": 0,
             "ticks": ""
            },
            "colorscale": [
             [
              0,
              "#0d0887"
             ],
             [
              0.1111111111111111,
              "#46039f"
             ],
             [
              0.2222222222222222,
              "#7201a8"
             ],
             [
              0.3333333333333333,
              "#9c179e"
             ],
             [
              0.4444444444444444,
              "#bd3786"
             ],
             [
              0.5555555555555556,
              "#d8576b"
             ],
             [
              0.6666666666666666,
              "#ed7953"
             ],
             [
              0.7777777777777778,
              "#fb9f3a"
             ],
             [
              0.8888888888888888,
              "#fdca26"
             ],
             [
              1,
              "#f0f921"
             ]
            ],
            "type": "surface"
           }
          ],
          "table": [
           {
            "cells": {
             "fill": {
              "color": "#EBF0F8"
             },
             "line": {
              "color": "white"
             }
            },
            "header": {
             "fill": {
              "color": "#C8D4E3"
             },
             "line": {
              "color": "white"
             }
            },
            "type": "table"
           }
          ]
         },
         "layout": {
          "annotationdefaults": {
           "arrowcolor": "#2a3f5f",
           "arrowhead": 0,
           "arrowwidth": 1
          },
          "coloraxis": {
           "colorbar": {
            "outlinewidth": 0,
            "ticks": ""
           }
          },
          "colorscale": {
           "diverging": [
            [
             0,
             "#8e0152"
            ],
            [
             0.1,
             "#c51b7d"
            ],
            [
             0.2,
             "#de77ae"
            ],
            [
             0.3,
             "#f1b6da"
            ],
            [
             0.4,
             "#fde0ef"
            ],
            [
             0.5,
             "#f7f7f7"
            ],
            [
             0.6,
             "#e6f5d0"
            ],
            [
             0.7,
             "#b8e186"
            ],
            [
             0.8,
             "#7fbc41"
            ],
            [
             0.9,
             "#4d9221"
            ],
            [
             1,
             "#276419"
            ]
           ],
           "sequential": [
            [
             0,
             "#0d0887"
            ],
            [
             0.1111111111111111,
             "#46039f"
            ],
            [
             0.2222222222222222,
             "#7201a8"
            ],
            [
             0.3333333333333333,
             "#9c179e"
            ],
            [
             0.4444444444444444,
             "#bd3786"
            ],
            [
             0.5555555555555556,
             "#d8576b"
            ],
            [
             0.6666666666666666,
             "#ed7953"
            ],
            [
             0.7777777777777778,
             "#fb9f3a"
            ],
            [
             0.8888888888888888,
             "#fdca26"
            ],
            [
             1,
             "#f0f921"
            ]
           ],
           "sequentialminus": [
            [
             0,
             "#0d0887"
            ],
            [
             0.1111111111111111,
             "#46039f"
            ],
            [
             0.2222222222222222,
             "#7201a8"
            ],
            [
             0.3333333333333333,
             "#9c179e"
            ],
            [
             0.4444444444444444,
             "#bd3786"
            ],
            [
             0.5555555555555556,
             "#d8576b"
            ],
            [
             0.6666666666666666,
             "#ed7953"
            ],
            [
             0.7777777777777778,
             "#fb9f3a"
            ],
            [
             0.8888888888888888,
             "#fdca26"
            ],
            [
             1,
             "#f0f921"
            ]
           ]
          },
          "colorway": [
           "#636efa",
           "#EF553B",
           "#00cc96",
           "#ab63fa",
           "#FFA15A",
           "#19d3f3",
           "#FF6692",
           "#B6E880",
           "#FF97FF",
           "#FECB52"
          ],
          "font": {
           "color": "#2a3f5f"
          },
          "geo": {
           "bgcolor": "white",
           "lakecolor": "white",
           "landcolor": "#E5ECF6",
           "showlakes": true,
           "showland": true,
           "subunitcolor": "white"
          },
          "hoverlabel": {
           "align": "left"
          },
          "hovermode": "closest",
          "mapbox": {
           "style": "light"
          },
          "paper_bgcolor": "white",
          "plot_bgcolor": "#E5ECF6",
          "polar": {
           "angularaxis": {
            "gridcolor": "white",
            "linecolor": "white",
            "ticks": ""
           },
           "bgcolor": "#E5ECF6",
           "radialaxis": {
            "gridcolor": "white",
            "linecolor": "white",
            "ticks": ""
           }
          },
          "scene": {
           "xaxis": {
            "backgroundcolor": "#E5ECF6",
            "gridcolor": "white",
            "gridwidth": 2,
            "linecolor": "white",
            "showbackground": true,
            "ticks": "",
            "zerolinecolor": "white"
           },
           "yaxis": {
            "backgroundcolor": "#E5ECF6",
            "gridcolor": "white",
            "gridwidth": 2,
            "linecolor": "white",
            "showbackground": true,
            "ticks": "",
            "zerolinecolor": "white"
           },
           "zaxis": {
            "backgroundcolor": "#E5ECF6",
            "gridcolor": "white",
            "gridwidth": 2,
            "linecolor": "white",
            "showbackground": true,
            "ticks": "",
            "zerolinecolor": "white"
           }
          },
          "shapedefaults": {
           "line": {
            "color": "#2a3f5f"
           }
          },
          "ternary": {
           "aaxis": {
            "gridcolor": "white",
            "linecolor": "white",
            "ticks": ""
           },
           "baxis": {
            "gridcolor": "white",
            "linecolor": "white",
            "ticks": ""
           },
           "bgcolor": "#E5ECF6",
           "caxis": {
            "gridcolor": "white",
            "linecolor": "white",
            "ticks": ""
           }
          },
          "title": {
           "x": 0.05
          },
          "xaxis": {
           "automargin": true,
           "gridcolor": "white",
           "linecolor": "white",
           "ticks": "",
           "title": {
            "standoff": 15
           },
           "zerolinecolor": "white",
           "zerolinewidth": 2
          },
          "yaxis": {
           "automargin": true,
           "gridcolor": "white",
           "linecolor": "white",
           "ticks": "",
           "title": {
            "standoff": 15
           },
           "zerolinecolor": "white",
           "zerolinewidth": 2
          }
         }
        },
        "title": {
         "text": "Top 10 infected Cases"
        },
        "xaxis": {
         "title": {
          "text": "Countries"
         }
        },
        "yaxis": {
         "title": {
          "text": "Confirmed Cases"
         }
        }
       }
      },
      "text/html": [
       "<div>\n",
       "        \n",
       "        \n",
       "            <div id=\"cd71c6a8-76c8-425c-a5a5-05e45ade9443\" class=\"plotly-graph-div\" style=\"height:525px; width:100%;\"></div>\n",
       "            <script type=\"text/javascript\">\n",
       "                require([\"plotly\"], function(Plotly) {\n",
       "                    window.PLOTLYENV=window.PLOTLYENV || {};\n",
       "                    \n",
       "                if (document.getElementById(\"cd71c6a8-76c8-425c-a5a5-05e45ade9443\")) {\n",
       "                    Plotly.newPlot(\n",
       "                        'cd71c6a8-76c8-425c-a5a5-05e45ade9443',\n",
       "                        [{\"marker\": {\"color\": \"yellow\"}, \"text\": [81439.0, 59138.0, 33276.0, 28768.0, 24873.0, 21638.0, 16044.0, 8897.0, 7245.0, 5741.0], \"textposition\": \"auto\", \"type\": \"bar\", \"x\": [\"China\", \"Italy\", \"US\", \"Spain\", \"Germany\", \"Iran\", \"France\", \"South Korea\", \"Switzerland\", \"United Kingdom\"], \"y\": [81439.0, 59138.0, 33276.0, 28768.0, 24873.0, 21638.0, 16044.0, 8897.0, 7245.0, 5741.0]}],\n",
       "                        {\"template\": {\"data\": {\"bar\": [{\"error_x\": {\"color\": \"#2a3f5f\"}, \"error_y\": {\"color\": \"#2a3f5f\"}, \"marker\": {\"line\": {\"color\": \"#E5ECF6\", \"width\": 0.5}}, \"type\": \"bar\"}], \"barpolar\": [{\"marker\": {\"line\": {\"color\": \"#E5ECF6\", \"width\": 0.5}}, \"type\": \"barpolar\"}], \"carpet\": [{\"aaxis\": {\"endlinecolor\": \"#2a3f5f\", \"gridcolor\": \"white\", \"linecolor\": \"white\", \"minorgridcolor\": \"white\", \"startlinecolor\": \"#2a3f5f\"}, \"baxis\": {\"endlinecolor\": \"#2a3f5f\", \"gridcolor\": \"white\", \"linecolor\": \"white\", \"minorgridcolor\": \"white\", \"startlinecolor\": \"#2a3f5f\"}, \"type\": \"carpet\"}], \"choropleth\": [{\"colorbar\": {\"outlinewidth\": 0, \"ticks\": \"\"}, \"type\": \"choropleth\"}], \"contour\": [{\"colorbar\": {\"outlinewidth\": 0, \"ticks\": \"\"}, \"colorscale\": [[0.0, \"#0d0887\"], [0.1111111111111111, \"#46039f\"], [0.2222222222222222, \"#7201a8\"], [0.3333333333333333, \"#9c179e\"], [0.4444444444444444, \"#bd3786\"], [0.5555555555555556, \"#d8576b\"], [0.6666666666666666, \"#ed7953\"], [0.7777777777777778, \"#fb9f3a\"], [0.8888888888888888, \"#fdca26\"], [1.0, \"#f0f921\"]], \"type\": \"contour\"}], \"contourcarpet\": [{\"colorbar\": {\"outlinewidth\": 0, \"ticks\": \"\"}, \"type\": \"contourcarpet\"}], \"heatmap\": [{\"colorbar\": {\"outlinewidth\": 0, \"ticks\": \"\"}, \"colorscale\": [[0.0, \"#0d0887\"], [0.1111111111111111, \"#46039f\"], [0.2222222222222222, \"#7201a8\"], [0.3333333333333333, \"#9c179e\"], [0.4444444444444444, \"#bd3786\"], [0.5555555555555556, \"#d8576b\"], [0.6666666666666666, \"#ed7953\"], [0.7777777777777778, \"#fb9f3a\"], [0.8888888888888888, \"#fdca26\"], [1.0, \"#f0f921\"]], \"type\": \"heatmap\"}], \"heatmapgl\": [{\"colorbar\": {\"outlinewidth\": 0, \"ticks\": \"\"}, \"colorscale\": [[0.0, \"#0d0887\"], [0.1111111111111111, \"#46039f\"], [0.2222222222222222, \"#7201a8\"], [0.3333333333333333, \"#9c179e\"], [0.4444444444444444, \"#bd3786\"], [0.5555555555555556, \"#d8576b\"], [0.6666666666666666, \"#ed7953\"], [0.7777777777777778, \"#fb9f3a\"], [0.8888888888888888, \"#fdca26\"], [1.0, \"#f0f921\"]], \"type\": \"heatmapgl\"}], \"histogram\": [{\"marker\": {\"colorbar\": {\"outlinewidth\": 0, \"ticks\": \"\"}}, \"type\": \"histogram\"}], \"histogram2d\": [{\"colorbar\": {\"outlinewidth\": 0, \"ticks\": \"\"}, \"colorscale\": [[0.0, \"#0d0887\"], [0.1111111111111111, \"#46039f\"], [0.2222222222222222, \"#7201a8\"], [0.3333333333333333, \"#9c179e\"], [0.4444444444444444, \"#bd3786\"], [0.5555555555555556, \"#d8576b\"], [0.6666666666666666, \"#ed7953\"], [0.7777777777777778, \"#fb9f3a\"], [0.8888888888888888, \"#fdca26\"], [1.0, \"#f0f921\"]], \"type\": \"histogram2d\"}], \"histogram2dcontour\": [{\"colorbar\": {\"outlinewidth\": 0, \"ticks\": \"\"}, \"colorscale\": [[0.0, \"#0d0887\"], [0.1111111111111111, \"#46039f\"], [0.2222222222222222, \"#7201a8\"], [0.3333333333333333, \"#9c179e\"], [0.4444444444444444, \"#bd3786\"], [0.5555555555555556, \"#d8576b\"], [0.6666666666666666, \"#ed7953\"], [0.7777777777777778, \"#fb9f3a\"], [0.8888888888888888, \"#fdca26\"], [1.0, \"#f0f921\"]], \"type\": \"histogram2dcontour\"}], \"mesh3d\": [{\"colorbar\": {\"outlinewidth\": 0, \"ticks\": \"\"}, \"type\": \"mesh3d\"}], \"parcoords\": [{\"line\": {\"colorbar\": {\"outlinewidth\": 0, \"ticks\": \"\"}}, \"type\": \"parcoords\"}], \"pie\": [{\"automargin\": true, \"type\": \"pie\"}], \"scatter\": [{\"marker\": {\"colorbar\": {\"outlinewidth\": 0, \"ticks\": \"\"}}, \"type\": \"scatter\"}], \"scatter3d\": [{\"line\": {\"colorbar\": {\"outlinewidth\": 0, \"ticks\": \"\"}}, \"marker\": {\"colorbar\": {\"outlinewidth\": 0, \"ticks\": \"\"}}, \"type\": \"scatter3d\"}], \"scattercarpet\": [{\"marker\": {\"colorbar\": {\"outlinewidth\": 0, \"ticks\": \"\"}}, \"type\": \"scattercarpet\"}], \"scattergeo\": [{\"marker\": {\"colorbar\": {\"outlinewidth\": 0, \"ticks\": \"\"}}, \"type\": \"scattergeo\"}], \"scattergl\": [{\"marker\": {\"colorbar\": {\"outlinewidth\": 0, \"ticks\": \"\"}}, \"type\": \"scattergl\"}], \"scattermapbox\": [{\"marker\": {\"colorbar\": {\"outlinewidth\": 0, \"ticks\": \"\"}}, \"type\": \"scattermapbox\"}], \"scatterpolar\": [{\"marker\": {\"colorbar\": {\"outlinewidth\": 0, \"ticks\": \"\"}}, \"type\": \"scatterpolar\"}], \"scatterpolargl\": [{\"marker\": {\"colorbar\": {\"outlinewidth\": 0, \"ticks\": \"\"}}, \"type\": \"scatterpolargl\"}], \"scatterternary\": [{\"marker\": {\"colorbar\": {\"outlinewidth\": 0, \"ticks\": \"\"}}, \"type\": \"scatterternary\"}], \"surface\": [{\"colorbar\": {\"outlinewidth\": 0, \"ticks\": \"\"}, \"colorscale\": [[0.0, \"#0d0887\"], [0.1111111111111111, \"#46039f\"], [0.2222222222222222, \"#7201a8\"], [0.3333333333333333, \"#9c179e\"], [0.4444444444444444, \"#bd3786\"], [0.5555555555555556, \"#d8576b\"], [0.6666666666666666, \"#ed7953\"], [0.7777777777777778, \"#fb9f3a\"], [0.8888888888888888, \"#fdca26\"], [1.0, \"#f0f921\"]], \"type\": \"surface\"}], \"table\": [{\"cells\": {\"fill\": {\"color\": \"#EBF0F8\"}, \"line\": {\"color\": \"white\"}}, \"header\": {\"fill\": {\"color\": \"#C8D4E3\"}, \"line\": {\"color\": \"white\"}}, \"type\": \"table\"}]}, \"layout\": {\"annotationdefaults\": {\"arrowcolor\": \"#2a3f5f\", \"arrowhead\": 0, \"arrowwidth\": 1}, \"coloraxis\": {\"colorbar\": {\"outlinewidth\": 0, \"ticks\": \"\"}}, \"colorscale\": {\"diverging\": [[0, \"#8e0152\"], [0.1, \"#c51b7d\"], [0.2, \"#de77ae\"], [0.3, \"#f1b6da\"], [0.4, \"#fde0ef\"], [0.5, \"#f7f7f7\"], [0.6, \"#e6f5d0\"], [0.7, \"#b8e186\"], [0.8, \"#7fbc41\"], [0.9, \"#4d9221\"], [1, \"#276419\"]], \"sequential\": [[0.0, \"#0d0887\"], [0.1111111111111111, \"#46039f\"], [0.2222222222222222, \"#7201a8\"], [0.3333333333333333, \"#9c179e\"], [0.4444444444444444, \"#bd3786\"], [0.5555555555555556, \"#d8576b\"], [0.6666666666666666, \"#ed7953\"], [0.7777777777777778, \"#fb9f3a\"], [0.8888888888888888, \"#fdca26\"], [1.0, \"#f0f921\"]], \"sequentialminus\": [[0.0, \"#0d0887\"], [0.1111111111111111, \"#46039f\"], [0.2222222222222222, \"#7201a8\"], [0.3333333333333333, \"#9c179e\"], [0.4444444444444444, \"#bd3786\"], [0.5555555555555556, \"#d8576b\"], [0.6666666666666666, \"#ed7953\"], [0.7777777777777778, \"#fb9f3a\"], [0.8888888888888888, \"#fdca26\"], [1.0, \"#f0f921\"]]}, \"colorway\": [\"#636efa\", \"#EF553B\", \"#00cc96\", \"#ab63fa\", \"#FFA15A\", \"#19d3f3\", \"#FF6692\", \"#B6E880\", \"#FF97FF\", \"#FECB52\"], \"font\": {\"color\": \"#2a3f5f\"}, \"geo\": {\"bgcolor\": \"white\", \"lakecolor\": \"white\", \"landcolor\": \"#E5ECF6\", \"showlakes\": true, \"showland\": true, \"subunitcolor\": \"white\"}, \"hoverlabel\": {\"align\": \"left\"}, \"hovermode\": \"closest\", \"mapbox\": {\"style\": \"light\"}, \"paper_bgcolor\": \"white\", \"plot_bgcolor\": \"#E5ECF6\", \"polar\": {\"angularaxis\": {\"gridcolor\": \"white\", \"linecolor\": \"white\", \"ticks\": \"\"}, \"bgcolor\": \"#E5ECF6\", \"radialaxis\": {\"gridcolor\": \"white\", \"linecolor\": \"white\", \"ticks\": \"\"}}, \"scene\": {\"xaxis\": {\"backgroundcolor\": \"#E5ECF6\", \"gridcolor\": \"white\", \"gridwidth\": 2, \"linecolor\": \"white\", \"showbackground\": true, \"ticks\": \"\", \"zerolinecolor\": \"white\"}, \"yaxis\": {\"backgroundcolor\": \"#E5ECF6\", \"gridcolor\": \"white\", \"gridwidth\": 2, \"linecolor\": \"white\", \"showbackground\": true, \"ticks\": \"\", \"zerolinecolor\": \"white\"}, \"zaxis\": {\"backgroundcolor\": \"#E5ECF6\", \"gridcolor\": \"white\", \"gridwidth\": 2, \"linecolor\": \"white\", \"showbackground\": true, \"ticks\": \"\", \"zerolinecolor\": \"white\"}}, \"shapedefaults\": {\"line\": {\"color\": \"#2a3f5f\"}}, \"ternary\": {\"aaxis\": {\"gridcolor\": \"white\", \"linecolor\": \"white\", \"ticks\": \"\"}, \"baxis\": {\"gridcolor\": \"white\", \"linecolor\": \"white\", \"ticks\": \"\"}, \"bgcolor\": \"#E5ECF6\", \"caxis\": {\"gridcolor\": \"white\", \"linecolor\": \"white\", \"ticks\": \"\"}}, \"title\": {\"x\": 0.05}, \"xaxis\": {\"automargin\": true, \"gridcolor\": \"white\", \"linecolor\": \"white\", \"ticks\": \"\", \"title\": {\"standoff\": 15}, \"zerolinecolor\": \"white\", \"zerolinewidth\": 2}, \"yaxis\": {\"automargin\": true, \"gridcolor\": \"white\", \"linecolor\": \"white\", \"ticks\": \"\", \"title\": {\"standoff\": 15}, \"zerolinecolor\": \"white\", \"zerolinewidth\": 2}}}, \"title\": {\"text\": \"Top 10 infected Cases\"}, \"xaxis\": {\"title\": {\"text\": \"Countries\"}}, \"yaxis\": {\"title\": {\"text\": \"Confirmed Cases\"}}},\n",
       "                        {\"responsive\": true}\n",
       "                    ).then(function(){\n",
       "                            \n",
       "var gd = document.getElementById('cd71c6a8-76c8-425c-a5a5-05e45ade9443');\n",
       "var x = new MutationObserver(function (mutations, observer) {{\n",
       "        var display = window.getComputedStyle(gd).display;\n",
       "        if (!display || display === 'none') {{\n",
       "            console.log([gd, 'removed!']);\n",
       "            Plotly.purge(gd);\n",
       "            observer.disconnect();\n",
       "        }}\n",
       "}});\n",
       "\n",
       "// Listen for the removal of the full notebook cells\n",
       "var notebookContainer = gd.closest('#notebook-container');\n",
       "if (notebookContainer) {{\n",
       "    x.observe(notebookContainer, {childList: true});\n",
       "}}\n",
       "\n",
       "// Listen for the clearing of the current output cell\n",
       "var outputEl = gd.closest('.output');\n",
       "if (outputEl) {{\n",
       "    x.observe(outputEl, {childList: true});\n",
       "}}\n",
       "\n",
       "                        })\n",
       "                };\n",
       "                });\n",
       "            </script>\n",
       "        </div>"
      ]
     },
     "metadata": {},
     "output_type": "display_data"
    }
   ],
   "source": [
    "fig = go.Figure(data=[go.Bar(\n",
    "            x=temp1['Country/Region'][0:10], y=temp1['Confirmed'][0:10],\n",
    "            text=temp1['Confirmed'][0:10],\n",
    "            textposition='auto',\n",
    "            marker_color='yellow',\n",
    "\n",
    "        )])\n",
    "fig.update_layout(\n",
    "    title='Top 10 infected Cases',\n",
    "    xaxis_title=\"Countries\",\n",
    "    yaxis_title=\"Confirmed Cases\",\n",
    ")\n",
    "fig.show()"
   ]
  },
  {
   "cell_type": "code",
   "execution_count": 57,
   "metadata": {},
   "outputs": [
    {
     "data": {
      "application/vnd.plotly.v1+json": {
       "config": {
        "plotlyServerURL": "https://plot.ly"
       },
       "data": [
        {
         "marker": {
          "color": "red"
         },
         "text": [
          5476,
          3274,
          1772,
          1685,
          674,
          417,
          282,
          180,
          104,
          98
         ],
         "textposition": "auto",
         "type": "bar",
         "x": [
          "Italy",
          "China",
          "Spain",
          "Iran",
          "France",
          "US",
          "United Kingdom",
          "Netherlands",
          "South Korea",
          "Switzerland"
         ],
         "y": [
          5476,
          3274,
          1772,
          1685,
          674,
          417,
          282,
          180,
          104,
          98
         ]
        }
       ],
       "layout": {
        "template": {
         "data": {
          "bar": [
           {
            "error_x": {
             "color": "#2a3f5f"
            },
            "error_y": {
             "color": "#2a3f5f"
            },
            "marker": {
             "line": {
              "color": "#E5ECF6",
              "width": 0.5
             }
            },
            "type": "bar"
           }
          ],
          "barpolar": [
           {
            "marker": {
             "line": {
              "color": "#E5ECF6",
              "width": 0.5
             }
            },
            "type": "barpolar"
           }
          ],
          "carpet": [
           {
            "aaxis": {
             "endlinecolor": "#2a3f5f",
             "gridcolor": "white",
             "linecolor": "white",
             "minorgridcolor": "white",
             "startlinecolor": "#2a3f5f"
            },
            "baxis": {
             "endlinecolor": "#2a3f5f",
             "gridcolor": "white",
             "linecolor": "white",
             "minorgridcolor": "white",
             "startlinecolor": "#2a3f5f"
            },
            "type": "carpet"
           }
          ],
          "choropleth": [
           {
            "colorbar": {
             "outlinewidth": 0,
             "ticks": ""
            },
            "type": "choropleth"
           }
          ],
          "contour": [
           {
            "colorbar": {
             "outlinewidth": 0,
             "ticks": ""
            },
            "colorscale": [
             [
              0,
              "#0d0887"
             ],
             [
              0.1111111111111111,
              "#46039f"
             ],
             [
              0.2222222222222222,
              "#7201a8"
             ],
             [
              0.3333333333333333,
              "#9c179e"
             ],
             [
              0.4444444444444444,
              "#bd3786"
             ],
             [
              0.5555555555555556,
              "#d8576b"
             ],
             [
              0.6666666666666666,
              "#ed7953"
             ],
             [
              0.7777777777777778,
              "#fb9f3a"
             ],
             [
              0.8888888888888888,
              "#fdca26"
             ],
             [
              1,
              "#f0f921"
             ]
            ],
            "type": "contour"
           }
          ],
          "contourcarpet": [
           {
            "colorbar": {
             "outlinewidth": 0,
             "ticks": ""
            },
            "type": "contourcarpet"
           }
          ],
          "heatmap": [
           {
            "colorbar": {
             "outlinewidth": 0,
             "ticks": ""
            },
            "colorscale": [
             [
              0,
              "#0d0887"
             ],
             [
              0.1111111111111111,
              "#46039f"
             ],
             [
              0.2222222222222222,
              "#7201a8"
             ],
             [
              0.3333333333333333,
              "#9c179e"
             ],
             [
              0.4444444444444444,
              "#bd3786"
             ],
             [
              0.5555555555555556,
              "#d8576b"
             ],
             [
              0.6666666666666666,
              "#ed7953"
             ],
             [
              0.7777777777777778,
              "#fb9f3a"
             ],
             [
              0.8888888888888888,
              "#fdca26"
             ],
             [
              1,
              "#f0f921"
             ]
            ],
            "type": "heatmap"
           }
          ],
          "heatmapgl": [
           {
            "colorbar": {
             "outlinewidth": 0,
             "ticks": ""
            },
            "colorscale": [
             [
              0,
              "#0d0887"
             ],
             [
              0.1111111111111111,
              "#46039f"
             ],
             [
              0.2222222222222222,
              "#7201a8"
             ],
             [
              0.3333333333333333,
              "#9c179e"
             ],
             [
              0.4444444444444444,
              "#bd3786"
             ],
             [
              0.5555555555555556,
              "#d8576b"
             ],
             [
              0.6666666666666666,
              "#ed7953"
             ],
             [
              0.7777777777777778,
              "#fb9f3a"
             ],
             [
              0.8888888888888888,
              "#fdca26"
             ],
             [
              1,
              "#f0f921"
             ]
            ],
            "type": "heatmapgl"
           }
          ],
          "histogram": [
           {
            "marker": {
             "colorbar": {
              "outlinewidth": 0,
              "ticks": ""
             }
            },
            "type": "histogram"
           }
          ],
          "histogram2d": [
           {
            "colorbar": {
             "outlinewidth": 0,
             "ticks": ""
            },
            "colorscale": [
             [
              0,
              "#0d0887"
             ],
             [
              0.1111111111111111,
              "#46039f"
             ],
             [
              0.2222222222222222,
              "#7201a8"
             ],
             [
              0.3333333333333333,
              "#9c179e"
             ],
             [
              0.4444444444444444,
              "#bd3786"
             ],
             [
              0.5555555555555556,
              "#d8576b"
             ],
             [
              0.6666666666666666,
              "#ed7953"
             ],
             [
              0.7777777777777778,
              "#fb9f3a"
             ],
             [
              0.8888888888888888,
              "#fdca26"
             ],
             [
              1,
              "#f0f921"
             ]
            ],
            "type": "histogram2d"
           }
          ],
          "histogram2dcontour": [
           {
            "colorbar": {
             "outlinewidth": 0,
             "ticks": ""
            },
            "colorscale": [
             [
              0,
              "#0d0887"
             ],
             [
              0.1111111111111111,
              "#46039f"
             ],
             [
              0.2222222222222222,
              "#7201a8"
             ],
             [
              0.3333333333333333,
              "#9c179e"
             ],
             [
              0.4444444444444444,
              "#bd3786"
             ],
             [
              0.5555555555555556,
              "#d8576b"
             ],
             [
              0.6666666666666666,
              "#ed7953"
             ],
             [
              0.7777777777777778,
              "#fb9f3a"
             ],
             [
              0.8888888888888888,
              "#fdca26"
             ],
             [
              1,
              "#f0f921"
             ]
            ],
            "type": "histogram2dcontour"
           }
          ],
          "mesh3d": [
           {
            "colorbar": {
             "outlinewidth": 0,
             "ticks": ""
            },
            "type": "mesh3d"
           }
          ],
          "parcoords": [
           {
            "line": {
             "colorbar": {
              "outlinewidth": 0,
              "ticks": ""
             }
            },
            "type": "parcoords"
           }
          ],
          "pie": [
           {
            "automargin": true,
            "type": "pie"
           }
          ],
          "scatter": [
           {
            "marker": {
             "colorbar": {
              "outlinewidth": 0,
              "ticks": ""
             }
            },
            "type": "scatter"
           }
          ],
          "scatter3d": [
           {
            "line": {
             "colorbar": {
              "outlinewidth": 0,
              "ticks": ""
             }
            },
            "marker": {
             "colorbar": {
              "outlinewidth": 0,
              "ticks": ""
             }
            },
            "type": "scatter3d"
           }
          ],
          "scattercarpet": [
           {
            "marker": {
             "colorbar": {
              "outlinewidth": 0,
              "ticks": ""
             }
            },
            "type": "scattercarpet"
           }
          ],
          "scattergeo": [
           {
            "marker": {
             "colorbar": {
              "outlinewidth": 0,
              "ticks": ""
             }
            },
            "type": "scattergeo"
           }
          ],
          "scattergl": [
           {
            "marker": {
             "colorbar": {
              "outlinewidth": 0,
              "ticks": ""
             }
            },
            "type": "scattergl"
           }
          ],
          "scattermapbox": [
           {
            "marker": {
             "colorbar": {
              "outlinewidth": 0,
              "ticks": ""
             }
            },
            "type": "scattermapbox"
           }
          ],
          "scatterpolar": [
           {
            "marker": {
             "colorbar": {
              "outlinewidth": 0,
              "ticks": ""
             }
            },
            "type": "scatterpolar"
           }
          ],
          "scatterpolargl": [
           {
            "marker": {
             "colorbar": {
              "outlinewidth": 0,
              "ticks": ""
             }
            },
            "type": "scatterpolargl"
           }
          ],
          "scatterternary": [
           {
            "marker": {
             "colorbar": {
              "outlinewidth": 0,
              "ticks": ""
             }
            },
            "type": "scatterternary"
           }
          ],
          "surface": [
           {
            "colorbar": {
             "outlinewidth": 0,
             "ticks": ""
            },
            "colorscale": [
             [
              0,
              "#0d0887"
             ],
             [
              0.1111111111111111,
              "#46039f"
             ],
             [
              0.2222222222222222,
              "#7201a8"
             ],
             [
              0.3333333333333333,
              "#9c179e"
             ],
             [
              0.4444444444444444,
              "#bd3786"
             ],
             [
              0.5555555555555556,
              "#d8576b"
             ],
             [
              0.6666666666666666,
              "#ed7953"
             ],
             [
              0.7777777777777778,
              "#fb9f3a"
             ],
             [
              0.8888888888888888,
              "#fdca26"
             ],
             [
              1,
              "#f0f921"
             ]
            ],
            "type": "surface"
           }
          ],
          "table": [
           {
            "cells": {
             "fill": {
              "color": "#EBF0F8"
             },
             "line": {
              "color": "white"
             }
            },
            "header": {
             "fill": {
              "color": "#C8D4E3"
             },
             "line": {
              "color": "white"
             }
            },
            "type": "table"
           }
          ]
         },
         "layout": {
          "annotationdefaults": {
           "arrowcolor": "#2a3f5f",
           "arrowhead": 0,
           "arrowwidth": 1
          },
          "coloraxis": {
           "colorbar": {
            "outlinewidth": 0,
            "ticks": ""
           }
          },
          "colorscale": {
           "diverging": [
            [
             0,
             "#8e0152"
            ],
            [
             0.1,
             "#c51b7d"
            ],
            [
             0.2,
             "#de77ae"
            ],
            [
             0.3,
             "#f1b6da"
            ],
            [
             0.4,
             "#fde0ef"
            ],
            [
             0.5,
             "#f7f7f7"
            ],
            [
             0.6,
             "#e6f5d0"
            ],
            [
             0.7,
             "#b8e186"
            ],
            [
             0.8,
             "#7fbc41"
            ],
            [
             0.9,
             "#4d9221"
            ],
            [
             1,
             "#276419"
            ]
           ],
           "sequential": [
            [
             0,
             "#0d0887"
            ],
            [
             0.1111111111111111,
             "#46039f"
            ],
            [
             0.2222222222222222,
             "#7201a8"
            ],
            [
             0.3333333333333333,
             "#9c179e"
            ],
            [
             0.4444444444444444,
             "#bd3786"
            ],
            [
             0.5555555555555556,
             "#d8576b"
            ],
            [
             0.6666666666666666,
             "#ed7953"
            ],
            [
             0.7777777777777778,
             "#fb9f3a"
            ],
            [
             0.8888888888888888,
             "#fdca26"
            ],
            [
             1,
             "#f0f921"
            ]
           ],
           "sequentialminus": [
            [
             0,
             "#0d0887"
            ],
            [
             0.1111111111111111,
             "#46039f"
            ],
            [
             0.2222222222222222,
             "#7201a8"
            ],
            [
             0.3333333333333333,
             "#9c179e"
            ],
            [
             0.4444444444444444,
             "#bd3786"
            ],
            [
             0.5555555555555556,
             "#d8576b"
            ],
            [
             0.6666666666666666,
             "#ed7953"
            ],
            [
             0.7777777777777778,
             "#fb9f3a"
            ],
            [
             0.8888888888888888,
             "#fdca26"
            ],
            [
             1,
             "#f0f921"
            ]
           ]
          },
          "colorway": [
           "#636efa",
           "#EF553B",
           "#00cc96",
           "#ab63fa",
           "#FFA15A",
           "#19d3f3",
           "#FF6692",
           "#B6E880",
           "#FF97FF",
           "#FECB52"
          ],
          "font": {
           "color": "#2a3f5f"
          },
          "geo": {
           "bgcolor": "white",
           "lakecolor": "white",
           "landcolor": "#E5ECF6",
           "showlakes": true,
           "showland": true,
           "subunitcolor": "white"
          },
          "hoverlabel": {
           "align": "left"
          },
          "hovermode": "closest",
          "mapbox": {
           "style": "light"
          },
          "paper_bgcolor": "white",
          "plot_bgcolor": "#E5ECF6",
          "polar": {
           "angularaxis": {
            "gridcolor": "white",
            "linecolor": "white",
            "ticks": ""
           },
           "bgcolor": "#E5ECF6",
           "radialaxis": {
            "gridcolor": "white",
            "linecolor": "white",
            "ticks": ""
           }
          },
          "scene": {
           "xaxis": {
            "backgroundcolor": "#E5ECF6",
            "gridcolor": "white",
            "gridwidth": 2,
            "linecolor": "white",
            "showbackground": true,
            "ticks": "",
            "zerolinecolor": "white"
           },
           "yaxis": {
            "backgroundcolor": "#E5ECF6",
            "gridcolor": "white",
            "gridwidth": 2,
            "linecolor": "white",
            "showbackground": true,
            "ticks": "",
            "zerolinecolor": "white"
           },
           "zaxis": {
            "backgroundcolor": "#E5ECF6",
            "gridcolor": "white",
            "gridwidth": 2,
            "linecolor": "white",
            "showbackground": true,
            "ticks": "",
            "zerolinecolor": "white"
           }
          },
          "shapedefaults": {
           "line": {
            "color": "#2a3f5f"
           }
          },
          "ternary": {
           "aaxis": {
            "gridcolor": "white",
            "linecolor": "white",
            "ticks": ""
           },
           "baxis": {
            "gridcolor": "white",
            "linecolor": "white",
            "ticks": ""
           },
           "bgcolor": "#E5ECF6",
           "caxis": {
            "gridcolor": "white",
            "linecolor": "white",
            "ticks": ""
           }
          },
          "title": {
           "x": 0.05
          },
          "xaxis": {
           "automargin": true,
           "gridcolor": "white",
           "linecolor": "white",
           "ticks": "",
           "title": {
            "standoff": 15
           },
           "zerolinecolor": "white",
           "zerolinewidth": 2
          },
          "yaxis": {
           "automargin": true,
           "gridcolor": "white",
           "linecolor": "white",
           "ticks": "",
           "title": {
            "standoff": 15
           },
           "zerolinecolor": "white",
           "zerolinewidth": 2
          }
         }
        },
        "title": {
         "text": "Top 10 Death Cases"
        },
        "xaxis": {
         "title": {
          "text": "Countries"
         }
        },
        "yaxis": {
         "title": {
          "text": "Deaths"
         }
        }
       }
      },
      "text/html": [
       "<div>\n",
       "        \n",
       "        \n",
       "            <div id=\"5767941e-1c16-4181-b059-2ee07930e24c\" class=\"plotly-graph-div\" style=\"height:525px; width:100%;\"></div>\n",
       "            <script type=\"text/javascript\">\n",
       "                require([\"plotly\"], function(Plotly) {\n",
       "                    window.PLOTLYENV=window.PLOTLYENV || {};\n",
       "                    \n",
       "                if (document.getElementById(\"5767941e-1c16-4181-b059-2ee07930e24c\")) {\n",
       "                    Plotly.newPlot(\n",
       "                        '5767941e-1c16-4181-b059-2ee07930e24c',\n",
       "                        [{\"marker\": {\"color\": \"red\"}, \"text\": [5476.0, 3274.0, 1772.0, 1685.0, 674.0, 417.0, 282.0, 180.0, 104.0, 98.0], \"textposition\": \"auto\", \"type\": \"bar\", \"x\": [\"Italy\", \"China\", \"Spain\", \"Iran\", \"France\", \"US\", \"United Kingdom\", \"Netherlands\", \"South Korea\", \"Switzerland\"], \"y\": [5476.0, 3274.0, 1772.0, 1685.0, 674.0, 417.0, 282.0, 180.0, 104.0, 98.0]}],\n",
       "                        {\"template\": {\"data\": {\"bar\": [{\"error_x\": {\"color\": \"#2a3f5f\"}, \"error_y\": {\"color\": \"#2a3f5f\"}, \"marker\": {\"line\": {\"color\": \"#E5ECF6\", \"width\": 0.5}}, \"type\": \"bar\"}], \"barpolar\": [{\"marker\": {\"line\": {\"color\": \"#E5ECF6\", \"width\": 0.5}}, \"type\": \"barpolar\"}], \"carpet\": [{\"aaxis\": {\"endlinecolor\": \"#2a3f5f\", \"gridcolor\": \"white\", \"linecolor\": \"white\", \"minorgridcolor\": \"white\", \"startlinecolor\": \"#2a3f5f\"}, \"baxis\": {\"endlinecolor\": \"#2a3f5f\", \"gridcolor\": \"white\", \"linecolor\": \"white\", \"minorgridcolor\": \"white\", \"startlinecolor\": \"#2a3f5f\"}, \"type\": \"carpet\"}], \"choropleth\": [{\"colorbar\": {\"outlinewidth\": 0, \"ticks\": \"\"}, \"type\": \"choropleth\"}], \"contour\": [{\"colorbar\": {\"outlinewidth\": 0, \"ticks\": \"\"}, \"colorscale\": [[0.0, \"#0d0887\"], [0.1111111111111111, \"#46039f\"], [0.2222222222222222, \"#7201a8\"], [0.3333333333333333, \"#9c179e\"], [0.4444444444444444, \"#bd3786\"], [0.5555555555555556, \"#d8576b\"], [0.6666666666666666, \"#ed7953\"], [0.7777777777777778, \"#fb9f3a\"], [0.8888888888888888, \"#fdca26\"], [1.0, \"#f0f921\"]], \"type\": \"contour\"}], \"contourcarpet\": [{\"colorbar\": {\"outlinewidth\": 0, \"ticks\": \"\"}, \"type\": \"contourcarpet\"}], \"heatmap\": [{\"colorbar\": {\"outlinewidth\": 0, \"ticks\": \"\"}, \"colorscale\": [[0.0, \"#0d0887\"], [0.1111111111111111, \"#46039f\"], [0.2222222222222222, \"#7201a8\"], [0.3333333333333333, \"#9c179e\"], [0.4444444444444444, \"#bd3786\"], [0.5555555555555556, \"#d8576b\"], [0.6666666666666666, \"#ed7953\"], [0.7777777777777778, \"#fb9f3a\"], [0.8888888888888888, \"#fdca26\"], [1.0, \"#f0f921\"]], \"type\": \"heatmap\"}], \"heatmapgl\": [{\"colorbar\": {\"outlinewidth\": 0, \"ticks\": \"\"}, \"colorscale\": [[0.0, \"#0d0887\"], [0.1111111111111111, \"#46039f\"], [0.2222222222222222, \"#7201a8\"], [0.3333333333333333, \"#9c179e\"], [0.4444444444444444, \"#bd3786\"], [0.5555555555555556, \"#d8576b\"], [0.6666666666666666, \"#ed7953\"], [0.7777777777777778, \"#fb9f3a\"], [0.8888888888888888, \"#fdca26\"], [1.0, \"#f0f921\"]], \"type\": \"heatmapgl\"}], \"histogram\": [{\"marker\": {\"colorbar\": {\"outlinewidth\": 0, \"ticks\": \"\"}}, \"type\": \"histogram\"}], \"histogram2d\": [{\"colorbar\": {\"outlinewidth\": 0, \"ticks\": \"\"}, \"colorscale\": [[0.0, \"#0d0887\"], [0.1111111111111111, \"#46039f\"], [0.2222222222222222, \"#7201a8\"], [0.3333333333333333, \"#9c179e\"], [0.4444444444444444, \"#bd3786\"], [0.5555555555555556, \"#d8576b\"], [0.6666666666666666, \"#ed7953\"], [0.7777777777777778, \"#fb9f3a\"], [0.8888888888888888, \"#fdca26\"], [1.0, \"#f0f921\"]], \"type\": \"histogram2d\"}], \"histogram2dcontour\": [{\"colorbar\": {\"outlinewidth\": 0, \"ticks\": \"\"}, \"colorscale\": [[0.0, \"#0d0887\"], [0.1111111111111111, \"#46039f\"], [0.2222222222222222, \"#7201a8\"], [0.3333333333333333, \"#9c179e\"], [0.4444444444444444, \"#bd3786\"], [0.5555555555555556, \"#d8576b\"], [0.6666666666666666, \"#ed7953\"], [0.7777777777777778, \"#fb9f3a\"], [0.8888888888888888, \"#fdca26\"], [1.0, \"#f0f921\"]], \"type\": \"histogram2dcontour\"}], \"mesh3d\": [{\"colorbar\": {\"outlinewidth\": 0, \"ticks\": \"\"}, \"type\": \"mesh3d\"}], \"parcoords\": [{\"line\": {\"colorbar\": {\"outlinewidth\": 0, \"ticks\": \"\"}}, \"type\": \"parcoords\"}], \"pie\": [{\"automargin\": true, \"type\": \"pie\"}], \"scatter\": [{\"marker\": {\"colorbar\": {\"outlinewidth\": 0, \"ticks\": \"\"}}, \"type\": \"scatter\"}], \"scatter3d\": [{\"line\": {\"colorbar\": {\"outlinewidth\": 0, \"ticks\": \"\"}}, \"marker\": {\"colorbar\": {\"outlinewidth\": 0, \"ticks\": \"\"}}, \"type\": \"scatter3d\"}], \"scattercarpet\": [{\"marker\": {\"colorbar\": {\"outlinewidth\": 0, \"ticks\": \"\"}}, \"type\": \"scattercarpet\"}], \"scattergeo\": [{\"marker\": {\"colorbar\": {\"outlinewidth\": 0, \"ticks\": \"\"}}, \"type\": \"scattergeo\"}], \"scattergl\": [{\"marker\": {\"colorbar\": {\"outlinewidth\": 0, \"ticks\": \"\"}}, \"type\": \"scattergl\"}], \"scattermapbox\": [{\"marker\": {\"colorbar\": {\"outlinewidth\": 0, \"ticks\": \"\"}}, \"type\": \"scattermapbox\"}], \"scatterpolar\": [{\"marker\": {\"colorbar\": {\"outlinewidth\": 0, \"ticks\": \"\"}}, \"type\": \"scatterpolar\"}], \"scatterpolargl\": [{\"marker\": {\"colorbar\": {\"outlinewidth\": 0, \"ticks\": \"\"}}, \"type\": \"scatterpolargl\"}], \"scatterternary\": [{\"marker\": {\"colorbar\": {\"outlinewidth\": 0, \"ticks\": \"\"}}, \"type\": \"scatterternary\"}], \"surface\": [{\"colorbar\": {\"outlinewidth\": 0, \"ticks\": \"\"}, \"colorscale\": [[0.0, \"#0d0887\"], [0.1111111111111111, \"#46039f\"], [0.2222222222222222, \"#7201a8\"], [0.3333333333333333, \"#9c179e\"], [0.4444444444444444, \"#bd3786\"], [0.5555555555555556, \"#d8576b\"], [0.6666666666666666, \"#ed7953\"], [0.7777777777777778, \"#fb9f3a\"], [0.8888888888888888, \"#fdca26\"], [1.0, \"#f0f921\"]], \"type\": \"surface\"}], \"table\": [{\"cells\": {\"fill\": {\"color\": \"#EBF0F8\"}, \"line\": {\"color\": \"white\"}}, \"header\": {\"fill\": {\"color\": \"#C8D4E3\"}, \"line\": {\"color\": \"white\"}}, \"type\": \"table\"}]}, \"layout\": {\"annotationdefaults\": {\"arrowcolor\": \"#2a3f5f\", \"arrowhead\": 0, \"arrowwidth\": 1}, \"coloraxis\": {\"colorbar\": {\"outlinewidth\": 0, \"ticks\": \"\"}}, \"colorscale\": {\"diverging\": [[0, \"#8e0152\"], [0.1, \"#c51b7d\"], [0.2, \"#de77ae\"], [0.3, \"#f1b6da\"], [0.4, \"#fde0ef\"], [0.5, \"#f7f7f7\"], [0.6, \"#e6f5d0\"], [0.7, \"#b8e186\"], [0.8, \"#7fbc41\"], [0.9, \"#4d9221\"], [1, \"#276419\"]], \"sequential\": [[0.0, \"#0d0887\"], [0.1111111111111111, \"#46039f\"], [0.2222222222222222, \"#7201a8\"], [0.3333333333333333, \"#9c179e\"], [0.4444444444444444, \"#bd3786\"], [0.5555555555555556, \"#d8576b\"], [0.6666666666666666, \"#ed7953\"], [0.7777777777777778, \"#fb9f3a\"], [0.8888888888888888, \"#fdca26\"], [1.0, \"#f0f921\"]], \"sequentialminus\": [[0.0, \"#0d0887\"], [0.1111111111111111, \"#46039f\"], [0.2222222222222222, \"#7201a8\"], [0.3333333333333333, \"#9c179e\"], [0.4444444444444444, \"#bd3786\"], [0.5555555555555556, \"#d8576b\"], [0.6666666666666666, \"#ed7953\"], [0.7777777777777778, \"#fb9f3a\"], [0.8888888888888888, \"#fdca26\"], [1.0, \"#f0f921\"]]}, \"colorway\": [\"#636efa\", \"#EF553B\", \"#00cc96\", \"#ab63fa\", \"#FFA15A\", \"#19d3f3\", \"#FF6692\", \"#B6E880\", \"#FF97FF\", \"#FECB52\"], \"font\": {\"color\": \"#2a3f5f\"}, \"geo\": {\"bgcolor\": \"white\", \"lakecolor\": \"white\", \"landcolor\": \"#E5ECF6\", \"showlakes\": true, \"showland\": true, \"subunitcolor\": \"white\"}, \"hoverlabel\": {\"align\": \"left\"}, \"hovermode\": \"closest\", \"mapbox\": {\"style\": \"light\"}, \"paper_bgcolor\": \"white\", \"plot_bgcolor\": \"#E5ECF6\", \"polar\": {\"angularaxis\": {\"gridcolor\": \"white\", \"linecolor\": \"white\", \"ticks\": \"\"}, \"bgcolor\": \"#E5ECF6\", \"radialaxis\": {\"gridcolor\": \"white\", \"linecolor\": \"white\", \"ticks\": \"\"}}, \"scene\": {\"xaxis\": {\"backgroundcolor\": \"#E5ECF6\", \"gridcolor\": \"white\", \"gridwidth\": 2, \"linecolor\": \"white\", \"showbackground\": true, \"ticks\": \"\", \"zerolinecolor\": \"white\"}, \"yaxis\": {\"backgroundcolor\": \"#E5ECF6\", \"gridcolor\": \"white\", \"gridwidth\": 2, \"linecolor\": \"white\", \"showbackground\": true, \"ticks\": \"\", \"zerolinecolor\": \"white\"}, \"zaxis\": {\"backgroundcolor\": \"#E5ECF6\", \"gridcolor\": \"white\", \"gridwidth\": 2, \"linecolor\": \"white\", \"showbackground\": true, \"ticks\": \"\", \"zerolinecolor\": \"white\"}}, \"shapedefaults\": {\"line\": {\"color\": \"#2a3f5f\"}}, \"ternary\": {\"aaxis\": {\"gridcolor\": \"white\", \"linecolor\": \"white\", \"ticks\": \"\"}, \"baxis\": {\"gridcolor\": \"white\", \"linecolor\": \"white\", \"ticks\": \"\"}, \"bgcolor\": \"#E5ECF6\", \"caxis\": {\"gridcolor\": \"white\", \"linecolor\": \"white\", \"ticks\": \"\"}}, \"title\": {\"x\": 0.05}, \"xaxis\": {\"automargin\": true, \"gridcolor\": \"white\", \"linecolor\": \"white\", \"ticks\": \"\", \"title\": {\"standoff\": 15}, \"zerolinecolor\": \"white\", \"zerolinewidth\": 2}, \"yaxis\": {\"automargin\": true, \"gridcolor\": \"white\", \"linecolor\": \"white\", \"ticks\": \"\", \"title\": {\"standoff\": 15}, \"zerolinecolor\": \"white\", \"zerolinewidth\": 2}}}, \"title\": {\"text\": \"Top 10 Death Cases\"}, \"xaxis\": {\"title\": {\"text\": \"Countries\"}}, \"yaxis\": {\"title\": {\"text\": \"Deaths\"}}},\n",
       "                        {\"responsive\": true}\n",
       "                    ).then(function(){\n",
       "                            \n",
       "var gd = document.getElementById('5767941e-1c16-4181-b059-2ee07930e24c');\n",
       "var x = new MutationObserver(function (mutations, observer) {{\n",
       "        var display = window.getComputedStyle(gd).display;\n",
       "        if (!display || display === 'none') {{\n",
       "            console.log([gd, 'removed!']);\n",
       "            Plotly.purge(gd);\n",
       "            observer.disconnect();\n",
       "        }}\n",
       "}});\n",
       "\n",
       "// Listen for the removal of the full notebook cells\n",
       "var notebookContainer = gd.closest('#notebook-container');\n",
       "if (notebookContainer) {{\n",
       "    x.observe(notebookContainer, {childList: true});\n",
       "}}\n",
       "\n",
       "// Listen for the clearing of the current output cell\n",
       "var outputEl = gd.closest('.output');\n",
       "if (outputEl) {{\n",
       "    x.observe(outputEl, {childList: true});\n",
       "}}\n",
       "\n",
       "                        })\n",
       "                };\n",
       "                });\n",
       "            </script>\n",
       "        </div>"
      ]
     },
     "metadata": {},
     "output_type": "display_data"
    }
   ],
   "source": [
    "temp2 = full_latest_grouped.sort_values(by='Deaths', ascending=False).reset_index(drop=True)\n",
    "fig = go.Figure(data=[go.Bar(\n",
    "            x=temp2['Country/Region'][0:10], y=temp2['Deaths'][0:10],\n",
    "            text=temp2['Deaths'][0:10],\n",
    "            textposition='auto',\n",
    "            marker_color='red',\n",
    "\n",
    "        )])\n",
    "fig.update_layout(\n",
    "    title='Top 10 Death Cases',\n",
    "    xaxis_title=\"Countries\",\n",
    "    yaxis_title=\"Deaths\",\n",
    ")\n",
    "fig.show()"
   ]
  },
  {
   "cell_type": "markdown",
   "metadata": {},
   "source": [
    "### Recovered Cases"
   ]
  },
  {
   "cell_type": "code",
   "execution_count": 58,
   "metadata": {},
   "outputs": [
    {
     "data": {
      "application/vnd.plotly.v1+json": {
       "config": {
        "plotlyServerURL": "https://plot.ly"
       },
       "data": [
        {
         "domain": {
          "x": [
           0,
           1
          ],
          "y": [
           0,
           1
          ]
         },
         "hoverlabel": {
          "namelength": 0
         },
         "hovertemplate": "Country/Region=%{label}<br>Recovered=%{value}",
         "labels": [
          "China",
          "Iran",
          "Italy",
          "South Korea",
          "Spain",
          "France",
          "Cruise Ship",
          "Germany",
          "Belgium",
          "Japan",
          "US",
          "Bahrain",
          "Singapore",
          "Malaysia",
          "Switzerland",
          "Australia",
          "United Kingdom",
          "Algeria",
          "Romania",
          "Iraq",
          "Egypt",
          "Thailand",
          "United Arab Emirates",
          "Israel",
          "Iceland",
          "Qatar",
          "Indonesia",
          "Taiwan",
          "Kuwait",
          "India",
          "Greece",
          "Oman",
          "Philippines",
          "Vietnam",
          "Saudi Arabia",
          "Russia",
          "Hungary",
          "Sweden",
          "Belarus",
          "Venezuela",
          "Canada",
          "Azerbaijan",
          "Finland",
          "Austria",
          "Chile",
          "Lebanon",
          "Slovakia",
          "Luxembourg",
          "Czechia",
          "French Guiana",
          "Ireland",
          "Senegal",
          "Pakistan",
          "Croatia",
          "Burkina Faso",
          "Portugal",
          "San Marino",
          "Ethiopia",
          "Mexico",
          "Georgia",
          "Argentina",
          "Bangladesh",
          "Morocco",
          "Sri Lanka",
          "Bulgaria",
          "Colombia",
          "Cyprus",
          "Ecuador",
          "Netherlands",
          "Albania",
          "Jamaica",
          "Malta",
          "Nigeria",
          "Brunei",
          "Brazil",
          "Bosnia and Herzegovina",
          "Armenia",
          "Estonia",
          "Costa Rica",
          "Poland",
          "Cambodia",
          "Lithuania",
          "Jordan",
          "Ukraine",
          "Serbia",
          "Tunisia",
          "Latvia",
          "Trinidad and Tobago",
          "Togo",
          "Moldova",
          "Afghanistan",
          "Cote d'Ivoire",
          "Peru",
          "Denmark",
          "Nepal",
          "North Macedonia",
          "Andorra",
          "Norway",
          "Monaco",
          "Puerto Rico",
          "Uruguay",
          "Paraguay",
          "Uzbekistan",
          "Papua New Guinea",
          "Panama",
          "Zambia",
          "Seychelles",
          "Republic of the Congo",
          "Tanzania",
          "Slovenia",
          "Somalia",
          "South Africa",
          "Sudan",
          "Suriname",
          "Syria",
          "The Bahamas",
          "Uganda",
          "The Gambia",
          "Timor-Leste",
          "Saint Vincent and the Grenadines",
          "Saint Lucia",
          "Rwanda",
          "Reunion",
          "Turkey",
          "Kazakhstan",
          "Niger",
          "Congo (Kinshasa)",
          "Gambia, The",
          "Gabon",
          "Fiji",
          "Eswatini",
          "Eritrea",
          "Equatorial Guinea",
          "El Salvador",
          "East Timor",
          "Dominican Republic",
          "Dominica",
          "Djibouti",
          "Cuba",
          "Congo (Brazzaville)",
          "Nicaragua",
          "Chad",
          "Central African Republic",
          "Cape Verde",
          "Cameroon",
          "Cabo Verde",
          "Bolivia",
          "Bhutan",
          "Benin",
          "Barbados",
          "Bahamas, The",
          "Antigua and Barbuda",
          "Angola",
          "Ghana",
          "Greenland",
          "Grenada",
          "Guadeloupe",
          "New Zealand",
          "Namibia",
          "Mozambique",
          "Montenegro",
          "Mongolia",
          "Mayotte",
          "Mauritius",
          "Mauritania",
          "Martinique",
          "Maldives",
          "Madagascar",
          "Liechtenstein",
          "Liberia",
          "Kyrgyzstan",
          "Kosovo",
          "Kenya",
          "Jersey",
          "Honduras",
          "Holy See",
          "Haiti",
          "Guyana",
          "Guinea",
          "Guernsey",
          "Guatemala",
          "Guam",
          "Zimbabwe"
         ],
         "legendgroup": "",
         "name": "",
         "showlegend": true,
         "textinfo": "percent+label",
         "textposition": "inside",
         "type": "pie",
         "values": [
          72814,
          7931,
          7024,
          2909,
          2575,
          2200,
          325,
          266,
          263,
          235,
          178,
          149,
          144,
          139,
          131,
          88,
          67,
          65,
          64,
          57,
          56,
          44,
          38,
          37,
          36,
          33,
          29,
          28,
          27,
          27,
          19,
          17,
          17,
          17,
          16,
          16,
          16,
          16,
          15,
          15,
          10,
          10,
          10,
          9,
          8,
          8,
          7,
          6,
          6,
          6,
          5,
          5,
          5,
          5,
          5,
          5,
          4,
          4,
          4,
          3,
          3,
          3,
          3,
          3,
          3,
          3,
          3,
          3,
          2,
          2,
          2,
          2,
          2,
          2,
          2,
          2,
          2,
          2,
          2,
          1,
          1,
          1,
          1,
          1,
          1,
          1,
          1,
          1,
          1,
          1,
          1,
          1,
          1,
          1,
          1,
          1,
          1,
          1,
          1,
          0,
          0,
          0,
          0,
          0,
          0,
          0,
          0,
          0,
          0,
          0,
          0,
          0,
          0,
          0,
          0,
          0,
          0,
          0,
          0,
          0,
          0,
          0,
          0,
          0,
          0,
          0,
          0,
          0,
          0,
          0,
          0,
          0,
          0,
          0,
          0,
          0,
          0,
          0,
          0,
          0,
          0,
          0,
          0,
          0,
          0,
          0,
          0,
          0,
          0,
          0,
          0,
          0,
          0,
          0,
          0,
          0,
          0,
          0,
          0,
          0,
          0,
          0,
          0,
          0,
          0,
          0,
          0,
          0,
          0,
          0,
          0,
          0,
          0,
          0,
          0,
          0,
          0,
          0,
          0,
          0,
          0,
          0,
          0
         ]
        }
       ],
       "layout": {
        "legend": {
         "tracegroupgap": 0
        },
        "template": {
         "data": {
          "bar": [
           {
            "error_x": {
             "color": "#2a3f5f"
            },
            "error_y": {
             "color": "#2a3f5f"
            },
            "marker": {
             "line": {
              "color": "#E5ECF6",
              "width": 0.5
             }
            },
            "type": "bar"
           }
          ],
          "barpolar": [
           {
            "marker": {
             "line": {
              "color": "#E5ECF6",
              "width": 0.5
             }
            },
            "type": "barpolar"
           }
          ],
          "carpet": [
           {
            "aaxis": {
             "endlinecolor": "#2a3f5f",
             "gridcolor": "white",
             "linecolor": "white",
             "minorgridcolor": "white",
             "startlinecolor": "#2a3f5f"
            },
            "baxis": {
             "endlinecolor": "#2a3f5f",
             "gridcolor": "white",
             "linecolor": "white",
             "minorgridcolor": "white",
             "startlinecolor": "#2a3f5f"
            },
            "type": "carpet"
           }
          ],
          "choropleth": [
           {
            "colorbar": {
             "outlinewidth": 0,
             "ticks": ""
            },
            "type": "choropleth"
           }
          ],
          "contour": [
           {
            "colorbar": {
             "outlinewidth": 0,
             "ticks": ""
            },
            "colorscale": [
             [
              0,
              "#0d0887"
             ],
             [
              0.1111111111111111,
              "#46039f"
             ],
             [
              0.2222222222222222,
              "#7201a8"
             ],
             [
              0.3333333333333333,
              "#9c179e"
             ],
             [
              0.4444444444444444,
              "#bd3786"
             ],
             [
              0.5555555555555556,
              "#d8576b"
             ],
             [
              0.6666666666666666,
              "#ed7953"
             ],
             [
              0.7777777777777778,
              "#fb9f3a"
             ],
             [
              0.8888888888888888,
              "#fdca26"
             ],
             [
              1,
              "#f0f921"
             ]
            ],
            "type": "contour"
           }
          ],
          "contourcarpet": [
           {
            "colorbar": {
             "outlinewidth": 0,
             "ticks": ""
            },
            "type": "contourcarpet"
           }
          ],
          "heatmap": [
           {
            "colorbar": {
             "outlinewidth": 0,
             "ticks": ""
            },
            "colorscale": [
             [
              0,
              "#0d0887"
             ],
             [
              0.1111111111111111,
              "#46039f"
             ],
             [
              0.2222222222222222,
              "#7201a8"
             ],
             [
              0.3333333333333333,
              "#9c179e"
             ],
             [
              0.4444444444444444,
              "#bd3786"
             ],
             [
              0.5555555555555556,
              "#d8576b"
             ],
             [
              0.6666666666666666,
              "#ed7953"
             ],
             [
              0.7777777777777778,
              "#fb9f3a"
             ],
             [
              0.8888888888888888,
              "#fdca26"
             ],
             [
              1,
              "#f0f921"
             ]
            ],
            "type": "heatmap"
           }
          ],
          "heatmapgl": [
           {
            "colorbar": {
             "outlinewidth": 0,
             "ticks": ""
            },
            "colorscale": [
             [
              0,
              "#0d0887"
             ],
             [
              0.1111111111111111,
              "#46039f"
             ],
             [
              0.2222222222222222,
              "#7201a8"
             ],
             [
              0.3333333333333333,
              "#9c179e"
             ],
             [
              0.4444444444444444,
              "#bd3786"
             ],
             [
              0.5555555555555556,
              "#d8576b"
             ],
             [
              0.6666666666666666,
              "#ed7953"
             ],
             [
              0.7777777777777778,
              "#fb9f3a"
             ],
             [
              0.8888888888888888,
              "#fdca26"
             ],
             [
              1,
              "#f0f921"
             ]
            ],
            "type": "heatmapgl"
           }
          ],
          "histogram": [
           {
            "marker": {
             "colorbar": {
              "outlinewidth": 0,
              "ticks": ""
             }
            },
            "type": "histogram"
           }
          ],
          "histogram2d": [
           {
            "colorbar": {
             "outlinewidth": 0,
             "ticks": ""
            },
            "colorscale": [
             [
              0,
              "#0d0887"
             ],
             [
              0.1111111111111111,
              "#46039f"
             ],
             [
              0.2222222222222222,
              "#7201a8"
             ],
             [
              0.3333333333333333,
              "#9c179e"
             ],
             [
              0.4444444444444444,
              "#bd3786"
             ],
             [
              0.5555555555555556,
              "#d8576b"
             ],
             [
              0.6666666666666666,
              "#ed7953"
             ],
             [
              0.7777777777777778,
              "#fb9f3a"
             ],
             [
              0.8888888888888888,
              "#fdca26"
             ],
             [
              1,
              "#f0f921"
             ]
            ],
            "type": "histogram2d"
           }
          ],
          "histogram2dcontour": [
           {
            "colorbar": {
             "outlinewidth": 0,
             "ticks": ""
            },
            "colorscale": [
             [
              0,
              "#0d0887"
             ],
             [
              0.1111111111111111,
              "#46039f"
             ],
             [
              0.2222222222222222,
              "#7201a8"
             ],
             [
              0.3333333333333333,
              "#9c179e"
             ],
             [
              0.4444444444444444,
              "#bd3786"
             ],
             [
              0.5555555555555556,
              "#d8576b"
             ],
             [
              0.6666666666666666,
              "#ed7953"
             ],
             [
              0.7777777777777778,
              "#fb9f3a"
             ],
             [
              0.8888888888888888,
              "#fdca26"
             ],
             [
              1,
              "#f0f921"
             ]
            ],
            "type": "histogram2dcontour"
           }
          ],
          "mesh3d": [
           {
            "colorbar": {
             "outlinewidth": 0,
             "ticks": ""
            },
            "type": "mesh3d"
           }
          ],
          "parcoords": [
           {
            "line": {
             "colorbar": {
              "outlinewidth": 0,
              "ticks": ""
             }
            },
            "type": "parcoords"
           }
          ],
          "pie": [
           {
            "automargin": true,
            "type": "pie"
           }
          ],
          "scatter": [
           {
            "marker": {
             "colorbar": {
              "outlinewidth": 0,
              "ticks": ""
             }
            },
            "type": "scatter"
           }
          ],
          "scatter3d": [
           {
            "line": {
             "colorbar": {
              "outlinewidth": 0,
              "ticks": ""
             }
            },
            "marker": {
             "colorbar": {
              "outlinewidth": 0,
              "ticks": ""
             }
            },
            "type": "scatter3d"
           }
          ],
          "scattercarpet": [
           {
            "marker": {
             "colorbar": {
              "outlinewidth": 0,
              "ticks": ""
             }
            },
            "type": "scattercarpet"
           }
          ],
          "scattergeo": [
           {
            "marker": {
             "colorbar": {
              "outlinewidth": 0,
              "ticks": ""
             }
            },
            "type": "scattergeo"
           }
          ],
          "scattergl": [
           {
            "marker": {
             "colorbar": {
              "outlinewidth": 0,
              "ticks": ""
             }
            },
            "type": "scattergl"
           }
          ],
          "scattermapbox": [
           {
            "marker": {
             "colorbar": {
              "outlinewidth": 0,
              "ticks": ""
             }
            },
            "type": "scattermapbox"
           }
          ],
          "scatterpolar": [
           {
            "marker": {
             "colorbar": {
              "outlinewidth": 0,
              "ticks": ""
             }
            },
            "type": "scatterpolar"
           }
          ],
          "scatterpolargl": [
           {
            "marker": {
             "colorbar": {
              "outlinewidth": 0,
              "ticks": ""
             }
            },
            "type": "scatterpolargl"
           }
          ],
          "scatterternary": [
           {
            "marker": {
             "colorbar": {
              "outlinewidth": 0,
              "ticks": ""
             }
            },
            "type": "scatterternary"
           }
          ],
          "surface": [
           {
            "colorbar": {
             "outlinewidth": 0,
             "ticks": ""
            },
            "colorscale": [
             [
              0,
              "#0d0887"
             ],
             [
              0.1111111111111111,
              "#46039f"
             ],
             [
              0.2222222222222222,
              "#7201a8"
             ],
             [
              0.3333333333333333,
              "#9c179e"
             ],
             [
              0.4444444444444444,
              "#bd3786"
             ],
             [
              0.5555555555555556,
              "#d8576b"
             ],
             [
              0.6666666666666666,
              "#ed7953"
             ],
             [
              0.7777777777777778,
              "#fb9f3a"
             ],
             [
              0.8888888888888888,
              "#fdca26"
             ],
             [
              1,
              "#f0f921"
             ]
            ],
            "type": "surface"
           }
          ],
          "table": [
           {
            "cells": {
             "fill": {
              "color": "#EBF0F8"
             },
             "line": {
              "color": "white"
             }
            },
            "header": {
             "fill": {
              "color": "#C8D4E3"
             },
             "line": {
              "color": "white"
             }
            },
            "type": "table"
           }
          ]
         },
         "layout": {
          "annotationdefaults": {
           "arrowcolor": "#2a3f5f",
           "arrowhead": 0,
           "arrowwidth": 1
          },
          "coloraxis": {
           "colorbar": {
            "outlinewidth": 0,
            "ticks": ""
           }
          },
          "colorscale": {
           "diverging": [
            [
             0,
             "#8e0152"
            ],
            [
             0.1,
             "#c51b7d"
            ],
            [
             0.2,
             "#de77ae"
            ],
            [
             0.3,
             "#f1b6da"
            ],
            [
             0.4,
             "#fde0ef"
            ],
            [
             0.5,
             "#f7f7f7"
            ],
            [
             0.6,
             "#e6f5d0"
            ],
            [
             0.7,
             "#b8e186"
            ],
            [
             0.8,
             "#7fbc41"
            ],
            [
             0.9,
             "#4d9221"
            ],
            [
             1,
             "#276419"
            ]
           ],
           "sequential": [
            [
             0,
             "#0d0887"
            ],
            [
             0.1111111111111111,
             "#46039f"
            ],
            [
             0.2222222222222222,
             "#7201a8"
            ],
            [
             0.3333333333333333,
             "#9c179e"
            ],
            [
             0.4444444444444444,
             "#bd3786"
            ],
            [
             0.5555555555555556,
             "#d8576b"
            ],
            [
             0.6666666666666666,
             "#ed7953"
            ],
            [
             0.7777777777777778,
             "#fb9f3a"
            ],
            [
             0.8888888888888888,
             "#fdca26"
            ],
            [
             1,
             "#f0f921"
            ]
           ],
           "sequentialminus": [
            [
             0,
             "#0d0887"
            ],
            [
             0.1111111111111111,
             "#46039f"
            ],
            [
             0.2222222222222222,
             "#7201a8"
            ],
            [
             0.3333333333333333,
             "#9c179e"
            ],
            [
             0.4444444444444444,
             "#bd3786"
            ],
            [
             0.5555555555555556,
             "#d8576b"
            ],
            [
             0.6666666666666666,
             "#ed7953"
            ],
            [
             0.7777777777777778,
             "#fb9f3a"
            ],
            [
             0.8888888888888888,
             "#fdca26"
            ],
            [
             1,
             "#f0f921"
            ]
           ]
          },
          "colorway": [
           "#636efa",
           "#EF553B",
           "#00cc96",
           "#ab63fa",
           "#FFA15A",
           "#19d3f3",
           "#FF6692",
           "#B6E880",
           "#FF97FF",
           "#FECB52"
          ],
          "font": {
           "color": "#2a3f5f"
          },
          "geo": {
           "bgcolor": "white",
           "lakecolor": "white",
           "landcolor": "#E5ECF6",
           "showlakes": true,
           "showland": true,
           "subunitcolor": "white"
          },
          "hoverlabel": {
           "align": "left"
          },
          "hovermode": "closest",
          "mapbox": {
           "style": "light"
          },
          "paper_bgcolor": "white",
          "plot_bgcolor": "#E5ECF6",
          "polar": {
           "angularaxis": {
            "gridcolor": "white",
            "linecolor": "white",
            "ticks": ""
           },
           "bgcolor": "#E5ECF6",
           "radialaxis": {
            "gridcolor": "white",
            "linecolor": "white",
            "ticks": ""
           }
          },
          "scene": {
           "xaxis": {
            "backgroundcolor": "#E5ECF6",
            "gridcolor": "white",
            "gridwidth": 2,
            "linecolor": "white",
            "showbackground": true,
            "ticks": "",
            "zerolinecolor": "white"
           },
           "yaxis": {
            "backgroundcolor": "#E5ECF6",
            "gridcolor": "white",
            "gridwidth": 2,
            "linecolor": "white",
            "showbackground": true,
            "ticks": "",
            "zerolinecolor": "white"
           },
           "zaxis": {
            "backgroundcolor": "#E5ECF6",
            "gridcolor": "white",
            "gridwidth": 2,
            "linecolor": "white",
            "showbackground": true,
            "ticks": "",
            "zerolinecolor": "white"
           }
          },
          "shapedefaults": {
           "line": {
            "color": "#2a3f5f"
           }
          },
          "ternary": {
           "aaxis": {
            "gridcolor": "white",
            "linecolor": "white",
            "ticks": ""
           },
           "baxis": {
            "gridcolor": "white",
            "linecolor": "white",
            "ticks": ""
           },
           "bgcolor": "#E5ECF6",
           "caxis": {
            "gridcolor": "white",
            "linecolor": "white",
            "ticks": ""
           }
          },
          "title": {
           "x": 0.05
          },
          "xaxis": {
           "automargin": true,
           "gridcolor": "white",
           "linecolor": "white",
           "ticks": "",
           "title": {
            "standoff": 15
           },
           "zerolinecolor": "white",
           "zerolinewidth": 2
          },
          "yaxis": {
           "automargin": true,
           "gridcolor": "white",
           "linecolor": "white",
           "ticks": "",
           "title": {
            "standoff": 15
           },
           "zerolinecolor": "white",
           "zerolinewidth": 2
          }
         }
        },
        "title": {
         "text": "Recovered cases"
        }
       }
      },
      "text/html": [
       "<div>\n",
       "        \n",
       "        \n",
       "            <div id=\"90c7045e-79c5-4a88-acc9-6d5fcc535f08\" class=\"plotly-graph-div\" style=\"height:525px; width:100%;\"></div>\n",
       "            <script type=\"text/javascript\">\n",
       "                require([\"plotly\"], function(Plotly) {\n",
       "                    window.PLOTLYENV=window.PLOTLYENV || {};\n",
       "                    \n",
       "                if (document.getElementById(\"90c7045e-79c5-4a88-acc9-6d5fcc535f08\")) {\n",
       "                    Plotly.newPlot(\n",
       "                        '90c7045e-79c5-4a88-acc9-6d5fcc535f08',\n",
       "                        [{\"domain\": {\"x\": [0.0, 1.0], \"y\": [0.0, 1.0]}, \"hoverlabel\": {\"namelength\": 0}, \"hovertemplate\": \"Country/Region=%{label}<br>Recovered=%{value}\", \"labels\": [\"China\", \"Iran\", \"Italy\", \"South Korea\", \"Spain\", \"France\", \"Cruise Ship\", \"Germany\", \"Belgium\", \"Japan\", \"US\", \"Bahrain\", \"Singapore\", \"Malaysia\", \"Switzerland\", \"Australia\", \"United Kingdom\", \"Algeria\", \"Romania\", \"Iraq\", \"Egypt\", \"Thailand\", \"United Arab Emirates\", \"Israel\", \"Iceland\", \"Qatar\", \"Indonesia\", \"Taiwan\", \"Kuwait\", \"India\", \"Greece\", \"Oman\", \"Philippines\", \"Vietnam\", \"Saudi Arabia\", \"Russia\", \"Hungary\", \"Sweden\", \"Belarus\", \"Venezuela\", \"Canada\", \"Azerbaijan\", \"Finland\", \"Austria\", \"Chile\", \"Lebanon\", \"Slovakia\", \"Luxembourg\", \"Czechia\", \"French Guiana\", \"Ireland\", \"Senegal\", \"Pakistan\", \"Croatia\", \"Burkina Faso\", \"Portugal\", \"San Marino\", \"Ethiopia\", \"Mexico\", \"Georgia\", \"Argentina\", \"Bangladesh\", \"Morocco\", \"Sri Lanka\", \"Bulgaria\", \"Colombia\", \"Cyprus\", \"Ecuador\", \"Netherlands\", \"Albania\", \"Jamaica\", \"Malta\", \"Nigeria\", \"Brunei\", \"Brazil\", \"Bosnia and Herzegovina\", \"Armenia\", \"Estonia\", \"Costa Rica\", \"Poland\", \"Cambodia\", \"Lithuania\", \"Jordan\", \"Ukraine\", \"Serbia\", \"Tunisia\", \"Latvia\", \"Trinidad and Tobago\", \"Togo\", \"Moldova\", \"Afghanistan\", \"Cote d'Ivoire\", \"Peru\", \"Denmark\", \"Nepal\", \"North Macedonia\", \"Andorra\", \"Norway\", \"Monaco\", \"Puerto Rico\", \"Uruguay\", \"Paraguay\", \"Uzbekistan\", \"Papua New Guinea\", \"Panama\", \"Zambia\", \"Seychelles\", \"Republic of the Congo\", \"Tanzania\", \"Slovenia\", \"Somalia\", \"South Africa\", \"Sudan\", \"Suriname\", \"Syria\", \"The Bahamas\", \"Uganda\", \"The Gambia\", \"Timor-Leste\", \"Saint Vincent and the Grenadines\", \"Saint Lucia\", \"Rwanda\", \"Reunion\", \"Turkey\", \"Kazakhstan\", \"Niger\", \"Congo (Kinshasa)\", \"Gambia, The\", \"Gabon\", \"Fiji\", \"Eswatini\", \"Eritrea\", \"Equatorial Guinea\", \"El Salvador\", \"East Timor\", \"Dominican Republic\", \"Dominica\", \"Djibouti\", \"Cuba\", \"Congo (Brazzaville)\", \"Nicaragua\", \"Chad\", \"Central African Republic\", \"Cape Verde\", \"Cameroon\", \"Cabo Verde\", \"Bolivia\", \"Bhutan\", \"Benin\", \"Barbados\", \"Bahamas, The\", \"Antigua and Barbuda\", \"Angola\", \"Ghana\", \"Greenland\", \"Grenada\", \"Guadeloupe\", \"New Zealand\", \"Namibia\", \"Mozambique\", \"Montenegro\", \"Mongolia\", \"Mayotte\", \"Mauritius\", \"Mauritania\", \"Martinique\", \"Maldives\", \"Madagascar\", \"Liechtenstein\", \"Liberia\", \"Kyrgyzstan\", \"Kosovo\", \"Kenya\", \"Jersey\", \"Honduras\", \"Holy See\", \"Haiti\", \"Guyana\", \"Guinea\", \"Guernsey\", \"Guatemala\", \"Guam\", \"Zimbabwe\"], \"legendgroup\": \"\", \"name\": \"\", \"showlegend\": true, \"textinfo\": \"percent+label\", \"textposition\": \"inside\", \"type\": \"pie\", \"values\": [72814.0, 7931.0, 7024.0, 2909.0, 2575.0, 2200.0, 325.0, 266.0, 263.0, 235.0, 178.0, 149.0, 144.0, 139.0, 131.0, 88.0, 67.0, 65.0, 64.0, 57.0, 56.0, 44.0, 38.0, 37.0, 36.0, 33.0, 29.0, 28.0, 27.0, 27.0, 19.0, 17.0, 17.0, 17.0, 16.0, 16.0, 16.0, 16.0, 15.0, 15.0, 10.0, 10.0, 10.0, 9.0, 8.0, 8.0, 7.0, 6.0, 6.0, 6.0, 5.0, 5.0, 5.0, 5.0, 5.0, 5.0, 4.0, 4.0, 4.0, 3.0, 3.0, 3.0, 3.0, 3.0, 3.0, 3.0, 3.0, 3.0, 2.0, 2.0, 2.0, 2.0, 2.0, 2.0, 2.0, 2.0, 2.0, 2.0, 2.0, 1.0, 1.0, 1.0, 1.0, 1.0, 1.0, 1.0, 1.0, 1.0, 1.0, 1.0, 1.0, 1.0, 1.0, 1.0, 1.0, 1.0, 1.0, 1.0, 1.0, 0.0, 0.0, 0.0, 0.0, 0.0, 0.0, 0.0, 0.0, 0.0, 0.0, 0.0, 0.0, 0.0, 0.0, 0.0, 0.0, 0.0, 0.0, 0.0, 0.0, 0.0, 0.0, 0.0, 0.0, 0.0, 0.0, 0.0, 0.0, 0.0, 0.0, 0.0, 0.0, 0.0, 0.0, 0.0, 0.0, 0.0, 0.0, 0.0, 0.0, 0.0, 0.0, 0.0, 0.0, 0.0, 0.0, 0.0, 0.0, 0.0, 0.0, 0.0, 0.0, 0.0, 0.0, 0.0, 0.0, 0.0, 0.0, 0.0, 0.0, 0.0, 0.0, 0.0, 0.0, 0.0, 0.0, 0.0, 0.0, 0.0, 0.0, 0.0, 0.0, 0.0, 0.0, 0.0, 0.0, 0.0, 0.0, 0.0, 0.0, 0.0, 0.0, 0.0, 0.0]}],\n",
       "                        {\"legend\": {\"tracegroupgap\": 0}, \"template\": {\"data\": {\"bar\": [{\"error_x\": {\"color\": \"#2a3f5f\"}, \"error_y\": {\"color\": \"#2a3f5f\"}, \"marker\": {\"line\": {\"color\": \"#E5ECF6\", \"width\": 0.5}}, \"type\": \"bar\"}], \"barpolar\": [{\"marker\": {\"line\": {\"color\": \"#E5ECF6\", \"width\": 0.5}}, \"type\": \"barpolar\"}], \"carpet\": [{\"aaxis\": {\"endlinecolor\": \"#2a3f5f\", \"gridcolor\": \"white\", \"linecolor\": \"white\", \"minorgridcolor\": \"white\", \"startlinecolor\": \"#2a3f5f\"}, \"baxis\": {\"endlinecolor\": \"#2a3f5f\", \"gridcolor\": \"white\", \"linecolor\": \"white\", \"minorgridcolor\": \"white\", \"startlinecolor\": \"#2a3f5f\"}, \"type\": \"carpet\"}], \"choropleth\": [{\"colorbar\": {\"outlinewidth\": 0, \"ticks\": \"\"}, \"type\": \"choropleth\"}], \"contour\": [{\"colorbar\": {\"outlinewidth\": 0, \"ticks\": \"\"}, \"colorscale\": [[0.0, \"#0d0887\"], [0.1111111111111111, \"#46039f\"], [0.2222222222222222, \"#7201a8\"], [0.3333333333333333, \"#9c179e\"], [0.4444444444444444, \"#bd3786\"], [0.5555555555555556, \"#d8576b\"], [0.6666666666666666, \"#ed7953\"], [0.7777777777777778, \"#fb9f3a\"], [0.8888888888888888, \"#fdca26\"], [1.0, \"#f0f921\"]], \"type\": \"contour\"}], \"contourcarpet\": [{\"colorbar\": {\"outlinewidth\": 0, \"ticks\": \"\"}, \"type\": \"contourcarpet\"}], \"heatmap\": [{\"colorbar\": {\"outlinewidth\": 0, \"ticks\": \"\"}, \"colorscale\": [[0.0, \"#0d0887\"], [0.1111111111111111, \"#46039f\"], [0.2222222222222222, \"#7201a8\"], [0.3333333333333333, \"#9c179e\"], [0.4444444444444444, \"#bd3786\"], [0.5555555555555556, \"#d8576b\"], [0.6666666666666666, \"#ed7953\"], [0.7777777777777778, \"#fb9f3a\"], [0.8888888888888888, \"#fdca26\"], [1.0, \"#f0f921\"]], \"type\": \"heatmap\"}], \"heatmapgl\": [{\"colorbar\": {\"outlinewidth\": 0, \"ticks\": \"\"}, \"colorscale\": [[0.0, \"#0d0887\"], [0.1111111111111111, \"#46039f\"], [0.2222222222222222, \"#7201a8\"], [0.3333333333333333, \"#9c179e\"], [0.4444444444444444, \"#bd3786\"], [0.5555555555555556, \"#d8576b\"], [0.6666666666666666, \"#ed7953\"], [0.7777777777777778, \"#fb9f3a\"], [0.8888888888888888, \"#fdca26\"], [1.0, \"#f0f921\"]], \"type\": \"heatmapgl\"}], \"histogram\": [{\"marker\": {\"colorbar\": {\"outlinewidth\": 0, \"ticks\": \"\"}}, \"type\": \"histogram\"}], \"histogram2d\": [{\"colorbar\": {\"outlinewidth\": 0, \"ticks\": \"\"}, \"colorscale\": [[0.0, \"#0d0887\"], [0.1111111111111111, \"#46039f\"], [0.2222222222222222, \"#7201a8\"], [0.3333333333333333, \"#9c179e\"], [0.4444444444444444, \"#bd3786\"], [0.5555555555555556, \"#d8576b\"], [0.6666666666666666, \"#ed7953\"], [0.7777777777777778, \"#fb9f3a\"], [0.8888888888888888, \"#fdca26\"], [1.0, \"#f0f921\"]], \"type\": \"histogram2d\"}], \"histogram2dcontour\": [{\"colorbar\": {\"outlinewidth\": 0, \"ticks\": \"\"}, \"colorscale\": [[0.0, \"#0d0887\"], [0.1111111111111111, \"#46039f\"], [0.2222222222222222, \"#7201a8\"], [0.3333333333333333, \"#9c179e\"], [0.4444444444444444, \"#bd3786\"], [0.5555555555555556, \"#d8576b\"], [0.6666666666666666, \"#ed7953\"], [0.7777777777777778, \"#fb9f3a\"], [0.8888888888888888, \"#fdca26\"], [1.0, \"#f0f921\"]], \"type\": \"histogram2dcontour\"}], \"mesh3d\": [{\"colorbar\": {\"outlinewidth\": 0, \"ticks\": \"\"}, \"type\": \"mesh3d\"}], \"parcoords\": [{\"line\": {\"colorbar\": {\"outlinewidth\": 0, \"ticks\": \"\"}}, \"type\": \"parcoords\"}], \"pie\": [{\"automargin\": true, \"type\": \"pie\"}], \"scatter\": [{\"marker\": {\"colorbar\": {\"outlinewidth\": 0, \"ticks\": \"\"}}, \"type\": \"scatter\"}], \"scatter3d\": [{\"line\": {\"colorbar\": {\"outlinewidth\": 0, \"ticks\": \"\"}}, \"marker\": {\"colorbar\": {\"outlinewidth\": 0, \"ticks\": \"\"}}, \"type\": \"scatter3d\"}], \"scattercarpet\": [{\"marker\": {\"colorbar\": {\"outlinewidth\": 0, \"ticks\": \"\"}}, \"type\": \"scattercarpet\"}], \"scattergeo\": [{\"marker\": {\"colorbar\": {\"outlinewidth\": 0, \"ticks\": \"\"}}, \"type\": \"scattergeo\"}], \"scattergl\": [{\"marker\": {\"colorbar\": {\"outlinewidth\": 0, \"ticks\": \"\"}}, \"type\": \"scattergl\"}], \"scattermapbox\": [{\"marker\": {\"colorbar\": {\"outlinewidth\": 0, \"ticks\": \"\"}}, \"type\": \"scattermapbox\"}], \"scatterpolar\": [{\"marker\": {\"colorbar\": {\"outlinewidth\": 0, \"ticks\": \"\"}}, \"type\": \"scatterpolar\"}], \"scatterpolargl\": [{\"marker\": {\"colorbar\": {\"outlinewidth\": 0, \"ticks\": \"\"}}, \"type\": \"scatterpolargl\"}], \"scatterternary\": [{\"marker\": {\"colorbar\": {\"outlinewidth\": 0, \"ticks\": \"\"}}, \"type\": \"scatterternary\"}], \"surface\": [{\"colorbar\": {\"outlinewidth\": 0, \"ticks\": \"\"}, \"colorscale\": [[0.0, \"#0d0887\"], [0.1111111111111111, \"#46039f\"], [0.2222222222222222, \"#7201a8\"], [0.3333333333333333, \"#9c179e\"], [0.4444444444444444, \"#bd3786\"], [0.5555555555555556, \"#d8576b\"], [0.6666666666666666, \"#ed7953\"], [0.7777777777777778, \"#fb9f3a\"], [0.8888888888888888, \"#fdca26\"], [1.0, \"#f0f921\"]], \"type\": \"surface\"}], \"table\": [{\"cells\": {\"fill\": {\"color\": \"#EBF0F8\"}, \"line\": {\"color\": \"white\"}}, \"header\": {\"fill\": {\"color\": \"#C8D4E3\"}, \"line\": {\"color\": \"white\"}}, \"type\": \"table\"}]}, \"layout\": {\"annotationdefaults\": {\"arrowcolor\": \"#2a3f5f\", \"arrowhead\": 0, \"arrowwidth\": 1}, \"coloraxis\": {\"colorbar\": {\"outlinewidth\": 0, \"ticks\": \"\"}}, \"colorscale\": {\"diverging\": [[0, \"#8e0152\"], [0.1, \"#c51b7d\"], [0.2, \"#de77ae\"], [0.3, \"#f1b6da\"], [0.4, \"#fde0ef\"], [0.5, \"#f7f7f7\"], [0.6, \"#e6f5d0\"], [0.7, \"#b8e186\"], [0.8, \"#7fbc41\"], [0.9, \"#4d9221\"], [1, \"#276419\"]], \"sequential\": [[0.0, \"#0d0887\"], [0.1111111111111111, \"#46039f\"], [0.2222222222222222, \"#7201a8\"], [0.3333333333333333, \"#9c179e\"], [0.4444444444444444, \"#bd3786\"], [0.5555555555555556, \"#d8576b\"], [0.6666666666666666, \"#ed7953\"], [0.7777777777777778, \"#fb9f3a\"], [0.8888888888888888, \"#fdca26\"], [1.0, \"#f0f921\"]], \"sequentialminus\": [[0.0, \"#0d0887\"], [0.1111111111111111, \"#46039f\"], [0.2222222222222222, \"#7201a8\"], [0.3333333333333333, \"#9c179e\"], [0.4444444444444444, \"#bd3786\"], [0.5555555555555556, \"#d8576b\"], [0.6666666666666666, \"#ed7953\"], [0.7777777777777778, \"#fb9f3a\"], [0.8888888888888888, \"#fdca26\"], [1.0, \"#f0f921\"]]}, \"colorway\": [\"#636efa\", \"#EF553B\", \"#00cc96\", \"#ab63fa\", \"#FFA15A\", \"#19d3f3\", \"#FF6692\", \"#B6E880\", \"#FF97FF\", \"#FECB52\"], \"font\": {\"color\": \"#2a3f5f\"}, \"geo\": {\"bgcolor\": \"white\", \"lakecolor\": \"white\", \"landcolor\": \"#E5ECF6\", \"showlakes\": true, \"showland\": true, \"subunitcolor\": \"white\"}, \"hoverlabel\": {\"align\": \"left\"}, \"hovermode\": \"closest\", \"mapbox\": {\"style\": \"light\"}, \"paper_bgcolor\": \"white\", \"plot_bgcolor\": \"#E5ECF6\", \"polar\": {\"angularaxis\": {\"gridcolor\": \"white\", \"linecolor\": \"white\", \"ticks\": \"\"}, \"bgcolor\": \"#E5ECF6\", \"radialaxis\": {\"gridcolor\": \"white\", \"linecolor\": \"white\", \"ticks\": \"\"}}, \"scene\": {\"xaxis\": {\"backgroundcolor\": \"#E5ECF6\", \"gridcolor\": \"white\", \"gridwidth\": 2, \"linecolor\": \"white\", \"showbackground\": true, \"ticks\": \"\", \"zerolinecolor\": \"white\"}, \"yaxis\": {\"backgroundcolor\": \"#E5ECF6\", \"gridcolor\": \"white\", \"gridwidth\": 2, \"linecolor\": \"white\", \"showbackground\": true, \"ticks\": \"\", \"zerolinecolor\": \"white\"}, \"zaxis\": {\"backgroundcolor\": \"#E5ECF6\", \"gridcolor\": \"white\", \"gridwidth\": 2, \"linecolor\": \"white\", \"showbackground\": true, \"ticks\": \"\", \"zerolinecolor\": \"white\"}}, \"shapedefaults\": {\"line\": {\"color\": \"#2a3f5f\"}}, \"ternary\": {\"aaxis\": {\"gridcolor\": \"white\", \"linecolor\": \"white\", \"ticks\": \"\"}, \"baxis\": {\"gridcolor\": \"white\", \"linecolor\": \"white\", \"ticks\": \"\"}, \"bgcolor\": \"#E5ECF6\", \"caxis\": {\"gridcolor\": \"white\", \"linecolor\": \"white\", \"ticks\": \"\"}}, \"title\": {\"x\": 0.05}, \"xaxis\": {\"automargin\": true, \"gridcolor\": \"white\", \"linecolor\": \"white\", \"ticks\": \"\", \"title\": {\"standoff\": 15}, \"zerolinecolor\": \"white\", \"zerolinewidth\": 2}, \"yaxis\": {\"automargin\": true, \"gridcolor\": \"white\", \"linecolor\": \"white\", \"ticks\": \"\", \"title\": {\"standoff\": 15}, \"zerolinecolor\": \"white\", \"zerolinewidth\": 2}}}, \"title\": {\"text\": \"Recovered cases\"}},\n",
       "                        {\"responsive\": true}\n",
       "                    ).then(function(){\n",
       "                            \n",
       "var gd = document.getElementById('90c7045e-79c5-4a88-acc9-6d5fcc535f08');\n",
       "var x = new MutationObserver(function (mutations, observer) {{\n",
       "        var display = window.getComputedStyle(gd).display;\n",
       "        if (!display || display === 'none') {{\n",
       "            console.log([gd, 'removed!']);\n",
       "            Plotly.purge(gd);\n",
       "            observer.disconnect();\n",
       "        }}\n",
       "}});\n",
       "\n",
       "// Listen for the removal of the full notebook cells\n",
       "var notebookContainer = gd.closest('#notebook-container');\n",
       "if (notebookContainer) {{\n",
       "    x.observe(notebookContainer, {childList: true});\n",
       "}}\n",
       "\n",
       "// Listen for the clearing of the current output cell\n",
       "var outputEl = gd.closest('.output');\n",
       "if (outputEl) {{\n",
       "    x.observe(outputEl, {childList: true});\n",
       "}}\n",
       "\n",
       "                        })\n",
       "                };\n",
       "                });\n",
       "            </script>\n",
       "        </div>"
      ]
     },
     "metadata": {},
     "output_type": "display_data"
    }
   ],
   "source": [
    "Recovered_per_country = full_latest.groupby([\"Country/Region\"])[\"Recovered\"].sum().reset_index().sort_values(\"Recovered\",ascending=False).reset_index(drop=True)\n",
    "fig = px.pie(Recovered_per_country, values=Recovered_per_country['Recovered'], names=Recovered_per_country['Country/Region'],\n",
    "             title='Recovered cases',\n",
    "            )\n",
    "fig.update_traces(textposition='inside', textinfo='percent+label')\n",
    "fig.show()"
   ]
  },
  {
   "cell_type": "code",
   "execution_count": 59,
   "metadata": {},
   "outputs": [
    {
     "data": {
      "application/vnd.plotly.v1+json": {
       "config": {
        "plotlyServerURL": "https://plot.ly"
       },
       "data": [
        {
         "marker": {
          "color": "green"
         },
         "text": [
          72814,
          7931,
          7024,
          2909,
          2575,
          2200,
          325,
          266,
          263,
          235
         ],
         "textposition": "auto",
         "type": "bar",
         "x": [
          "China",
          "Iran",
          "Italy",
          "South Korea",
          "Spain",
          "France",
          "Cruise Ship",
          "Germany",
          "Belgium",
          "Japan"
         ],
         "y": [
          72814,
          7931,
          7024,
          2909,
          2575,
          2200,
          325,
          266,
          263,
          235
         ]
        }
       ],
       "layout": {
        "template": {
         "data": {
          "bar": [
           {
            "error_x": {
             "color": "#2a3f5f"
            },
            "error_y": {
             "color": "#2a3f5f"
            },
            "marker": {
             "line": {
              "color": "#E5ECF6",
              "width": 0.5
             }
            },
            "type": "bar"
           }
          ],
          "barpolar": [
           {
            "marker": {
             "line": {
              "color": "#E5ECF6",
              "width": 0.5
             }
            },
            "type": "barpolar"
           }
          ],
          "carpet": [
           {
            "aaxis": {
             "endlinecolor": "#2a3f5f",
             "gridcolor": "white",
             "linecolor": "white",
             "minorgridcolor": "white",
             "startlinecolor": "#2a3f5f"
            },
            "baxis": {
             "endlinecolor": "#2a3f5f",
             "gridcolor": "white",
             "linecolor": "white",
             "minorgridcolor": "white",
             "startlinecolor": "#2a3f5f"
            },
            "type": "carpet"
           }
          ],
          "choropleth": [
           {
            "colorbar": {
             "outlinewidth": 0,
             "ticks": ""
            },
            "type": "choropleth"
           }
          ],
          "contour": [
           {
            "colorbar": {
             "outlinewidth": 0,
             "ticks": ""
            },
            "colorscale": [
             [
              0,
              "#0d0887"
             ],
             [
              0.1111111111111111,
              "#46039f"
             ],
             [
              0.2222222222222222,
              "#7201a8"
             ],
             [
              0.3333333333333333,
              "#9c179e"
             ],
             [
              0.4444444444444444,
              "#bd3786"
             ],
             [
              0.5555555555555556,
              "#d8576b"
             ],
             [
              0.6666666666666666,
              "#ed7953"
             ],
             [
              0.7777777777777778,
              "#fb9f3a"
             ],
             [
              0.8888888888888888,
              "#fdca26"
             ],
             [
              1,
              "#f0f921"
             ]
            ],
            "type": "contour"
           }
          ],
          "contourcarpet": [
           {
            "colorbar": {
             "outlinewidth": 0,
             "ticks": ""
            },
            "type": "contourcarpet"
           }
          ],
          "heatmap": [
           {
            "colorbar": {
             "outlinewidth": 0,
             "ticks": ""
            },
            "colorscale": [
             [
              0,
              "#0d0887"
             ],
             [
              0.1111111111111111,
              "#46039f"
             ],
             [
              0.2222222222222222,
              "#7201a8"
             ],
             [
              0.3333333333333333,
              "#9c179e"
             ],
             [
              0.4444444444444444,
              "#bd3786"
             ],
             [
              0.5555555555555556,
              "#d8576b"
             ],
             [
              0.6666666666666666,
              "#ed7953"
             ],
             [
              0.7777777777777778,
              "#fb9f3a"
             ],
             [
              0.8888888888888888,
              "#fdca26"
             ],
             [
              1,
              "#f0f921"
             ]
            ],
            "type": "heatmap"
           }
          ],
          "heatmapgl": [
           {
            "colorbar": {
             "outlinewidth": 0,
             "ticks": ""
            },
            "colorscale": [
             [
              0,
              "#0d0887"
             ],
             [
              0.1111111111111111,
              "#46039f"
             ],
             [
              0.2222222222222222,
              "#7201a8"
             ],
             [
              0.3333333333333333,
              "#9c179e"
             ],
             [
              0.4444444444444444,
              "#bd3786"
             ],
             [
              0.5555555555555556,
              "#d8576b"
             ],
             [
              0.6666666666666666,
              "#ed7953"
             ],
             [
              0.7777777777777778,
              "#fb9f3a"
             ],
             [
              0.8888888888888888,
              "#fdca26"
             ],
             [
              1,
              "#f0f921"
             ]
            ],
            "type": "heatmapgl"
           }
          ],
          "histogram": [
           {
            "marker": {
             "colorbar": {
              "outlinewidth": 0,
              "ticks": ""
             }
            },
            "type": "histogram"
           }
          ],
          "histogram2d": [
           {
            "colorbar": {
             "outlinewidth": 0,
             "ticks": ""
            },
            "colorscale": [
             [
              0,
              "#0d0887"
             ],
             [
              0.1111111111111111,
              "#46039f"
             ],
             [
              0.2222222222222222,
              "#7201a8"
             ],
             [
              0.3333333333333333,
              "#9c179e"
             ],
             [
              0.4444444444444444,
              "#bd3786"
             ],
             [
              0.5555555555555556,
              "#d8576b"
             ],
             [
              0.6666666666666666,
              "#ed7953"
             ],
             [
              0.7777777777777778,
              "#fb9f3a"
             ],
             [
              0.8888888888888888,
              "#fdca26"
             ],
             [
              1,
              "#f0f921"
             ]
            ],
            "type": "histogram2d"
           }
          ],
          "histogram2dcontour": [
           {
            "colorbar": {
             "outlinewidth": 0,
             "ticks": ""
            },
            "colorscale": [
             [
              0,
              "#0d0887"
             ],
             [
              0.1111111111111111,
              "#46039f"
             ],
             [
              0.2222222222222222,
              "#7201a8"
             ],
             [
              0.3333333333333333,
              "#9c179e"
             ],
             [
              0.4444444444444444,
              "#bd3786"
             ],
             [
              0.5555555555555556,
              "#d8576b"
             ],
             [
              0.6666666666666666,
              "#ed7953"
             ],
             [
              0.7777777777777778,
              "#fb9f3a"
             ],
             [
              0.8888888888888888,
              "#fdca26"
             ],
             [
              1,
              "#f0f921"
             ]
            ],
            "type": "histogram2dcontour"
           }
          ],
          "mesh3d": [
           {
            "colorbar": {
             "outlinewidth": 0,
             "ticks": ""
            },
            "type": "mesh3d"
           }
          ],
          "parcoords": [
           {
            "line": {
             "colorbar": {
              "outlinewidth": 0,
              "ticks": ""
             }
            },
            "type": "parcoords"
           }
          ],
          "pie": [
           {
            "automargin": true,
            "type": "pie"
           }
          ],
          "scatter": [
           {
            "marker": {
             "colorbar": {
              "outlinewidth": 0,
              "ticks": ""
             }
            },
            "type": "scatter"
           }
          ],
          "scatter3d": [
           {
            "line": {
             "colorbar": {
              "outlinewidth": 0,
              "ticks": ""
             }
            },
            "marker": {
             "colorbar": {
              "outlinewidth": 0,
              "ticks": ""
             }
            },
            "type": "scatter3d"
           }
          ],
          "scattercarpet": [
           {
            "marker": {
             "colorbar": {
              "outlinewidth": 0,
              "ticks": ""
             }
            },
            "type": "scattercarpet"
           }
          ],
          "scattergeo": [
           {
            "marker": {
             "colorbar": {
              "outlinewidth": 0,
              "ticks": ""
             }
            },
            "type": "scattergeo"
           }
          ],
          "scattergl": [
           {
            "marker": {
             "colorbar": {
              "outlinewidth": 0,
              "ticks": ""
             }
            },
            "type": "scattergl"
           }
          ],
          "scattermapbox": [
           {
            "marker": {
             "colorbar": {
              "outlinewidth": 0,
              "ticks": ""
             }
            },
            "type": "scattermapbox"
           }
          ],
          "scatterpolar": [
           {
            "marker": {
             "colorbar": {
              "outlinewidth": 0,
              "ticks": ""
             }
            },
            "type": "scatterpolar"
           }
          ],
          "scatterpolargl": [
           {
            "marker": {
             "colorbar": {
              "outlinewidth": 0,
              "ticks": ""
             }
            },
            "type": "scatterpolargl"
           }
          ],
          "scatterternary": [
           {
            "marker": {
             "colorbar": {
              "outlinewidth": 0,
              "ticks": ""
             }
            },
            "type": "scatterternary"
           }
          ],
          "surface": [
           {
            "colorbar": {
             "outlinewidth": 0,
             "ticks": ""
            },
            "colorscale": [
             [
              0,
              "#0d0887"
             ],
             [
              0.1111111111111111,
              "#46039f"
             ],
             [
              0.2222222222222222,
              "#7201a8"
             ],
             [
              0.3333333333333333,
              "#9c179e"
             ],
             [
              0.4444444444444444,
              "#bd3786"
             ],
             [
              0.5555555555555556,
              "#d8576b"
             ],
             [
              0.6666666666666666,
              "#ed7953"
             ],
             [
              0.7777777777777778,
              "#fb9f3a"
             ],
             [
              0.8888888888888888,
              "#fdca26"
             ],
             [
              1,
              "#f0f921"
             ]
            ],
            "type": "surface"
           }
          ],
          "table": [
           {
            "cells": {
             "fill": {
              "color": "#EBF0F8"
             },
             "line": {
              "color": "white"
             }
            },
            "header": {
             "fill": {
              "color": "#C8D4E3"
             },
             "line": {
              "color": "white"
             }
            },
            "type": "table"
           }
          ]
         },
         "layout": {
          "annotationdefaults": {
           "arrowcolor": "#2a3f5f",
           "arrowhead": 0,
           "arrowwidth": 1
          },
          "coloraxis": {
           "colorbar": {
            "outlinewidth": 0,
            "ticks": ""
           }
          },
          "colorscale": {
           "diverging": [
            [
             0,
             "#8e0152"
            ],
            [
             0.1,
             "#c51b7d"
            ],
            [
             0.2,
             "#de77ae"
            ],
            [
             0.3,
             "#f1b6da"
            ],
            [
             0.4,
             "#fde0ef"
            ],
            [
             0.5,
             "#f7f7f7"
            ],
            [
             0.6,
             "#e6f5d0"
            ],
            [
             0.7,
             "#b8e186"
            ],
            [
             0.8,
             "#7fbc41"
            ],
            [
             0.9,
             "#4d9221"
            ],
            [
             1,
             "#276419"
            ]
           ],
           "sequential": [
            [
             0,
             "#0d0887"
            ],
            [
             0.1111111111111111,
             "#46039f"
            ],
            [
             0.2222222222222222,
             "#7201a8"
            ],
            [
             0.3333333333333333,
             "#9c179e"
            ],
            [
             0.4444444444444444,
             "#bd3786"
            ],
            [
             0.5555555555555556,
             "#d8576b"
            ],
            [
             0.6666666666666666,
             "#ed7953"
            ],
            [
             0.7777777777777778,
             "#fb9f3a"
            ],
            [
             0.8888888888888888,
             "#fdca26"
            ],
            [
             1,
             "#f0f921"
            ]
           ],
           "sequentialminus": [
            [
             0,
             "#0d0887"
            ],
            [
             0.1111111111111111,
             "#46039f"
            ],
            [
             0.2222222222222222,
             "#7201a8"
            ],
            [
             0.3333333333333333,
             "#9c179e"
            ],
            [
             0.4444444444444444,
             "#bd3786"
            ],
            [
             0.5555555555555556,
             "#d8576b"
            ],
            [
             0.6666666666666666,
             "#ed7953"
            ],
            [
             0.7777777777777778,
             "#fb9f3a"
            ],
            [
             0.8888888888888888,
             "#fdca26"
            ],
            [
             1,
             "#f0f921"
            ]
           ]
          },
          "colorway": [
           "#636efa",
           "#EF553B",
           "#00cc96",
           "#ab63fa",
           "#FFA15A",
           "#19d3f3",
           "#FF6692",
           "#B6E880",
           "#FF97FF",
           "#FECB52"
          ],
          "font": {
           "color": "#2a3f5f"
          },
          "geo": {
           "bgcolor": "white",
           "lakecolor": "white",
           "landcolor": "#E5ECF6",
           "showlakes": true,
           "showland": true,
           "subunitcolor": "white"
          },
          "hoverlabel": {
           "align": "left"
          },
          "hovermode": "closest",
          "mapbox": {
           "style": "light"
          },
          "paper_bgcolor": "white",
          "plot_bgcolor": "#E5ECF6",
          "polar": {
           "angularaxis": {
            "gridcolor": "white",
            "linecolor": "white",
            "ticks": ""
           },
           "bgcolor": "#E5ECF6",
           "radialaxis": {
            "gridcolor": "white",
            "linecolor": "white",
            "ticks": ""
           }
          },
          "scene": {
           "xaxis": {
            "backgroundcolor": "#E5ECF6",
            "gridcolor": "white",
            "gridwidth": 2,
            "linecolor": "white",
            "showbackground": true,
            "ticks": "",
            "zerolinecolor": "white"
           },
           "yaxis": {
            "backgroundcolor": "#E5ECF6",
            "gridcolor": "white",
            "gridwidth": 2,
            "linecolor": "white",
            "showbackground": true,
            "ticks": "",
            "zerolinecolor": "white"
           },
           "zaxis": {
            "backgroundcolor": "#E5ECF6",
            "gridcolor": "white",
            "gridwidth": 2,
            "linecolor": "white",
            "showbackground": true,
            "ticks": "",
            "zerolinecolor": "white"
           }
          },
          "shapedefaults": {
           "line": {
            "color": "#2a3f5f"
           }
          },
          "ternary": {
           "aaxis": {
            "gridcolor": "white",
            "linecolor": "white",
            "ticks": ""
           },
           "baxis": {
            "gridcolor": "white",
            "linecolor": "white",
            "ticks": ""
           },
           "bgcolor": "#E5ECF6",
           "caxis": {
            "gridcolor": "white",
            "linecolor": "white",
            "ticks": ""
           }
          },
          "title": {
           "x": 0.05
          },
          "xaxis": {
           "automargin": true,
           "gridcolor": "white",
           "linecolor": "white",
           "ticks": "",
           "title": {
            "standoff": 15
           },
           "zerolinecolor": "white",
           "zerolinewidth": 2
          },
          "yaxis": {
           "automargin": true,
           "gridcolor": "white",
           "linecolor": "white",
           "ticks": "",
           "title": {
            "standoff": 15
           },
           "zerolinecolor": "white",
           "zerolinewidth": 2
          }
         }
        },
        "title": {
         "text": "Top 10 Recovered Countries"
        },
        "xaxis": {
         "title": {
          "text": "Countries"
         }
        },
        "yaxis": {
         "title": {
          "text": "Recovered Cases"
         }
        }
       }
      },
      "text/html": [
       "<div>\n",
       "        \n",
       "        \n",
       "            <div id=\"a6e8bf4e-8059-4782-8b6c-e73547dea90c\" class=\"plotly-graph-div\" style=\"height:525px; width:100%;\"></div>\n",
       "            <script type=\"text/javascript\">\n",
       "                require([\"plotly\"], function(Plotly) {\n",
       "                    window.PLOTLYENV=window.PLOTLYENV || {};\n",
       "                    \n",
       "                if (document.getElementById(\"a6e8bf4e-8059-4782-8b6c-e73547dea90c\")) {\n",
       "                    Plotly.newPlot(\n",
       "                        'a6e8bf4e-8059-4782-8b6c-e73547dea90c',\n",
       "                        [{\"marker\": {\"color\": \"green\"}, \"text\": [72814.0, 7931.0, 7024.0, 2909.0, 2575.0, 2200.0, 325.0, 266.0, 263.0, 235.0], \"textposition\": \"auto\", \"type\": \"bar\", \"x\": [\"China\", \"Iran\", \"Italy\", \"South Korea\", \"Spain\", \"France\", \"Cruise Ship\", \"Germany\", \"Belgium\", \"Japan\"], \"y\": [72814.0, 7931.0, 7024.0, 2909.0, 2575.0, 2200.0, 325.0, 266.0, 263.0, 235.0]}],\n",
       "                        {\"template\": {\"data\": {\"bar\": [{\"error_x\": {\"color\": \"#2a3f5f\"}, \"error_y\": {\"color\": \"#2a3f5f\"}, \"marker\": {\"line\": {\"color\": \"#E5ECF6\", \"width\": 0.5}}, \"type\": \"bar\"}], \"barpolar\": [{\"marker\": {\"line\": {\"color\": \"#E5ECF6\", \"width\": 0.5}}, \"type\": \"barpolar\"}], \"carpet\": [{\"aaxis\": {\"endlinecolor\": \"#2a3f5f\", \"gridcolor\": \"white\", \"linecolor\": \"white\", \"minorgridcolor\": \"white\", \"startlinecolor\": \"#2a3f5f\"}, \"baxis\": {\"endlinecolor\": \"#2a3f5f\", \"gridcolor\": \"white\", \"linecolor\": \"white\", \"minorgridcolor\": \"white\", \"startlinecolor\": \"#2a3f5f\"}, \"type\": \"carpet\"}], \"choropleth\": [{\"colorbar\": {\"outlinewidth\": 0, \"ticks\": \"\"}, \"type\": \"choropleth\"}], \"contour\": [{\"colorbar\": {\"outlinewidth\": 0, \"ticks\": \"\"}, \"colorscale\": [[0.0, \"#0d0887\"], [0.1111111111111111, \"#46039f\"], [0.2222222222222222, \"#7201a8\"], [0.3333333333333333, \"#9c179e\"], [0.4444444444444444, \"#bd3786\"], [0.5555555555555556, \"#d8576b\"], [0.6666666666666666, \"#ed7953\"], [0.7777777777777778, \"#fb9f3a\"], [0.8888888888888888, \"#fdca26\"], [1.0, \"#f0f921\"]], \"type\": \"contour\"}], \"contourcarpet\": [{\"colorbar\": {\"outlinewidth\": 0, \"ticks\": \"\"}, \"type\": \"contourcarpet\"}], \"heatmap\": [{\"colorbar\": {\"outlinewidth\": 0, \"ticks\": \"\"}, \"colorscale\": [[0.0, \"#0d0887\"], [0.1111111111111111, \"#46039f\"], [0.2222222222222222, \"#7201a8\"], [0.3333333333333333, \"#9c179e\"], [0.4444444444444444, \"#bd3786\"], [0.5555555555555556, \"#d8576b\"], [0.6666666666666666, \"#ed7953\"], [0.7777777777777778, \"#fb9f3a\"], [0.8888888888888888, \"#fdca26\"], [1.0, \"#f0f921\"]], \"type\": \"heatmap\"}], \"heatmapgl\": [{\"colorbar\": {\"outlinewidth\": 0, \"ticks\": \"\"}, \"colorscale\": [[0.0, \"#0d0887\"], [0.1111111111111111, \"#46039f\"], [0.2222222222222222, \"#7201a8\"], [0.3333333333333333, \"#9c179e\"], [0.4444444444444444, \"#bd3786\"], [0.5555555555555556, \"#d8576b\"], [0.6666666666666666, \"#ed7953\"], [0.7777777777777778, \"#fb9f3a\"], [0.8888888888888888, \"#fdca26\"], [1.0, \"#f0f921\"]], \"type\": \"heatmapgl\"}], \"histogram\": [{\"marker\": {\"colorbar\": {\"outlinewidth\": 0, \"ticks\": \"\"}}, \"type\": \"histogram\"}], \"histogram2d\": [{\"colorbar\": {\"outlinewidth\": 0, \"ticks\": \"\"}, \"colorscale\": [[0.0, \"#0d0887\"], [0.1111111111111111, \"#46039f\"], [0.2222222222222222, \"#7201a8\"], [0.3333333333333333, \"#9c179e\"], [0.4444444444444444, \"#bd3786\"], [0.5555555555555556, \"#d8576b\"], [0.6666666666666666, \"#ed7953\"], [0.7777777777777778, \"#fb9f3a\"], [0.8888888888888888, \"#fdca26\"], [1.0, \"#f0f921\"]], \"type\": \"histogram2d\"}], \"histogram2dcontour\": [{\"colorbar\": {\"outlinewidth\": 0, \"ticks\": \"\"}, \"colorscale\": [[0.0, \"#0d0887\"], [0.1111111111111111, \"#46039f\"], [0.2222222222222222, \"#7201a8\"], [0.3333333333333333, \"#9c179e\"], [0.4444444444444444, \"#bd3786\"], [0.5555555555555556, \"#d8576b\"], [0.6666666666666666, \"#ed7953\"], [0.7777777777777778, \"#fb9f3a\"], [0.8888888888888888, \"#fdca26\"], [1.0, \"#f0f921\"]], \"type\": \"histogram2dcontour\"}], \"mesh3d\": [{\"colorbar\": {\"outlinewidth\": 0, \"ticks\": \"\"}, \"type\": \"mesh3d\"}], \"parcoords\": [{\"line\": {\"colorbar\": {\"outlinewidth\": 0, \"ticks\": \"\"}}, \"type\": \"parcoords\"}], \"pie\": [{\"automargin\": true, \"type\": \"pie\"}], \"scatter\": [{\"marker\": {\"colorbar\": {\"outlinewidth\": 0, \"ticks\": \"\"}}, \"type\": \"scatter\"}], \"scatter3d\": [{\"line\": {\"colorbar\": {\"outlinewidth\": 0, \"ticks\": \"\"}}, \"marker\": {\"colorbar\": {\"outlinewidth\": 0, \"ticks\": \"\"}}, \"type\": \"scatter3d\"}], \"scattercarpet\": [{\"marker\": {\"colorbar\": {\"outlinewidth\": 0, \"ticks\": \"\"}}, \"type\": \"scattercarpet\"}], \"scattergeo\": [{\"marker\": {\"colorbar\": {\"outlinewidth\": 0, \"ticks\": \"\"}}, \"type\": \"scattergeo\"}], \"scattergl\": [{\"marker\": {\"colorbar\": {\"outlinewidth\": 0, \"ticks\": \"\"}}, \"type\": \"scattergl\"}], \"scattermapbox\": [{\"marker\": {\"colorbar\": {\"outlinewidth\": 0, \"ticks\": \"\"}}, \"type\": \"scattermapbox\"}], \"scatterpolar\": [{\"marker\": {\"colorbar\": {\"outlinewidth\": 0, \"ticks\": \"\"}}, \"type\": \"scatterpolar\"}], \"scatterpolargl\": [{\"marker\": {\"colorbar\": {\"outlinewidth\": 0, \"ticks\": \"\"}}, \"type\": \"scatterpolargl\"}], \"scatterternary\": [{\"marker\": {\"colorbar\": {\"outlinewidth\": 0, \"ticks\": \"\"}}, \"type\": \"scatterternary\"}], \"surface\": [{\"colorbar\": {\"outlinewidth\": 0, \"ticks\": \"\"}, \"colorscale\": [[0.0, \"#0d0887\"], [0.1111111111111111, \"#46039f\"], [0.2222222222222222, \"#7201a8\"], [0.3333333333333333, \"#9c179e\"], [0.4444444444444444, \"#bd3786\"], [0.5555555555555556, \"#d8576b\"], [0.6666666666666666, \"#ed7953\"], [0.7777777777777778, \"#fb9f3a\"], [0.8888888888888888, \"#fdca26\"], [1.0, \"#f0f921\"]], \"type\": \"surface\"}], \"table\": [{\"cells\": {\"fill\": {\"color\": \"#EBF0F8\"}, \"line\": {\"color\": \"white\"}}, \"header\": {\"fill\": {\"color\": \"#C8D4E3\"}, \"line\": {\"color\": \"white\"}}, \"type\": \"table\"}]}, \"layout\": {\"annotationdefaults\": {\"arrowcolor\": \"#2a3f5f\", \"arrowhead\": 0, \"arrowwidth\": 1}, \"coloraxis\": {\"colorbar\": {\"outlinewidth\": 0, \"ticks\": \"\"}}, \"colorscale\": {\"diverging\": [[0, \"#8e0152\"], [0.1, \"#c51b7d\"], [0.2, \"#de77ae\"], [0.3, \"#f1b6da\"], [0.4, \"#fde0ef\"], [0.5, \"#f7f7f7\"], [0.6, \"#e6f5d0\"], [0.7, \"#b8e186\"], [0.8, \"#7fbc41\"], [0.9, \"#4d9221\"], [1, \"#276419\"]], \"sequential\": [[0.0, \"#0d0887\"], [0.1111111111111111, \"#46039f\"], [0.2222222222222222, \"#7201a8\"], [0.3333333333333333, \"#9c179e\"], [0.4444444444444444, \"#bd3786\"], [0.5555555555555556, \"#d8576b\"], [0.6666666666666666, \"#ed7953\"], [0.7777777777777778, \"#fb9f3a\"], [0.8888888888888888, \"#fdca26\"], [1.0, \"#f0f921\"]], \"sequentialminus\": [[0.0, \"#0d0887\"], [0.1111111111111111, \"#46039f\"], [0.2222222222222222, \"#7201a8\"], [0.3333333333333333, \"#9c179e\"], [0.4444444444444444, \"#bd3786\"], [0.5555555555555556, \"#d8576b\"], [0.6666666666666666, \"#ed7953\"], [0.7777777777777778, \"#fb9f3a\"], [0.8888888888888888, \"#fdca26\"], [1.0, \"#f0f921\"]]}, \"colorway\": [\"#636efa\", \"#EF553B\", \"#00cc96\", \"#ab63fa\", \"#FFA15A\", \"#19d3f3\", \"#FF6692\", \"#B6E880\", \"#FF97FF\", \"#FECB52\"], \"font\": {\"color\": \"#2a3f5f\"}, \"geo\": {\"bgcolor\": \"white\", \"lakecolor\": \"white\", \"landcolor\": \"#E5ECF6\", \"showlakes\": true, \"showland\": true, \"subunitcolor\": \"white\"}, \"hoverlabel\": {\"align\": \"left\"}, \"hovermode\": \"closest\", \"mapbox\": {\"style\": \"light\"}, \"paper_bgcolor\": \"white\", \"plot_bgcolor\": \"#E5ECF6\", \"polar\": {\"angularaxis\": {\"gridcolor\": \"white\", \"linecolor\": \"white\", \"ticks\": \"\"}, \"bgcolor\": \"#E5ECF6\", \"radialaxis\": {\"gridcolor\": \"white\", \"linecolor\": \"white\", \"ticks\": \"\"}}, \"scene\": {\"xaxis\": {\"backgroundcolor\": \"#E5ECF6\", \"gridcolor\": \"white\", \"gridwidth\": 2, \"linecolor\": \"white\", \"showbackground\": true, \"ticks\": \"\", \"zerolinecolor\": \"white\"}, \"yaxis\": {\"backgroundcolor\": \"#E5ECF6\", \"gridcolor\": \"white\", \"gridwidth\": 2, \"linecolor\": \"white\", \"showbackground\": true, \"ticks\": \"\", \"zerolinecolor\": \"white\"}, \"zaxis\": {\"backgroundcolor\": \"#E5ECF6\", \"gridcolor\": \"white\", \"gridwidth\": 2, \"linecolor\": \"white\", \"showbackground\": true, \"ticks\": \"\", \"zerolinecolor\": \"white\"}}, \"shapedefaults\": {\"line\": {\"color\": \"#2a3f5f\"}}, \"ternary\": {\"aaxis\": {\"gridcolor\": \"white\", \"linecolor\": \"white\", \"ticks\": \"\"}, \"baxis\": {\"gridcolor\": \"white\", \"linecolor\": \"white\", \"ticks\": \"\"}, \"bgcolor\": \"#E5ECF6\", \"caxis\": {\"gridcolor\": \"white\", \"linecolor\": \"white\", \"ticks\": \"\"}}, \"title\": {\"x\": 0.05}, \"xaxis\": {\"automargin\": true, \"gridcolor\": \"white\", \"linecolor\": \"white\", \"ticks\": \"\", \"title\": {\"standoff\": 15}, \"zerolinecolor\": \"white\", \"zerolinewidth\": 2}, \"yaxis\": {\"automargin\": true, \"gridcolor\": \"white\", \"linecolor\": \"white\", \"ticks\": \"\", \"title\": {\"standoff\": 15}, \"zerolinecolor\": \"white\", \"zerolinewidth\": 2}}}, \"title\": {\"text\": \"Top 10 Recovered Countries\"}, \"xaxis\": {\"title\": {\"text\": \"Countries\"}}, \"yaxis\": {\"title\": {\"text\": \"Recovered Cases\"}}},\n",
       "                        {\"responsive\": true}\n",
       "                    ).then(function(){\n",
       "                            \n",
       "var gd = document.getElementById('a6e8bf4e-8059-4782-8b6c-e73547dea90c');\n",
       "var x = new MutationObserver(function (mutations, observer) {{\n",
       "        var display = window.getComputedStyle(gd).display;\n",
       "        if (!display || display === 'none') {{\n",
       "            console.log([gd, 'removed!']);\n",
       "            Plotly.purge(gd);\n",
       "            observer.disconnect();\n",
       "        }}\n",
       "}});\n",
       "\n",
       "// Listen for the removal of the full notebook cells\n",
       "var notebookContainer = gd.closest('#notebook-container');\n",
       "if (notebookContainer) {{\n",
       "    x.observe(notebookContainer, {childList: true});\n",
       "}}\n",
       "\n",
       "// Listen for the clearing of the current output cell\n",
       "var outputEl = gd.closest('.output');\n",
       "if (outputEl) {{\n",
       "    x.observe(outputEl, {childList: true});\n",
       "}}\n",
       "\n",
       "                        })\n",
       "                };\n",
       "                });\n",
       "            </script>\n",
       "        </div>"
      ]
     },
     "metadata": {},
     "output_type": "display_data"
    }
   ],
   "source": [
    "fig = go.Figure(data=[go.Bar(\n",
    "            x=Recovered_per_country['Country/Region'][0:10], y=Recovered_per_country['Recovered'][0:10],\n",
    "            text=Recovered_per_country['Recovered'][0:10],\n",
    "            textposition='auto',\n",
    "            marker_color='green',\n",
    "\n",
    "        )])\n",
    "fig.update_layout(\n",
    "    title='Top 10 Recovered Countries',\n",
    "    xaxis_title=\"Countries\",\n",
    "    yaxis_title=\"Recovered Cases\",\n",
    ")\n",
    "fig.show()"
   ]
  },
  {
   "cell_type": "markdown",
   "metadata": {},
   "source": [
    "### China province wise data"
   ]
  },
  {
   "cell_type": "code",
   "execution_count": 60,
   "metadata": {},
   "outputs": [],
   "source": [
    "china_latest = full_latest[full_latest['Country/Region']=='China']\n",
    "china_latest_grouped = china_latest.groupby('Province/State')['Confirmed', 'Deaths', 'Recovered', 'Active'].sum().reset_index()"
   ]
  },
  {
   "cell_type": "code",
   "execution_count": 61,
   "metadata": {},
   "outputs": [
    {
     "data": {
      "text/html": [
       "<style  type=\"text/css\" >\n",
       "    #T_237a46f4_6e93_11ea_adfa_705a0f1a5828row0_col1 {\n",
       "            background-color:  #fbb4ae;\n",
       "            color:  #000000;\n",
       "        }    #T_237a46f4_6e93_11ea_adfa_705a0f1a5828row0_col2 {\n",
       "            background-color:  #fbb4ae;\n",
       "            color:  #000000;\n",
       "        }    #T_237a46f4_6e93_11ea_adfa_705a0f1a5828row0_col3 {\n",
       "            background-color:  #fbb4ae;\n",
       "            color:  #000000;\n",
       "        }    #T_237a46f4_6e93_11ea_adfa_705a0f1a5828row1_col1 {\n",
       "            background-color:  #f2f2f2;\n",
       "            color:  #000000;\n",
       "        }    #T_237a46f4_6e93_11ea_adfa_705a0f1a5828row1_col2 {\n",
       "            background-color:  #f2f2f2;\n",
       "            color:  #000000;\n",
       "        }    #T_237a46f4_6e93_11ea_adfa_705a0f1a5828row1_col3 {\n",
       "            background-color:  #f2f2f2;\n",
       "            color:  #000000;\n",
       "        }    #T_237a46f4_6e93_11ea_adfa_705a0f1a5828row2_col1 {\n",
       "            background-color:  #f2f2f2;\n",
       "            color:  #000000;\n",
       "        }    #T_237a46f4_6e93_11ea_adfa_705a0f1a5828row2_col2 {\n",
       "            background-color:  #f2f2f2;\n",
       "            color:  #000000;\n",
       "        }    #T_237a46f4_6e93_11ea_adfa_705a0f1a5828row2_col3 {\n",
       "            background-color:  #f2f2f2;\n",
       "            color:  #000000;\n",
       "        }    #T_237a46f4_6e93_11ea_adfa_705a0f1a5828row3_col1 {\n",
       "            background-color:  #f2f2f2;\n",
       "            color:  #000000;\n",
       "        }    #T_237a46f4_6e93_11ea_adfa_705a0f1a5828row3_col2 {\n",
       "            background-color:  #f2f2f2;\n",
       "            color:  #000000;\n",
       "        }    #T_237a46f4_6e93_11ea_adfa_705a0f1a5828row3_col3 {\n",
       "            background-color:  #f2f2f2;\n",
       "            color:  #000000;\n",
       "        }    #T_237a46f4_6e93_11ea_adfa_705a0f1a5828row4_col1 {\n",
       "            background-color:  #f2f2f2;\n",
       "            color:  #000000;\n",
       "        }    #T_237a46f4_6e93_11ea_adfa_705a0f1a5828row4_col2 {\n",
       "            background-color:  #f2f2f2;\n",
       "            color:  #000000;\n",
       "        }    #T_237a46f4_6e93_11ea_adfa_705a0f1a5828row4_col3 {\n",
       "            background-color:  #f2f2f2;\n",
       "            color:  #000000;\n",
       "        }    #T_237a46f4_6e93_11ea_adfa_705a0f1a5828row5_col1 {\n",
       "            background-color:  #f2f2f2;\n",
       "            color:  #000000;\n",
       "        }    #T_237a46f4_6e93_11ea_adfa_705a0f1a5828row5_col2 {\n",
       "            background-color:  #f2f2f2;\n",
       "            color:  #000000;\n",
       "        }    #T_237a46f4_6e93_11ea_adfa_705a0f1a5828row5_col3 {\n",
       "            background-color:  #f2f2f2;\n",
       "            color:  #000000;\n",
       "        }    #T_237a46f4_6e93_11ea_adfa_705a0f1a5828row6_col1 {\n",
       "            background-color:  #f2f2f2;\n",
       "            color:  #000000;\n",
       "        }    #T_237a46f4_6e93_11ea_adfa_705a0f1a5828row6_col2 {\n",
       "            background-color:  #f2f2f2;\n",
       "            color:  #000000;\n",
       "        }    #T_237a46f4_6e93_11ea_adfa_705a0f1a5828row6_col3 {\n",
       "            background-color:  #f2f2f2;\n",
       "            color:  #000000;\n",
       "        }    #T_237a46f4_6e93_11ea_adfa_705a0f1a5828row7_col1 {\n",
       "            background-color:  #f2f2f2;\n",
       "            color:  #000000;\n",
       "        }    #T_237a46f4_6e93_11ea_adfa_705a0f1a5828row7_col2 {\n",
       "            background-color:  #f2f2f2;\n",
       "            color:  #000000;\n",
       "        }    #T_237a46f4_6e93_11ea_adfa_705a0f1a5828row7_col3 {\n",
       "            background-color:  #f2f2f2;\n",
       "            color:  #000000;\n",
       "        }    #T_237a46f4_6e93_11ea_adfa_705a0f1a5828row8_col1 {\n",
       "            background-color:  #f2f2f2;\n",
       "            color:  #000000;\n",
       "        }    #T_237a46f4_6e93_11ea_adfa_705a0f1a5828row8_col2 {\n",
       "            background-color:  #f2f2f2;\n",
       "            color:  #000000;\n",
       "        }    #T_237a46f4_6e93_11ea_adfa_705a0f1a5828row8_col3 {\n",
       "            background-color:  #f2f2f2;\n",
       "            color:  #000000;\n",
       "        }    #T_237a46f4_6e93_11ea_adfa_705a0f1a5828row9_col1 {\n",
       "            background-color:  #f2f2f2;\n",
       "            color:  #000000;\n",
       "        }    #T_237a46f4_6e93_11ea_adfa_705a0f1a5828row9_col2 {\n",
       "            background-color:  #f2f2f2;\n",
       "            color:  #000000;\n",
       "        }    #T_237a46f4_6e93_11ea_adfa_705a0f1a5828row9_col3 {\n",
       "            background-color:  #f2f2f2;\n",
       "            color:  #000000;\n",
       "        }    #T_237a46f4_6e93_11ea_adfa_705a0f1a5828row10_col1 {\n",
       "            background-color:  #f2f2f2;\n",
       "            color:  #000000;\n",
       "        }    #T_237a46f4_6e93_11ea_adfa_705a0f1a5828row10_col2 {\n",
       "            background-color:  #f2f2f2;\n",
       "            color:  #000000;\n",
       "        }    #T_237a46f4_6e93_11ea_adfa_705a0f1a5828row10_col3 {\n",
       "            background-color:  #f2f2f2;\n",
       "            color:  #000000;\n",
       "        }    #T_237a46f4_6e93_11ea_adfa_705a0f1a5828row11_col1 {\n",
       "            background-color:  #f2f2f2;\n",
       "            color:  #000000;\n",
       "        }    #T_237a46f4_6e93_11ea_adfa_705a0f1a5828row11_col2 {\n",
       "            background-color:  #f2f2f2;\n",
       "            color:  #000000;\n",
       "        }    #T_237a46f4_6e93_11ea_adfa_705a0f1a5828row11_col3 {\n",
       "            background-color:  #f2f2f2;\n",
       "            color:  #000000;\n",
       "        }    #T_237a46f4_6e93_11ea_adfa_705a0f1a5828row12_col1 {\n",
       "            background-color:  #f2f2f2;\n",
       "            color:  #000000;\n",
       "        }    #T_237a46f4_6e93_11ea_adfa_705a0f1a5828row12_col2 {\n",
       "            background-color:  #f2f2f2;\n",
       "            color:  #000000;\n",
       "        }    #T_237a46f4_6e93_11ea_adfa_705a0f1a5828row12_col3 {\n",
       "            background-color:  #f2f2f2;\n",
       "            color:  #000000;\n",
       "        }    #T_237a46f4_6e93_11ea_adfa_705a0f1a5828row13_col1 {\n",
       "            background-color:  #f2f2f2;\n",
       "            color:  #000000;\n",
       "        }    #T_237a46f4_6e93_11ea_adfa_705a0f1a5828row13_col2 {\n",
       "            background-color:  #f2f2f2;\n",
       "            color:  #000000;\n",
       "        }    #T_237a46f4_6e93_11ea_adfa_705a0f1a5828row13_col3 {\n",
       "            background-color:  #f2f2f2;\n",
       "            color:  #000000;\n",
       "        }    #T_237a46f4_6e93_11ea_adfa_705a0f1a5828row14_col1 {\n",
       "            background-color:  #f2f2f2;\n",
       "            color:  #000000;\n",
       "        }    #T_237a46f4_6e93_11ea_adfa_705a0f1a5828row14_col2 {\n",
       "            background-color:  #f2f2f2;\n",
       "            color:  #000000;\n",
       "        }    #T_237a46f4_6e93_11ea_adfa_705a0f1a5828row14_col3 {\n",
       "            background-color:  #f2f2f2;\n",
       "            color:  #000000;\n",
       "        }    #T_237a46f4_6e93_11ea_adfa_705a0f1a5828row15_col1 {\n",
       "            background-color:  #f2f2f2;\n",
       "            color:  #000000;\n",
       "        }    #T_237a46f4_6e93_11ea_adfa_705a0f1a5828row15_col2 {\n",
       "            background-color:  #f2f2f2;\n",
       "            color:  #000000;\n",
       "        }    #T_237a46f4_6e93_11ea_adfa_705a0f1a5828row15_col3 {\n",
       "            background-color:  #f2f2f2;\n",
       "            color:  #000000;\n",
       "        }    #T_237a46f4_6e93_11ea_adfa_705a0f1a5828row16_col1 {\n",
       "            background-color:  #f2f2f2;\n",
       "            color:  #000000;\n",
       "        }    #T_237a46f4_6e93_11ea_adfa_705a0f1a5828row16_col2 {\n",
       "            background-color:  #f2f2f2;\n",
       "            color:  #000000;\n",
       "        }    #T_237a46f4_6e93_11ea_adfa_705a0f1a5828row16_col3 {\n",
       "            background-color:  #f2f2f2;\n",
       "            color:  #000000;\n",
       "        }    #T_237a46f4_6e93_11ea_adfa_705a0f1a5828row17_col1 {\n",
       "            background-color:  #f2f2f2;\n",
       "            color:  #000000;\n",
       "        }    #T_237a46f4_6e93_11ea_adfa_705a0f1a5828row17_col2 {\n",
       "            background-color:  #f2f2f2;\n",
       "            color:  #000000;\n",
       "        }    #T_237a46f4_6e93_11ea_adfa_705a0f1a5828row17_col3 {\n",
       "            background-color:  #f2f2f2;\n",
       "            color:  #000000;\n",
       "        }    #T_237a46f4_6e93_11ea_adfa_705a0f1a5828row18_col1 {\n",
       "            background-color:  #f2f2f2;\n",
       "            color:  #000000;\n",
       "        }    #T_237a46f4_6e93_11ea_adfa_705a0f1a5828row18_col2 {\n",
       "            background-color:  #f2f2f2;\n",
       "            color:  #000000;\n",
       "        }    #T_237a46f4_6e93_11ea_adfa_705a0f1a5828row18_col3 {\n",
       "            background-color:  #f2f2f2;\n",
       "            color:  #000000;\n",
       "        }    #T_237a46f4_6e93_11ea_adfa_705a0f1a5828row19_col1 {\n",
       "            background-color:  #f2f2f2;\n",
       "            color:  #000000;\n",
       "        }    #T_237a46f4_6e93_11ea_adfa_705a0f1a5828row19_col2 {\n",
       "            background-color:  #f2f2f2;\n",
       "            color:  #000000;\n",
       "        }    #T_237a46f4_6e93_11ea_adfa_705a0f1a5828row19_col3 {\n",
       "            background-color:  #f2f2f2;\n",
       "            color:  #000000;\n",
       "        }    #T_237a46f4_6e93_11ea_adfa_705a0f1a5828row20_col1 {\n",
       "            background-color:  #f2f2f2;\n",
       "            color:  #000000;\n",
       "        }    #T_237a46f4_6e93_11ea_adfa_705a0f1a5828row20_col2 {\n",
       "            background-color:  #f2f2f2;\n",
       "            color:  #000000;\n",
       "        }    #T_237a46f4_6e93_11ea_adfa_705a0f1a5828row20_col3 {\n",
       "            background-color:  #f2f2f2;\n",
       "            color:  #000000;\n",
       "        }    #T_237a46f4_6e93_11ea_adfa_705a0f1a5828row21_col1 {\n",
       "            background-color:  #f2f2f2;\n",
       "            color:  #000000;\n",
       "        }    #T_237a46f4_6e93_11ea_adfa_705a0f1a5828row21_col2 {\n",
       "            background-color:  #f2f2f2;\n",
       "            color:  #000000;\n",
       "        }    #T_237a46f4_6e93_11ea_adfa_705a0f1a5828row21_col3 {\n",
       "            background-color:  #f2f2f2;\n",
       "            color:  #000000;\n",
       "        }    #T_237a46f4_6e93_11ea_adfa_705a0f1a5828row22_col1 {\n",
       "            background-color:  #f2f2f2;\n",
       "            color:  #000000;\n",
       "        }    #T_237a46f4_6e93_11ea_adfa_705a0f1a5828row22_col2 {\n",
       "            background-color:  #f2f2f2;\n",
       "            color:  #000000;\n",
       "        }    #T_237a46f4_6e93_11ea_adfa_705a0f1a5828row22_col3 {\n",
       "            background-color:  #f2f2f2;\n",
       "            color:  #000000;\n",
       "        }    #T_237a46f4_6e93_11ea_adfa_705a0f1a5828row23_col1 {\n",
       "            background-color:  #f2f2f2;\n",
       "            color:  #000000;\n",
       "        }    #T_237a46f4_6e93_11ea_adfa_705a0f1a5828row23_col2 {\n",
       "            background-color:  #f2f2f2;\n",
       "            color:  #000000;\n",
       "        }    #T_237a46f4_6e93_11ea_adfa_705a0f1a5828row23_col3 {\n",
       "            background-color:  #f2f2f2;\n",
       "            color:  #000000;\n",
       "        }    #T_237a46f4_6e93_11ea_adfa_705a0f1a5828row24_col1 {\n",
       "            background-color:  #f2f2f2;\n",
       "            color:  #000000;\n",
       "        }    #T_237a46f4_6e93_11ea_adfa_705a0f1a5828row24_col2 {\n",
       "            background-color:  #f2f2f2;\n",
       "            color:  #000000;\n",
       "        }    #T_237a46f4_6e93_11ea_adfa_705a0f1a5828row24_col3 {\n",
       "            background-color:  #f2f2f2;\n",
       "            color:  #000000;\n",
       "        }    #T_237a46f4_6e93_11ea_adfa_705a0f1a5828row25_col1 {\n",
       "            background-color:  #f2f2f2;\n",
       "            color:  #000000;\n",
       "        }    #T_237a46f4_6e93_11ea_adfa_705a0f1a5828row25_col2 {\n",
       "            background-color:  #f2f2f2;\n",
       "            color:  #000000;\n",
       "        }    #T_237a46f4_6e93_11ea_adfa_705a0f1a5828row25_col3 {\n",
       "            background-color:  #f2f2f2;\n",
       "            color:  #000000;\n",
       "        }    #T_237a46f4_6e93_11ea_adfa_705a0f1a5828row26_col1 {\n",
       "            background-color:  #f2f2f2;\n",
       "            color:  #000000;\n",
       "        }    #T_237a46f4_6e93_11ea_adfa_705a0f1a5828row26_col2 {\n",
       "            background-color:  #f2f2f2;\n",
       "            color:  #000000;\n",
       "        }    #T_237a46f4_6e93_11ea_adfa_705a0f1a5828row26_col3 {\n",
       "            background-color:  #f2f2f2;\n",
       "            color:  #000000;\n",
       "        }    #T_237a46f4_6e93_11ea_adfa_705a0f1a5828row27_col1 {\n",
       "            background-color:  #f2f2f2;\n",
       "            color:  #000000;\n",
       "        }    #T_237a46f4_6e93_11ea_adfa_705a0f1a5828row27_col2 {\n",
       "            background-color:  #f2f2f2;\n",
       "            color:  #000000;\n",
       "        }    #T_237a46f4_6e93_11ea_adfa_705a0f1a5828row27_col3 {\n",
       "            background-color:  #f2f2f2;\n",
       "            color:  #000000;\n",
       "        }    #T_237a46f4_6e93_11ea_adfa_705a0f1a5828row28_col1 {\n",
       "            background-color:  #f2f2f2;\n",
       "            color:  #000000;\n",
       "        }    #T_237a46f4_6e93_11ea_adfa_705a0f1a5828row28_col2 {\n",
       "            background-color:  #f2f2f2;\n",
       "            color:  #000000;\n",
       "        }    #T_237a46f4_6e93_11ea_adfa_705a0f1a5828row28_col3 {\n",
       "            background-color:  #f2f2f2;\n",
       "            color:  #000000;\n",
       "        }    #T_237a46f4_6e93_11ea_adfa_705a0f1a5828row29_col1 {\n",
       "            background-color:  #f2f2f2;\n",
       "            color:  #000000;\n",
       "        }    #T_237a46f4_6e93_11ea_adfa_705a0f1a5828row29_col2 {\n",
       "            background-color:  #f2f2f2;\n",
       "            color:  #000000;\n",
       "        }    #T_237a46f4_6e93_11ea_adfa_705a0f1a5828row29_col3 {\n",
       "            background-color:  #f2f2f2;\n",
       "            color:  #000000;\n",
       "        }    #T_237a46f4_6e93_11ea_adfa_705a0f1a5828row30_col1 {\n",
       "            background-color:  #f2f2f2;\n",
       "            color:  #000000;\n",
       "        }    #T_237a46f4_6e93_11ea_adfa_705a0f1a5828row30_col2 {\n",
       "            background-color:  #f2f2f2;\n",
       "            color:  #000000;\n",
       "        }    #T_237a46f4_6e93_11ea_adfa_705a0f1a5828row30_col3 {\n",
       "            background-color:  #f2f2f2;\n",
       "            color:  #000000;\n",
       "        }    #T_237a46f4_6e93_11ea_adfa_705a0f1a5828row31_col1 {\n",
       "            background-color:  #f2f2f2;\n",
       "            color:  #000000;\n",
       "        }    #T_237a46f4_6e93_11ea_adfa_705a0f1a5828row31_col2 {\n",
       "            background-color:  #f2f2f2;\n",
       "            color:  #000000;\n",
       "        }    #T_237a46f4_6e93_11ea_adfa_705a0f1a5828row31_col3 {\n",
       "            background-color:  #f2f2f2;\n",
       "            color:  #000000;\n",
       "        }    #T_237a46f4_6e93_11ea_adfa_705a0f1a5828row32_col1 {\n",
       "            background-color:  #f2f2f2;\n",
       "            color:  #000000;\n",
       "        }    #T_237a46f4_6e93_11ea_adfa_705a0f1a5828row32_col2 {\n",
       "            background-color:  #f2f2f2;\n",
       "            color:  #000000;\n",
       "        }    #T_237a46f4_6e93_11ea_adfa_705a0f1a5828row32_col3 {\n",
       "            background-color:  #f2f2f2;\n",
       "            color:  #000000;\n",
       "        }</style><table id=\"T_237a46f4_6e93_11ea_adfa_705a0f1a5828\" ><thead>    <tr>        <th class=\"blank level0\" ></th>        <th class=\"col_heading level0 col0\" >Province/State</th>        <th class=\"col_heading level0 col1\" >Confirmed</th>        <th class=\"col_heading level0 col2\" >Deaths</th>        <th class=\"col_heading level0 col3\" >Recovered</th>    </tr></thead><tbody>\n",
       "                <tr>\n",
       "                        <th id=\"T_237a46f4_6e93_11ea_adfa_705a0f1a5828level0_row0\" class=\"row_heading level0 row0\" >0</th>\n",
       "                        <td id=\"T_237a46f4_6e93_11ea_adfa_705a0f1a5828row0_col0\" class=\"data row0 col0\" >Hubei</td>\n",
       "                        <td id=\"T_237a46f4_6e93_11ea_adfa_705a0f1a5828row0_col1\" class=\"data row0 col1\" >67800</td>\n",
       "                        <td id=\"T_237a46f4_6e93_11ea_adfa_705a0f1a5828row0_col2\" class=\"data row0 col2\" >3153</td>\n",
       "                        <td id=\"T_237a46f4_6e93_11ea_adfa_705a0f1a5828row0_col3\" class=\"data row0 col3\" >59879</td>\n",
       "            </tr>\n",
       "            <tr>\n",
       "                        <th id=\"T_237a46f4_6e93_11ea_adfa_705a0f1a5828level0_row1\" class=\"row_heading level0 row1\" >1</th>\n",
       "                        <td id=\"T_237a46f4_6e93_11ea_adfa_705a0f1a5828row1_col0\" class=\"data row1 col0\" >Guangdong</td>\n",
       "                        <td id=\"T_237a46f4_6e93_11ea_adfa_705a0f1a5828row1_col1\" class=\"data row1 col1\" >1413</td>\n",
       "                        <td id=\"T_237a46f4_6e93_11ea_adfa_705a0f1a5828row1_col2\" class=\"data row1 col2\" >8</td>\n",
       "                        <td id=\"T_237a46f4_6e93_11ea_adfa_705a0f1a5828row1_col3\" class=\"data row1 col3\" >1332</td>\n",
       "            </tr>\n",
       "            <tr>\n",
       "                        <th id=\"T_237a46f4_6e93_11ea_adfa_705a0f1a5828level0_row2\" class=\"row_heading level0 row2\" >2</th>\n",
       "                        <td id=\"T_237a46f4_6e93_11ea_adfa_705a0f1a5828row2_col0\" class=\"data row2 col0\" >Henan</td>\n",
       "                        <td id=\"T_237a46f4_6e93_11ea_adfa_705a0f1a5828row2_col1\" class=\"data row2 col1\" >1274</td>\n",
       "                        <td id=\"T_237a46f4_6e93_11ea_adfa_705a0f1a5828row2_col2\" class=\"data row2 col2\" >22</td>\n",
       "                        <td id=\"T_237a46f4_6e93_11ea_adfa_705a0f1a5828row2_col3\" class=\"data row2 col3\" >1250</td>\n",
       "            </tr>\n",
       "            <tr>\n",
       "                        <th id=\"T_237a46f4_6e93_11ea_adfa_705a0f1a5828level0_row3\" class=\"row_heading level0 row3\" >3</th>\n",
       "                        <td id=\"T_237a46f4_6e93_11ea_adfa_705a0f1a5828row3_col0\" class=\"data row3 col0\" >Zhejiang</td>\n",
       "                        <td id=\"T_237a46f4_6e93_11ea_adfa_705a0f1a5828row3_col1\" class=\"data row3 col1\" >1238</td>\n",
       "                        <td id=\"T_237a46f4_6e93_11ea_adfa_705a0f1a5828row3_col2\" class=\"data row3 col2\" >1</td>\n",
       "                        <td id=\"T_237a46f4_6e93_11ea_adfa_705a0f1a5828row3_col3\" class=\"data row3 col3\" >1221</td>\n",
       "            </tr>\n",
       "            <tr>\n",
       "                        <th id=\"T_237a46f4_6e93_11ea_adfa_705a0f1a5828level0_row4\" class=\"row_heading level0 row4\" >4</th>\n",
       "                        <td id=\"T_237a46f4_6e93_11ea_adfa_705a0f1a5828row4_col0\" class=\"data row4 col0\" >Hunan</td>\n",
       "                        <td id=\"T_237a46f4_6e93_11ea_adfa_705a0f1a5828row4_col1\" class=\"data row4 col1\" >1018</td>\n",
       "                        <td id=\"T_237a46f4_6e93_11ea_adfa_705a0f1a5828row4_col2\" class=\"data row4 col2\" >4</td>\n",
       "                        <td id=\"T_237a46f4_6e93_11ea_adfa_705a0f1a5828row4_col3\" class=\"data row4 col3\" >1014</td>\n",
       "            </tr>\n",
       "            <tr>\n",
       "                        <th id=\"T_237a46f4_6e93_11ea_adfa_705a0f1a5828level0_row5\" class=\"row_heading level0 row5\" >5</th>\n",
       "                        <td id=\"T_237a46f4_6e93_11ea_adfa_705a0f1a5828row5_col0\" class=\"data row5 col0\" >Anhui</td>\n",
       "                        <td id=\"T_237a46f4_6e93_11ea_adfa_705a0f1a5828row5_col1\" class=\"data row5 col1\" >990</td>\n",
       "                        <td id=\"T_237a46f4_6e93_11ea_adfa_705a0f1a5828row5_col2\" class=\"data row5 col2\" >6</td>\n",
       "                        <td id=\"T_237a46f4_6e93_11ea_adfa_705a0f1a5828row5_col3\" class=\"data row5 col3\" >984</td>\n",
       "            </tr>\n",
       "            <tr>\n",
       "                        <th id=\"T_237a46f4_6e93_11ea_adfa_705a0f1a5828level0_row6\" class=\"row_heading level0 row6\" >6</th>\n",
       "                        <td id=\"T_237a46f4_6e93_11ea_adfa_705a0f1a5828row6_col0\" class=\"data row6 col0\" >Jiangxi</td>\n",
       "                        <td id=\"T_237a46f4_6e93_11ea_adfa_705a0f1a5828row6_col1\" class=\"data row6 col1\" >936</td>\n",
       "                        <td id=\"T_237a46f4_6e93_11ea_adfa_705a0f1a5828row6_col2\" class=\"data row6 col2\" >1</td>\n",
       "                        <td id=\"T_237a46f4_6e93_11ea_adfa_705a0f1a5828row6_col3\" class=\"data row6 col3\" >934</td>\n",
       "            </tr>\n",
       "            <tr>\n",
       "                        <th id=\"T_237a46f4_6e93_11ea_adfa_705a0f1a5828level0_row7\" class=\"row_heading level0 row7\" >7</th>\n",
       "                        <td id=\"T_237a46f4_6e93_11ea_adfa_705a0f1a5828row7_col0\" class=\"data row7 col0\" >Shandong</td>\n",
       "                        <td id=\"T_237a46f4_6e93_11ea_adfa_705a0f1a5828row7_col1\" class=\"data row7 col1\" >767</td>\n",
       "                        <td id=\"T_237a46f4_6e93_11ea_adfa_705a0f1a5828row7_col2\" class=\"data row7 col2\" >7</td>\n",
       "                        <td id=\"T_237a46f4_6e93_11ea_adfa_705a0f1a5828row7_col3\" class=\"data row7 col3\" >751</td>\n",
       "            </tr>\n",
       "            <tr>\n",
       "                        <th id=\"T_237a46f4_6e93_11ea_adfa_705a0f1a5828level0_row8\" class=\"row_heading level0 row8\" >8</th>\n",
       "                        <td id=\"T_237a46f4_6e93_11ea_adfa_705a0f1a5828row8_col0\" class=\"data row8 col0\" >Jiangsu</td>\n",
       "                        <td id=\"T_237a46f4_6e93_11ea_adfa_705a0f1a5828row8_col1\" class=\"data row8 col1\" >633</td>\n",
       "                        <td id=\"T_237a46f4_6e93_11ea_adfa_705a0f1a5828row8_col2\" class=\"data row8 col2\" >0</td>\n",
       "                        <td id=\"T_237a46f4_6e93_11ea_adfa_705a0f1a5828row8_col3\" class=\"data row8 col3\" >631</td>\n",
       "            </tr>\n",
       "            <tr>\n",
       "                        <th id=\"T_237a46f4_6e93_11ea_adfa_705a0f1a5828level0_row9\" class=\"row_heading level0 row9\" >9</th>\n",
       "                        <td id=\"T_237a46f4_6e93_11ea_adfa_705a0f1a5828row9_col0\" class=\"data row9 col0\" >Chongqing</td>\n",
       "                        <td id=\"T_237a46f4_6e93_11ea_adfa_705a0f1a5828row9_col1\" class=\"data row9 col1\" >577</td>\n",
       "                        <td id=\"T_237a46f4_6e93_11ea_adfa_705a0f1a5828row9_col2\" class=\"data row9 col2\" >6</td>\n",
       "                        <td id=\"T_237a46f4_6e93_11ea_adfa_705a0f1a5828row9_col3\" class=\"data row9 col3\" >570</td>\n",
       "            </tr>\n",
       "            <tr>\n",
       "                        <th id=\"T_237a46f4_6e93_11ea_adfa_705a0f1a5828level0_row10\" class=\"row_heading level0 row10\" >10</th>\n",
       "                        <td id=\"T_237a46f4_6e93_11ea_adfa_705a0f1a5828row10_col0\" class=\"data row10 col0\" >Sichuan</td>\n",
       "                        <td id=\"T_237a46f4_6e93_11ea_adfa_705a0f1a5828row10_col1\" class=\"data row10 col1\" >543</td>\n",
       "                        <td id=\"T_237a46f4_6e93_11ea_adfa_705a0f1a5828row10_col2\" class=\"data row10 col2\" >3</td>\n",
       "                        <td id=\"T_237a46f4_6e93_11ea_adfa_705a0f1a5828row10_col3\" class=\"data row10 col3\" >536</td>\n",
       "            </tr>\n",
       "            <tr>\n",
       "                        <th id=\"T_237a46f4_6e93_11ea_adfa_705a0f1a5828level0_row11\" class=\"row_heading level0 row11\" >11</th>\n",
       "                        <td id=\"T_237a46f4_6e93_11ea_adfa_705a0f1a5828row11_col0\" class=\"data row11 col0\" >Beijing</td>\n",
       "                        <td id=\"T_237a46f4_6e93_11ea_adfa_705a0f1a5828row11_col1\" class=\"data row11 col1\" >522</td>\n",
       "                        <td id=\"T_237a46f4_6e93_11ea_adfa_705a0f1a5828row11_col2\" class=\"data row11 col2\" >8</td>\n",
       "                        <td id=\"T_237a46f4_6e93_11ea_adfa_705a0f1a5828row11_col3\" class=\"data row11 col3\" >400</td>\n",
       "            </tr>\n",
       "            <tr>\n",
       "                        <th id=\"T_237a46f4_6e93_11ea_adfa_705a0f1a5828level0_row12\" class=\"row_heading level0 row12\" >12</th>\n",
       "                        <td id=\"T_237a46f4_6e93_11ea_adfa_705a0f1a5828row12_col0\" class=\"data row12 col0\" >Heilongjiang</td>\n",
       "                        <td id=\"T_237a46f4_6e93_11ea_adfa_705a0f1a5828row12_col1\" class=\"data row12 col1\" >484</td>\n",
       "                        <td id=\"T_237a46f4_6e93_11ea_adfa_705a0f1a5828row12_col2\" class=\"data row12 col2\" >13</td>\n",
       "                        <td id=\"T_237a46f4_6e93_11ea_adfa_705a0f1a5828row12_col3\" class=\"data row12 col3\" >465</td>\n",
       "            </tr>\n",
       "            <tr>\n",
       "                        <th id=\"T_237a46f4_6e93_11ea_adfa_705a0f1a5828level0_row13\" class=\"row_heading level0 row13\" >13</th>\n",
       "                        <td id=\"T_237a46f4_6e93_11ea_adfa_705a0f1a5828row13_col0\" class=\"data row13 col0\" >Shanghai</td>\n",
       "                        <td id=\"T_237a46f4_6e93_11ea_adfa_705a0f1a5828row13_col1\" class=\"data row13 col1\" >404</td>\n",
       "                        <td id=\"T_237a46f4_6e93_11ea_adfa_705a0f1a5828row13_col2\" class=\"data row13 col2\" >4</td>\n",
       "                        <td id=\"T_237a46f4_6e93_11ea_adfa_705a0f1a5828row13_col3\" class=\"data row13 col3\" >329</td>\n",
       "            </tr>\n",
       "            <tr>\n",
       "                        <th id=\"T_237a46f4_6e93_11ea_adfa_705a0f1a5828level0_row14\" class=\"row_heading level0 row14\" >14</th>\n",
       "                        <td id=\"T_237a46f4_6e93_11ea_adfa_705a0f1a5828row14_col0\" class=\"data row14 col0\" >Hebei</td>\n",
       "                        <td id=\"T_237a46f4_6e93_11ea_adfa_705a0f1a5828row14_col1\" class=\"data row14 col1\" >319</td>\n",
       "                        <td id=\"T_237a46f4_6e93_11ea_adfa_705a0f1a5828row14_col2\" class=\"data row14 col2\" >6</td>\n",
       "                        <td id=\"T_237a46f4_6e93_11ea_adfa_705a0f1a5828row14_col3\" class=\"data row14 col3\" >310</td>\n",
       "            </tr>\n",
       "            <tr>\n",
       "                        <th id=\"T_237a46f4_6e93_11ea_adfa_705a0f1a5828level0_row15\" class=\"row_heading level0 row15\" >15</th>\n",
       "                        <td id=\"T_237a46f4_6e93_11ea_adfa_705a0f1a5828row15_col0\" class=\"data row15 col0\" >Hong Kong</td>\n",
       "                        <td id=\"T_237a46f4_6e93_11ea_adfa_705a0f1a5828row15_col1\" class=\"data row15 col1\" >317</td>\n",
       "                        <td id=\"T_237a46f4_6e93_11ea_adfa_705a0f1a5828row15_col2\" class=\"data row15 col2\" >4</td>\n",
       "                        <td id=\"T_237a46f4_6e93_11ea_adfa_705a0f1a5828row15_col3\" class=\"data row15 col3\" >100</td>\n",
       "            </tr>\n",
       "            <tr>\n",
       "                        <th id=\"T_237a46f4_6e93_11ea_adfa_705a0f1a5828level0_row16\" class=\"row_heading level0 row16\" >16</th>\n",
       "                        <td id=\"T_237a46f4_6e93_11ea_adfa_705a0f1a5828row16_col0\" class=\"data row16 col0\" >Fujian</td>\n",
       "                        <td id=\"T_237a46f4_6e93_11ea_adfa_705a0f1a5828row16_col1\" class=\"data row16 col1\" >313</td>\n",
       "                        <td id=\"T_237a46f4_6e93_11ea_adfa_705a0f1a5828row16_col2\" class=\"data row16 col2\" >1</td>\n",
       "                        <td id=\"T_237a46f4_6e93_11ea_adfa_705a0f1a5828row16_col3\" class=\"data row16 col3\" >295</td>\n",
       "            </tr>\n",
       "            <tr>\n",
       "                        <th id=\"T_237a46f4_6e93_11ea_adfa_705a0f1a5828level0_row17\" class=\"row_heading level0 row17\" >17</th>\n",
       "                        <td id=\"T_237a46f4_6e93_11ea_adfa_705a0f1a5828row17_col0\" class=\"data row17 col0\" >Guangxi</td>\n",
       "                        <td id=\"T_237a46f4_6e93_11ea_adfa_705a0f1a5828row17_col1\" class=\"data row17 col1\" >254</td>\n",
       "                        <td id=\"T_237a46f4_6e93_11ea_adfa_705a0f1a5828row17_col2\" class=\"data row17 col2\" >2</td>\n",
       "                        <td id=\"T_237a46f4_6e93_11ea_adfa_705a0f1a5828row17_col3\" class=\"data row17 col3\" >250</td>\n",
       "            </tr>\n",
       "            <tr>\n",
       "                        <th id=\"T_237a46f4_6e93_11ea_adfa_705a0f1a5828level0_row18\" class=\"row_heading level0 row18\" >18</th>\n",
       "                        <td id=\"T_237a46f4_6e93_11ea_adfa_705a0f1a5828row18_col0\" class=\"data row18 col0\" >Shaanxi</td>\n",
       "                        <td id=\"T_237a46f4_6e93_11ea_adfa_705a0f1a5828row18_col1\" class=\"data row18 col1\" >248</td>\n",
       "                        <td id=\"T_237a46f4_6e93_11ea_adfa_705a0f1a5828row18_col2\" class=\"data row18 col2\" >3</td>\n",
       "                        <td id=\"T_237a46f4_6e93_11ea_adfa_705a0f1a5828row18_col3\" class=\"data row18 col3\" >239</td>\n",
       "            </tr>\n",
       "            <tr>\n",
       "                        <th id=\"T_237a46f4_6e93_11ea_adfa_705a0f1a5828level0_row19\" class=\"row_heading level0 row19\" >19</th>\n",
       "                        <td id=\"T_237a46f4_6e93_11ea_adfa_705a0f1a5828row19_col0\" class=\"data row19 col0\" >Yunnan</td>\n",
       "                        <td id=\"T_237a46f4_6e93_11ea_adfa_705a0f1a5828row19_col1\" class=\"data row19 col1\" >176</td>\n",
       "                        <td id=\"T_237a46f4_6e93_11ea_adfa_705a0f1a5828row19_col2\" class=\"data row19 col2\" >2</td>\n",
       "                        <td id=\"T_237a46f4_6e93_11ea_adfa_705a0f1a5828row19_col3\" class=\"data row19 col3\" >172</td>\n",
       "            </tr>\n",
       "            <tr>\n",
       "                        <th id=\"T_237a46f4_6e93_11ea_adfa_705a0f1a5828level0_row20\" class=\"row_heading level0 row20\" >20</th>\n",
       "                        <td id=\"T_237a46f4_6e93_11ea_adfa_705a0f1a5828row20_col0\" class=\"data row20 col0\" >Hainan</td>\n",
       "                        <td id=\"T_237a46f4_6e93_11ea_adfa_705a0f1a5828row20_col1\" class=\"data row20 col1\" >168</td>\n",
       "                        <td id=\"T_237a46f4_6e93_11ea_adfa_705a0f1a5828row20_col2\" class=\"data row20 col2\" >6</td>\n",
       "                        <td id=\"T_237a46f4_6e93_11ea_adfa_705a0f1a5828row20_col3\" class=\"data row20 col3\" >161</td>\n",
       "            </tr>\n",
       "            <tr>\n",
       "                        <th id=\"T_237a46f4_6e93_11ea_adfa_705a0f1a5828level0_row21\" class=\"row_heading level0 row21\" >21</th>\n",
       "                        <td id=\"T_237a46f4_6e93_11ea_adfa_705a0f1a5828row21_col0\" class=\"data row21 col0\" >Guizhou</td>\n",
       "                        <td id=\"T_237a46f4_6e93_11ea_adfa_705a0f1a5828row21_col1\" class=\"data row21 col1\" >146</td>\n",
       "                        <td id=\"T_237a46f4_6e93_11ea_adfa_705a0f1a5828row21_col2\" class=\"data row21 col2\" >2</td>\n",
       "                        <td id=\"T_237a46f4_6e93_11ea_adfa_705a0f1a5828row21_col3\" class=\"data row21 col3\" >144</td>\n",
       "            </tr>\n",
       "            <tr>\n",
       "                        <th id=\"T_237a46f4_6e93_11ea_adfa_705a0f1a5828level0_row22\" class=\"row_heading level0 row22\" >22</th>\n",
       "                        <td id=\"T_237a46f4_6e93_11ea_adfa_705a0f1a5828row22_col0\" class=\"data row22 col0\" >Tianjin</td>\n",
       "                        <td id=\"T_237a46f4_6e93_11ea_adfa_705a0f1a5828row22_col1\" class=\"data row22 col1\" >141</td>\n",
       "                        <td id=\"T_237a46f4_6e93_11ea_adfa_705a0f1a5828row22_col2\" class=\"data row22 col2\" >3</td>\n",
       "                        <td id=\"T_237a46f4_6e93_11ea_adfa_705a0f1a5828row22_col3\" class=\"data row22 col3\" >133</td>\n",
       "            </tr>\n",
       "            <tr>\n",
       "                        <th id=\"T_237a46f4_6e93_11ea_adfa_705a0f1a5828level0_row23\" class=\"row_heading level0 row23\" >23</th>\n",
       "                        <td id=\"T_237a46f4_6e93_11ea_adfa_705a0f1a5828row23_col0\" class=\"data row23 col0\" >Gansu</td>\n",
       "                        <td id=\"T_237a46f4_6e93_11ea_adfa_705a0f1a5828row23_col1\" class=\"data row23 col1\" >136</td>\n",
       "                        <td id=\"T_237a46f4_6e93_11ea_adfa_705a0f1a5828row23_col2\" class=\"data row23 col2\" >2</td>\n",
       "                        <td id=\"T_237a46f4_6e93_11ea_adfa_705a0f1a5828row23_col3\" class=\"data row23 col3\" >114</td>\n",
       "            </tr>\n",
       "            <tr>\n",
       "                        <th id=\"T_237a46f4_6e93_11ea_adfa_705a0f1a5828level0_row24\" class=\"row_heading level0 row24\" >24</th>\n",
       "                        <td id=\"T_237a46f4_6e93_11ea_adfa_705a0f1a5828row24_col0\" class=\"data row24 col0\" >Shanxi</td>\n",
       "                        <td id=\"T_237a46f4_6e93_11ea_adfa_705a0f1a5828row24_col1\" class=\"data row24 col1\" >133</td>\n",
       "                        <td id=\"T_237a46f4_6e93_11ea_adfa_705a0f1a5828row24_col2\" class=\"data row24 col2\" >0</td>\n",
       "                        <td id=\"T_237a46f4_6e93_11ea_adfa_705a0f1a5828row24_col3\" class=\"data row24 col3\" >133</td>\n",
       "            </tr>\n",
       "            <tr>\n",
       "                        <th id=\"T_237a46f4_6e93_11ea_adfa_705a0f1a5828level0_row25\" class=\"row_heading level0 row25\" >25</th>\n",
       "                        <td id=\"T_237a46f4_6e93_11ea_adfa_705a0f1a5828row25_col0\" class=\"data row25 col0\" >Liaoning</td>\n",
       "                        <td id=\"T_237a46f4_6e93_11ea_adfa_705a0f1a5828row25_col1\" class=\"data row25 col1\" >127</td>\n",
       "                        <td id=\"T_237a46f4_6e93_11ea_adfa_705a0f1a5828row25_col2\" class=\"data row25 col2\" >2</td>\n",
       "                        <td id=\"T_237a46f4_6e93_11ea_adfa_705a0f1a5828row25_col3\" class=\"data row25 col3\" >124</td>\n",
       "            </tr>\n",
       "            <tr>\n",
       "                        <th id=\"T_237a46f4_6e93_11ea_adfa_705a0f1a5828level0_row26\" class=\"row_heading level0 row26\" >26</th>\n",
       "                        <td id=\"T_237a46f4_6e93_11ea_adfa_705a0f1a5828row26_col0\" class=\"data row26 col0\" >Jilin</td>\n",
       "                        <td id=\"T_237a46f4_6e93_11ea_adfa_705a0f1a5828row26_col1\" class=\"data row26 col1\" >93</td>\n",
       "                        <td id=\"T_237a46f4_6e93_11ea_adfa_705a0f1a5828row26_col2\" class=\"data row26 col2\" >1</td>\n",
       "                        <td id=\"T_237a46f4_6e93_11ea_adfa_705a0f1a5828row26_col3\" class=\"data row26 col3\" >92</td>\n",
       "            </tr>\n",
       "            <tr>\n",
       "                        <th id=\"T_237a46f4_6e93_11ea_adfa_705a0f1a5828level0_row27\" class=\"row_heading level0 row27\" >27</th>\n",
       "                        <td id=\"T_237a46f4_6e93_11ea_adfa_705a0f1a5828row27_col0\" class=\"data row27 col0\" >Xinjiang</td>\n",
       "                        <td id=\"T_237a46f4_6e93_11ea_adfa_705a0f1a5828row27_col1\" class=\"data row27 col1\" >76</td>\n",
       "                        <td id=\"T_237a46f4_6e93_11ea_adfa_705a0f1a5828row27_col2\" class=\"data row27 col2\" >3</td>\n",
       "                        <td id=\"T_237a46f4_6e93_11ea_adfa_705a0f1a5828row27_col3\" class=\"data row27 col3\" >73</td>\n",
       "            </tr>\n",
       "            <tr>\n",
       "                        <th id=\"T_237a46f4_6e93_11ea_adfa_705a0f1a5828level0_row28\" class=\"row_heading level0 row28\" >28</th>\n",
       "                        <td id=\"T_237a46f4_6e93_11ea_adfa_705a0f1a5828row28_col0\" class=\"data row28 col0\" >Ningxia</td>\n",
       "                        <td id=\"T_237a46f4_6e93_11ea_adfa_705a0f1a5828row28_col1\" class=\"data row28 col1\" >75</td>\n",
       "                        <td id=\"T_237a46f4_6e93_11ea_adfa_705a0f1a5828row28_col2\" class=\"data row28 col2\" >0</td>\n",
       "                        <td id=\"T_237a46f4_6e93_11ea_adfa_705a0f1a5828row28_col3\" class=\"data row28 col3\" >75</td>\n",
       "            </tr>\n",
       "            <tr>\n",
       "                        <th id=\"T_237a46f4_6e93_11ea_adfa_705a0f1a5828level0_row29\" class=\"row_heading level0 row29\" >29</th>\n",
       "                        <td id=\"T_237a46f4_6e93_11ea_adfa_705a0f1a5828row29_col0\" class=\"data row29 col0\" >Inner Mongolia</td>\n",
       "                        <td id=\"T_237a46f4_6e93_11ea_adfa_705a0f1a5828row29_col1\" class=\"data row29 col1\" >75</td>\n",
       "                        <td id=\"T_237a46f4_6e93_11ea_adfa_705a0f1a5828row29_col2\" class=\"data row29 col2\" >1</td>\n",
       "                        <td id=\"T_237a46f4_6e93_11ea_adfa_705a0f1a5828row29_col3\" class=\"data row29 col3\" >74</td>\n",
       "            </tr>\n",
       "            <tr>\n",
       "                        <th id=\"T_237a46f4_6e93_11ea_adfa_705a0f1a5828level0_row30\" class=\"row_heading level0 row30\" >30</th>\n",
       "                        <td id=\"T_237a46f4_6e93_11ea_adfa_705a0f1a5828row30_col0\" class=\"data row30 col0\" >Macau</td>\n",
       "                        <td id=\"T_237a46f4_6e93_11ea_adfa_705a0f1a5828row30_col1\" class=\"data row30 col1\" >24</td>\n",
       "                        <td id=\"T_237a46f4_6e93_11ea_adfa_705a0f1a5828row30_col2\" class=\"data row30 col2\" >0</td>\n",
       "                        <td id=\"T_237a46f4_6e93_11ea_adfa_705a0f1a5828row30_col3\" class=\"data row30 col3\" >10</td>\n",
       "            </tr>\n",
       "            <tr>\n",
       "                        <th id=\"T_237a46f4_6e93_11ea_adfa_705a0f1a5828level0_row31\" class=\"row_heading level0 row31\" >31</th>\n",
       "                        <td id=\"T_237a46f4_6e93_11ea_adfa_705a0f1a5828row31_col0\" class=\"data row31 col0\" >Qinghai</td>\n",
       "                        <td id=\"T_237a46f4_6e93_11ea_adfa_705a0f1a5828row31_col1\" class=\"data row31 col1\" >18</td>\n",
       "                        <td id=\"T_237a46f4_6e93_11ea_adfa_705a0f1a5828row31_col2\" class=\"data row31 col2\" >0</td>\n",
       "                        <td id=\"T_237a46f4_6e93_11ea_adfa_705a0f1a5828row31_col3\" class=\"data row31 col3\" >18</td>\n",
       "            </tr>\n",
       "            <tr>\n",
       "                        <th id=\"T_237a46f4_6e93_11ea_adfa_705a0f1a5828level0_row32\" class=\"row_heading level0 row32\" >32</th>\n",
       "                        <td id=\"T_237a46f4_6e93_11ea_adfa_705a0f1a5828row32_col0\" class=\"data row32 col0\" >Tibet</td>\n",
       "                        <td id=\"T_237a46f4_6e93_11ea_adfa_705a0f1a5828row32_col1\" class=\"data row32 col1\" >1</td>\n",
       "                        <td id=\"T_237a46f4_6e93_11ea_adfa_705a0f1a5828row32_col2\" class=\"data row32 col2\" >0</td>\n",
       "                        <td id=\"T_237a46f4_6e93_11ea_adfa_705a0f1a5828row32_col3\" class=\"data row32 col3\" >1</td>\n",
       "            </tr>\n",
       "    </tbody></table>"
      ],
      "text/plain": [
       "<pandas.io.formats.style.Styler at 0x2b171721dc8>"
      ]
     },
     "execution_count": 61,
     "metadata": {},
     "output_type": "execute_result"
    }
   ],
   "source": [
    "temp2 = china_latest_grouped[['Province/State', 'Confirmed', 'Deaths', 'Recovered']]\n",
    "temp2 = temp2.sort_values(by='Confirmed', ascending=False)\n",
    "temp2 = temp2.reset_index(drop=True)\n",
    "temp2.style.background_gradient(cmap='Pastel1_r')"
   ]
  },
  {
   "cell_type": "markdown",
   "metadata": {},
   "source": [
    "### Provinces with no cases recovered"
   ]
  },
  {
   "cell_type": "code",
   "execution_count": 62,
   "metadata": {},
   "outputs": [
    {
     "data": {
      "text/html": [
       "<style  type=\"text/css\" >\n",
       "</style><table id=\"T_23886380_6e93_11ea_8cd8_705a0f1a5828\" ><thead>    <tr>        <th class=\"blank level0\" ></th>        <th class=\"col_heading level0 col0\" >Province/State</th>        <th class=\"col_heading level0 col1\" >Confirmed</th>        <th class=\"col_heading level0 col2\" >Deaths</th>        <th class=\"col_heading level0 col3\" >Recovered</th>    </tr></thead><tbody>\n",
       "        </tbody></table>"
      ],
      "text/plain": [
       "<pandas.io.formats.style.Styler at 0x2b171652848>"
      ]
     },
     "execution_count": 62,
     "metadata": {},
     "output_type": "execute_result"
    }
   ],
   "source": [
    "temp = china_latest_grouped[china_latest_grouped['Recovered']==0]\n",
    "temp = temp[['Province/State', 'Confirmed', 'Deaths', 'Recovered']]\n",
    "temp = temp.sort_values('Confirmed', ascending=False)\n",
    "temp = temp.reset_index(drop=True)\n",
    "temp.style.background_gradient(cmap='Pastel1_r')"
   ]
  },
  {
   "cell_type": "markdown",
   "metadata": {},
   "source": [
    "### Provinces with all the cases recovered"
   ]
  },
  {
   "cell_type": "code",
   "execution_count": 63,
   "metadata": {},
   "outputs": [
    {
     "data": {
      "text/html": [
       "<style  type=\"text/css\" >\n",
       "    #T_239ba680_6e93_11ea_813e_705a0f1a5828row0_col1 {\n",
       "            background-color:  #00441b;\n",
       "            color:  #f1f1f1;\n",
       "        }    #T_239ba680_6e93_11ea_813e_705a0f1a5828row0_col2 {\n",
       "            background-color:  #f7fcf5;\n",
       "            color:  #000000;\n",
       "        }    #T_239ba680_6e93_11ea_813e_705a0f1a5828row0_col3 {\n",
       "            background-color:  #00441b;\n",
       "            color:  #f1f1f1;\n",
       "        }    #T_239ba680_6e93_11ea_813e_705a0f1a5828row1_col1 {\n",
       "            background-color:  #5bb86a;\n",
       "            color:  #000000;\n",
       "        }    #T_239ba680_6e93_11ea_813e_705a0f1a5828row1_col2 {\n",
       "            background-color:  #f7fcf5;\n",
       "            color:  #000000;\n",
       "        }    #T_239ba680_6e93_11ea_813e_705a0f1a5828row1_col3 {\n",
       "            background-color:  #5bb86a;\n",
       "            color:  #000000;\n",
       "        }    #T_239ba680_6e93_11ea_813e_705a0f1a5828row2_col1 {\n",
       "            background-color:  #e5f5e0;\n",
       "            color:  #000000;\n",
       "        }    #T_239ba680_6e93_11ea_813e_705a0f1a5828row2_col2 {\n",
       "            background-color:  #f7fcf5;\n",
       "            color:  #000000;\n",
       "        }    #T_239ba680_6e93_11ea_813e_705a0f1a5828row2_col3 {\n",
       "            background-color:  #e5f5e0;\n",
       "            color:  #000000;\n",
       "        }    #T_239ba680_6e93_11ea_813e_705a0f1a5828row3_col1 {\n",
       "            background-color:  #f7fcf5;\n",
       "            color:  #000000;\n",
       "        }    #T_239ba680_6e93_11ea_813e_705a0f1a5828row3_col2 {\n",
       "            background-color:  #f7fcf5;\n",
       "            color:  #000000;\n",
       "        }    #T_239ba680_6e93_11ea_813e_705a0f1a5828row3_col3 {\n",
       "            background-color:  #f7fcf5;\n",
       "            color:  #000000;\n",
       "        }</style><table id=\"T_239ba680_6e93_11ea_813e_705a0f1a5828\" ><thead>    <tr>        <th class=\"blank level0\" ></th>        <th class=\"col_heading level0 col0\" >Province/State</th>        <th class=\"col_heading level0 col1\" >Confirmed</th>        <th class=\"col_heading level0 col2\" >Deaths</th>        <th class=\"col_heading level0 col3\" >Recovered</th>    </tr></thead><tbody>\n",
       "                <tr>\n",
       "                        <th id=\"T_239ba680_6e93_11ea_813e_705a0f1a5828level0_row0\" class=\"row_heading level0 row0\" >0</th>\n",
       "                        <td id=\"T_239ba680_6e93_11ea_813e_705a0f1a5828row0_col0\" class=\"data row0 col0\" >Shanxi</td>\n",
       "                        <td id=\"T_239ba680_6e93_11ea_813e_705a0f1a5828row0_col1\" class=\"data row0 col1\" >133</td>\n",
       "                        <td id=\"T_239ba680_6e93_11ea_813e_705a0f1a5828row0_col2\" class=\"data row0 col2\" >0</td>\n",
       "                        <td id=\"T_239ba680_6e93_11ea_813e_705a0f1a5828row0_col3\" class=\"data row0 col3\" >133</td>\n",
       "            </tr>\n",
       "            <tr>\n",
       "                        <th id=\"T_239ba680_6e93_11ea_813e_705a0f1a5828level0_row1\" class=\"row_heading level0 row1\" >1</th>\n",
       "                        <td id=\"T_239ba680_6e93_11ea_813e_705a0f1a5828row1_col0\" class=\"data row1 col0\" >Ningxia</td>\n",
       "                        <td id=\"T_239ba680_6e93_11ea_813e_705a0f1a5828row1_col1\" class=\"data row1 col1\" >75</td>\n",
       "                        <td id=\"T_239ba680_6e93_11ea_813e_705a0f1a5828row1_col2\" class=\"data row1 col2\" >0</td>\n",
       "                        <td id=\"T_239ba680_6e93_11ea_813e_705a0f1a5828row1_col3\" class=\"data row1 col3\" >75</td>\n",
       "            </tr>\n",
       "            <tr>\n",
       "                        <th id=\"T_239ba680_6e93_11ea_813e_705a0f1a5828level0_row2\" class=\"row_heading level0 row2\" >2</th>\n",
       "                        <td id=\"T_239ba680_6e93_11ea_813e_705a0f1a5828row2_col0\" class=\"data row2 col0\" >Qinghai</td>\n",
       "                        <td id=\"T_239ba680_6e93_11ea_813e_705a0f1a5828row2_col1\" class=\"data row2 col1\" >18</td>\n",
       "                        <td id=\"T_239ba680_6e93_11ea_813e_705a0f1a5828row2_col2\" class=\"data row2 col2\" >0</td>\n",
       "                        <td id=\"T_239ba680_6e93_11ea_813e_705a0f1a5828row2_col3\" class=\"data row2 col3\" >18</td>\n",
       "            </tr>\n",
       "            <tr>\n",
       "                        <th id=\"T_239ba680_6e93_11ea_813e_705a0f1a5828level0_row3\" class=\"row_heading level0 row3\" >3</th>\n",
       "                        <td id=\"T_239ba680_6e93_11ea_813e_705a0f1a5828row3_col0\" class=\"data row3 col0\" >Tibet</td>\n",
       "                        <td id=\"T_239ba680_6e93_11ea_813e_705a0f1a5828row3_col1\" class=\"data row3 col1\" >1</td>\n",
       "                        <td id=\"T_239ba680_6e93_11ea_813e_705a0f1a5828row3_col2\" class=\"data row3 col2\" >0</td>\n",
       "                        <td id=\"T_239ba680_6e93_11ea_813e_705a0f1a5828row3_col3\" class=\"data row3 col3\" >1</td>\n",
       "            </tr>\n",
       "    </tbody></table>"
      ],
      "text/plain": [
       "<pandas.io.formats.style.Styler at 0x2b1719cfe08>"
      ]
     },
     "execution_count": 63,
     "metadata": {},
     "output_type": "execute_result"
    }
   ],
   "source": [
    "temp = china_latest_grouped[china_latest_grouped['Confirmed']==\n",
    "                          china_latest_grouped['Recovered']]\n",
    "temp = temp[['Province/State', 'Confirmed','Deaths', 'Recovered']]\n",
    "temp = temp.sort_values('Confirmed', ascending=False)\n",
    "temp = temp.reset_index(drop=True)\n",
    "temp.style.background_gradient(cmap='Greens')"
   ]
  },
  {
   "cell_type": "markdown",
   "metadata": {},
   "source": [
    "### Provinces with no affected cases anymore"
   ]
  },
  {
   "cell_type": "code",
   "execution_count": 64,
   "metadata": {},
   "outputs": [
    {
     "data": {
      "text/html": [
       "<style  type=\"text/css\" >\n",
       "    #T_23b02436_6e93_11ea_a79d_705a0f1a5828row0_col1 {\n",
       "            background-color:  #00441b;\n",
       "            color:  #f1f1f1;\n",
       "        }    #T_23b02436_6e93_11ea_a79d_705a0f1a5828row0_col2 {\n",
       "            background-color:  #37a055;\n",
       "            color:  #000000;\n",
       "        }    #T_23b02436_6e93_11ea_a79d_705a0f1a5828row0_col3 {\n",
       "            background-color:  #00441b;\n",
       "            color:  #f1f1f1;\n",
       "        }    #T_23b02436_6e93_11ea_a79d_705a0f1a5828row1_col1 {\n",
       "            background-color:  #004d1f;\n",
       "            color:  #f1f1f1;\n",
       "        }    #T_23b02436_6e93_11ea_a79d_705a0f1a5828row1_col2 {\n",
       "            background-color:  #00441b;\n",
       "            color:  #f1f1f1;\n",
       "        }    #T_23b02436_6e93_11ea_a79d_705a0f1a5828row1_col3 {\n",
       "            background-color:  #004d1f;\n",
       "            color:  #f1f1f1;\n",
       "        }    #T_23b02436_6e93_11ea_a79d_705a0f1a5828row2_col1 {\n",
       "            background-color:  #e1f3dc;\n",
       "            color:  #000000;\n",
       "        }    #T_23b02436_6e93_11ea_a79d_705a0f1a5828row2_col2 {\n",
       "            background-color:  #aedea7;\n",
       "            color:  #000000;\n",
       "        }    #T_23b02436_6e93_11ea_a79d_705a0f1a5828row2_col3 {\n",
       "            background-color:  #e1f3dc;\n",
       "            color:  #000000;\n",
       "        }    #T_23b02436_6e93_11ea_a79d_705a0f1a5828row3_col1 {\n",
       "            background-color:  #e4f5df;\n",
       "            color:  #000000;\n",
       "        }    #T_23b02436_6e93_11ea_a79d_705a0f1a5828row3_col2 {\n",
       "            background-color:  #f7fcf5;\n",
       "            color:  #000000;\n",
       "        }    #T_23b02436_6e93_11ea_a79d_705a0f1a5828row3_col3 {\n",
       "            background-color:  #e4f5df;\n",
       "            color:  #000000;\n",
       "        }    #T_23b02436_6e93_11ea_a79d_705a0f1a5828row4_col1 {\n",
       "            background-color:  #eaf7e6;\n",
       "            color:  #000000;\n",
       "        }    #T_23b02436_6e93_11ea_a79d_705a0f1a5828row4_col2 {\n",
       "            background-color:  #dbf1d6;\n",
       "            color:  #000000;\n",
       "        }    #T_23b02436_6e93_11ea_a79d_705a0f1a5828row4_col3 {\n",
       "            background-color:  #ebf7e7;\n",
       "            color:  #000000;\n",
       "        }    #T_23b02436_6e93_11ea_a79d_705a0f1a5828row5_col1 {\n",
       "            background-color:  #edf8e9;\n",
       "            color:  #000000;\n",
       "        }    #T_23b02436_6e93_11ea_a79d_705a0f1a5828row5_col2 {\n",
       "            background-color:  #73c476;\n",
       "            color:  #000000;\n",
       "        }    #T_23b02436_6e93_11ea_a79d_705a0f1a5828row5_col3 {\n",
       "            background-color:  #edf8e9;\n",
       "            color:  #000000;\n",
       "        }    #T_23b02436_6e93_11ea_a79d_705a0f1a5828row6_col1 {\n",
       "            background-color:  #edf8e9;\n",
       "            color:  #000000;\n",
       "        }    #T_23b02436_6e93_11ea_a79d_705a0f1a5828row6_col2 {\n",
       "            background-color:  #dbf1d6;\n",
       "            color:  #000000;\n",
       "        }    #T_23b02436_6e93_11ea_a79d_705a0f1a5828row6_col3 {\n",
       "            background-color:  #edf8e9;\n",
       "            color:  #000000;\n",
       "        }    #T_23b02436_6e93_11ea_a79d_705a0f1a5828row7_col1 {\n",
       "            background-color:  #edf8e9;\n",
       "            color:  #000000;\n",
       "        }    #T_23b02436_6e93_11ea_a79d_705a0f1a5828row7_col2 {\n",
       "            background-color:  #f7fcf5;\n",
       "            color:  #000000;\n",
       "        }    #T_23b02436_6e93_11ea_a79d_705a0f1a5828row7_col3 {\n",
       "            background-color:  #edf8e9;\n",
       "            color:  #000000;\n",
       "        }    #T_23b02436_6e93_11ea_a79d_705a0f1a5828row8_col1 {\n",
       "            background-color:  #f5fbf2;\n",
       "            color:  #000000;\n",
       "        }    #T_23b02436_6e93_11ea_a79d_705a0f1a5828row8_col2 {\n",
       "            background-color:  #f7fcf5;\n",
       "            color:  #000000;\n",
       "        }    #T_23b02436_6e93_11ea_a79d_705a0f1a5828row8_col3 {\n",
       "            background-color:  #f5fbf2;\n",
       "            color:  #000000;\n",
       "        }    #T_23b02436_6e93_11ea_a79d_705a0f1a5828row9_col1 {\n",
       "            background-color:  #f7fcf5;\n",
       "            color:  #000000;\n",
       "        }    #T_23b02436_6e93_11ea_a79d_705a0f1a5828row9_col2 {\n",
       "            background-color:  #f7fcf5;\n",
       "            color:  #000000;\n",
       "        }    #T_23b02436_6e93_11ea_a79d_705a0f1a5828row9_col3 {\n",
       "            background-color:  #f7fcf5;\n",
       "            color:  #000000;\n",
       "        }</style><table id=\"T_23b02436_6e93_11ea_a79d_705a0f1a5828\" ><thead>    <tr>        <th class=\"blank level0\" ></th>        <th class=\"col_heading level0 col0\" >Province/State</th>        <th class=\"col_heading level0 col1\" >Confirmed</th>        <th class=\"col_heading level0 col2\" >Deaths</th>        <th class=\"col_heading level0 col3\" >Recovered</th>    </tr></thead><tbody>\n",
       "                <tr>\n",
       "                        <th id=\"T_23b02436_6e93_11ea_a79d_705a0f1a5828level0_row0\" class=\"row_heading level0 row0\" >0</th>\n",
       "                        <td id=\"T_23b02436_6e93_11ea_a79d_705a0f1a5828row0_col0\" class=\"data row0 col0\" >Hunan</td>\n",
       "                        <td id=\"T_23b02436_6e93_11ea_a79d_705a0f1a5828row0_col1\" class=\"data row0 col1\" >1018</td>\n",
       "                        <td id=\"T_23b02436_6e93_11ea_a79d_705a0f1a5828row0_col2\" class=\"data row0 col2\" >4</td>\n",
       "                        <td id=\"T_23b02436_6e93_11ea_a79d_705a0f1a5828row0_col3\" class=\"data row0 col3\" >1014</td>\n",
       "            </tr>\n",
       "            <tr>\n",
       "                        <th id=\"T_23b02436_6e93_11ea_a79d_705a0f1a5828level0_row1\" class=\"row_heading level0 row1\" >1</th>\n",
       "                        <td id=\"T_23b02436_6e93_11ea_a79d_705a0f1a5828row1_col0\" class=\"data row1 col0\" >Anhui</td>\n",
       "                        <td id=\"T_23b02436_6e93_11ea_a79d_705a0f1a5828row1_col1\" class=\"data row1 col1\" >990</td>\n",
       "                        <td id=\"T_23b02436_6e93_11ea_a79d_705a0f1a5828row1_col2\" class=\"data row1 col2\" >6</td>\n",
       "                        <td id=\"T_23b02436_6e93_11ea_a79d_705a0f1a5828row1_col3\" class=\"data row1 col3\" >984</td>\n",
       "            </tr>\n",
       "            <tr>\n",
       "                        <th id=\"T_23b02436_6e93_11ea_a79d_705a0f1a5828level0_row2\" class=\"row_heading level0 row2\" >2</th>\n",
       "                        <td id=\"T_23b02436_6e93_11ea_a79d_705a0f1a5828row2_col0\" class=\"data row2 col0\" >Guizhou</td>\n",
       "                        <td id=\"T_23b02436_6e93_11ea_a79d_705a0f1a5828row2_col1\" class=\"data row2 col1\" >146</td>\n",
       "                        <td id=\"T_23b02436_6e93_11ea_a79d_705a0f1a5828row2_col2\" class=\"data row2 col2\" >2</td>\n",
       "                        <td id=\"T_23b02436_6e93_11ea_a79d_705a0f1a5828row2_col3\" class=\"data row2 col3\" >144</td>\n",
       "            </tr>\n",
       "            <tr>\n",
       "                        <th id=\"T_23b02436_6e93_11ea_a79d_705a0f1a5828level0_row3\" class=\"row_heading level0 row3\" >3</th>\n",
       "                        <td id=\"T_23b02436_6e93_11ea_a79d_705a0f1a5828row3_col0\" class=\"data row3 col0\" >Shanxi</td>\n",
       "                        <td id=\"T_23b02436_6e93_11ea_a79d_705a0f1a5828row3_col1\" class=\"data row3 col1\" >133</td>\n",
       "                        <td id=\"T_23b02436_6e93_11ea_a79d_705a0f1a5828row3_col2\" class=\"data row3 col2\" >0</td>\n",
       "                        <td id=\"T_23b02436_6e93_11ea_a79d_705a0f1a5828row3_col3\" class=\"data row3 col3\" >133</td>\n",
       "            </tr>\n",
       "            <tr>\n",
       "                        <th id=\"T_23b02436_6e93_11ea_a79d_705a0f1a5828level0_row4\" class=\"row_heading level0 row4\" >4</th>\n",
       "                        <td id=\"T_23b02436_6e93_11ea_a79d_705a0f1a5828row4_col0\" class=\"data row4 col0\" >Jilin</td>\n",
       "                        <td id=\"T_23b02436_6e93_11ea_a79d_705a0f1a5828row4_col1\" class=\"data row4 col1\" >93</td>\n",
       "                        <td id=\"T_23b02436_6e93_11ea_a79d_705a0f1a5828row4_col2\" class=\"data row4 col2\" >1</td>\n",
       "                        <td id=\"T_23b02436_6e93_11ea_a79d_705a0f1a5828row4_col3\" class=\"data row4 col3\" >92</td>\n",
       "            </tr>\n",
       "            <tr>\n",
       "                        <th id=\"T_23b02436_6e93_11ea_a79d_705a0f1a5828level0_row5\" class=\"row_heading level0 row5\" >5</th>\n",
       "                        <td id=\"T_23b02436_6e93_11ea_a79d_705a0f1a5828row5_col0\" class=\"data row5 col0\" >Xinjiang</td>\n",
       "                        <td id=\"T_23b02436_6e93_11ea_a79d_705a0f1a5828row5_col1\" class=\"data row5 col1\" >76</td>\n",
       "                        <td id=\"T_23b02436_6e93_11ea_a79d_705a0f1a5828row5_col2\" class=\"data row5 col2\" >3</td>\n",
       "                        <td id=\"T_23b02436_6e93_11ea_a79d_705a0f1a5828row5_col3\" class=\"data row5 col3\" >73</td>\n",
       "            </tr>\n",
       "            <tr>\n",
       "                        <th id=\"T_23b02436_6e93_11ea_a79d_705a0f1a5828level0_row6\" class=\"row_heading level0 row6\" >6</th>\n",
       "                        <td id=\"T_23b02436_6e93_11ea_a79d_705a0f1a5828row6_col0\" class=\"data row6 col0\" >Inner Mongolia</td>\n",
       "                        <td id=\"T_23b02436_6e93_11ea_a79d_705a0f1a5828row6_col1\" class=\"data row6 col1\" >75</td>\n",
       "                        <td id=\"T_23b02436_6e93_11ea_a79d_705a0f1a5828row6_col2\" class=\"data row6 col2\" >1</td>\n",
       "                        <td id=\"T_23b02436_6e93_11ea_a79d_705a0f1a5828row6_col3\" class=\"data row6 col3\" >74</td>\n",
       "            </tr>\n",
       "            <tr>\n",
       "                        <th id=\"T_23b02436_6e93_11ea_a79d_705a0f1a5828level0_row7\" class=\"row_heading level0 row7\" >7</th>\n",
       "                        <td id=\"T_23b02436_6e93_11ea_a79d_705a0f1a5828row7_col0\" class=\"data row7 col0\" >Ningxia</td>\n",
       "                        <td id=\"T_23b02436_6e93_11ea_a79d_705a0f1a5828row7_col1\" class=\"data row7 col1\" >75</td>\n",
       "                        <td id=\"T_23b02436_6e93_11ea_a79d_705a0f1a5828row7_col2\" class=\"data row7 col2\" >0</td>\n",
       "                        <td id=\"T_23b02436_6e93_11ea_a79d_705a0f1a5828row7_col3\" class=\"data row7 col3\" >75</td>\n",
       "            </tr>\n",
       "            <tr>\n",
       "                        <th id=\"T_23b02436_6e93_11ea_a79d_705a0f1a5828level0_row8\" class=\"row_heading level0 row8\" >8</th>\n",
       "                        <td id=\"T_23b02436_6e93_11ea_a79d_705a0f1a5828row8_col0\" class=\"data row8 col0\" >Qinghai</td>\n",
       "                        <td id=\"T_23b02436_6e93_11ea_a79d_705a0f1a5828row8_col1\" class=\"data row8 col1\" >18</td>\n",
       "                        <td id=\"T_23b02436_6e93_11ea_a79d_705a0f1a5828row8_col2\" class=\"data row8 col2\" >0</td>\n",
       "                        <td id=\"T_23b02436_6e93_11ea_a79d_705a0f1a5828row8_col3\" class=\"data row8 col3\" >18</td>\n",
       "            </tr>\n",
       "            <tr>\n",
       "                        <th id=\"T_23b02436_6e93_11ea_a79d_705a0f1a5828level0_row9\" class=\"row_heading level0 row9\" >9</th>\n",
       "                        <td id=\"T_23b02436_6e93_11ea_a79d_705a0f1a5828row9_col0\" class=\"data row9 col0\" >Tibet</td>\n",
       "                        <td id=\"T_23b02436_6e93_11ea_a79d_705a0f1a5828row9_col1\" class=\"data row9 col1\" >1</td>\n",
       "                        <td id=\"T_23b02436_6e93_11ea_a79d_705a0f1a5828row9_col2\" class=\"data row9 col2\" >0</td>\n",
       "                        <td id=\"T_23b02436_6e93_11ea_a79d_705a0f1a5828row9_col3\" class=\"data row9 col3\" >1</td>\n",
       "            </tr>\n",
       "    </tbody></table>"
      ],
      "text/plain": [
       "<pandas.io.formats.style.Styler at 0x2b1719da948>"
      ]
     },
     "execution_count": 64,
     "metadata": {},
     "output_type": "execute_result"
    }
   ],
   "source": [
    "temp = china_latest_grouped[china_latest_grouped['Confirmed']==\n",
    "                          china_latest_grouped['Deaths']+\n",
    "                          china_latest_grouped['Recovered']]\n",
    "temp = temp[['Province/State', 'Confirmed', 'Deaths', 'Recovered']]\n",
    "temp = temp.sort_values('Confirmed', ascending=False)\n",
    "temp = temp.reset_index(drop=True)\n",
    "temp.style.background_gradient(cmap='Greens')"
   ]
  },
  {
   "cell_type": "code",
   "execution_count": 65,
   "metadata": {},
   "outputs": [
    {
     "data": {
      "application/vnd.plotly.v1+json": {
       "config": {
        "plotlyServerURL": "https://plot.ly"
       },
       "data": [
        {
         "alignmentgroup": "True",
         "hoverlabel": {
          "namelength": 0
         },
         "hovertemplate": "Case=Confirmed<br>Date=%{x}<br>Count=%{y}",
         "legendgroup": "Confirmed",
         "marker": {
          "color": "#393e46"
         },
         "name": "Confirmed",
         "offsetgroup": "Confirmed",
         "orientation": "v",
         "showlegend": true,
         "textposition": "auto",
         "type": "bar",
         "x": [
          "2020-01-22T00:00:00",
          "2020-01-23T00:00:00",
          "2020-01-24T00:00:00",
          "2020-01-25T00:00:00",
          "2020-01-26T00:00:00",
          "2020-01-27T00:00:00",
          "2020-01-28T00:00:00",
          "2020-01-29T00:00:00",
          "2020-01-30T00:00:00",
          "2020-01-31T00:00:00",
          "2020-02-01T00:00:00",
          "2020-02-02T00:00:00",
          "2020-02-03T00:00:00",
          "2020-02-04T00:00:00",
          "2020-02-05T00:00:00",
          "2020-02-06T00:00:00",
          "2020-02-07T00:00:00",
          "2020-02-08T00:00:00",
          "2020-02-09T00:00:00",
          "2020-02-10T00:00:00",
          "2020-02-11T00:00:00",
          "2020-02-12T00:00:00",
          "2020-02-13T00:00:00",
          "2020-02-14T00:00:00",
          "2020-02-15T00:00:00",
          "2020-02-16T00:00:00",
          "2020-02-17T00:00:00",
          "2020-02-18T00:00:00",
          "2020-02-19T00:00:00",
          "2020-02-20T00:00:00",
          "2020-02-21T00:00:00",
          "2020-02-22T00:00:00",
          "2020-02-23T00:00:00",
          "2020-02-24T00:00:00",
          "2020-02-25T00:00:00",
          "2020-02-26T00:00:00",
          "2020-02-27T00:00:00",
          "2020-02-28T00:00:00",
          "2020-02-29T00:00:00",
          "2020-03-01T00:00:00",
          "2020-03-02T00:00:00",
          "2020-03-03T00:00:00",
          "2020-03-04T00:00:00",
          "2020-03-05T00:00:00",
          "2020-03-06T00:00:00",
          "2020-03-07T00:00:00",
          "2020-03-08T00:00:00",
          "2020-03-09T00:00:00",
          "2020-03-10T00:00:00",
          "2020-03-11T00:00:00",
          "2020-03-12T00:00:00",
          "2020-03-13T00:00:00",
          "2020-03-14T00:00:00",
          "2020-03-15T00:00:00",
          "2020-03-16T00:00:00",
          "2020-03-17T00:00:00",
          "2020-03-18T00:00:00",
          "2020-03-19T00:00:00",
          "2020-03-20T00:00:00",
          "2020-03-21T00:00:00",
          "2020-03-22T00:00:00",
          "2020-03-23T00:00:00"
         ],
         "xaxis": "x",
         "y": [
          444,
          444,
          549,
          761,
          1058,
          1423,
          3554,
          3554,
          4903,
          5806,
          7153,
          11177,
          13522,
          16678,
          19665,
          22112,
          24953,
          27100,
          29631,
          31728,
          33366,
          33366,
          48206,
          54406,
          56249,
          58182,
          59989,
          61682,
          62031,
          62442,
          62662,
          64084,
          64084,
          64287,
          64786,
          65187,
          65596,
          65914,
          66337,
          66907,
          67103,
          67217,
          67332,
          67466,
          67592,
          67666,
          67707,
          67743,
          67760,
          67773,
          67781,
          67786,
          67790,
          67794,
          67798,
          67799,
          67800,
          67800,
          67800,
          67800,
          67800,
          67800
         ],
         "yaxis": "y"
        },
        {
         "alignmentgroup": "True",
         "hoverlabel": {
          "namelength": 0
         },
         "hovertemplate": "Case=Deaths<br>Date=%{x}<br>Count=%{y}",
         "legendgroup": "Deaths",
         "marker": {
          "color": "#ff2e63"
         },
         "name": "Deaths",
         "offsetgroup": "Deaths",
         "orientation": "v",
         "showlegend": true,
         "textposition": "auto",
         "type": "bar",
         "x": [
          "2020-01-22T00:00:00",
          "2020-01-23T00:00:00",
          "2020-01-24T00:00:00",
          "2020-01-25T00:00:00",
          "2020-01-26T00:00:00",
          "2020-01-27T00:00:00",
          "2020-01-28T00:00:00",
          "2020-01-29T00:00:00",
          "2020-01-30T00:00:00",
          "2020-01-31T00:00:00",
          "2020-02-01T00:00:00",
          "2020-02-02T00:00:00",
          "2020-02-03T00:00:00",
          "2020-02-04T00:00:00",
          "2020-02-05T00:00:00",
          "2020-02-06T00:00:00",
          "2020-02-07T00:00:00",
          "2020-02-08T00:00:00",
          "2020-02-09T00:00:00",
          "2020-02-10T00:00:00",
          "2020-02-11T00:00:00",
          "2020-02-12T00:00:00",
          "2020-02-13T00:00:00",
          "2020-02-14T00:00:00",
          "2020-02-15T00:00:00",
          "2020-02-16T00:00:00",
          "2020-02-17T00:00:00",
          "2020-02-18T00:00:00",
          "2020-02-19T00:00:00",
          "2020-02-20T00:00:00",
          "2020-02-21T00:00:00",
          "2020-02-22T00:00:00",
          "2020-02-23T00:00:00",
          "2020-02-24T00:00:00",
          "2020-02-25T00:00:00",
          "2020-02-26T00:00:00",
          "2020-02-27T00:00:00",
          "2020-02-28T00:00:00",
          "2020-02-29T00:00:00",
          "2020-03-01T00:00:00",
          "2020-03-02T00:00:00",
          "2020-03-03T00:00:00",
          "2020-03-04T00:00:00",
          "2020-03-05T00:00:00",
          "2020-03-06T00:00:00",
          "2020-03-07T00:00:00",
          "2020-03-08T00:00:00",
          "2020-03-09T00:00:00",
          "2020-03-10T00:00:00",
          "2020-03-11T00:00:00",
          "2020-03-12T00:00:00",
          "2020-03-13T00:00:00",
          "2020-03-14T00:00:00",
          "2020-03-15T00:00:00",
          "2020-03-16T00:00:00",
          "2020-03-17T00:00:00",
          "2020-03-18T00:00:00",
          "2020-03-19T00:00:00",
          "2020-03-20T00:00:00",
          "2020-03-21T00:00:00",
          "2020-03-22T00:00:00",
          "2020-03-23T00:00:00"
         ],
         "xaxis": "x2",
         "y": [
          17,
          17,
          24,
          40,
          52,
          76,
          125,
          125,
          162,
          204,
          249,
          350,
          414,
          479,
          549,
          618,
          699,
          780,
          871,
          974,
          1068,
          1068,
          1310,
          1457,
          1596,
          1696,
          1789,
          1921,
          2029,
          2144,
          2144,
          2346,
          2346,
          2495,
          2563,
          2615,
          2641,
          2682,
          2727,
          2761,
          2803,
          2835,
          2871,
          2902,
          2931,
          2959,
          2986,
          3008,
          3024,
          3046,
          3056,
          3062,
          3075,
          3085,
          3099,
          3111,
          3122,
          3130,
          3133,
          3139,
          3144,
          3153
         ],
         "yaxis": "y2"
        },
        {
         "alignmentgroup": "True",
         "hoverlabel": {
          "namelength": 0
         },
         "hovertemplate": "Case=Recovered<br>Date=%{x}<br>Count=%{y}",
         "legendgroup": "Recovered",
         "marker": {
          "color": "#21bf73"
         },
         "name": "Recovered",
         "offsetgroup": "Recovered",
         "orientation": "v",
         "showlegend": true,
         "textposition": "auto",
         "type": "bar",
         "x": [
          "2020-01-22T00:00:00",
          "2020-01-23T00:00:00",
          "2020-01-24T00:00:00",
          "2020-01-25T00:00:00",
          "2020-01-26T00:00:00",
          "2020-01-27T00:00:00",
          "2020-01-28T00:00:00",
          "2020-01-29T00:00:00",
          "2020-01-30T00:00:00",
          "2020-01-31T00:00:00",
          "2020-02-01T00:00:00",
          "2020-02-02T00:00:00",
          "2020-02-03T00:00:00",
          "2020-02-04T00:00:00",
          "2020-02-05T00:00:00",
          "2020-02-06T00:00:00",
          "2020-02-07T00:00:00",
          "2020-02-08T00:00:00",
          "2020-02-09T00:00:00",
          "2020-02-10T00:00:00",
          "2020-02-11T00:00:00",
          "2020-02-12T00:00:00",
          "2020-02-13T00:00:00",
          "2020-02-14T00:00:00",
          "2020-02-15T00:00:00",
          "2020-02-16T00:00:00",
          "2020-02-17T00:00:00",
          "2020-02-18T00:00:00",
          "2020-02-19T00:00:00",
          "2020-02-20T00:00:00",
          "2020-02-21T00:00:00",
          "2020-02-22T00:00:00",
          "2020-02-23T00:00:00",
          "2020-02-24T00:00:00",
          "2020-02-25T00:00:00",
          "2020-02-26T00:00:00",
          "2020-02-27T00:00:00",
          "2020-02-28T00:00:00",
          "2020-02-29T00:00:00",
          "2020-03-01T00:00:00",
          "2020-03-02T00:00:00",
          "2020-03-03T00:00:00",
          "2020-03-04T00:00:00",
          "2020-03-05T00:00:00",
          "2020-03-06T00:00:00",
          "2020-03-07T00:00:00",
          "2020-03-08T00:00:00",
          "2020-03-09T00:00:00",
          "2020-03-10T00:00:00",
          "2020-03-11T00:00:00",
          "2020-03-12T00:00:00",
          "2020-03-13T00:00:00",
          "2020-03-14T00:00:00",
          "2020-03-15T00:00:00",
          "2020-03-16T00:00:00",
          "2020-03-17T00:00:00",
          "2020-03-18T00:00:00",
          "2020-03-19T00:00:00",
          "2020-03-20T00:00:00",
          "2020-03-21T00:00:00",
          "2020-03-22T00:00:00",
          "2020-03-23T00:00:00"
         ],
         "xaxis": "x3",
         "y": [
          28,
          28,
          31,
          32,
          42,
          45,
          80,
          88,
          90,
          141,
          168,
          295,
          386,
          522,
          633,
          817,
          1115,
          1439,
          1795,
          2222,
          2639,
          2686,
          3459,
          4774,
          5623,
          6639,
          7862,
          9128,
          10337,
          11788,
          11881,
          15299,
          15343,
          16748,
          18971,
          20969,
          23383,
          26403,
          28993,
          31536,
          33934,
          36208,
          38557,
          40592,
          42033,
          43500,
          45235,
          46488,
          47743,
          49134,
          50318,
          51553,
          52960,
          54288,
          55142,
          56003,
          56927,
          57682,
          58382,
          58946,
          59433,
          59879
         ],
         "yaxis": "y3"
        }
       ],
       "layout": {
        "annotations": [
         {
          "font": {},
          "showarrow": false,
          "text": "Case=Confirmed",
          "x": 0.15999999999999998,
          "xanchor": "center",
          "xref": "paper",
          "y": 1,
          "yanchor": "bottom",
          "yref": "paper"
         },
         {
          "font": {},
          "showarrow": false,
          "text": "Case=Deaths",
          "x": 0.49999999999999994,
          "xanchor": "center",
          "xref": "paper",
          "y": 1,
          "yanchor": "bottom",
          "yref": "paper"
         },
         {
          "font": {},
          "showarrow": false,
          "text": "Case=Recovered",
          "x": 0.8399999999999999,
          "xanchor": "center",
          "xref": "paper",
          "y": 1,
          "yanchor": "bottom",
          "yref": "paper"
         }
        ],
        "barmode": "relative",
        "legend": {
         "title": {
          "text": "Case"
         },
         "tracegroupgap": 0
        },
        "template": {
         "data": {
          "bar": [
           {
            "error_x": {
             "color": "#2a3f5f"
            },
            "error_y": {
             "color": "#2a3f5f"
            },
            "marker": {
             "line": {
              "color": "#E5ECF6",
              "width": 0.5
             }
            },
            "type": "bar"
           }
          ],
          "barpolar": [
           {
            "marker": {
             "line": {
              "color": "#E5ECF6",
              "width": 0.5
             }
            },
            "type": "barpolar"
           }
          ],
          "carpet": [
           {
            "aaxis": {
             "endlinecolor": "#2a3f5f",
             "gridcolor": "white",
             "linecolor": "white",
             "minorgridcolor": "white",
             "startlinecolor": "#2a3f5f"
            },
            "baxis": {
             "endlinecolor": "#2a3f5f",
             "gridcolor": "white",
             "linecolor": "white",
             "minorgridcolor": "white",
             "startlinecolor": "#2a3f5f"
            },
            "type": "carpet"
           }
          ],
          "choropleth": [
           {
            "colorbar": {
             "outlinewidth": 0,
             "ticks": ""
            },
            "type": "choropleth"
           }
          ],
          "contour": [
           {
            "colorbar": {
             "outlinewidth": 0,
             "ticks": ""
            },
            "colorscale": [
             [
              0,
              "#0d0887"
             ],
             [
              0.1111111111111111,
              "#46039f"
             ],
             [
              0.2222222222222222,
              "#7201a8"
             ],
             [
              0.3333333333333333,
              "#9c179e"
             ],
             [
              0.4444444444444444,
              "#bd3786"
             ],
             [
              0.5555555555555556,
              "#d8576b"
             ],
             [
              0.6666666666666666,
              "#ed7953"
             ],
             [
              0.7777777777777778,
              "#fb9f3a"
             ],
             [
              0.8888888888888888,
              "#fdca26"
             ],
             [
              1,
              "#f0f921"
             ]
            ],
            "type": "contour"
           }
          ],
          "contourcarpet": [
           {
            "colorbar": {
             "outlinewidth": 0,
             "ticks": ""
            },
            "type": "contourcarpet"
           }
          ],
          "heatmap": [
           {
            "colorbar": {
             "outlinewidth": 0,
             "ticks": ""
            },
            "colorscale": [
             [
              0,
              "#0d0887"
             ],
             [
              0.1111111111111111,
              "#46039f"
             ],
             [
              0.2222222222222222,
              "#7201a8"
             ],
             [
              0.3333333333333333,
              "#9c179e"
             ],
             [
              0.4444444444444444,
              "#bd3786"
             ],
             [
              0.5555555555555556,
              "#d8576b"
             ],
             [
              0.6666666666666666,
              "#ed7953"
             ],
             [
              0.7777777777777778,
              "#fb9f3a"
             ],
             [
              0.8888888888888888,
              "#fdca26"
             ],
             [
              1,
              "#f0f921"
             ]
            ],
            "type": "heatmap"
           }
          ],
          "heatmapgl": [
           {
            "colorbar": {
             "outlinewidth": 0,
             "ticks": ""
            },
            "colorscale": [
             [
              0,
              "#0d0887"
             ],
             [
              0.1111111111111111,
              "#46039f"
             ],
             [
              0.2222222222222222,
              "#7201a8"
             ],
             [
              0.3333333333333333,
              "#9c179e"
             ],
             [
              0.4444444444444444,
              "#bd3786"
             ],
             [
              0.5555555555555556,
              "#d8576b"
             ],
             [
              0.6666666666666666,
              "#ed7953"
             ],
             [
              0.7777777777777778,
              "#fb9f3a"
             ],
             [
              0.8888888888888888,
              "#fdca26"
             ],
             [
              1,
              "#f0f921"
             ]
            ],
            "type": "heatmapgl"
           }
          ],
          "histogram": [
           {
            "marker": {
             "colorbar": {
              "outlinewidth": 0,
              "ticks": ""
             }
            },
            "type": "histogram"
           }
          ],
          "histogram2d": [
           {
            "colorbar": {
             "outlinewidth": 0,
             "ticks": ""
            },
            "colorscale": [
             [
              0,
              "#0d0887"
             ],
             [
              0.1111111111111111,
              "#46039f"
             ],
             [
              0.2222222222222222,
              "#7201a8"
             ],
             [
              0.3333333333333333,
              "#9c179e"
             ],
             [
              0.4444444444444444,
              "#bd3786"
             ],
             [
              0.5555555555555556,
              "#d8576b"
             ],
             [
              0.6666666666666666,
              "#ed7953"
             ],
             [
              0.7777777777777778,
              "#fb9f3a"
             ],
             [
              0.8888888888888888,
              "#fdca26"
             ],
             [
              1,
              "#f0f921"
             ]
            ],
            "type": "histogram2d"
           }
          ],
          "histogram2dcontour": [
           {
            "colorbar": {
             "outlinewidth": 0,
             "ticks": ""
            },
            "colorscale": [
             [
              0,
              "#0d0887"
             ],
             [
              0.1111111111111111,
              "#46039f"
             ],
             [
              0.2222222222222222,
              "#7201a8"
             ],
             [
              0.3333333333333333,
              "#9c179e"
             ],
             [
              0.4444444444444444,
              "#bd3786"
             ],
             [
              0.5555555555555556,
              "#d8576b"
             ],
             [
              0.6666666666666666,
              "#ed7953"
             ],
             [
              0.7777777777777778,
              "#fb9f3a"
             ],
             [
              0.8888888888888888,
              "#fdca26"
             ],
             [
              1,
              "#f0f921"
             ]
            ],
            "type": "histogram2dcontour"
           }
          ],
          "mesh3d": [
           {
            "colorbar": {
             "outlinewidth": 0,
             "ticks": ""
            },
            "type": "mesh3d"
           }
          ],
          "parcoords": [
           {
            "line": {
             "colorbar": {
              "outlinewidth": 0,
              "ticks": ""
             }
            },
            "type": "parcoords"
           }
          ],
          "pie": [
           {
            "automargin": true,
            "type": "pie"
           }
          ],
          "scatter": [
           {
            "marker": {
             "colorbar": {
              "outlinewidth": 0,
              "ticks": ""
             }
            },
            "type": "scatter"
           }
          ],
          "scatter3d": [
           {
            "line": {
             "colorbar": {
              "outlinewidth": 0,
              "ticks": ""
             }
            },
            "marker": {
             "colorbar": {
              "outlinewidth": 0,
              "ticks": ""
             }
            },
            "type": "scatter3d"
           }
          ],
          "scattercarpet": [
           {
            "marker": {
             "colorbar": {
              "outlinewidth": 0,
              "ticks": ""
             }
            },
            "type": "scattercarpet"
           }
          ],
          "scattergeo": [
           {
            "marker": {
             "colorbar": {
              "outlinewidth": 0,
              "ticks": ""
             }
            },
            "type": "scattergeo"
           }
          ],
          "scattergl": [
           {
            "marker": {
             "colorbar": {
              "outlinewidth": 0,
              "ticks": ""
             }
            },
            "type": "scattergl"
           }
          ],
          "scattermapbox": [
           {
            "marker": {
             "colorbar": {
              "outlinewidth": 0,
              "ticks": ""
             }
            },
            "type": "scattermapbox"
           }
          ],
          "scatterpolar": [
           {
            "marker": {
             "colorbar": {
              "outlinewidth": 0,
              "ticks": ""
             }
            },
            "type": "scatterpolar"
           }
          ],
          "scatterpolargl": [
           {
            "marker": {
             "colorbar": {
              "outlinewidth": 0,
              "ticks": ""
             }
            },
            "type": "scatterpolargl"
           }
          ],
          "scatterternary": [
           {
            "marker": {
             "colorbar": {
              "outlinewidth": 0,
              "ticks": ""
             }
            },
            "type": "scatterternary"
           }
          ],
          "surface": [
           {
            "colorbar": {
             "outlinewidth": 0,
             "ticks": ""
            },
            "colorscale": [
             [
              0,
              "#0d0887"
             ],
             [
              0.1111111111111111,
              "#46039f"
             ],
             [
              0.2222222222222222,
              "#7201a8"
             ],
             [
              0.3333333333333333,
              "#9c179e"
             ],
             [
              0.4444444444444444,
              "#bd3786"
             ],
             [
              0.5555555555555556,
              "#d8576b"
             ],
             [
              0.6666666666666666,
              "#ed7953"
             ],
             [
              0.7777777777777778,
              "#fb9f3a"
             ],
             [
              0.8888888888888888,
              "#fdca26"
             ],
             [
              1,
              "#f0f921"
             ]
            ],
            "type": "surface"
           }
          ],
          "table": [
           {
            "cells": {
             "fill": {
              "color": "#EBF0F8"
             },
             "line": {
              "color": "white"
             }
            },
            "header": {
             "fill": {
              "color": "#C8D4E3"
             },
             "line": {
              "color": "white"
             }
            },
            "type": "table"
           }
          ]
         },
         "layout": {
          "annotationdefaults": {
           "arrowcolor": "#2a3f5f",
           "arrowhead": 0,
           "arrowwidth": 1
          },
          "coloraxis": {
           "colorbar": {
            "outlinewidth": 0,
            "ticks": ""
           }
          },
          "colorscale": {
           "diverging": [
            [
             0,
             "#8e0152"
            ],
            [
             0.1,
             "#c51b7d"
            ],
            [
             0.2,
             "#de77ae"
            ],
            [
             0.3,
             "#f1b6da"
            ],
            [
             0.4,
             "#fde0ef"
            ],
            [
             0.5,
             "#f7f7f7"
            ],
            [
             0.6,
             "#e6f5d0"
            ],
            [
             0.7,
             "#b8e186"
            ],
            [
             0.8,
             "#7fbc41"
            ],
            [
             0.9,
             "#4d9221"
            ],
            [
             1,
             "#276419"
            ]
           ],
           "sequential": [
            [
             0,
             "#0d0887"
            ],
            [
             0.1111111111111111,
             "#46039f"
            ],
            [
             0.2222222222222222,
             "#7201a8"
            ],
            [
             0.3333333333333333,
             "#9c179e"
            ],
            [
             0.4444444444444444,
             "#bd3786"
            ],
            [
             0.5555555555555556,
             "#d8576b"
            ],
            [
             0.6666666666666666,
             "#ed7953"
            ],
            [
             0.7777777777777778,
             "#fb9f3a"
            ],
            [
             0.8888888888888888,
             "#fdca26"
            ],
            [
             1,
             "#f0f921"
            ]
           ],
           "sequentialminus": [
            [
             0,
             "#0d0887"
            ],
            [
             0.1111111111111111,
             "#46039f"
            ],
            [
             0.2222222222222222,
             "#7201a8"
            ],
            [
             0.3333333333333333,
             "#9c179e"
            ],
            [
             0.4444444444444444,
             "#bd3786"
            ],
            [
             0.5555555555555556,
             "#d8576b"
            ],
            [
             0.6666666666666666,
             "#ed7953"
            ],
            [
             0.7777777777777778,
             "#fb9f3a"
            ],
            [
             0.8888888888888888,
             "#fdca26"
            ],
            [
             1,
             "#f0f921"
            ]
           ]
          },
          "colorway": [
           "#636efa",
           "#EF553B",
           "#00cc96",
           "#ab63fa",
           "#FFA15A",
           "#19d3f3",
           "#FF6692",
           "#B6E880",
           "#FF97FF",
           "#FECB52"
          ],
          "font": {
           "color": "#2a3f5f"
          },
          "geo": {
           "bgcolor": "white",
           "lakecolor": "white",
           "landcolor": "#E5ECF6",
           "showlakes": true,
           "showland": true,
           "subunitcolor": "white"
          },
          "hoverlabel": {
           "align": "left"
          },
          "hovermode": "closest",
          "mapbox": {
           "style": "light"
          },
          "paper_bgcolor": "white",
          "plot_bgcolor": "#E5ECF6",
          "polar": {
           "angularaxis": {
            "gridcolor": "white",
            "linecolor": "white",
            "ticks": ""
           },
           "bgcolor": "#E5ECF6",
           "radialaxis": {
            "gridcolor": "white",
            "linecolor": "white",
            "ticks": ""
           }
          },
          "scene": {
           "xaxis": {
            "backgroundcolor": "#E5ECF6",
            "gridcolor": "white",
            "gridwidth": 2,
            "linecolor": "white",
            "showbackground": true,
            "ticks": "",
            "zerolinecolor": "white"
           },
           "yaxis": {
            "backgroundcolor": "#E5ECF6",
            "gridcolor": "white",
            "gridwidth": 2,
            "linecolor": "white",
            "showbackground": true,
            "ticks": "",
            "zerolinecolor": "white"
           },
           "zaxis": {
            "backgroundcolor": "#E5ECF6",
            "gridcolor": "white",
            "gridwidth": 2,
            "linecolor": "white",
            "showbackground": true,
            "ticks": "",
            "zerolinecolor": "white"
           }
          },
          "shapedefaults": {
           "line": {
            "color": "#2a3f5f"
           }
          },
          "ternary": {
           "aaxis": {
            "gridcolor": "white",
            "linecolor": "white",
            "ticks": ""
           },
           "baxis": {
            "gridcolor": "white",
            "linecolor": "white",
            "ticks": ""
           },
           "bgcolor": "#E5ECF6",
           "caxis": {
            "gridcolor": "white",
            "linecolor": "white",
            "ticks": ""
           }
          },
          "title": {
           "x": 0.05
          },
          "xaxis": {
           "automargin": true,
           "gridcolor": "white",
           "linecolor": "white",
           "ticks": "",
           "title": {
            "standoff": 15
           },
           "zerolinecolor": "white",
           "zerolinewidth": 2
          },
          "yaxis": {
           "automargin": true,
           "gridcolor": "white",
           "linecolor": "white",
           "ticks": "",
           "title": {
            "standoff": 15
           },
           "zerolinecolor": "white",
           "zerolinewidth": 2
          }
         }
        },
        "title": {
         "text": "China"
        },
        "xaxis": {
         "anchor": "y",
         "domain": [
          0,
          0.31999999999999995
         ],
         "title": {
          "text": "Date"
         }
        },
        "xaxis2": {
         "anchor": "y2",
         "domain": [
          0.33999999999999997,
          0.6599999999999999
         ],
         "matches": "x",
         "title": {
          "text": "Date"
         }
        },
        "xaxis3": {
         "anchor": "y3",
         "domain": [
          0.6799999999999999,
          0.9999999999999999
         ],
         "matches": "x",
         "title": {
          "text": "Date"
         }
        },
        "yaxis": {
         "anchor": "x",
         "domain": [
          0,
          1
         ],
         "title": {
          "text": "Count"
         }
        },
        "yaxis2": {
         "anchor": "x2",
         "domain": [
          0,
          1
         ],
         "matches": "y",
         "showticklabels": false
        },
        "yaxis3": {
         "anchor": "x3",
         "domain": [
          0,
          1
         ],
         "matches": "y",
         "showticklabels": false
        }
       }
      },
      "text/html": [
       "<div>\n",
       "        \n",
       "        \n",
       "            <div id=\"5bd26f94-69bd-4c23-8ca0-79b6fd9a5d85\" class=\"plotly-graph-div\" style=\"height:525px; width:100%;\"></div>\n",
       "            <script type=\"text/javascript\">\n",
       "                require([\"plotly\"], function(Plotly) {\n",
       "                    window.PLOTLYENV=window.PLOTLYENV || {};\n",
       "                    \n",
       "                if (document.getElementById(\"5bd26f94-69bd-4c23-8ca0-79b6fd9a5d85\")) {\n",
       "                    Plotly.newPlot(\n",
       "                        '5bd26f94-69bd-4c23-8ca0-79b6fd9a5d85',\n",
       "                        [{\"alignmentgroup\": \"True\", \"hoverlabel\": {\"namelength\": 0}, \"hovertemplate\": \"Case=Confirmed<br>Date=%{x}<br>Count=%{y}\", \"legendgroup\": \"Confirmed\", \"marker\": {\"color\": \"#393e46\"}, \"name\": \"Confirmed\", \"offsetgroup\": \"Confirmed\", \"orientation\": \"v\", \"showlegend\": true, \"textposition\": \"auto\", \"type\": \"bar\", \"x\": [\"2020-01-22T00:00:00\", \"2020-01-23T00:00:00\", \"2020-01-24T00:00:00\", \"2020-01-25T00:00:00\", \"2020-01-26T00:00:00\", \"2020-01-27T00:00:00\", \"2020-01-28T00:00:00\", \"2020-01-29T00:00:00\", \"2020-01-30T00:00:00\", \"2020-01-31T00:00:00\", \"2020-02-01T00:00:00\", \"2020-02-02T00:00:00\", \"2020-02-03T00:00:00\", \"2020-02-04T00:00:00\", \"2020-02-05T00:00:00\", \"2020-02-06T00:00:00\", \"2020-02-07T00:00:00\", \"2020-02-08T00:00:00\", \"2020-02-09T00:00:00\", \"2020-02-10T00:00:00\", \"2020-02-11T00:00:00\", \"2020-02-12T00:00:00\", \"2020-02-13T00:00:00\", \"2020-02-14T00:00:00\", \"2020-02-15T00:00:00\", \"2020-02-16T00:00:00\", \"2020-02-17T00:00:00\", \"2020-02-18T00:00:00\", \"2020-02-19T00:00:00\", \"2020-02-20T00:00:00\", \"2020-02-21T00:00:00\", \"2020-02-22T00:00:00\", \"2020-02-23T00:00:00\", \"2020-02-24T00:00:00\", \"2020-02-25T00:00:00\", \"2020-02-26T00:00:00\", \"2020-02-27T00:00:00\", \"2020-02-28T00:00:00\", \"2020-02-29T00:00:00\", \"2020-03-01T00:00:00\", \"2020-03-02T00:00:00\", \"2020-03-03T00:00:00\", \"2020-03-04T00:00:00\", \"2020-03-05T00:00:00\", \"2020-03-06T00:00:00\", \"2020-03-07T00:00:00\", \"2020-03-08T00:00:00\", \"2020-03-09T00:00:00\", \"2020-03-10T00:00:00\", \"2020-03-11T00:00:00\", \"2020-03-12T00:00:00\", \"2020-03-13T00:00:00\", \"2020-03-14T00:00:00\", \"2020-03-15T00:00:00\", \"2020-03-16T00:00:00\", \"2020-03-17T00:00:00\", \"2020-03-18T00:00:00\", \"2020-03-19T00:00:00\", \"2020-03-20T00:00:00\", \"2020-03-21T00:00:00\", \"2020-03-22T00:00:00\", \"2020-03-23T00:00:00\"], \"xaxis\": \"x\", \"y\": [444.0, 444.0, 549.0, 761.0, 1058.0, 1423.0, 3554.0, 3554.0, 4903.0, 5806.0, 7153.0, 11177.0, 13522.0, 16678.0, 19665.0, 22112.0, 24953.0, 27100.0, 29631.0, 31728.0, 33366.0, 33366.0, 48206.0, 54406.0, 56249.0, 58182.0, 59989.0, 61682.0, 62031.0, 62442.0, 62662.0, 64084.0, 64084.0, 64287.0, 64786.0, 65187.0, 65596.0, 65914.0, 66337.0, 66907.0, 67103.0, 67217.0, 67332.0, 67466.0, 67592.0, 67666.0, 67707.0, 67743.0, 67760.0, 67773.0, 67781.0, 67786.0, 67790.0, 67794.0, 67798.0, 67799.0, 67800.0, 67800.0, 67800.0, 67800.0, 67800.0, 67800.0], \"yaxis\": \"y\"}, {\"alignmentgroup\": \"True\", \"hoverlabel\": {\"namelength\": 0}, \"hovertemplate\": \"Case=Deaths<br>Date=%{x}<br>Count=%{y}\", \"legendgroup\": \"Deaths\", \"marker\": {\"color\": \"#ff2e63\"}, \"name\": \"Deaths\", \"offsetgroup\": \"Deaths\", \"orientation\": \"v\", \"showlegend\": true, \"textposition\": \"auto\", \"type\": \"bar\", \"x\": [\"2020-01-22T00:00:00\", \"2020-01-23T00:00:00\", \"2020-01-24T00:00:00\", \"2020-01-25T00:00:00\", \"2020-01-26T00:00:00\", \"2020-01-27T00:00:00\", \"2020-01-28T00:00:00\", \"2020-01-29T00:00:00\", \"2020-01-30T00:00:00\", \"2020-01-31T00:00:00\", \"2020-02-01T00:00:00\", \"2020-02-02T00:00:00\", \"2020-02-03T00:00:00\", \"2020-02-04T00:00:00\", \"2020-02-05T00:00:00\", \"2020-02-06T00:00:00\", \"2020-02-07T00:00:00\", \"2020-02-08T00:00:00\", \"2020-02-09T00:00:00\", \"2020-02-10T00:00:00\", \"2020-02-11T00:00:00\", \"2020-02-12T00:00:00\", \"2020-02-13T00:00:00\", \"2020-02-14T00:00:00\", \"2020-02-15T00:00:00\", \"2020-02-16T00:00:00\", \"2020-02-17T00:00:00\", \"2020-02-18T00:00:00\", \"2020-02-19T00:00:00\", \"2020-02-20T00:00:00\", \"2020-02-21T00:00:00\", \"2020-02-22T00:00:00\", \"2020-02-23T00:00:00\", \"2020-02-24T00:00:00\", \"2020-02-25T00:00:00\", \"2020-02-26T00:00:00\", \"2020-02-27T00:00:00\", \"2020-02-28T00:00:00\", \"2020-02-29T00:00:00\", \"2020-03-01T00:00:00\", \"2020-03-02T00:00:00\", \"2020-03-03T00:00:00\", \"2020-03-04T00:00:00\", \"2020-03-05T00:00:00\", \"2020-03-06T00:00:00\", \"2020-03-07T00:00:00\", \"2020-03-08T00:00:00\", \"2020-03-09T00:00:00\", \"2020-03-10T00:00:00\", \"2020-03-11T00:00:00\", \"2020-03-12T00:00:00\", \"2020-03-13T00:00:00\", \"2020-03-14T00:00:00\", \"2020-03-15T00:00:00\", \"2020-03-16T00:00:00\", \"2020-03-17T00:00:00\", \"2020-03-18T00:00:00\", \"2020-03-19T00:00:00\", \"2020-03-20T00:00:00\", \"2020-03-21T00:00:00\", \"2020-03-22T00:00:00\", \"2020-03-23T00:00:00\"], \"xaxis\": \"x2\", \"y\": [17.0, 17.0, 24.0, 40.0, 52.0, 76.0, 125.0, 125.0, 162.0, 204.0, 249.0, 350.0, 414.0, 479.0, 549.0, 618.0, 699.0, 780.0, 871.0, 974.0, 1068.0, 1068.0, 1310.0, 1457.0, 1596.0, 1696.0, 1789.0, 1921.0, 2029.0, 2144.0, 2144.0, 2346.0, 2346.0, 2495.0, 2563.0, 2615.0, 2641.0, 2682.0, 2727.0, 2761.0, 2803.0, 2835.0, 2871.0, 2902.0, 2931.0, 2959.0, 2986.0, 3008.0, 3024.0, 3046.0, 3056.0, 3062.0, 3075.0, 3085.0, 3099.0, 3111.0, 3122.0, 3130.0, 3133.0, 3139.0, 3144.0, 3153.0], \"yaxis\": \"y2\"}, {\"alignmentgroup\": \"True\", \"hoverlabel\": {\"namelength\": 0}, \"hovertemplate\": \"Case=Recovered<br>Date=%{x}<br>Count=%{y}\", \"legendgroup\": \"Recovered\", \"marker\": {\"color\": \"#21bf73\"}, \"name\": \"Recovered\", \"offsetgroup\": \"Recovered\", \"orientation\": \"v\", \"showlegend\": true, \"textposition\": \"auto\", \"type\": \"bar\", \"x\": [\"2020-01-22T00:00:00\", \"2020-01-23T00:00:00\", \"2020-01-24T00:00:00\", \"2020-01-25T00:00:00\", \"2020-01-26T00:00:00\", \"2020-01-27T00:00:00\", \"2020-01-28T00:00:00\", \"2020-01-29T00:00:00\", \"2020-01-30T00:00:00\", \"2020-01-31T00:00:00\", \"2020-02-01T00:00:00\", \"2020-02-02T00:00:00\", \"2020-02-03T00:00:00\", \"2020-02-04T00:00:00\", \"2020-02-05T00:00:00\", \"2020-02-06T00:00:00\", \"2020-02-07T00:00:00\", \"2020-02-08T00:00:00\", \"2020-02-09T00:00:00\", \"2020-02-10T00:00:00\", \"2020-02-11T00:00:00\", \"2020-02-12T00:00:00\", \"2020-02-13T00:00:00\", \"2020-02-14T00:00:00\", \"2020-02-15T00:00:00\", \"2020-02-16T00:00:00\", \"2020-02-17T00:00:00\", \"2020-02-18T00:00:00\", \"2020-02-19T00:00:00\", \"2020-02-20T00:00:00\", \"2020-02-21T00:00:00\", \"2020-02-22T00:00:00\", \"2020-02-23T00:00:00\", \"2020-02-24T00:00:00\", \"2020-02-25T00:00:00\", \"2020-02-26T00:00:00\", \"2020-02-27T00:00:00\", \"2020-02-28T00:00:00\", \"2020-02-29T00:00:00\", \"2020-03-01T00:00:00\", \"2020-03-02T00:00:00\", \"2020-03-03T00:00:00\", \"2020-03-04T00:00:00\", \"2020-03-05T00:00:00\", \"2020-03-06T00:00:00\", \"2020-03-07T00:00:00\", \"2020-03-08T00:00:00\", \"2020-03-09T00:00:00\", \"2020-03-10T00:00:00\", \"2020-03-11T00:00:00\", \"2020-03-12T00:00:00\", \"2020-03-13T00:00:00\", \"2020-03-14T00:00:00\", \"2020-03-15T00:00:00\", \"2020-03-16T00:00:00\", \"2020-03-17T00:00:00\", \"2020-03-18T00:00:00\", \"2020-03-19T00:00:00\", \"2020-03-20T00:00:00\", \"2020-03-21T00:00:00\", \"2020-03-22T00:00:00\", \"2020-03-23T00:00:00\"], \"xaxis\": \"x3\", \"y\": [28.0, 28.0, 31.0, 32.0, 42.0, 45.0, 80.0, 88.0, 90.0, 141.0, 168.0, 295.0, 386.0, 522.0, 633.0, 817.0, 1115.0, 1439.0, 1795.0, 2222.0, 2639.0, 2686.0, 3459.0, 4774.0, 5623.0, 6639.0, 7862.0, 9128.0, 10337.0, 11788.0, 11881.0, 15299.0, 15343.0, 16748.0, 18971.0, 20969.0, 23383.0, 26403.0, 28993.0, 31536.0, 33934.0, 36208.0, 38557.0, 40592.0, 42033.0, 43500.0, 45235.0, 46488.0, 47743.0, 49134.0, 50318.0, 51553.0, 52960.0, 54288.0, 55142.0, 56003.0, 56927.0, 57682.0, 58382.0, 58946.0, 59433.0, 59879.0], \"yaxis\": \"y3\"}],\n",
       "                        {\"annotations\": [{\"font\": {}, \"showarrow\": false, \"text\": \"Case=Confirmed\", \"x\": 0.15999999999999998, \"xanchor\": \"center\", \"xref\": \"paper\", \"y\": 1.0, \"yanchor\": \"bottom\", \"yref\": \"paper\"}, {\"font\": {}, \"showarrow\": false, \"text\": \"Case=Deaths\", \"x\": 0.49999999999999994, \"xanchor\": \"center\", \"xref\": \"paper\", \"y\": 1.0, \"yanchor\": \"bottom\", \"yref\": \"paper\"}, {\"font\": {}, \"showarrow\": false, \"text\": \"Case=Recovered\", \"x\": 0.8399999999999999, \"xanchor\": \"center\", \"xref\": \"paper\", \"y\": 1.0, \"yanchor\": \"bottom\", \"yref\": \"paper\"}], \"barmode\": \"relative\", \"legend\": {\"title\": {\"text\": \"Case\"}, \"tracegroupgap\": 0}, \"template\": {\"data\": {\"bar\": [{\"error_x\": {\"color\": \"#2a3f5f\"}, \"error_y\": {\"color\": \"#2a3f5f\"}, \"marker\": {\"line\": {\"color\": \"#E5ECF6\", \"width\": 0.5}}, \"type\": \"bar\"}], \"barpolar\": [{\"marker\": {\"line\": {\"color\": \"#E5ECF6\", \"width\": 0.5}}, \"type\": \"barpolar\"}], \"carpet\": [{\"aaxis\": {\"endlinecolor\": \"#2a3f5f\", \"gridcolor\": \"white\", \"linecolor\": \"white\", \"minorgridcolor\": \"white\", \"startlinecolor\": \"#2a3f5f\"}, \"baxis\": {\"endlinecolor\": \"#2a3f5f\", \"gridcolor\": \"white\", \"linecolor\": \"white\", \"minorgridcolor\": \"white\", \"startlinecolor\": \"#2a3f5f\"}, \"type\": \"carpet\"}], \"choropleth\": [{\"colorbar\": {\"outlinewidth\": 0, \"ticks\": \"\"}, \"type\": \"choropleth\"}], \"contour\": [{\"colorbar\": {\"outlinewidth\": 0, \"ticks\": \"\"}, \"colorscale\": [[0.0, \"#0d0887\"], [0.1111111111111111, \"#46039f\"], [0.2222222222222222, \"#7201a8\"], [0.3333333333333333, \"#9c179e\"], [0.4444444444444444, \"#bd3786\"], [0.5555555555555556, \"#d8576b\"], [0.6666666666666666, \"#ed7953\"], [0.7777777777777778, \"#fb9f3a\"], [0.8888888888888888, \"#fdca26\"], [1.0, \"#f0f921\"]], \"type\": \"contour\"}], \"contourcarpet\": [{\"colorbar\": {\"outlinewidth\": 0, \"ticks\": \"\"}, \"type\": \"contourcarpet\"}], \"heatmap\": [{\"colorbar\": {\"outlinewidth\": 0, \"ticks\": \"\"}, \"colorscale\": [[0.0, \"#0d0887\"], [0.1111111111111111, \"#46039f\"], [0.2222222222222222, \"#7201a8\"], [0.3333333333333333, \"#9c179e\"], [0.4444444444444444, \"#bd3786\"], [0.5555555555555556, \"#d8576b\"], [0.6666666666666666, \"#ed7953\"], [0.7777777777777778, \"#fb9f3a\"], [0.8888888888888888, \"#fdca26\"], [1.0, \"#f0f921\"]], \"type\": \"heatmap\"}], \"heatmapgl\": [{\"colorbar\": {\"outlinewidth\": 0, \"ticks\": \"\"}, \"colorscale\": [[0.0, \"#0d0887\"], [0.1111111111111111, \"#46039f\"], [0.2222222222222222, \"#7201a8\"], [0.3333333333333333, \"#9c179e\"], [0.4444444444444444, \"#bd3786\"], [0.5555555555555556, \"#d8576b\"], [0.6666666666666666, \"#ed7953\"], [0.7777777777777778, \"#fb9f3a\"], [0.8888888888888888, \"#fdca26\"], [1.0, \"#f0f921\"]], \"type\": \"heatmapgl\"}], \"histogram\": [{\"marker\": {\"colorbar\": {\"outlinewidth\": 0, \"ticks\": \"\"}}, \"type\": \"histogram\"}], \"histogram2d\": [{\"colorbar\": {\"outlinewidth\": 0, \"ticks\": \"\"}, \"colorscale\": [[0.0, \"#0d0887\"], [0.1111111111111111, \"#46039f\"], [0.2222222222222222, \"#7201a8\"], [0.3333333333333333, \"#9c179e\"], [0.4444444444444444, \"#bd3786\"], [0.5555555555555556, \"#d8576b\"], [0.6666666666666666, \"#ed7953\"], [0.7777777777777778, \"#fb9f3a\"], [0.8888888888888888, \"#fdca26\"], [1.0, \"#f0f921\"]], \"type\": \"histogram2d\"}], \"histogram2dcontour\": [{\"colorbar\": {\"outlinewidth\": 0, \"ticks\": \"\"}, \"colorscale\": [[0.0, \"#0d0887\"], [0.1111111111111111, \"#46039f\"], [0.2222222222222222, \"#7201a8\"], [0.3333333333333333, \"#9c179e\"], [0.4444444444444444, \"#bd3786\"], [0.5555555555555556, \"#d8576b\"], [0.6666666666666666, \"#ed7953\"], [0.7777777777777778, \"#fb9f3a\"], [0.8888888888888888, \"#fdca26\"], [1.0, \"#f0f921\"]], \"type\": \"histogram2dcontour\"}], \"mesh3d\": [{\"colorbar\": {\"outlinewidth\": 0, \"ticks\": \"\"}, \"type\": \"mesh3d\"}], \"parcoords\": [{\"line\": {\"colorbar\": {\"outlinewidth\": 0, \"ticks\": \"\"}}, \"type\": \"parcoords\"}], \"pie\": [{\"automargin\": true, \"type\": \"pie\"}], \"scatter\": [{\"marker\": {\"colorbar\": {\"outlinewidth\": 0, \"ticks\": \"\"}}, \"type\": \"scatter\"}], \"scatter3d\": [{\"line\": {\"colorbar\": {\"outlinewidth\": 0, \"ticks\": \"\"}}, \"marker\": {\"colorbar\": {\"outlinewidth\": 0, \"ticks\": \"\"}}, \"type\": \"scatter3d\"}], \"scattercarpet\": [{\"marker\": {\"colorbar\": {\"outlinewidth\": 0, \"ticks\": \"\"}}, \"type\": \"scattercarpet\"}], \"scattergeo\": [{\"marker\": {\"colorbar\": {\"outlinewidth\": 0, \"ticks\": \"\"}}, \"type\": \"scattergeo\"}], \"scattergl\": [{\"marker\": {\"colorbar\": {\"outlinewidth\": 0, \"ticks\": \"\"}}, \"type\": \"scattergl\"}], \"scattermapbox\": [{\"marker\": {\"colorbar\": {\"outlinewidth\": 0, \"ticks\": \"\"}}, \"type\": \"scattermapbox\"}], \"scatterpolar\": [{\"marker\": {\"colorbar\": {\"outlinewidth\": 0, \"ticks\": \"\"}}, \"type\": \"scatterpolar\"}], \"scatterpolargl\": [{\"marker\": {\"colorbar\": {\"outlinewidth\": 0, \"ticks\": \"\"}}, \"type\": \"scatterpolargl\"}], \"scatterternary\": [{\"marker\": {\"colorbar\": {\"outlinewidth\": 0, \"ticks\": \"\"}}, \"type\": \"scatterternary\"}], \"surface\": [{\"colorbar\": {\"outlinewidth\": 0, \"ticks\": \"\"}, \"colorscale\": [[0.0, \"#0d0887\"], [0.1111111111111111, \"#46039f\"], [0.2222222222222222, \"#7201a8\"], [0.3333333333333333, \"#9c179e\"], [0.4444444444444444, \"#bd3786\"], [0.5555555555555556, \"#d8576b\"], [0.6666666666666666, \"#ed7953\"], [0.7777777777777778, \"#fb9f3a\"], [0.8888888888888888, \"#fdca26\"], [1.0, \"#f0f921\"]], \"type\": \"surface\"}], \"table\": [{\"cells\": {\"fill\": {\"color\": \"#EBF0F8\"}, \"line\": {\"color\": \"white\"}}, \"header\": {\"fill\": {\"color\": \"#C8D4E3\"}, \"line\": {\"color\": \"white\"}}, \"type\": \"table\"}]}, \"layout\": {\"annotationdefaults\": {\"arrowcolor\": \"#2a3f5f\", \"arrowhead\": 0, \"arrowwidth\": 1}, \"coloraxis\": {\"colorbar\": {\"outlinewidth\": 0, \"ticks\": \"\"}}, \"colorscale\": {\"diverging\": [[0, \"#8e0152\"], [0.1, \"#c51b7d\"], [0.2, \"#de77ae\"], [0.3, \"#f1b6da\"], [0.4, \"#fde0ef\"], [0.5, \"#f7f7f7\"], [0.6, \"#e6f5d0\"], [0.7, \"#b8e186\"], [0.8, \"#7fbc41\"], [0.9, \"#4d9221\"], [1, \"#276419\"]], \"sequential\": [[0.0, \"#0d0887\"], [0.1111111111111111, \"#46039f\"], [0.2222222222222222, \"#7201a8\"], [0.3333333333333333, \"#9c179e\"], [0.4444444444444444, \"#bd3786\"], [0.5555555555555556, \"#d8576b\"], [0.6666666666666666, \"#ed7953\"], [0.7777777777777778, \"#fb9f3a\"], [0.8888888888888888, \"#fdca26\"], [1.0, \"#f0f921\"]], \"sequentialminus\": [[0.0, \"#0d0887\"], [0.1111111111111111, \"#46039f\"], [0.2222222222222222, \"#7201a8\"], [0.3333333333333333, \"#9c179e\"], [0.4444444444444444, \"#bd3786\"], [0.5555555555555556, \"#d8576b\"], [0.6666666666666666, \"#ed7953\"], [0.7777777777777778, \"#fb9f3a\"], [0.8888888888888888, \"#fdca26\"], [1.0, \"#f0f921\"]]}, \"colorway\": [\"#636efa\", \"#EF553B\", \"#00cc96\", \"#ab63fa\", \"#FFA15A\", \"#19d3f3\", \"#FF6692\", \"#B6E880\", \"#FF97FF\", \"#FECB52\"], \"font\": {\"color\": \"#2a3f5f\"}, \"geo\": {\"bgcolor\": \"white\", \"lakecolor\": \"white\", \"landcolor\": \"#E5ECF6\", \"showlakes\": true, \"showland\": true, \"subunitcolor\": \"white\"}, \"hoverlabel\": {\"align\": \"left\"}, \"hovermode\": \"closest\", \"mapbox\": {\"style\": \"light\"}, \"paper_bgcolor\": \"white\", \"plot_bgcolor\": \"#E5ECF6\", \"polar\": {\"angularaxis\": {\"gridcolor\": \"white\", \"linecolor\": \"white\", \"ticks\": \"\"}, \"bgcolor\": \"#E5ECF6\", \"radialaxis\": {\"gridcolor\": \"white\", \"linecolor\": \"white\", \"ticks\": \"\"}}, \"scene\": {\"xaxis\": {\"backgroundcolor\": \"#E5ECF6\", \"gridcolor\": \"white\", \"gridwidth\": 2, \"linecolor\": \"white\", \"showbackground\": true, \"ticks\": \"\", \"zerolinecolor\": \"white\"}, \"yaxis\": {\"backgroundcolor\": \"#E5ECF6\", \"gridcolor\": \"white\", \"gridwidth\": 2, \"linecolor\": \"white\", \"showbackground\": true, \"ticks\": \"\", \"zerolinecolor\": \"white\"}, \"zaxis\": {\"backgroundcolor\": \"#E5ECF6\", \"gridcolor\": \"white\", \"gridwidth\": 2, \"linecolor\": \"white\", \"showbackground\": true, \"ticks\": \"\", \"zerolinecolor\": \"white\"}}, \"shapedefaults\": {\"line\": {\"color\": \"#2a3f5f\"}}, \"ternary\": {\"aaxis\": {\"gridcolor\": \"white\", \"linecolor\": \"white\", \"ticks\": \"\"}, \"baxis\": {\"gridcolor\": \"white\", \"linecolor\": \"white\", \"ticks\": \"\"}, \"bgcolor\": \"#E5ECF6\", \"caxis\": {\"gridcolor\": \"white\", \"linecolor\": \"white\", \"ticks\": \"\"}}, \"title\": {\"x\": 0.05}, \"xaxis\": {\"automargin\": true, \"gridcolor\": \"white\", \"linecolor\": \"white\", \"ticks\": \"\", \"title\": {\"standoff\": 15}, \"zerolinecolor\": \"white\", \"zerolinewidth\": 2}, \"yaxis\": {\"automargin\": true, \"gridcolor\": \"white\", \"linecolor\": \"white\", \"ticks\": \"\", \"title\": {\"standoff\": 15}, \"zerolinecolor\": \"white\", \"zerolinewidth\": 2}}}, \"title\": {\"text\": \"China\"}, \"xaxis\": {\"anchor\": \"y\", \"domain\": [0.0, 0.31999999999999995], \"title\": {\"text\": \"Date\"}}, \"xaxis2\": {\"anchor\": \"y2\", \"domain\": [0.33999999999999997, 0.6599999999999999], \"matches\": \"x\", \"title\": {\"text\": \"Date\"}}, \"xaxis3\": {\"anchor\": \"y3\", \"domain\": [0.6799999999999999, 0.9999999999999999], \"matches\": \"x\", \"title\": {\"text\": \"Date\"}}, \"yaxis\": {\"anchor\": \"x\", \"domain\": [0.0, 1.0], \"title\": {\"text\": \"Count\"}}, \"yaxis2\": {\"anchor\": \"x2\", \"domain\": [0.0, 1.0], \"matches\": \"y\", \"showticklabels\": false}, \"yaxis3\": {\"anchor\": \"x3\", \"domain\": [0.0, 1.0], \"matches\": \"y\", \"showticklabels\": false}},\n",
       "                        {\"responsive\": true}\n",
       "                    ).then(function(){\n",
       "                            \n",
       "var gd = document.getElementById('5bd26f94-69bd-4c23-8ca0-79b6fd9a5d85');\n",
       "var x = new MutationObserver(function (mutations, observer) {{\n",
       "        var display = window.getComputedStyle(gd).display;\n",
       "        if (!display || display === 'none') {{\n",
       "            console.log([gd, 'removed!']);\n",
       "            Plotly.purge(gd);\n",
       "            observer.disconnect();\n",
       "        }}\n",
       "}});\n",
       "\n",
       "// Listen for the removal of the full notebook cells\n",
       "var notebookContainer = gd.closest('#notebook-container');\n",
       "if (notebookContainer) {{\n",
       "    x.observe(notebookContainer, {childList: true});\n",
       "}}\n",
       "\n",
       "// Listen for the clearing of the current output cell\n",
       "var outputEl = gd.closest('.output');\n",
       "if (outputEl) {{\n",
       "    x.observe(outputEl, {childList: true});\n",
       "}}\n",
       "\n",
       "                        })\n",
       "                };\n",
       "                });\n",
       "            </script>\n",
       "        </div>"
      ]
     },
     "metadata": {},
     "output_type": "display_data"
    },
    {
     "data": {
      "application/vnd.plotly.v1+json": {
       "config": {
        "plotlyServerURL": "https://plot.ly"
       },
       "data": [
        {
         "alignmentgroup": "True",
         "hoverlabel": {
          "namelength": 0
         },
         "hovertemplate": "Case=Confirmed<br>Date=%{x}<br>Count=%{y}",
         "legendgroup": "Confirmed",
         "marker": {
          "color": "#393e46"
         },
         "name": "Confirmed",
         "offsetgroup": "Confirmed",
         "orientation": "v",
         "showlegend": true,
         "textposition": "auto",
         "type": "bar",
         "x": [
          "2020-01-22T00:00:00",
          "2020-01-23T00:00:00",
          "2020-01-24T00:00:00",
          "2020-01-25T00:00:00",
          "2020-01-26T00:00:00",
          "2020-01-27T00:00:00",
          "2020-01-28T00:00:00",
          "2020-01-29T00:00:00",
          "2020-01-30T00:00:00",
          "2020-01-31T00:00:00",
          "2020-02-01T00:00:00",
          "2020-02-02T00:00:00",
          "2020-02-03T00:00:00",
          "2020-02-04T00:00:00",
          "2020-02-05T00:00:00",
          "2020-02-06T00:00:00",
          "2020-02-07T00:00:00",
          "2020-02-08T00:00:00",
          "2020-02-09T00:00:00",
          "2020-02-10T00:00:00",
          "2020-02-11T00:00:00",
          "2020-02-12T00:00:00",
          "2020-02-13T00:00:00",
          "2020-02-14T00:00:00",
          "2020-02-15T00:00:00",
          "2020-02-16T00:00:00",
          "2020-02-17T00:00:00",
          "2020-02-18T00:00:00",
          "2020-02-19T00:00:00",
          "2020-02-20T00:00:00",
          "2020-02-21T00:00:00",
          "2020-02-22T00:00:00",
          "2020-02-23T00:00:00",
          "2020-02-24T00:00:00",
          "2020-02-25T00:00:00",
          "2020-02-26T00:00:00",
          "2020-02-27T00:00:00",
          "2020-02-28T00:00:00",
          "2020-02-29T00:00:00",
          "2020-03-01T00:00:00",
          "2020-03-02T00:00:00",
          "2020-03-03T00:00:00",
          "2020-03-04T00:00:00",
          "2020-03-05T00:00:00",
          "2020-03-06T00:00:00",
          "2020-03-07T00:00:00",
          "2020-03-08T00:00:00",
          "2020-03-09T00:00:00",
          "2020-03-10T00:00:00",
          "2020-03-11T00:00:00",
          "2020-03-12T00:00:00",
          "2020-03-13T00:00:00",
          "2020-03-14T00:00:00",
          "2020-03-15T00:00:00",
          "2020-03-16T00:00:00",
          "2020-03-17T00:00:00",
          "2020-03-18T00:00:00",
          "2020-03-19T00:00:00",
          "2020-03-20T00:00:00",
          "2020-03-21T00:00:00",
          "2020-03-22T00:00:00",
          "2020-03-23T00:00:00"
         ],
         "xaxis": "x",
         "y": [
          6,
          9,
          19,
          26,
          37,
          44,
          62,
          71,
          82,
          112,
          130,
          140,
          145,
          164,
          173,
          207,
          257,
          282,
          297,
          384,
          391,
          437,
          447,
          501,
          591,
          685,
          798,
          899,
          994,
          1094,
          1241,
          1545,
          1910,
          2293,
          2625,
          3195,
          4117,
          5154,
          6606,
          8380,
          10087,
          12470,
          14582,
          17120,
          20814,
          24623,
          28415,
          32066,
          36906,
          43885,
          46042,
          62384,
          72671,
          83322,
          96320,
          110723,
          127639,
          152139,
          178817,
          207650,
          234911,
          235041
         ],
         "yaxis": "y"
        },
        {
         "alignmentgroup": "True",
         "hoverlabel": {
          "namelength": 0
         },
         "hovertemplate": "Case=Deaths<br>Date=%{x}<br>Count=%{y}",
         "legendgroup": "Deaths",
         "marker": {
          "color": "#ff2e63"
         },
         "name": "Deaths",
         "offsetgroup": "Deaths",
         "orientation": "v",
         "showlegend": true,
         "textposition": "auto",
         "type": "bar",
         "x": [
          "2020-01-22T00:00:00",
          "2020-01-23T00:00:00",
          "2020-01-24T00:00:00",
          "2020-01-25T00:00:00",
          "2020-01-26T00:00:00",
          "2020-01-27T00:00:00",
          "2020-01-28T00:00:00",
          "2020-01-29T00:00:00",
          "2020-01-30T00:00:00",
          "2020-01-31T00:00:00",
          "2020-02-01T00:00:00",
          "2020-02-02T00:00:00",
          "2020-02-03T00:00:00",
          "2020-02-04T00:00:00",
          "2020-02-05T00:00:00",
          "2020-02-06T00:00:00",
          "2020-02-07T00:00:00",
          "2020-02-08T00:00:00",
          "2020-02-09T00:00:00",
          "2020-02-10T00:00:00",
          "2020-02-11T00:00:00",
          "2020-02-12T00:00:00",
          "2020-02-13T00:00:00",
          "2020-02-14T00:00:00",
          "2020-02-15T00:00:00",
          "2020-02-16T00:00:00",
          "2020-02-17T00:00:00",
          "2020-02-18T00:00:00",
          "2020-02-19T00:00:00",
          "2020-02-20T00:00:00",
          "2020-02-21T00:00:00",
          "2020-02-22T00:00:00",
          "2020-02-23T00:00:00",
          "2020-02-24T00:00:00",
          "2020-02-25T00:00:00",
          "2020-02-26T00:00:00",
          "2020-02-27T00:00:00",
          "2020-02-28T00:00:00",
          "2020-02-29T00:00:00",
          "2020-03-01T00:00:00",
          "2020-03-02T00:00:00",
          "2020-03-03T00:00:00",
          "2020-03-04T00:00:00",
          "2020-03-05T00:00:00",
          "2020-03-06T00:00:00",
          "2020-03-07T00:00:00",
          "2020-03-08T00:00:00",
          "2020-03-09T00:00:00",
          "2020-03-10T00:00:00",
          "2020-03-11T00:00:00",
          "2020-03-12T00:00:00",
          "2020-03-13T00:00:00",
          "2020-03-14T00:00:00",
          "2020-03-15T00:00:00",
          "2020-03-16T00:00:00",
          "2020-03-17T00:00:00",
          "2020-03-18T00:00:00",
          "2020-03-19T00:00:00",
          "2020-03-20T00:00:00",
          "2020-03-21T00:00:00",
          "2020-03-22T00:00:00",
          "2020-03-23T00:00:00"
         ],
         "xaxis": "x2",
         "y": [
          0,
          0,
          0,
          0,
          0,
          0,
          0,
          0,
          0,
          0,
          0,
          1,
          1,
          1,
          1,
          1,
          1,
          1,
          1,
          1,
          1,
          1,
          2,
          2,
          3,
          4,
          4,
          4,
          6,
          9,
          13,
          15,
          24,
          34,
          43,
          53,
          68,
          82,
          103,
          123,
          165,
          206,
          259,
          320,
          401,
          468,
          680,
          842,
          1117,
          1446,
          1538,
          2213,
          2608,
          3213,
          3870,
          4619,
          5426,
          6487,
          7878,
          9489,
          11053,
          11055
         ],
         "yaxis": "y2"
        },
        {
         "alignmentgroup": "True",
         "hoverlabel": {
          "namelength": 0
         },
         "hovertemplate": "Case=Recovered<br>Date=%{x}<br>Count=%{y}",
         "legendgroup": "Recovered",
         "marker": {
          "color": "#21bf73"
         },
         "name": "Recovered",
         "offsetgroup": "Recovered",
         "orientation": "v",
         "showlegend": true,
         "textposition": "auto",
         "type": "bar",
         "x": [
          "2020-01-22T00:00:00",
          "2020-01-23T00:00:00",
          "2020-01-24T00:00:00",
          "2020-01-25T00:00:00",
          "2020-01-26T00:00:00",
          "2020-01-27T00:00:00",
          "2020-01-28T00:00:00",
          "2020-01-29T00:00:00",
          "2020-01-30T00:00:00",
          "2020-01-31T00:00:00",
          "2020-02-01T00:00:00",
          "2020-02-02T00:00:00",
          "2020-02-03T00:00:00",
          "2020-02-04T00:00:00",
          "2020-02-05T00:00:00",
          "2020-02-06T00:00:00",
          "2020-02-07T00:00:00",
          "2020-02-08T00:00:00",
          "2020-02-09T00:00:00",
          "2020-02-10T00:00:00",
          "2020-02-11T00:00:00",
          "2020-02-12T00:00:00",
          "2020-02-13T00:00:00",
          "2020-02-14T00:00:00",
          "2020-02-15T00:00:00",
          "2020-02-16T00:00:00",
          "2020-02-17T00:00:00",
          "2020-02-18T00:00:00",
          "2020-02-19T00:00:00",
          "2020-02-20T00:00:00",
          "2020-02-21T00:00:00",
          "2020-02-22T00:00:00",
          "2020-02-23T00:00:00",
          "2020-02-24T00:00:00",
          "2020-02-25T00:00:00",
          "2020-02-26T00:00:00",
          "2020-02-27T00:00:00",
          "2020-02-28T00:00:00",
          "2020-02-29T00:00:00",
          "2020-03-01T00:00:00",
          "2020-03-02T00:00:00",
          "2020-03-03T00:00:00",
          "2020-03-04T00:00:00",
          "2020-03-05T00:00:00",
          "2020-03-06T00:00:00",
          "2020-03-07T00:00:00",
          "2020-03-08T00:00:00",
          "2020-03-09T00:00:00",
          "2020-03-10T00:00:00",
          "2020-03-11T00:00:00",
          "2020-03-12T00:00:00",
          "2020-03-13T00:00:00",
          "2020-03-14T00:00:00",
          "2020-03-15T00:00:00",
          "2020-03-16T00:00:00",
          "2020-03-17T00:00:00",
          "2020-03-18T00:00:00",
          "2020-03-19T00:00:00",
          "2020-03-20T00:00:00",
          "2020-03-21T00:00:00",
          "2020-03-22T00:00:00",
          "2020-03-23T00:00:00"
         ],
         "xaxis": "x3",
         "y": [
          0,
          0,
          0,
          0,
          3,
          3,
          6,
          6,
          8,
          8,
          9,
          9,
          9,
          9,
          9,
          10,
          12,
          20,
          22,
          25,
          44,
          65,
          71,
          74,
          90,
          103,
          112,
          137,
          150,
          154,
          174,
          175,
          195,
          200,
          216,
          287,
          331,
          365,
          445,
          537,
          731,
          761,
          1152,
          1481,
          1898,
          2795,
          3282,
          3666,
          4199,
          5335,
          5399,
          6029,
          6938,
          8991,
          10147,
          12011,
          13431,
          14295,
          15966,
          19618,
          25312,
          25496
         ],
         "yaxis": "y3"
        }
       ],
       "layout": {
        "annotations": [
         {
          "font": {},
          "showarrow": false,
          "text": "Case=Confirmed",
          "x": 0.15999999999999998,
          "xanchor": "center",
          "xref": "paper",
          "y": 1,
          "yanchor": "bottom",
          "yref": "paper"
         },
         {
          "font": {},
          "showarrow": false,
          "text": "Case=Deaths",
          "x": 0.49999999999999994,
          "xanchor": "center",
          "xref": "paper",
          "y": 1,
          "yanchor": "bottom",
          "yref": "paper"
         },
         {
          "font": {},
          "showarrow": false,
          "text": "Case=Recovered",
          "x": 0.8399999999999999,
          "xanchor": "center",
          "xref": "paper",
          "y": 1,
          "yanchor": "bottom",
          "yref": "paper"
         }
        ],
        "barmode": "relative",
        "legend": {
         "title": {
          "text": "Case"
         },
         "tracegroupgap": 0
        },
        "template": {
         "data": {
          "bar": [
           {
            "error_x": {
             "color": "#2a3f5f"
            },
            "error_y": {
             "color": "#2a3f5f"
            },
            "marker": {
             "line": {
              "color": "#E5ECF6",
              "width": 0.5
             }
            },
            "type": "bar"
           }
          ],
          "barpolar": [
           {
            "marker": {
             "line": {
              "color": "#E5ECF6",
              "width": 0.5
             }
            },
            "type": "barpolar"
           }
          ],
          "carpet": [
           {
            "aaxis": {
             "endlinecolor": "#2a3f5f",
             "gridcolor": "white",
             "linecolor": "white",
             "minorgridcolor": "white",
             "startlinecolor": "#2a3f5f"
            },
            "baxis": {
             "endlinecolor": "#2a3f5f",
             "gridcolor": "white",
             "linecolor": "white",
             "minorgridcolor": "white",
             "startlinecolor": "#2a3f5f"
            },
            "type": "carpet"
           }
          ],
          "choropleth": [
           {
            "colorbar": {
             "outlinewidth": 0,
             "ticks": ""
            },
            "type": "choropleth"
           }
          ],
          "contour": [
           {
            "colorbar": {
             "outlinewidth": 0,
             "ticks": ""
            },
            "colorscale": [
             [
              0,
              "#0d0887"
             ],
             [
              0.1111111111111111,
              "#46039f"
             ],
             [
              0.2222222222222222,
              "#7201a8"
             ],
             [
              0.3333333333333333,
              "#9c179e"
             ],
             [
              0.4444444444444444,
              "#bd3786"
             ],
             [
              0.5555555555555556,
              "#d8576b"
             ],
             [
              0.6666666666666666,
              "#ed7953"
             ],
             [
              0.7777777777777778,
              "#fb9f3a"
             ],
             [
              0.8888888888888888,
              "#fdca26"
             ],
             [
              1,
              "#f0f921"
             ]
            ],
            "type": "contour"
           }
          ],
          "contourcarpet": [
           {
            "colorbar": {
             "outlinewidth": 0,
             "ticks": ""
            },
            "type": "contourcarpet"
           }
          ],
          "heatmap": [
           {
            "colorbar": {
             "outlinewidth": 0,
             "ticks": ""
            },
            "colorscale": [
             [
              0,
              "#0d0887"
             ],
             [
              0.1111111111111111,
              "#46039f"
             ],
             [
              0.2222222222222222,
              "#7201a8"
             ],
             [
              0.3333333333333333,
              "#9c179e"
             ],
             [
              0.4444444444444444,
              "#bd3786"
             ],
             [
              0.5555555555555556,
              "#d8576b"
             ],
             [
              0.6666666666666666,
              "#ed7953"
             ],
             [
              0.7777777777777778,
              "#fb9f3a"
             ],
             [
              0.8888888888888888,
              "#fdca26"
             ],
             [
              1,
              "#f0f921"
             ]
            ],
            "type": "heatmap"
           }
          ],
          "heatmapgl": [
           {
            "colorbar": {
             "outlinewidth": 0,
             "ticks": ""
            },
            "colorscale": [
             [
              0,
              "#0d0887"
             ],
             [
              0.1111111111111111,
              "#46039f"
             ],
             [
              0.2222222222222222,
              "#7201a8"
             ],
             [
              0.3333333333333333,
              "#9c179e"
             ],
             [
              0.4444444444444444,
              "#bd3786"
             ],
             [
              0.5555555555555556,
              "#d8576b"
             ],
             [
              0.6666666666666666,
              "#ed7953"
             ],
             [
              0.7777777777777778,
              "#fb9f3a"
             ],
             [
              0.8888888888888888,
              "#fdca26"
             ],
             [
              1,
              "#f0f921"
             ]
            ],
            "type": "heatmapgl"
           }
          ],
          "histogram": [
           {
            "marker": {
             "colorbar": {
              "outlinewidth": 0,
              "ticks": ""
             }
            },
            "type": "histogram"
           }
          ],
          "histogram2d": [
           {
            "colorbar": {
             "outlinewidth": 0,
             "ticks": ""
            },
            "colorscale": [
             [
              0,
              "#0d0887"
             ],
             [
              0.1111111111111111,
              "#46039f"
             ],
             [
              0.2222222222222222,
              "#7201a8"
             ],
             [
              0.3333333333333333,
              "#9c179e"
             ],
             [
              0.4444444444444444,
              "#bd3786"
             ],
             [
              0.5555555555555556,
              "#d8576b"
             ],
             [
              0.6666666666666666,
              "#ed7953"
             ],
             [
              0.7777777777777778,
              "#fb9f3a"
             ],
             [
              0.8888888888888888,
              "#fdca26"
             ],
             [
              1,
              "#f0f921"
             ]
            ],
            "type": "histogram2d"
           }
          ],
          "histogram2dcontour": [
           {
            "colorbar": {
             "outlinewidth": 0,
             "ticks": ""
            },
            "colorscale": [
             [
              0,
              "#0d0887"
             ],
             [
              0.1111111111111111,
              "#46039f"
             ],
             [
              0.2222222222222222,
              "#7201a8"
             ],
             [
              0.3333333333333333,
              "#9c179e"
             ],
             [
              0.4444444444444444,
              "#bd3786"
             ],
             [
              0.5555555555555556,
              "#d8576b"
             ],
             [
              0.6666666666666666,
              "#ed7953"
             ],
             [
              0.7777777777777778,
              "#fb9f3a"
             ],
             [
              0.8888888888888888,
              "#fdca26"
             ],
             [
              1,
              "#f0f921"
             ]
            ],
            "type": "histogram2dcontour"
           }
          ],
          "mesh3d": [
           {
            "colorbar": {
             "outlinewidth": 0,
             "ticks": ""
            },
            "type": "mesh3d"
           }
          ],
          "parcoords": [
           {
            "line": {
             "colorbar": {
              "outlinewidth": 0,
              "ticks": ""
             }
            },
            "type": "parcoords"
           }
          ],
          "pie": [
           {
            "automargin": true,
            "type": "pie"
           }
          ],
          "scatter": [
           {
            "marker": {
             "colorbar": {
              "outlinewidth": 0,
              "ticks": ""
             }
            },
            "type": "scatter"
           }
          ],
          "scatter3d": [
           {
            "line": {
             "colorbar": {
              "outlinewidth": 0,
              "ticks": ""
             }
            },
            "marker": {
             "colorbar": {
              "outlinewidth": 0,
              "ticks": ""
             }
            },
            "type": "scatter3d"
           }
          ],
          "scattercarpet": [
           {
            "marker": {
             "colorbar": {
              "outlinewidth": 0,
              "ticks": ""
             }
            },
            "type": "scattercarpet"
           }
          ],
          "scattergeo": [
           {
            "marker": {
             "colorbar": {
              "outlinewidth": 0,
              "ticks": ""
             }
            },
            "type": "scattergeo"
           }
          ],
          "scattergl": [
           {
            "marker": {
             "colorbar": {
              "outlinewidth": 0,
              "ticks": ""
             }
            },
            "type": "scattergl"
           }
          ],
          "scattermapbox": [
           {
            "marker": {
             "colorbar": {
              "outlinewidth": 0,
              "ticks": ""
             }
            },
            "type": "scattermapbox"
           }
          ],
          "scatterpolar": [
           {
            "marker": {
             "colorbar": {
              "outlinewidth": 0,
              "ticks": ""
             }
            },
            "type": "scatterpolar"
           }
          ],
          "scatterpolargl": [
           {
            "marker": {
             "colorbar": {
              "outlinewidth": 0,
              "ticks": ""
             }
            },
            "type": "scatterpolargl"
           }
          ],
          "scatterternary": [
           {
            "marker": {
             "colorbar": {
              "outlinewidth": 0,
              "ticks": ""
             }
            },
            "type": "scatterternary"
           }
          ],
          "surface": [
           {
            "colorbar": {
             "outlinewidth": 0,
             "ticks": ""
            },
            "colorscale": [
             [
              0,
              "#0d0887"
             ],
             [
              0.1111111111111111,
              "#46039f"
             ],
             [
              0.2222222222222222,
              "#7201a8"
             ],
             [
              0.3333333333333333,
              "#9c179e"
             ],
             [
              0.4444444444444444,
              "#bd3786"
             ],
             [
              0.5555555555555556,
              "#d8576b"
             ],
             [
              0.6666666666666666,
              "#ed7953"
             ],
             [
              0.7777777777777778,
              "#fb9f3a"
             ],
             [
              0.8888888888888888,
              "#fdca26"
             ],
             [
              1,
              "#f0f921"
             ]
            ],
            "type": "surface"
           }
          ],
          "table": [
           {
            "cells": {
             "fill": {
              "color": "#EBF0F8"
             },
             "line": {
              "color": "white"
             }
            },
            "header": {
             "fill": {
              "color": "#C8D4E3"
             },
             "line": {
              "color": "white"
             }
            },
            "type": "table"
           }
          ]
         },
         "layout": {
          "annotationdefaults": {
           "arrowcolor": "#2a3f5f",
           "arrowhead": 0,
           "arrowwidth": 1
          },
          "coloraxis": {
           "colorbar": {
            "outlinewidth": 0,
            "ticks": ""
           }
          },
          "colorscale": {
           "diverging": [
            [
             0,
             "#8e0152"
            ],
            [
             0.1,
             "#c51b7d"
            ],
            [
             0.2,
             "#de77ae"
            ],
            [
             0.3,
             "#f1b6da"
            ],
            [
             0.4,
             "#fde0ef"
            ],
            [
             0.5,
             "#f7f7f7"
            ],
            [
             0.6,
             "#e6f5d0"
            ],
            [
             0.7,
             "#b8e186"
            ],
            [
             0.8,
             "#7fbc41"
            ],
            [
             0.9,
             "#4d9221"
            ],
            [
             1,
             "#276419"
            ]
           ],
           "sequential": [
            [
             0,
             "#0d0887"
            ],
            [
             0.1111111111111111,
             "#46039f"
            ],
            [
             0.2222222222222222,
             "#7201a8"
            ],
            [
             0.3333333333333333,
             "#9c179e"
            ],
            [
             0.4444444444444444,
             "#bd3786"
            ],
            [
             0.5555555555555556,
             "#d8576b"
            ],
            [
             0.6666666666666666,
             "#ed7953"
            ],
            [
             0.7777777777777778,
             "#fb9f3a"
            ],
            [
             0.8888888888888888,
             "#fdca26"
            ],
            [
             1,
             "#f0f921"
            ]
           ],
           "sequentialminus": [
            [
             0,
             "#0d0887"
            ],
            [
             0.1111111111111111,
             "#46039f"
            ],
            [
             0.2222222222222222,
             "#7201a8"
            ],
            [
             0.3333333333333333,
             "#9c179e"
            ],
            [
             0.4444444444444444,
             "#bd3786"
            ],
            [
             0.5555555555555556,
             "#d8576b"
            ],
            [
             0.6666666666666666,
             "#ed7953"
            ],
            [
             0.7777777777777778,
             "#fb9f3a"
            ],
            [
             0.8888888888888888,
             "#fdca26"
            ],
            [
             1,
             "#f0f921"
            ]
           ]
          },
          "colorway": [
           "#636efa",
           "#EF553B",
           "#00cc96",
           "#ab63fa",
           "#FFA15A",
           "#19d3f3",
           "#FF6692",
           "#B6E880",
           "#FF97FF",
           "#FECB52"
          ],
          "font": {
           "color": "#2a3f5f"
          },
          "geo": {
           "bgcolor": "white",
           "lakecolor": "white",
           "landcolor": "#E5ECF6",
           "showlakes": true,
           "showland": true,
           "subunitcolor": "white"
          },
          "hoverlabel": {
           "align": "left"
          },
          "hovermode": "closest",
          "mapbox": {
           "style": "light"
          },
          "paper_bgcolor": "white",
          "plot_bgcolor": "#E5ECF6",
          "polar": {
           "angularaxis": {
            "gridcolor": "white",
            "linecolor": "white",
            "ticks": ""
           },
           "bgcolor": "#E5ECF6",
           "radialaxis": {
            "gridcolor": "white",
            "linecolor": "white",
            "ticks": ""
           }
          },
          "scene": {
           "xaxis": {
            "backgroundcolor": "#E5ECF6",
            "gridcolor": "white",
            "gridwidth": 2,
            "linecolor": "white",
            "showbackground": true,
            "ticks": "",
            "zerolinecolor": "white"
           },
           "yaxis": {
            "backgroundcolor": "#E5ECF6",
            "gridcolor": "white",
            "gridwidth": 2,
            "linecolor": "white",
            "showbackground": true,
            "ticks": "",
            "zerolinecolor": "white"
           },
           "zaxis": {
            "backgroundcolor": "#E5ECF6",
            "gridcolor": "white",
            "gridwidth": 2,
            "linecolor": "white",
            "showbackground": true,
            "ticks": "",
            "zerolinecolor": "white"
           }
          },
          "shapedefaults": {
           "line": {
            "color": "#2a3f5f"
           }
          },
          "ternary": {
           "aaxis": {
            "gridcolor": "white",
            "linecolor": "white",
            "ticks": ""
           },
           "baxis": {
            "gridcolor": "white",
            "linecolor": "white",
            "ticks": ""
           },
           "bgcolor": "#E5ECF6",
           "caxis": {
            "gridcolor": "white",
            "linecolor": "white",
            "ticks": ""
           }
          },
          "title": {
           "x": 0.05
          },
          "xaxis": {
           "automargin": true,
           "gridcolor": "white",
           "linecolor": "white",
           "ticks": "",
           "title": {
            "standoff": 15
           },
           "zerolinecolor": "white",
           "zerolinewidth": 2
          },
          "yaxis": {
           "automargin": true,
           "gridcolor": "white",
           "linecolor": "white",
           "ticks": "",
           "title": {
            "standoff": 15
           },
           "zerolinecolor": "white",
           "zerolinewidth": 2
          }
         }
        },
        "title": {
         "text": "Rest"
        },
        "xaxis": {
         "anchor": "y",
         "domain": [
          0,
          0.31999999999999995
         ],
         "title": {
          "text": "Date"
         }
        },
        "xaxis2": {
         "anchor": "y2",
         "domain": [
          0.33999999999999997,
          0.6599999999999999
         ],
         "matches": "x",
         "title": {
          "text": "Date"
         }
        },
        "xaxis3": {
         "anchor": "y3",
         "domain": [
          0.6799999999999999,
          0.9999999999999999
         ],
         "matches": "x",
         "title": {
          "text": "Date"
         }
        },
        "yaxis": {
         "anchor": "x",
         "domain": [
          0,
          1
         ],
         "title": {
          "text": "Count"
         }
        },
        "yaxis2": {
         "anchor": "x2",
         "domain": [
          0,
          1
         ],
         "matches": "y",
         "showticklabels": false
        },
        "yaxis3": {
         "anchor": "x3",
         "domain": [
          0,
          1
         ],
         "matches": "y",
         "showticklabels": false
        }
       }
      },
      "text/html": [
       "<div>\n",
       "        \n",
       "        \n",
       "            <div id=\"fa7c460e-4967-434c-b61a-4b3aba663dc8\" class=\"plotly-graph-div\" style=\"height:525px; width:100%;\"></div>\n",
       "            <script type=\"text/javascript\">\n",
       "                require([\"plotly\"], function(Plotly) {\n",
       "                    window.PLOTLYENV=window.PLOTLYENV || {};\n",
       "                    \n",
       "                if (document.getElementById(\"fa7c460e-4967-434c-b61a-4b3aba663dc8\")) {\n",
       "                    Plotly.newPlot(\n",
       "                        'fa7c460e-4967-434c-b61a-4b3aba663dc8',\n",
       "                        [{\"alignmentgroup\": \"True\", \"hoverlabel\": {\"namelength\": 0}, \"hovertemplate\": \"Case=Confirmed<br>Date=%{x}<br>Count=%{y}\", \"legendgroup\": \"Confirmed\", \"marker\": {\"color\": \"#393e46\"}, \"name\": \"Confirmed\", \"offsetgroup\": \"Confirmed\", \"orientation\": \"v\", \"showlegend\": true, \"textposition\": \"auto\", \"type\": \"bar\", \"x\": [\"2020-01-22T00:00:00\", \"2020-01-23T00:00:00\", \"2020-01-24T00:00:00\", \"2020-01-25T00:00:00\", \"2020-01-26T00:00:00\", \"2020-01-27T00:00:00\", \"2020-01-28T00:00:00\", \"2020-01-29T00:00:00\", \"2020-01-30T00:00:00\", \"2020-01-31T00:00:00\", \"2020-02-01T00:00:00\", \"2020-02-02T00:00:00\", \"2020-02-03T00:00:00\", \"2020-02-04T00:00:00\", \"2020-02-05T00:00:00\", \"2020-02-06T00:00:00\", \"2020-02-07T00:00:00\", \"2020-02-08T00:00:00\", \"2020-02-09T00:00:00\", \"2020-02-10T00:00:00\", \"2020-02-11T00:00:00\", \"2020-02-12T00:00:00\", \"2020-02-13T00:00:00\", \"2020-02-14T00:00:00\", \"2020-02-15T00:00:00\", \"2020-02-16T00:00:00\", \"2020-02-17T00:00:00\", \"2020-02-18T00:00:00\", \"2020-02-19T00:00:00\", \"2020-02-20T00:00:00\", \"2020-02-21T00:00:00\", \"2020-02-22T00:00:00\", \"2020-02-23T00:00:00\", \"2020-02-24T00:00:00\", \"2020-02-25T00:00:00\", \"2020-02-26T00:00:00\", \"2020-02-27T00:00:00\", \"2020-02-28T00:00:00\", \"2020-02-29T00:00:00\", \"2020-03-01T00:00:00\", \"2020-03-02T00:00:00\", \"2020-03-03T00:00:00\", \"2020-03-04T00:00:00\", \"2020-03-05T00:00:00\", \"2020-03-06T00:00:00\", \"2020-03-07T00:00:00\", \"2020-03-08T00:00:00\", \"2020-03-09T00:00:00\", \"2020-03-10T00:00:00\", \"2020-03-11T00:00:00\", \"2020-03-12T00:00:00\", \"2020-03-13T00:00:00\", \"2020-03-14T00:00:00\", \"2020-03-15T00:00:00\", \"2020-03-16T00:00:00\", \"2020-03-17T00:00:00\", \"2020-03-18T00:00:00\", \"2020-03-19T00:00:00\", \"2020-03-20T00:00:00\", \"2020-03-21T00:00:00\", \"2020-03-22T00:00:00\", \"2020-03-23T00:00:00\"], \"xaxis\": \"x\", \"y\": [6.0, 9.0, 19.0, 26.0, 37.0, 44.0, 62.0, 71.0, 82.0, 112.0, 130.0, 140.0, 145.0, 164.0, 173.0, 207.0, 257.0, 282.0, 297.0, 384.0, 391.0, 437.0, 447.0, 501.0, 591.0, 685.0, 798.0, 899.0, 994.0, 1094.0, 1241.0, 1545.0, 1910.0, 2293.0, 2625.0, 3195.0, 4117.0, 5154.0, 6606.0, 8380.0, 10087.0, 12470.0, 14582.0, 17120.0, 20814.0, 24623.0, 28415.0, 32066.0, 36906.0, 43885.0, 46042.0, 62384.0, 72671.0, 83322.0, 96320.0, 110723.0, 127639.0, 152139.0, 178817.0, 207650.0, 234911.0, 235041.0], \"yaxis\": \"y\"}, {\"alignmentgroup\": \"True\", \"hoverlabel\": {\"namelength\": 0}, \"hovertemplate\": \"Case=Deaths<br>Date=%{x}<br>Count=%{y}\", \"legendgroup\": \"Deaths\", \"marker\": {\"color\": \"#ff2e63\"}, \"name\": \"Deaths\", \"offsetgroup\": \"Deaths\", \"orientation\": \"v\", \"showlegend\": true, \"textposition\": \"auto\", \"type\": \"bar\", \"x\": [\"2020-01-22T00:00:00\", \"2020-01-23T00:00:00\", \"2020-01-24T00:00:00\", \"2020-01-25T00:00:00\", \"2020-01-26T00:00:00\", \"2020-01-27T00:00:00\", \"2020-01-28T00:00:00\", \"2020-01-29T00:00:00\", \"2020-01-30T00:00:00\", \"2020-01-31T00:00:00\", \"2020-02-01T00:00:00\", \"2020-02-02T00:00:00\", \"2020-02-03T00:00:00\", \"2020-02-04T00:00:00\", \"2020-02-05T00:00:00\", \"2020-02-06T00:00:00\", \"2020-02-07T00:00:00\", \"2020-02-08T00:00:00\", \"2020-02-09T00:00:00\", \"2020-02-10T00:00:00\", \"2020-02-11T00:00:00\", \"2020-02-12T00:00:00\", \"2020-02-13T00:00:00\", \"2020-02-14T00:00:00\", \"2020-02-15T00:00:00\", \"2020-02-16T00:00:00\", \"2020-02-17T00:00:00\", \"2020-02-18T00:00:00\", \"2020-02-19T00:00:00\", \"2020-02-20T00:00:00\", \"2020-02-21T00:00:00\", \"2020-02-22T00:00:00\", \"2020-02-23T00:00:00\", \"2020-02-24T00:00:00\", \"2020-02-25T00:00:00\", \"2020-02-26T00:00:00\", \"2020-02-27T00:00:00\", \"2020-02-28T00:00:00\", \"2020-02-29T00:00:00\", \"2020-03-01T00:00:00\", \"2020-03-02T00:00:00\", \"2020-03-03T00:00:00\", \"2020-03-04T00:00:00\", \"2020-03-05T00:00:00\", \"2020-03-06T00:00:00\", \"2020-03-07T00:00:00\", \"2020-03-08T00:00:00\", \"2020-03-09T00:00:00\", \"2020-03-10T00:00:00\", \"2020-03-11T00:00:00\", \"2020-03-12T00:00:00\", \"2020-03-13T00:00:00\", \"2020-03-14T00:00:00\", \"2020-03-15T00:00:00\", \"2020-03-16T00:00:00\", \"2020-03-17T00:00:00\", \"2020-03-18T00:00:00\", \"2020-03-19T00:00:00\", \"2020-03-20T00:00:00\", \"2020-03-21T00:00:00\", \"2020-03-22T00:00:00\", \"2020-03-23T00:00:00\"], \"xaxis\": \"x2\", \"y\": [0.0, 0.0, 0.0, 0.0, 0.0, 0.0, 0.0, 0.0, 0.0, 0.0, 0.0, 1.0, 1.0, 1.0, 1.0, 1.0, 1.0, 1.0, 1.0, 1.0, 1.0, 1.0, 2.0, 2.0, 3.0, 4.0, 4.0, 4.0, 6.0, 9.0, 13.0, 15.0, 24.0, 34.0, 43.0, 53.0, 68.0, 82.0, 103.0, 123.0, 165.0, 206.0, 259.0, 320.0, 401.0, 468.0, 680.0, 842.0, 1117.0, 1446.0, 1538.0, 2213.0, 2608.0, 3213.0, 3870.0, 4619.0, 5426.0, 6487.0, 7878.0, 9489.0, 11053.0, 11055.0], \"yaxis\": \"y2\"}, {\"alignmentgroup\": \"True\", \"hoverlabel\": {\"namelength\": 0}, \"hovertemplate\": \"Case=Recovered<br>Date=%{x}<br>Count=%{y}\", \"legendgroup\": \"Recovered\", \"marker\": {\"color\": \"#21bf73\"}, \"name\": \"Recovered\", \"offsetgroup\": \"Recovered\", \"orientation\": \"v\", \"showlegend\": true, \"textposition\": \"auto\", \"type\": \"bar\", \"x\": [\"2020-01-22T00:00:00\", \"2020-01-23T00:00:00\", \"2020-01-24T00:00:00\", \"2020-01-25T00:00:00\", \"2020-01-26T00:00:00\", \"2020-01-27T00:00:00\", \"2020-01-28T00:00:00\", \"2020-01-29T00:00:00\", \"2020-01-30T00:00:00\", \"2020-01-31T00:00:00\", \"2020-02-01T00:00:00\", \"2020-02-02T00:00:00\", \"2020-02-03T00:00:00\", \"2020-02-04T00:00:00\", \"2020-02-05T00:00:00\", \"2020-02-06T00:00:00\", \"2020-02-07T00:00:00\", \"2020-02-08T00:00:00\", \"2020-02-09T00:00:00\", \"2020-02-10T00:00:00\", \"2020-02-11T00:00:00\", \"2020-02-12T00:00:00\", \"2020-02-13T00:00:00\", \"2020-02-14T00:00:00\", \"2020-02-15T00:00:00\", \"2020-02-16T00:00:00\", \"2020-02-17T00:00:00\", \"2020-02-18T00:00:00\", \"2020-02-19T00:00:00\", \"2020-02-20T00:00:00\", \"2020-02-21T00:00:00\", \"2020-02-22T00:00:00\", \"2020-02-23T00:00:00\", \"2020-02-24T00:00:00\", \"2020-02-25T00:00:00\", \"2020-02-26T00:00:00\", \"2020-02-27T00:00:00\", \"2020-02-28T00:00:00\", \"2020-02-29T00:00:00\", \"2020-03-01T00:00:00\", \"2020-03-02T00:00:00\", \"2020-03-03T00:00:00\", \"2020-03-04T00:00:00\", \"2020-03-05T00:00:00\", \"2020-03-06T00:00:00\", \"2020-03-07T00:00:00\", \"2020-03-08T00:00:00\", \"2020-03-09T00:00:00\", \"2020-03-10T00:00:00\", \"2020-03-11T00:00:00\", \"2020-03-12T00:00:00\", \"2020-03-13T00:00:00\", \"2020-03-14T00:00:00\", \"2020-03-15T00:00:00\", \"2020-03-16T00:00:00\", \"2020-03-17T00:00:00\", \"2020-03-18T00:00:00\", \"2020-03-19T00:00:00\", \"2020-03-20T00:00:00\", \"2020-03-21T00:00:00\", \"2020-03-22T00:00:00\", \"2020-03-23T00:00:00\"], \"xaxis\": \"x3\", \"y\": [0.0, 0.0, 0.0, 0.0, 3.0, 3.0, 6.0, 6.0, 8.0, 8.0, 9.0, 9.0, 9.0, 9.0, 9.0, 10.0, 12.0, 20.0, 22.0, 25.0, 44.0, 65.0, 71.0, 74.0, 90.0, 103.0, 112.0, 137.0, 150.0, 154.0, 174.0, 175.0, 195.0, 200.0, 216.0, 287.0, 331.0, 365.0, 445.0, 537.0, 731.0, 761.0, 1152.0, 1481.0, 1898.0, 2795.0, 3282.0, 3666.0, 4199.0, 5335.0, 5399.0, 6029.0, 6938.0, 8991.0, 10147.0, 12011.0, 13431.0, 14295.0, 15966.0, 19618.0, 25312.0, 25496.0], \"yaxis\": \"y3\"}],\n",
       "                        {\"annotations\": [{\"font\": {}, \"showarrow\": false, \"text\": \"Case=Confirmed\", \"x\": 0.15999999999999998, \"xanchor\": \"center\", \"xref\": \"paper\", \"y\": 1.0, \"yanchor\": \"bottom\", \"yref\": \"paper\"}, {\"font\": {}, \"showarrow\": false, \"text\": \"Case=Deaths\", \"x\": 0.49999999999999994, \"xanchor\": \"center\", \"xref\": \"paper\", \"y\": 1.0, \"yanchor\": \"bottom\", \"yref\": \"paper\"}, {\"font\": {}, \"showarrow\": false, \"text\": \"Case=Recovered\", \"x\": 0.8399999999999999, \"xanchor\": \"center\", \"xref\": \"paper\", \"y\": 1.0, \"yanchor\": \"bottom\", \"yref\": \"paper\"}], \"barmode\": \"relative\", \"legend\": {\"title\": {\"text\": \"Case\"}, \"tracegroupgap\": 0}, \"template\": {\"data\": {\"bar\": [{\"error_x\": {\"color\": \"#2a3f5f\"}, \"error_y\": {\"color\": \"#2a3f5f\"}, \"marker\": {\"line\": {\"color\": \"#E5ECF6\", \"width\": 0.5}}, \"type\": \"bar\"}], \"barpolar\": [{\"marker\": {\"line\": {\"color\": \"#E5ECF6\", \"width\": 0.5}}, \"type\": \"barpolar\"}], \"carpet\": [{\"aaxis\": {\"endlinecolor\": \"#2a3f5f\", \"gridcolor\": \"white\", \"linecolor\": \"white\", \"minorgridcolor\": \"white\", \"startlinecolor\": \"#2a3f5f\"}, \"baxis\": {\"endlinecolor\": \"#2a3f5f\", \"gridcolor\": \"white\", \"linecolor\": \"white\", \"minorgridcolor\": \"white\", \"startlinecolor\": \"#2a3f5f\"}, \"type\": \"carpet\"}], \"choropleth\": [{\"colorbar\": {\"outlinewidth\": 0, \"ticks\": \"\"}, \"type\": \"choropleth\"}], \"contour\": [{\"colorbar\": {\"outlinewidth\": 0, \"ticks\": \"\"}, \"colorscale\": [[0.0, \"#0d0887\"], [0.1111111111111111, \"#46039f\"], [0.2222222222222222, \"#7201a8\"], [0.3333333333333333, \"#9c179e\"], [0.4444444444444444, \"#bd3786\"], [0.5555555555555556, \"#d8576b\"], [0.6666666666666666, \"#ed7953\"], [0.7777777777777778, \"#fb9f3a\"], [0.8888888888888888, \"#fdca26\"], [1.0, \"#f0f921\"]], \"type\": \"contour\"}], \"contourcarpet\": [{\"colorbar\": {\"outlinewidth\": 0, \"ticks\": \"\"}, \"type\": \"contourcarpet\"}], \"heatmap\": [{\"colorbar\": {\"outlinewidth\": 0, \"ticks\": \"\"}, \"colorscale\": [[0.0, \"#0d0887\"], [0.1111111111111111, \"#46039f\"], [0.2222222222222222, \"#7201a8\"], [0.3333333333333333, \"#9c179e\"], [0.4444444444444444, \"#bd3786\"], [0.5555555555555556, \"#d8576b\"], [0.6666666666666666, \"#ed7953\"], [0.7777777777777778, \"#fb9f3a\"], [0.8888888888888888, \"#fdca26\"], [1.0, \"#f0f921\"]], \"type\": \"heatmap\"}], \"heatmapgl\": [{\"colorbar\": {\"outlinewidth\": 0, \"ticks\": \"\"}, \"colorscale\": [[0.0, \"#0d0887\"], [0.1111111111111111, \"#46039f\"], [0.2222222222222222, \"#7201a8\"], [0.3333333333333333, \"#9c179e\"], [0.4444444444444444, \"#bd3786\"], [0.5555555555555556, \"#d8576b\"], [0.6666666666666666, \"#ed7953\"], [0.7777777777777778, \"#fb9f3a\"], [0.8888888888888888, \"#fdca26\"], [1.0, \"#f0f921\"]], \"type\": \"heatmapgl\"}], \"histogram\": [{\"marker\": {\"colorbar\": {\"outlinewidth\": 0, \"ticks\": \"\"}}, \"type\": \"histogram\"}], \"histogram2d\": [{\"colorbar\": {\"outlinewidth\": 0, \"ticks\": \"\"}, \"colorscale\": [[0.0, \"#0d0887\"], [0.1111111111111111, \"#46039f\"], [0.2222222222222222, \"#7201a8\"], [0.3333333333333333, \"#9c179e\"], [0.4444444444444444, \"#bd3786\"], [0.5555555555555556, \"#d8576b\"], [0.6666666666666666, \"#ed7953\"], [0.7777777777777778, \"#fb9f3a\"], [0.8888888888888888, \"#fdca26\"], [1.0, \"#f0f921\"]], \"type\": \"histogram2d\"}], \"histogram2dcontour\": [{\"colorbar\": {\"outlinewidth\": 0, \"ticks\": \"\"}, \"colorscale\": [[0.0, \"#0d0887\"], [0.1111111111111111, \"#46039f\"], [0.2222222222222222, \"#7201a8\"], [0.3333333333333333, \"#9c179e\"], [0.4444444444444444, \"#bd3786\"], [0.5555555555555556, \"#d8576b\"], [0.6666666666666666, \"#ed7953\"], [0.7777777777777778, \"#fb9f3a\"], [0.8888888888888888, \"#fdca26\"], [1.0, \"#f0f921\"]], \"type\": \"histogram2dcontour\"}], \"mesh3d\": [{\"colorbar\": {\"outlinewidth\": 0, \"ticks\": \"\"}, \"type\": \"mesh3d\"}], \"parcoords\": [{\"line\": {\"colorbar\": {\"outlinewidth\": 0, \"ticks\": \"\"}}, \"type\": \"parcoords\"}], \"pie\": [{\"automargin\": true, \"type\": \"pie\"}], \"scatter\": [{\"marker\": {\"colorbar\": {\"outlinewidth\": 0, \"ticks\": \"\"}}, \"type\": \"scatter\"}], \"scatter3d\": [{\"line\": {\"colorbar\": {\"outlinewidth\": 0, \"ticks\": \"\"}}, \"marker\": {\"colorbar\": {\"outlinewidth\": 0, \"ticks\": \"\"}}, \"type\": \"scatter3d\"}], \"scattercarpet\": [{\"marker\": {\"colorbar\": {\"outlinewidth\": 0, \"ticks\": \"\"}}, \"type\": \"scattercarpet\"}], \"scattergeo\": [{\"marker\": {\"colorbar\": {\"outlinewidth\": 0, \"ticks\": \"\"}}, \"type\": \"scattergeo\"}], \"scattergl\": [{\"marker\": {\"colorbar\": {\"outlinewidth\": 0, \"ticks\": \"\"}}, \"type\": \"scattergl\"}], \"scattermapbox\": [{\"marker\": {\"colorbar\": {\"outlinewidth\": 0, \"ticks\": \"\"}}, \"type\": \"scattermapbox\"}], \"scatterpolar\": [{\"marker\": {\"colorbar\": {\"outlinewidth\": 0, \"ticks\": \"\"}}, \"type\": \"scatterpolar\"}], \"scatterpolargl\": [{\"marker\": {\"colorbar\": {\"outlinewidth\": 0, \"ticks\": \"\"}}, \"type\": \"scatterpolargl\"}], \"scatterternary\": [{\"marker\": {\"colorbar\": {\"outlinewidth\": 0, \"ticks\": \"\"}}, \"type\": \"scatterternary\"}], \"surface\": [{\"colorbar\": {\"outlinewidth\": 0, \"ticks\": \"\"}, \"colorscale\": [[0.0, \"#0d0887\"], [0.1111111111111111, \"#46039f\"], [0.2222222222222222, \"#7201a8\"], [0.3333333333333333, \"#9c179e\"], [0.4444444444444444, \"#bd3786\"], [0.5555555555555556, \"#d8576b\"], [0.6666666666666666, \"#ed7953\"], [0.7777777777777778, \"#fb9f3a\"], [0.8888888888888888, \"#fdca26\"], [1.0, \"#f0f921\"]], \"type\": \"surface\"}], \"table\": [{\"cells\": {\"fill\": {\"color\": \"#EBF0F8\"}, \"line\": {\"color\": \"white\"}}, \"header\": {\"fill\": {\"color\": \"#C8D4E3\"}, \"line\": {\"color\": \"white\"}}, \"type\": \"table\"}]}, \"layout\": {\"annotationdefaults\": {\"arrowcolor\": \"#2a3f5f\", \"arrowhead\": 0, \"arrowwidth\": 1}, \"coloraxis\": {\"colorbar\": {\"outlinewidth\": 0, \"ticks\": \"\"}}, \"colorscale\": {\"diverging\": [[0, \"#8e0152\"], [0.1, \"#c51b7d\"], [0.2, \"#de77ae\"], [0.3, \"#f1b6da\"], [0.4, \"#fde0ef\"], [0.5, \"#f7f7f7\"], [0.6, \"#e6f5d0\"], [0.7, \"#b8e186\"], [0.8, \"#7fbc41\"], [0.9, \"#4d9221\"], [1, \"#276419\"]], \"sequential\": [[0.0, \"#0d0887\"], [0.1111111111111111, \"#46039f\"], [0.2222222222222222, \"#7201a8\"], [0.3333333333333333, \"#9c179e\"], [0.4444444444444444, \"#bd3786\"], [0.5555555555555556, \"#d8576b\"], [0.6666666666666666, \"#ed7953\"], [0.7777777777777778, \"#fb9f3a\"], [0.8888888888888888, \"#fdca26\"], [1.0, \"#f0f921\"]], \"sequentialminus\": [[0.0, \"#0d0887\"], [0.1111111111111111, \"#46039f\"], [0.2222222222222222, \"#7201a8\"], [0.3333333333333333, \"#9c179e\"], [0.4444444444444444, \"#bd3786\"], [0.5555555555555556, \"#d8576b\"], [0.6666666666666666, \"#ed7953\"], [0.7777777777777778, \"#fb9f3a\"], [0.8888888888888888, \"#fdca26\"], [1.0, \"#f0f921\"]]}, \"colorway\": [\"#636efa\", \"#EF553B\", \"#00cc96\", \"#ab63fa\", \"#FFA15A\", \"#19d3f3\", \"#FF6692\", \"#B6E880\", \"#FF97FF\", \"#FECB52\"], \"font\": {\"color\": \"#2a3f5f\"}, \"geo\": {\"bgcolor\": \"white\", \"lakecolor\": \"white\", \"landcolor\": \"#E5ECF6\", \"showlakes\": true, \"showland\": true, \"subunitcolor\": \"white\"}, \"hoverlabel\": {\"align\": \"left\"}, \"hovermode\": \"closest\", \"mapbox\": {\"style\": \"light\"}, \"paper_bgcolor\": \"white\", \"plot_bgcolor\": \"#E5ECF6\", \"polar\": {\"angularaxis\": {\"gridcolor\": \"white\", \"linecolor\": \"white\", \"ticks\": \"\"}, \"bgcolor\": \"#E5ECF6\", \"radialaxis\": {\"gridcolor\": \"white\", \"linecolor\": \"white\", \"ticks\": \"\"}}, \"scene\": {\"xaxis\": {\"backgroundcolor\": \"#E5ECF6\", \"gridcolor\": \"white\", \"gridwidth\": 2, \"linecolor\": \"white\", \"showbackground\": true, \"ticks\": \"\", \"zerolinecolor\": \"white\"}, \"yaxis\": {\"backgroundcolor\": \"#E5ECF6\", \"gridcolor\": \"white\", \"gridwidth\": 2, \"linecolor\": \"white\", \"showbackground\": true, \"ticks\": \"\", \"zerolinecolor\": \"white\"}, \"zaxis\": {\"backgroundcolor\": \"#E5ECF6\", \"gridcolor\": \"white\", \"gridwidth\": 2, \"linecolor\": \"white\", \"showbackground\": true, \"ticks\": \"\", \"zerolinecolor\": \"white\"}}, \"shapedefaults\": {\"line\": {\"color\": \"#2a3f5f\"}}, \"ternary\": {\"aaxis\": {\"gridcolor\": \"white\", \"linecolor\": \"white\", \"ticks\": \"\"}, \"baxis\": {\"gridcolor\": \"white\", \"linecolor\": \"white\", \"ticks\": \"\"}, \"bgcolor\": \"#E5ECF6\", \"caxis\": {\"gridcolor\": \"white\", \"linecolor\": \"white\", \"ticks\": \"\"}}, \"title\": {\"x\": 0.05}, \"xaxis\": {\"automargin\": true, \"gridcolor\": \"white\", \"linecolor\": \"white\", \"ticks\": \"\", \"title\": {\"standoff\": 15}, \"zerolinecolor\": \"white\", \"zerolinewidth\": 2}, \"yaxis\": {\"automargin\": true, \"gridcolor\": \"white\", \"linecolor\": \"white\", \"ticks\": \"\", \"title\": {\"standoff\": 15}, \"zerolinecolor\": \"white\", \"zerolinewidth\": 2}}}, \"title\": {\"text\": \"Rest\"}, \"xaxis\": {\"anchor\": \"y\", \"domain\": [0.0, 0.31999999999999995], \"title\": {\"text\": \"Date\"}}, \"xaxis2\": {\"anchor\": \"y2\", \"domain\": [0.33999999999999997, 0.6599999999999999], \"matches\": \"x\", \"title\": {\"text\": \"Date\"}}, \"xaxis3\": {\"anchor\": \"y3\", \"domain\": [0.6799999999999999, 0.9999999999999999], \"matches\": \"x\", \"title\": {\"text\": \"Date\"}}, \"yaxis\": {\"anchor\": \"x\", \"domain\": [0.0, 1.0], \"title\": {\"text\": \"Count\"}}, \"yaxis2\": {\"anchor\": \"x2\", \"domain\": [0.0, 1.0], \"matches\": \"y\", \"showticklabels\": false}, \"yaxis3\": {\"anchor\": \"x3\", \"domain\": [0.0, 1.0], \"matches\": \"y\", \"showticklabels\": false}},\n",
       "                        {\"responsive\": true}\n",
       "                    ).then(function(){\n",
       "                            \n",
       "var gd = document.getElementById('fa7c460e-4967-434c-b61a-4b3aba663dc8');\n",
       "var x = new MutationObserver(function (mutations, observer) {{\n",
       "        var display = window.getComputedStyle(gd).display;\n",
       "        if (!display || display === 'none') {{\n",
       "            console.log([gd, 'removed!']);\n",
       "            Plotly.purge(gd);\n",
       "            observer.disconnect();\n",
       "        }}\n",
       "}});\n",
       "\n",
       "// Listen for the removal of the full notebook cells\n",
       "var notebookContainer = gd.closest('#notebook-container');\n",
       "if (notebookContainer) {{\n",
       "    x.observe(notebookContainer, {childList: true});\n",
       "}}\n",
       "\n",
       "// Listen for the clearing of the current output cell\n",
       "var outputEl = gd.closest('.output');\n",
       "if (outputEl) {{\n",
       "    x.observe(outputEl, {childList: true});\n",
       "}}\n",
       "\n",
       "                        })\n",
       "                };\n",
       "                });\n",
       "            </script>\n",
       "        </div>"
      ]
     },
     "metadata": {},
     "output_type": "display_data"
    }
   ],
   "source": [
    "gdf = full_table.groupby(['Date', 'Country/Region'])['Confirmed', 'Deaths', 'Recovered'].max()\n",
    "gdf = gdf.reset_index()\n",
    "\n",
    "temp = gdf[gdf['Country/Region']=='China'].reset_index()\n",
    "temp = temp.melt(id_vars='Date', value_vars=['Confirmed', 'Deaths', 'Recovered'],\n",
    "                var_name='Case', value_name='Count')\n",
    "fig = px.bar(temp, x=\"Date\", y=\"Count\", color='Case', facet_col=\"Case\",\n",
    "            title='China', color_discrete_sequence=[cnf, dth, rec])\n",
    "fig.show()\n",
    "\n",
    "temp = gdf[gdf['Country/Region']!='China'].groupby('Date').sum().reset_index()\n",
    "temp = temp.melt(id_vars='Date', value_vars=['Confirmed', 'Deaths', 'Recovered'],\n",
    "                var_name='Case', value_name='Count')\n",
    "fig = px.bar(temp, x=\"Date\", y=\"Count\", color='Case', facet_col=\"Case\",\n",
    "             title='Rest', color_discrete_sequence=[cnf, dth, rec])\n",
    "fig.show()"
   ]
  },
  {
   "cell_type": "markdown",
   "metadata": {},
   "source": [
    "### Hubei - China - World"
   ]
  },
  {
   "cell_type": "code",
   "execution_count": 66,
   "metadata": {},
   "outputs": [
    {
     "ename": "KeyboardInterrupt",
     "evalue": "",
     "output_type": "error",
     "traceback": [
      "\u001b[1;31m---------------------------------------------------------------------------\u001b[0m",
      "\u001b[1;31mKeyboardInterrupt\u001b[0m                         Traceback (most recent call last)",
      "\u001b[1;32m<ipython-input-66-53f66c19989a>\u001b[0m in \u001b[0;36m<module>\u001b[1;34m\u001b[0m\n\u001b[0;32m     19\u001b[0m fig = px.bar(temp, y='Region', x='Count', color='Case', barmode='group', orientation='h',\n\u001b[0;32m     20\u001b[0m              \u001b[0mtext\u001b[0m\u001b[1;33m=\u001b[0m\u001b[1;34m'Count'\u001b[0m\u001b[1;33m,\u001b[0m \u001b[0mtitle\u001b[0m\u001b[1;33m=\u001b[0m\u001b[1;34m'Hubei - China - World'\u001b[0m\u001b[1;33m,\u001b[0m \u001b[0manimation_frame\u001b[0m\u001b[1;33m=\u001b[0m\u001b[1;34m'Date'\u001b[0m\u001b[1;33m,\u001b[0m\u001b[1;33m\u001b[0m\u001b[1;33m\u001b[0m\u001b[0m\n\u001b[1;32m---> 21\u001b[1;33m              color_discrete_sequence= [dth, rec, cnf], range_x=[0, 70000])\n\u001b[0m\u001b[0;32m     22\u001b[0m \u001b[0mfig\u001b[0m\u001b[1;33m.\u001b[0m\u001b[0mupdate_traces\u001b[0m\u001b[1;33m(\u001b[0m\u001b[0mtextposition\u001b[0m\u001b[1;33m=\u001b[0m\u001b[1;34m'outside'\u001b[0m\u001b[1;33m)\u001b[0m\u001b[1;33m\u001b[0m\u001b[1;33m\u001b[0m\u001b[0m\n\u001b[0;32m     23\u001b[0m \u001b[1;31m# fig.update_layout(uniformtext_minsize=8, uniformtext_mode='hide')\u001b[0m\u001b[1;33m\u001b[0m\u001b[1;33m\u001b[0m\u001b[1;33m\u001b[0m\u001b[0m\n",
      "\u001b[1;32mC:\\ProgramData\\Anaconda3\\lib\\site-packages\\plotly\\express\\_chart_types.py\u001b[0m in \u001b[0;36mbar\u001b[1;34m(data_frame, x, y, color, facet_row, facet_col, facet_col_wrap, hover_name, hover_data, custom_data, text, error_x, error_x_minus, error_y, error_y_minus, animation_frame, animation_group, category_orders, labels, color_discrete_sequence, color_discrete_map, color_continuous_scale, range_color, color_continuous_midpoint, opacity, orientation, barmode, log_x, log_y, range_x, range_y, title, template, width, height)\u001b[0m\n\u001b[0;32m    311\u001b[0m         \u001b[0mconstructor\u001b[0m\u001b[1;33m=\u001b[0m\u001b[0mgo\u001b[0m\u001b[1;33m.\u001b[0m\u001b[0mBar\u001b[0m\u001b[1;33m,\u001b[0m\u001b[1;33m\u001b[0m\u001b[1;33m\u001b[0m\u001b[0m\n\u001b[0;32m    312\u001b[0m         \u001b[0mtrace_patch\u001b[0m\u001b[1;33m=\u001b[0m\u001b[0mdict\u001b[0m\u001b[1;33m(\u001b[0m\u001b[0morientation\u001b[0m\u001b[1;33m=\u001b[0m\u001b[0morientation\u001b[0m\u001b[1;33m,\u001b[0m \u001b[0mtextposition\u001b[0m\u001b[1;33m=\u001b[0m\u001b[1;34m\"auto\"\u001b[0m\u001b[1;33m)\u001b[0m\u001b[1;33m,\u001b[0m\u001b[1;33m\u001b[0m\u001b[1;33m\u001b[0m\u001b[0m\n\u001b[1;32m--> 313\u001b[1;33m         \u001b[0mlayout_patch\u001b[0m\u001b[1;33m=\u001b[0m\u001b[0mdict\u001b[0m\u001b[1;33m(\u001b[0m\u001b[0mbarmode\u001b[0m\u001b[1;33m=\u001b[0m\u001b[0mbarmode\u001b[0m\u001b[1;33m)\u001b[0m\u001b[1;33m,\u001b[0m\u001b[1;33m\u001b[0m\u001b[1;33m\u001b[0m\u001b[0m\n\u001b[0m\u001b[0;32m    314\u001b[0m     )\n\u001b[0;32m    315\u001b[0m \u001b[1;33m\u001b[0m\u001b[0m\n",
      "\u001b[1;32mC:\\ProgramData\\Anaconda3\\lib\\site-packages\\plotly\\express\\_core.py\u001b[0m in \u001b[0;36mmake_figure\u001b[1;34m(args, constructor, trace_patch, layout_patch)\u001b[0m\n\u001b[0;32m   1529\u001b[0m                 \u001b[0margs\u001b[0m\u001b[1;33m,\u001b[0m \u001b[0mtrace_spec\u001b[0m\u001b[1;33m,\u001b[0m \u001b[0mgroup\u001b[0m\u001b[1;33m,\u001b[0m \u001b[0mmapping_labels\u001b[0m\u001b[1;33m.\u001b[0m\u001b[0mcopy\u001b[0m\u001b[1;33m(\u001b[0m\u001b[1;33m)\u001b[0m\u001b[1;33m,\u001b[0m \u001b[0msizeref\u001b[0m\u001b[1;33m\u001b[0m\u001b[1;33m\u001b[0m\u001b[0m\n\u001b[0;32m   1530\u001b[0m             )\n\u001b[1;32m-> 1531\u001b[1;33m             \u001b[0mtrace\u001b[0m\u001b[1;33m.\u001b[0m\u001b[0mupdate\u001b[0m\u001b[1;33m(\u001b[0m\u001b[0mpatch\u001b[0m\u001b[1;33m)\u001b[0m\u001b[1;33m\u001b[0m\u001b[1;33m\u001b[0m\u001b[0m\n\u001b[0m\u001b[0;32m   1532\u001b[0m             \u001b[1;32mif\u001b[0m \u001b[0mfit_results\u001b[0m \u001b[1;32mis\u001b[0m \u001b[1;32mnot\u001b[0m \u001b[1;32mNone\u001b[0m\u001b[1;33m:\u001b[0m\u001b[1;33m\u001b[0m\u001b[1;33m\u001b[0m\u001b[0m\n\u001b[0;32m   1533\u001b[0m                 \u001b[0mtrendline_rows\u001b[0m\u001b[1;33m.\u001b[0m\u001b[0mappend\u001b[0m\u001b[1;33m(\u001b[0m\u001b[0mmapping_labels\u001b[0m\u001b[1;33m.\u001b[0m\u001b[0mcopy\u001b[0m\u001b[1;33m(\u001b[0m\u001b[1;33m)\u001b[0m\u001b[1;33m)\u001b[0m\u001b[1;33m\u001b[0m\u001b[1;33m\u001b[0m\u001b[0m\n",
      "\u001b[1;32mC:\\ProgramData\\Anaconda3\\lib\\site-packages\\plotly\\basedatatypes.py\u001b[0m in \u001b[0;36mupdate\u001b[1;34m(self, dict1, overwrite, **kwargs)\u001b[0m\n\u001b[0;32m   3697\u001b[0m                 \u001b[0mBaseFigure\u001b[0m\u001b[1;33m.\u001b[0m\u001b[0m_perform_update\u001b[0m\u001b[1;33m(\u001b[0m\u001b[0mself\u001b[0m\u001b[1;33m,\u001b[0m \u001b[0mkwargs\u001b[0m\u001b[1;33m,\u001b[0m \u001b[0moverwrite\u001b[0m\u001b[1;33m=\u001b[0m\u001b[0moverwrite\u001b[0m\u001b[1;33m)\u001b[0m\u001b[1;33m\u001b[0m\u001b[1;33m\u001b[0m\u001b[0m\n\u001b[0;32m   3698\u001b[0m         \u001b[1;32melse\u001b[0m\u001b[1;33m:\u001b[0m\u001b[1;33m\u001b[0m\u001b[1;33m\u001b[0m\u001b[0m\n\u001b[1;32m-> 3699\u001b[1;33m             \u001b[0mBaseFigure\u001b[0m\u001b[1;33m.\u001b[0m\u001b[0m_perform_update\u001b[0m\u001b[1;33m(\u001b[0m\u001b[0mself\u001b[0m\u001b[1;33m,\u001b[0m \u001b[0mdict1\u001b[0m\u001b[1;33m,\u001b[0m \u001b[0moverwrite\u001b[0m\u001b[1;33m=\u001b[0m\u001b[0moverwrite\u001b[0m\u001b[1;33m)\u001b[0m\u001b[1;33m\u001b[0m\u001b[1;33m\u001b[0m\u001b[0m\n\u001b[0m\u001b[0;32m   3700\u001b[0m             \u001b[0mBaseFigure\u001b[0m\u001b[1;33m.\u001b[0m\u001b[0m_perform_update\u001b[0m\u001b[1;33m(\u001b[0m\u001b[0mself\u001b[0m\u001b[1;33m,\u001b[0m \u001b[0mkwargs\u001b[0m\u001b[1;33m,\u001b[0m \u001b[0moverwrite\u001b[0m\u001b[1;33m=\u001b[0m\u001b[0moverwrite\u001b[0m\u001b[1;33m)\u001b[0m\u001b[1;33m\u001b[0m\u001b[1;33m\u001b[0m\u001b[0m\n\u001b[0;32m   3701\u001b[0m \u001b[1;33m\u001b[0m\u001b[0m\n",
      "\u001b[1;32mC:\\ProgramData\\Anaconda3\\lib\\site-packages\\plotly\\basedatatypes.py\u001b[0m in \u001b[0;36m_perform_update\u001b[1;34m(plotly_obj, update_obj, overwrite)\u001b[0m\n\u001b[0;32m   2917\u001b[0m                 \u001b[1;32melse\u001b[0m\u001b[1;33m:\u001b[0m\u001b[1;33m\u001b[0m\u001b[1;33m\u001b[0m\u001b[0m\n\u001b[0;32m   2918\u001b[0m                     \u001b[1;31m# Assign non-compound value\u001b[0m\u001b[1;33m\u001b[0m\u001b[1;33m\u001b[0m\u001b[1;33m\u001b[0m\u001b[0m\n\u001b[1;32m-> 2919\u001b[1;33m                     \u001b[0mplotly_obj\u001b[0m\u001b[1;33m[\u001b[0m\u001b[0mkey\u001b[0m\u001b[1;33m]\u001b[0m \u001b[1;33m=\u001b[0m \u001b[0mval\u001b[0m\u001b[1;33m\u001b[0m\u001b[1;33m\u001b[0m\u001b[0m\n\u001b[0m\u001b[0;32m   2920\u001b[0m \u001b[1;33m\u001b[0m\u001b[0m\n\u001b[0;32m   2921\u001b[0m         \u001b[1;32melif\u001b[0m \u001b[0misinstance\u001b[0m\u001b[1;33m(\u001b[0m\u001b[0mplotly_obj\u001b[0m\u001b[1;33m,\u001b[0m \u001b[0mtuple\u001b[0m\u001b[1;33m)\u001b[0m\u001b[1;33m:\u001b[0m\u001b[1;33m\u001b[0m\u001b[1;33m\u001b[0m\u001b[0m\n",
      "\u001b[1;32mC:\\ProgramData\\Anaconda3\\lib\\site-packages\\plotly\\basedatatypes.py\u001b[0m in \u001b[0;36m__setitem__\u001b[1;34m(self, prop, value)\u001b[0m\n\u001b[0;32m   3488\u001b[0m             \u001b[1;31m# ### Handle simple property ###\u001b[0m\u001b[1;33m\u001b[0m\u001b[1;33m\u001b[0m\u001b[1;33m\u001b[0m\u001b[0m\n\u001b[0;32m   3489\u001b[0m             \u001b[1;32melse\u001b[0m\u001b[1;33m:\u001b[0m\u001b[1;33m\u001b[0m\u001b[1;33m\u001b[0m\u001b[0m\n\u001b[1;32m-> 3490\u001b[1;33m                 \u001b[0mself\u001b[0m\u001b[1;33m.\u001b[0m\u001b[0m_set_prop\u001b[0m\u001b[1;33m(\u001b[0m\u001b[0mprop\u001b[0m\u001b[1;33m,\u001b[0m \u001b[0mvalue\u001b[0m\u001b[1;33m)\u001b[0m\u001b[1;33m\u001b[0m\u001b[1;33m\u001b[0m\u001b[0m\n\u001b[0m\u001b[0;32m   3491\u001b[0m \u001b[1;33m\u001b[0m\u001b[0m\n\u001b[0;32m   3492\u001b[0m         \u001b[1;31m# Handle non-scalar case\u001b[0m\u001b[1;33m\u001b[0m\u001b[1;33m\u001b[0m\u001b[1;33m\u001b[0m\u001b[0m\n",
      "\u001b[1;32mC:\\ProgramData\\Anaconda3\\lib\\site-packages\\plotly\\basedatatypes.py\u001b[0m in \u001b[0;36m_set_prop\u001b[1;34m(self, prop, val)\u001b[0m\n\u001b[0;32m   3770\u001b[0m         \u001b[0mvalidator\u001b[0m \u001b[1;33m=\u001b[0m \u001b[0mself\u001b[0m\u001b[1;33m.\u001b[0m\u001b[0m_validators\u001b[0m\u001b[1;33m.\u001b[0m\u001b[0mget\u001b[0m\u001b[1;33m(\u001b[0m\u001b[0mprop\u001b[0m\u001b[1;33m)\u001b[0m\u001b[1;33m\u001b[0m\u001b[1;33m\u001b[0m\u001b[0m\n\u001b[0;32m   3771\u001b[0m         \u001b[1;32mtry\u001b[0m\u001b[1;33m:\u001b[0m\u001b[1;33m\u001b[0m\u001b[1;33m\u001b[0m\u001b[0m\n\u001b[1;32m-> 3772\u001b[1;33m             \u001b[0mval\u001b[0m \u001b[1;33m=\u001b[0m \u001b[0mvalidator\u001b[0m\u001b[1;33m.\u001b[0m\u001b[0mvalidate_coerce\u001b[0m\u001b[1;33m(\u001b[0m\u001b[0mval\u001b[0m\u001b[1;33m)\u001b[0m\u001b[1;33m\u001b[0m\u001b[1;33m\u001b[0m\u001b[0m\n\u001b[0m\u001b[0;32m   3773\u001b[0m         \u001b[1;32mexcept\u001b[0m \u001b[0mValueError\u001b[0m \u001b[1;32mas\u001b[0m \u001b[0merr\u001b[0m\u001b[1;33m:\u001b[0m\u001b[1;33m\u001b[0m\u001b[1;33m\u001b[0m\u001b[0m\n\u001b[0;32m   3774\u001b[0m             \u001b[1;32mif\u001b[0m \u001b[0mself\u001b[0m\u001b[1;33m.\u001b[0m\u001b[0m_skip_invalid\u001b[0m\u001b[1;33m:\u001b[0m\u001b[1;33m\u001b[0m\u001b[1;33m\u001b[0m\u001b[0m\n",
      "\u001b[1;32mC:\\ProgramData\\Anaconda3\\lib\\site-packages\\_plotly_utils\\basevalidators.py\u001b[0m in \u001b[0;36mvalidate_coerce\u001b[1;34m(self, v)\u001b[0m\n\u001b[0;32m   1034\u001b[0m \u001b[1;33m\u001b[0m\u001b[0m\n\u001b[0;32m   1035\u001b[0m                 \u001b[1;31m# If not strict, let numpy cast elements to strings\u001b[0m\u001b[1;33m\u001b[0m\u001b[1;33m\u001b[0m\u001b[1;33m\u001b[0m\u001b[0m\n\u001b[1;32m-> 1036\u001b[1;33m                 \u001b[0mv\u001b[0m \u001b[1;33m=\u001b[0m \u001b[0mcopy_to_readonly_numpy_array\u001b[0m\u001b[1;33m(\u001b[0m\u001b[0mv\u001b[0m\u001b[1;33m,\u001b[0m \u001b[0mkind\u001b[0m\u001b[1;33m=\u001b[0m\u001b[1;34m\"U\"\u001b[0m\u001b[1;33m)\u001b[0m\u001b[1;33m\u001b[0m\u001b[1;33m\u001b[0m\u001b[0m\n\u001b[0m\u001b[0;32m   1037\u001b[0m \u001b[1;33m\u001b[0m\u001b[0m\n\u001b[0;32m   1038\u001b[0m                 \u001b[1;31m# Check no_blank\u001b[0m\u001b[1;33m\u001b[0m\u001b[1;33m\u001b[0m\u001b[1;33m\u001b[0m\u001b[0m\n",
      "\u001b[1;32mC:\\ProgramData\\Anaconda3\\lib\\site-packages\\_plotly_utils\\basevalidators.py\u001b[0m in \u001b[0;36mcopy_to_readonly_numpy_array\u001b[1;34m(v, kind, force_numeric)\u001b[0m\n\u001b[0;32m    123\u001b[0m             \u001b[1;31m# Convert to the default dtype for the first kind\u001b[0m\u001b[1;33m\u001b[0m\u001b[1;33m\u001b[0m\u001b[1;33m\u001b[0m\u001b[0m\n\u001b[0;32m    124\u001b[0m             \u001b[0mdtype\u001b[0m \u001b[1;33m=\u001b[0m \u001b[0mkind_default_dtypes\u001b[0m\u001b[1;33m.\u001b[0m\u001b[0mget\u001b[0m\u001b[1;33m(\u001b[0m\u001b[0mfirst_kind\u001b[0m\u001b[1;33m,\u001b[0m \u001b[1;32mNone\u001b[0m\u001b[1;33m)\u001b[0m\u001b[1;33m\u001b[0m\u001b[1;33m\u001b[0m\u001b[0m\n\u001b[1;32m--> 125\u001b[1;33m             \u001b[0mnew_v\u001b[0m \u001b[1;33m=\u001b[0m \u001b[0mnp\u001b[0m\u001b[1;33m.\u001b[0m\u001b[0mascontiguousarray\u001b[0m\u001b[1;33m(\u001b[0m\u001b[0mv\u001b[0m\u001b[1;33m.\u001b[0m\u001b[0mastype\u001b[0m\u001b[1;33m(\u001b[0m\u001b[0mdtype\u001b[0m\u001b[1;33m)\u001b[0m\u001b[1;33m)\u001b[0m\u001b[1;33m\u001b[0m\u001b[1;33m\u001b[0m\u001b[0m\n\u001b[0m\u001b[0;32m    126\u001b[0m         \u001b[1;32melse\u001b[0m\u001b[1;33m:\u001b[0m\u001b[1;33m\u001b[0m\u001b[1;33m\u001b[0m\u001b[0m\n\u001b[0;32m    127\u001b[0m             \u001b[1;31m# Either no kind was requested or requested kind is satisfied\u001b[0m\u001b[1;33m\u001b[0m\u001b[1;33m\u001b[0m\u001b[1;33m\u001b[0m\u001b[0m\n",
      "\u001b[1;31mKeyboardInterrupt\u001b[0m: "
     ]
    }
   ],
   "source": [
    "def location(row):\n",
    "    if row['Country/Region']=='China':\n",
    "        if row['Province/State']=='Hubei':\n",
    "            return 'Hubei'\n",
    "        else:\n",
    "            return 'Other Chinese Provinces'\n",
    "    else:\n",
    "        return 'Rest of the World'\n",
    "\n",
    "temp = full_table.copy()\n",
    "temp['Region'] = temp.apply(location, axis=1)\n",
    "temp['Date'] = temp['Date'].dt.strftime('%Y-%m-%d')\n",
    "temp = temp.groupby(['Region', 'Date'])['Confirmed', 'Deaths', 'Recovered'].sum().reset_index()\n",
    "temp = temp.melt(id_vars=['Region', 'Date'], value_vars=['Confirmed', 'Deaths', 'Recovered'], \n",
    "                 var_name='Case', value_name='Count').sort_values('Count')\n",
    "# temp = temp.sort_values(['Date', 'Region', 'Case']).reset_index()\n",
    "temp.head()\n",
    "\n",
    "fig = px.bar(temp, y='Region', x='Count', color='Case', barmode='group', orientation='h',\n",
    "             text='Count', title='Hubei - China - World', animation_frame='Date',\n",
    "             color_discrete_sequence= [dth, rec, cnf], range_x=[0, 70000])\n",
    "fig.update_traces(textposition='outside')\n",
    "# fig.update_layout(uniformtext_minsize=8, uniformtext_mode='hide')\n",
    "# fig.update_layout(yaxis={'categoryorder':'array', \n",
    "#                          'categoryarray':['Hubei','Other Chinese Provinces','Rest of the World']})\n",
    "fig.show()\n",
    "\n",
    "temp = full_latest.copy()\n",
    "temp['Region'] = temp.apply(location, axis=1)\n",
    "temp = temp.groupby('Region')['Confirmed', 'Deaths', 'Recovered'].sum().reset_index()\n",
    "temp = temp.melt(id_vars='Region', value_vars=['Confirmed', 'Deaths', 'Recovered'], \n",
    "                 var_name='Case', value_name='Count').sort_values('Count')\n",
    "temp.head()\n",
    "\n",
    "fig = px.bar(temp, y='Region', x='Count', color='Case', barmode='group', orientation='h',\n",
    "             text='Count', title='Hubei - China - World', \n",
    "             color_discrete_sequence= [dth, rec, cnf])\n",
    "fig.update_traces(textposition='outside')\n",
    "fig.update_layout(uniformtext_minsize=8, uniformtext_mode='hide')\n",
    "fig.show()"
   ]
  },
  {
   "cell_type": "markdown",
   "metadata": {},
   "source": [
    "## Country Wise"
   ]
  },
  {
   "cell_type": "code",
   "execution_count": null,
   "metadata": {},
   "outputs": [],
   "source": [
    "# converter\n",
    "from pandas.plotting import register_matplotlib_converters\n",
    "register_matplotlib_converters()   \n",
    "\n",
    "# hide warnings\n",
    "import warnings\n",
    "warnings.filterwarnings('ignore')\n",
    "\n",
    "temp = full_table.groupby(['Date', 'Country/Region'])['Confirmed'].sum()\n",
    "temp = temp.reset_index().sort_values(by=['Date', 'Country/Region'])\n",
    "# temp = temp[temp['Confirmed']>100]\n",
    "\n",
    "plt.style.use('seaborn')\n",
    "g = sns.FacetGrid(temp, col=\"Country/Region\", hue=\"Country/Region\", \n",
    "                  sharey=False, col_wrap=5)\n",
    "g = g.map(plt.plot, \"Date\", \"Confirmed\")\n",
    "g.set_xticklabels(rotation=90)\n",
    "plt.show()"
   ]
  },
  {
   "cell_type": "code",
   "execution_count": null,
   "metadata": {},
   "outputs": [],
   "source": [
    "temp = full_table.groupby(['Date', 'Country/Region'])['Confirmed'].sum().reset_index().sort_values('Confirmed', ascending=False)\n",
    "\n",
    "fig = px.line(temp, x=\"Date\", y=\"Confirmed\", color='Country/Region', title='Cases Spread', height=600)\n",
    "fig.update_layout(xaxis_rangeslider_visible=True)\n",
    "fig.show()"
   ]
  },
  {
   "cell_type": "code",
   "execution_count": null,
   "metadata": {},
   "outputs": [],
   "source": [
    "temp = full_table.groupby(['Date', 'Country/Region'])['Deaths'].sum().reset_index().sort_values('Deaths', ascending=False)\n",
    "\n",
    "fig = px.line(temp, x=\"Date\", y=\"Deaths\", color='Country/Region', title='Deaths', height=600)\n",
    "fig.update_layout(xaxis_rangeslider_visible=True)\n",
    "fig.show()"
   ]
  },
  {
   "cell_type": "code",
   "execution_count": null,
   "metadata": {},
   "outputs": [],
   "source": [
    "fig = px.scatter(full_latest_grouped.sort_values('Deaths', ascending=False).iloc[:15, :], \n",
    "                 x='Confirmed', y='Deaths', color='Country/Region', size='Confirmed', height=600,\n",
    "                 text='Country/Region', log_x=True, log_y=True, title='Deaths vs Confirmed')\n",
    "fig.update_traces(textposition='top center')\n",
    "fig.update_layout(xaxis_rangeslider_visible=True)\n",
    "fig.show()"
   ]
  },
  {
   "cell_type": "code",
   "execution_count": null,
   "metadata": {},
   "outputs": [],
   "source": [
    "temp = full_table.groupby('Date').sum().reset_index()\n",
    "\n",
    "temp = temp.melt(id_vars='Date', value_vars=['Active', 'Recovered'], \n",
    "                 var_name='Case', value_name='Value')\n",
    "\n",
    "fig = px.line(temp, x=\"Date\", y=\"Value\", color='Case',  \n",
    "              title='Active & Recovered cases', color_discrete_sequence=[dth, rec])\n",
    "fig.update_layout(xaxis_rangeslider_visible=True)\n",
    "fig.show()"
   ]
  },
  {
   "cell_type": "code",
   "execution_count": null,
   "metadata": {},
   "outputs": [],
   "source": []
  }
 ],
 "metadata": {
  "kernelspec": {
   "display_name": "Python 3",
   "language": "python",
   "name": "python3"
  },
  "language_info": {
   "codemirror_mode": {
    "name": "ipython",
    "version": 3
   },
   "file_extension": ".py",
   "mimetype": "text/x-python",
   "name": "python",
   "nbconvert_exporter": "python",
   "pygments_lexer": "ipython3",
   "version": "3.7.4"
  }
 },
 "nbformat": 4,
 "nbformat_minor": 2
}
